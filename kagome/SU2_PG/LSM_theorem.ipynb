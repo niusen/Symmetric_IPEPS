{
 "cells": [
  {
   "cell_type": "code",
   "execution_count": 65,
   "metadata": {},
   "outputs": [
    {
     "data": {
      "text/plain": [
       "try_ITEBD (generic function with 1 method)"
      ]
     },
     "metadata": {},
     "output_type": "display_data"
    }
   ],
   "source": [
    "using LinearAlgebra\n",
    "using TensorKit\n",
    "using KrylovKit\n",
    "using JSON\n",
    "using HDF5, JLD\n",
    "cd(\"D:\\\\My Documents\\\\Code\\\\Julia_codes\\\\Tensor network\\\\IPEPS_TensorKit\\\\kagome\\\\SU2_PG\")\n",
    "#push!(LOAD_PATH, \"D:\\\\My Documents\\\\Code\\\\Julia_codes\\\\Tensor network\\\\IPEPS_TensorKit\\\\kagome\\\\SU2_PG\")\n",
    "include(\"kagome_load_tensor.jl\")\n",
    "include(\"kagome_CTMRG.jl\")\n",
    "include(\"kagome_model.jl\")\n",
    "include(\"kagome_IPESS.jl\")\n",
    "include(\"mps_algorithms\\\\ITEBD_algorithms.jl\")\n",
    "include(\"mps_algorithms\\\\TransfOp_decomposition.jl\")\n",
    "include(\"mps_algorithms\\\\PUMPS_algorithms.jl\")\n",
    "include(\"mps_algorithms\\\\ES_preliminary.jl\")\n"
   ]
  },
  {
   "cell_type": "code",
   "execution_count": 59,
   "metadata": {},
   "outputs": [
    {
     "data": {
      "text/plain": [
       "(Rep[SU₂](0=>1, 1/2=>1) ⊗ Rep[SU₂](0=>1, 1/2=>1)' ⊗ Rep[SU₂](1/2=>1)') ← ProductSpace{GradedSpace{SU2Irrep, TensorKit.SortedVectorDict{SU2Irrep, Int64}}, 0}()"
      ]
     },
     "metadata": {},
     "output_type": "display_data"
    }
   ],
   "source": [
    "\n",
    "#mps_virtual=SU₂Space(0=>1,1/2=>1,1=>1,3/2=>1);mps_phy=SU₂Space(1/2=>1);\n",
    "mps_virtual=SU₂Space(0=>1,1/2=>1);mps_phy=SU₂Space(1/2=>1);\n",
    "A=TensorMap(randn, mps_virtual*mps_virtual', mps_phy);\n",
    "A=permute(A,(1,2,3,),())\n",
    "display(space(A))\n"
   ]
  },
  {
   "cell_type": "code",
   "execution_count": 4,
   "metadata": {},
   "outputs": [
    {
     "data": {
      "text/plain": [
       "HV_L_tensor (generic function with 1 method)"
      ]
     },
     "metadata": {},
     "output_type": "display_data"
    }
   ],
   "source": [
    "function HV_L_tensor(vl,A,mpo)\n",
    "    if mpo==[]\n",
    "        if numind(vl)==3\n",
    "            @tensor vl[:]:=vl[-1,3,1]*A'[3,-2,2]*A[1,-3,2];\n",
    "        elseif numind(vl)==2\n",
    "            @tensor vl[:]:=vl[3,1]*A'[3,-2,2]*A[1,-3,2];\n",
    "        end\n",
    "    else\n",
    "        if numind(vl)==5\n",
    "            @tensor vl[:]:=vl[-1,7,5,3,1]*A'[7,-2,6]*mpo'[5,6,-3,4]*mpo[3,2,-4,4]*A[1,-5,2];\n",
    "        elseif numind(vl)==4\n",
    "            @tensor vl[:]:=vl[7,5,3,1]*A'[7,-1,6]*mpo'[5,6,-2,4]*mpo[3,2,-3,4]*A[1,-4,2];\n",
    "        end\n",
    "    end\n",
    "    return vl\n",
    "end\n",
    "\n"
   ]
  },
  {
   "cell_type": "code",
   "execution_count": 62,
   "metadata": {},
   "outputs": [
    {
     "data": {
      "text/plain": [
       "2-element Vector{ComplexF64}:\n",
       " -0.9658071430077358 + 0.0im\n",
       "  0.9658071430077357 + 0.0im"
      ]
     },
     "metadata": {},
     "output_type": "display_data"
    },
    {
     "data": {
      "text/plain": [
       "2-element Vector{ComplexF64}:\n",
       " 3.469446951953614e-18 + 0.6829287801391757im\n",
       " 3.469446951953614e-18 - 0.6829287801391757im"
      ]
     },
     "metadata": {},
     "output_type": "display_data"
    },
    {
     "data": {
      "text/plain": [
       "1-element Vector{ComplexF64}:\n",
       " 0.0 + 0.0im"
      ]
     },
     "metadata": {},
     "output_type": "display_data"
    },
    {
     "data": {
      "text/plain": [
       "3-element Vector{ComplexF64}:\n",
       "  -3.2244798243011363 + 0.0im\n",
       "   -1.618049340888668 + 0.0im\n",
       " -0.15734120086973033 + 0.0im"
      ]
     },
     "metadata": {},
     "output_type": "display_data"
    },
    {
     "data": {
      "text/plain": [
       "2-element Vector{ComplexF64}:\n",
       "    1.8530140475885686 + 0.0im\n",
       " 2.220446049250313e-15 + 0.0im"
      ]
     },
     "metadata": {},
     "output_type": "display_data"
    },
    {
     "data": {
      "text/plain": [
       "\"Warn: dominant transfer matrix eigenvalue close to degenerate: 0.9999999999999999\""
      ]
     },
     "metadata": {},
     "output_type": "display_data"
    },
    {
     "name": "stderr",
     "output_type": "stream",
     "text": [
      "┌ Warning: Invariant subspace of dimension 1 (up to requested tolerance `tol = 1.0e-12`), which is smaller than the number of requested eigenvalues (i.e. `howmany == 2`); setting `howmany = 1`.\n",
      "└ @ KrylovKit C:\\Users\\Lenovo\\.julia\\packages\\KrylovKit\\YPiz7\\src\\eigsolve\\arnoldi.jl:176\n"
     ]
    }
   ],
   "source": [
    "HVfun1(x)=HV_L_tensor(x,A,[]);\n",
    "vl_init = permute(TensorMap(randn, space(A,1), space(A,1)), (1,2,),());# assume that the dominant eigenvector has total spin zero. If not, it will have three indeces and it's not Hermiitan.\n",
    "HVfun1(vl_init)\n",
    "eu,ev=eigsolve(HVfun1, vl_init, 2,:LM,Arnoldi());\n",
    "eu_S0=eu;\n",
    "@assert maximum(abs.(eu)) == abs(eu[1])\n",
    "eu=eu[1];\n",
    "ev=ev[1];\n",
    "display(eu_S0)\n",
    "\n",
    "eu_allspin=eu_S0;\n",
    "allspin=eu_S0*0;\n",
    "vl_init = permute(TensorMap(randn, SU₂Space(1/2=>1)⊗space(A,1), space(A,1)), (1,2,3,),());# assume that the dominant eigenvector has total spin zero. If not, it will have three indeces and it's not Hermiitan.\n",
    "if norm(vl_init)>0\n",
    "    eu_S0d5,_=eigsolve(HVfun1, vl_init, 2,:LM,Arnoldi());\n",
    "    eu_allspin=vcat(eu_allspin,eu_S0d5)\n",
    "    allspin=vcat(allspin,0*eu_S0d5.+0.5)\n",
    "end\n",
    "display(eu_S0d5)\n",
    "\n",
    "vl_init = permute(TensorMap(randn, SU₂Space(1=>1)⊗space(A,1), space(A,1)), (1,2,3,),());# assume that the dominant eigenvector has total spin zero. If not, it will have three indeces and it's not Hermiitan.\n",
    "if norm(vl_init)>0\n",
    "    eu_S1,_=eigsolve(HVfun1, vl_init, 2,:LM,Arnoldi());\n",
    "    eu_allspin=vcat(eu_allspin,eu_S1)\n",
    "    allspin=vcat(allspin,0*eu_S1.+1)\n",
    "end\n",
    "display(eu_S1)\n",
    "\n",
    "vl_init = permute(TensorMap(randn, SU₂Space(3/2=>1)⊗space(A,1), space(A,1)), (1,2,3,),());# assume that the dominant eigenvector has total spin zero. If not, it will have three indeces and it's not Hermiitan.\n",
    "if norm(vl_init)>0\n",
    "    eu_S1d5,_=eigsolve(HVfun1, vl_init, 2,:LM,Arnoldi());\n",
    "    eu_allspin=vcat(eu_allspin,eu_S1d5)\n",
    "    allspin=vcat(allspin,0*eu_S1d5.+1.5)\n",
    "end\n",
    "display(eu_S1d5)\n",
    "\n",
    "vl_init = permute(TensorMap(randn, SU₂Space(2=>1)⊗space(A,1), space(A,1)), (1,2,3,),());# assume that the dominant eigenvector has total spin zero. If not, it will have three indeces and it's not Hermiitan.\n",
    "if norm(vl_init)>0\n",
    "    eu_S2,_=eigsolve(HVfun1, vl_init, 2,:LM,Arnoldi());\n",
    "    eu_allspin=vcat(eu_allspin,eu_S2)\n",
    "    allspin=vcat(allspin,0*eu_S2.+2)\n",
    "end\n",
    "display(eu_S2)\n",
    "\n",
    "eu_allspin_abs=abs.(eu_allspin);\n",
    "@assert maximum(eu_allspin_abs)==eu_allspin_abs[1]\n",
    "\n",
    "eu_allspin_abs_sorted=sort(eu_allspin_abs,rev=true);\n",
    "eu_allspin_abs_sorted=eu_allspin_abs_sorted/eu_allspin_abs_sorted[1];\n",
    "allspin=allspin[sortperm(eu_allspin_abs,rev=true)]\n",
    "# display(eu_allspin_abs_sorted[2]/eu_allspin_abs_sorted[1])\n",
    "# display(eu_allspin_abs_sorted[1:4])\n",
    "# display(allspin[1:4])\n",
    "#@assert eu_allspin_abs_sorted[2]/eu_allspin_abs_sorted[1]<0.99\n",
    "if eu_allspin_abs_sorted[2]/eu_allspin_abs_sorted[1]>0.99\n",
    "    display(\"Warn: dominant transfer matrix eigenvalue close to degenerate: \"*string(eu_allspin_abs_sorted[2]/eu_allspin_abs_sorted[1]))\n",
    "end\n"
   ]
  },
  {
   "cell_type": "code",
   "execution_count": 68,
   "metadata": {},
   "outputs": [],
   "source": [
    "matwrite(\"LSM_theorem.mat\", Dict(\n",
    "    \"A\" => convert(Array,A)\n",
    "); compress = false)\n"
   ]
  },
  {
   "cell_type": "code",
   "execution_count": 66,
   "metadata": {},
   "outputs": [
    {
     "data": {
      "text/plain": [
       "2-element Vector{ComplexF64}:\n",
       " -0.9658071430077358 + 0.0im\n",
       "  0.9658071430077357 + 0.0im"
      ]
     },
     "metadata": {},
     "output_type": "display_data"
    },
    {
     "data": {
      "text/plain": [
       "1-element Vector{ComplexF64}:\n",
       " 0.932783437484767 + 0.0im"
      ]
     },
     "metadata": {},
     "output_type": "display_data"
    }
   ],
   "source": [
    "E=left_eigenvalue(A,A,2);\n",
    "display(E)\n",
    "@tensor AA[:]:=A[-1,1,-3]*A[1,-2,-4];\n",
    "UAA=unitary(fuse(mps_phy⊗mps_phy), mps_phy'⊗mps_phy');\n",
    "@tensor AA[:]:=AA[-1,-2,1,2]*UAA[-3,1,2]\n",
    "EE=left_eigenvalue(AA,AA,2);\n",
    "display(EE)\n"
   ]
  },
  {
   "cell_type": "code",
   "execution_count": 69,
   "metadata": {},
   "outputs": [
    {
     "data": {
      "text/plain": [
       "1-element Vector{ComplexF64}:\n",
       " 0.9327834374847673 + 0.0im"
      ]
     },
     "metadata": {},
     "output_type": "display_data"
    },
    {
     "data": {
      "text/plain": [
       "1-element Vector{ComplexF64}:\n",
       " -0.4663917187423829 + 0.0im"
      ]
     },
     "metadata": {},
     "output_type": "display_data"
    },
    {
     "data": {
      "text/plain": [
       "1-element Vector{ComplexF64}:\n",
       " 2.674144769472136e-16 + 0.0im"
      ]
     },
     "metadata": {},
     "output_type": "display_data"
    },
    {
     "data": {
      "text/plain": [
       "3-element Vector{ComplexF64}:\n",
       "  -3.2244798243011363 + 0.0im\n",
       "   -1.618049340888668 + 0.0im\n",
       " -0.15734120086973033 + 0.0im"
      ]
     },
     "metadata": {},
     "output_type": "display_data"
    },
    {
     "data": {
      "text/plain": [
       "2-element Vector{ComplexF64}:\n",
       "    1.8530140475885686 + 0.0im\n",
       " 2.220446049250313e-15 + 0.0im"
      ]
     },
     "metadata": {},
     "output_type": "display_data"
    },
    {
     "name": "stderr",
     "output_type": "stream",
     "text": [
      "┌ Warning: Invariant subspace of dimension 1 (up to requested tolerance `tol = 1.0e-12`), which is smaller than the number of requested eigenvalues (i.e. `howmany == 20`); setting `howmany = 1`.\n",
      "└ @ KrylovKit C:\\Users\\Lenovo\\.julia\\packages\\KrylovKit\\YPiz7\\src\\eigsolve\\arnoldi.jl:176\n",
      "┌ Warning: Invariant subspace of dimension 1 (up to requested tolerance `tol = 1.0e-12`), which is smaller than the number of requested eigenvalues (i.e. `howmany == 20`); setting `howmany = 1`.\n",
      "└ @ KrylovKit C:\\Users\\Lenovo\\.julia\\packages\\KrylovKit\\YPiz7\\src\\eigsolve\\arnoldi.jl:176\n",
      "┌ Warning: Invariant subspace of dimension 1 (up to requested tolerance `tol = 1.0e-12`), which is smaller than the number of requested eigenvalues (i.e. `howmany == 20`); setting `howmany = 1`.\n",
      "└ @ KrylovKit C:\\Users\\Lenovo\\.julia\\packages\\KrylovKit\\YPiz7\\src\\eigsolve\\arnoldi.jl:176\n"
     ]
    }
   ],
   "source": [
    "HVfun1(x)=HV_L_tensor(x,AA,[]);\n",
    "vl_init = permute(TensorMap(randn, space(AA,1), space(AA,1)), (1,2,),());# assume that the dominant eigenvector has total spin zero. If not, it will have three indeces and it's not Hermiitan.\n",
    "HVfun1(vl_init)\n",
    "eu,ev=eigsolve(HVfun1, vl_init, 20,:LM,Arnoldi());\n",
    "eu_S0=eu;\n",
    "@assert maximum(abs.(eu)) == abs(eu[1])\n",
    "eu=eu[1];\n",
    "ev=ev[1];\n",
    "display(eu_S0)\n",
    "\n",
    "eu_allspin=eu_S0;\n",
    "allspin=eu_S0*0;\n",
    "vl_init = permute(TensorMap(randn, SU₂Space(1/2=>1)⊗space(AA,1), space(AA,1)), (1,2,3,),());# assume that the dominant eigenvector has total spin zero. If not, it will have three indeces and it's not Hermiitan.\n",
    "if norm(vl_init)>0\n",
    "    eu_S0d5,_=eigsolve(HVfun1, vl_init, 20,:LM,Arnoldi());\n",
    "    eu_allspin=vcat(eu_allspin,eu_S0d5)\n",
    "    allspin=vcat(allspin,0*eu_S0d5.+0.5)\n",
    "end\n",
    "display(eu_S0d5)\n",
    "\n",
    "vl_init = permute(TensorMap(randn, SU₂Space(1=>1)⊗space(AA,1), space(AA,1)), (1,2,3,),());# assume that the dominant eigenvector has total spin zero. If not, it will have three indeces and it's not Hermiitan.\n",
    "if norm(vl_init)>0\n",
    "    eu_S1,_=eigsolve(HVfun1, vl_init, 20,:LM,Arnoldi());\n",
    "    eu_allspin=vcat(eu_allspin,eu_S1)\n",
    "    allspin=vcat(allspin,0*eu_S1.+1)\n",
    "end\n",
    "display(eu_S1)\n",
    "\n",
    "vl_init = permute(TensorMap(randn, SU₂Space(3/2=>1)⊗space(AA,1), space(AA,1)), (1,2,3,),());# assume that the dominant eigenvector has total spin zero. If not, it will have three indeces and it's not Hermiitan.\n",
    "if norm(vl_init)>0\n",
    "    eu_S1d5,_=eigsolve(HVfun1, vl_init, 20,:LM,Arnoldi());\n",
    "    eu_allspin=vcat(eu_allspin,eu_S1d5)\n",
    "    allspin=vcat(allspin,0*eu_S1d5.+1.5)\n",
    "end\n",
    "display(eu_S1d5)\n",
    "\n",
    "vl_init = permute(TensorMap(randn, SU₂Space(2=>1)⊗space(AA,1), space(AA,1)), (1,2,3,),());# assume that the dominant eigenvector has total spin zero. If not, it will have three indeces and it's not Hermiitan.\n",
    "if norm(vl_init)>0\n",
    "    eu_S2,_=eigsolve(HVfun1, vl_init, 20,:LM,Arnoldi());\n",
    "    eu_allspin=vcat(eu_allspin,eu_S2)\n",
    "    allspin=vcat(allspin,0*eu_S2.+2)\n",
    "end\n",
    "display(eu_S2)\n"
   ]
  },
  {
   "cell_type": "code",
   "execution_count": 70,
   "metadata": {},
   "outputs": [
    {
     "data": {
      "text/plain": [
       "\"The Lanczos algorithm can't get degenerate eigenvalue, because in the degenerate subspace the matrix is identity. Imagine given an identity matrix, you act on a vector and the vector does't change.\""
      ]
     },
     "metadata": {},
     "output_type": "display_data"
    }
   ],
   "source": [
    "\"The Lanczos algorithm can't get degenerate eigenvalue, because in the degenerate subspace the matrix is identity. Imagine given an identity matrix, you act on a vector and the vector does't change.\" "
   ]
  },
  {
   "cell_type": "code",
   "execution_count": 72,
   "metadata": {},
   "outputs": [
    {
     "data": {
      "text/plain": [
       "3×3×2 Array{Float64, 3}:\n",
       "[:, :, 1] =\n",
       "  0.0       0.0  1.02157\n",
       " -0.668511  0.0  0.0\n",
       "  0.0       0.0  0.0\n",
       "\n",
       "[:, :, 2] =\n",
       "  0.0       -1.02157  0.0\n",
       "  0.0        0.0      0.0\n",
       " -0.668511   0.0      0.0"
      ]
     },
     "metadata": {},
     "output_type": "display_data"
    }
   ],
   "source": [
    "convert(Array, A)"
   ]
  },
  {
   "cell_type": "code",
   "execution_count": null,
   "metadata": {},
   "outputs": [],
   "source": [
    "decomposition: A[1,2:3,:], A[2:3,1,:], leads to two-sites unitcell\n"
   ]
  },
  {
   "cell_type": "code",
   "execution_count": 75,
   "metadata": {},
   "outputs": [
    {
     "data": {
      "text/plain": [
       "1-element Vector{ComplexF64}:\n",
       " 1.0 + 0.0im"
      ]
     },
     "metadata": {},
     "output_type": "display_data"
    },
    {
     "name": "stderr",
     "output_type": "stream",
     "text": [
      "┌ Warning: Invariant subspace of dimension 1 (up to requested tolerance `tol = 1.0e-12`), which is smaller than the number of requested eigenvalues (i.e. `howmany == 3`); setting `howmany = 1`.\n",
      "└ @ KrylovKit C:\\Users\\Lenovo\\.julia\\packages\\KrylovKit\\YPiz7\\src\\eigsolve\\arnoldi.jl:176\n"
     ]
    }
   ],
   "source": [
    "#show that the algorithm can't get degeneracy\n",
    "function mx(x)\n",
    "    return x;\n",
    "end\n",
    "idfun(x)=mx(x);\n",
    "v0 = randn(3)\n",
    "\n",
    "eu,ev=eigsolve(idfun, v0, 3,:LM,Arnoldi());\n",
    "display(eu)\n",
    "#to get degeneracy, the package should support providing more than one initial vector...\n"
   ]
  }
 ],
 "metadata": {
  "kernelspec": {
   "display_name": "Julia 1.7.2",
   "language": "julia",
   "name": "julia-1.7"
  },
  "language_info": {
   "file_extension": ".jl",
   "mimetype": "application/julia",
   "name": "julia",
   "version": "1.7.2"
  },
  "orig_nbformat": 4
 },
 "nbformat": 4,
 "nbformat_minor": 2
}
