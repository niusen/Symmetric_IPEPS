{
 "cells": [
  {
   "cell_type": "code",
   "execution_count": 166,
   "metadata": {},
   "outputs": [],
   "source": [
    "using LinearAlgebra\n",
    "using TensorKit\n",
    "using KrylovKit\n",
    "using JSON\n",
    "using HDF5, JLD\n",
    "cd(\"D:\\\\My Documents\\\\Code\\\\Julia_codes\\\\Tensor network\\\\IPEPS_TensorKit\\\\kagome\\\\SU2_PG\")\n",
    "#push!(LOAD_PATH, \"D:\\\\My Documents\\\\Code\\\\Julia_codes\\\\Tensor network\\\\IPEPS_TensorKit\\\\kagome\\\\SU2_PG\")\n",
    "include(\"kagome_load_tensor.jl\")\n",
    "include(\"kagome_CTMRG.jl\")\n",
    "include(\"kagome_model.jl\")\n",
    "include(\"kagome_IPESS.jl\")\n",
    "\n",
    "D=6;\n",
    "chi=5;\n",
    "W=10;\n",
    "N=6;\n",
    "tol=1e-6;\n",
    "\n",
    "Dtrun=W*W*chi*chi;\n",
    "\n",
    "pow=Int((N-2)/2);\n",
    "\n",
    "J1=1;\n",
    "J2=0;\n",
    "J3=0;\n",
    "Jchi=0;\n",
    "Jtrip=0;\n"
   ]
  },
  {
   "cell_type": "code",
   "execution_count": 167,
   "metadata": {},
   "outputs": [
    {
     "data": {
      "text/plain": [
       "\"initialize CTM\""
      ]
     },
     "metadata": {},
     "output_type": "display_data"
    },
    {
     "data": {
      "text/plain": [
       "\"start CTM iterations:\""
      ]
     },
     "metadata": {},
     "output_type": "display_data"
    },
    {
     "name": "stdout",
     "output_type": "stream",
     "text": [
      "  0.342428 seconds (678.42 k allocations: 69.262 MiB, 24.19% compilation time)\n",
      "CTMRG iteration: 1, CTMRG err: 1.1502521239562251\n",
      "CTMRG iteration: 2, CTMRG err: 0.010832246339709029\n",
      "CTMRG iteration: 3, CTMRG err: 0.0009922670013661206\n",
      "CTMRG iteration: 4, CTMRG err: 0.0006527577635839776\n",
      "CTMRG iteration: 5, CTMRG err: 0.00018734167219991438\n",
      "CTMRG iteration: 6, CTMRG err: 7.165737033032471e-5\n",
      "CTMRG iteration: 7, CTMRG err: 3.049804770288711e-5\n",
      "CTMRG iteration: 8, CTMRG err: 1.3703769502104723e-5\n",
      "CTMRG iteration: 9, CTMRG err: 6.16076268211696e-6\n",
      "CTMRG iteration: 10, CTMRG err: 2.786436377688606e-6\n",
      "CTMRG iteration: 11, CTMRG err: 1.2619026413807077e-6\n",
      "CTMRG iteration: 12, CTMRG err: 5.719815936999773e-7\n",
      "  2.851950 seconds (7.71 M allocations: 712.063 MiB, 5.43% gc time, 35.13% compilation time)\n",
      "  2.747652 seconds (5.36 M allocations: 561.303 MiB, 7.69% gc time, 55.08% compilation time)\n",
      "  1.061366 seconds (3.73 M allocations: 477.091 MiB, 10.34% gc time, 20.14% compilation time)\n"
     ]
    }
   ],
   "source": [
    "\n",
    "parameters=Dict([(\"J1\", J1), (\"J2\", J2), (\"J3\", J3), (\"Jchi\", Jchi), (\"Jtrip\", Jtrip)]);\n",
    "\n",
    "A_set,B_set,A1_set,A2_set, A_set_occu,B_set_occu,A1_set_occu,A2_set_occu, S_label, Sz_label, virtual_particle, Va, Vb=construct_tensor(D);\n",
    "\n",
    "filenm=\"LS_D_\"*string(D)*\"_chi_40.json\"\n",
    "json_dict=read_json_state(filenm);\n",
    "\n",
    "bond_tensor,triangle_tensor=construct_su2_PG_IPESS(json_dict,A_set,B_set,A1_set,A2_set, A_set_occu,B_set_occu,A1_set_occu,A2_set_occu, S_label, Sz_label, virtual_particle, Va, Vb);\n",
    "\n",
    "PEPS_tensor=bond_tensor;\n",
    "@tensor PEPS_tensor[:] := bond_tensor[-1,1,-5]*bond_tensor[4,3,-6]*bond_tensor[-4,2,-7]*triangle_tensor[1,3,2]*triangle_tensor[4,-2,-3];\n",
    "A_unfused=PEPS_tensor;\n",
    "\n",
    "U_phy=unitary(fuse(space(PEPS_tensor, 5) ⊗ space(PEPS_tensor, 6) ⊗ space(PEPS_tensor, 7)), space(PEPS_tensor, 5) ⊗ space(PEPS_tensor, 6) ⊗ space(PEPS_tensor, 7));\n",
    "@tensor A_fused[:] :=PEPS_tensor[-1,-2,-3,-4,1,2,3]*U_phy[-5,1,2,3];\n",
    "\n",
    "init=Dict([(\"CTM\", []), (\"init_type\", \"PBC\")]);\n",
    "conv_check=\"singular_value\";\n",
    "@time CTM, AA_fused, U_L,U_D,U_R,U_U=CTMRG(A_fused,chi,conv_check,tol,init);\n",
    "\n",
    "@time E_up, E_down=evaluate_ob(parameters, U_phy, A_unfused, A_fused, AA_fused, CTM, \"E_triangle\");\n",
    "@time E_up_12, E_up_31, E_up_23, E_down_12, E_down_31, E_down_23=evaluate_ob(parameters, U_phy, A_unfused, A_fused, AA_fused, CTM, \"E_bond\");\n"
   ]
  },
  {
   "cell_type": "code",
   "execution_count": 168,
   "metadata": {},
   "outputs": [
    {
     "data": {
      "text/plain": [
       "-0.4269686722695194 + 2.3536858397074248e-17im"
      ]
     },
     "metadata": {},
     "output_type": "display_data"
    }
   ],
   "source": [
    "display((E_up+E_down)/3)\n",
    "Tleft=CTM[\"Tset\"][4];\n",
    "Tright=CTM[\"Tset\"][2];\n",
    "\n",
    "@tensor O1[:]:=Tleft[-3,1,-1]*U_L[1,-2,-4];\n",
    "@tensor O2[:]:=Tright[-1,1,-3]*U_R[-4,-2,1];\n"
   ]
  },
  {
   "cell_type": "code",
   "execution_count": 169,
   "metadata": {},
   "outputs": [
    {
     "data": {
      "text/plain": [
       "left_eigenvalue (generic function with 1 method)"
      ]
     },
     "metadata": {},
     "output_type": "display_data"
    }
   ],
   "source": [
    "function HV_L_tensor(vl,A,mpo)\n",
    "    if mpo==[]\n",
    "        if numind(vl)==3\n",
    "            @tensor vl[:]:=vl[-1,3,1]*A'[3,-2,2]*A[1,-3,2];\n",
    "        elseif numind(vl)==2\n",
    "            @tensor vl[:]:=vl[3,1]*A'[3,-2,2]*A[1,-3,2];\n",
    "        end\n",
    "    else\n",
    "        if numind(vl)==5\n",
    "            @tensor vl[:]:=vl[-1,7,5,3,1]*A'[7,-2,6]*mpo'[5,6,-3,4]*mpo[3,2,-4,4]*A[1,-5,2];\n",
    "        elseif numind(vl)==4\n",
    "            @tensor vl[:]:=vl[7,5,3,1]*A'[7,-1,6]*mpo'[5,6,-2,4]*mpo[3,2,-3,4]*A[1,-4,2];\n",
    "        end\n",
    "    end\n",
    "    return vl\n",
    "end\n",
    "\n",
    "function HV_R_tensor(vr,A,mpo)\n",
    "    if mpo==[]\n",
    "        if numind(vr)==3\n",
    "            @tensor vr[:]:=A'[-1,1,2]*A[-2,3,2]*vr[1,3,-3];\n",
    "        elseif numind(vr)==2\n",
    "            @tensor vr[:]:=A'[-1,1,2]*A[-2,3,2]*vr[1,3];\n",
    "        end\n",
    "    else\n",
    "        if numind(vr)==5\n",
    "            @tensor vr[:]:=A'[-1,7,6]*mpo'[-2,6,5,4]*mpo[-3,2,3,4]*A[-4,1,2]*vr[7,5,3,1,-5];\n",
    "        elseif numind(vr)==4\n",
    "            @tensor vr[:]:=A'[-1,7,6]*mpo'[-2,6,5,4]*mpo[-3,2,3,4]*A[-4,1,2]*vr[7,5,3,1];\n",
    "        end\n",
    "    end\n",
    "    return vr\n",
    "end\n",
    "\n",
    "function left_eigenvector(A,mpo,type)\n",
    "\n",
    "    if type==\"A\"\n",
    "        HVfun1(x)=HV_L_tensor(x,A,[]);\n",
    "        vl_init = permute(TensorMap(randn, space(A,1), space(A,1)), (1,2,),());# assume that the dominant eigenvector has total spin zero. If not, it will have three indeces and it's not Hermiitan.\n",
    "        eu,ev=eigsolve(HVfun1, vl_init, 1,:LM,Arnoldi());\n",
    "        @assert maximum(abs.(eu)) == abs(eu[1])\n",
    "        eu=eu[1];\n",
    "        ev=ev[1];\n",
    "        return ev,eu\n",
    "    elseif type==\"mpo_A\"\n",
    "        HVfun2(x)=HV_L_tensor(x,A,mpo);\n",
    "        vl_init = permute(TensorMap(randn, space(A,1)*space(mpo,1),space(mpo,1)*space(A,1)), (1,2,3,4,),());# assume that the dominant eigenvector has total spin zero. If not, it will have three indeces and it's not Hermiitan.\n",
    "        eu,ev=eigsolve(HVfun2, vl_init, 1,:LM,Arnoldi());\n",
    "        @assert maximum(abs.(eu)) == abs(eu[1])\n",
    "        eu=eu[1];\n",
    "        ev=ev[1];\n",
    "        return ev,eu\n",
    "    end\n",
    "end\n",
    "\n",
    "function right_eigenvector(A,mpo,type)\n",
    "\n",
    "    if type==\"A\"\n",
    "        HVfun1(x)=HV_R_tensor(x,A,[]);\n",
    "        vr_init = permute(TensorMap(randn, space(A,2), space(A,2)), (1,2,),());# assume that the dominant eigenvector has total spin zero. If not, it will have three indeces and it's not Hermiitan.\n",
    "        eu,ev=eigsolve(HVfun1, vr_init, 1,:LM,Arnoldi());\n",
    "        @assert maximum(abs.(eu)) == abs(eu[1])\n",
    "        eu=eu[1];\n",
    "        ev=ev[1];\n",
    "        return ev,eu\n",
    "    elseif type==\"mpo_A\"\n",
    "        HVfun2(x)=HV_R_tensor(x,A,mpo);\n",
    "        vr_init = permute(TensorMap(randn, space(A,2)*space(mpo,3),space(mpo,3)*space(A,2)), (1,2,3,4,),());# assume that the dominant eigenvector has total spin zero. If not, it will have three indeces and it's not Hermiitan.\n",
    "        eu,ev=eigsolve(HVfun2, vr_init, 1,:LM,Arnoldi());\n",
    "        @assert maximum(abs.(eu)) == abs(eu[1])\n",
    "        eu=eu[1];\n",
    "        ev=ev[1];\n",
    "        return ev,eu\n",
    "    end\n",
    "end\n",
    "\n",
    "\n",
    "\n",
    "function left_eigenvalue(A1,A2,n)\n",
    "    function HV_L_A1A2(vl,A1,A2)\n",
    "        if numind(vl)==3\n",
    "            @tensor vl[:]:=vl[-1,3,1]*A1'[3,-2,2]*A2[1,-3,2];\n",
    "        elseif numind(vl)==2\n",
    "            @tensor vl[:]:=vl[3,1]*A1'[3,-2,2]*A2[1,-3,2];\n",
    "        end\n",
    "    return vl\n",
    "    end\n",
    "    HVA1A2fun(x)=HV_L_A1A2(x,A1,A2);\n",
    "    vl_init = permute(TensorMap(randn, space(A1,1), space(A2,1)), (1,2,),());# assume that the dominant eigenvector has total spin zero. If not, it will have three indeces and it's not Hermiitan.\n",
    "    eu,ev=eigsolve(HVA1A2fun, vl_init, 1,:LM,Arnoldi());\n",
    "    @assert maximum(abs.(eu)) == abs(eu[1])\n",
    "    eu=eu[1:n];\n",
    "    return eu\n",
    "end"
   ]
  },
  {
   "cell_type": "code",
   "execution_count": 170,
   "metadata": {},
   "outputs": [
    {
     "data": {
      "text/plain": [
       "impo_imps (generic function with 1 method)"
      ]
     },
     "metadata": {},
     "output_type": "display_data"
    }
   ],
   "source": [
    "function impo_imps(mpo,A)\n",
    "    unitary_mpo_A=unitary(fuse(space(mpo,1)⊗space(A,1)), space(mpo,1)⊗space(A,1));\n",
    "    @tensor mpo_A[:]:=unitary_mpo_A[-1,2,1]*mpo[2,3,4,-3]*A[1,5,3]*unitary_mpo_A'[4,5,-2];\n",
    "    return mpo_A\n",
    "end"
   ]
  },
  {
   "cell_type": "code",
   "execution_count": 171,
   "metadata": {},
   "outputs": [
    {
     "data": {
      "text/plain": [
       "itebd_ite (generic function with 1 method)"
      ]
     },
     "metadata": {},
     "output_type": "display_data"
    }
   ],
   "source": [
    "function itebd_ite(mpo,A,W,type)\n",
    "    if type==\"A\"\n",
    "        mpo_A=impo_imps(mpo,A);\n",
    "        vl,_=left_eigenvector(mpo_A,[],\"A\");\n",
    "        eu,ev=eig(permute(vl,(1,),(2,)));\n",
    "        unitary_L=sqrt(eu)*ev';\n",
    "        unitary_R=ev*pinv(sqrt(eu));\n",
    "        @tensor AL[:]:=unitary_L[-1,1]*mpo_A[1,2,-3]*unitary_R[2,-2];\n",
    "    elseif type==\"mpo_A\"\n",
    "        vl,_=left_eigenvector(A,mpo,\"mpo_A\");\n",
    "        eu,ev=eig(permute(vl,(2,1,),(3,4,)));\n",
    "        unitary_L=sqrt(eu)*ev';\n",
    "        unitary_R=ev*pinv(sqrt(eu));\n",
    "        @tensor AL[:]:=unitary_L[-1,2,1]*mpo[2,3,4,-3]*A[1,5,3]*unitary_R[4,5,-2];\n",
    "    end\n",
    "\n",
    "    vr,_=right_eigenvector(AL,[],\"A\");\n",
    "\n",
    "    U,S,_=tsvd(permute(vr,(1,),(2,)),trunc=truncdim(W));\n",
    "    #display(diag(convert(Array,S)))\n",
    "    @tensor A_trun[:]:=U[1,-1]*AL[1,2,-3]*U'[-2,2];\n",
    "\n",
    "    return A_trun\n",
    "end\n"
   ]
  },
  {
   "cell_type": "code",
   "execution_count": 172,
   "metadata": {},
   "outputs": [
    {
     "data": {
      "text/plain": [
       "left_right_normalize (generic function with 1 method)"
      ]
     },
     "metadata": {},
     "output_type": "display_data"
    }
   ],
   "source": [
    "function left_right_normalize(A)\n",
    "    #left normalize\n",
    "    vl,_=left_eigenvector(A,[],\"A\");\n",
    "    eu,ev=eig(permute(vl,(1,),(2,)));\n",
    "    unitary_L=sqrt(eu)*ev';\n",
    "    unitary_R=ev*pinv(sqrt(eu));\n",
    "    @tensor AL[:]:=unitary_L[-1,1]*A[1,2,-3]*unitary_R[2,-2];\n",
    "    #transform right fixed point to be diagonal\n",
    "    vr,eu=right_eigenvector(AL,[],\"A\");\n",
    "    U,S,_=tsvd(permute(vr,(1,),(2,)));\n",
    "    @tensor AL[:]:=U[1,-1]*AL[1,2,-3]*U'[-2,2];\n",
    "    AL=AL/sqrt(eu);\n",
    "    return AL\n",
    "end\n"
   ]
  },
  {
   "cell_type": "code",
   "execution_count": 173,
   "metadata": {},
   "outputs": [],
   "source": [
    "\n"
   ]
  },
  {
   "cell_type": "code",
   "execution_count": 174,
   "metadata": {},
   "outputs": [
    {
     "data": {
      "text/plain": [
       "ITEBD_boundary_groundstate (generic function with 1 method)"
      ]
     },
     "metadata": {},
     "output_type": "display_data"
    }
   ],
   "source": [
    "function ITEBD_boundary_groundstate(O1,O2,W,A_init,method)\n",
    "# ITEBD_boundary_groundstate(O1,O2,D,inv_tol):\n",
    "    #use power method to obtain dominant boundary imps of nonhermitian MPO\n",
    "    if method==\"OO\"\n",
    "        @tensor OO[:]:=O1[-2,-3,-5,1]*O2[-1,1,-4,-6];\n",
    "        U_fuse_chichi=unitary(fuse(space(OO,1)⊗ space(OO,2)),space(OO,1)⊗ space(OO,2));\n",
    "        @tensor OO[:]:=U_fuse_chichi[-1,1,2]*OO[1,2,-2,3,4,-4]*U_fuse_chichi'[3,4,-3];\n",
    "    end\n",
    "    #Initial state\n",
    "    if A_init==[]\n",
    "        mps_virtual=SU₂Space(0=>1,1/2=>1,1=>1);mps_phy=space(O1,2);\n",
    "        A_init=permute(TensorMap(randn, mps_virtual*mps_virtual', mps_phy),(1,2,3,),());\n",
    "    else \n",
    "    end\n",
    "    AL=left_right_normalize(A_init);\n",
    "    \n",
    "    for cp=1:30\n",
    "        AL_old=AL;\n",
    "        @time if method==\"O_O\"\n",
    "            A_trun_intermed=itebd_ite(O1,AL,3*W,\"mpo_A\");\n",
    "            A_trun=itebd_ite(O2,A_trun_intermed,W,\"mpo_A\");\n",
    "            AL=left_right_normalize(A_trun);\n",
    "        elseif method==\"OO\"\n",
    "            A_trun=itebd_ite(OO,AL,W,\"mpo_A\");#this \"mpo_A\" option is slightly faster when bond dimension is large\n",
    "        end\n",
    "        AL=left_right_normalize(A_trun);\n",
    "\n",
    "        # vv,ee=right_eigenvector(AL,[],\"A\");\n",
    "        # display(ee)\n",
    "        # u,s,v=tsvd(permute(vv,(1,),(2,)));\n",
    "        # display(sort(diag(convert(Array,s)),rev=true))\n",
    "        \n",
    "        #dominant eigenvalue of transfer matrix\n",
    "        E=left_eigenvalue(impo_imps(O2,impo_imps(O1,AL)),AL,1)[1]\n",
    "        ov=abs(left_eigenvalue(AL,AL_old,1)[1]);\n",
    "        println(\"E=\"*string(E)*\", \"*\"ov=\"*string(ov))\n",
    "        if abs(ov-1)<1e-8\n",
    "            break\n",
    "        end\n",
    "    \n",
    "    end\n",
    "    return AL,A_init\n",
    "end"
   ]
  },
  {
   "cell_type": "code",
   "execution_count": 175,
   "metadata": {},
   "outputs": [],
   "source": [
    "mps_virtual=SU₂Space(0=>1,1/2=>1,1=>1);mps_phy=space(O1,2);\n",
    "A_init=permute(TensorMap(randn, mps_virtual*mps_virtual', mps_phy),(1,2,3,),());\n",
    "\n"
   ]
  },
  {
   "cell_type": "code",
   "execution_count": 176,
   "metadata": {},
   "outputs": [],
   "source": [
    "#Ag,A_init=ITEBD_boundary_groundstate(O1,O2,W,A_init,\"OO\");\n"
   ]
  },
  {
   "cell_type": "code",
   "execution_count": 177,
   "metadata": {},
   "outputs": [
    {
     "name": "stdout",
     "output_type": "stream",
     "text": [
      "  1.204511 seconds (4.12 M allocations: 258.514 MiB, 8.85% gc time, 78.44% compilation time)\n",
      "E=0.1530650490409543 + 0.004715588332468271im, ov=0.4352098023230009\n",
      "  0.175798 seconds (923.34 k allocations: 83.464 MiB, 17.86% compilation time)\n",
      "E=0.15673978933839983 + 0.0017234241084421176im, ov=0.9924292631481638\n",
      "  0.142840 seconds (830.90 k allocations: 73.451 MiB)\n",
      "E=0.15739718107944875 + 0.000708861155094484im, ov=0.9989815693667304\n",
      "  0.146970 seconds (828.27 k allocations: 73.149 MiB)\n",
      "E=0.15760477918177818 + 0.00038155404704064144im, ov=0.9997594649302831\n",
      "  0.142131 seconds (828.27 k allocations: 73.149 MiB)\n",
      "E=0.15769072891364075 + 0.00026925442218274365im, ov=0.999880559732363\n",
      "  0.280092 seconds (829.83 k allocations: 73.322 MiB, 47.06% gc time)\n",
      "E=0.1577286483849104 + 0.0002166198810137493im, ov=0.9999145169113665\n",
      "  0.132558 seconds (828.27 k allocations: 73.149 MiB)\n",
      "E=0.15774405987788576 + 0.00017665608215103323im, ov=0.9999370236300039\n",
      "  0.141200 seconds (831.39 k allocations: 73.496 MiB)\n",
      "E=0.15774907899468676 + 0.00014135233722832596im, ov=0.9999592773872958\n",
      "  0.142164 seconds (828.27 k allocations: 73.149 MiB)\n",
      "E=0.15775080053399673 + 0.00011032418848086478im, ov=0.9999759814515455\n",
      "  0.144523 seconds (831.40 k allocations: 73.496 MiB)\n",
      "E=0.15775182734355028 + 8.4228417664034e-5im, ov=0.9999866264705953\n",
      "  0.141777 seconds (828.26 k allocations: 73.148 MiB)\n",
      "E=0.15775282094448664 + 6.319689939236761e-5im, ov=0.9999928341956523\n",
      "  0.143740 seconds (828.27 k allocations: 73.149 MiB)\n",
      "E=0.15775382165935972 + 4.6797123037886634e-5im, ov=0.9999962574925406\n",
      "  0.259557 seconds (828.26 k allocations: 73.149 MiB, 46.75% gc time)\n",
      "E=0.1577547486874198 + 3.430879807733711e-5im, ov=0.9999980763773766\n",
      "  0.147837 seconds (828.27 k allocations: 73.149 MiB)\n",
      "E=0.15775554250875234 + 2.4952637639061304e-5im, ov=0.9999990196754791\n",
      "  0.140758 seconds (828.26 k allocations: 73.148 MiB)\n",
      "E=0.15775618357826643 + 1.8017154868044116e-5im, ov=0.9999995018603535\n",
      "  0.141195 seconds (828.26 k allocations: 73.148 MiB)\n",
      "E=0.1577566796269681 + 1.2909088435875127e-5im, ov=0.9999997466402766\n",
      "  0.144381 seconds (828.26 k allocations: 73.148 MiB)\n",
      "E=0.15775705121864708 + 9.160326296261956e-6im, ov=0.9999998707658941\n",
      "  0.142538 seconds (828.26 k allocations: 73.148 MiB)\n",
      "E=0.15775732222525962 + 6.414568464091497e-6im, ov=0.9999999338949643\n",
      "  1.215435 seconds (828.26 k allocations: 73.148 MiB, 86.98% gc time)\n",
      "E=0.15775751499815865 + 4.407062135877715e-6im, ov=0.9999999661443896\n",
      "  0.148116 seconds (831.40 k allocations: 73.496 MiB)\n",
      "E=0.15775764864288144 + 2.943998296006667e-6im, ov=0.9999999826539935\n",
      "  0.140944 seconds (828.26 k allocations: 73.149 MiB)\n",
      "E=0.15775773889614333 + 1.8843654374933738e-6im, ov=0.9999999910760557\n"
     ]
    }
   ],
   "source": [
    "\n",
    "Ag,A_init=ITEBD_boundary_groundstate(O1,O2,W,A_init,\"O_O\");"
   ]
  },
  {
   "cell_type": "code",
   "execution_count": 178,
   "metadata": {},
   "outputs": [],
   "source": [
    "#save initial CTM to compare with other codes\n",
    "matwrite(\"itebd_matfile.mat\", Dict(\n",
    "    \"O1\" => convert(Array,O1),\n",
    "    \"O2\" => convert(Array,O2),\n",
    "    \"A_init\" => convert(Array,A_init),\n",
    "    \"Ag\" => convert(Array,Ag)\n",
    "); compress = false)\n",
    "\n"
   ]
  },
  {
   "cell_type": "code",
   "execution_count": 179,
   "metadata": {},
   "outputs": [],
   "source": [
    "#save data\n",
    "O1_dict=convert(Dict,O1);\n",
    "O2_dict=convert(Dict,O2);\n",
    "Ag_dict=convert(Dict,Ag);\n",
    "save(\"itebd_data.jld\", \"O1_dict\", O1_dict,\"O2_dict\", O2_dict,\"Ag_dict\", Ag_dict);\n",
    "\n",
    "\n"
   ]
  },
  {
   "cell_type": "code",
   "execution_count": 180,
   "metadata": {},
   "outputs": [],
   "source": [
    "#load data\n",
    "Ag_dict=load(\"itebd_data.jld\")[\"Ag_dict\"];\n",
    "O1_dict=load(\"itebd_data.jld\")[\"O1_dict\"];\n",
    "O2_dict=load(\"itebd_data.jld\")[\"O2_dict\"];\n",
    "Ag=convert(TensorMap,Ag_dict);\n",
    "O1=convert(TensorMap,O1_dict);\n",
    "O2=convert(TensorMap,O2_dict);\n"
   ]
  },
  {
   "cell_type": "code",
   "execution_count": 226,
   "metadata": {},
   "outputs": [
    {
     "data": {
      "text/plain": [
       "2025"
      ]
     },
     "metadata": {},
     "output_type": "display_data"
    },
    {
     "data": {
      "text/plain": [
       "(Rep[SU₂](0=>5, 1/2=>4, 1=>4) ⊗ Rep[SU₂](0=>1, 1/2=>1, 1=>1) ⊗ Rep[SU₂](0=>5, 1/2=>4, 1=>4)' ⊗ Rep[SU₂](0=>1, 1/2=>1, 1=>1)') ← ProductSpace{GradedSpace{SU2Irrep, TensorKit.SortedVectorDict{SU2Irrep, Int64}}, 0}()"
      ]
     },
     "metadata": {},
     "output_type": "display_data"
    }
   ],
   "source": [
    "\n",
    "space_AOA=fuse(space(Ag,1)'⊗space(O2,1)'⊗space(O1,1)⊗ space(Ag,1));\n",
    "space_AA=fuse(space(Ag,1)'⊗ space(Ag,1));\n",
    "\n",
    "AOA_sec=collect(sectors(space_AOA))\n",
    "AA_sec=collect(sectors(space_AA))\n",
    "\n",
    "@tensor OO[:]:=O1[-2,-3,-5,1]*O2[-1,1,-4,-6];\n",
    "U_fuse_chichi=unitary(fuse(space(OO,1)⊗ space(OO,2)),space(OO,1)⊗ space(OO,2));\n",
    "@tensor OO[:]:=U_fuse_chichi[-1,1,2]*OO[1,2,-2,3,4,-4]*U_fuse_chichi'[3,4,-3];\n",
    "display(space(OO))"
   ]
  },
  {
   "cell_type": "code",
   "execution_count": 182,
   "metadata": {},
   "outputs": [],
   "source": [
    "# W=20;chi=20;\n",
    "# (Rep[SU₂](0=>3, 1/2=>3, 1=>2, 3/2=>1)' ⊗ Rep[SU₂](0=>3, 1/2=>3, 1=>2, 3/2=>1) ⊗ Rep[SU₂](0=>1, 1/2=>2, 1=>1)') ← ProductSpace{GradedSpace{SU2Irrep, TensorKit.SortedVectorDict{SU2Irrep, Int64}}, 0}()\n",
    "# Rep[SU₂](0=>4999, 1/2=>8314, 1=>9146, 3/2=>7850, 2=>5503, 5/2=>3190, 3=>1521, 7/2=>584, 4=>173, 9/2=>36, 5=>4)"
   ]
  },
  {
   "cell_type": "code",
   "execution_count": 183,
   "metadata": {},
   "outputs": [
    {
     "data": {
      "text/plain": [
       "Irrep[SU₂](0)"
      ]
     },
     "metadata": {},
     "output_type": "display_data"
    },
    {
     "data": {
      "text/plain": [
       "Irrep[SU₂](1/2)"
      ]
     },
     "metadata": {},
     "output_type": "display_data"
    },
    {
     "data": {
      "text/plain": [
       "Irrep[SU₂](1)"
      ]
     },
     "metadata": {},
     "output_type": "display_data"
    },
    {
     "data": {
      "text/plain": [
       "Irrep[SU₂](3/2)"
      ]
     },
     "metadata": {},
     "output_type": "display_data"
    },
    {
     "data": {
      "text/plain": [
       "Irrep[SU₂](2)"
      ]
     },
     "metadata": {},
     "output_type": "display_data"
    },
    {
     "data": {
      "text/plain": [
       "Irrep[SU₂](5/2)"
      ]
     },
     "metadata": {},
     "output_type": "display_data"
    },
    {
     "data": {
      "text/plain": [
       "Irrep[SU₂](3)"
      ]
     },
     "metadata": {},
     "output_type": "display_data"
    },
    {
     "name": "stdout",
     "output_type": "stream",
     "text": [
      "(s, dim(space_AOA, s), dim(s)) = (Irrep[SU₂](0), 129, 1)\n",
      "(s, dim(space_AOA, s), dim(s)) = (Irrep[SU₂](1/2), 196, 2)\n",
      "(s, dim(space_AOA, s), dim(s)) = (Irrep[SU₂](1), 185, 3)\n",
      "(s, dim(space_AOA, s), dim(s)) = (Irrep[SU₂](3/2), 124, 4)\n",
      "(s, dim(space_AOA, s), dim(s)) = (Irrep[SU₂](2), 61, 5)\n",
      "(s, dim(space_AOA, s), dim(s)) = (Irrep[SU₂](5/2), 20, 6)\n",
      "(s, dim(space_AOA, s), dim(s)) = (Irrep[SU₂](3), 4, 7)\n"
     ]
    }
   ],
   "source": [
    "for s in sectors(space_AOA)\n",
    "  display(s)\n",
    "  @show s, dim(space_AOA, s), dim(s)\n",
    "end\n"
   ]
  },
  {
   "cell_type": "code",
   "execution_count": 184,
   "metadata": {},
   "outputs": [
    {
     "data": {
      "text/plain": [
       "Irrep[SU₂](0)"
      ]
     },
     "metadata": {},
     "output_type": "display_data"
    }
   ],
   "source": [
    "\n"
   ]
  },
  {
   "cell_type": "code",
   "execution_count": 185,
   "metadata": {},
   "outputs": [
    {
     "data": {
      "text/plain": [
       "(Rep[SU₂](0=>5, 1/2=>4, 1=>4) ⊗ Rep[SU₂](0=>1, 1/2=>1, 1=>1) ⊗ Rep[SU₂](0=>5, 1/2=>4, 1=>4)' ⊗ Rep[SU₂](0=>1, 1/2=>1, 1=>1)') ← ProductSpace{GradedSpace{SU2Irrep, TensorKit.SortedVectorDict{SU2Irrep, Int64}}, 0}()"
      ]
     },
     "metadata": {},
     "output_type": "display_data"
    }
   ],
   "source": [
    "\n"
   ]
  },
  {
   "cell_type": "code",
   "execution_count": 186,
   "metadata": {},
   "outputs": [
    {
     "data": {
      "text/plain": [
       "combine_singlespin_sector_bruteforce (generic function with 1 method)"
      ]
     },
     "metadata": {},
     "output_type": "display_data"
    }
   ],
   "source": [
    "# #attention: when the dimension is slightly large, converting dense matrix to tensormap is extremely difficult. It's better to define tensormap from Dict\n",
    "# using TensorKit\n",
    "# sp=Rep[SU₂](0=>129, 1/2=>196, 1=>185, 3/2=>124, 2=>61, 5/2=>20, 3=>4); #out of memory error for this dimension\n",
    "# sp=Rep[SU₂](0=>12, 1/2=>19, 1=>15, 3/2=>14, 2=>61, 5/2=>20, 3=>4); # it takes long time\n",
    "# tt=TensorMap(randn,sp←sp);\n",
    "# tt_dense=convert(Array,tt);\n",
    "# tt_new=TensorMap(tt_dense,sp,sp);\n",
    "function combine_singlespin_sector_bruteforce(E_set,vL_set,vR_set,spin_set)\n",
    "    E_set_new=copy(euL_set);\n",
    "    vL_set_new=copy(evL_set);\n",
    "    vR_set_new=copy(evR_set);\n",
    "    spin_set_new=copy(SPIN_eig_set);\n",
    "    for cc=1:length(E_set)\n",
    "        E=E_set[cc];\n",
    "        vL=vL_set[cc];\n",
    "        vR=vR_set[cc];\n",
    "        spin=spin_set[cc];\n",
    "        if length(vL)>0\n",
    "            single_size=size(convert(Array,vL[1]));\n",
    "            if length(single_size)==4\n",
    "                vL_grouped=zeros(Complex{Float64},single_size[1]*length(vL),single_size[2]*single_size[3]*single_size[4]);\n",
    "                vR_grouped=zeros(Complex{Float64},single_size[2]*single_size[3]*single_size[4],single_size[1]*length(vL));\n",
    "                E_grouped=zeros(Complex{Float64},single_size[1]*length(vL),single_size[1]*length(vL));\n",
    "                spin_dim=single_size[1];\n",
    "                Unitary=unitary(domain(vL[1]),fuse(domain(vL[1])));\n",
    "                for cs=1:length(E)\n",
    "                    vL_grouped[spin_dim*(cs-1)+1:spin_dim*cs,:]=convert(Array,vL[cs]*Unitary);\n",
    "                    vR_grouped[:,spin_dim*(cs-1)+1:spin_dim*cs]=convert(Array,Unitary'*vR[cs]);\n",
    "                    E_grouped[spin_dim*(cs-1)+1:spin_dim*cs,spin_dim*(cs-1)+1:spin_dim*cs]=E[cs]*Matrix(I, spin_dim,spin_dim);\n",
    "                end\n",
    "                space_single_spin=SU₂Space(spin[1]=>length(E));\n",
    "\n",
    "                vL_grouped=TensorMap(vL_grouped,space_single_spin←fuse(domain(vL[1])));\n",
    "                vR_grouped=TensorMap(vR_grouped,fuse(domain(vL[1])) ← space_single_spin);\n",
    "                E_grouped=TensorMap(E_grouped,space_single_spin ← space_single_spin);\n",
    "\n",
    "                vL_grouped=vL_grouped*Unitary';\n",
    "                vR_grouped=Unitary * vR_grouped;\n",
    "\n",
    "                vL_set_new[cc]=vL_grouped;\n",
    "                vR_set_new[cc]=vR_grouped;\n",
    "                E_set_new[cc]=E_grouped;\n",
    "                spin_set_new[cc]=spin_set[cc][1]\n",
    "                # display(Base.summarysize(vL_grouped))\n",
    "                # display(space(vL_grouped))\n",
    "                # display(Base.summarysize(vL))\n",
    "            elseif length(single_size)==3\n",
    "            end\n",
    "        end\n",
    "    end\n",
    "    return E_set_new,vL_set_new,vR_set_new,spin_set_new\n",
    "end\n"
   ]
  },
  {
   "cell_type": "code",
   "execution_count": 188,
   "metadata": {},
   "outputs": [
    {
     "data": {
      "text/plain": [
       "combine_singlespin_sector (generic function with 2 methods)"
      ]
     },
     "metadata": {},
     "output_type": "display_data"
    }
   ],
   "source": [
    "function combine_singlespin_sector(E_set,vL_set,vR_set,spin_set,is_eig)\n",
    "    E_set_new=copy(E_set);\n",
    "    vL_set_new=copy(vL_set);\n",
    "    vR_set_new=copy(vR_set);\n",
    "    spin_set_new=copy(spin_set);\n",
    "    for cc=1:length(E_set)\n",
    "        E=E_set[cc];\n",
    "        vL=vL_set[cc];\n",
    "        vR=vR_set[cc];\n",
    "        spin=spin_set[cc];\n",
    "        if length(vL)>0\n",
    "\n",
    "            sec=Irrep[SU₂](spin[1]);\n",
    "            space_single_spin=SU₂Space(spin[1]=>length(E));\n",
    "            dim_full=dim(fuse(domain(vL[1])),sec);\n",
    "            vL_grouped=zeros(Complex{Float64},length(vL),dim_full);\n",
    "            vR_grouped=zeros(Complex{Float64},dim_full,length(vL));\n",
    "            E_grouped=zeros(Complex{Float64},length(vL),length(vL));\n",
    "\n",
    "            Unitary=unitary(domain(vL[1]),fuse(domain(vL[1])));\n",
    "            for cs=1:length(E)\n",
    "                vL_grouped[cs,:]=convert(Dict,vL[cs]*Unitary)[:data][string(sec)];\n",
    "                vR_grouped[:,cs]=convert(Dict,Unitary'*vR[cs])[:data][string(sec)];\n",
    "                E_grouped[cs,cs]=E[cs];\n",
    "            end\n",
    "\n",
    "            if is_eig\n",
    "                Q=zeros(Complex{Float64},length(E),length(E))\n",
    "                for ca=1:length(E)\n",
    "                    for cb=1:length(E)\n",
    "                        Q[ca,cb]=tr(vL[ca]*vR[cb])\n",
    "                    end\n",
    "                end\n",
    "                #Q=vL_grouped*vR_grouped;#the normalization of this line is inccorect, due to the dimension of spin space\n",
    "                vL_grouped=pinv(Q)*vL_grouped;\n",
    "            end\n",
    "\n",
    "            vL_grouped_rand=TensorMap(randn,space_single_spin←fuse(domain(vL[1])));\n",
    "            vR_grouped_rand=TensorMap(randn,fuse(domain(vL[1])) ← space_single_spin);\n",
    "            E_grouped_rand=TensorMap(randn,space_single_spin ← space_single_spin);\n",
    "\n",
    "            vL_grouped_dict=convert(Dict,vL_grouped_rand);\n",
    "            vL_grouped_dict[:data][string(sec)]=vL_grouped;\n",
    "            vL_grouped=convert(TensorMap,vL_grouped_dict);\n",
    "            vL_grouped=vL_grouped*Unitary';\n",
    "\n",
    "            vR_grouped_dict=convert(Dict,vR_grouped_rand);\n",
    "            vR_grouped_dict[:data][string(sec)]=vR_grouped;\n",
    "            vR_grouped=convert(TensorMap,vR_grouped_dict);\n",
    "            vR_grouped=Unitary*vR_grouped;\n",
    "\n",
    "            E_grouped_dict=convert(Dict,E_grouped_rand);\n",
    "            E_grouped_dict[:data][string(sec)]=E_grouped;\n",
    "            E_grouped=convert(TensorMap,E_grouped_dict);\n",
    "\n",
    "            vL_set_new[cc]=vL_grouped;\n",
    "            vR_set_new[cc]=vR_grouped;\n",
    "            E_set_new[cc]=E_grouped;\n",
    "            spin_set_new[cc]=spin_set_new[cc][1]\n",
    "            # display(Base.summarysize(vL_grouped))\n",
    "            # display(space(vL_grouped))\n",
    "            # display(Base.summarysize(vL))\n",
    "\n",
    "        end\n",
    "    end\n",
    "    return E_set_new,vL_set_new,vR_set_new,spin_set_new\n",
    "end\n",
    "\n",
    "\n"
   ]
  },
  {
   "cell_type": "code",
   "execution_count": 189,
   "metadata": {},
   "outputs": [
    {
     "data": {
      "text/plain": [
       "truncate_sectors (generic function with 1 method)"
      ]
     },
     "metadata": {},
     "output_type": "display_data"
    }
   ],
   "source": [
    "\n",
    "function truncate_sectors(n,eu_set,ev_set,ev_set2,spin_set)\n",
    "    eu_full=eu_set[1]\n",
    "    dim_full=2*spin_set[1].+1\n",
    "    for cc=2:length(eu_set)\n",
    "        eu_full=vcat(eu_full, eu_set[cc])\n",
    "        dim_full=vcat(dim_full, 2*spin_set[cc].+1)\n",
    "    end\n",
    "    dim_full=Int.(round.(dim_full))\n",
    "\n",
    "    order=sortperm(abs.(eu_full),rev=true);\n",
    "    eu_full_sorted=eu_full[order];\n",
    "    dim_full_sorted=dim_full[order];\n",
    "\n",
    "    total_size=dim_full_sorted[1];\n",
    "    old_value=eu_full_sorted[1];\n",
    "    for cc=2:length(eu_full_sorted)\n",
    "        total_size=total_size+dim_full_sorted[cc];\n",
    "        new_value=eu_full_sorted[cc];\n",
    "        if total_size>n\n",
    "            break;\n",
    "        end\n",
    "        old_value=new_value;\n",
    "    end\n",
    "\n",
    "    for cc=1:length(eu_set)\n",
    "        spins=spin_set[cc];\n",
    "        eu=eu_set[cc];\n",
    "        ev=ev_set[cc];\n",
    "        inds=findall(x->abs(x)>=abs(old_value), abs.(eu));\n",
    "        eu=eu[inds];\n",
    "        ev=ev[inds];\n",
    "        spins=spins[inds];\n",
    "        eu_set[cc]=eu;\n",
    "        ev_set[cc]=ev;\n",
    "        spin_set[cc]=spins;\n",
    "        if ~(ev_set2==[])\n",
    "            ev2=ev_set2[cc];\n",
    "            ev2=ev2[inds];\n",
    "            ev_set2[cc]=ev2;\n",
    "        end\n",
    "    end\n",
    "return eu_set,ev_set,ev_set2,spin_set\n",
    "\n",
    "end\n"
   ]
  },
  {
   "cell_type": "code",
   "execution_count": 190,
   "metadata": {},
   "outputs": [
    {
     "data": {
      "text/plain": [
       "HV_FR (generic function with 1 method)"
      ]
     },
     "metadata": {},
     "output_type": "display_data"
    }
   ],
   "source": [
    "function FLR_eig(A,O,n,full_space,sector_set)\n",
    "    SPIN_set=Vector{Any}(undef, length(sector_set));\n",
    "    euL_set=Vector{Any}(undef, length(sector_set));\n",
    "    evL_set=Vector{Any}(undef, length(sector_set));\n",
    "    euR_set=Vector{Any}(undef, length(sector_set));\n",
    "    evR_set=Vector{Any}(undef, length(sector_set));\n",
    "    println(\"FLR_eig: \")\n",
    "    for cc=1:length(sector_set)\n",
    "        sec=sector_set[cc];\n",
    "        spin=(dim(sec)-1)/2;\n",
    "        n_eff=Int(round(n/dim(sec)))+1\n",
    "        println(\"spin \"*string(spin))\n",
    "\n",
    "        FLR_eig_L(x)=HV_FL(x,A,O);\n",
    "        vl_init=permute(TensorMap(randn, SU₂Space(spin=>1),space(A',1)*space(O,1)*space(A,1)), (1,2,3,4,),());# assume that the dominant eigenvector has total spin zero. If not, it will have three indeces and it's not Hermiitan.\n",
    "        try\n",
    "            euL,evL,info=eigsolve(FLR_eig_L, vl_init, minimum([n_eff,dim(full_space,sec)]),:LM, Arnoldi(krylovdim=minimum([n_eff,dim(full_space,sec)])*2));\n",
    "            @assert info.converged >= minimum([n_eff,dim(full_space,sec)])\n",
    "        catch e\n",
    "            println(\"Number of eigenvalues obtained are not enough, use smaller tol\")\n",
    "            euL,evL,info=eigsolve(FLR_eig_L, vl_init, minimum([n_eff,dim(full_space,sec)]),:LM, Arnoldi(krylovdim=minimum([n_eff,dim(full_space,sec)])*2, tol=1e-14));\n",
    "            @assert info.converged >= minimum([n_eff,dim(full_space,sec)])\n",
    "        end\n",
    "        @assert abs.(euL)==sort(abs.(euL), rev=true)\n",
    "        euL=euL[1:minimum([length(euL),n_eff,dim(full_space,sec)])];\n",
    "        evL=evL[1:minimum([length(evL),n_eff,dim(full_space,sec)])];\n",
    "        euL_set[cc]=euL;\n",
    "        evLL=evL;\n",
    "        evL=Vector{Any}(undef, length(evLL));\n",
    "        for cs=1:length(evL)\n",
    "            evL[cs]=permute(evLL[cs],(1,),(2,3,4,))\n",
    "        end\n",
    "        evL_set[cc]=evL;\n",
    "        SPIN_set[cc]=ones(length(euL))*(dim(sec)-1)/2;\n",
    "        \n",
    "        FLR_eig_R(x)=HV_FR(x,A,O);\n",
    "        vr_init=permute(TensorMap(randn, space(A',2)'*space(O,3)'*space(A,2)',SU₂Space(spin=>1)), (1,2,3,4,),());# assume that the dominant eigenvector has total spin zero. If not, it will have three indeces and it's not Hermiitan.\n",
    "        try\n",
    "            euR,evR,info=eigsolve(FLR_eig_R, vr_init, minimum([n_eff,dim(full_space,sec)]),:LM, Arnoldi(krylovdim=minimum([n_eff,dim(full_space,sec)])*2));\n",
    "            @assert info.converged >= minimum([n_eff,dim(full_space,sec)])\n",
    "        catch e\n",
    "            println(\"Number of eigenvalues obtained are not enough, use smaller tol\")\n",
    "            euR,evR,info=eigsolve(FLR_eig_R, vr_init, minimum([n_eff,dim(full_space,sec)]),:LM, Arnoldi(krylovdim=minimum([n_eff,dim(full_space,sec)])*2, tol=1e-14));\n",
    "            @assert info.converged >= minimum([n_eff,dim(full_space,sec)])\n",
    "        end\n",
    "        @assert abs.(euR)==sort(abs.(euR), rev=true)\n",
    "        euR=euR[1:minimum([length(euR),n_eff,dim(full_space,sec)])];\n",
    "        evR=evR[1:minimum([length(evR),n_eff,dim(full_space,sec)])];\n",
    "        euR_set[cc]=euR;\n",
    "        evRR=evR;\n",
    "        evR=Vector{Any}(undef, length(evRR));\n",
    "        for cs=1:length(evR)\n",
    "            evR[cs]=permute(evRR[cs],(1,2,3,),(4,))\n",
    "        end\n",
    "        evR_set[cc]=evR;\n",
    "\n",
    "        @assert (norm(abs.(euL)-abs.(euR))/norm(euL))<1e-8\n",
    "    end\n",
    "    return euL_set,evL_set,euR_set,evR_set,SPIN_set     \n",
    "end\n",
    "        \n",
    "function HV_FL(vl,A,mpo)\n",
    "    @tensor vl[:]:=vl[-1,1,3,5]*A'[1,-2,2]*mpo[3,4,-3,2]*A[5,-4,4];\n",
    "    return vl\n",
    "end\n",
    "\n",
    "function HV_FR(vr,A,mpo)\n",
    "    @tensor vr[:]:=A'[-1,1,2]*mpo[-2,4,3,2]*A[-3,5,4]*vr[1,3,5,-4];\n",
    "    return vr\n",
    "end\n",
    " \n",
    "        \n"
   ]
  },
  {
   "cell_type": "code",
   "execution_count": 192,
   "metadata": {},
   "outputs": [
    {
     "data": {
      "text/plain": [
       "GLR_eig (generic function with 1 method)"
      ]
     },
     "metadata": {},
     "output_type": "display_data"
    }
   ],
   "source": [
    "function GLR_eig(A,n,full_space,sector_set)\n",
    "    spin_set=Vector{Any}(undef, length(sector_set));\n",
    "    eul_set=Vector{Any}(undef, length(sector_set));\n",
    "    evl_set=Vector{Any}(undef, length(sector_set));\n",
    "    eur_set=Vector{Any}(undef, length(sector_set));\n",
    "    evr_set=Vector{Any}(undef, length(sector_set));\n",
    "    println(\"GLR_eig: \")\n",
    "    for cc=1:length(sector_set)\n",
    "        sec=sector_set[cc];\n",
    "        spin=(dim(sec)-1)/2;\n",
    "        n_eff=Int(round(n/dim(sec)))+1\n",
    "        println(\"spin \"*string(spin))\n",
    "        \n",
    "        GLR_eig_L(x)=HV_L_tensor(x,A,[]);\n",
    "        vl_init=permute(TensorMap(randn, SU₂Space(spin=>1),space(A',1)*space(A,1)), (1,2,3,),());# assume that the dominant eigenvector has total spin zero. If not, it will have three indeces and it's not Hermiitan.\n",
    "        try\n",
    "            eul,evl,info=eigsolve(GLR_eig_L, vl_init, minimum([n_eff,dim(full_space,sec)]),:LM,Arnoldi(krylovdim=minimum([n_eff,dim(full_space,sec)])*2));\n",
    "            @assert info.converged >= minimum([n_eff,dim(full_space,sec)])\n",
    "        catch e\n",
    "            println(\"Number of eigenvalues obtained are not enough, use smaller tol\")\n",
    "            eul,evl,info=eigsolve(GLR_eig_L, vl_init, minimum([n_eff,dim(full_space,sec)]),:LM,Arnoldi(krylovdim=minimum([n_eff,dim(full_space,sec)])*2, tol=1e-14));\n",
    "            @assert info.converged >= minimum([n_eff,dim(full_space,sec)])\n",
    "        end\n",
    "        @assert abs.(eul)==sort(abs.(eul), rev=true)\n",
    "        \n",
    "        eul=eul[1:minimum([length(eul),n_eff,dim(full_space,sec)])];\n",
    "        evl=evl[1:minimum([length(evl),n_eff,dim(full_space,sec)])];\n",
    "        eul_set[cc]=eul;\n",
    "        evll=evl;\n",
    "        evl=Vector{Any}(undef, length(evll));\n",
    "        for cs=1:length(evl)\n",
    "            evl[cs]=permute(evll[cs],(1,),(2,3,))\n",
    "        end\n",
    "        evl_set[cc]=evl;\n",
    "        spin_set[cc]=ones(length(eul))*(dim(sec)-1)/2;\n",
    "\n",
    "        GLR_eig_R(x)=HV_R_tensor(x,A,[]);\n",
    "        vr_init=permute(TensorMap(randn, space(A',2)'*space(A,2)',SU₂Space(spin=>1)), (1,2,3,),());# assume that the dominant eigenvector has total spin zero. If not, it will have three indeces and it's not Hermiitan.\n",
    "        try\n",
    "            eur,evr,info=eigsolve(GLR_eig_R, vr_init, minimum([n_eff,dim(full_space,sec)]),:LM,Arnoldi(krylovdim=minimum([n_eff,dim(full_space,sec)])*2));\n",
    "            @assert info.converged >= minimum([n_eff,dim(full_space,sec)])\n",
    "        catch e\n",
    "            println(\"Number of eigenvalues obtained are not enough, use smaller tol\")\n",
    "            eur,evr,info=eigsolve(GLR_eig_R, vr_init, minimum([n_eff,dim(full_space,sec)]),:LM,Arnoldi(krylovdim=minimum([n_eff,dim(full_space,sec)])*2, tol=1e-14));\n",
    "            @assert info.converged >= minimum([n_eff,dim(full_space,sec)])\n",
    "        end\n",
    "        @assert abs.(eur)==sort(abs.(eur), rev=true)\n",
    "        eur=eur[1:minimum([length(eur),n_eff,dim(full_space,sec)])];\n",
    "        evr=evr[1:minimum([length(evl),n_eff,dim(full_space,sec)])];\n",
    "        eur_set[cc]=eur;\n",
    "        evrr=evr;\n",
    "        evr=Vector{Any}(undef, length(evrr));\n",
    "        for cs=1:length(evr)\n",
    "            evr[cs]=permute(evrr[cs],(1,2,),(3,))\n",
    "        end\n",
    "        evr_set[cc]=evr;\n",
    "\n",
    "        @assert (norm(abs.(eul)-abs.(eur))/norm(eul))<1e-8\n",
    "\n",
    "    end\n",
    "    return eul_set,evl_set,eur_set,evr_set,spin_set   \n",
    "end\n",
    "    \n",
    "    \n",
    "    "
   ]
  },
  {
   "cell_type": "code",
   "execution_count": 193,
   "metadata": {},
   "outputs": [
    {
     "data": {
      "text/plain": [
       "HV_FR_conj_pow (generic function with 1 method)"
      ]
     },
     "metadata": {},
     "output_type": "display_data"
    }
   ],
   "source": [
    "function FLR_svd(A,O,pow,n,full_space,sector_set)\n",
    "    SPIN_set=Vector{Any}(undef, length(sector_set));\n",
    "    S_set=Vector{Any}(undef, length(sector_set));\n",
    "    U_set=Vector{Any}(undef, length(sector_set));\n",
    "    Vh_set=Vector{Any}(undef, length(sector_set));\n",
    "    println(\"FLR_svd: \")\n",
    "    for cc=1:length(sector_set)\n",
    "        sec=sector_set[cc];\n",
    "        spin=(dim(sec)-1)/2;\n",
    "        n_eff=Int(round(n/dim(sec)))+1\n",
    "        println(\"spin \"*string(spin))\n",
    "\n",
    "        FLR_svd_R(x)=HV_FR_pow(x,A,O,pow);\n",
    "        FLR_svd_R_conj(x)=HV_FR_conj_pow(x,A,O,pow);\n",
    "        vl_init=permute(TensorMap(randn, SU₂Space(spin=>1),space(A',1)*space(O,1)*space(A,1)), (1,2,3,4,),());# assume that the dominant eigenvector has total spin zero. If not, it will have three indeces and it's not Hermiitan.\n",
    "        vr_init=permute(TensorMap(randn, space(A',2)'*space(O,3)'*space(A,2)',SU₂Space(spin=>1)), (1,2,3,4,),());# assume that the dominant eigenvector has total spin zero. If not, it will have three indeces and it's not Hermiitan.\n",
    "        try\n",
    "            S,U,V,info=svdsolve((FLR_svd_R,FLR_svd_R_conj), vr_init, minimum([n_eff,dim(full_space,sec)]),:LR, krylovdim=minimum([n_eff,dim(full_space,sec)])*2);\n",
    "            @assert info.converged >= minimum([n_eff,dim(full_space,sec)])\n",
    "        catch e\n",
    "            println(\"Number of singular values obtained are not enough, use smaller tol\")\n",
    "            S,U,V,info=svdsolve((FLR_svd_R,FLR_svd_R_conj), vr_init, minimum([n_eff,dim(full_space,sec)]),:LR, krylovdim=minimum([n_eff,dim(full_space,sec)])*2, tol=1e-14);\n",
    "            @assert info.converged >= minimum([n_eff,dim(full_space,sec)])\n",
    "        end\n",
    "        @assert abs.(S)==sort(abs.(S), rev=true)\n",
    "        S=S[1:minimum([length(S),n_eff,dim(full_space,sec)])];\n",
    "        U=U[1:minimum([length(U),n_eff,dim(full_space,sec)])];\n",
    "        V=V[1:minimum([length(V),n_eff,dim(full_space,sec)])];\n",
    "\n",
    "        UU=U;\n",
    "        U=Vector{Any}(undef, length(UU));\n",
    "        for cs=1:length(U)\n",
    "            U[cs]=permute(UU[cs],(1,2,3,),(4,))\n",
    "        end\n",
    "\n",
    "        Vh=Vector{Any}(undef, length(V));\n",
    "        for cs=1:length(Vh)\n",
    "            vvr=V[cs];\n",
    "            Vh[cs]=permute(vvr',(4,),(1,2,3,));\n",
    "        end\n",
    "        S_set[cc]=S;\n",
    "        U_set[cc]=U;\n",
    "        Vh_set[cc]=Vh;\n",
    "        SPIN_set[cc]=ones(length(S))*(dim(sec)-1)/2;\n",
    "        \n",
    "    end\n",
    "    return S_set,U_set,Vh_set,SPIN_set     \n",
    "end\n",
    "            \n",
    "\n",
    "function HV_FR_pow(vr,A,mpo,pow)\n",
    "    for cc=1:pow\n",
    "        vr=HV_FR(vr,A,mpo);\n",
    "    end\n",
    "    return vr\n",
    "end\n",
    "function HV_FR_conj(vr,A,mpo)\n",
    "    @tensor vr[:]:=A[1,-1,2]*mpo'[3,4,-2,2]*A'[5,-3,4]*vr[1,3,5,-4];\n",
    "    return vr\n",
    "end\n",
    "function HV_FR_conj_pow(vr,A,mpo,pow)\n",
    "    for cc=1:pow\n",
    "        vr=HV_FR_conj(vr,A,mpo);\n",
    "    end\n",
    "    return vr\n",
    "end\n",
    "    "
   ]
  },
  {
   "cell_type": "code",
   "execution_count": 194,
   "metadata": {},
   "outputs": [
    {
     "data": {
      "text/plain": [
       "HV_R_conj_pow (generic function with 1 method)"
      ]
     },
     "metadata": {},
     "output_type": "display_data"
    }
   ],
   "source": [
    "function GLR_svd(A,pow,n,full_space,sector_set)\n",
    "    spin_set=Vector{Any}(undef, length(sector_set));\n",
    "    s_set=Vector{Any}(undef, length(sector_set));\n",
    "    u_set=Vector{Any}(undef, length(sector_set));\n",
    "    vh_set=Vector{Any}(undef, length(sector_set));\n",
    "    A_noise=TensorMap(randn, codomain(A),domain(A));\n",
    "    A_noise=A_noise/norm(A_noise)*norm(A)*1e-9;\n",
    "    println(\"GLR_svd: \")\n",
    "    for cc=1:length(sector_set)\n",
    "        sec=sector_set[cc];\n",
    "        spin=(dim(sec)-1)/2;\n",
    "        n_eff=Int(round(n/dim(sec)))+1\n",
    "        println(\"spin \"*string(spin))\n",
    "\n",
    "\n",
    "        vr_init=permute(TensorMap(randn, space(A',2)'*space(A,2)',SU₂Space(spin=>1)), (1,2,3,),());# assume that the dominant eigenvector has total spin zero. If not, it will have three indeces and it's not Hermiitan.\n",
    "        try\n",
    "            GLR_svd_R(x)=HV_R_pow(x,A,pow,A_noise*0);\n",
    "            GLR_svd_R_conj(x)=HV_R_conj_pow(x,A,pow,A_noise*0);\n",
    "            s,u,v,info=svdsolve((GLR_svd_R,GLR_svd_R_conj), vr_init, minimum([n_eff,dim(full_space,sec)]),:LR, krylovdim=minimum([n_eff,dim(full_space,sec)])*2);\n",
    "            @assert info.converged >= minimum([n_eff,dim(full_space,sec)])    \n",
    "        catch e\n",
    "            GLR_svd_R(x)=HV_R_pow(x,A,pow,A_noise);\n",
    "            GLR_svd_R_conj(x)=HV_R_conj_pow(x,A,pow,A_noise);\n",
    "            println(\"Number of singular values obtained are not enough, add noise, increase Krylov subspace and use smaller tol\")\n",
    "            s,u,v,info=svdsolve((GLR_svd_R,GLR_svd_R_conj), vr_init, minimum([n_eff,dim(full_space,sec)]),:LR, krylovdim=minimum([n_eff,dim(full_space,sec)])*4, tol=1e-14);\n",
    "            @assert info.converged >= minimum([n_eff,dim(full_space,sec)])\n",
    "        end\n",
    "        @assert abs.(s)==sort(abs.(s), rev=true)\n",
    "    \n",
    "        s=s[1:minimum([length(s),n_eff,dim(full_space,sec)])];\n",
    "        u=u[1:minimum([length(u),n_eff,dim(full_space,sec)])];\n",
    "        v=v[1:minimum([length(v),n_eff,dim(full_space,sec)])];\n",
    "\n",
    "        uu=u;\n",
    "        u=Vector{Any}(undef, length(u));\n",
    "        for cs=1:length(u)\n",
    "            u[cs]=permute(uu[cs],(1,2,),(3,))\n",
    "        end\n",
    "\n",
    "        vh=Vector{Any}(undef, length(v));\n",
    "        for cs=1:length(vh)\n",
    "            vvr=v[cs];\n",
    "            vh[cs]=permute(vvr',(3,),(1,2,));\n",
    "        end\n",
    "        s_set[cc]=s;\n",
    "        u_set[cc]=u;\n",
    "        vh_set[cc]=vh;\n",
    "        spin_set[cc]=ones(length(s))*(dim(sec)-1)/2;\n",
    "        \n",
    "    end\n",
    "    return s_set,u_set,vh_set,spin_set     \n",
    "end\n",
    "\n",
    "function HV_R_pow(vr,A,pow,A_noise)\n",
    "    A_=A+A_noise;\n",
    "    for cc=1:pow\n",
    "        @tensor vr[:]:=A_'[-1,1,2]*A[-2,3,2]*vr[1,3,-3];\n",
    "    end\n",
    "    return vr\n",
    "end\n",
    "\n",
    "function HV_R_conj_pow(vr,A,pow,A_noise)\n",
    "    A_=A+A_noise;\n",
    "    for cc=1:pow\n",
    "        @tensor vr[:]:=A_[1,-1,2]*A'[3,-2,2]*vr[1,3,-3];\n",
    "    end\n",
    "    return vr\n",
    "end\n",
    "\n"
   ]
  },
  {
   "cell_type": "code",
   "execution_count": 195,
   "metadata": {},
   "outputs": [
    {
     "ename": "ErrorException",
     "evalue": "syntax: character literal contains multiple characters",
     "output_type": "error",
     "traceback": [
      "syntax: character literal contains multiple characters\n",
      "\n",
      "Stacktrace:\n",
      "  [1] top-level scope\n",
      "    @ d:\\My Documents\\Code\\Julia_codes\\Tensor network\\IPEPS_TensorKit\\kagome\\SU2_PG\\itebd.ipynb:13\n",
      "  [2] eval\n",
      "    @ .\\boot.jl:373 [inlined]\n",
      "  [3] include_string(mapexpr::typeof(REPL.softscope), mod::Module, code::String, filename::String)\n",
      "    @ Base .\\loading.jl:1196\n",
      "  [4] #invokelatest#2\n",
      "    @ .\\essentials.jl:716 [inlined]\n",
      "  [5] invokelatest\n",
      "    @ .\\essentials.jl:714 [inlined]\n",
      "  [6] (::VSCodeServer.var\"#164#165\"{VSCodeServer.NotebookRunCellArguments, String})()\n",
      "    @ VSCodeServer c:\\Users\\Lenovo\\.vscode\\extensions\\julialang.language-julia-1.6.17\\scripts\\packages\\VSCodeServer\\src\\serve_notebook.jl:19\n",
      "  [7] withpath(f::VSCodeServer.var\"#164#165\"{VSCodeServer.NotebookRunCellArguments, String}, path::String)\n",
      "    @ VSCodeServer c:\\Users\\Lenovo\\.vscode\\extensions\\julialang.language-julia-1.6.17\\scripts\\packages\\VSCodeServer\\src\\repl.jl:184\n",
      "  [8] notebook_runcell_request(conn::VSCodeServer.JSONRPC.JSONRPCEndpoint{Base.PipeEndpoint, Base.PipeEndpoint}, params::VSCodeServer.NotebookRunCellArguments)\n",
      "    @ VSCodeServer c:\\Users\\Lenovo\\.vscode\\extensions\\julialang.language-julia-1.6.17\\scripts\\packages\\VSCodeServer\\src\\serve_notebook.jl:13\n",
      "  [9] dispatch_msg(x::VSCodeServer.JSONRPC.JSONRPCEndpoint{Base.PipeEndpoint, Base.PipeEndpoint}, dispatcher::VSCodeServer.JSONRPC.MsgDispatcher, msg::Dict{String, Any})\n",
      "    @ VSCodeServer.JSONRPC c:\\Users\\Lenovo\\.vscode\\extensions\\julialang.language-julia-1.6.17\\scripts\\packages\\JSONRPC\\src\\typed.jl:67\n",
      " [10] serve_notebook(pipename::String, outputchannel_logger::Base.CoreLogging.SimpleLogger; crashreporting_pipename::String)\n",
      "    @ VSCodeServer c:\\Users\\Lenovo\\.vscode\\extensions\\julialang.language-julia-1.6.17\\scripts\\packages\\VSCodeServer\\src\\serve_notebook.jl:136\n",
      " [11] top-level scope\n",
      "    @ c:\\Users\\Lenovo\\.vscode\\extensions\\julialang.language-julia-1.6.17\\scripts\\notebook\\notebook.jl:32\n",
      " [12] include(mod::Module, _path::String)\n",
      "    @ Base .\\Base.jl:418\n",
      " [13] exec_options(opts::Base.JLOptions)\n",
      "    @ Base .\\client.jl:292\n",
      " [14] _start()\n",
      "    @ Base .\\client.jl:495"
     ]
    }
   ],
   "source": [
    "\n",
    "function TransfOp_decom(A,O,total_space,total_sec,pow,Dtrun_init,Dtrun_max,trun_tol,method)\n",
    "    # euL_set,evL_set,euR_set,evR_set,SPIN_eig_set=FLR_eig(Ag,OO,Dtrun,space_AOA,AOA_sec);\n",
    "\n",
    "    # eul_set,evl_set,eur_set,evr_set,spin_eig_set=GLR_eig(Ag,Dtrun,space_AA,AA_sec);\n",
    "\n",
    "    # S_set,U_set,Vh_set,SPIN_svd_set=FLR_svd(Ag,OO,pow,Dtrun,space_AOA,AOA_sec);\n",
    "\n",
    "    # s_set,u_set,vh_set,spin_svd_set=GLR_svd(Ag,pow,Dtrun,space_AA,AA_sec);\n",
    "\n",
    "\n",
    "    # euR_set,evL_set,evR_set,SPIN_eig_set=truncate_sectors(Dtrun,euR_set,evL_set,evR_set,SPIN_eig_set);\n",
    "\n",
    "    # eur_set,evl_set,evr_set,spin_eig_set=truncate_sectors(Dtrun,eur_set,evl_set,evr_set,spin_eig_set);\n",
    "\n",
    "    # S_set,U_set,Vh_set,SPIN_svd_set=truncate_sectors(Dtrun,S_set,U_set,Vh_set,SPIN_svd_set);\n",
    "\n",
    "    # s_set,u_set,vh_set,spin_svd_set=truncate_sectors(Dtrun,s_set,u_set,vh_set,spin_svd_set);\n",
    "\n",
    "\n",
    "    Dstep=50;\n",
    "    Dtrun=Dtrun_init;\n",
    "    if method==\"eigenvalue_FLR\"\n",
    "        for cs=1:round((Dtrun_max-Dtrun_init)/Dstep)+1\n",
    "            _,evL_set,euR_set,evR_set,SPIN_eig_set=FLR_eig(A,O,Dtrun,total_space,total_sec);\n",
    "            euR_set,evL_set,evR_set,SPIN_eig_set=truncate_sectors(Dtrun,euR_set,evL_set,evR_set,SPIN_eig_set);\n",
    "            eu=abs.(group_numbers(euR_set));\n",
    "            eu_normed=eu/maximum(eu); \n",
    "            eu_normed=eu_normed.^pow;\n",
    "            display(\"FLR_eig, Dtrun=\"*string(Dtrun)*\", minimal eigenvalue: \"*string(min(eu_normed)))\n",
    "            if minimum(eu_normed)<trun_tol\n",
    "                break;\n",
    "            else\n",
    "                if Dtrun>(size(A,1)^2)*(size(O,1)^2)\n",
    "                    disp('Dtrun exceeds matrix size')\n",
    "                    break;\n",
    "                end\n",
    "                Dtrun=Dtrun+Dstep;\n",
    "            end\n",
    "        end\n",
    "\n",
    "        for cc=1:length(euR_set)\n",
    "            euR=euR_set[cc];\n",
    "            evL=evL_set[cc];\n",
    "            evR=evR_set[cc];\n",
    "            SPIN_eig=SPIN_eig_set[cc];\n",
    "            for cs=length(euR):-1:1\n",
    "                if (abs(euR[cs])^pow)/(maximum(eu)^pow)<trun_tol\n",
    "                    deleteat!(euR, cs);\n",
    "                    deleteat!(evR, cs);\n",
    "                    deleteat!(evL, cs);\n",
    "                    deleteat!(SPIN_eig, cs);\n",
    "                end\n",
    "            end\n",
    "            euR_set[cc]=euR;\n",
    "            evL_set[cc]=evL;\n",
    "            evR_set[cc]=evR;\n",
    "            SPIN_eig_set[cc]=SPIN_eig;\n",
    "        end\n",
    "        \n",
    "        return euR_set,evL_set,evR_set,SPIN_eig_set\n",
    "\n",
    "    elseif method==\"eigenvalue_GLR\"\n",
    "        for cs=1:round((Dtrun_max-Dtrun_init)/Dstep)+1\n",
    "            _,evl_set,eur_set,evr_set,spin_eig_set=GLR_eig(A,Dtrun,total_space,total_sec);\n",
    "            eur_set,evl_set,evr_set,spin_eig_set=truncate_sectors(Dtrun,eur_set,evl_set,evr_set,spin_eig_set);\n",
    "            eu=abs.(group_numbers(lambdal));\n",
    "            eu=eu/maximum(eu); \n",
    "            eu=eu.^pow;\n",
    "            disp(['method=',method,', Dtrun=',num2str(Dtrun),', minimal eigenvalue: ',num2str(min(eu))])\n",
    "            if minimum(eu)<trun_tol\n",
    "                break;\n",
    "            else\n",
    "                if Dtrun>size(A,1)^2\n",
    "                    disp('Dtrun exceeds matrix size')\n",
    "                    break;\n",
    "                end\n",
    "                Dtrun=Dtrun+Dstep;\n",
    "            end\n",
    "        end\n",
    "\n",
    "        \n",
    "        posit=find(eu_sorted>trun_tol);\n",
    "        evl=evl(:,posit);\n",
    "        lambdal=lambdal(posit);\n",
    "        evr=evr(:,posit);\n",
    "        lambdar=lambdar(posit);\n",
    "        \n",
    "        return evl,lambdal,evr,lambdar\n",
    "\n",
    "    elseif method==\"svd_FLR\"\n",
    "        for cs=1:round((Dtrun_max-Dtrun_init)/Dstep)+1\n",
    "            S_set,U_set,Vh_set,SPIN_svd_set=FLR_svd(A,O,pow,Dtrun,total_space,total_sec);\n",
    "            S_set,U_set,Vh_set,SPIN_svd_set=truncate_sectors(Dtrun,S_set,U_set,Vh_set,SPIN_svd_set);\n",
    "            Vt=V';   \n",
    "            eu=abs.(group_numbers(S));\n",
    "            eu=eu/maximum(eu); \n",
    "            disp(['method=',method,', Dtrun=',num2str(Dtrun),', minimal singularvalue: ',num2str(min(eu))])\n",
    "            if minimum(eu)<trun_tol\n",
    "                break;\n",
    "            else\n",
    "                if Dtrun>(size(A,1)^2)*(size(O,1)^2)\n",
    "                    disp('Dtrun exceeds matrix size')\n",
    "                    break;\n",
    "                end\n",
    "                Dtrun=Dtrun+Dstep;\n",
    "            end\n",
    "        end\n",
    "        \n",
    "        posit=find(eu_sorted>trun_tol);\n",
    "        U=U(:,posit);\n",
    "        S=S(posit,posit);\n",
    "        Vt=Vt(posit,:);\n",
    "        \n",
    "        \n",
    "        S=diag(S);\n",
    "        \n",
    "        return U,S,Vt\n",
    "    elseif method==\"svd_GLR\"\n",
    "        for cs=1:round((Dtrun_max-Dtrun_init)/Dstep)+1\n",
    "            s_set,u_set,vh_set,spin_svd_set=GLR_svd(A,pow,Dtrun,total_space,total_sec);\n",
    "            s_set,u_set,vh_set,spin_svd_set=truncate_sectors(Dtrun,s_set,u_set,vh_set,spin_svd_set);\n",
    "            vt=v';\n",
    "            eu=abs.(group_numbers(s));\n",
    "            eu=eu/maximum(eu); \n",
    "            disp(['method=',method,', Dtrun=',num2str(Dtrun),', minimal singularvalue: ',num2str(min(eu))])\n",
    "            if minimum(eu)<trun_tol\n",
    "                break;\n",
    "            else\n",
    "                if Dtrun>(size(A,1)^2)\n",
    "                    disp('Dtrun exceeds matrix size')\n",
    "                    break;\n",
    "                end\n",
    "                Dtrun=Dtrun+Dstep;\n",
    "            end\n",
    "        end\n",
    "    \n",
    "        posit=find(eu_sorted>trun_tol);\n",
    "        u=u(:,posit);\n",
    "        s=s(posit,posit);\n",
    "        vt=vt(posit,:);\n",
    "        \n",
    "        s=diag(s);\n",
    "        return u,s,vt\n",
    "    end\n",
    "end\n",
    "    \n",
    "\n",
    "    \n",
    "    \n"
   ]
  },
  {
   "cell_type": "code",
   "execution_count": 219,
   "metadata": {},
   "outputs": [
    {
     "data": {
      "text/plain": [
       "(7,)"
      ]
     },
     "metadata": {},
     "output_type": "display_data"
    },
    {
     "data": {
      "text/plain": [
       "(5,)"
      ]
     },
     "metadata": {},
     "output_type": "display_data"
    },
    {
     "data": {
      "text/plain": [
       "(7,)"
      ]
     },
     "metadata": {},
     "output_type": "display_data"
    },
    {
     "data": {
      "text/plain": [
       "(5,)"
      ]
     },
     "metadata": {},
     "output_type": "display_data"
    },
    {
     "data": {
      "text/plain": [
       "7-element Vector{Any}:\n",
       " ComplexF64[0.1577577388961434 - 1.8843654374702803e-6im, 0.0535664687199536 - 0.08724814121487821im, 0.053562574287501566 + 0.08724842357783108im, 0.09173162414628684 - 7.399530496211916e-6im, 0.06264627206107239 + 1.034324744799323e-5im, 0.03202432567214682 + 0.053605100727527236im, 0.03201686969993876 - 0.05358746827531987im, 0.05617336349894817 + 1.0880505537933007e-6im, 0.010932516726949521 - 0.04210979658536622im, 0.0109281430171601 + 0.04209629202921165im  …  0.00039200140708065055 - 0.0018115286083894798im, 0.00018052781603104855 + 0.0018263889204132384im, 0.00017693908504362962 - 0.0018261108578554693im, 0.0017807522558686193 - 0.00022574997521938007im, 0.0017766210584272742 + 0.0002243147279048776im, 0.0015376826708557347 + 1.3616820218456309e-5im, 0.00039855839603202464 - 0.0011763808561268928im, 0.00039709719140316514 + 0.0011732105297074624im, 0.0009891018475603616 - 9.949257964996251e-7im, 0.00033894023968505065 + 1.3947493102510564e-6im]\n",
       " ComplexF64[0.11630559730989576 - 0.058945856034161526im, 0.11630980992278661 + 0.05893442323362899im, 0.07855786958903131 - 0.04925298488877641im, 0.07855526897228945 + 0.04923952621617333im, 0.0033685770442832374 + 0.056465119710484624im, 0.00338699153117681 - 0.05641470726211673im, 0.03525661196284054 + 0.04155989563420703im, 0.035213514282385436 - 0.04156395418967852im, 0.04337614733277678 + 0.02970204321539196im, 0.04330813836264621 - 0.029731910772577586im  …  0.002118712359274276 + 0.0010197146634052545im, 0.0021080527881208954 - 0.0010136189391533998im, 0.0017250743867691523 + 0.001000612534914696im, 0.0017164429271019537 - 0.0010113753395523703im, 0.0009743111623092496 - 0.0010809085771988115im, 0.000977357785899599 + 0.0010663441901744323im, 0.001110099129815653 + 0.0005791912791756181im, 0.0011131446910157378 - 0.0005636610301612312im, 0.0009989762814316436 + 0.0005459980988575494im, 0.001000799200687053 - 0.000537147393141136im]\n",
       " ComplexF64[0.08564187432777043 - 2.0916436171480113e-5im, 0.04953242067586448 - 0.06569718771295613im, 0.04954261374376823 + 0.0656743220678337im, 0.068090038023087 + 0.00389836061348433im, 0.06748961264490484 - 0.004315903725008725im, 0.04823399859190223 + 0.01767902093893285im, 0.04765818732708371 - 0.017485202532733318im, 0.0459015954428636 - 0.012688584491776029im, 0.04551087600098279 + 0.012953818168597841im, 0.01742025894553459 - 0.04345083172831655im  …  0.00043502984147161767 - 0.001746067317805241im, 0.00178346148485978 - 0.0001966503488259707im, 0.0017783203273696447 + 0.00019780153710923786im, 0.0014063755499109931 - 3.2756730198860777e-6im, 0.001258286436377968 + 4.4672699631462055e-6im, 0.0009958416815787348 + 3.6600015138413515e-5im, 0.0009947126698997577 - 3.752011746264483e-5im, 7.671043346487951e-5 + 0.0009506601450583913im, 7.604983308292298e-5 - 0.0009500987100071517im, 0.0006865550564750199 + 2.1372760712564697e-6im]\n",
       " ComplexF64[0.039855237024584 - 0.026248838394813415im, 0.03980512082384377 + 0.025867481679361735im, 0.03984893634798662 - 0.008434975142743913im, 0.039696560560629465 + 0.00858823045604299im, 0.02900301235416913 + 0.025204798154528394im, 0.028854954504425035 - 0.025014933307207093im, 0.03214864159537709 + 0.015252213595009454im, 0.03213290261814097 - 0.015163106440385767im, 0.029825224166338607 - 0.016353068460578695im, 0.029789859866167338 + 0.01634088323173746im  …  0.0023019445403625353 - 0.0020325429637407903im, 0.0023112468294854893 + 0.0020219516217609146im, -0.0006509415494804414 - 0.002974636490050665im, -0.0006180883179267487 + 0.002978392723061949im, 0.0027302702578511978 - 0.0010124103701419484im, 0.0027329021921289618 + 0.0009922065257905988im, 0.0017855390137805768 - 0.0020016991815809994im, 0.001788723623723175 + 0.0019736714726786425im, 0.0021399701095471593 + 0.0010620119170507755im, 0.002126453200693505 - 0.0010555255761401723im]\n",
       " ComplexF64[0.021109465718742015 + 0.008320910200636989im, 0.021042931933184694 - 0.008355292475162788im, 0.019502039267810637 + 0.0011896346306704954im, 0.01946910679765267 - 0.0010465791478502442im, 0.019404519807250203 - 6.294811043424687e-5im, 0.011211128218233524 - 0.015774254988130388im, 0.011220437618363058 + 0.015727851078514564im, 0.008560166604825023 + 0.017286544155848092im, 0.008602953857317564 - 0.017248081391783247im, 0.012698739537583966 - 0.005464345601788524im  …  0.0030711619865641847 - 3.8477492753780754e-6im, 0.002238533070838946 + 1.8195016526886335e-6im, 0.0018908992392293303 + 0.00019710827211676308im, 0.0018898248840601272 - 0.00020216086324244696im, 0.0001705035050862333 + 0.0018138026184822435im, 0.00016601563934525864 - 0.001813321913406443im, 0.00043906263275057323 + 0.0017351246551949807im, 0.0004420716361675739 - 0.001734018413483348im, 0.0017735088378480453 - 0.0002183681805467154im, 0.0017725241455992722 + 0.0002213247920858838im]\n",
       " ComplexF64[0.009307904895995497 + 0.006431125092142174im, 0.009304959478106889 - 0.006419185195026344im, 0.0063257960631399246 - 0.0035282654937950956im, 0.006315222760269816 + 0.0034329323476201996im, 0.0029452522875064403 + 0.005636981241911708im, 0.0029079375397458996 - 0.005636229953066005im, 0.005597796985024766 - 0.0025340209906430824im, 0.005569289533494798 + 0.0025813194838040054im, -0.0012477696820635113 - 0.005998525765921936im, 0.004132444270569013 + 0.004483814723332336im, -0.0012544610097219955 + 0.005954379211356998im, 0.004171574252031608 - 0.0044291271022136895im, 0.00496967149467596 + 0.0029922606353053123im, 0.004982292903496474 - 0.0029383418234618388im, 0.0044425587819946055 - 0.0036988630360783384im, 0.004460750193218646 + 0.0036754036949740074im, -0.0011676723568485588 + 0.005528859640962394im, -0.0011807395003468116 - 0.005496776849005254im, 0.005054386987477295 - 0.002124919184398266im, 0.005060645023961928 + 0.0020872257293553563im]\n",
       " ComplexF64[0.003376188972460263 + 0.0002387885159165539im, 0.0033761884702266562 - 0.00023877908979476591im, 0.0008519770518244244 - 0.0032756229097929356im, 0.000851965889438321 + 0.0032756240160008304im]"
      ]
     },
     "metadata": {},
     "output_type": "display_data"
    },
    {
     "data": {
      "text/plain": [
       "5-element Vector{Any}:\n",
       " ComplexF64[0.9999999999999967 + 0.0im, 0.3379962808499714 + 0.4976112996498166im, 0.33799628084997124 - 0.49761129964981626im, 0.5330857954257678 + 3.0986702158586152e-18im, 0.28108383407147064 + 1.3590543689443931e-17im, 0.21516723753989953 + 5.222648592160056e-18im, 0.17012205080898707 - 1.127616908368512e-16im, 0.1681988851459236 + 1.3205980207176341e-16im, 0.03640315070943887 - 5.059617432563368e-18im]\n",
       " ComplexF64[0.731757073043601 - 0.3685034595633231im, 0.7317570730436 + 0.3685034595633231im, 0.4501933622096102 - 0.2841385768120299im, 0.4501933622096095 + 0.2841385768120296im, 0.27227318937820105 + 0.15193735019476723im, 0.272273189378201 - 0.15193735019476706im, 0.23872266828941807 - 0.14168091687930712im, 0.2387226682894178 + 0.14168091687930712im, 0.14912504424628628 + 0.11262801983582714im, 0.149125044246286 - 0.11262801983582697im, 0.1249020432132228 - 0.0509745058168456im, 0.12490204321322249 + 0.05097450581684569im]\n",
       " ComplexF64[0.5184243870617629 + 1.34766355271868e-16im, 0.3007580465261749 + 0.4066855127764845im, 0.30075804652617466 - 0.4066855127764843im, 0.4433897756261627 + 0.08635000398824551im, 0.44338977562616255 - 0.08635000398824555im, 0.367891732464104 + 4.6446218490695656e-17im, 0.16633454806267056 + 3.742106036422683e-17im, 0.088912869649918 - 2.9424697481059694e-17im, 0.08176808176650892 - 2.3523260112725555e-17im]\n",
       " ComplexF64[0.27531054296569185 - 0.15023998770884148im, 0.2753105429656916 + 0.15023998770884148im, 0.24352460613339585 - 0.12374286691178589im, 0.24352460613339552 + 0.12374286691178579im]\n",
       " ComplexF64[0.16685299847297513 + 0.0im]"
      ]
     },
     "metadata": {},
     "output_type": "display_data"
    },
    {
     "data": {
      "text/plain": [
       "7-element Vector{Any}:\n",
       " [0.04468421269500079, 0.03378446826391752, 0.01835290902872916, 0.0172645264373592, 0.012847291278774127, 0.009518535121174137, 0.006918592030123927, 0.004466150065214444, 0.0041190315373507164, 0.003535741537870377  …  2.4023480889881895e-6, 2.266291389477192e-6, 2.126420321925369e-6, 1.962933456830573e-6, 1.5710312367605673e-6, 1.3290031299073746e-6, 1.0555713883579011e-6, 7.665704634194993e-7, 4.993601875080696e-7, 7.703078671950417e-8]\n",
       " [0.03960355001905241, 0.03782859614061995, 0.019137415742411054, 0.016529945244107013, 0.014122508475273066, 0.013648224111284411, 0.010300717050496329, 0.008825526960303209, 0.005724106283320946, 0.005135775063152583  …  2.3338535728206254e-6, 2.0565618776832558e-6, 1.833298690033602e-6, 1.7829060490700862e-6, 1.593961461664077e-6, 1.4626938543986553e-6, 1.2106719590196704e-6, 7.921424063286284e-7, 6.158792059762692e-7, 4.427939049923879e-7]\n",
       " [0.03424081518935906, 0.017949134384433213, 0.015626722810191746, 0.013595772155432123, 0.011134888124572763, 0.006437544785163064, 0.004507505006173738, 0.0039905903556642615, 0.0035382128566268725, 0.003387627990964154  …  2.2574484390047068e-6, 2.1869789556978747e-6, 2.1193677196460234e-6, 2.04725901207701e-6, 9.659417631869198e-7, 7.863495859722252e-7, 6.916583750160815e-7, 5.799280638583175e-7, 4.6711169763712703e-7, 3.375193982967089e-7]\n",
       " [0.013564681075287681, 0.010072293532929818, 0.004722224024979163, 0.004129643248093621, 0.003502546516471341, 0.0029784399050093633, 0.002591310278915559, 0.0021335174074155992, 0.0019128170517096878, 0.0018038709642663245  …  5.218692268470192e-6, 5.052966619039157e-6, 4.935867488561433e-6, 4.492357306862075e-6, 4.26285597796933e-6, 4.11377776021567e-6, 3.9075571980269005e-6, 3.598965152431305e-6, 3.270920250762741e-6, 2.114805026234802e-6]\n",
       " [0.002942109179955918, 0.002130622172913757, 0.001217780071286316, 0.0008326610836522396, 0.0007709307551330556, 0.0006763271611146129, 0.0006244711220192928, 0.000599719114775268, 0.0004563276423705073, 0.00038738587425237684  …  8.988167376951233e-6, 4.039138248330651e-6, 3.114513377405765e-6, 3.0164813475307437e-6, 2.9786166994511296e-6, 2.840616113172678e-6, 2.774184661980777e-6, 2.4113082814414862e-6, 2.353369294155002e-6, 2.300441357412533e-6]\n",
       " [0.0003991957603772387, 0.00021461471522872365, 0.00013624300089263588, 0.0001162980353099141, 6.405483718887715e-5, 6.304858886533705e-5, 6.129752067441715e-5, 6.084150216758053e-5, 3.884448425509144e-5, 3.0243330009979767e-5, 2.4523529860704407e-5, 2.1621823656342605e-5, 2.071025647692792e-5, 2.0227414566873128e-5, 1.986874721242066e-5, 1.9706487115280435e-5, 1.9575386677877416e-5, 1.9191148430547204e-5, 1.7968533955717228e-5, 1.5913650817545145e-5]\n",
       " [1.1811783454364905e-5, 1.1544527531985975e-5, 1.1367391538086839e-5, 1.1110186872112979e-5]"
      ]
     },
     "metadata": {},
     "output_type": "display_data"
    },
    {
     "data": {
      "text/plain": [
       "5-element Vector{Any}:\n",
       " [1.8467347295006624, 0.9532069195679147, 0.3336931874392009, 0.2847883922085106, 0.05039510224212825, 0.03731772222011834, 0.0288572694435892, 0.01644059527618372, 0.0009894722466946817]\n",
       " [1.2619524918325167, 1.2619524918325153, 0.2962930193568061, 0.29629301935680585, 0.15175655606716554, 0.15175655606716532, 0.041148853716427625, 0.041148853716427576, 0.03574692444844142, 0.03574692444844141, 0.010852873424266775, 0.010852873424266761]\n",
       " [1.0943068124535755, 0.29765788137271093, 0.2847542328403959, 0.14794710323477722, 0.1454365022601171, 0.08390769273824616, 0.02487637254348838, 0.006942337463300909, 0.005013188526528348]\n",
       " [0.15150186045563704, 0.15150185995431553, 0.04844742553487242, 0.048447425389733026]\n",
       " [0.02783992309942267]"
      ]
     },
     "metadata": {},
     "output_type": "display_data"
    },
    {
     "name": "stdout",
     "output_type": "stream",
     "text": [
      "FLR_eig: \n",
      "spin 0.0\n",
      "spin 0.5\n",
      "spin 1.0\n",
      "spin 1.5\n",
      "spin 2.0\n",
      "spin 2.5\n",
      "spin 3.0\n",
      "GLR_eig: \n",
      "spin 0.0\n",
      "spin 0.5\n",
      "spin 1.0\n",
      "spin 1.5\n",
      "spin 2.0\n",
      "FLR_svd: \n",
      "spin 0.0\n",
      "spin 0.5\n",
      "spin 1.0\n",
      "spin 1.5\n",
      "spin 2.0\n",
      "spin 2.5\n",
      "spin 3.0\n",
      "GLR_svd: \n",
      "spin 0.0\n",
      "spin 0.5\n",
      "spin 1.0\n",
      "spin 1.5\n",
      "Number of singular values obtained are not enough, add noise, increase Krylov subspace and use smaller tol\n",
      "spin 2.0\n"
     ]
    },
    {
     "name": "stderr",
     "output_type": "stream",
     "text": [
      "┌ Warning: Invariant subspace of dimension 2 (up to requested tolerance `tol = 1.0e-12`), which is smaller than the number of requested singular values (i.e. `howmany == 4`); setting `howmany = 2`.\n",
      "└ @ KrylovKit C:\\Users\\Lenovo\\.julia\\packages\\KrylovKit\\YPiz7\\src\\eigsolve\\svdsolve.jl:142\n"
     ]
    }
   ],
   "source": [
    "\n",
    "euL_set,evL_set,euR_set,evR_set,SPIN_eig_set=FLR_eig(Ag,OO,Dtrun,space_AOA,AOA_sec);\n",
    "display(size(euL_set))\n",
    "eul_set,evl_set,eur_set,evr_set,spin_eig_set=GLR_eig(Ag,Dtrun,space_AA,AA_sec);\n",
    "display(size(eul_set))\n",
    "S_set,U_set,Vh_set,SPIN_svd_set=FLR_svd(Ag,OO,pow,Dtrun,space_AOA,AOA_sec);\n",
    "display(size(S_set))\n",
    "s_set,u_set,vh_set,spin_svd_set=GLR_svd(Ag,pow,Dtrun,space_AA,AA_sec);\n",
    "display(size(s_set))\n",
    "\n",
    "\n",
    "euR_set,evL_set,evR_set,SPIN_eig_set=truncate_sectors(Dtrun,euR_set,evL_set,evR_set,SPIN_eig_set);\n",
    "display(euR_set)\n",
    "eur_set,evl_set,evr_set,spin_eig_set=truncate_sectors(Dtrun,eur_set,evl_set,evr_set,spin_eig_set);\n",
    "display(eur_set)\n",
    "S_set,U_set,Vh_set,SPIN_svd_set=truncate_sectors(Dtrun,S_set,U_set,Vh_set,SPIN_svd_set);\n",
    "display(S_set)\n",
    "s_set,u_set,vh_set,spin_svd_set=truncate_sectors(Dtrun,s_set,u_set,vh_set,spin_svd_set);\n",
    "display(s_set)"
   ]
  },
  {
   "cell_type": "code",
   "execution_count": 222,
   "metadata": {},
   "outputs": [
    {
     "data": {
      "text/plain": [
       "4.469815665755795e-15"
      ]
     },
     "metadata": {},
     "output_type": "display_data"
    },
    {
     "data": {
      "text/plain": [
       "4.465236723546269e-15"
      ]
     },
     "metadata": {},
     "output_type": "display_data"
    },
    {
     "data": {
      "text/plain": [
       "2.9533162314183983e-10"
      ]
     },
     "metadata": {},
     "output_type": "display_data"
    },
    {
     "data": {
      "text/plain": [
       "2.953316181626101e-10"
      ]
     },
     "metadata": {},
     "output_type": "display_data"
    },
    {
     "data": {
      "text/plain": [
       "4.470475262446494e-14"
      ]
     },
     "metadata": {},
     "output_type": "display_data"
    },
    {
     "data": {
      "text/plain": [
       "1.2416814418065538e-14"
      ]
     },
     "metadata": {},
     "output_type": "display_data"
    },
    {
     "data": {
      "text/plain": [
       "5.4804729886290575e-15"
      ]
     },
     "metadata": {},
     "output_type": "display_data"
    }
   ],
   "source": [
    "\n",
    "#check FLR_svd\n",
    "@tensor M[:]:=Ag'[-1,-4,1]*OO[-2,2,-5,1]*Ag[-3,-6,2];\n",
    "M=permute(M,(1,2,3,),(4,5,6,));\n",
    "for cc=1:pow-1\n",
    "    M=M*M;\n",
    "end\n",
    "M_temp=M*0;\n",
    "for cc=1:length(S_set)\n",
    "    S=S_set[cc];\n",
    "    U=U_set[cc];\n",
    "    Vh=Vh_set[cc];\n",
    "    spin=SPIN_svd_set[cc]\n",
    "    for cs=1:length(S)\n",
    "        M_temp=M_temp+S[cs]*U[cs]*Vh[cs]*(spin[cs]*2+1);\n",
    "    end\n",
    "end\n",
    "display(norm(M-M_temp)/norm(M))\n",
    "\n",
    "S_set_combined,Vh_set_combined,U_set_combined,SPIN_svd_set_combined=combine_singlespin_sector(S_set,Vh_set,U_set,SPIN_svd_set,false)\n",
    "M_temp=M*0;\n",
    "for cc=1:length(S_set)\n",
    "    S=S_set_combined[cc];\n",
    "    U=U_set_combined[cc];\n",
    "    Vh=Vh_set_combined[cc];\n",
    "    spin=SPIN_svd_set_combined[cc]\n",
    "    if S==[]\n",
    "    else\n",
    "        M_temp=M_temp+U*S*Vh*(spin*2+1);\n",
    "    end\n",
    "end\n",
    "display(norm(M-M_temp)/norm(M))\n",
    "\n",
    "\n",
    "\n",
    "#check GLR_svd\n",
    "@tensor M[:]:=Ag'[-1,-3,1]*Ag[-2,-4,1];\n",
    "M=permute(M,(1,2,),(3,4,));\n",
    "for cc=1:pow-1\n",
    "    M=M*M;\n",
    "end\n",
    "M_temp=M*0;\n",
    "for cc=1:length(s_set)\n",
    "    s=s_set[cc];\n",
    "    u=u_set[cc];\n",
    "    vh=vh_set[cc];\n",
    "    spin=spin_svd_set[cc]\n",
    "    for cs=1:length(s)\n",
    "        M_temp=M_temp+s[cs]*u[cs]*vh[cs]*(spin[cs]*2+1);\n",
    "    end\n",
    "end\n",
    "display(norm(M-M_temp)/norm(M))\n",
    "\n",
    "s_set_combined,vh_set_combined,u_set_combined,spin_svd_set_combined=combine_singlespin_sector(s_set,vh_set,u_set,spin_svd_set,false)\n",
    "\n",
    "\n",
    "M_temp=M*0;\n",
    "for cc=1:length(s_set)\n",
    "    s=s_set_combined[cc];\n",
    "    vh=vh_set_combined[cc];\n",
    "    u=u_set_combined[cc];\n",
    "    spin=spin_svd_set_combined[cc]\n",
    "    if s==[]\n",
    "    else\n",
    "        M_temp=M_temp+u*s*vh*(spin*2+1);\n",
    "    end\n",
    "end\n",
    "display(norm(M-M_temp)/norm(M))\n",
    "\n",
    "#check FLR_eig\n",
    "@tensor M[:]:=Ag'[-1,-4,1]*OO[-2,2,-5,1]*Ag[-3,-6,2];\n",
    "M=permute(M,(1,2,3,),(4,5,6,));\n",
    "for cc=1:pow-1\n",
    "    M=M*M;\n",
    "end\n",
    "M_temp=M*0;\n",
    "for cc=1:length(euR_set)\n",
    "    euR=euR_set[cc];\n",
    "    evR=evR_set[cc];\n",
    "    evL=evL_set[cc];\n",
    "    spin=SPIN_eig_set[cc]\n",
    "    for cs=1:length(euR)\n",
    "        @tensor coe=evR[cs][2,3,4,1]*evL[cs][1,2,3,4];\n",
    "        M_temp=M_temp+euR[cs]^(pow)*evR[cs]*evL[cs]*(spin[cs]*2+1)/coe;\n",
    "    end\n",
    "end\n",
    "display(norm(M-M_temp)/norm(M))\n",
    "\n",
    "euR_set_combined,evL_set_combined,evR_set_combined,SPIN_eig_set_combined=combine_singlespin_sector(euR_set,evL_set,evR_set,SPIN_eig_set,true)\n",
    "M_temp=M*0;\n",
    "for cc=1:length(euR_set)\n",
    "    euR=euR_set_combined[cc];\n",
    "    evR=evR_set_combined[cc];\n",
    "    evL=evL_set_combined[cc];\n",
    "    spin=SPIN_eig_set_combined[cc]\n",
    "    if euR==[]\n",
    "    else\n",
    "        for cc=1:pow-1\n",
    "            euR=euR*euR;\n",
    "        end\n",
    "        M_temp=M_temp+evR*euR*evL*(spin*2+1);\n",
    "    end\n",
    "end\n",
    "display(norm(M-M_temp)/norm(M))\n",
    "\n",
    "\n",
    "\n",
    "\n",
    "#check GLR_eig\n",
    "@tensor M[:]:=Ag'[-1,-3,1]*Ag[-2,-4,1];\n",
    "M=permute(M,(1,2,),(3,4,));\n",
    "for cc=1:pow-1\n",
    "    M=M*M;\n",
    "end\n",
    "eur_set_combined,evl_set_combined,evr_set_combined,spin_eig_set_combined=combine_singlespin_sector(eur_set,evl_set,evr_set,spin_eig_set,true)\n",
    "\n",
    "M_temp=M*0;\n",
    "for cc=1:length(eul_set)\n",
    "    eur=eur_set_combined[cc];\n",
    "    evl=evl_set_combined[cc];\n",
    "    evr=evr_set_combined[cc];\n",
    "    spin=spin_eig_set_combined[cc]\n",
    "    if eur==[]\n",
    "    else\n",
    "        for cc=1:pow-1\n",
    "            eur=eur*eur;\n",
    "        end\n",
    "        M_temp=M_temp+evr*eur*evl*(spin*2+1);\n",
    "    end\n",
    "end\n",
    "display(norm(M-M_temp)/norm(M))\n"
   ]
  },
  {
   "cell_type": "code",
   "execution_count": 215,
   "metadata": {},
   "outputs": [
    {
     "data": {
      "text/plain": [
       "719-element Vector{ComplexF64}:\n",
       "     0.1577577388961442 - 1.8843654374603057e-6im\n",
       "     0.0535664687199532 - 0.08724814121487774im\n",
       "   0.053562574287501656 + 0.08724842357783105im\n",
       "    0.09173162414628698 - 7.399530496214209e-6im\n",
       "    0.06264627206107223 + 1.0343247448011331e-5im\n",
       "   0.032024325672146775 + 0.053605100727527125im\n",
       "   0.032016869699938645 - 0.053587468275319676im\n",
       "   0.056173363498948255 + 1.0880505537477998e-6im\n",
       "   0.010932516726949589 - 0.04210979658536626im\n",
       "   0.010928143017160146 + 0.04209629202921178im\n",
       "                        ⋮\n",
       "   0.004460750193218659 + 0.003675403694974015im\n",
       " -0.0011676723568485572 + 0.005528859640962409im\n",
       " -0.0011807395003468157 - 0.00549677684900526im\n",
       "   0.005054386987477298 - 0.0021249191843982665im\n",
       "  0.0050606450239619296 + 0.002087225729355359im\n",
       "  0.0033761889724602634 + 0.00023878851591655414im\n",
       "   0.003376188470226656 - 0.0002387790897947645im\n",
       "  0.0008519770518244252 - 0.0032756229097929378im\n",
       "  0.0008519658894383221 + 0.0032756240160008335im"
      ]
     },
     "metadata": {},
     "output_type": "display_data"
    }
   ],
   "source": [
    "function group_numbers(E_set)\n",
    "    Es=copy(E_set[1]);\n",
    "    for cc=2:length(E_set)\n",
    "        Es=vcat(Es,E_set[cc]);\n",
    "    end\n",
    "    return Es\n",
    "end\n"
   ]
  },
  {
   "cell_type": "code",
   "execution_count": 224,
   "metadata": {},
   "outputs": [
    {
     "data": {
      "text/plain": [
       "3"
      ]
     },
     "metadata": {},
     "output_type": "display_data"
    }
   ],
   "source": [
    "a=[1,2,3]\n",
    "\n",
    "deleteat!(a, 2)\n",
    "maximum(a)"
   ]
  }
 ],
 "metadata": {
  "kernelspec": {
   "display_name": "Julia 1.7.2",
   "language": "julia",
   "name": "julia-1.7"
  },
  "language_info": {
   "file_extension": ".jl",
   "mimetype": "application/julia",
   "name": "julia",
   "version": "1.7.2"
  },
  "orig_nbformat": 4
 },
 "nbformat": 4,
 "nbformat_minor": 2
}
