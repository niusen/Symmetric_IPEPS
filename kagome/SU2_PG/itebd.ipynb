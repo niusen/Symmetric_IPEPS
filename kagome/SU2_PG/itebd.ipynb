{
 "cells": [
  {
   "cell_type": "code",
   "execution_count": 416,
   "metadata": {},
   "outputs": [],
   "source": [
    "using LinearAlgebra\n",
    "using TensorKit\n",
    "using KrylovKit\n",
    "using JSON\n",
    "using HDF5, JLD\n",
    "cd(\"D:\\\\My Documents\\\\Code\\\\Julia_codes\\\\Tensor network\\\\IPEPS_TensorKit\\\\kagome\\\\SU2_PG\")\n",
    "#push!(LOAD_PATH, \"D:\\\\My Documents\\\\Code\\\\Julia_codes\\\\Tensor network\\\\IPEPS_TensorKit\\\\kagome\\\\SU2_PG\")\n",
    "include(\"kagome_load_tensor.jl\")\n",
    "include(\"kagome_CTMRG.jl\")\n",
    "include(\"kagome_model.jl\")\n",
    "include(\"kagome_IPESS.jl\")\n",
    "\n",
    "D=6;\n",
    "chi=10;\n",
    "W=10;\n",
    "N=20;\n",
    "tol=1e-6;\n",
    "\n",
    "Dtrun=W*W*chi*chi;\n",
    "\n",
    "pow=Int((N-2)/2);\n",
    "\n",
    "J1=1;\n",
    "J2=0;\n",
    "J3=0;\n",
    "Jchi=0;\n",
    "Jtrip=0;\n"
   ]
  },
  {
   "cell_type": "code",
   "execution_count": 417,
   "metadata": {},
   "outputs": [
    {
     "data": {
      "text/plain": [
       "\"initialize CTM\""
      ]
     },
     "metadata": {},
     "output_type": "display_data"
    },
    {
     "data": {
      "text/plain": [
       "\"start CTM iterations:\""
      ]
     },
     "metadata": {},
     "output_type": "display_data"
    },
    {
     "name": "stdout",
     "output_type": "stream",
     "text": [
      "  2.339091 seconds (653.07 k allocations: 67.814 MiB, 79.08% gc time, 2.51% compilation time)\n",
      "CTMRG iteration: 1, CTMRG err: 2.381843388312667\n",
      "CTMRG iteration: 2, CTMRG err: 0.16758887210702916\n",
      "CTMRG iteration: 3, CTMRG err: 0.01596027742626989\n",
      "CTMRG iteration: 4, CTMRG err: 0.005665817296959171\n",
      "CTMRG iteration: 5, CTMRG err: 0.0016753918020690128\n",
      "CTMRG iteration: 6, CTMRG err: 0.0006074576485720598\n",
      "CTMRG iteration: 7, CTMRG err: 0.00023375102816346817\n",
      "CTMRG iteration: 8, CTMRG err: 9.659154953051407e-5\n",
      "CTMRG iteration: 9, CTMRG err: 4.080785607776493e-5\n",
      "CTMRG iteration: 10, CTMRG err: 1.7562204063620438e-5\n",
      "CTMRG iteration: 11, CTMRG err: 7.617736490288161e-6\n",
      "CTMRG iteration: 12, CTMRG err: 3.3195128247064078e-6\n",
      "CTMRG iteration: 13, CTMRG err: 1.4495809776378003e-6\n",
      "CTMRG iteration: 14, CTMRG err: 6.336851062992582e-7\n",
      "  7.602736 seconds (11.86 M allocations: 1.108 GiB, 28.85% gc time, 13.64% compilation time)\n",
      "  2.688274 seconds (7.37 M allocations: 803.821 MiB, 3.56% gc time, 32.92% compilation time)\n",
      "  1.366343 seconds (4.96 M allocations: 603.943 MiB, 11.25% gc time, 17.18% compilation time)\n"
     ]
    }
   ],
   "source": [
    "\n",
    "parameters=Dict([(\"J1\", J1), (\"J2\", J2), (\"J3\", J3), (\"Jchi\", Jchi), (\"Jtrip\", Jtrip)]);\n",
    "\n",
    "A_set,B_set,A1_set,A2_set, A_set_occu,B_set_occu,A1_set_occu,A2_set_occu, S_label, Sz_label, virtual_particle, Va, Vb=construct_tensor(D);\n",
    "\n",
    "filenm=\"LS_D_\"*string(D)*\"_chi_40.json\"\n",
    "json_dict=read_json_state(filenm);\n",
    "\n",
    "bond_tensor,triangle_tensor=construct_su2_PG_IPESS(json_dict,A_set,B_set,A1_set,A2_set, A_set_occu,B_set_occu,A1_set_occu,A2_set_occu, S_label, Sz_label, virtual_particle, Va, Vb);\n",
    "\n",
    "PEPS_tensor=bond_tensor;\n",
    "@tensor PEPS_tensor[:] := bond_tensor[-1,1,-5]*bond_tensor[4,3,-6]*bond_tensor[-4,2,-7]*triangle_tensor[1,3,2]*triangle_tensor[4,-2,-3];\n",
    "A_unfused=PEPS_tensor;\n",
    "\n",
    "U_phy=unitary(fuse(space(PEPS_tensor, 5) ⊗ space(PEPS_tensor, 6) ⊗ space(PEPS_tensor, 7)), space(PEPS_tensor, 5) ⊗ space(PEPS_tensor, 6) ⊗ space(PEPS_tensor, 7));\n",
    "@tensor A_fused[:] :=PEPS_tensor[-1,-2,-3,-4,1,2,3]*U_phy[-5,1,2,3];\n",
    "\n",
    "init=Dict([(\"CTM\", []), (\"init_type\", \"PBC\")]);\n",
    "conv_check=\"singular_value\";\n",
    "@time CTM, AA_fused, U_L,U_D,U_R,U_U=CTMRG(A_fused,chi,conv_check,tol,init);\n",
    "\n",
    "@time E_up, E_down=evaluate_ob(parameters, U_phy, A_unfused, A_fused, AA_fused, CTM, \"E_triangle\");\n",
    "@time E_up_12, E_up_31, E_up_23, E_down_12, E_down_31, E_down_23=evaluate_ob(parameters, U_phy, A_unfused, A_fused, AA_fused, CTM, \"E_bond\");\n"
   ]
  },
  {
   "cell_type": "code",
   "execution_count": 418,
   "metadata": {},
   "outputs": [
    {
     "data": {
      "text/plain": [
       "-0.4272664643496391 + 6.7966121702560844e-18im"
      ]
     },
     "metadata": {},
     "output_type": "display_data"
    }
   ],
   "source": [
    "display((E_up+E_down)/3)\n",
    "Tleft=CTM[\"Tset\"][4];\n",
    "Tright=CTM[\"Tset\"][2];\n",
    "\n",
    "@tensor O1[:]:=Tleft[-3,1,-1]*U_L[1,-2,-4];\n",
    "@tensor O2[:]:=Tright[-1,1,-3]*U_R[-4,-2,1];\n"
   ]
  },
  {
   "cell_type": "code",
   "execution_count": 419,
   "metadata": {},
   "outputs": [
    {
     "data": {
      "text/plain": [
       "left_eigenvalue (generic function with 1 method)"
      ]
     },
     "metadata": {},
     "output_type": "display_data"
    }
   ],
   "source": [
    "function HV_L_tensor(vl,A,mpo)\n",
    "    if mpo==[]\n",
    "        if numind(vl)==3\n",
    "            @tensor vl[:]:=vl[-1,3,1]*A'[3,-2,2]*A[1,-3,2];\n",
    "        elseif numind(vl)==2\n",
    "            @tensor vl[:]:=vl[3,1]*A'[3,-2,2]*A[1,-3,2];\n",
    "        end\n",
    "    else\n",
    "        if numind(vl)==5\n",
    "            @tensor vl[:]:=vl[-1,7,5,3,1]*A'[7,-2,6]*mpo'[5,6,-3,4]*mpo[3,2,-4,4]*A[1,-5,2];\n",
    "        elseif numind(vl)==4\n",
    "            @tensor vl[:]:=vl[7,5,3,1]*A'[7,-1,6]*mpo'[5,6,-2,4]*mpo[3,2,-3,4]*A[1,-4,2];\n",
    "        end\n",
    "    end\n",
    "    return vl\n",
    "end\n",
    "\n",
    "function HV_R_tensor(vr,A,mpo)\n",
    "    if mpo==[]\n",
    "        if numind(vr)==3\n",
    "            @tensor vr[:]:=A'[-1,1,2]*A[-2,3,2]*vr[1,3,-3];\n",
    "        elseif numind(vr)==2\n",
    "            @tensor vr[:]:=A'[-1,1,2]*A[-2,3,2]*vr[1,3];\n",
    "        end\n",
    "    else\n",
    "        if numind(vr)==5\n",
    "            @tensor vr[:]:=A'[-1,7,6]*mpo'[-2,6,5,4]*mpo[-3,2,3,4]*A[-4,1,2]*vr[7,5,3,1,-5];\n",
    "        elseif numind(vr)==4\n",
    "            @tensor vr[:]:=A'[-1,7,6]*mpo'[-2,6,5,4]*mpo[-3,2,3,4]*A[-4,1,2]*vr[7,5,3,1];\n",
    "        end\n",
    "    end\n",
    "    return vr\n",
    "end\n",
    "\n",
    "function left_eigenvector(A,mpo,type)\n",
    "\n",
    "    if type==\"A\"\n",
    "        HVfun1(x)=HV_L_tensor(x,A,[]);\n",
    "        vl_init = permute(TensorMap(randn, space(A,1), space(A,1)), (1,2,),());# assume that the dominant eigenvector has total spin zero. If not, it will have three indeces and it's not Hermiitan.\n",
    "        eu,ev=eigsolve(HVfun1, vl_init, 1,:LM,Arnoldi());\n",
    "        @assert maximum(abs.(eu)) == abs(eu[1])\n",
    "        eu=eu[1];\n",
    "        ev=ev[1];\n",
    "        return ev,eu\n",
    "    elseif type==\"mpo_A\"\n",
    "        HVfun2(x)=HV_L_tensor(x,A,mpo);\n",
    "        vl_init = permute(TensorMap(randn, space(A,1)*space(mpo,1),space(mpo,1)*space(A,1)), (1,2,3,4,),());# assume that the dominant eigenvector has total spin zero. If not, it will have three indeces and it's not Hermiitan.\n",
    "        eu,ev=eigsolve(HVfun2, vl_init, 1,:LM,Arnoldi());\n",
    "        @assert maximum(abs.(eu)) == abs(eu[1])\n",
    "        eu=eu[1];\n",
    "        ev=ev[1];\n",
    "        return ev,eu\n",
    "    end\n",
    "end\n",
    "\n",
    "function right_eigenvector(A,mpo,type)\n",
    "\n",
    "    if type==\"A\"\n",
    "        HVfun1(x)=HV_R_tensor(x,A,[]);\n",
    "        vr_init = permute(TensorMap(randn, space(A,2), space(A,2)), (1,2,),());# assume that the dominant eigenvector has total spin zero. If not, it will have three indeces and it's not Hermiitan.\n",
    "        eu,ev=eigsolve(HVfun1, vr_init, 1,:LM,Arnoldi());\n",
    "        @assert maximum(abs.(eu)) == abs(eu[1])\n",
    "        eu=eu[1];\n",
    "        ev=ev[1];\n",
    "        return ev,eu\n",
    "    elseif type==\"mpo_A\"\n",
    "        HVfun2(x)=HV_R_tensor(x,A,mpo);\n",
    "        vr_init = permute(TensorMap(randn, space(A,2)*space(mpo,3),space(mpo,3)*space(A,2)), (1,2,3,4,),());# assume that the dominant eigenvector has total spin zero. If not, it will have three indeces and it's not Hermiitan.\n",
    "        eu,ev=eigsolve(HVfun2, vr_init, 1,:LM,Arnoldi());\n",
    "        @assert maximum(abs.(eu)) == abs(eu[1])\n",
    "        eu=eu[1];\n",
    "        ev=ev[1];\n",
    "        return ev,eu\n",
    "    end\n",
    "end\n",
    "\n",
    "\n",
    "\n",
    "function left_eigenvalue(A1,A2,n)\n",
    "    function HV_L_A1A2(vl,A1,A2)\n",
    "        if numind(vl)==3\n",
    "            @tensor vl[:]:=vl[-1,3,1]*A1'[3,-2,2]*A2[1,-3,2];\n",
    "        elseif numind(vl)==2\n",
    "            @tensor vl[:]:=vl[3,1]*A1'[3,-2,2]*A2[1,-3,2];\n",
    "        end\n",
    "    return vl\n",
    "    end\n",
    "    HVA1A2fun(x)=HV_L_A1A2(x,A1,A2);\n",
    "    vl_init = permute(TensorMap(randn, space(A1,1), space(A2,1)), (1,2,),());# assume that the dominant eigenvector has total spin zero. If not, it will have three indeces and it's not Hermiitan.\n",
    "    eu,ev=eigsolve(HVA1A2fun, vl_init, 1,:LM,Arnoldi());\n",
    "    @assert maximum(abs.(eu)) == abs(eu[1])\n",
    "    eu=eu[1:n];\n",
    "    return eu\n",
    "end"
   ]
  },
  {
   "cell_type": "code",
   "execution_count": 420,
   "metadata": {},
   "outputs": [
    {
     "data": {
      "text/plain": [
       "impo_imps (generic function with 1 method)"
      ]
     },
     "metadata": {},
     "output_type": "display_data"
    }
   ],
   "source": [
    "function impo_imps(mpo,A)\n",
    "    unitary_mpo_A=unitary(fuse(space(mpo,1)⊗space(A,1)), space(mpo,1)⊗space(A,1));\n",
    "    @tensor mpo_A[:]:=unitary_mpo_A[-1,2,1]*mpo[2,3,4,-3]*A[1,5,3]*unitary_mpo_A'[4,5,-2];\n",
    "    return mpo_A\n",
    "end"
   ]
  },
  {
   "cell_type": "code",
   "execution_count": 421,
   "metadata": {},
   "outputs": [
    {
     "data": {
      "text/plain": [
       "itebd_ite (generic function with 1 method)"
      ]
     },
     "metadata": {},
     "output_type": "display_data"
    }
   ],
   "source": [
    "function itebd_ite(mpo,A,W,type)\n",
    "    if type==\"A\"\n",
    "        mpo_A=impo_imps(mpo,A);\n",
    "        vl,_=left_eigenvector(mpo_A,[],\"A\");\n",
    "        eu,ev=eig(permute(vl,(1,),(2,)));\n",
    "        unitary_L=sqrt(eu)*ev';\n",
    "        unitary_R=ev*pinv(sqrt(eu));\n",
    "        @tensor AL[:]:=unitary_L[-1,1]*mpo_A[1,2,-3]*unitary_R[2,-2];\n",
    "    elseif type==\"mpo_A\"\n",
    "        vl,_=left_eigenvector(A,mpo,\"mpo_A\");\n",
    "        eu,ev=eig(permute(vl,(2,1,),(3,4,)));\n",
    "        unitary_L=sqrt(eu)*ev';\n",
    "        unitary_R=ev*pinv(sqrt(eu));\n",
    "        @tensor AL[:]:=unitary_L[-1,2,1]*mpo[2,3,4,-3]*A[1,5,3]*unitary_R[4,5,-2];\n",
    "    end\n",
    "\n",
    "    vr,_=right_eigenvector(AL,[],\"A\");\n",
    "\n",
    "    U,S,_=tsvd(permute(vr,(1,),(2,)),trunc=truncdim(W));\n",
    "    #display(diag(convert(Array,S)))\n",
    "    @tensor A_trun[:]:=U[1,-1]*AL[1,2,-3]*U'[-2,2];\n",
    "\n",
    "    return A_trun\n",
    "end\n"
   ]
  },
  {
   "cell_type": "code",
   "execution_count": 422,
   "metadata": {},
   "outputs": [
    {
     "data": {
      "text/plain": [
       "left_right_normalize (generic function with 1 method)"
      ]
     },
     "metadata": {},
     "output_type": "display_data"
    }
   ],
   "source": [
    "function left_right_normalize(A)\n",
    "    #left normalize\n",
    "    vl,_=left_eigenvector(A,[],\"A\");\n",
    "    eu,ev=eig(permute(vl,(1,),(2,)));\n",
    "    unitary_L=sqrt(eu)*ev';\n",
    "    unitary_R=ev*pinv(sqrt(eu));\n",
    "    @tensor AL[:]:=unitary_L[-1,1]*A[1,2,-3]*unitary_R[2,-2];\n",
    "    #transform right fixed point to be diagonal\n",
    "    vr,eu=right_eigenvector(AL,[],\"A\");\n",
    "    U,S,_=tsvd(permute(vr,(1,),(2,)));\n",
    "    @tensor AL[:]:=U[1,-1]*AL[1,2,-3]*U'[-2,2];\n",
    "    AL=AL/sqrt(eu);\n",
    "    return AL\n",
    "end\n"
   ]
  },
  {
   "cell_type": "code",
   "execution_count": 423,
   "metadata": {},
   "outputs": [],
   "source": [
    "\n"
   ]
  },
  {
   "cell_type": "code",
   "execution_count": 424,
   "metadata": {},
   "outputs": [
    {
     "data": {
      "text/plain": [
       "ITEBD_boundary_groundstate (generic function with 1 method)"
      ]
     },
     "metadata": {},
     "output_type": "display_data"
    }
   ],
   "source": [
    "function ITEBD_boundary_groundstate(O1,O2,W,A_init,method)\n",
    "# ITEBD_boundary_groundstate(O1,O2,D,inv_tol):\n",
    "    #use power method to obtain dominant boundary imps of nonhermitian MPO\n",
    "    if method==\"OO\"\n",
    "        @tensor OO[:]:=O1[-2,-3,-5,1]*O2[-1,1,-4,-6];\n",
    "        U_fuse_chichi=unitary(fuse(space(OO,1)⊗ space(OO,2)),space(OO,1)⊗ space(OO,2));\n",
    "        @tensor OO[:]:=U_fuse_chichi[-1,1,2]*OO[1,2,-2,3,4,-4]*U_fuse_chichi'[3,4,-3];\n",
    "    end\n",
    "    #Initial state\n",
    "    if A_init==[]\n",
    "        mps_virtual=SU₂Space(0=>1,1/2=>1,1=>1);mps_phy=space(O1,2);\n",
    "        A_init=permute(TensorMap(randn, mps_virtual*mps_virtual', mps_phy),(1,2,3,),());\n",
    "    else \n",
    "    end\n",
    "    AL=left_right_normalize(A_init);\n",
    "    \n",
    "    for cp=1:30\n",
    "        AL_old=AL;\n",
    "        @time if method==\"O_O\"\n",
    "            A_trun_intermed=itebd_ite(O1,AL,3*W,\"mpo_A\");\n",
    "            A_trun=itebd_ite(O2,A_trun_intermed,W,\"mpo_A\");\n",
    "            AL=left_right_normalize(A_trun);\n",
    "        elseif method==\"OO\"\n",
    "            A_trun=itebd_ite(OO,AL,W,\"mpo_A\");#this \"mpo_A\" option is slightly faster when bond dimension is large\n",
    "        end\n",
    "        AL=left_right_normalize(A_trun);\n",
    "\n",
    "        # vv,ee=right_eigenvector(AL,[],\"A\");\n",
    "        # display(ee)\n",
    "        # u,s,v=tsvd(permute(vv,(1,),(2,)));\n",
    "        # display(sort(diag(convert(Array,s)),rev=true))\n",
    "        \n",
    "        #dominant eigenvalue of transfer matrix\n",
    "        E=left_eigenvalue(impo_imps(O2,impo_imps(O1,AL)),AL,1)[1]\n",
    "        ov=abs(left_eigenvalue(AL,AL_old,1)[1]);\n",
    "        println(\"E=\"*string(E)*\", \"*\"ov=\"*string(ov))\n",
    "        if abs(ov-1)<1e-8\n",
    "            break\n",
    "        end\n",
    "    \n",
    "    end\n",
    "    return AL,A_init\n",
    "end"
   ]
  },
  {
   "cell_type": "code",
   "execution_count": 425,
   "metadata": {},
   "outputs": [],
   "source": [
    "mps_virtual=SU₂Space(0=>1,1/2=>1,1=>1);mps_phy=space(O1,2);\n",
    "A_init=permute(TensorMap(randn, mps_virtual*mps_virtual', mps_phy),(1,2,3,),());\n",
    "\n"
   ]
  },
  {
   "cell_type": "code",
   "execution_count": 426,
   "metadata": {},
   "outputs": [],
   "source": [
    "#Ag,A_init=ITEBD_boundary_groundstate(O1,O2,W,A_init,\"OO\");\n"
   ]
  },
  {
   "cell_type": "code",
   "execution_count": 427,
   "metadata": {},
   "outputs": [
    {
     "name": "stdout",
     "output_type": "stream",
     "text": [
      "  1.586204 seconds (5.87 M allocations: 441.675 MiB, 8.21% gc time, 59.38% compilation time)\n",
      "E=0.1236342616879241 - 5.329000910080095e-5im, ov=0.5217709254066942\n",
      "  0.442422 seconds (2.39 M allocations: 228.526 MiB, 1.55% compilation time)\n",
      "E=0.12814362488108377 + 0.00013676605897909588im, ov=0.9852835434397409\n",
      "  0.627618 seconds (2.23 M allocations: 209.958 MiB, 17.38% gc time)\n",
      "E=0.12870972129222538 + 0.00010234765693717396im, ov=0.99754158328166\n",
      "  0.406436 seconds (2.23 M allocations: 206.207 MiB)\n",
      "E=0.12887672455433685 + 4.6067620866174774e-5im, ov=0.9992233484364301\n",
      "  0.480123 seconds (2.23 M allocations: 209.266 MiB)\n",
      "E=0.1290244064786988 + 0.00014961375694211299im, ov=0.9995419623139346\n",
      "  0.523308 seconds (2.24 M allocations: 207.080 MiB, 20.29% gc time)\n",
      "E=0.1290729450835726 + 0.00017513561414270185im, ov=0.9997580581114999\n",
      "  0.470477 seconds (2.23 M allocations: 210.841 MiB)\n",
      "E=0.1290884795067087 + 0.00017391521196141735im, ov=0.9998578575112715\n",
      "  0.683310 seconds (2.23 M allocations: 207.243 MiB, 15.81% gc time)\n",
      "E=0.1290914256657744 + 0.00016411536241212055im, ov=0.9999089084453927\n",
      "  0.439963 seconds (2.24 M allocations: 208.016 MiB)\n",
      "E=0.1290883384175649 + 0.00015191239641583476im, ov=0.9999411158723134\n",
      "  0.479457 seconds (2.24 M allocations: 207.744 MiB)\n",
      "E=0.12908247045059965 + 0.00013922923811955645im, ov=0.9999616351637358\n",
      "  0.553027 seconds (2.24 M allocations: 208.130 MiB, 17.54% gc time)\n",
      "E=0.1290755923273184 + 0.0001266301946993148im, ov=0.9999748620104298\n",
      "  0.451960 seconds (2.24 M allocations: 207.744 MiB)\n",
      "E=0.12906870625467162 + 0.00011431208659179459im, ov=0.9999834371102656\n",
      "  0.441753 seconds (2.24 M allocations: 208.245 MiB)\n",
      "E=0.1290623432846474 + 0.00010241336812114032im, ov=0.999989010374127\n",
      "  0.580539 seconds (2.24 M allocations: 208.016 MiB, 28.13% gc time)\n",
      "E=0.1290567278140012 + 9.107453524145881e-5im, ov=0.9999926460837969\n",
      "  0.447368 seconds (2.24 M allocations: 208.130 MiB)\n",
      "E=0.1290518989829487 + 8.042141580247297e-5im, ov=0.9999950344727505\n",
      "  0.617376 seconds (2.23 M allocations: 207.358 MiB, 19.44% gc time)\n",
      "E=0.12904780182721065 + 7.05439036205735e-5im, ov=0.9999966191955917\n",
      "  0.408118 seconds (2.24 M allocations: 207.744 MiB)\n",
      "E=0.12904434735127487 + 6.148977831405e-5im, ov=0.9999976825421062\n",
      "  0.458606 seconds (2.24 M allocations: 207.472 MiB)\n",
      "E=0.12904144545271756 + 5.3270594795096216e-5im, ov=0.9999984034910084\n",
      "  0.548629 seconds (2.24 M allocations: 208.015 MiB, 17.22% gc time)\n",
      "E=0.12903901846132804 + 4.587211121376278e-5im, ov=0.9999988962544095\n",
      "  0.439124 seconds (2.24 M allocations: 207.858 MiB)\n",
      "E=0.12903700319643815 + 3.9263979134646076e-5im, ov=0.9999992348795499\n",
      "  0.454677 seconds (2.24 M allocations: 208.245 MiB)\n",
      "E=0.12903534773229539 + 3.340651213461221e-5im, ov=0.9999994683726108\n",
      "  0.523222 seconds (2.24 M allocations: 208.245 MiB, 18.22% gc time)\n",
      "E=0.12903400697044798 + 2.8254461209770154e-5im, ov=0.9999996297782876\n",
      "  0.453707 seconds (2.23 M allocations: 207.243 MiB)\n",
      "E=0.12903293923205605 + 2.3758730538989137e-5im, ov=0.9999997416427336\n",
      "  0.526728 seconds (2.24 M allocations: 208.130 MiB, 18.17% gc time)\n",
      "E=0.12903210460749076 + 1.9867157767694543e-5im, ov=0.9999998194123232\n",
      "  0.460838 seconds (2.24 M allocations: 208.016 MiB)\n",
      "E=0.12903146484204467 + 1.6525202679751327e-5im, ov=0.9999998736614211\n",
      "  0.431749 seconds (2.24 M allocations: 208.245 MiB)\n",
      "E=0.1290309841079751 + 1.3676945953500219e-5im, ov=0.9999999116187338\n",
      "  0.531909 seconds (2.24 M allocations: 208.015 MiB, 18.71% gc time)\n",
      "E=0.12903063000056933 + 1.1266419951708184e-5im, ov=0.9999999382318241\n",
      "  0.422867 seconds (2.24 M allocations: 207.744 MiB)\n",
      "E=0.1290303743077195 + 9.239080344433659e-6im, ov=0.9999999569041887\n",
      "  0.467936 seconds (2.24 M allocations: 208.244 MiB)\n",
      "E=0.12903019335946198 + 7.543178813892992e-6im, ov=0.9999999699959586\n",
      "  0.583917 seconds (2.24 M allocations: 208.130 MiB, 22.95% gc time)\n",
      "E=0.12903006795993147 + 6.130853351452026e-6im, ov=0.9999999791580274\n"
     ]
    }
   ],
   "source": [
    "\n",
    "Ag,A_init=ITEBD_boundary_groundstate(O1,O2,W,A_init,\"O_O\");"
   ]
  },
  {
   "cell_type": "code",
   "execution_count": 428,
   "metadata": {},
   "outputs": [],
   "source": [
    "#save initial CTM to compare with other codes\n",
    "matwrite(\"itebd_matfile.mat\", Dict(\n",
    "    \"O1\" => convert(Array,O1),\n",
    "    \"O2\" => convert(Array,O2),\n",
    "    \"A_init\" => convert(Array,A_init),\n",
    "    \"Ag\" => convert(Array,Ag)\n",
    "); compress = false)\n",
    "\n"
   ]
  },
  {
   "cell_type": "code",
   "execution_count": 429,
   "metadata": {},
   "outputs": [],
   "source": [
    "#save data\n",
    "O1_dict=convert(Dict,O1);\n",
    "O2_dict=convert(Dict,O2);\n",
    "Ag_dict=convert(Dict,Ag);\n",
    "save(\"itebd_data.jld\", \"O1_dict\", O1_dict,\"O2_dict\", O2_dict,\"Ag_dict\", Ag_dict);\n",
    "\n",
    "\n"
   ]
  },
  {
   "cell_type": "code",
   "execution_count": 430,
   "metadata": {},
   "outputs": [],
   "source": [
    "#load data\n",
    "Ag_dict=load(\"itebd_data.jld\")[\"Ag_dict\"];\n",
    "O1_dict=load(\"itebd_data.jld\")[\"O1_dict\"];\n",
    "O2_dict=load(\"itebd_data.jld\")[\"O2_dict\"];\n",
    "Ag=convert(TensorMap,Ag_dict);\n",
    "O1=convert(TensorMap,O1_dict);\n",
    "O2=convert(TensorMap,O2_dict);\n"
   ]
  },
  {
   "cell_type": "code",
   "execution_count": 431,
   "metadata": {},
   "outputs": [
    {
     "data": {
      "text/plain": [
       "(Rep[SU₂](0=>9, 1/2=>12, 1=>9, 3/2=>4, 2=>1) ⊗ Rep[SU₂](0=>1, 1/2=>1, 1=>1) ⊗ Rep[SU₂](0=>9, 1/2=>12, 1=>9, 3/2=>4, 2=>1)' ⊗ Rep[SU₂](0=>1, 1/2=>1, 1=>1)') ← ProductSpace{GradedSpace{SU2Irrep, TensorKit.SortedVectorDict{SU2Irrep, Int64}}, 0}()"
      ]
     },
     "metadata": {},
     "output_type": "display_data"
    }
   ],
   "source": [
    "\n",
    "space_AOA=fuse(space(Ag,1)'⊗space(O2,1)'⊗space(O1,1)⊗ space(Ag,1));\n",
    "space_AA=fuse(space(Ag,1)'⊗ space(Ag,1));\n",
    "\n",
    "AOA_sec=collect(sectors(space_AOA))\n",
    "AA_sec=collect(sectors(space_AA))\n",
    "\n",
    "@tensor OO[:]:=O1[-2,-3,-5,1]*O2[-1,1,-4,-6];\n",
    "U_fuse_chichi=unitary(fuse(space(OO,1)⊗ space(OO,2)),space(OO,1)⊗ space(OO,2));\n",
    "@tensor OO[:]:=U_fuse_chichi[-1,1,2]*OO[1,2,-2,3,4,-4]*U_fuse_chichi'[3,4,-3];\n",
    "display(space(OO))"
   ]
  },
  {
   "cell_type": "code",
   "execution_count": 432,
   "metadata": {},
   "outputs": [],
   "source": [
    "# W=20;chi=20;\n",
    "# (Rep[SU₂](0=>3, 1/2=>3, 1=>2, 3/2=>1)' ⊗ Rep[SU₂](0=>3, 1/2=>3, 1=>2, 3/2=>1) ⊗ Rep[SU₂](0=>1, 1/2=>2, 1=>1)') ← ProductSpace{GradedSpace{SU2Irrep, TensorKit.SortedVectorDict{SU2Irrep, Int64}}, 0}()\n",
    "# Rep[SU₂](0=>4999, 1/2=>8314, 1=>9146, 3/2=>7850, 2=>5503, 5/2=>3190, 3=>1521, 7/2=>584, 4=>173, 9/2=>36, 5=>4)"
   ]
  },
  {
   "cell_type": "code",
   "execution_count": 433,
   "metadata": {},
   "outputs": [
    {
     "data": {
      "text/plain": [
       "Irrep[SU₂](0)"
      ]
     },
     "metadata": {},
     "output_type": "display_data"
    },
    {
     "data": {
      "text/plain": [
       "Irrep[SU₂](1/2)"
      ]
     },
     "metadata": {},
     "output_type": "display_data"
    },
    {
     "data": {
      "text/plain": [
       "Irrep[SU₂](1)"
      ]
     },
     "metadata": {},
     "output_type": "display_data"
    },
    {
     "data": {
      "text/plain": [
       "Irrep[SU₂](3/2)"
      ]
     },
     "metadata": {},
     "output_type": "display_data"
    },
    {
     "data": {
      "text/plain": [
       "Irrep[SU₂](2)"
      ]
     },
     "metadata": {},
     "output_type": "display_data"
    },
    {
     "data": {
      "text/plain": [
       "Irrep[SU₂](5/2)"
      ]
     },
     "metadata": {},
     "output_type": "display_data"
    },
    {
     "data": {
      "text/plain": [
       "Irrep[SU₂](3)"
      ]
     },
     "metadata": {},
     "output_type": "display_data"
    },
    {
     "data": {
      "text/plain": [
       "Irrep[SU₂](7/2)"
      ]
     },
     "metadata": {},
     "output_type": "display_data"
    },
    {
     "data": {
      "text/plain": [
       "Irrep[SU₂](4)"
      ]
     },
     "metadata": {},
     "output_type": "display_data"
    },
    {
     "name": "stdout",
     "output_type": "stream",
     "text": [
      "(s, dim(space_AOA, s), dim(s)) = (Irrep[SU₂](0), 323, 1)\n",
      "(s, dim(space_AOA, s), dim(s)) = (Irrep[SU₂](1/2), 512, 2)\n",
      "(s, dim(space_AOA, s), dim(s)) = (Irrep[SU₂](1), 518, 3)\n",
      "(s, dim(space_AOA, s), dim(s)) = (Irrep[SU₂](3/2), 392, 4)\n",
      "(s, dim(space_AOA, s), dim(s)) = (Irrep[SU₂](2), 230, 5)\n",
      "(s, dim(space_AOA, s), dim(s)) = (Irrep[SU₂](5/2), 104, 6)\n",
      "(s, dim(space_AOA, s), dim(s)) = (Irrep[SU₂](3), 35, 7)\n",
      "(s, dim(space_AOA, s), dim(s)) = (Irrep[SU₂](7/2), 8, 8)\n",
      "(s, dim(space_AOA, s), dim(s)) = (Irrep[SU₂](4), 1, 9)\n"
     ]
    }
   ],
   "source": [
    "for s in sectors(space_AOA)\n",
    "  display(s)\n",
    "  @show s, dim(space_AOA, s), dim(s)\n",
    "end\n"
   ]
  },
  {
   "cell_type": "code",
   "execution_count": 434,
   "metadata": {},
   "outputs": [],
   "source": [
    "\n"
   ]
  },
  {
   "cell_type": "code",
   "execution_count": 435,
   "metadata": {},
   "outputs": [
    {
     "data": {
      "text/plain": [
       "group_numbers (generic function with 1 method)"
      ]
     },
     "metadata": {},
     "output_type": "display_data"
    }
   ],
   "source": [
    "\n",
    "function group_numbers(E_set)\n",
    "    Es=copy(E_set[1]);\n",
    "    for cc=2:length(E_set)\n",
    "        Es=vcat(Es,E_set[cc]);\n",
    "    end\n",
    "    return Es\n",
    "end"
   ]
  },
  {
   "cell_type": "code",
   "execution_count": 436,
   "metadata": {},
   "outputs": [
    {
     "data": {
      "text/plain": [
       "combine_singlespin_sector_bruteforce (generic function with 1 method)"
      ]
     },
     "metadata": {},
     "output_type": "display_data"
    }
   ],
   "source": [
    "# #attention: when the dimension is slightly large, converting dense matrix to tensormap is extremely difficult. It's better to define tensormap from Dict\n",
    "# using TensorKit\n",
    "# sp=Rep[SU₂](0=>129, 1/2=>196, 1=>185, 3/2=>124, 2=>61, 5/2=>20, 3=>4); #out of memory error for this dimension\n",
    "# sp=Rep[SU₂](0=>12, 1/2=>19, 1=>15, 3/2=>14, 2=>61, 5/2=>20, 3=>4); # it takes long time\n",
    "# tt=TensorMap(randn,sp←sp);\n",
    "# tt_dense=convert(Array,tt);\n",
    "# tt_new=TensorMap(tt_dense,sp,sp);\n",
    "function combine_singlespin_sector_bruteforce(E_set,vL_set,vR_set,spin_set)\n",
    "    E_set_new=copy(euL_set);\n",
    "    vL_set_new=copy(evL_set);\n",
    "    vR_set_new=copy(evR_set);\n",
    "    spin_set_new=copy(SPIN_eig_set);\n",
    "    for cc=1:length(E_set)\n",
    "        E=E_set[cc];\n",
    "        vL=vL_set[cc];\n",
    "        vR=vR_set[cc];\n",
    "        spin=spin_set[cc];\n",
    "        if length(vL)>0\n",
    "            single_size=size(convert(Array,vL[1]));\n",
    "            if length(single_size)==4\n",
    "                vL_grouped=zeros(Complex{Float64},single_size[1]*length(vL),single_size[2]*single_size[3]*single_size[4]);\n",
    "                vR_grouped=zeros(Complex{Float64},single_size[2]*single_size[3]*single_size[4],single_size[1]*length(vL));\n",
    "                E_grouped=zeros(Complex{Float64},single_size[1]*length(vL),single_size[1]*length(vL));\n",
    "                spin_dim=single_size[1];\n",
    "                Unitary=unitary(domain(vL[1]),fuse(domain(vL[1])));\n",
    "                for cs=1:length(E)\n",
    "                    vL_grouped[spin_dim*(cs-1)+1:spin_dim*cs,:]=convert(Array,vL[cs]*Unitary);\n",
    "                    vR_grouped[:,spin_dim*(cs-1)+1:spin_dim*cs]=convert(Array,Unitary'*vR[cs]);\n",
    "                    E_grouped[spin_dim*(cs-1)+1:spin_dim*cs,spin_dim*(cs-1)+1:spin_dim*cs]=E[cs]*Matrix(I, spin_dim,spin_dim);\n",
    "                end\n",
    "                space_single_spin=SU₂Space(spin[1]=>length(E));\n",
    "\n",
    "                vL_grouped=TensorMap(vL_grouped,space_single_spin←fuse(domain(vL[1])));\n",
    "                vR_grouped=TensorMap(vR_grouped,fuse(domain(vL[1])) ← space_single_spin);\n",
    "                E_grouped=TensorMap(E_grouped,space_single_spin ← space_single_spin);\n",
    "\n",
    "                vL_grouped=vL_grouped*Unitary';\n",
    "                vR_grouped=Unitary * vR_grouped;\n",
    "\n",
    "                vL_set_new[cc]=vL_grouped;\n",
    "                vR_set_new[cc]=vR_grouped;\n",
    "                E_set_new[cc]=E_grouped;\n",
    "                spin_set_new[cc]=spin_set[cc][1]\n",
    "                # display(Base.summarysize(vL_grouped))\n",
    "                # display(space(vL_grouped))\n",
    "                # display(Base.summarysize(vL))\n",
    "            elseif length(single_size)==3\n",
    "            end\n",
    "        end\n",
    "    end\n",
    "    return E_set_new,vL_set_new,vR_set_new,spin_set_new\n",
    "end\n"
   ]
  },
  {
   "cell_type": "code",
   "execution_count": 437,
   "metadata": {},
   "outputs": [
    {
     "data": {
      "text/plain": [
       "combine_singlespin_sector (generic function with 2 methods)"
      ]
     },
     "metadata": {},
     "output_type": "display_data"
    }
   ],
   "source": [
    "function combine_singlespin_sector(E_set,vL_set,vR_set,spin_set,is_eig)\n",
    "    E_set_new=copy(E_set);\n",
    "    vL_set_new=copy(vL_set);\n",
    "    vR_set_new=copy(vR_set);\n",
    "    spin_set_new=copy(spin_set);\n",
    "    for cc=1:length(E_set)\n",
    "        E=E_set[cc];\n",
    "        vL=vL_set[cc];\n",
    "        vR=vR_set[cc];\n",
    "        spin=spin_set[cc];\n",
    "        if length(vL)>0\n",
    "\n",
    "            sec=Irrep[SU₂](spin[1]);\n",
    "            space_single_spin=SU₂Space(spin[1]=>length(E));\n",
    "            dim_full=dim(fuse(domain(vL[1])),sec);\n",
    "            vL_grouped=zeros(Complex{Float64},length(vL),dim_full);\n",
    "            vR_grouped=zeros(Complex{Float64},dim_full,length(vL));\n",
    "            E_grouped=zeros(Complex{Float64},length(vL),length(vL));\n",
    "\n",
    "            Unitary=unitary(domain(vL[1]),fuse(domain(vL[1])));\n",
    "            for cs=1:length(E)\n",
    "                vL_grouped[cs,:]=convert(Dict,vL[cs]*Unitary)[:data][string(sec)];\n",
    "                vR_grouped[:,cs]=convert(Dict,Unitary'*vR[cs])[:data][string(sec)];\n",
    "                E_grouped[cs,cs]=E[cs];\n",
    "            end\n",
    "\n",
    "            if is_eig\n",
    "                Q=zeros(Complex{Float64},length(E),length(E))\n",
    "                for ca=1:length(E)\n",
    "                    for cb=1:length(E)\n",
    "                        Q[ca,cb]=tr(vL[ca]*vR[cb])\n",
    "                    end\n",
    "                end\n",
    "                #Q=vL_grouped*vR_grouped;#the normalization of this line is inccorect, due to the dimension of spin space\n",
    "                vL_grouped=pinv(Q)*vL_grouped;\n",
    "            end\n",
    "\n",
    "            vL_grouped_rand=TensorMap(randn,space_single_spin←fuse(domain(vL[1])));\n",
    "            vR_grouped_rand=TensorMap(randn,fuse(domain(vL[1])) ← space_single_spin);\n",
    "            E_grouped_rand=TensorMap(randn,space_single_spin ← space_single_spin);\n",
    "\n",
    "            vL_grouped_dict=convert(Dict,vL_grouped_rand);\n",
    "            vL_grouped_dict[:data][string(sec)]=vL_grouped;\n",
    "            vL_grouped=convert(TensorMap,vL_grouped_dict);\n",
    "            vL_grouped=vL_grouped*Unitary';\n",
    "\n",
    "            vR_grouped_dict=convert(Dict,vR_grouped_rand);\n",
    "            vR_grouped_dict[:data][string(sec)]=vR_grouped;\n",
    "            vR_grouped=convert(TensorMap,vR_grouped_dict);\n",
    "            vR_grouped=Unitary*vR_grouped;\n",
    "\n",
    "            E_grouped_dict=convert(Dict,E_grouped_rand);\n",
    "            E_grouped_dict[:data][string(sec)]=E_grouped;\n",
    "            E_grouped=convert(TensorMap,E_grouped_dict);\n",
    "\n",
    "            vL_set_new[cc]=vL_grouped;\n",
    "            vR_set_new[cc]=vR_grouped;\n",
    "            E_set_new[cc]=E_grouped;\n",
    "            spin_set_new[cc]=spin_set_new[cc][1]\n",
    "            # display(Base.summarysize(vL_grouped))\n",
    "            # display(space(vL_grouped))\n",
    "            # display(Base.summarysize(vL))\n",
    "\n",
    "        end\n",
    "    end\n",
    "    return E_set_new,vL_set_new,vR_set_new,spin_set_new\n",
    "end\n",
    "\n",
    "\n"
   ]
  },
  {
   "cell_type": "code",
   "execution_count": 438,
   "metadata": {},
   "outputs": [
    {
     "data": {
      "text/plain": [
       "truncate_sectors (generic function with 1 method)"
      ]
     },
     "metadata": {},
     "output_type": "display_data"
    }
   ],
   "source": [
    "\n",
    "function truncate_sectors(n,eu_set,ev_set,ev_set2,spin_set)\n",
    "    eu_full=eu_set[1]\n",
    "    dim_full=2*spin_set[1].+1\n",
    "    for cc=2:length(eu_set)\n",
    "        eu_full=vcat(eu_full, eu_set[cc])\n",
    "        dim_full=vcat(dim_full, 2*spin_set[cc].+1)\n",
    "    end\n",
    "    dim_full=Int.(round.(dim_full))\n",
    "\n",
    "    order=sortperm(abs.(eu_full),rev=true);\n",
    "    eu_full_sorted=eu_full[order];\n",
    "    dim_full_sorted=dim_full[order];\n",
    "\n",
    "    total_size=dim_full_sorted[1];\n",
    "    old_value=eu_full_sorted[1];\n",
    "    for cc=2:length(eu_full_sorted)\n",
    "        total_size=total_size+dim_full_sorted[cc];\n",
    "        new_value=eu_full_sorted[cc];\n",
    "        if total_size>n\n",
    "            break;\n",
    "        end\n",
    "        old_value=new_value;\n",
    "    end\n",
    "\n",
    "    for cc=1:length(eu_set)\n",
    "        spins=spin_set[cc];\n",
    "        eu=eu_set[cc];\n",
    "        ev=ev_set[cc];\n",
    "        inds=findall(x->abs(x)>=abs(old_value), abs.(eu));\n",
    "        eu=eu[inds];\n",
    "        ev=ev[inds];\n",
    "        spins=spins[inds];\n",
    "        eu_set[cc]=eu;\n",
    "        ev_set[cc]=ev;\n",
    "        spin_set[cc]=spins;\n",
    "        if ~(ev_set2==[])\n",
    "            ev2=ev_set2[cc];\n",
    "            ev2=ev2[inds];\n",
    "            ev_set2[cc]=ev2;\n",
    "        end\n",
    "    end\n",
    "return eu_set,ev_set,ev_set2,spin_set\n",
    "\n",
    "end\n"
   ]
  },
  {
   "cell_type": "code",
   "execution_count": 439,
   "metadata": {},
   "outputs": [
    {
     "data": {
      "text/plain": [
       "HV_FR (generic function with 1 method)"
      ]
     },
     "metadata": {},
     "output_type": "display_data"
    }
   ],
   "source": [
    "function FLR_eig(A,O,n,full_space,sector_set)\n",
    "    SPIN_set=Vector{Any}(undef, length(sector_set));\n",
    "    euL_set=Vector{Any}(undef, length(sector_set));\n",
    "    evL_set=Vector{Any}(undef, length(sector_set));\n",
    "    euR_set=Vector{Any}(undef, length(sector_set));\n",
    "    evR_set=Vector{Any}(undef, length(sector_set));\n",
    "    #println(\"FLR_eig: \")\n",
    "    for cc=1:length(sector_set)\n",
    "        sec=sector_set[cc];\n",
    "        spin=(dim(sec)-1)/2;\n",
    "        n_eff=Int(round(n/dim(sec)))+1\n",
    "        #println(\"spin \"*string(spin))\n",
    "\n",
    "        FLR_eig_L(x)=HV_FL(x,A,O);\n",
    "        vl_init=permute(TensorMap(randn, SU₂Space(spin=>1),space(A',1)*space(O,1)*space(A,1)), (1,2,3,4,),());# assume that the dominant eigenvector has total spin zero. If not, it will have three indeces and it's not Hermiitan.\n",
    "        try\n",
    "            euL,evL,info=eigsolve(FLR_eig_L, vl_init, minimum([n_eff,dim(full_space,sec)]),:LM, Arnoldi(krylovdim=minimum([n_eff,dim(full_space,sec)])*4));\n",
    "            @assert info.converged >= minimum([n_eff,dim(full_space,sec)])\n",
    "        catch e\n",
    "            println(\"Number of eigenvalues obtained are not enough, use smaller tol\")\n",
    "            euL,evL,info=eigsolve(FLR_eig_L, vl_init, minimum([n_eff,dim(full_space,sec)]),:LM, Arnoldi(krylovdim=minimum([n_eff,dim(full_space,sec)])*8, tol=1e-14));\n",
    "            if minimum(abs.(euL))/maximum(abs.(euL))<1e-7\n",
    "                display(\"minimal singular value in this sector is quite small, skip checking number of converged values\")\n",
    "            else\n",
    "                if  info.converged >= minimum([n_eff,dim(full_space,sec)])\n",
    "                    @warn \"number of values converged is not enough\"\n",
    "                end\n",
    "            end\n",
    "        end\n",
    "        @assert abs.(euL)==sort(abs.(euL), rev=true)\n",
    "        euL=euL[1:minimum([length(euL),n_eff,dim(full_space,sec)])];\n",
    "        evL=evL[1:minimum([length(evL),n_eff,dim(full_space,sec)])];\n",
    "        euL_set[cc]=euL;\n",
    "        evLL=evL;\n",
    "        evL=Vector{Any}(undef, length(evLL));\n",
    "        for cs=1:length(evL)\n",
    "            evL[cs]=permute(evLL[cs],(1,),(2,3,4,))\n",
    "        end\n",
    "        evL_set[cc]=evL;\n",
    "        SPIN_set[cc]=ones(length(euL))*(dim(sec)-1)/2;\n",
    "        \n",
    "        FLR_eig_R(x)=HV_FR(x,A,O);\n",
    "        vr_init=permute(TensorMap(randn, space(A',2)'*space(O,3)'*space(A,2)',SU₂Space(spin=>1)), (1,2,3,4,),());# assume that the dominant eigenvector has total spin zero. If not, it will have three indeces and it's not Hermiitan.\n",
    "        try\n",
    "            euR,evR,info=eigsolve(FLR_eig_R, vr_init, minimum([n_eff,dim(full_space,sec)]),:LM, Arnoldi(krylovdim=minimum([n_eff,dim(full_space,sec)])*4));\n",
    "            @assert info.converged >= minimum([n_eff,dim(full_space,sec)])\n",
    "        catch e\n",
    "            println(\"Number of eigenvalues obtained are not enough, use smaller tol\")\n",
    "            euR,evR,info=eigsolve(FLR_eig_R, vr_init, minimum([n_eff,dim(full_space,sec)]),:LM, Arnoldi(krylovdim=minimum([n_eff,dim(full_space,sec)])*4, tol=1e-14));\n",
    "            if minimum(abs.(euR))/maximum(abs.(euR))<1e-7\n",
    "                display(\"minimal singular value in this sector is quite small, skip checking number of converged values\")\n",
    "            else\n",
    "                if  info.converged >= minimum([n_eff,dim(full_space,sec)])\n",
    "                    @warn \"number of values converged is not enough\"\n",
    "                end\n",
    "            end\n",
    "        end\n",
    "        @assert abs.(euR)==sort(abs.(euR), rev=true)\n",
    "        euR=euR[1:minimum([length(euR),n_eff,dim(full_space,sec)])];\n",
    "        evR=evR[1:minimum([length(evR),n_eff,dim(full_space,sec)])];\n",
    "        euR_set[cc]=euR;\n",
    "        evRR=evR;\n",
    "        evR=Vector{Any}(undef, length(evRR));\n",
    "        for cs=1:length(evR)\n",
    "            evR[cs]=permute(evRR[cs],(1,2,3,),(4,))\n",
    "        end\n",
    "        evR_set[cc]=evR;\n",
    "\n",
    "        @assert (norm(abs.(euL)-abs.(euR))/norm(euL))<1e-8\n",
    "    end\n",
    "    return euL_set,evL_set,euR_set,evR_set,SPIN_set     \n",
    "end\n",
    "        \n",
    "function HV_FL(vl,A,mpo)\n",
    "    @tensor vl[:]:=vl[-1,1,3,5]*A'[1,-2,2]*mpo[3,4,-3,2]*A[5,-4,4];\n",
    "    return vl\n",
    "end\n",
    "\n",
    "function HV_FR(vr,A,mpo)\n",
    "    @tensor vr[:]:=A'[-1,1,2]*mpo[-2,4,3,2]*A[-3,5,4]*vr[1,3,5,-4];\n",
    "    return vr\n",
    "end\n",
    " \n",
    "        \n"
   ]
  },
  {
   "cell_type": "code",
   "execution_count": 440,
   "metadata": {},
   "outputs": [
    {
     "data": {
      "text/plain": [
       "GLR_eig (generic function with 1 method)"
      ]
     },
     "metadata": {},
     "output_type": "display_data"
    }
   ],
   "source": [
    "function GLR_eig(A,n,full_space,sector_set)\n",
    "    spin_set=Vector{Any}(undef, length(sector_set));\n",
    "    eul_set=Vector{Any}(undef, length(sector_set));\n",
    "    evl_set=Vector{Any}(undef, length(sector_set));\n",
    "    eur_set=Vector{Any}(undef, length(sector_set));\n",
    "    evr_set=Vector{Any}(undef, length(sector_set));\n",
    "    #println(\"GLR_eig: \")\n",
    "    for cc=1:length(sector_set)\n",
    "        sec=sector_set[cc];\n",
    "        spin=(dim(sec)-1)/2;\n",
    "        n_eff=Int(round(n/dim(sec)))+1\n",
    "        #println(\"spin \"*string(spin))\n",
    "        \n",
    "        GLR_eig_L(x)=HV_L_tensor(x,A,[]);\n",
    "        vl_init=permute(TensorMap(randn, SU₂Space(spin=>1),space(A',1)*space(A,1)), (1,2,3,),());# assume that the dominant eigenvector has total spin zero. If not, it will have three indeces and it's not Hermiitan.\n",
    "        try\n",
    "            eul,evl,info=eigsolve(GLR_eig_L, vl_init, minimum([n_eff,dim(full_space,sec)]),:LM,Arnoldi(krylovdim=minimum([n_eff,dim(full_space,sec)])*4));\n",
    "            @assert info.converged >= minimum([n_eff,dim(full_space,sec)])\n",
    "        catch e\n",
    "            println(\"Number of eigenvalues obtained are not enough, use smaller tol\")\n",
    "            eul,evl,info=eigsolve(GLR_eig_L, vl_init, minimum([n_eff,dim(full_space,sec)]),:LM,Arnoldi(krylovdim=minimum([n_eff,dim(full_space,sec)])*4, tol=1e-14));\n",
    "            if minimum(abs.(eul))/maximum(abs.eu(l))<1e-7\n",
    "                display(\"minimal singular value in this sector is quite small, skip checking number of converged values\")\n",
    "            else\n",
    "                if  info.converged >= minimum([n_eff,dim(full_space,sec)])\n",
    "                    @warn \"number of values converged is not enough\"\n",
    "                end\n",
    "            end\n",
    "        end\n",
    "        @assert abs.(eul)==sort(abs.(eul), rev=true)\n",
    "        \n",
    "        eul=eul[1:minimum([length(eul),n_eff,dim(full_space,sec)])];\n",
    "        evl=evl[1:minimum([length(evl),n_eff,dim(full_space,sec)])];\n",
    "        eul_set[cc]=eul;\n",
    "        evll=evl;\n",
    "        evl=Vector{Any}(undef, length(evll));\n",
    "        for cs=1:length(evl)\n",
    "            evl[cs]=permute(evll[cs],(1,),(2,3,))\n",
    "        end\n",
    "        evl_set[cc]=evl;\n",
    "        spin_set[cc]=ones(length(eul))*(dim(sec)-1)/2;\n",
    "\n",
    "        GLR_eig_R(x)=HV_R_tensor(x,A,[]);\n",
    "        vr_init=permute(TensorMap(randn, space(A',2)'*space(A,2)',SU₂Space(spin=>1)), (1,2,3,),());# assume that the dominant eigenvector has total spin zero. If not, it will have three indeces and it's not Hermiitan.\n",
    "        try\n",
    "            eur,evr,info=eigsolve(GLR_eig_R, vr_init, minimum([n_eff,dim(full_space,sec)]),:LM,Arnoldi(krylovdim=minimum([n_eff,dim(full_space,sec)])*4));\n",
    "            @assert info.converged >= minimum([n_eff,dim(full_space,sec)])\n",
    "        catch e\n",
    "            println(\"Number of eigenvalues obtained are not enough, use smaller tol\")\n",
    "            eur,evr,info=eigsolve(GLR_eig_R, vr_init, minimum([n_eff,dim(full_space,sec)]),:LM,Arnoldi(krylovdim=minimum([n_eff,dim(full_space,sec)])*8, tol=1e-14));\n",
    "            if minimum(abs.(eur))/maximum(abs.(eur))<1e-7\n",
    "                display(\"minimal singular value in this sector is quite small, skip checking number of converged values\")\n",
    "            else\n",
    "                if  info.converged >= minimum([n_eff,dim(full_space,sec)])\n",
    "                    @warn \"number of values converged is not enough\"\n",
    "                end\n",
    "            end\n",
    "        end\n",
    "        @assert abs.(eur)==sort(abs.(eur), rev=true)\n",
    "        eur=eur[1:minimum([length(eur),n_eff,dim(full_space,sec)])];\n",
    "        evr=evr[1:minimum([length(evl),n_eff,dim(full_space,sec)])];\n",
    "        eur_set[cc]=eur;\n",
    "        evrr=evr;\n",
    "        evr=Vector{Any}(undef, length(evrr));\n",
    "        for cs=1:length(evr)\n",
    "            evr[cs]=permute(evrr[cs],(1,2,),(3,))\n",
    "        end\n",
    "        evr_set[cc]=evr;\n",
    "\n",
    "        @assert (norm(abs.(eul)-abs.(eur))/norm(eul))<1e-8\n",
    "\n",
    "    end\n",
    "    return eul_set,evl_set,eur_set,evr_set,spin_set   \n",
    "end\n",
    "    \n",
    "    \n",
    "    "
   ]
  },
  {
   "cell_type": "code",
   "execution_count": 441,
   "metadata": {},
   "outputs": [
    {
     "data": {
      "text/plain": [
       "HV_FR_conj_pow (generic function with 1 method)"
      ]
     },
     "metadata": {},
     "output_type": "display_data"
    }
   ],
   "source": [
    "function FLR_svd(A,O,pow,n,full_space,sector_set)\n",
    "    SPIN_set=Vector{Any}(undef, length(sector_set));\n",
    "    S_set=Vector{Any}(undef, length(sector_set));\n",
    "    U_set=Vector{Any}(undef, length(sector_set));\n",
    "    Vh_set=Vector{Any}(undef, length(sector_set));\n",
    "    #display(\"FLR_svd: \")\n",
    "    for cc=1:length(sector_set)\n",
    "        sec=sector_set[cc];\n",
    "        spin=(dim(sec)-1)/2;\n",
    "        n_eff=Int(round(n/dim(sec)))+1\n",
    "        #display(\"spin \"*string(spin))\n",
    "\n",
    "        FLR_svd_R(x)=HV_FR_pow(x,A,O,pow);\n",
    "        FLR_svd_R_conj(x)=HV_FR_conj_pow(x,A,O,pow);\n",
    "        vl_init=permute(TensorMap(randn, SU₂Space(spin=>1),space(A',1)*space(O,1)*space(A,1)), (1,2,3,4,),());# assume that the dominant eigenvector has total spin zero. If not, it will have three indeces and it's not Hermiitan.\n",
    "        vr_init=permute(TensorMap(randn, space(A',2)'*space(O,3)'*space(A,2)',SU₂Space(spin=>1)), (1,2,3,4,),());# assume that the dominant eigenvector has total spin zero. If not, it will have three indeces and it's not Hermiitan.\n",
    "        try\n",
    "            S,U,V,info=svdsolve((FLR_svd_R,FLR_svd_R_conj), vr_init, minimum([n_eff,dim(full_space,sec)]),:LR, krylovdim=minimum([n_eff,dim(full_space,sec)])*4);\n",
    "            if minimum(S)/maximum(S)<1e-7\n",
    "                display(\"minimal singular value in this sector is quite small, skip checking number of converged values\")\n",
    "            else\n",
    "                @assert info.converged >= minimum([n_eff,dim(full_space,sec)])\n",
    "            end\n",
    "        catch e\n",
    "            println(\"Number of singular values obtained are not enough, use smaller tol\")\n",
    "            S,U,V,info=svdsolve((FLR_svd_R,FLR_svd_R_conj), vr_init, minimum([n_eff,dim(full_space,sec)]),:LR, krylovdim=minimum([n_eff,dim(full_space,sec)])*8, tol=(1e-14));\n",
    "            if minimum(S)/maximum(S)<1e-7\n",
    "                display(\"minimal singular value in this sector is quite small, skip checking number of converged values\")\n",
    "            else\n",
    "                if  info.converged >= minimum([n_eff,dim(full_space,sec)])\n",
    "                    @warn \"number of values converged is not enough\"\n",
    "                end\n",
    "            end\n",
    "        end\n",
    "        @assert abs.(S)==sort(abs.(S), rev=true)\n",
    "        S=S[1:minimum([length(S),n_eff,dim(full_space,sec)])];\n",
    "        U=U[1:minimum([length(U),n_eff,dim(full_space,sec)])];\n",
    "        V=V[1:minimum([length(V),n_eff,dim(full_space,sec)])];\n",
    "\n",
    "        UU=U;\n",
    "        U=Vector{Any}(undef, length(UU));\n",
    "        for cs=1:length(U)\n",
    "            U[cs]=permute(UU[cs],(1,2,3,),(4,))\n",
    "        end\n",
    "\n",
    "        Vh=Vector{Any}(undef, length(V));\n",
    "        for cs=1:length(Vh)\n",
    "            vvr=V[cs];\n",
    "            Vh[cs]=permute(vvr',(4,),(1,2,3,));\n",
    "        end\n",
    "        S_set[cc]=S;\n",
    "        U_set[cc]=U;\n",
    "        Vh_set[cc]=Vh;\n",
    "        SPIN_set[cc]=ones(length(S))*(dim(sec)-1)/2;\n",
    "        \n",
    "    end\n",
    "    return S_set,U_set,Vh_set,SPIN_set     \n",
    "end\n",
    "            \n",
    "\n",
    "function HV_FR_pow(vr,A,mpo,pow)\n",
    "    for cc=1:pow\n",
    "        vr=HV_FR(vr,A,mpo);\n",
    "    end\n",
    "    return vr\n",
    "end\n",
    "function HV_FR_conj(vr,A,mpo)\n",
    "    @tensor vr[:]:=A[1,-1,2]*mpo'[3,4,-2,2]*A'[5,-3,4]*vr[1,3,5,-4];\n",
    "    return vr\n",
    "end\n",
    "function HV_FR_conj_pow(vr,A,mpo,pow)\n",
    "    for cc=1:pow\n",
    "        vr=HV_FR_conj(vr,A,mpo);\n",
    "    end\n",
    "    return vr\n",
    "end\n",
    "    \n"
   ]
  },
  {
   "cell_type": "code",
   "execution_count": 442,
   "metadata": {},
   "outputs": [
    {
     "data": {
      "text/plain": [
       "HV_R_conj_pow (generic function with 1 method)"
      ]
     },
     "metadata": {},
     "output_type": "display_data"
    }
   ],
   "source": [
    "function GLR_svd(A,pow,n,full_space,sector_set)\n",
    "    spin_set=Vector{Any}(undef, length(sector_set));\n",
    "    s_set=Vector{Any}(undef, length(sector_set));\n",
    "    u_set=Vector{Any}(undef, length(sector_set));\n",
    "    vh_set=Vector{Any}(undef, length(sector_set));\n",
    "    A_noise=TensorMap(randn, codomain(A),domain(A));\n",
    "    A_noise=A_noise/norm(A_noise)*norm(A)*1e-9;\n",
    "    #println(\"GLR_svd: \")\n",
    "    for cc=1:length(sector_set)\n",
    "        sec=sector_set[cc];\n",
    "        spin=(dim(sec)-1)/2;\n",
    "        n_eff=Int(round(n/dim(sec)))+1\n",
    "        #println(\"spin \"*string(spin))\n",
    "\n",
    "\n",
    "        vr_init=permute(TensorMap(randn, space(A',2)'*space(A,2)',SU₂Space(spin=>1)), (1,2,3,),());# assume that the dominant eigenvector has total spin zero. If not, it will have three indeces and it's not Hermiitan.\n",
    "        try\n",
    "            GLR_svd_R(x)=HV_R_pow(x,A,pow,A_noise*0);\n",
    "            GLR_svd_R_conj(x)=HV_R_conj_pow(x,A,pow,A_noise*0);\n",
    "            s,u,v,info=svdsolve((GLR_svd_R,GLR_svd_R_conj), vr_init, minimum([n_eff,dim(full_space,sec)]),:LR, krylovdim=minimum([n_eff,dim(full_space,sec)])*4);\n",
    "            @assert info.converged >= minimum([n_eff,dim(full_space,sec)])    \n",
    "        catch e\n",
    "            GLR_svd_R(x)=HV_R_pow(x,A,pow,A_noise);\n",
    "            GLR_svd_R_conj(x)=HV_R_conj_pow(x,A,pow,A_noise);\n",
    "            println(\"Number of singular values obtained are not enough, add noise, increase Krylov subspace and use smaller tol\")\n",
    "            s,u,v,info=svdsolve((GLR_svd_R,GLR_svd_R_conj), vr_init, minimum([n_eff,dim(full_space,sec)]),:LR, krylovdim=minimum([n_eff,dim(full_space,sec)])*8, tol=1e-14);\n",
    "            if minimum(s)/maximum(s)<1e-7\n",
    "                display(\"minimal singular value in this sector is quite small, skip checking number of converged values\")\n",
    "            else\n",
    "                if  info.converged >= minimum([n_eff,dim(full_space,sec)])\n",
    "                    @warn \"number of values converged is not enough\"\n",
    "                end\n",
    "            end\n",
    "        end\n",
    "        @assert abs.(s)==sort(abs.(s), rev=true)\n",
    "    \n",
    "        s=s[1:minimum([length(s),n_eff,dim(full_space,sec)])];\n",
    "        u=u[1:minimum([length(u),n_eff,dim(full_space,sec)])];\n",
    "        v=v[1:minimum([length(v),n_eff,dim(full_space,sec)])];\n",
    "\n",
    "        uu=u;\n",
    "        u=Vector{Any}(undef, length(u));\n",
    "        for cs=1:length(u)\n",
    "            u[cs]=permute(uu[cs],(1,2,),(3,))\n",
    "        end\n",
    "\n",
    "        vh=Vector{Any}(undef, length(v));\n",
    "        for cs=1:length(vh)\n",
    "            vvr=v[cs];\n",
    "            vh[cs]=permute(vvr',(3,),(1,2,));\n",
    "        end\n",
    "        s_set[cc]=s;\n",
    "        u_set[cc]=u;\n",
    "        vh_set[cc]=vh;\n",
    "        spin_set[cc]=ones(length(s))*(dim(sec)-1)/2;\n",
    "        \n",
    "    end\n",
    "    return s_set,u_set,vh_set,spin_set     \n",
    "end\n",
    "\n",
    "function HV_R_pow(vr,A,pow,A_noise)\n",
    "    A_=A+A_noise;\n",
    "    for cc=1:pow\n",
    "        @tensor vr[:]:=A_'[-1,1,2]*A[-2,3,2]*vr[1,3,-3];\n",
    "    end\n",
    "    return vr\n",
    "end\n",
    "\n",
    "function HV_R_conj_pow(vr,A,pow,A_noise)\n",
    "    A_=A+A_noise;\n",
    "    for cc=1:pow\n",
    "        @tensor vr[:]:=A_[1,-1,2]*A'[3,-2,2]*vr[1,3,-3];\n",
    "    end\n",
    "    return vr\n",
    "end\n",
    "\n"
   ]
  },
  {
   "cell_type": "code",
   "execution_count": 443,
   "metadata": {},
   "outputs": [
    {
     "data": {
      "text/plain": [
       "TransfOp_decom (generic function with 1 method)"
      ]
     },
     "metadata": {},
     "output_type": "display_data"
    }
   ],
   "source": [
    "\n",
    "function TransfOp_decom(A,O,total_space,total_sec,pow,Dtrun_init,Dtrun_max,trun_tol,method)\n",
    "    # euL_set,evL_set,euR_set,evR_set,SPIN_eig_set=FLR_eig(Ag,OO,Dtrun,space_AOA,AOA_sec);\n",
    "\n",
    "    # eul_set,evl_set,eur_set,evr_set,spin_eig_set=GLR_eig(Ag,Dtrun,space_AA,AA_sec);\n",
    "\n",
    "    # S_set,U_set,Vh_set,SPIN_svd_set=FLR_svd(Ag,OO,pow,Dtrun,space_AOA,AOA_sec);\n",
    "\n",
    "    # s_set,u_set,vh_set,spin_svd_set=GLR_svd(Ag,pow,Dtrun,space_AA,AA_sec);\n",
    "\n",
    "\n",
    "    # euR_set,evL_set,evR_set,SPIN_eig_set=truncate_sectors(Dtrun,euR_set,evL_set,evR_set,SPIN_eig_set);\n",
    "\n",
    "    # eur_set,evl_set,evr_set,spin_eig_set=truncate_sectors(Dtrun,eur_set,evl_set,evr_set,spin_eig_set);\n",
    "\n",
    "    # S_set,U_set,Vh_set,SPIN_svd_set=truncate_sectors(Dtrun,S_set,U_set,Vh_set,SPIN_svd_set);\n",
    "\n",
    "    # s_set,u_set,vh_set,spin_svd_set=truncate_sectors(Dtrun,s_set,u_set,vh_set,spin_svd_set);\n",
    "\n",
    "\n",
    "    Dstep=50;\n",
    "    Dtrun=Dtrun_init;\n",
    "    if method==\"eigenvalue_FLR\"\n",
    "        evL_set=Vector{Any}(undef, length(total_sec));\n",
    "        euR_set=Vector{Any}(undef, length(total_sec));\n",
    "        evR_set=Vector{Any}(undef, length(total_sec));\n",
    "        SPIN_eig_set=Vector{Any}(undef, length(total_sec));\n",
    "        for cs=1:Int(round((Dtrun_max-Dtrun_init)/Dstep))+1\n",
    "            _,evL_set,euR_set,evR_set,SPIN_eig_set=FLR_eig(A,O,Dtrun,total_space,total_sec);\n",
    "            euR_set,evL_set,evR_set,SPIN_eig_set=truncate_sectors(Dtrun,euR_set,evL_set,evR_set,SPIN_eig_set);\n",
    "            eu=abs.(group_numbers(euR_set));\n",
    "            eu_normed=eu/maximum(eu); \n",
    "            eu_normed=eu_normed.^pow;\n",
    "            display(\"FLR_eig, Dtrun=\"*string(Dtrun)*\", minimal eigenvalue: \"*string(minimum(eu_normed)))\n",
    "            if minimum(eu_normed)<trun_tol\n",
    "                break;\n",
    "            else\n",
    "                if Dtrun>dim(total_space)\n",
    "                    display(\"Dtrun exceeds matrix size\")\n",
    "                    break;\n",
    "                end\n",
    "                Dtrun=Dtrun+Dstep;\n",
    "            end\n",
    "        end\n",
    "        \n",
    "        eu=abs.(group_numbers(euR_set));\n",
    "        \n",
    "        for cc=1:length(euR_set)\n",
    "            euR=euR_set[cc];\n",
    "            evL=evL_set[cc];\n",
    "            evR=evR_set[cc];\n",
    "            SPIN_eig=SPIN_eig_set[cc];\n",
    "            for cs=length(euR):-1:1\n",
    "                if ((abs(euR[cs]))/maximum(eu))^pow<trun_tol\n",
    "                    deleteat!(euR, cs);\n",
    "                    deleteat!(evR, cs);\n",
    "                    deleteat!(evL, cs);\n",
    "                    deleteat!(SPIN_eig, cs);\n",
    "                end\n",
    "            end\n",
    "            euR_set[cc]=euR;\n",
    "            evL_set[cc]=evL;\n",
    "            evR_set[cc]=evR;\n",
    "            SPIN_eig_set[cc]=SPIN_eig;\n",
    "        end\n",
    "        \n",
    "        return euR_set,evL_set,evR_set,SPIN_eig_set\n",
    "\n",
    "    elseif method==\"eigenvalue_GLR\"\n",
    "        evl_set=Vector{Any}(undef, length(total_sec));\n",
    "        eur_set=Vector{Any}(undef, length(total_sec));\n",
    "        evr_set=Vector{Any}(undef, length(total_sec));\n",
    "        spin_eig_set=Vector{Any}(undef, length(total_sec));\n",
    "        for cs=1:Int(round((Dtrun_max-Dtrun_init)/Dstep))+1\n",
    "            _,evl_set,eur_set,evr_set,spin_eig_set=GLR_eig(A,Dtrun,total_space,total_sec);\n",
    "            eur_set,evl_set,evr_set,spin_eig_set=truncate_sectors(Dtrun,eur_set,evl_set,evr_set,spin_eig_set);\n",
    "            eu=abs.(group_numbers(eur_set));\n",
    "            eu_normed=eu/maximum(eu); \n",
    "            eu_normed=eu_normed.^pow;\n",
    "            display(\"GLR_eig, Dtrun=\"*string(Dtrun)*\", minimal eigenvalue: \"*string(minimum(eu_normed)))\n",
    "            if minimum(eu_normed)<trun_tol\n",
    "                break;\n",
    "            else\n",
    "                if Dtrun>dim(total_space)\n",
    "                    display(\"Dtrun exceeds matrix size\")\n",
    "                    break;\n",
    "                end\n",
    "                Dtrun=Dtrun+Dstep;\n",
    "            end\n",
    "        end\n",
    "\n",
    "        eu=abs.(group_numbers(eur_set));\n",
    "        \n",
    "        for cc=1:length(eur_set)\n",
    "            eur=eur_set[cc];\n",
    "            evl=evl_set[cc];\n",
    "            evr=evr_set[cc];\n",
    "            spin_eig=spin_eig_set[cc];\n",
    "            for cs=length(eur):-1:1\n",
    "                if ((abs(eur[cs]))/maximum(eu))^pow<trun_tol\n",
    "                    deleteat!(eur, cs);\n",
    "                    deleteat!(evr, cs);\n",
    "                    deleteat!(evl, cs);\n",
    "                    deleteat!(spin_eig, cs);\n",
    "                end\n",
    "            end\n",
    "            eur_set[cc]=eur;\n",
    "            evl_set[cc]=evl;\n",
    "            evr_set[cc]=evr;\n",
    "            spin_eig_set[cc]=spin_eig;\n",
    "        end\n",
    "        \n",
    "        return eur_set,evl_set,evr_set,spin_eig_set\n",
    "\n",
    "    elseif method==\"svd_FLR\"\n",
    "        S_set=Vector{Any}(undef, length(total_sec));\n",
    "        U_set=Vector{Any}(undef, length(total_sec));\n",
    "        Vh_set=Vector{Any}(undef, length(total_sec));\n",
    "        SPIN_svd_set=Vector{Any}(undef, length(total_sec));\n",
    "        for cs=1:Int(round((Dtrun_max-Dtrun_init)/Dstep))+1\n",
    "            S_set,U_set,Vh_set,SPIN_svd_set=FLR_svd(A,O,pow,Dtrun,total_space,total_sec);\n",
    "            S_set,U_set,Vh_set,SPIN_svd_set=truncate_sectors(Dtrun,S_set,U_set,Vh_set,SPIN_svd_set);  \n",
    "            eu=abs.(group_numbers(S_set));\n",
    "            eu_normed=eu/maximum(eu); \n",
    "            display(\"FLR_svd, Dtrun=\"*string(Dtrun)*\", minimal eigenvalue: \"*string(minimum(eu_normed)))\n",
    "            if minimum(eu_normed)<trun_tol\n",
    "                break;\n",
    "            else\n",
    "                if Dtrun>dim(total_space)\n",
    "                    display(\"Dtrun exceeds matrix size\")\n",
    "                    break;\n",
    "                end\n",
    "                Dtrun=Dtrun+Dstep;\n",
    "            end\n",
    "        end\n",
    "        \n",
    "        eu=abs.(group_numbers(S_set));\n",
    "        \n",
    "        for cc=1:length(S_set)\n",
    "            S=S_set[cc];\n",
    "            U=U_set[cc];\n",
    "            Vh=Vh_set[cc];\n",
    "            SPIN_svd=SPIN_svd_set[cc];\n",
    "            for cs=length(S):-1:1\n",
    "                if ((abs(S[cs]))/maximum(eu))<trun_tol\n",
    "                    deleteat!(S, cs);\n",
    "                    deleteat!(U, cs);\n",
    "                    deleteat!(Vh, cs);\n",
    "                    deleteat!(SPIN_svd, cs);\n",
    "                end\n",
    "            end\n",
    "            S_set[cc]=S;\n",
    "            U_set[cc]=U;\n",
    "            Vh_set[cc]=Vh;\n",
    "            SPIN_svd_set[cc]=SPIN_svd;\n",
    "        end\n",
    "        \n",
    "        return S_set,U_set,Vh_set,SPIN_svd_set\n",
    "    elseif method==\"svd_GLR\"\n",
    "        s_set=Vector{Any}(undef, length(total_sec));\n",
    "        u_set=Vector{Any}(undef, length(total_sec));\n",
    "        vh_set=Vector{Any}(undef, length(total_sec));\n",
    "        spin_svd_set=Vector{Any}(undef, length(total_sec));\n",
    "        for cs=1:Int(round((Dtrun_max-Dtrun_init)/Dstep))+1\n",
    "            s_set,u_set,vh_set,spin_svd_set=GLR_svd(A,pow,Dtrun,total_space,total_sec);\n",
    "            s_set,u_set,vh_set,spin_svd_set=truncate_sectors(Dtrun,s_set,u_set,vh_set,spin_svd_set);\n",
    "            eu=abs.(group_numbers(s_set));\n",
    "            eu_normed=eu/maximum(eu); \n",
    "            display(\"GLR_svd, Dtrun=\"*string(Dtrun)*\", minimal eigenvalue: \"*string(minimum(eu_normed)))\n",
    "            if minimum(eu_normed)<trun_tol\n",
    "                break;\n",
    "            else\n",
    "                if Dtrun>dim(total_space)\n",
    "                    display(\"Dtrun exceeds matrix size\")\n",
    "                    break;\n",
    "                end\n",
    "                Dtrun=Dtrun+Dstep;\n",
    "            end\n",
    "        end\n",
    "    \n",
    "        eu=abs.(group_numbers(s_set));\n",
    "        \n",
    "        for cc=1:length(s_set)\n",
    "            s=s_set[cc];\n",
    "            u=u_set[cc];\n",
    "            vh=vh_set[cc];\n",
    "            spin_svd=spin_svd_set[cc];\n",
    "            for cs=length(s):-1:1\n",
    "                if ((abs(s[cs]))/maximum(eu))<trun_tol\n",
    "                    deleteat!(s, cs);\n",
    "                    deleteat!(u, cs);\n",
    "                    deleteat!(vh, cs);\n",
    "                    deleteat!(spin_svd, cs);\n",
    "                end\n",
    "            end\n",
    "            s_set[cc]=s;\n",
    "            u_set[cc]=u;\n",
    "            vh_set[cc]=vh;\n",
    "            spin_svd_set[cc]=spin_svd;\n",
    "        end\n",
    "        return s_set,u_set,vh_set,spin_svd_set\n",
    "    end\n",
    "end\n",
    "    \n"
   ]
  },
  {
   "cell_type": "code",
   "execution_count": 450,
   "metadata": {},
   "outputs": [
    {
     "data": {
      "text/plain": [
       "(9,)"
      ]
     },
     "metadata": {},
     "output_type": "display_data"
    },
    {
     "data": {
      "text/plain": [
       "(5,)"
      ]
     },
     "metadata": {},
     "output_type": "display_data"
    },
    {
     "data": {
      "text/plain": [
       "\"minimal singular value in this sector is quite small, skip checking number of converged values\""
      ]
     },
     "metadata": {},
     "output_type": "display_data"
    },
    {
     "data": {
      "text/plain": [
       "\"minimal singular value in this sector is quite small, skip checking number of converged values\""
      ]
     },
     "metadata": {},
     "output_type": "display_data"
    },
    {
     "data": {
      "text/plain": [
       "(9,)"
      ]
     },
     "metadata": {},
     "output_type": "display_data"
    },
    {
     "data": {
      "text/plain": [
       "(5,)"
      ]
     },
     "metadata": {},
     "output_type": "display_data"
    },
    {
     "data": {
      "text/plain": [
       "9-element Vector{Any}:\n",
       " ComplexF64[0.129030067959932 - 6.130853351386757e-6im, 0.05009704827872695 + 0.07380684727267595im, 0.050126491231321665 - 0.07377876592657959im, 0.07812596985687165 - 8.8599956822572e-6im, 0.03125900083448864 + 0.04465187722217952im, 0.031161036593403985 - 0.04460221607622208im, 0.049271038757530944 - 1.8882841772982756e-5im, 0.044004995373091146 - 6.630267401619839e-6im, 0.006210925869902536 + 0.039605172882124756im, 0.006169835120352251 - 0.03954289722895244im  …  5.4847802613095585e-5 - 3.701226748521777e-5im, 5.180520493695938e-5 + 4.036877159935972e-5im, 4.8392172847055327e-5 + 1.3737976966876236e-7im, 4.645763282834487e-5 - 8.979823515777912e-8im, 3.5097658661507286e-5 - 2.607593430811465e-7im, 2.4184239489941985e-5 + 7.222527802733114e-7im, 1.337833336751261e-5 - 2.269879854960296e-6im, 1.242949815935923e-5 + 5.027124701657111e-6im, 2.680893419829239e-6 - 3.5028178759979855e-6im, -1.2851924180147312e-6 - 8.950839296574447e-7im]\n",
       " ComplexF64[0.09827899389249774 + 0.045891966678478974im, 0.09826642288004397 - 0.045912979512237814im, 0.060979033215010414 + 0.036882506252216084im, 0.06098903535463161 - 0.0368249678384195im, 0.043447215607355455 + 0.026832662611390057im, 0.04341458164488359 - 0.02686393534662623im, 0.006127899105782063 + 0.049501494905122775im, 0.006065614870177399 - 0.04927350232995393im, 0.028333700366907924 - 0.039860167607091754im, 0.028354474556117074 + 0.03977041180130649im  …  4.865303001974655e-5 - 3.800557473640508e-5im, 4.7038114118854075e-5 - 2.9938905721382873e-5im, 4.7455433381701754e-5 + 2.720755701309834e-5im, -5.296358154830504e-5 + 2.1157000981240912e-6im, -3.051097151689107e-5 + 1.5065775680327716e-5im, 2.7677709264611567e-5 - 1.0382379452243093e-5im, 2.422883500021069e-6 + 2.9410031993851956e-5im, 4.5400151510802015e-6 - 2.8853337782310917e-5im, 2.7141585932823666e-5 + 9.847989248095796e-6im, 2.456091365795073e-5 + 1.569749022033565e-6im]\n",
       " ComplexF64[0.07175947051320422 - 2.453071867284523e-5im, 0.046336179378199734 + 0.048893907075651034im, 0.046252609746994855 - 0.04889109724452378im, 0.059111364401299854 - 0.014340389457197289im, 0.059062012143587854 + 0.01435554808835776im, 0.047454239054160526 + 0.011996241792526204im, 0.04742733119323586 - 0.012071850309198802im, 0.03527112040945244 + 0.018307966401873568im, 0.03523592464050534 - 0.01829945258480244im, 0.012105060461675235 + 0.037813146704146317im  …  2.833751876541999e-5 - 1.7296973533446415e-5im, 3.0708879067940387e-5 - 2.2252096813269118e-7im, 3.0085499652393184e-5 - 3.54969716774113e-6im, 2.8444783274623148e-5 + 1.7361931748293943e-6im, 2.266591019546482e-5 + 1.6212884929338656e-5im, 2.4387070736315933e-5 - 1.1566430197396372e-5im, 2.634037972828914e-5 + 8.601695083718574e-7im, 2.2785015303437892e-5 + 1.2743875574750937e-5im, 1.7027402725408914e-5 + 1.7580055975767867e-6im, 9.850145386314096e-6 + 3.845880469010586e-7im]\n",
       " ComplexF64[0.041090495343702946 + 0.023919016974696637im, 0.041078860334318804 - 0.02386214932585943im, 0.037414526767493746 - 0.008046463230431665im, 0.037385498779826803 + 0.00798675925658447im, 0.028451504409801095 + 0.02075058407750401im, 0.028407768967767175 - 0.02078780575152463im, 0.026478289279524964 + 0.014294283257851618im, 0.02646047872676089 - 0.014285036880541314im, 0.005173279836987504 + 0.028461316900886505im, 0.005188666316773616 - 0.028457493898418767im  …  5.977672369342615e-5 - 1.3703923837412742e-6im, 4.732237897385206e-5 + 2.8206985980468306e-5im, 4.70596886792625e-5 - 2.821393759079299e-5im, 4.425528774393128e-5 - 8.03660448753104e-7im, 3.124012314610478e-5 - 1.3026309857606004e-5im, 3.0924695089219334e-5 + 1.3291724203686652e-5im, 1.7178866549593685e-5 - 2.6345369591781e-5im, 1.671816100430189e-5 + 2.5667504791043763e-5im, 2.2125204025057132e-5 - 5.6728520691774085e-6im, 2.182911843254804e-5 + 5.853325847470802e-6im]\n",
       " ComplexF64[0.023572286459326772 + 0.008703967171187203im, 0.023562791184910406 - 0.00869324578335778im, 0.019756320674165013 + 0.0010989870464207597im, 0.019738536664397482 - 0.0011398537132318346im, 0.009647856745599133 + 0.01663702678342766im, 0.00963960185356926 - 0.016640116646182847im, 0.012178132789313813 + 0.014877792075482643im, 0.012186760798881974 - 0.014863547814354807im, 0.01867058647169731 + 1.761438282538152e-5im, 0.012718616232860644 + 0.007121948753346884im  …  4.8349078244950626e-5 + 1.918943703630847e-8im, 4.727295847172818e-5 - 8.922310635492947e-9im, 3.773416728812814e-5 - 2.161151030232554e-5im, 3.7598200080415426e-5 + 2.1185179896133344e-5im, 3.973939842441642e-5 + 2.7599884308407154e-7im, 3.2609004197110635e-5 - 6.679434506471974e-8im, 2.9928554827386893e-5 - 3.4649752318465387e-7im, 2.8422185068571812e-5 + 5.956803291882436e-7im, 2.6705825738280516e-5 + 1.4669117154449974e-7im, 1.3060678320537296e-5 + 1.0106988002655536e-8im]\n",
       " ComplexF64[0.011395814079566809 + 0.0071633508140447645im, 0.011395502220183158 - 0.007162309272016018im, 0.004151652001574299 + 0.006593808750965241im, 0.00415554100720556 - 0.006583431025302334im, 0.006157662868630517 - 0.0037238508308829062im, 0.006155077689150191 + 0.0037249397120118037im, -0.0010682274639353636 + 0.006412521026361902im, -0.00107333675699676 - 0.006406272301182993im, 0.005272849517872598 - 0.0037519682988821504im, 0.005269766624313219 + 0.0037526259958038577im  …  6.433851069232233e-5 - 3.4399404755976606e-5im, 6.407423983921462e-5 + 3.4635553876607816e-5im, 3.757186864982255e-5 + 6.051965851117547e-5im, 3.780550101859628e-5 - 6.008279245809019e-5im, 5.8773002670856904e-5 + 2.9281548966763747e-5im, 5.892333160383136e-5 - 2.8960615857406813e-5im, 4.794805621085683e-5 - 2.684860210577881e-5im, 4.802222374005781e-5 + 2.65639228590405e-5im, 3.106250184141232e-5 + 1.376941251461594e-5im, 3.105428884389555e-5 - 1.376568302061385e-5im]\n",
       " ComplexF64[0.004370995306677445 - 3.0895053009986218e-6im, 0.001100270587026309 + 0.004008177568398387im, 0.0010945511399421035 - 0.00400493855292606im, 0.003577334283063578 - 3.7077568461174575e-6im, 0.0028159385144744683 + 3.2369849882204703e-7im, 0.0013479542020107826 + 0.0002899680642515635im, 0.0013452821122501982 - 0.0002951796197538485im, 0.00067289971728057 - 0.0011591472404704375im, 0.0006768416011305991 + 0.0011567264538854193im, 0.0013226802366816336 - 0.0001931019374913217im  …  0.00010034802079211382 + 4.407518393583364e-5im, 0.00010007731151658097 - 4.434332340829049e-5im, 6.345428480794573e-5 - 7.403302351557223e-5im, 6.339031092383667e-5 + 7.380799244013828e-5im, 8.36298002413649e-5 - 9.125327282391315e-8im, 5.017873232549205e-5 + 1.524082837793152e-7im, 4.848079472677828e-5 + 2.298097483458911e-8im, 4.795006459461989e-5 - 3.0837353550987544e-8im, 2.96179675530305e-5 - 6.203293888564734e-7im, 2.713427796218402e-5 + 5.845844474245576e-7im]\n",
       " ComplexF64[0.0007237352994060154 + 0.0005423970978815277im, 0.000721869409982385 - 0.000544262295403135im, 0.00017501521113970315 + 0.0001233438102362981im, 0.00017495203733169622 - 0.0001221246036228404im, 6.920879891897345e-5 + 3.974929035900543e-5im, 6.903572958567327e-5 - 4.001562030590022e-5im, 5.790912310557016e-5 - 2.8683470020028774e-5im, 5.793264421963034e-5 + 2.8529996537701023e-5im]\n",
       " ComplexF64[4.818453303164314e-5 - 7.97771256552444e-8im]"
      ]
     },
     "metadata": {},
     "output_type": "display_data"
    },
    {
     "data": {
      "text/plain": [
       "5-element Vector{Any}:\n",
       " ComplexF64[1.0000000000000042 + 2.220446049250313e-16im, 0.39440428915713216 + 0.5268910517684033im, 0.3944042891571324 - 0.5268910517684031im, 0.5594503189831693 + 1.2735729151906518e-16im, 0.2313458830044019 + 0.08647280774402077im, 0.23134588300440184 - 0.08647280774402079im, 0.23880601222422668 - 6.948708826320128e-18im, 0.20047129035643316 - 4.069651339659883e-20im, 0.056243047109546924 + 8.47785289116708e-18im]\n",
       " ComplexF64[0.7583540767088972 + 0.35337121214095907im, 0.7583540767088973 - 0.3533712121409585im, 0.4070057530674069 - 0.25833612581429366im, 0.4070057530674066 + 0.2583361258142926im, 0.34419744715088 - 0.17765766193591645im, 0.3441974471508795 + 0.17765766193591642im, 0.3085582177753108 + 0.17708536914723413im, 0.3085582177753107 - 0.17708536914723372im, 0.20246619346336958 - 0.13934858792036064im, 0.20246619346336928 + 0.13934858792036084im, 0.14524763196046728 + 0.06001407702875872im, 0.1452476319604671 - 0.06001407702875886im]\n",
       " ComplexF64[0.5421703885278047 + 4.3545064597512684e-17im, 0.33732861745766185 - 0.3943611490582684im, 0.33732861745766163 + 0.394361149058268im, 0.48764979127698577 - 0.13118663075851533im, 0.4876497912769857 + 0.13118663075851542im, 0.4249704486715142 + 1.7870981907086443e-17im, 0.23975862546217563 + 1.723767891694883e-18im, 0.12887251918098588 - 1.2711825696564225e-17im, 0.12160234027907058 - 6.453485896005269e-18im]\n",
       " ComplexF64[0.3436639763328073 + 0.17296490297482467im, 0.343663976332807 - 0.1729649029748242im, 0.3025863706604368 + 0.1431648981110842im, 0.3025863706604366 - 0.14316489811108413im]\n",
       " ComplexF64[0.24097865285353576 + 8.088379747477657e-18im]"
      ]
     },
     "metadata": {},
     "output_type": "display_data"
    },
    {
     "data": {
      "text/plain": [
       "9-element Vector{Any}:\n",
       " [2.0171871354153758e-8, 1.0783795245358522e-9, 7.290088169529359e-10, 2.337106115603119e-10, 1.2111708447159914e-11, 8.186880739606318e-12, 4.1658937194003555e-12, 1.7810554230577517e-12, 1.2472958411086735e-12, 8.323531818073891e-13  …  1.0004154231314939e-13, 8.706592315106431e-14, 6.467325427486188e-14, 5.400621401614794e-14, 4.394101725433594e-14, 4.009025987480385e-14, 2.3907389527916464e-14, 1.3911574424445e-14, 7.927632110991086e-15, 3.268549710880873e-16]\n",
       " [5.626063823282523e-9, 4.676557775600254e-9, 1.5609991892581495e-10, 1.2096417712559392e-10, 1.5047934321125038e-11, 1.1952282077240753e-11, 8.585804155049333e-12, 7.83307680468719e-12, 4.1908184933613655e-12, 3.673311270309196e-12  …  3.829054381629239e-14, 2.6641224690781798e-14, 2.4090105879203848e-14, 2.1208126702163885e-14, 1.767487441554659e-14, 1.649755315513672e-14, 1.239869727548048e-14, 7.881087825312584e-15, 3.986427330430243e-15, 2.1065852490750862e-16]\n",
       " [2.2354289048780057e-10, 1.5662199784422956e-10, 1.2985911511752612e-10, 5.088702709129794e-11, 9.218476796583895e-12, 4.8663424147148115e-12, 1.849315472444839e-12, 1.125416953927117e-12, 1.0022658405708456e-12, 5.890280931949021e-13  …  3.365480594749528e-14, 3.235839031501709e-14, 3.1018542063576876e-14, 2.870091678972037e-14, 1.7943020048271818e-14, 1.5518500275911168e-14, 1.3483342973499695e-14, 6.909338875819452e-15, 4.548726778982832e-15, 1.608599927091073e-16]\n",
       " [6.168120390129432e-12, 4.407165396037104e-12, 9.97139273620388e-13, 6.247022426170902e-13, 1.479974869384548e-13, 9.658932116677977e-14, 6.24766848029804e-14, 4.166551765078976e-14, 3.074158833652944e-14, 3.0236193731118814e-14, 2.262816357023329e-14, 1.9457875444615162e-14, 9.539058033365014e-15, 4.4899555741099165e-15, 2.0655787536126638e-16]\n",
       " [1.725946765733839e-14, 1.1737889114097661e-14, 1.761170863927223e-16]\n",
       " [4.370932707515806e-18]\n",
       " [1.5416876774589993e-22]\n",
       " [2.0590426936445456e-28]\n",
       " [1.4001489774093218e-39]"
      ]
     },
     "metadata": {},
     "output_type": "display_data"
    },
    {
     "data": {
      "text/plain": [
       "5-element Vector{Any}:\n",
       " [2.014780637588984, 0.04755895835487011, 0.0206604433087355, 0.005381451699176799, 4.653140370174059e-6, 3.6399049895397606e-6, 7.405825184848811e-7, 5.084195401366622e-7, 3.6898201438917205e-12]\n",
       " [0.3392647951731981, 0.33926479517319785, 0.003982832298260281, 0.00398283229826027, 0.00019182548225804257, 0.00019182548225803365, 4.918162237236599e-5, 4.918162237236458e-5, 1.6913102960721108e-6, 1.6913102960710416e-6, 4.492872120042913e-8, 4.4928721199734517e-8]\n",
       " [0.006772775010689002, 0.004435313262198423, 0.003813208898127629, 0.0031047109559057665, 0.000724030687122093, 0.0005062528151233412, 2.1703307913974704e-6, 8.61514433635268e-9, 3.808590537276387e-9]\n",
       " [0.00023628512301647483, 0.00023628512234646906, 4.1253837210451146e-5, 4.125383711584808e-5]\n",
       " [2.7403570356453783e-6]"
      ]
     },
     "metadata": {},
     "output_type": "display_data"
    },
    {
     "name": "stdout",
     "output_type": "stream",
     "text": [
      "Number of singular values obtained are not enough, use smaller tol\n",
      "Number of singular values obtained are not enough, use smaller tol\n",
      "Number of singular values obtained are not enough, use smaller tol\n",
      "Number of singular values obtained are not enough, use smaller tol\n",
      "Number of singular values obtained are not enough, use smaller tol\n",
      "Number of singular values obtained are not enough, use smaller tol\n",
      "Number of singular values obtained are not enough, use smaller tol\n",
      "Number of singular values obtained are not enough, use smaller tol\n",
      "Number of singular values obtained are not enough, add noise, increase Krylov subspace and use smaller tol\n"
     ]
    },
    {
     "name": "stderr",
     "output_type": "stream",
     "text": [
      "┌ Warning: Invariant subspace of dimension 11 (up to requested tolerance `tol = 1.0e-12`), which is smaller than the number of requested singular values (i.e. `howmany == 323`); setting `howmany = 11`.\n",
      "└ @ KrylovKit C:\\Users\\Lenovo\\.julia\\packages\\KrylovKit\\YPiz7\\src\\eigsolve\\svdsolve.jl:142\n",
      "┌ Warning: Invariant subspace of dimension 22 (up to requested tolerance `tol = 1.0e-14`), which is smaller than the number of requested singular values (i.e. `howmany == 323`); setting `howmany = 22`.\n",
      "└ @ KrylovKit C:\\Users\\Lenovo\\.julia\\packages\\KrylovKit\\YPiz7\\src\\eigsolve\\svdsolve.jl:142\n",
      "┌ Warning: Invariant subspace of dimension 13 (up to requested tolerance `tol = 1.0e-12`), which is smaller than the number of requested singular values (i.e. `howmany == 512`); setting `howmany = 13`.\n",
      "└ @ KrylovKit C:\\Users\\Lenovo\\.julia\\packages\\KrylovKit\\YPiz7\\src\\eigsolve\\svdsolve.jl:142\n",
      "┌ Warning: Invariant subspace of dimension 34 (up to requested tolerance `tol = 1.0e-14`), which is smaller than the number of requested singular values (i.e. `howmany == 512`); setting `howmany = 34`.\n",
      "└ @ KrylovKit C:\\Users\\Lenovo\\.julia\\packages\\KrylovKit\\YPiz7\\src\\eigsolve\\svdsolve.jl:142\n",
      "┌ Warning: Invariant subspace of dimension 9 (up to requested tolerance `tol = 1.0e-12`), which is smaller than the number of requested singular values (i.e. `howmany == 518`); setting `howmany = 9`.\n",
      "└ @ KrylovKit C:\\Users\\Lenovo\\.julia\\packages\\KrylovKit\\YPiz7\\src\\eigsolve\\svdsolve.jl:142\n",
      "┌ Warning: Invariant subspace of dimension 27 (up to requested tolerance `tol = 1.0e-14`), which is smaller than the number of requested singular values (i.e. `howmany == 518`); setting `howmany = 27`.\n",
      "└ @ KrylovKit C:\\Users\\Lenovo\\.julia\\packages\\KrylovKit\\YPiz7\\src\\eigsolve\\svdsolve.jl:142\n",
      "┌ Warning: Invariant subspace of dimension 3 (up to requested tolerance `tol = 1.0e-12`), which is smaller than the number of requested singular values (i.e. `howmany == 392`); setting `howmany = 3`.\n",
      "└ @ KrylovKit C:\\Users\\Lenovo\\.julia\\packages\\KrylovKit\\YPiz7\\src\\eigsolve\\svdsolve.jl:142\n",
      "┌ Warning: Invariant subspace of dimension 15 (up to requested tolerance `tol = 1.0e-14`), which is smaller than the number of requested singular values (i.e. `howmany == 392`); setting `howmany = 15`.\n",
      "└ @ KrylovKit C:\\Users\\Lenovo\\.julia\\packages\\KrylovKit\\YPiz7\\src\\eigsolve\\svdsolve.jl:142\n",
      "┌ Warning: Invariant subspace of dimension 1 (up to requested tolerance `tol = 1.0e-12`), which is smaller than the number of requested singular values (i.e. `howmany == 230`); setting `howmany = 1`.\n",
      "└ @ KrylovKit C:\\Users\\Lenovo\\.julia\\packages\\KrylovKit\\YPiz7\\src\\eigsolve\\svdsolve.jl:142\n",
      "┌ Warning: Invariant subspace of dimension 3 (up to requested tolerance `tol = 1.0e-14`), which is smaller than the number of requested singular values (i.e. `howmany == 230`); setting `howmany = 3`.\n",
      "└ @ KrylovKit C:\\Users\\Lenovo\\.julia\\packages\\KrylovKit\\YPiz7\\src\\eigsolve\\svdsolve.jl:142\n",
      "┌ Warning: Invariant subspace of dimension 1 (up to requested tolerance `tol = 1.0e-12`), which is smaller than the number of requested singular values (i.e. `howmany == 104`); setting `howmany = 1`.\n",
      "└ @ KrylovKit C:\\Users\\Lenovo\\.julia\\packages\\KrylovKit\\YPiz7\\src\\eigsolve\\svdsolve.jl:142\n",
      "┌ Warning: Invariant subspace of dimension 1 (up to requested tolerance `tol = 1.0e-14`), which is smaller than the number of requested singular values (i.e. `howmany == 104`); setting `howmany = 1`.\n",
      "└ @ KrylovKit C:\\Users\\Lenovo\\.julia\\packages\\KrylovKit\\YPiz7\\src\\eigsolve\\svdsolve.jl:142\n",
      "┌ Warning: Invariant subspace of dimension 1 (up to requested tolerance `tol = 1.0e-12`), which is smaller than the number of requested singular values (i.e. `howmany == 35`); setting `howmany = 1`.\n",
      "└ @ KrylovKit C:\\Users\\Lenovo\\.julia\\packages\\KrylovKit\\YPiz7\\src\\eigsolve\\svdsolve.jl:142\n",
      "┌ Warning: Invariant subspace of dimension 1 (up to requested tolerance `tol = 1.0e-14`), which is smaller than the number of requested singular values (i.e. `howmany == 35`); setting `howmany = 1`.\n",
      "└ @ KrylovKit C:\\Users\\Lenovo\\.julia\\packages\\KrylovKit\\YPiz7\\src\\eigsolve\\svdsolve.jl:142\n",
      "┌ Warning: Invariant subspace of dimension 1 (up to requested tolerance `tol = 1.0e-12`), which is smaller than the number of requested singular values (i.e. `howmany == 8`); setting `howmany = 1`.\n",
      "└ @ KrylovKit C:\\Users\\Lenovo\\.julia\\packages\\KrylovKit\\YPiz7\\src\\eigsolve\\svdsolve.jl:142\n",
      "┌ Warning: Invariant subspace of dimension 1 (up to requested tolerance `tol = 1.0e-14`), which is smaller than the number of requested singular values (i.e. `howmany == 8`); setting `howmany = 1`.\n",
      "└ @ KrylovKit C:\\Users\\Lenovo\\.julia\\packages\\KrylovKit\\YPiz7\\src\\eigsolve\\svdsolve.jl:142\n",
      "┌ Warning: Invariant subspace of dimension 2 (up to requested tolerance `tol = 1.0e-12`), which is smaller than the number of requested singular values (i.e. `howmany == 4`); setting `howmany = 2`.\n",
      "└ @ KrylovKit C:\\Users\\Lenovo\\.julia\\packages\\KrylovKit\\YPiz7\\src\\eigsolve\\svdsolve.jl:142\n",
      "┌ Warning: number of values converged is not enough\n",
      "└ @ Main d:\\My Documents\\Code\\Julia_codes\\Tensor network\\IPEPS_TensorKit\\kagome\\SU2_PG\\itebd.ipynb:31\n"
     ]
    }
   ],
   "source": [
    "\n",
    "euL_set,evL_set,euR_set,evR_set,SPIN_eig_set=FLR_eig(Ag,OO,Dtrun,space_AOA,AOA_sec);\n",
    "display(size(euL_set))\n",
    "eul_set,evl_set,eur_set,evr_set,spin_eig_set=GLR_eig(Ag,Dtrun,space_AA,AA_sec);\n",
    "display(size(eul_set))\n",
    "S_set,U_set,Vh_set,SPIN_svd_set=FLR_svd(Ag,OO,pow,Dtrun,space_AOA,AOA_sec);\n",
    "display(size(S_set))\n",
    "s_set,u_set,vh_set,spin_svd_set=GLR_svd(Ag,pow,Dtrun,space_AA,AA_sec);\n",
    "display(size(s_set))\n",
    "\n",
    "\n",
    "euR_set,evL_set,evR_set,SPIN_eig_set=truncate_sectors(Dtrun,euR_set,evL_set,evR_set,SPIN_eig_set);\n",
    "display(euR_set)\n",
    "eur_set,evl_set,evr_set,spin_eig_set=truncate_sectors(Dtrun,eur_set,evl_set,evr_set,spin_eig_set);\n",
    "display(eur_set)\n",
    "S_set,U_set,Vh_set,SPIN_svd_set=truncate_sectors(Dtrun,S_set,U_set,Vh_set,SPIN_svd_set);\n",
    "display(S_set)\n",
    "s_set,u_set,vh_set,spin_svd_set=truncate_sectors(Dtrun,s_set,u_set,vh_set,spin_svd_set);\n",
    "display(s_set)"
   ]
  },
  {
   "cell_type": "code",
   "execution_count": 451,
   "metadata": {},
   "outputs": [
    {
     "data": {
      "text/plain": [
       "\"check FLR_eig\""
      ]
     },
     "metadata": {},
     "output_type": "display_data"
    },
    {
     "data": {
      "text/plain": [
       "5.4432254308735526e-14"
      ]
     },
     "metadata": {},
     "output_type": "display_data"
    },
    {
     "data": {
      "text/plain": [
       "5.499682465109067e-14"
      ]
     },
     "metadata": {},
     "output_type": "display_data"
    },
    {
     "data": {
      "text/plain": [
       "\"check GLR_eig\""
      ]
     },
     "metadata": {},
     "output_type": "display_data"
    },
    {
     "data": {
      "text/plain": [
       "2.2536468057093486e-14"
      ]
     },
     "metadata": {},
     "output_type": "display_data"
    },
    {
     "data": {
      "text/plain": [
       "\"check FLR_svd\""
      ]
     },
     "metadata": {},
     "output_type": "display_data"
    },
    {
     "data": {
      "text/plain": [
       "2.023627862006228e-6"
      ]
     },
     "metadata": {},
     "output_type": "display_data"
    },
    {
     "data": {
      "text/plain": [
       "2.023627862007499e-6"
      ]
     },
     "metadata": {},
     "output_type": "display_data"
    },
    {
     "data": {
      "text/plain": [
       "\"check GLR_svd\""
      ]
     },
     "metadata": {},
     "output_type": "display_data"
    },
    {
     "data": {
      "text/plain": [
       "6.947037120422036e-13"
      ]
     },
     "metadata": {},
     "output_type": "display_data"
    },
    {
     "data": {
      "text/plain": [
       "6.947038199176624e-13"
      ]
     },
     "metadata": {},
     "output_type": "display_data"
    }
   ],
   "source": [
    "\n",
    "display(\"check FLR_eig\")\n",
    "@tensor M[:]:=Ag'[-1,-4,1]*OO[-2,2,-5,1]*Ag[-3,-6,2];\n",
    "M=permute(M,(1,2,3,),(4,5,6,));\n",
    "M0=M;\n",
    "for cc=1:pow-1\n",
    "    M=M*M0;\n",
    "end\n",
    "M_temp=M*0;\n",
    "for cc=1:length(euR_set)\n",
    "    euR=euR_set[cc];\n",
    "    evR=evR_set[cc];\n",
    "    evL=evL_set[cc];\n",
    "    spin=SPIN_eig_set[cc]\n",
    "    for cs=1:length(euR)\n",
    "        @tensor coe=evR[cs][2,3,4,1]*evL[cs][1,2,3,4];\n",
    "        M_temp=M_temp+euR[cs]^(pow)*evR[cs]*evL[cs]*(spin[cs]*2+1)/coe;\n",
    "    end\n",
    "end\n",
    "display(norm(M-M_temp)/norm(M))\n",
    "\n",
    "euR_set_combined,evL_set_combined,evR_set_combined,SPIN_eig_set_combined=combine_singlespin_sector(euR_set,evL_set,evR_set,SPIN_eig_set,true)\n",
    "M_temp=M*0;\n",
    "for cc=1:length(euR_set)\n",
    "    euR=euR_set_combined[cc];\n",
    "    evR=evR_set_combined[cc];\n",
    "    evL=evL_set_combined[cc];\n",
    "    spin=SPIN_eig_set_combined[cc]\n",
    "    if euR==[]\n",
    "    else\n",
    "        euR0=euR\n",
    "        for cc=1:pow-1\n",
    "            euR=euR*euR0;\n",
    "        end\n",
    "        M_temp=M_temp+evR*euR*evL*(spin*2+1);\n",
    "    end\n",
    "end\n",
    "display(norm(M-M_temp)/norm(M))\n",
    "\n",
    "\n",
    "\n",
    "\n",
    "display(\"check GLR_eig\")\n",
    "@tensor M[:]:=Ag'[-1,-3,1]*Ag[-2,-4,1];\n",
    "M=permute(M,(1,2,),(3,4,));\n",
    "M0=M;\n",
    "for cc=1:pow-1\n",
    "    M=M*M0;\n",
    "end\n",
    "eur_set_combined,evl_set_combined,evr_set_combined,spin_eig_set_combined=combine_singlespin_sector(eur_set,evl_set,evr_set,spin_eig_set,true)\n",
    "\n",
    "M_temp=M*0;\n",
    "for cc=1:length(eul_set)\n",
    "    eur=eur_set_combined[cc];\n",
    "    evl=evl_set_combined[cc];\n",
    "    evr=evr_set_combined[cc];\n",
    "    spin=spin_eig_set_combined[cc]\n",
    "    if eur==[]\n",
    "    else\n",
    "        eur0=eur;\n",
    "        for cc=1:pow-1\n",
    "            eur=eur*eur0;\n",
    "        end\n",
    "        M_temp=M_temp+evr*eur*evl*(spin*2+1);\n",
    "    end\n",
    "end\n",
    "display(norm(M-M_temp)/norm(M))\n",
    "\n",
    "\n",
    "\n",
    "\n",
    "\n",
    "display(\"check FLR_svd\")\n",
    "@tensor M[:]:=Ag'[-1,-4,1]*OO[-2,2,-5,1]*Ag[-3,-6,2];\n",
    "M=permute(M,(1,2,3,),(4,5,6,));\n",
    "M0=M;\n",
    "for cc=1:pow-1\n",
    "    M=M*M0;\n",
    "end\n",
    "M_temp=M*0;\n",
    "for cc=1:length(S_set)\n",
    "    S=S_set[cc];\n",
    "    U=U_set[cc];\n",
    "    Vh=Vh_set[cc];\n",
    "    spin=SPIN_svd_set[cc]\n",
    "    for cs=1:length(S)\n",
    "        M_temp=M_temp+S[cs]*U[cs]*Vh[cs]*(spin[cs]*2+1);\n",
    "    end\n",
    "end\n",
    "display(norm(M-M_temp)/norm(M))\n",
    "\n",
    "S_set_combined,Vh_set_combined,U_set_combined,SPIN_svd_set_combined=combine_singlespin_sector(S_set,Vh_set,U_set,SPIN_svd_set,false)\n",
    "M_temp=M*0;\n",
    "for cc=1:length(S_set)\n",
    "    S=S_set_combined[cc];\n",
    "    U=U_set_combined[cc];\n",
    "    Vh=Vh_set_combined[cc];\n",
    "    spin=SPIN_svd_set_combined[cc]\n",
    "    if S==[]\n",
    "    else\n",
    "        M_temp=M_temp+U*S*Vh*(spin*2+1);\n",
    "    end\n",
    "end\n",
    "display(norm(M-M_temp)/norm(M))\n",
    "\n",
    "\n",
    "\n",
    "display(\"check GLR_svd\")\n",
    "@tensor M[:]:=Ag'[-1,-3,1]*Ag[-2,-4,1];\n",
    "M=permute(M,(1,2,),(3,4,));\n",
    "M0=M;\n",
    "for cc=1:pow-1\n",
    "    M=M*M0;\n",
    "end\n",
    "M_temp=M*0;\n",
    "for cc=1:length(s_set)\n",
    "    s=s_set[cc];\n",
    "    u=u_set[cc];\n",
    "    vh=vh_set[cc];\n",
    "    spin=spin_svd_set[cc]\n",
    "    for cs=1:length(s)\n",
    "        M_temp=M_temp+s[cs]*u[cs]*vh[cs]*(spin[cs]*2+1);\n",
    "    end\n",
    "end\n",
    "display(norm(M-M_temp)/norm(M))\n",
    "\n",
    "s_set_combined,vh_set_combined,u_set_combined,spin_svd_set_combined=combine_singlespin_sector(s_set,vh_set,u_set,spin_svd_set,false)\n",
    "\n",
    "\n",
    "M_temp=M*0;\n",
    "for cc=1:length(s_set)\n",
    "    s=s_set_combined[cc];\n",
    "    vh=vh_set_combined[cc];\n",
    "    u=u_set_combined[cc];\n",
    "    spin=spin_svd_set_combined[cc]\n",
    "    if s==[]\n",
    "    else\n",
    "        M_temp=M_temp+u*s*vh*(spin*2+1);\n",
    "    end\n",
    "end\n",
    "display(norm(M-M_temp)/norm(M))\n"
   ]
  },
  {
   "cell_type": "code",
   "execution_count": 446,
   "metadata": {},
   "outputs": [],
   "source": [
    "\n"
   ]
  },
  {
   "cell_type": "code",
   "execution_count": 447,
   "metadata": {},
   "outputs": [
    {
     "data": {
      "text/plain": [
       "\"FLR_eig, Dtrun=100, minimal eigenvalue: 1.4914623619504101e-5\""
      ]
     },
     "metadata": {},
     "output_type": "display_data"
    },
    {
     "data": {
      "text/plain": [
       "\"FLR_eig, Dtrun=150, minimal eigenvalue: 1.638020515574438e-6\""
      ]
     },
     "metadata": {},
     "output_type": "display_data"
    },
    {
     "data": {
      "text/plain": [
       "48"
      ]
     },
     "metadata": {},
     "output_type": "display_data"
    },
    {
     "data": {
      "text/plain": [
       "\"GLR_eig, Dtrun=100, minimal eigenvalue: 5.631441472756936e-12\""
      ]
     },
     "metadata": {},
     "output_type": "display_data"
    },
    {
     "data": {
      "text/plain": [
       "22"
      ]
     },
     "metadata": {},
     "output_type": "display_data"
    },
    {
     "data": {
      "text/plain": [
       "\"minimal singular value in this sector is quite small, skip checking number of converged values\""
      ]
     },
     "metadata": {},
     "output_type": "display_data"
    },
    {
     "data": {
      "text/plain": [
       "\"minimal singular value in this sector is quite small, skip checking number of converged values\""
      ]
     },
     "metadata": {},
     "output_type": "display_data"
    },
    {
     "data": {
      "text/plain": [
       "\"FLR_svd, Dtrun=100, minimal eigenvalue: 1.0178695549290776e-5\""
      ]
     },
     "metadata": {},
     "output_type": "display_data"
    },
    {
     "data": {
      "text/plain": [
       "\"minimal singular value in this sector is quite small, skip checking number of converged values\""
      ]
     },
     "metadata": {},
     "output_type": "display_data"
    },
    {
     "data": {
      "text/plain": [
       "\"minimal singular value in this sector is quite small, skip checking number of converged values\""
      ]
     },
     "metadata": {},
     "output_type": "display_data"
    },
    {
     "data": {
      "text/plain": [
       "\"FLR_svd, Dtrun=150, minimal eigenvalue: 1.9874337694196055e-6\""
      ]
     },
     "metadata": {},
     "output_type": "display_data"
    },
    {
     "data": {
      "text/plain": [
       "46"
      ]
     },
     "metadata": {},
     "output_type": "display_data"
    },
    {
     "data": {
      "text/plain": [
       "\"GLR_svd, Dtrun=100, minimal eigenvalue: 1.8313745232823206e-12\""
      ]
     },
     "metadata": {},
     "output_type": "display_data"
    },
    {
     "data": {
      "text/plain": [
       "22"
      ]
     },
     "metadata": {},
     "output_type": "display_data"
    },
    {
     "name": "stdout",
     "output_type": "stream",
     "text": [
      "Number of singular values obtained are not enough, use smaller tol\n",
      "Number of singular values obtained are not enough, use smaller tol\n",
      "Number of singular values obtained are not enough, use smaller tol\n",
      "Number of singular values obtained are not enough, use smaller tol\n",
      "Number of singular values obtained are not enough, use smaller tol\n",
      "Number of singular values obtained are not enough, use smaller tol\n",
      "Number of singular values obtained are not enough, use smaller tol\n",
      "Number of singular values obtained are not enough, use smaller tol\n",
      "Number of singular values obtained are not enough, use smaller tol\n",
      "Number of singular values obtained are not enough, use smaller tol\n",
      "Number of singular values obtained are not enough, use smaller tol\n",
      "Number of singular values obtained are not enough, use smaller tol\n",
      "Number of singular values obtained are not enough, use smaller tol\n",
      "Number of singular values obtained are not enough, use smaller tol\n",
      "Number of singular values obtained are not enough, use smaller tol\n",
      "Number of singular values obtained are not enough, use smaller tol\n",
      "Number of singular values obtained are not enough, add noise, increase Krylov subspace and use smaller tol\n"
     ]
    },
    {
     "name": "stderr",
     "output_type": "stream",
     "text": [
      "┌ Warning: Invariant subspace of dimension 11 (up to requested tolerance `tol = 1.0e-12`), which is smaller than the number of requested singular values (i.e. `howmany == 101`); setting `howmany = 11`.\n",
      "└ @ KrylovKit C:\\Users\\Lenovo\\.julia\\packages\\KrylovKit\\YPiz7\\src\\eigsolve\\svdsolve.jl:142\n",
      "┌ Warning: Invariant subspace of dimension 21 (up to requested tolerance `tol = 1.0e-14`), which is smaller than the number of requested singular values (i.e. `howmany == 101`); setting `howmany = 21`.\n",
      "└ @ KrylovKit C:\\Users\\Lenovo\\.julia\\packages\\KrylovKit\\YPiz7\\src\\eigsolve\\svdsolve.jl:142\n",
      "┌ Warning: Invariant subspace of dimension 13 (up to requested tolerance `tol = 1.0e-12`), which is smaller than the number of requested singular values (i.e. `howmany == 51`); setting `howmany = 13`.\n",
      "└ @ KrylovKit C:\\Users\\Lenovo\\.julia\\packages\\KrylovKit\\YPiz7\\src\\eigsolve\\svdsolve.jl:142\n",
      "┌ Warning: Invariant subspace of dimension 32 (up to requested tolerance `tol = 1.0e-14`), which is smaller than the number of requested singular values (i.e. `howmany == 51`); setting `howmany = 32`.\n",
      "└ @ KrylovKit C:\\Users\\Lenovo\\.julia\\packages\\KrylovKit\\YPiz7\\src\\eigsolve\\svdsolve.jl:142\n",
      "┌ Warning: Invariant subspace of dimension 8 (up to requested tolerance `tol = 1.0e-12`), which is smaller than the number of requested singular values (i.e. `howmany == 34`); setting `howmany = 8`.\n",
      "└ @ KrylovKit C:\\Users\\Lenovo\\.julia\\packages\\KrylovKit\\YPiz7\\src\\eigsolve\\svdsolve.jl:142\n",
      "┌ Warning: Invariant subspace of dimension 25 (up to requested tolerance `tol = 1.0e-14`), which is smaller than the number of requested singular values (i.e. `howmany == 34`); setting `howmany = 25`.\n",
      "└ @ KrylovKit C:\\Users\\Lenovo\\.julia\\packages\\KrylovKit\\YPiz7\\src\\eigsolve\\svdsolve.jl:142\n",
      "┌ Warning: Invariant subspace of dimension 3 (up to requested tolerance `tol = 1.0e-12`), which is smaller than the number of requested singular values (i.e. `howmany == 26`); setting `howmany = 3`.\n",
      "└ @ KrylovKit C:\\Users\\Lenovo\\.julia\\packages\\KrylovKit\\YPiz7\\src\\eigsolve\\svdsolve.jl:142\n",
      "┌ Warning: Invariant subspace of dimension 15 (up to requested tolerance `tol = 1.0e-14`), which is smaller than the number of requested singular values (i.e. `howmany == 26`); setting `howmany = 15`.\n",
      "└ @ KrylovKit C:\\Users\\Lenovo\\.julia\\packages\\KrylovKit\\YPiz7\\src\\eigsolve\\svdsolve.jl:142\n",
      "┌ Warning: Invariant subspace of dimension 1 (up to requested tolerance `tol = 1.0e-12`), which is smaller than the number of requested singular values (i.e. `howmany == 21`); setting `howmany = 1`.\n",
      "└ @ KrylovKit C:\\Users\\Lenovo\\.julia\\packages\\KrylovKit\\YPiz7\\src\\eigsolve\\svdsolve.jl:142\n",
      "┌ Warning: Invariant subspace of dimension 3 (up to requested tolerance `tol = 1.0e-14`), which is smaller than the number of requested singular values (i.e. `howmany == 21`); setting `howmany = 3`.\n",
      "└ @ KrylovKit C:\\Users\\Lenovo\\.julia\\packages\\KrylovKit\\YPiz7\\src\\eigsolve\\svdsolve.jl:142\n",
      "┌ Warning: Invariant subspace of dimension 1 (up to requested tolerance `tol = 1.0e-12`), which is smaller than the number of requested singular values (i.e. `howmany == 18`); setting `howmany = 1`.\n",
      "└ @ KrylovKit C:\\Users\\Lenovo\\.julia\\packages\\KrylovKit\\YPiz7\\src\\eigsolve\\svdsolve.jl:142\n",
      "┌ Warning: Invariant subspace of dimension 1 (up to requested tolerance `tol = 1.0e-14`), which is smaller than the number of requested singular values (i.e. `howmany == 18`); setting `howmany = 1`.\n",
      "└ @ KrylovKit C:\\Users\\Lenovo\\.julia\\packages\\KrylovKit\\YPiz7\\src\\eigsolve\\svdsolve.jl:142\n",
      "┌ Warning: Invariant subspace of dimension 1 (up to requested tolerance `tol = 1.0e-12`), which is smaller than the number of requested singular values (i.e. `howmany == 15`); setting `howmany = 1`.\n",
      "└ @ KrylovKit C:\\Users\\Lenovo\\.julia\\packages\\KrylovKit\\YPiz7\\src\\eigsolve\\svdsolve.jl:142\n",
      "┌ Warning: Invariant subspace of dimension 1 (up to requested tolerance `tol = 1.0e-14`), which is smaller than the number of requested singular values (i.e. `howmany == 15`); setting `howmany = 1`.\n",
      "└ @ KrylovKit C:\\Users\\Lenovo\\.julia\\packages\\KrylovKit\\YPiz7\\src\\eigsolve\\svdsolve.jl:142\n",
      "┌ Warning: Invariant subspace of dimension 1 (up to requested tolerance `tol = 1.0e-12`), which is smaller than the number of requested singular values (i.e. `howmany == 8`); setting `howmany = 1`.\n",
      "└ @ KrylovKit C:\\Users\\Lenovo\\.julia\\packages\\KrylovKit\\YPiz7\\src\\eigsolve\\svdsolve.jl:142\n",
      "┌ Warning: Invariant subspace of dimension 1 (up to requested tolerance `tol = 1.0e-14`), which is smaller than the number of requested singular values (i.e. `howmany == 8`); setting `howmany = 1`.\n",
      "└ @ KrylovKit C:\\Users\\Lenovo\\.julia\\packages\\KrylovKit\\YPiz7\\src\\eigsolve\\svdsolve.jl:142\n",
      "┌ Warning: Invariant subspace of dimension 11 (up to requested tolerance `tol = 1.0e-12`), which is smaller than the number of requested singular values (i.e. `howmany == 151`); setting `howmany = 11`.\n",
      "└ @ KrylovKit C:\\Users\\Lenovo\\.julia\\packages\\KrylovKit\\YPiz7\\src\\eigsolve\\svdsolve.jl:142\n",
      "┌ Warning: Invariant subspace of dimension 22 (up to requested tolerance `tol = 1.0e-14`), which is smaller than the number of requested singular values (i.e. `howmany == 151`); setting `howmany = 22`.\n",
      "└ @ KrylovKit C:\\Users\\Lenovo\\.julia\\packages\\KrylovKit\\YPiz7\\src\\eigsolve\\svdsolve.jl:142\n",
      "┌ Warning: Invariant subspace of dimension 13 (up to requested tolerance `tol = 1.0e-12`), which is smaller than the number of requested singular values (i.e. `howmany == 76`); setting `howmany = 13`.\n",
      "└ @ KrylovKit C:\\Users\\Lenovo\\.julia\\packages\\KrylovKit\\YPiz7\\src\\eigsolve\\svdsolve.jl:142\n",
      "┌ Warning: Invariant subspace of dimension 34 (up to requested tolerance `tol = 1.0e-14`), which is smaller than the number of requested singular values (i.e. `howmany == 76`); setting `howmany = 34`.\n",
      "└ @ KrylovKit C:\\Users\\Lenovo\\.julia\\packages\\KrylovKit\\YPiz7\\src\\eigsolve\\svdsolve.jl:142\n",
      "┌ Warning: Invariant subspace of dimension 7 (up to requested tolerance `tol = 1.0e-12`), which is smaller than the number of requested singular values (i.e. `howmany == 51`); setting `howmany = 7`.\n",
      "└ @ KrylovKit C:\\Users\\Lenovo\\.julia\\packages\\KrylovKit\\YPiz7\\src\\eigsolve\\svdsolve.jl:142\n",
      "┌ Warning: Invariant subspace of dimension 27 (up to requested tolerance `tol = 1.0e-14`), which is smaller than the number of requested singular values (i.e. `howmany == 51`); setting `howmany = 27`.\n",
      "└ @ KrylovKit C:\\Users\\Lenovo\\.julia\\packages\\KrylovKit\\YPiz7\\src\\eigsolve\\svdsolve.jl:142\n",
      "┌ Warning: Invariant subspace of dimension 4 (up to requested tolerance `tol = 1.0e-12`), which is smaller than the number of requested singular values (i.e. `howmany == 39`); setting `howmany = 4`.\n",
      "└ @ KrylovKit C:\\Users\\Lenovo\\.julia\\packages\\KrylovKit\\YPiz7\\src\\eigsolve\\svdsolve.jl:142\n",
      "┌ Warning: Invariant subspace of dimension 11 (up to requested tolerance `tol = 1.0e-14`), which is smaller than the number of requested singular values (i.e. `howmany == 39`); setting `howmany = 11`.\n",
      "└ @ KrylovKit C:\\Users\\Lenovo\\.julia\\packages\\KrylovKit\\YPiz7\\src\\eigsolve\\svdsolve.jl:142\n",
      "┌ Warning: Invariant subspace of dimension 1 (up to requested tolerance `tol = 1.0e-12`), which is smaller than the number of requested singular values (i.e. `howmany == 31`); setting `howmany = 1`.\n",
      "└ @ KrylovKit C:\\Users\\Lenovo\\.julia\\packages\\KrylovKit\\YPiz7\\src\\eigsolve\\svdsolve.jl:142\n",
      "┌ Warning: Invariant subspace of dimension 3 (up to requested tolerance `tol = 1.0e-14`), which is smaller than the number of requested singular values (i.e. `howmany == 31`); setting `howmany = 3`.\n",
      "└ @ KrylovKit C:\\Users\\Lenovo\\.julia\\packages\\KrylovKit\\YPiz7\\src\\eigsolve\\svdsolve.jl:142\n",
      "┌ Warning: Invariant subspace of dimension 1 (up to requested tolerance `tol = 1.0e-12`), which is smaller than the number of requested singular values (i.e. `howmany == 26`); setting `howmany = 1`.\n",
      "└ @ KrylovKit C:\\Users\\Lenovo\\.julia\\packages\\KrylovKit\\YPiz7\\src\\eigsolve\\svdsolve.jl:142\n",
      "┌ Warning: Invariant subspace of dimension 1 (up to requested tolerance `tol = 1.0e-14`), which is smaller than the number of requested singular values (i.e. `howmany == 26`); setting `howmany = 1`.\n",
      "└ @ KrylovKit C:\\Users\\Lenovo\\.julia\\packages\\KrylovKit\\YPiz7\\src\\eigsolve\\svdsolve.jl:142\n",
      "┌ Warning: Invariant subspace of dimension 1 (up to requested tolerance `tol = 1.0e-12`), which is smaller than the number of requested singular values (i.e. `howmany == 22`); setting `howmany = 1`.\n",
      "└ @ KrylovKit C:\\Users\\Lenovo\\.julia\\packages\\KrylovKit\\YPiz7\\src\\eigsolve\\svdsolve.jl:142\n",
      "┌ Warning: Invariant subspace of dimension 1 (up to requested tolerance `tol = 1.0e-14`), which is smaller than the number of requested singular values (i.e. `howmany == 22`); setting `howmany = 1`.\n",
      "└ @ KrylovKit C:\\Users\\Lenovo\\.julia\\packages\\KrylovKit\\YPiz7\\src\\eigsolve\\svdsolve.jl:142\n",
      "┌ Warning: Invariant subspace of dimension 1 (up to requested tolerance `tol = 1.0e-12`), which is smaller than the number of requested singular values (i.e. `howmany == 8`); setting `howmany = 1`.\n",
      "└ @ KrylovKit C:\\Users\\Lenovo\\.julia\\packages\\KrylovKit\\YPiz7\\src\\eigsolve\\svdsolve.jl:142\n",
      "┌ Warning: Invariant subspace of dimension 1 (up to requested tolerance `tol = 1.0e-14`), which is smaller than the number of requested singular values (i.e. `howmany == 8`); setting `howmany = 1`.\n",
      "└ @ KrylovKit C:\\Users\\Lenovo\\.julia\\packages\\KrylovKit\\YPiz7\\src\\eigsolve\\svdsolve.jl:142\n",
      "┌ Warning: Invariant subspace of dimension 2 (up to requested tolerance `tol = 1.0e-12`), which is smaller than the number of requested singular values (i.e. `howmany == 4`); setting `howmany = 2`.\n",
      "└ @ KrylovKit C:\\Users\\Lenovo\\.julia\\packages\\KrylovKit\\YPiz7\\src\\eigsolve\\svdsolve.jl:142\n",
      "┌ Warning: number of values converged is not enough\n",
      "└ @ Main d:\\My Documents\\Code\\Julia_codes\\Tensor network\\IPEPS_TensorKit\\kagome\\SU2_PG\\itebd.ipynb:31\n"
     ]
    }
   ],
   "source": [
    "\n",
    "Dtrun_init=100;\n",
    "Dtrun_max=200;\n",
    "trun_tol=1e-5;\n",
    "\n",
    "euR_set,evL_set,evR_set,SPIN_eig_set=TransfOp_decom(Ag,OO,space_AOA,AOA_sec,pow,Dtrun_init,Dtrun_max,trun_tol,\"eigenvalue_FLR\");\n",
    "display(length(group_numbers(euR_set)))\n",
    "# display(euR_set)\n",
    "\n",
    "    \n",
    "eur_set,evl_set,evr_set,spin_eig_set=TransfOp_decom(Ag,OO,space_AA,AA_sec,pow,Dtrun_init,Dtrun_max,trun_tol,\"eigenvalue_GLR\");\n",
    "display(length(group_numbers(eur_set)))\n",
    "# display(eur_set)\n",
    "\n",
    "\n",
    "S_set,U_set,Vh_set,SPIN_svd_set=TransfOp_decom(Ag,OO,space_AOA,AOA_sec,pow,Dtrun_init,Dtrun_max,trun_tol,\"svd_FLR\");\n",
    "display(length(group_numbers(S_set)))\n",
    "# display(S_set)\n",
    "\n",
    "\n",
    "s_set,u_set,vh_set,spin_svd_set=TransfOp_decom(Ag,OO,space_AA,AA_sec,pow,Dtrun_init,Dtrun_max,trun_tol,\"svd_GLR\");\n",
    "display(length(group_numbers(s_set)))\n",
    "# display(s_set)\n"
   ]
  },
  {
   "cell_type": "code",
   "execution_count": 448,
   "metadata": {},
   "outputs": [],
   "source": []
  },
  {
   "cell_type": "code",
   "execution_count": 449,
   "metadata": {},
   "outputs": [
    {
     "data": {
      "text/plain": [
       "\"check FLR_eig\""
      ]
     },
     "metadata": {},
     "output_type": "display_data"
    },
    {
     "data": {
      "text/plain": [
       "0.0001131403831524948"
      ]
     },
     "metadata": {},
     "output_type": "display_data"
    },
    {
     "data": {
      "text/plain": [
       "0.00011314038315239012"
      ]
     },
     "metadata": {},
     "output_type": "display_data"
    },
    {
     "data": {
      "text/plain": [
       "\"check GLR_eig\""
      ]
     },
     "metadata": {},
     "output_type": "display_data"
    },
    {
     "data": {
      "text/plain": [
       "1.157618344593456e-5"
      ]
     },
     "metadata": {},
     "output_type": "display_data"
    },
    {
     "data": {
      "text/plain": [
       "\"check FLR_svd\""
      ]
     },
     "metadata": {},
     "output_type": "display_data"
    },
    {
     "data": {
      "text/plain": [
       "3.372018764994938e-5"
      ]
     },
     "metadata": {},
     "output_type": "display_data"
    },
    {
     "data": {
      "text/plain": [
       "3.372018764994971e-5"
      ]
     },
     "metadata": {},
     "output_type": "display_data"
    },
    {
     "data": {
      "text/plain": [
       "\"check GLR_svd\""
      ]
     },
     "metadata": {},
     "output_type": "display_data"
    },
    {
     "data": {
      "text/plain": [
       "4.674722889354988e-6"
      ]
     },
     "metadata": {},
     "output_type": "display_data"
    },
    {
     "data": {
      "text/plain": [
       "4.674722889356065e-6"
      ]
     },
     "metadata": {},
     "output_type": "display_data"
    }
   ],
   "source": [
    "\n",
    "display(\"check FLR_eig\")\n",
    "@tensor M[:]:=Ag'[-1,-4,1]*OO[-2,2,-5,1]*Ag[-3,-6,2];\n",
    "M=permute(M,(1,2,3,),(4,5,6,));\n",
    "M0=M;\n",
    "for cc=1:pow-1\n",
    "    M=M*M0;\n",
    "end\n",
    "M_temp=M*0;\n",
    "for cc=1:length(euR_set)\n",
    "    euR=euR_set[cc];\n",
    "    evR=evR_set[cc];\n",
    "    evL=evL_set[cc];\n",
    "    spin=SPIN_eig_set[cc]\n",
    "    for cs=1:length(euR)\n",
    "        @tensor coe=evR[cs][2,3,4,1]*evL[cs][1,2,3,4];\n",
    "        M_temp=M_temp+euR[cs]^(pow)*evR[cs]*evL[cs]*(spin[cs]*2+1)/coe;\n",
    "    end\n",
    "end\n",
    "display(norm(M-M_temp)/norm(M))\n",
    "\n",
    "euR_set_combined,evL_set_combined,evR_set_combined,SPIN_eig_set_combined=combine_singlespin_sector(euR_set,evL_set,evR_set,SPIN_eig_set,true)\n",
    "M_temp=M*0;\n",
    "for cc=1:length(euR_set)\n",
    "    euR=euR_set_combined[cc];\n",
    "    evR=evR_set_combined[cc];\n",
    "    evL=evL_set_combined[cc];\n",
    "    spin=SPIN_eig_set_combined[cc]\n",
    "    if euR==[]\n",
    "    else\n",
    "        euR0=euR\n",
    "        for cc=1:pow-1\n",
    "            euR=euR*euR0;\n",
    "        end\n",
    "        M_temp=M_temp+evR*euR*evL*(spin*2+1);\n",
    "    end\n",
    "end\n",
    "display(norm(M-M_temp)/norm(M))\n",
    "\n",
    "\n",
    "\n",
    "\n",
    "display(\"check GLR_eig\")\n",
    "@tensor M[:]:=Ag'[-1,-3,1]*Ag[-2,-4,1];\n",
    "M=permute(M,(1,2,),(3,4,));\n",
    "M0=M;\n",
    "for cc=1:pow-1\n",
    "    M=M*M0;\n",
    "end\n",
    "eur_set_combined,evl_set_combined,evr_set_combined,spin_eig_set_combined=combine_singlespin_sector(eur_set,evl_set,evr_set,spin_eig_set,true)\n",
    "\n",
    "M_temp=M*0;\n",
    "for cc=1:length(eul_set)\n",
    "    eur=eur_set_combined[cc];\n",
    "    evl=evl_set_combined[cc];\n",
    "    evr=evr_set_combined[cc];\n",
    "    spin=spin_eig_set_combined[cc]\n",
    "    if eur==[]\n",
    "    else\n",
    "        eur0=eur;\n",
    "        for cc=1:pow-1\n",
    "            eur=eur*eur0;\n",
    "        end\n",
    "        M_temp=M_temp+evr*eur*evl*(spin*2+1);\n",
    "    end\n",
    "end\n",
    "display(norm(M-M_temp)/norm(M))\n",
    "\n",
    "\n",
    "\n",
    "\n",
    "\n",
    "display(\"check FLR_svd\")\n",
    "@tensor M[:]:=Ag'[-1,-4,1]*OO[-2,2,-5,1]*Ag[-3,-6,2];\n",
    "M=permute(M,(1,2,3,),(4,5,6,));\n",
    "M0=M;\n",
    "for cc=1:pow-1\n",
    "    M=M*M0;\n",
    "end\n",
    "M_temp=M*0;\n",
    "for cc=1:length(S_set)\n",
    "    S=S_set[cc];\n",
    "    U=U_set[cc];\n",
    "    Vh=Vh_set[cc];\n",
    "    spin=SPIN_svd_set[cc]\n",
    "    for cs=1:length(S)\n",
    "        M_temp=M_temp+S[cs]*U[cs]*Vh[cs]*(spin[cs]*2+1);\n",
    "    end\n",
    "end\n",
    "display(norm(M-M_temp)/norm(M))\n",
    "\n",
    "S_set_combined,Vh_set_combined,U_set_combined,SPIN_svd_set_combined=combine_singlespin_sector(S_set,Vh_set,U_set,SPIN_svd_set,false)\n",
    "M_temp=M*0;\n",
    "for cc=1:length(S_set)\n",
    "    S=S_set_combined[cc];\n",
    "    U=U_set_combined[cc];\n",
    "    Vh=Vh_set_combined[cc];\n",
    "    spin=SPIN_svd_set_combined[cc]\n",
    "    if S==[]\n",
    "    else\n",
    "        M_temp=M_temp+U*S*Vh*(spin*2+1);\n",
    "    end\n",
    "end\n",
    "display(norm(M-M_temp)/norm(M))\n",
    "\n",
    "\n",
    "\n",
    "display(\"check GLR_svd\")\n",
    "@tensor M[:]:=Ag'[-1,-3,1]*Ag[-2,-4,1];\n",
    "M=permute(M,(1,2,),(3,4,));\n",
    "M0=M;\n",
    "for cc=1:pow-1\n",
    "    M=M*M0;\n",
    "end\n",
    "M_temp=M*0;\n",
    "for cc=1:length(s_set)\n",
    "    s=s_set[cc];\n",
    "    u=u_set[cc];\n",
    "    vh=vh_set[cc];\n",
    "    spin=spin_svd_set[cc]\n",
    "    for cs=1:length(s)\n",
    "        M_temp=M_temp+s[cs]*u[cs]*vh[cs]*(spin[cs]*2+1);\n",
    "    end\n",
    "end\n",
    "display(norm(M-M_temp)/norm(M))\n",
    "\n",
    "s_set_combined,vh_set_combined,u_set_combined,spin_svd_set_combined=combine_singlespin_sector(s_set,vh_set,u_set,spin_svd_set,false)\n",
    "\n",
    "\n",
    "M_temp=M*0;\n",
    "for cc=1:length(s_set)\n",
    "    s=s_set_combined[cc];\n",
    "    vh=vh_set_combined[cc];\n",
    "    u=u_set_combined[cc];\n",
    "    spin=spin_svd_set_combined[cc]\n",
    "    if s==[]\n",
    "    else\n",
    "        M_temp=M_temp+u*s*vh*(spin*2+1);\n",
    "    end\n",
    "end\n",
    "display(norm(M-M_temp)/norm(M))\n"
   ]
  },
  {
   "cell_type": "markdown",
   "metadata": {},
   "source": []
  }
 ],
 "metadata": {
  "kernelspec": {
   "display_name": "Julia 1.7.2",
   "language": "julia",
   "name": "julia-1.7"
  },
  "language_info": {
   "file_extension": ".jl",
   "mimetype": "application/julia",
   "name": "julia",
   "version": "1.7.2"
  },
  "orig_nbformat": 4
 },
 "nbformat": 4,
 "nbformat_minor": 2
}
