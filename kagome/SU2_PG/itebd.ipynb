{
 "cells": [
  {
   "cell_type": "code",
   "execution_count": 838,
   "metadata": {},
   "outputs": [],
   "source": [
    "using LinearAlgebra\n",
    "using TensorKit\n",
    "using KrylovKit\n",
    "using JSON\n",
    "using HDF5, JLD\n",
    "cd(\"D:\\\\My Documents\\\\Code\\\\Julia_codes\\\\Tensor network\\\\IPEPS_TensorKit\\\\kagome\\\\SU2_PG\")\n",
    "#push!(LOAD_PATH, \"D:\\\\My Documents\\\\Code\\\\Julia_codes\\\\Tensor network\\\\IPEPS_TensorKit\\\\kagome\\\\SU2_PG\")\n",
    "include(\"kagome_load_tensor.jl\")\n",
    "include(\"kagome_CTMRG.jl\")\n",
    "include(\"kagome_model.jl\")\n",
    "include(\"kagome_IPESS.jl\")\n",
    "\n",
    "D=6;\n",
    "chi=10;\n",
    "W=5;\n",
    "N=4;\n",
    "tol=1e-6;\n",
    "\n",
    "pow=Int((N-2)/2);\n",
    "\n",
    "J1=1;\n",
    "J2=0;\n",
    "J3=0;\n",
    "Jchi=0;\n",
    "Jtrip=0;\n"
   ]
  },
  {
   "cell_type": "code",
   "execution_count": 839,
   "metadata": {},
   "outputs": [
    {
     "data": {
      "text/plain": [
       "\"initialize CTM\""
      ]
     },
     "metadata": {},
     "output_type": "display_data"
    },
    {
     "data": {
      "text/plain": [
       "\"start CTM iterations:\""
      ]
     },
     "metadata": {},
     "output_type": "display_data"
    },
    {
     "name": "stdout",
     "output_type": "stream",
     "text": [
      "  0.099842 seconds (589.26 k allocations: 64.480 MiB)\n",
      "CTMRG iteration: 1, CTMRG err: 2.381843388312667\n",
      "CTMRG iteration: 2, CTMRG err: 0.16758887210702916\n",
      "CTMRG iteration: 3, CTMRG err: 0.01596027742626989\n",
      "CTMRG iteration: 4, CTMRG err: 0.005665817296959171\n",
      "CTMRG iteration: 5, CTMRG err: 0.0016753918020690128\n",
      "CTMRG iteration: 6, CTMRG err: 0.0006074576485720598\n",
      "CTMRG iteration: 7, CTMRG err: 0.00023375102816346817\n",
      "CTMRG iteration: 8, CTMRG err: 9.659154953051407e-5\n",
      "CTMRG iteration: 9, CTMRG err: 4.080785607776493e-5\n",
      "CTMRG iteration: 10, CTMRG err: 1.7562204063620438e-5\n",
      "CTMRG iteration: 11, CTMRG err: 7.617736490288161e-6\n",
      "CTMRG iteration: 12, CTMRG err: 3.3195128247064078e-6\n",
      "CTMRG iteration: 13, CTMRG err: 1.4495809776378003e-6\n",
      "CTMRG iteration: 14, CTMRG err: 6.336851062992582e-7\n",
      "  2.925620 seconds (10.73 M allocations: 1020.137 MiB, 7.81% gc time, 18.33% compilation time)\n",
      "  1.287662 seconds (4.94 M allocations: 549.014 MiB, 8.21% gc time, 46.53% compilation time)\n",
      "  0.847608 seconds (3.79 M allocations: 490.366 MiB, 12.96% compilation time)\n"
     ]
    }
   ],
   "source": [
    "\n",
    "parameters=Dict([(\"J1\", J1), (\"J2\", J2), (\"J3\", J3), (\"Jchi\", Jchi), (\"Jtrip\", Jtrip)]);\n",
    "\n",
    "A_set,B_set,A1_set,A2_set, A_set_occu,B_set_occu,A1_set_occu,A2_set_occu, S_label, Sz_label, virtual_particle, Va, Vb=construct_tensor(D);\n",
    "\n",
    "filenm=\"LS_D_\"*string(D)*\"_chi_40.json\"\n",
    "json_dict=read_json_state(filenm);\n",
    "\n",
    "bond_tensor,triangle_tensor=construct_su2_PG_IPESS(json_dict,A_set,B_set,A1_set,A2_set, A_set_occu,B_set_occu,A1_set_occu,A2_set_occu, S_label, Sz_label, virtual_particle, Va, Vb);\n",
    "\n",
    "PEPS_tensor=bond_tensor;\n",
    "@tensor PEPS_tensor[:] := bond_tensor[-1,1,-5]*bond_tensor[4,3,-6]*bond_tensor[-4,2,-7]*triangle_tensor[1,3,2]*triangle_tensor[4,-2,-3];\n",
    "A_unfused=PEPS_tensor;\n",
    "\n",
    "U_phy=unitary(fuse(space(PEPS_tensor, 5) ⊗ space(PEPS_tensor, 6) ⊗ space(PEPS_tensor, 7)), space(PEPS_tensor, 5) ⊗ space(PEPS_tensor, 6) ⊗ space(PEPS_tensor, 7));\n",
    "@tensor A_fused[:] :=PEPS_tensor[-1,-2,-3,-4,1,2,3]*U_phy[-5,1,2,3];\n",
    "\n",
    "init=Dict([(\"CTM\", []), (\"init_type\", \"PBC\")]);\n",
    "conv_check=\"singular_value\";\n",
    "@time CTM, AA_fused, U_L,U_D,U_R,U_U=CTMRG(A_fused,chi,conv_check,tol,init);\n",
    "\n",
    "@time E_up, E_down=evaluate_ob(parameters, U_phy, A_unfused, A_fused, AA_fused, CTM, \"E_triangle\");\n",
    "@time E_up_12, E_up_31, E_up_23, E_down_12, E_down_31, E_down_23=evaluate_ob(parameters, U_phy, A_unfused, A_fused, AA_fused, CTM, \"E_bond\");\n"
   ]
  },
  {
   "cell_type": "code",
   "execution_count": 840,
   "metadata": {},
   "outputs": [
    {
     "data": {
      "text/plain": [
       "-0.4272664643496391 + 6.7966121702560844e-18im"
      ]
     },
     "metadata": {},
     "output_type": "display_data"
    }
   ],
   "source": [
    "display((E_up+E_down)/3)\n",
    "Tleft=CTM[\"Tset\"][4];\n",
    "Tright=CTM[\"Tset\"][2];\n",
    "\n",
    "@tensor O1[:]:=Tleft[-3,1,-1]*U_L[1,-2,-4];\n",
    "@tensor O2[:]:=Tright[-1,1,-3]*U_R[-4,-2,1];\n"
   ]
  },
  {
   "cell_type": "code",
   "execution_count": 841,
   "metadata": {},
   "outputs": [
    {
     "data": {
      "text/plain": [
       "left_eigenvalue (generic function with 1 method)"
      ]
     },
     "metadata": {},
     "output_type": "display_data"
    }
   ],
   "source": [
    "function HV_L_tensor(vl,A,mpo)\n",
    "    if mpo==[]\n",
    "        if numind(vl)==3\n",
    "            @tensor vl[:]:=vl[-1,3,1]*A'[3,-2,2]*A[1,-3,2];\n",
    "        elseif numind(vl)==2\n",
    "            @tensor vl[:]:=vl[3,1]*A'[3,-2,2]*A[1,-3,2];\n",
    "        end\n",
    "    else\n",
    "        if numind(vl)==5\n",
    "            @tensor vl[:]:=vl[-1,7,5,3,1]*A'[7,-2,6]*mpo'[5,6,-3,4]*mpo[3,2,-4,4]*A[1,-5,2];\n",
    "        elseif numind(vl)==4\n",
    "            @tensor vl[:]:=vl[7,5,3,1]*A'[7,-1,6]*mpo'[5,6,-2,4]*mpo[3,2,-3,4]*A[1,-4,2];\n",
    "        end\n",
    "    end\n",
    "    return vl\n",
    "end\n",
    "\n",
    "function HV_R_tensor(vr,A,mpo)\n",
    "    if mpo==[]\n",
    "        if numind(vr)==3\n",
    "            @tensor vr[:]:=A'[-1,1,2]*A[-2,3,2]*vr[1,3,-3];\n",
    "        elseif numind(vr)==2\n",
    "            @tensor vr[:]:=A'[-1,1,2]*A[-2,3,2]*vr[1,3];\n",
    "        end\n",
    "    else\n",
    "        if numind(vr)==5\n",
    "            @tensor vr[:]:=A'[-1,7,6]*mpo'[-2,6,5,4]*mpo[-3,2,3,4]*A[-4,1,2]*vr[7,5,3,1,-5];\n",
    "        elseif numind(vr)==4\n",
    "            @tensor vr[:]:=A'[-1,7,6]*mpo'[-2,6,5,4]*mpo[-3,2,3,4]*A[-4,1,2]*vr[7,5,3,1];\n",
    "        end\n",
    "    end\n",
    "    return vr\n",
    "end\n",
    "\n",
    "function left_eigenvector(A,mpo,type)\n",
    "\n",
    "    if type==\"A\"\n",
    "        HVfun1(x)=HV_L_tensor(x,A,[]);\n",
    "        vl_init = permute(TensorMap(randn, space(A,1), space(A,1)), (1,2,),());# assume that the dominant eigenvector has total spin zero. If not, it will have three indeces and it's not Hermiitan.\n",
    "        eu,ev=eigsolve(HVfun1, vl_init, 1,:LM,Arnoldi());\n",
    "        @assert maximum(abs.(eu)) == abs(eu[1])\n",
    "        eu=eu[1];\n",
    "        ev=ev[1];\n",
    "        return ev,eu\n",
    "    elseif type==\"mpo_A\"\n",
    "        HVfun2(x)=HV_L_tensor(x,A,mpo);\n",
    "        vl_init = permute(TensorMap(randn, space(A,1)*space(mpo,1),space(mpo,1)*space(A,1)), (1,2,3,4,),());# assume that the dominant eigenvector has total spin zero. If not, it will have three indeces and it's not Hermiitan.\n",
    "        eu,ev=eigsolve(HVfun2, vl_init, 1,:LM,Arnoldi());\n",
    "        @assert maximum(abs.(eu)) == abs(eu[1])\n",
    "        eu=eu[1];\n",
    "        ev=ev[1];\n",
    "        return ev,eu\n",
    "    end\n",
    "end\n",
    "\n",
    "function right_eigenvector(A,mpo,type)\n",
    "\n",
    "    if type==\"A\"\n",
    "        HVfun1(x)=HV_R_tensor(x,A,[]);\n",
    "        vr_init = permute(TensorMap(randn, space(A,2), space(A,2)), (1,2,),());# assume that the dominant eigenvector has total spin zero. If not, it will have three indeces and it's not Hermiitan.\n",
    "        eu,ev=eigsolve(HVfun1, vr_init, 1,:LM,Arnoldi());\n",
    "        @assert maximum(abs.(eu)) == abs(eu[1])\n",
    "        eu=eu[1];\n",
    "        ev=ev[1];\n",
    "        return ev,eu\n",
    "    elseif type==\"mpo_A\"\n",
    "        HVfun2(x)=HV_R_tensor(x,A,mpo);\n",
    "        vr_init = permute(TensorMap(randn, space(A,2)*space(mpo,3),space(mpo,3)*space(A,2)), (1,2,3,4,),());# assume that the dominant eigenvector has total spin zero. If not, it will have three indeces and it's not Hermiitan.\n",
    "        eu,ev=eigsolve(HVfun2, vr_init, 1,:LM,Arnoldi());\n",
    "        @assert maximum(abs.(eu)) == abs(eu[1])\n",
    "        eu=eu[1];\n",
    "        ev=ev[1];\n",
    "        return ev,eu\n",
    "    end\n",
    "end\n",
    "\n",
    "\n",
    "\n",
    "function left_eigenvalue(A1,A2,n)\n",
    "    function HV_L_A1A2(vl,A1,A2)\n",
    "        if numind(vl)==3\n",
    "            @tensor vl[:]:=vl[-1,3,1]*A1'[3,-2,2]*A2[1,-3,2];\n",
    "        elseif numind(vl)==2\n",
    "            @tensor vl[:]:=vl[3,1]*A1'[3,-2,2]*A2[1,-3,2];\n",
    "        end\n",
    "    return vl\n",
    "    end\n",
    "    HVA1A2fun(x)=HV_L_A1A2(x,A1,A2);\n",
    "    vl_init = permute(TensorMap(randn, space(A1,1), space(A2,1)), (1,2,),());# assume that the dominant eigenvector has total spin zero. If not, it will have three indeces and it's not Hermiitan.\n",
    "    eu,ev=eigsolve(HVA1A2fun, vl_init, 1,:LM,Arnoldi());\n",
    "    @assert maximum(abs.(eu)) == abs(eu[1])\n",
    "    eu=eu[1:n];\n",
    "    return eu\n",
    "end"
   ]
  },
  {
   "cell_type": "code",
   "execution_count": 842,
   "metadata": {},
   "outputs": [
    {
     "data": {
      "text/plain": [
       "impo_imps (generic function with 1 method)"
      ]
     },
     "metadata": {},
     "output_type": "display_data"
    }
   ],
   "source": [
    "function impo_imps(mpo,A)\n",
    "    unitary_mpo_A=unitary(fuse(space(mpo,1)⊗space(A,1)), space(mpo,1)⊗space(A,1));\n",
    "    @tensor mpo_A[:]:=unitary_mpo_A[-1,2,1]*mpo[2,3,4,-3]*A[1,5,3]*unitary_mpo_A'[4,5,-2];\n",
    "    return mpo_A\n",
    "end"
   ]
  },
  {
   "cell_type": "code",
   "execution_count": 843,
   "metadata": {},
   "outputs": [
    {
     "data": {
      "text/plain": [
       "itebd_ite (generic function with 1 method)"
      ]
     },
     "metadata": {},
     "output_type": "display_data"
    }
   ],
   "source": [
    "function itebd_ite(mpo,A,W,type)\n",
    "    if type==\"A\"\n",
    "        mpo_A=impo_imps(mpo,A);\n",
    "        vl,_=left_eigenvector(mpo_A,[],\"A\");\n",
    "        eu,ev=eig(permute(vl,(1,),(2,)));\n",
    "        unitary_L=sqrt(eu)*ev';\n",
    "        unitary_R=ev*pinv(sqrt(eu));\n",
    "        @tensor AL[:]:=unitary_L[-1,1]*mpo_A[1,2,-3]*unitary_R[2,-2];\n",
    "    elseif type==\"mpo_A\"\n",
    "        vl,_=left_eigenvector(A,mpo,\"mpo_A\");\n",
    "        eu,ev=eig(permute(vl,(2,1,),(3,4,)));\n",
    "        unitary_L=sqrt(eu)*ev';\n",
    "        unitary_R=ev*pinv(sqrt(eu));\n",
    "        @tensor AL[:]:=unitary_L[-1,2,1]*mpo[2,3,4,-3]*A[1,5,3]*unitary_R[4,5,-2];\n",
    "    end\n",
    "\n",
    "    vr,_=right_eigenvector(AL,[],\"A\");\n",
    "\n",
    "    U,S,_=tsvd(permute(vr,(1,),(2,)),trunc=truncdim(W));\n",
    "    #display(diag(convert(Array,S)))\n",
    "    @tensor A_trun[:]:=U[1,-1]*AL[1,2,-3]*U'[-2,2];\n",
    "\n",
    "    return A_trun\n",
    "end\n"
   ]
  },
  {
   "cell_type": "code",
   "execution_count": 844,
   "metadata": {},
   "outputs": [
    {
     "data": {
      "text/plain": [
       "left_right_normalize (generic function with 1 method)"
      ]
     },
     "metadata": {},
     "output_type": "display_data"
    }
   ],
   "source": [
    "function left_right_normalize(A)\n",
    "    #left normalize\n",
    "    vl,_=left_eigenvector(A,[],\"A\");\n",
    "    eu,ev=eig(permute(vl,(1,),(2,)));\n",
    "    unitary_L=sqrt(eu)*ev';\n",
    "    unitary_R=ev*pinv(sqrt(eu));\n",
    "    @tensor AL[:]:=unitary_L[-1,1]*A[1,2,-3]*unitary_R[2,-2];\n",
    "    #transform right fixed point to be diagonal\n",
    "    vr,eu=right_eigenvector(AL,[],\"A\");\n",
    "    U,S,_=tsvd(permute(vr,(1,),(2,)));\n",
    "    @tensor AL[:]:=U[1,-1]*AL[1,2,-3]*U'[-2,2];\n",
    "    AL=AL/sqrt(eu);\n",
    "    return AL\n",
    "end\n"
   ]
  },
  {
   "cell_type": "code",
   "execution_count": 845,
   "metadata": {},
   "outputs": [],
   "source": [
    "\n"
   ]
  },
  {
   "cell_type": "code",
   "execution_count": 846,
   "metadata": {},
   "outputs": [
    {
     "data": {
      "text/plain": [
       "ITEBD_boundary_groundstate (generic function with 1 method)"
      ]
     },
     "metadata": {},
     "output_type": "display_data"
    }
   ],
   "source": [
    "function ITEBD_boundary_groundstate(O1,O2,W,A_init,method)\n",
    "# ITEBD_boundary_groundstate(O1,O2,D,inv_tol):\n",
    "    #use power method to obtain dominant boundary imps of nonhermitian MPO\n",
    "    if method==\"OO\"\n",
    "        @tensor OO[:]:=O1[-2,-3,-5,1]*O2[-1,1,-4,-6];\n",
    "        U_fuse_chichi=unitary(fuse(space(OO,1)⊗ space(OO,2)),space(OO,1)⊗ space(OO,2));\n",
    "        @tensor OO[:]:=U_fuse_chichi[-1,1,2]*OO[1,2,-2,3,4,-4]*U_fuse_chichi'[3,4,-3];\n",
    "    end\n",
    "    #Initial state\n",
    "    if A_init==[]\n",
    "        mps_virtual=SU₂Space(0=>1,1/2=>1,1=>1);mps_phy=space(O1,2);\n",
    "        A_init=permute(TensorMap(randn, mps_virtual*mps_virtual', mps_phy),(1,2,3,),());\n",
    "    else \n",
    "    end\n",
    "    AL=left_right_normalize(A_init);\n",
    "    \n",
    "    for cp=1:30\n",
    "        AL_old=AL;\n",
    "        @time if method==\"O_O\"\n",
    "            A_trun_intermed=itebd_ite(O1,AL,3*W,\"mpo_A\");\n",
    "            A_trun=itebd_ite(O2,A_trun_intermed,W,\"mpo_A\");\n",
    "            AL=left_right_normalize(A_trun);\n",
    "        elseif method==\"OO\"\n",
    "            A_trun=itebd_ite(OO,AL,W,\"mpo_A\");#this \"mpo_A\" option is slightly faster when bond dimension is large\n",
    "        end\n",
    "        AL=left_right_normalize(A_trun);\n",
    "\n",
    "        # vv,ee=right_eigenvector(AL,[],\"A\");\n",
    "        # display(ee)\n",
    "        # u,s,v=tsvd(permute(vv,(1,),(2,)));\n",
    "        # display(sort(diag(convert(Array,s)),rev=true))\n",
    "        \n",
    "        #dominant eigenvalue of transfer matrix\n",
    "        E=left_eigenvalue(impo_imps(O2,impo_imps(O1,AL)),AL,1)[1]\n",
    "        ov=abs(left_eigenvalue(AL,AL_old,1)[1]);\n",
    "        println(\"E=\"*string(E)*\", \"*\"ov=\"*string(ov))\n",
    "        if abs(ov-1)<1e-8\n",
    "            break\n",
    "        end\n",
    "    \n",
    "    end\n",
    "    return AL,A_init\n",
    "end"
   ]
  },
  {
   "cell_type": "code",
   "execution_count": 847,
   "metadata": {},
   "outputs": [],
   "source": [
    "mps_virtual=SU₂Space(0=>1,1/2=>1,1=>1);mps_phy=space(O1,2);\n",
    "A_init=permute(TensorMap(randn, mps_virtual*mps_virtual', mps_phy),(1,2,3,),());\n",
    "\n"
   ]
  },
  {
   "cell_type": "code",
   "execution_count": 848,
   "metadata": {},
   "outputs": [],
   "source": [
    "#Ag,A_init=ITEBD_boundary_groundstate(O1,O2,W,A_init,\"OO\");\n"
   ]
  },
  {
   "cell_type": "code",
   "execution_count": 849,
   "metadata": {},
   "outputs": [
    {
     "name": "stdout",
     "output_type": "stream",
     "text": [
      "  1.058440 seconds (4.65 M allocations: 312.983 MiB, 76.64% compilation time)\n",
      "E=0.12452750731290996 - 0.00025456319378992787im, ov=0.8402070852472372\n",
      "  0.465196 seconds (2.33 M allocations: 219.218 MiB, 27.14% gc time, 2.86% compilation time)\n",
      "E=0.1253186989361321 + 0.00012062814930079505im, ov=0.9920601064594674\n",
      "  0.336617 seconds (2.03 M allocations: 185.221 MiB)\n",
      "E=0.12507376767609016 + 6.965616053598855e-5im, ov=0.9984158621223925\n",
      "  0.327286 seconds (2.03 M allocations: 185.221 MiB)\n",
      "E=0.1248485227564789 - 4.401287080981961e-5im, ov=0.9996288850797329\n",
      "  0.441184 seconds (2.03 M allocations: 185.222 MiB, 30.10% gc time)\n",
      "E=0.12471522229511219 - 0.0001441015024870821im, ov=0.9998882137719923\n",
      "  0.328674 seconds (2.03 M allocations: 185.221 MiB)\n",
      "E=0.12464186743605053 - 0.00022009778921314865im, ov=0.9999550533958322\n",
      "  0.335214 seconds (2.03 M allocations: 185.221 MiB)\n",
      "E=0.1246014224057774 - 0.00027548263618955987im, ov=0.9999773010179569\n",
      "  0.329776 seconds (2.03 M allocations: 185.221 MiB)\n",
      "E=0.12457839625827621 - 0.00031554713355241154im, ov=0.9999870500733153\n",
      "  0.442881 seconds (2.03 M allocations: 185.222 MiB, 29.73% gc time)\n",
      "E=0.12456464353827235 - 0.00034469196434522113im, ov=0.999992239032505\n",
      "  0.332205 seconds (2.03 M allocations: 185.221 MiB)\n",
      "E=0.12455596751885506 - 0.00036611564916671363im, ov=0.999995272560794\n",
      "  0.331497 seconds (2.03 M allocations: 185.221 MiB)\n",
      "E=0.12455019250232974 - 0.0003820445639916639im, ov=0.9999971083778385\n",
      "  0.480627 seconds (2.03 M allocations: 185.222 MiB, 31.40% gc time)\n",
      "E=0.12454616469260539 - 0.00039401427641148554im, ov=0.9999982305161405\n",
      "  0.297897 seconds (2.03 M allocations: 185.221 MiB)\n",
      "E=0.12454324983724396 - 0.00040309083288035327im, ov=0.9999989175744521\n",
      "  0.330439 seconds (2.03 M allocations: 185.221 MiB)\n",
      "E=0.1245410825238546 - 0.0004100246159542166im, ov=0.9999993380381615\n",
      "  0.330992 seconds (2.03 M allocations: 185.221 MiB)\n",
      "E=0.12453944048828161 - 0.0004153525660772952im, ov=0.9999995951807105\n",
      "  0.433403 seconds (2.03 M allocations: 185.221 MiB, 27.67% gc time)\n",
      "E=0.12453818074556072 - 0.00041946522475454565im, ov=0.9999997523869386\n",
      "  0.315410 seconds (2.03 M allocations: 185.221 MiB)\n",
      "E=0.12453720641473194 - 0.0004226508849421752im, ov=0.9999998484958539\n",
      "  0.343529 seconds (2.03 M allocations: 185.222 MiB)\n",
      "E=0.12453644893927897 - 0.00042512506521396286im, ov=0.9999999072662691\n",
      "  0.344010 seconds (2.03 M allocations: 185.221 MiB)\n",
      "E=0.12453585815851223 - 0.0004270505576967308im, ov=0.9999999432173377\n",
      "  0.398044 seconds (2.03 M allocations: 185.221 MiB, 29.46% gc time)\n",
      "E=0.12453539647942635 - 0.00042855134855399567im, ov=0.9999999652184722\n",
      "  0.329821 seconds (2.03 M allocations: 185.221 MiB)\n",
      "E=0.1245350352615219 - 0.0004297224826483037im, ov=0.9999999786881947\n",
      "  0.335059 seconds (2.03 M allocations: 185.222 MiB)\n",
      "E=0.12453475244753903 - 0.00043063718607871254im, ov=0.9999999869379278\n",
      "  0.435554 seconds (2.03 M allocations: 185.221 MiB, 26.93% gc time)\n",
      "E=0.12453453093210717 - 0.00043135209344755295im, ov=0.999999991992338\n"
     ]
    }
   ],
   "source": [
    "\n",
    "Ag,A_init=ITEBD_boundary_groundstate(O1,O2,W,A_init,\"O_O\");"
   ]
  },
  {
   "cell_type": "code",
   "execution_count": 850,
   "metadata": {},
   "outputs": [],
   "source": [
    "#save initial CTM to compare with other codes\n",
    "matwrite(\"itebd_matfile.mat\", Dict(\n",
    "    \"O1\" => convert(Array,O1),\n",
    "    \"O2\" => convert(Array,O2),\n",
    "    \"A_init\" => convert(Array,A_init),\n",
    "    \"Ag\" => convert(Array,Ag)\n",
    "); compress = false)\n",
    "\n"
   ]
  },
  {
   "cell_type": "code",
   "execution_count": 851,
   "metadata": {},
   "outputs": [],
   "source": [
    "#save data\n",
    "O1_dict=convert(Dict,O1);\n",
    "O2_dict=convert(Dict,O2);\n",
    "Ag_dict=convert(Dict,Ag);\n",
    "save(\"itebd_data.jld\", \"O1_dict\", O1_dict,\"O2_dict\", O2_dict,\"Ag_dict\", Ag_dict);\n",
    "\n",
    "\n"
   ]
  },
  {
   "cell_type": "code",
   "execution_count": 852,
   "metadata": {},
   "outputs": [],
   "source": [
    "#load data\n",
    "Ag_dict=load(\"itebd_data.jld\")[\"Ag_dict\"];\n",
    "O1_dict=load(\"itebd_data.jld\")[\"O1_dict\"];\n",
    "O2_dict=load(\"itebd_data.jld\")[\"O2_dict\"];\n",
    "Ag=convert(TensorMap,Ag_dict);\n",
    "O1=convert(TensorMap,O1_dict);\n",
    "O2=convert(TensorMap,O2_dict);\n"
   ]
  },
  {
   "cell_type": "code",
   "execution_count": 853,
   "metadata": {},
   "outputs": [
    {
     "data": {
      "text/plain": [
       "Rep[SU₂](0=>69, 1/2=>116, 1=>130, 3/2=>114, 2=>81, 5/2=>46, 3=>20, 7/2=>6, 4=>1)"
      ]
     },
     "metadata": {},
     "output_type": "display_data"
    },
    {
     "data": {
      "text/plain": [
       "2025"
      ]
     },
     "metadata": {},
     "output_type": "display_data"
    },
    {
     "data": {
      "text/plain": [
       "Rep[SU₂](0=>2, 1/2=>2, 1=>2, 3/2=>2, 2=>1)"
      ]
     },
     "metadata": {},
     "output_type": "display_data"
    },
    {
     "data": {
      "text/plain": [
       "25"
      ]
     },
     "metadata": {},
     "output_type": "display_data"
    }
   ],
   "source": [
    "\n",
    "space_AOA=fuse(space(Ag,1)'⊗space(O2,1)'⊗space(O1,1)⊗ space(Ag,1));\n",
    "display(space_AOA)\n",
    "display(dim(space_AOA))\n",
    "space_AA=fuse(space(Ag,1)'⊗ space(Ag,1));\n",
    "display(space_AA)\n",
    "display(dim(space_AA))"
   ]
  },
  {
   "cell_type": "code",
   "execution_count": 854,
   "metadata": {},
   "outputs": [],
   "source": [
    "# W=20;chi=20;\n",
    "# (Rep[SU₂](0=>3, 1/2=>3, 1=>2, 3/2=>1)' ⊗ Rep[SU₂](0=>3, 1/2=>3, 1=>2, 3/2=>1) ⊗ Rep[SU₂](0=>1, 1/2=>2, 1=>1)') ← ProductSpace{GradedSpace{SU2Irrep, TensorKit.SortedVectorDict{SU2Irrep, Int64}}, 0}()\n",
    "# Rep[SU₂](0=>4999, 1/2=>8314, 1=>9146, 3/2=>7850, 2=>5503, 5/2=>3190, 3=>1521, 7/2=>584, 4=>173, 9/2=>36, 5=>4)"
   ]
  },
  {
   "cell_type": "code",
   "execution_count": 855,
   "metadata": {},
   "outputs": [
    {
     "data": {
      "text/plain": [
       "Irrep[SU₂](0)"
      ]
     },
     "metadata": {},
     "output_type": "display_data"
    },
    {
     "data": {
      "text/plain": [
       "Irrep[SU₂](1/2)"
      ]
     },
     "metadata": {},
     "output_type": "display_data"
    },
    {
     "data": {
      "text/plain": [
       "Irrep[SU₂](1)"
      ]
     },
     "metadata": {},
     "output_type": "display_data"
    },
    {
     "data": {
      "text/plain": [
       "Irrep[SU₂](3/2)"
      ]
     },
     "metadata": {},
     "output_type": "display_data"
    },
    {
     "data": {
      "text/plain": [
       "Irrep[SU₂](2)"
      ]
     },
     "metadata": {},
     "output_type": "display_data"
    },
    {
     "data": {
      "text/plain": [
       "Irrep[SU₂](5/2)"
      ]
     },
     "metadata": {},
     "output_type": "display_data"
    },
    {
     "data": {
      "text/plain": [
       "Irrep[SU₂](3)"
      ]
     },
     "metadata": {},
     "output_type": "display_data"
    },
    {
     "data": {
      "text/plain": [
       "Irrep[SU₂](7/2)"
      ]
     },
     "metadata": {},
     "output_type": "display_data"
    },
    {
     "data": {
      "text/plain": [
       "Irrep[SU₂](4)"
      ]
     },
     "metadata": {},
     "output_type": "display_data"
    },
    {
     "name": "stdout",
     "output_type": "stream",
     "text": [
      "(s, dim(space_AOA, s), dim(s)) = (Irrep[SU₂](0), 69, 1)\n",
      "(s, dim(space_AOA, s), dim(s)) = (Irrep[SU₂](1/2), 116, 2)\n",
      "(s, dim(space_AOA, s), dim(s)) = (Irrep[SU₂](1), 130, 3)\n",
      "(s, dim(space_AOA, s), dim(s)) = (Irrep[SU₂](3/2), 114, 4)\n",
      "(s, dim(space_AOA, s), dim(s)) = (Irrep[SU₂](2), 81, 5)\n",
      "(s, dim(space_AOA, s), dim(s)) = (Irrep[SU₂](5/2), 46, 6)\n",
      "(s, dim(space_AOA, s), dim(s)) = (Irrep[SU₂](3), 20, 7)\n",
      "(s, dim(space_AOA, s), dim(s)) = (Irrep[SU₂](7/2), 6, 8)\n",
      "(s, dim(space_AOA, s), dim(s)) = (Irrep[SU₂](4), 1, 9)\n"
     ]
    }
   ],
   "source": [
    "for s in sectors(space_AOA)\n",
    "  display(s)\n",
    "  @show s, dim(space_AOA, s), dim(s)\n",
    "end\n"
   ]
  },
  {
   "cell_type": "code",
   "execution_count": 856,
   "metadata": {},
   "outputs": [
    {
     "data": {
      "text/plain": [
       "Irrep[SU₂](0)"
      ]
     },
     "metadata": {},
     "output_type": "display_data"
    }
   ],
   "source": [
    "AOA_sec=collect(sectors(space_AOA))\n",
    "AOA_sec[1]\n",
    "AA_sec=collect(sectors(space_AA))\n",
    "AA_sec[1]\n"
   ]
  },
  {
   "cell_type": "code",
   "execution_count": 857,
   "metadata": {},
   "outputs": [
    {
     "data": {
      "text/plain": [
       "(Rep[SU₂](0=>9, 1/2=>12, 1=>9, 3/2=>4, 2=>1) ⊗ Rep[SU₂](0=>1, 1/2=>1, 1=>1) ⊗ Rep[SU₂](0=>9, 1/2=>12, 1=>9, 3/2=>4, 2=>1)' ⊗ Rep[SU₂](0=>1, 1/2=>1, 1=>1)') ← ProductSpace{GradedSpace{SU2Irrep, TensorKit.SortedVectorDict{SU2Irrep, Int64}}, 0}()"
      ]
     },
     "metadata": {},
     "output_type": "display_data"
    }
   ],
   "source": [
    "@tensor OO[:]:=O1[-2,-3,-5,1]*O2[-1,1,-4,-6];\n",
    "U_fuse_chichi=unitary(fuse(space(OO,1)⊗ space(OO,2)),space(OO,1)⊗ space(OO,2));\n",
    "@tensor OO[:]:=U_fuse_chichi[-1,1,2]*OO[1,2,-2,3,4,-4]*U_fuse_chichi'[3,4,-3];\n",
    "display(space(OO))\n"
   ]
  },
  {
   "cell_type": "code",
   "execution_count": 858,
   "metadata": {},
   "outputs": [],
   "source": [
    "Dtrun=W*W*chi*chi;\n"
   ]
  },
  {
   "cell_type": "code",
   "execution_count": 976,
   "metadata": {},
   "outputs": [
    {
     "data": {
      "text/plain": [
       "(9,)"
      ]
     },
     "metadata": {},
     "output_type": "display_data"
    },
    {
     "data": {
      "text/plain": [
       "(5,)"
      ]
     },
     "metadata": {},
     "output_type": "display_data"
    },
    {
     "data": {
      "text/plain": [
       "(9,)"
      ]
     },
     "metadata": {},
     "output_type": "display_data"
    },
    {
     "data": {
      "text/plain": [
       "(5,)"
      ]
     },
     "metadata": {},
     "output_type": "display_data"
    },
    {
     "name": "stdout",
     "output_type": "stream",
     "text": [
      "FLR_eig: \n",
      "spin 0.0\n",
      "spin 0.5\n",
      "spin 1.0\n",
      "spin 1.5\n",
      "spin 2.0\n",
      "spin 2.5\n",
      "spin 3.0\n",
      "spin 3.5\n",
      "spin 4.0\n",
      "GLR_eig: \n",
      "spin 0.0\n",
      "spin 0.5\n",
      "spin 1.0\n",
      "spin 1.5\n",
      "spin 2.0\n",
      "FLR_svd: \n",
      "spin 0.0\n",
      "spin 0.5\n",
      "spin 1.0\n",
      "spin 1.5\n",
      "spin 2.0\n",
      "spin 2.5\n",
      "spin 3.0\n",
      "spin 3.5\n",
      "spin 4.0\n",
      "GLR_svd: \n",
      "spin 0.0\n",
      "spin 0.5\n",
      "Number of singular values obtained are not enough, add noise, increase Krylov subspace and use smaller tol\n",
      "spin 1.0\n",
      "spin 1.5\n",
      "Number of singular values obtained are not enough, add noise, increase Krylov subspace and use smaller tol\n",
      "spin 2.0\n"
     ]
    },
    {
     "name": "stderr",
     "output_type": "stream",
     "text": [
      "┌ Warning: Invariant subspace of dimension 1 (up to requested tolerance `tol = 1.0e-12`), which is smaller than the number of requested singular values (i.e. `howmany == 2`); setting `howmany = 1`.\n",
      "└ @ KrylovKit C:\\Users\\Lenovo\\.julia\\packages\\KrylovKit\\YPiz7\\src\\eigsolve\\svdsolve.jl:142\n",
      "┌ Warning: Invariant subspace of dimension 1 (up to requested tolerance `tol = 1.0e-12`), which is smaller than the number of requested singular values (i.e. `howmany == 2`); setting `howmany = 1`.\n",
      "└ @ KrylovKit C:\\Users\\Lenovo\\.julia\\packages\\KrylovKit\\YPiz7\\src\\eigsolve\\svdsolve.jl:142\n"
     ]
    }
   ],
   "source": [
    "\n",
    "euL_set,evL_set,euR_set,evR_set,SPIN_eig_set=FLR_eig(Ag,OO,Dtrun,space_AOA,AOA_sec);\n",
    "display(size(euL_set))\n",
    "eul_set,evl_set,eur_set,evr_set,spin_eig_set=GLR_eig(Ag,Dtrun,space_AA,AA_sec);\n",
    "display(size(eul_set))\n",
    "S_set,U_set,Vh_set,SPIN_svd_set=FLR_svd(Ag,OO,pow,Dtrun,space_AOA,AOA_sec);\n",
    "display(size(S_set))\n",
    "s_set,u_set,vh_set,spin_svd_set=GLR_svd(Ag,pow,Dtrun,space_AA,AA_sec);\n",
    "display(size(s_set))\n",
    "\n"
   ]
  },
  {
   "cell_type": "code",
   "execution_count": 977,
   "metadata": {},
   "outputs": [
    {
     "data": {
      "text/plain": [
       "9-element Vector{Any}:\n",
       " ComplexF64[0.12453453093210645 + 0.00043135209344757897im, 0.0607290045534453 + 0.009167652753992535im, 0.029936237253014475 - 0.04957458257064171im, 0.023839949024690135 + 0.05125342066286286im, 0.047227810355477046 - 0.015052768957672132im, 0.04176702448503631 - 0.00018524744972581763im, 0.032069673925036825 + 0.012918478919439943im, 0.01056914980743253 - 0.02960893679875483im, 0.008194974344361153 + 0.030290475545543635im, 0.023354287665732398 + 0.013946874615808316im  …  0.00045423451683869893 + 0.000348149496944013im, 0.0004564653817193376 + 0.00016159316433823022im, 7.30079137320575e-5 + 0.00038571452680818437im, 0.0002943395998425062 - 3.513381482258472e-5im, -6.057766932359053e-5 - 0.00027581421568636654im, 0.00018872102785393824 + 0.00011677645031966862im, 0.0001783416044156821 + 9.477872832615533e-6im, 0.0001403622644372463 - 2.8459842335664225e-5im, 7.217244335720739e-5 - 9.351153795140126e-5im, 0.00010192624170377611 + 3.140044940150951e-5im]\n",
       " ComplexF64[0.09064818788914146 - 0.039491605631593193im, 0.08832785049089167 + 0.04225241111740191im, 0.03806689981277721 - 0.03381388861517453im, 0.03376873700507039 + 0.037881098680795935im, 0.043762538013259536 - 0.020609278164365575im, 0.04362540891283841 + 0.02040544079814971im, 0.03799480156389666 - 0.023433398167174026im, 0.032647315064610126 - 0.03023065706443242im, 0.030120876861330227 + 0.028602029331518845im, 0.03269361837508563 + 0.02268261130725766im  …  0.00024946056534235427 - 0.00020576769853878274im, 0.00021201940757171512 + 0.00012248310784061732im, 0.00020299993703660723 - 0.00011855187128341214im, 0.00022083582386343132 + 5.583895702313202e-5im, 0.00015375930030327414 + 6.516908095259085e-5im, 0.00015912259374304812 - 4.930962285446382e-5im, 0.00011253930142846479 + 0.00010618934420393918im, 0.00013395210228441703 + 3.211904993828203e-5im, 9.131024042602283e-5 - 4.868703208636428e-5im, 8.166243349357592e-5 - 1.4058433770318448e-5im]\n",
       " ComplexF64[0.11980876026961582 + 0.00041247039628953993im, 0.06604899565989797 + 0.006982491592219017im, 0.030170217578579777 - 0.04717745097976761im, 0.023367770216348876 + 0.04905522656976111im, 0.046719280605584904 - 0.014368444036312602im, 0.027775987239349233 - 0.03459504422261394im, 0.027546932132943003 + 0.03448849747908104im, 0.04157699154652609 + 0.00931251107160523im, 0.04126803988443203 - 0.006970038070473426im, 0.040104676226630734 - 0.00022685127907219946im  …  0.00023282633075637256 - 2.6491560202921325e-5im, 0.00018795264968514885 + 2.5977658689979783e-5im, 0.00017879113355719707 - 1.4408888002196193e-5im, 0.00017076998039710273 - 3.8844353566160185e-5im, 0.00013103965721307918 + 3.979000834579734e-6im, -5.385253342598156e-5 - 0.00011908483611255361im, 0.0001218541884218061 - 1.89676410957846e-5im, 4.544304464079848e-5 + 9.372028649862066e-5im, 9.877465188312009e-5 + 3.0315669484422995e-5im, 9.567030520650126e-5 + 2.219904502290344e-5im]\n",
       " ComplexF64[0.09242161660242457 - 0.046054624478067435im, 0.09064206241262213 + 0.04799698088902565im, 0.03756331817719638 - 0.028555453287659377im, 0.041150031894755135 - 0.020872068886094435im, 0.03255505075027136 - 0.030936210476338672im, 0.02977711895746381 + 0.033476415386766954im, 0.03355266080851066 + 0.02523310098629281im, 0.034308812440726894 + 0.02266921115397922im, 0.03045191225936436 - 0.018220830205690448im, 0.029263402355320337 + 0.02002731238205525im  …  0.00019239900590484294 - 0.00010150704534334867im, 0.00018795586219824974 + 9.379099896494807e-5im, 0.0001830087104616889 - 4.3579089381760244e-5im, 0.00012611194390863006 + 9.070343418383633e-5im, 0.00014426473089046164 + 5.4459530734665324e-5im, 0.00013171086623541098 - 6.141602453297013e-5im, 0.0001363464592309385 - 1.6998276083020265e-5im, 0.0001266284445163471 + 3.8638058744393544e-5im, 0.00011255233798405672 + 4.8132821514694114e-5im, 0.00010508310606145298 - 2.788182464132176e-5im]\n",
       " ComplexF64[0.08706159713452674 + 0.004641463580869013im, 0.03082109235542667 - 0.042137522019454324im, 0.029275378838142203 + 0.03472552710250337im, 0.038454685707030985 - 0.00755178514660235im, 0.03490345175332338 + 0.01256385718275903im, 0.025994831495658184 - 0.014622210257970917im, 0.008431905638663527 - 0.027658074083643392im, 0.024634377051379327 + 0.014746830407059826im, 0.007161824452998703 + 0.02760918292855781im, 0.02658813685592743 + 0.0011332085569824026im  …  0.00025748322529815245 + 5.3511606194374465e-5im, 0.00022411808410897143 - 1.095472903053772e-5im, 0.00021263655267486444 - 5.661311504339014e-6im, 0.00017525014209401765 - 7.920863752233583e-7im, 0.00016024869610627173 - 2.7894535888607077e-5im, -7.776066827481803e-5 - 0.00013492098188506012im, 0.0001354206856038275 - 2.5397183409799515e-5im, 9.340603613077538e-5 + 2.8993320542030688e-5im, 9.485447573532885e-5 + 2.2579371395686833e-5im, 9.237548450885492e-5 - 1.6350574783207684e-5im]\n",
       " ComplexF64[0.0355828995306281 - 0.02101641858278635im, 0.03449078672976301 + 0.02155023533437209im, 0.01805267112391252 - 0.02134295702008269im, 0.01620150768913516 + 0.02266320270999874im, 0.015221035445877471 - 0.005311735917543622im, -0.003361461266632366 - 0.01562609073127692im, 0.01364998182158087 + 0.005513757396058706im, 0.008372075990187293 - 0.011019787111615517im, -0.0018015890187486837 + 0.013476789381620736im, 0.006929013902054333 + 0.011271754032262351im  …  0.00042935336113384624 - 0.0005561541044084917im, 0.0004802784491943768 - 0.00028558423324692603im, 0.00024262792243838575 - 0.0001682785366330408im, 0.00019358877325008293 + 0.00015132007462890433im, 0.00014630748430916794 + 6.64818948928596e-5im, 0.00014084045058148446 - 6.0793570166325244e-5im, 0.00013417730332208942 - 5.921712246432351e-5im, 0.000136443298451982 + 5.005138452349096e-5im, 0.00010183929984741694 + 8.786916845348877e-5im, 0.0001205458307209028 - 6.994254265232985e-6im]\n",
       " ComplexF64[0.013083690593365341 + 7.437634686609893e-5im, 0.0034715303345943804 - 0.012452635116174773im, 0.003027565572869849 + 0.011870085602721528im, 0.011237398558832552 + 0.000756189521588275im, 0.008409622608666876 - 0.0006761515698254104im, 0.0015929955771952135 + 0.0025951072169270056im, 0.0016977465429235381 - 0.002399220942449681im, 0.002804825252426434 - 0.0007257651173827581im, 0.0026243288621719137 + 0.000862369761978542im, 0.0017156641647544807 - 1.6512609591922825e-5im, 0.0009570241334792249 + 0.00017242931546321784im, 0.0006836375949881095 + 0.00044900749642527856im, 0.000627969679151367 - 0.0004756129777521955im, 0.0004659673100539527 + 0.00048760048411395875im, 0.00037024055920648063 - 0.00045801858215500365im, 0.00035436404851448764 - 5.7346253396644694e-5im, 0.00021146554920323192 - 1.0786448647422691e-5im, 0.00014713101281996078 - 1.9542931139625792e-6im, 9.269038204807655e-5 - 1.6442756874310858e-5im, 8.219981975938525e-5 + 2.167169069298921e-5im]\n",
       " ComplexF64[0.0021761984199840474 - 0.0016291335500132622im, 0.002170165768560797 + 0.0016305132519435954im, 0.0005361140511667397 + 0.0003986373639464396im, 0.0005160150505432675 - 0.0003898785713405538im, 0.00014036960251954285 - 7.46174608470077e-5im, 0.0001402956602887072 + 6.361902333521111e-5im]\n",
       " ComplexF64[0.0001449881819958115 - 1.7742896749102188e-7im]"
      ]
     },
     "metadata": {},
     "output_type": "display_data"
    },
    {
     "data": {
      "text/plain": [
       "5-element Vector{Any}:\n",
       " ComplexF64[1.0000000000000007 - 2.1403838110157902e-17im, 0.5629215409166104 + 2.0164190974292193e-17im]\n",
       " ComplexF64[0.7222928584648814 + 0.30540704243075395im, 0.7222928584648813 - 0.30540704243075395im]\n",
       " ComplexF64[0.962803556587515 + 2.140325832860207e-18im, 0.6001176872621292 - 1.8297953547497148e-17im]\n",
       " ComplexF64[0.7222930341635381 + 0.33997749936971966im, 0.7222930341635381 - 0.33997749936971955im]\n",
       " ComplexF64[0.7254514848509048 + 0.0im]"
      ]
     },
     "metadata": {},
     "output_type": "display_data"
    },
    {
     "data": {
      "text/plain": [
       "9-element Vector{Any}:\n",
       " [0.14804322393725913, 0.111384585944897, 0.07492637769399231, 0.0685382484266087, 0.05627422581135422, 0.050597750112804124, 0.04804196723248351, 0.039784170929482957, 0.03776354006858249, 0.03466068605492531  …  0.0005043724277789224, 0.00038897388076155796, 0.000349695931246971, 0.00022894368507341925, 0.0002036384913241591, 0.00017537927598082497, 0.00014724255369281416, 0.00010413959074614985, 7.12992767180005e-5, 3.741240426267469e-5]\n",
       " [0.13348551816448848, 0.12769007117231507, 0.07260765449676877, 0.07154338955117154, 0.0688890311186097, 0.06249357394815057, 0.05795208124349827, 0.051531405712226294, 0.049114038868487905, 0.04863848905940167  …  0.00020837857149873254, 0.00020037995805126315, 0.0001787920585007609, 0.00016553703444571955, 0.00014532368222637535, 0.00013140983396933218, 0.00011314977476255736, 9.936151349844209e-5, 6.920275229584283e-5, 5.233414931271966e-5]\n",
       " [0.1462096372883959, 0.11387423724232656, 0.07470428771976047, 0.0690812174403523, 0.0676201853957499, 0.06623418677902108, 0.055807536183006885, 0.05084530606727097, 0.050079030748193185, 0.04732657297926831  …  0.00017405127025334018, 0.00016184298712710942, 0.00014589355040389756, 0.00012266174134577859, 0.00011258436340915371, 0.00010310057396733395, 9.761996880995743e-5, 8.164274970926529e-5, 5.106443770980408e-5, 4.79401146479701e-5]\n",
       " [0.1339712504171277, 0.12804064825773132, 0.0711100576187022, 0.06775540497085783, 0.062411725153568715, 0.05807558146860825, 0.04904590648821857, 0.04791983104046448, 0.04473989277164547, 0.04293205857181269  …  0.0001836011322122747, 0.000175675378250616, 0.00014943329790745218, 0.00014332580700526036, 0.00013258171479162297, 0.00012642113326895762, 0.00011653914281010518, 9.397481699272754e-5, 7.740286522453295e-5, 7.195255434252921e-5]\n",
       " [0.11972659178409428, 0.06907213188914506, 0.06567400995925918, 0.054407124797198156, 0.04690597987934193, 0.04391850253715565, 0.037561196042324684, 0.03160062267849176, 0.030854471316162466, 0.027780771818430628  …  0.00020897984332429533, 0.00019736719888436335, 0.00018451355283010328, 0.00016479759546696206, 0.00014138707801925494, 0.0001067508451128414, 9.997615663043384e-5, 8.758417259952788e-5, 6.987366119020564e-5, 5.4741150084303055e-5]\n",
       " [0.06281528772716129, 0.04499724377262464, 0.03513228767948719, 0.027799617941203215, 0.020304204196688536, 0.01864650232667852, 0.01770399032034442, 0.016050523841409883, 0.014684004857308659, 0.013880524757679352  …  0.0005413690375919859, 0.0003610490095089299, 0.0002491937583799633, 0.0002051691049456906, 0.00015139383331107622, 0.00014647645564307886, 0.00014138881930724032, 0.00013263744898479946, 9.067496463277793e-5, 7.273355963543378e-5]\n",
       " [0.016596149119073735, 0.014355607428761345, 0.013549584483701173, 0.013190278957469347, 0.008550299294500224, 0.0036411754237225917, 0.0031537619636189712, 0.0028709241686446767, 0.0027712602210812087, 0.0015892790008054766, 0.0014302210094961133, 0.001044530228787397, 0.0007493675200116189, 0.0004983320435696083, 0.0004634373408613779, 0.00024106878173893646, 0.0001946817130259193, 0.00014411310504221816, 0.00011102353612534365, 5.251484240166813e-5]\n",
       " [0.003157207902812187, 0.0029093270793310788, 0.0006690239447990225, 0.0006041234496007918, 0.00014967751372755024, 0.0001405096968782175]\n",
       " [0.00014498829055992446]"
      ]
     },
     "metadata": {},
     "output_type": "display_data"
    },
    {
     "data": {
      "text/plain": [
       "5-element Vector{Any}:\n",
       " [1.02913484292595, 0.5469852126628612]\n",
       " [0.7842068830453269, 0.784206882840194]\n",
       " [0.9853415326311902, 0.5863910375564355]\n",
       " [0.79830566062677, 0.7983056603594493]\n",
       " [0.7254514848509055]"
      ]
     },
     "metadata": {},
     "output_type": "display_data"
    }
   ],
   "source": [
    "euL_set,evL_set,evR_set,SPIN_eig_set=truncate_sectors(Dtrun,euL_set,evL_set,evR_set,SPIN_eig_set);\n",
    "display(euL_set)\n",
    "eul_set,evl_set,evr_set,spin_eig_set=truncate_sectors(Dtrun,eul_set,evl_set,evr_set,spin_eig_set);\n",
    "display(eul_set)\n",
    "S_set,U_set,Vh_set,SPIN_svd_set=truncate_sectors(Dtrun,S_set,U_set,Vh_set,SPIN_svd_set);\n",
    "display(S_set)\n",
    "s_set,u_set,vh_set,spin_svd_set=truncate_sectors(Dtrun,s_set,u_set,vh_set,spin_svd_set);\n",
    "display(s_set)"
   ]
  },
  {
   "cell_type": "code",
   "execution_count": 978,
   "metadata": {},
   "outputs": [
    {
     "data": {
      "text/plain": [
       "Rep[SU₂](0=>1) ← (Rep[SU₂](1/2=>1, 1=>1) ⊗ Rep[SU₂](0=>9, 1/2=>12, 1=>9, 3/2=>4, 2=>1) ⊗ Rep[SU₂](1/2=>1, 1=>1)')"
      ]
     },
     "metadata": {},
     "output_type": "display_data"
    },
    {
     "data": {
      "text/plain": [
       "(Rep[SU₂](1/2=>1, 1=>1) ⊗ Rep[SU₂](0=>9, 1/2=>12, 1=>9, 3/2=>4, 2=>1) ⊗ Rep[SU₂](1/2=>1, 1=>1)') ← Rep[SU₂](0=>1)"
      ]
     },
     "metadata": {},
     "output_type": "display_data"
    },
    {
     "data": {
      "text/plain": [
       "Rep[SU₂](0=>1) ← (Rep[SU₂](1/2=>1, 1=>1) ⊗ Rep[SU₂](1/2=>1, 1=>1)')"
      ]
     },
     "metadata": {},
     "output_type": "display_data"
    },
    {
     "data": {
      "text/plain": [
       "(Rep[SU₂](1/2=>1, 1=>1) ⊗ Rep[SU₂](1/2=>1, 1=>1)') ← Rep[SU₂](0=>1)"
      ]
     },
     "metadata": {},
     "output_type": "display_data"
    },
    {
     "data": {
      "text/plain": [
       "(Rep[SU₂](1/2=>1, 1=>1) ⊗ Rep[SU₂](0=>9, 1/2=>12, 1=>9, 3/2=>4, 2=>1) ⊗ Rep[SU₂](1/2=>1, 1=>1)') ← Rep[SU₂](0=>1)"
      ]
     },
     "metadata": {},
     "output_type": "display_data"
    },
    {
     "data": {
      "text/plain": [
       "Rep[SU₂](0=>1) ← (Rep[SU₂](1/2=>1, 1=>1) ⊗ Rep[SU₂](0=>9, 1/2=>12, 1=>9, 3/2=>4, 2=>1) ⊗ Rep[SU₂](1/2=>1, 1=>1)')"
      ]
     },
     "metadata": {},
     "output_type": "display_data"
    },
    {
     "data": {
      "text/plain": [
       "(Rep[SU₂](1/2=>1, 1=>1) ⊗ Rep[SU₂](1/2=>1, 1=>1)') ← Rep[SU₂](0=>1)"
      ]
     },
     "metadata": {},
     "output_type": "display_data"
    },
    {
     "data": {
      "text/plain": [
       "Rep[SU₂](0=>1) ← (Rep[SU₂](1/2=>1, 1=>1) ⊗ Rep[SU₂](1/2=>1, 1=>1)')"
      ]
     },
     "metadata": {},
     "output_type": "display_data"
    }
   ],
   "source": [
    "display(space(evL_set[1][1]))\n",
    "display(space(evR_set[1][1]))\n",
    "display(space(evl_set[1][1]))\n",
    "display(space(evr_set[1][1]))\n",
    "display(space(U_set[1][1]))\n",
    "display(space(Vh_set[1][1]))\n",
    "display(space(u_set[1][1]))\n",
    "display(space(vh_set[1][1]))\n",
    "\n"
   ]
  },
  {
   "cell_type": "code",
   "execution_count": 979,
   "metadata": {},
   "outputs": [
    {
     "data": {
      "text/plain": [
       "4.873425883226961e-15"
      ]
     },
     "metadata": {},
     "output_type": "display_data"
    }
   ],
   "source": [
    "#check FLR_svd\n",
    "@tensor M[:]:=Ag'[-1,-4,1]*OO[-2,2,-5,1]*Ag[-3,-6,2];\n",
    "M=permute(M,(1,2,3,),(4,5,6,));\n",
    "M_temp=M*0;\n",
    "for cc=1:length(S_set)\n",
    "    S=S_set[cc];\n",
    "    U=U_set[cc];\n",
    "    Vh=Vh_set[cc];\n",
    "    spin=SPIN_svd_set[cc]\n",
    "    for cs=1:length(S)\n",
    "        M_temp=M_temp+S[cs]*U[cs]*Vh[cs]*(spin[cs]*2+1);\n",
    "    end\n",
    "end\n",
    "display(norm(M-M_temp)/norm(M))\n"
   ]
  },
  {
   "cell_type": "code",
   "execution_count": 980,
   "metadata": {},
   "outputs": [
    {
     "data": {
      "text/plain": [
       "3.127809238731094e-7"
      ]
     },
     "metadata": {},
     "output_type": "display_data"
    }
   ],
   "source": [
    "\n",
    "#check GLR_svd\n",
    "@tensor M[:]:=Ag'[-1,-3,1]*Ag[-2,-4,1];\n",
    "M=permute(M,(1,2,),(3,4,));\n",
    "M_temp=M*0;\n",
    "for cc=1:length(s_set)\n",
    "    s=s_set[cc];\n",
    "    u=u_set[cc];\n",
    "    vh=vh_set[cc];\n",
    "    spin=spin_svd_set[cc]\n",
    "    for cs=1:length(s)\n",
    "        M_temp=M_temp+s[cs]*u[cs]*vh[cs]*(spin[cs]*2+1);\n",
    "    end\n",
    "end\n",
    "display(norm(M-M_temp)/norm(M))"
   ]
  },
  {
   "cell_type": "code",
   "execution_count": 981,
   "metadata": {},
   "outputs": [
    {
     "data": {
      "text/plain": [
       "TensorMap(ProductSpace(Rep[SU₂](1=>1, 2=>1)) ← ProductSpace(Rep[SU₂](1=>1, 2=>1))):\n",
       "* Data for fusiontree FusionTree{Irrep[SU₂]}((1,), 1, (false,), ()) ← FusionTree{Irrep[SU₂]}((1,), 1, (false,), ()):\n",
       " 0.9853415326311905\n",
       "* Data for fusiontree FusionTree{Irrep[SU₂]}((2,), 2, (false,), ()) ← FusionTree{Irrep[SU₂]}((2,), 2, (false,), ()):\n",
       " 0.725451484850905\n"
      ]
     },
     "metadata": {},
     "output_type": "display_data"
    },
    {
     "data": {
      "text/plain": [
       "(Rep[SU₂](1/2=>1, 1=>1) ⊗ Rep[SU₂](1/2=>1, 1=>1)') ← Rep[SU₂](1=>1, 2=>1)"
      ]
     },
     "metadata": {},
     "output_type": "display_data"
    },
    {
     "data": {
      "text/plain": [
       "TensorMap(ProductSpace(Rep[SU₂](1=>1, 2=>1)) ← ProductSpace(Rep[SU₂](1=>1, 2=>1))):\n",
       "* Data for fusiontree FusionTree{Irrep[SU₂]}((1,), 1, (false,), ()) ← FusionTree{Irrep[SU₂]}((1,), 1, (false,), ()):\n",
       " 1.6454704027467271e-15\n",
       "* Data for fusiontree FusionTree{Irrep[SU₂]}((2,), 2, (false,), ()) ← FusionTree{Irrep[SU₂]}((2,), 2, (false,), ()):\n",
       " 0.725451484850905\n"
      ]
     },
     "metadata": {},
     "output_type": "display_data"
    },
    {
     "data": {
      "text/plain": [
       "(Rep[SU₂](1/2=>1, 1=>1) ⊗ Rep[SU₂](1/2=>1, 1=>1)') ← Rep[SU₂](1=>1, 2=>1)"
      ]
     },
     "metadata": {},
     "output_type": "display_data"
    },
    {
     "data": {
      "text/plain": [
       "TensorMap(ProductSpace(Rep[SU₂](1/2=>2, 2=>1)) ← ProductSpace(Rep[SU₂](1/2=>2, 2=>1))):\n",
       "* Data for fusiontree FusionTree{Irrep[SU₂]}((1/2,), 1/2, (false,), ()) ← FusionTree{Irrep[SU₂]}((1/2,), 1/2, (false,), ()):\n",
       " 0.3921036451975433  0.0\n",
       " 0.0                 0.39210323774521727\n",
       "* Data for fusiontree FusionTree{Irrep[SU₂]}((2,), 2, (false,), ()) ← FusionTree{Irrep[SU₂]}((2,), 2, (false,), ()):\n",
       " 0.0\n"
      ]
     },
     "metadata": {},
     "output_type": "display_data"
    },
    {
     "data": {
      "text/plain": [
       "(Rep[SU₂](1/2=>1, 1=>1) ⊗ Rep[SU₂](1/2=>1, 1=>1)') ← Rep[SU₂](1/2=>2, 2=>1)"
      ]
     },
     "metadata": {},
     "output_type": "display_data"
    },
    {
     "data": {
      "text/plain": [
       "3.023361614861943e-7"
      ]
     },
     "metadata": {},
     "output_type": "display_data"
    },
    {
     "data": {
      "text/plain": [
       "3.0233616127172107e-7"
      ]
     },
     "metadata": {},
     "output_type": "display_data"
    },
    {
     "data": {
      "text/plain": [
       "3.0479895058383604"
      ]
     },
     "metadata": {},
     "output_type": "display_data"
    }
   ],
   "source": [
    "uM,sM,vM=tsvd(M,trunc=truncdim(11));\n",
    "display(sM)\n",
    "display(space(uM))\n",
    "M_reduced=uM*sM*vM-3*u_set[3][1]*s_set[3][1]*vh_set[3][1];\n",
    "\n",
    "uM,sM,vM=tsvd(M_reduced,trunc=truncdim(8));\n",
    "display(sM)\n",
    "display(space(uM))\n",
    "\n",
    "\n",
    "\n",
    "# #display(sort(diag(convert(Array,sM)),rev=true))\n",
    "# display(abs(dot(uM,u_set[3][1])/sqrt(3)))\n",
    "# display(norm(u_set[3][1]))\n",
    "# display(norm(uM))\n",
    "\n",
    "# display(abs(dot(vM,vh_set[3][1])/sqrt(3)))\n",
    "# display(norm(vh_set[3][1]))\n",
    "# display(norm(vM))\n",
    "\n",
    "MM=u_set[2][1]*s_set[2][1]*vh_set[2][1]+u_set[2][2]*s_set[2][2]*vh_set[2][2];\n",
    "uM,sM,vM=tsvd(MM,trunc=truncdim(11));\n",
    "display(sM)\n",
    "display(space(uM))\n",
    "\n",
    "display(abs(dot(u_set[4][1],u_set[4][2])))\n",
    "display(abs(dot(vh_set[4][1],vh_set[4][2])))\n",
    "\n",
    "display(norm(uM*sM*vM-4*u_set[4][1]*s_set[4][1]*vh_set[4][1]-4*u_set[4][2]*s_set[4][2]*vh_set[4][2])/norm(uM*sM*vM))\n"
   ]
  },
  {
   "cell_type": "code",
   "execution_count": 982,
   "metadata": {},
   "outputs": [
    {
     "data": {
      "text/plain": [
       "Rep[SU₂](0=>2, 1/2=>2, 1=>2, 3/2=>2, 2=>1) ← Rep[SU₂](0=>2, 1/2=>2, 1=>2, 3/2=>2, 2=>1)"
      ]
     },
     "metadata": {},
     "output_type": "display_data"
    },
    {
     "data": {
      "text/plain": [
       "25-element Vector{Float64}:\n",
       " 1.02913484292595\n",
       " 0.9853415326311905\n",
       " 0.9853415326311905\n",
       " 0.9853415326311905\n",
       " 0.798305660307415\n",
       " 0.798305660307415\n",
       " 0.798305660307415\n",
       " 0.798305660307415\n",
       " 0.7983056603074141\n",
       " 0.7983056603074141\n",
       " ⋮\n",
       " 0.725451484850905\n",
       " 0.725451484850905\n",
       " 0.725451484850905\n",
       " 0.725451484850905\n",
       " 0.725451484850905\n",
       " 0.5863910375564356\n",
       " 0.5863910375564356\n",
       " 0.5863910375564356\n",
       " 0.5469852126628613"
      ]
     },
     "metadata": {},
     "output_type": "display_data"
    }
   ],
   "source": [
    "uM,sM,vM=tsvd(M);\n",
    "display(space(sM))\n",
    "display(sort(diag(convert(Array,sM)),rev=true))"
   ]
  },
  {
   "cell_type": "code",
   "execution_count": 983,
   "metadata": {},
   "outputs": [
    {
     "data": {
      "text/plain": [
       "truncate_sectors (generic function with 2 methods)"
      ]
     },
     "metadata": {},
     "output_type": "display_data"
    }
   ],
   "source": [
    "\n",
    "function truncate_sectors(n,eu_set,ev_set,ev_set2,spin_set)\n",
    "    eu_full=eu_set[1]\n",
    "    dim_full=2*spin_set[1].+1\n",
    "    for cc=2:length(eu_set)\n",
    "        eu_full=vcat(eu_full, eu_set[cc])\n",
    "        dim_full=vcat(dim_full, 2*spin_set[cc].+1)\n",
    "    end\n",
    "    dim_full=Int.(round.(dim_full))\n",
    "\n",
    "    order=sortperm(abs.(eu_full),rev=true);\n",
    "    eu_full_sorted=eu_full[order];\n",
    "    dim_full_sorted=dim_full[order];\n",
    "\n",
    "    total_size=dim_full_sorted[1];\n",
    "    old_value=eu_full_sorted[1];\n",
    "    for cc=2:length(eu_full_sorted)\n",
    "        total_size=total_size+dim_full_sorted[cc];\n",
    "        new_value=eu_full_sorted[cc];\n",
    "        if total_size>n\n",
    "            break;\n",
    "        end\n",
    "        old_value=new_value;\n",
    "    end\n",
    "\n",
    "    for cc=1:length(eu_set)\n",
    "        spins=spin_set[cc];\n",
    "        eu=eu_set[cc];\n",
    "        ev=ev_set[cc];\n",
    "        inds=findall(x->abs(x)>=abs(old_value), abs.(eu));\n",
    "        eu=eu[inds];\n",
    "        ev=ev[inds];\n",
    "        spins=spins[inds];\n",
    "        eu_set[cc]=eu;\n",
    "        ev_set[cc]=ev;\n",
    "        spin_set[cc]=spins;\n",
    "        if ~(ev_set2==[])\n",
    "            ev2=ev_set2[cc];\n",
    "            ev2=ev2[inds];\n",
    "            ev_set2[cc]=ev2;\n",
    "        end\n",
    "    end\n",
    "return eu_set,ev_set,ev_set2,spin_set\n",
    "\n",
    "end\n"
   ]
  },
  {
   "cell_type": "code",
   "execution_count": 984,
   "metadata": {},
   "outputs": [
    {
     "data": {
      "text/plain": [
       "HV_FR (generic function with 1 method)"
      ]
     },
     "metadata": {},
     "output_type": "display_data"
    }
   ],
   "source": [
    "function FLR_eig(A,O,n,full_space,sector_set)\n",
    "    SPIN_set=Vector{Any}(undef, length(sector_set));\n",
    "    euL_set=Vector{Any}(undef, length(sector_set));\n",
    "    evL_set=Vector{Any}(undef, length(sector_set));\n",
    "    euR_set=Vector{Any}(undef, length(sector_set));\n",
    "    evR_set=Vector{Any}(undef, length(sector_set));\n",
    "    println(\"FLR_eig: \")\n",
    "    for cc=1:length(sector_set)\n",
    "        sec=sector_set[cc];\n",
    "        spin=(dim(sec)-1)/2;\n",
    "        n_eff=Int(round(n/dim(sec)))+1\n",
    "        println(\"spin \"*string(spin))\n",
    "\n",
    "        FLR_eig_L(x)=HV_FL(x,A,O);\n",
    "        vl_init=permute(TensorMap(randn, SU₂Space(spin=>1),space(A',1)*space(O,1)*space(A,1)), (1,2,3,4,),());# assume that the dominant eigenvector has total spin zero. If not, it will have three indeces and it's not Hermiitan.\n",
    "        try\n",
    "            euL,evL,info=eigsolve(FLR_eig_L, vl_init, minimum([n_eff,dim(full_space,sec)]),:LM, Arnoldi(krylovdim=minimum([n_eff,dim(full_space,sec)])*2));\n",
    "            @assert info.converged >= minimum([n_eff,dim(full_space,sec)])\n",
    "        catch e\n",
    "            println(\"Number of eigenvalues obtained are not enough, use smaller tol\")\n",
    "            euL,evL,info=eigsolve(FLR_eig_L, vl_init, minimum([n_eff,dim(full_space,sec)]),:LM, Arnoldi(krylovdim=minimum([n_eff,dim(full_space,sec)])*2, tol=1e-16));\n",
    "            @assert info.converged >= minimum([n_eff,dim(full_space,sec)])\n",
    "        end\n",
    "        @assert abs.(euL)==sort(abs.(euL), rev=true)\n",
    "        euL=euL[1:minimum([length(euL),n_eff,dim(full_space,sec)])];\n",
    "        evL=evL[1:minimum([length(evL),n_eff,dim(full_space,sec)])];\n",
    "        euL_set[cc]=euL;\n",
    "        evLL=evL;\n",
    "        evL=Vector{Any}(undef, length(evLL));\n",
    "        for cs=1:length(evL)\n",
    "            evL[cs]=permute(evLL[cs],(1,),(2,3,4,))\n",
    "        end\n",
    "        evL_set[cc]=evL;\n",
    "        SPIN_set[cc]=ones(length(euL))*(dim(sec)-1)/2;\n",
    "        \n",
    "        FLR_eig_R(x)=HV_FR(x,A,O);\n",
    "        vr_init=permute(TensorMap(randn, space(A',2)'*space(O,3)'*space(A,2)',SU₂Space(spin=>1)), (1,2,3,4,),());# assume that the dominant eigenvector has total spin zero. If not, it will have three indeces and it's not Hermiitan.\n",
    "        try\n",
    "            euR,evR,info=eigsolve(FLR_eig_R, vr_init, minimum([n_eff,dim(full_space,sec)]),:LM, Arnoldi(krylovdim=minimum([n_eff,dim(full_space,sec)])*2));\n",
    "            @assert info.converged >= minimum([n_eff,dim(full_space,sec)])\n",
    "        catch e\n",
    "            println(\"Number of eigenvalues obtained are not enough, use smaller tol\")\n",
    "            euR,evR,info=eigsolve(FLR_eig_R, vr_init, minimum([n_eff,dim(full_space,sec)]),:LM, Arnoldi(krylovdim=minimum([n_eff,dim(full_space,sec)])*2, tol=1e-16));\n",
    "            @assert info.converged >= minimum([n_eff,dim(full_space,sec)])\n",
    "        end\n",
    "        @assert abs.(euR)==sort(abs.(euR), rev=true)\n",
    "        euR=euR[1:minimum([length(euR),n_eff,dim(full_space,sec)])];\n",
    "        evR=evR[1:minimum([length(evR),n_eff,dim(full_space,sec)])];\n",
    "        euR_set[cc]=euR;\n",
    "        evRR=evR;\n",
    "        evR=Vector{Any}(undef, length(evRR));\n",
    "        for cs=1:length(evR)\n",
    "            evR[cs]=permute(evRR[cs],(1,2,3,),(4,))\n",
    "        end\n",
    "        evR_set[cc]=evR;\n",
    "\n",
    "        @assert (norm(abs.(euL)-abs.(euR))/norm(euL))<1e-8\n",
    "    end\n",
    "    return euL_set,evL_set,euR_set,evR_set,SPIN_set     \n",
    "end\n",
    "        \n",
    "function HV_FL(vl,A,mpo)\n",
    "    @tensor vl[:]:=vl[-1,1,3,5]*A'[1,-2,2]*mpo[3,4,-3,2]*A[5,-4,4];\n",
    "    return vl\n",
    "end\n",
    "\n",
    "function HV_FR(vr,A,mpo)\n",
    "    @tensor vr[:]:=A'[-1,1,2]*mpo[-2,4,3,2]*A[-3,5,4]*vr[1,3,5,-4];\n",
    "    return vr\n",
    "end\n",
    " \n",
    "        \n"
   ]
  },
  {
   "cell_type": "code",
   "execution_count": 985,
   "metadata": {},
   "outputs": [],
   "source": [
    "\n",
    "    "
   ]
  },
  {
   "cell_type": "code",
   "execution_count": 986,
   "metadata": {},
   "outputs": [
    {
     "data": {
      "text/plain": [
       "GLR_eig (generic function with 1 method)"
      ]
     },
     "metadata": {},
     "output_type": "display_data"
    }
   ],
   "source": [
    "function GLR_eig(A,n,full_space,sector_set)\n",
    "    spin_set=Vector{Any}(undef, length(sector_set));\n",
    "    eul_set=Vector{Any}(undef, length(sector_set));\n",
    "    evl_set=Vector{Any}(undef, length(sector_set));\n",
    "    eur_set=Vector{Any}(undef, length(sector_set));\n",
    "    evr_set=Vector{Any}(undef, length(sector_set));\n",
    "    println(\"GLR_eig: \")\n",
    "    for cc=1:length(sector_set)\n",
    "        sec=sector_set[cc];\n",
    "        spin=(dim(sec)-1)/2;\n",
    "        n_eff=Int(round(n/dim(sec)))+1\n",
    "        println(\"spin \"*string(spin))\n",
    "        \n",
    "        GLR_eig_L(x)=HV_L_tensor(x,A,[]);\n",
    "        vl_init=permute(TensorMap(randn, SU₂Space(spin=>1),space(A',1)*space(A,1)), (1,2,3,),());# assume that the dominant eigenvector has total spin zero. If not, it will have three indeces and it's not Hermiitan.\n",
    "        try\n",
    "            eul,evl,info=eigsolve(GLR_eig_L, vl_init, minimum([n_eff,dim(full_space,sec)]),:LM,Arnoldi(krylovdim=minimum([n_eff,dim(full_space,sec)])*2));\n",
    "            @assert info.converged >= minimum([n_eff,dim(full_space,sec)])\n",
    "        catch e\n",
    "            println(\"Number of eigenvalues obtained are not enough, use smaller tol\")\n",
    "            eul,evl,info=eigsolve(GLR_eig_L, vl_init, minimum([n_eff,dim(full_space,sec)]),:LM,Arnoldi(krylovdim=minimum([n_eff,dim(full_space,sec)])*2, tol=1e-16));\n",
    "            @assert info.converged >= minimum([n_eff,dim(full_space,sec)])\n",
    "        end\n",
    "        @assert abs.(eul)==sort(abs.(eul), rev=true)\n",
    "        \n",
    "        eul=eul[1:minimum([length(eul),n_eff,dim(full_space,sec)])];\n",
    "        evl=evl[1:minimum([length(evl),n_eff,dim(full_space,sec)])];\n",
    "        eul_set[cc]=eul;\n",
    "        evll=evl;\n",
    "        evl=Vector{Any}(undef, length(evll));\n",
    "        for cs=1:length(evl)\n",
    "            evl[cs]=permute(evll[cs],(1,),(2,3,))\n",
    "        end\n",
    "        evl_set[cc]=evl;\n",
    "        spin_set[cc]=ones(length(eul))*(dim(sec)-1)/2;\n",
    "\n",
    "        GLR_eig_R(x)=HV_R_tensor(x,A,[]);\n",
    "        vr_init=permute(TensorMap(randn, space(A',2)'*space(A,2)',SU₂Space(spin=>1)), (1,2,3,),());# assume that the dominant eigenvector has total spin zero. If not, it will have three indeces and it's not Hermiitan.\n",
    "        try\n",
    "            eur,evr,info=eigsolve(GLR_eig_R, vr_init, minimum([n_eff,dim(full_space,sec)]),:LM,Arnoldi(krylovdim=minimum([n_eff,dim(full_space,sec)])*2));\n",
    "            @assert info.converged >= minimum([n_eff,dim(full_space,sec)])\n",
    "        catch e\n",
    "            println(\"Number of eigenvalues obtained are not enough, use smaller tol\")\n",
    "            eur,evr,info=eigsolve(GLR_eig_R, vr_init, minimum([n_eff,dim(full_space,sec)]),:LM,Arnoldi(krylovdim=minimum([n_eff,dim(full_space,sec)])*2, tol=1e-16));\n",
    "            @assert info.converged >= minimum([n_eff,dim(full_space,sec)])\n",
    "        end\n",
    "        @assert abs.(eur)==sort(abs.(eur), rev=true)\n",
    "        eur=eur[1:minimum([length(eur),n_eff,dim(full_space,sec)])];\n",
    "        evr=evr[1:minimum([length(evl),n_eff,dim(full_space,sec)])];\n",
    "        eur_set[cc]=eur;\n",
    "        evrr=evr;\n",
    "        evr=Vector{Any}(undef, length(evrr));\n",
    "        for cs=1:length(evr)\n",
    "            evr[cs]=permute(evrr[cs],(1,2,),(3,))\n",
    "        end\n",
    "        evr_set[cc]=evr;\n",
    "\n",
    "        @assert (norm(abs.(eul)-abs.(eur))/norm(eul))<1e-8\n",
    "\n",
    "    end\n",
    "    return eul_set,evl_set,eur_set,evr_set,spin_set   \n",
    "end\n",
    "    \n",
    "    \n",
    "    "
   ]
  },
  {
   "cell_type": "code",
   "execution_count": 987,
   "metadata": {},
   "outputs": [
    {
     "data": {
      "text/plain": [
       "HV_FR_conj_pow (generic function with 1 method)"
      ]
     },
     "metadata": {},
     "output_type": "display_data"
    }
   ],
   "source": [
    "function FLR_svd(A,O,pow,n,full_space,sector_set)\n",
    "    SPIN_set=Vector{Any}(undef, length(sector_set));\n",
    "    S_set=Vector{Any}(undef, length(sector_set));\n",
    "    U_set=Vector{Any}(undef, length(sector_set));\n",
    "    Vh_set=Vector{Any}(undef, length(sector_set));\n",
    "    println(\"FLR_svd: \")\n",
    "    for cc=1:length(sector_set)\n",
    "        sec=sector_set[cc];\n",
    "        spin=(dim(sec)-1)/2;\n",
    "        n_eff=Int(round(n/dim(sec)))+1\n",
    "        println(\"spin \"*string(spin))\n",
    "\n",
    "        FLR_svd_R(x)=HV_FR_pow(x,A,O,pow);\n",
    "        FLR_svd_R_conj(x)=HV_FR_conj_pow(x,A,O,pow);\n",
    "        vl_init=permute(TensorMap(randn, SU₂Space(spin=>1),space(A',1)*space(O,1)*space(A,1)), (1,2,3,4,),());# assume that the dominant eigenvector has total spin zero. If not, it will have three indeces and it's not Hermiitan.\n",
    "        vr_init=permute(TensorMap(randn, space(A',2)'*space(O,3)'*space(A,2)',SU₂Space(spin=>1)), (1,2,3,4,),());# assume that the dominant eigenvector has total spin zero. If not, it will have three indeces and it's not Hermiitan.\n",
    "        try\n",
    "            S,U,V,info=svdsolve((FLR_svd_R,FLR_svd_R_conj), vr_init, minimum([n_eff,dim(full_space,sec)]),:LR, krylovdim=minimum([n_eff,dim(full_space,sec)])*2);\n",
    "            @assert info.converged >= minimum([n_eff,dim(full_space,sec)])\n",
    "        catch e\n",
    "            println(\"Number of singular values obtained are not enough, use smaller tol\")\n",
    "            S,U,V,info=svdsolve((FLR_svd_R,FLR_svd_R_conj), vr_init, minimum([n_eff,dim(full_space,sec)]),:LR, krylovdim=minimum([n_eff,dim(full_space,sec)])*2, tol=1e-16);\n",
    "            @assert info.converged >= minimum([n_eff,dim(full_space,sec)])\n",
    "        end\n",
    "        @assert abs.(S)==sort(abs.(S), rev=true)\n",
    "        S=S[1:minimum([length(S),n_eff,dim(full_space,sec)])];\n",
    "        U=U[1:minimum([length(U),n_eff,dim(full_space,sec)])];\n",
    "        V=V[1:minimum([length(V),n_eff,dim(full_space,sec)])];\n",
    "\n",
    "        UU=U;\n",
    "        U=Vector{Any}(undef, length(UU));\n",
    "        for cs=1:length(U)\n",
    "            U[cs]=permute(UU[cs],(1,2,3,),(4,))\n",
    "        end\n",
    "\n",
    "        Vh=Vector{Any}(undef, length(V));\n",
    "        for cs=1:length(Vh)\n",
    "            vvr=V[cs];\n",
    "            Vh[cs]=permute(vvr',(4,),(1,2,3,));\n",
    "        end\n",
    "        S_set[cc]=S;\n",
    "        U_set[cc]=U;\n",
    "        Vh_set[cc]=Vh;\n",
    "        SPIN_set[cc]=ones(length(S))*(dim(sec)-1)/2;\n",
    "        \n",
    "    end\n",
    "    return S_set,U_set,Vh_set,SPIN_set     \n",
    "end\n",
    "            \n",
    "\n",
    "function HV_FR_pow(vr,A,mpo,pow)\n",
    "    for cc=1:pow\n",
    "        vr=HV_FR(vr,A,mpo);\n",
    "    end\n",
    "    return vr\n",
    "end\n",
    "function HV_FR_conj(vr,A,mpo)\n",
    "    @tensor vr[:]:=A[1,-1,2]*mpo'[3,4,-2,2]*A'[5,-3,4]*vr[1,3,5,-4];\n",
    "    return vr\n",
    "end\n",
    "function HV_FR_conj_pow(vr,A,mpo,pow)\n",
    "    for cc=1:pow\n",
    "        vr=HV_FR_conj(vr,A,mpo);\n",
    "    end\n",
    "    return vr\n",
    "end\n",
    "    "
   ]
  },
  {
   "cell_type": "code",
   "execution_count": 988,
   "metadata": {},
   "outputs": [
    {
     "data": {
      "text/plain": [
       "HV_R_conj_pow (generic function with 2 methods)"
      ]
     },
     "metadata": {},
     "output_type": "display_data"
    }
   ],
   "source": [
    "function GLR_svd(A,pow,n,full_space,sector_set)\n",
    "    spin_set=Vector{Any}(undef, length(sector_set));\n",
    "    s_set=Vector{Any}(undef, length(sector_set));\n",
    "    u_set=Vector{Any}(undef, length(sector_set));\n",
    "    vh_set=Vector{Any}(undef, length(sector_set));\n",
    "    A_noise=TensorMap(randn, codomain(A),domain(A));\n",
    "    A_noise=A_noise/norm(A_noise)*norm(A)*1e-9;\n",
    "    println(\"GLR_svd: \")\n",
    "    for cc=1:length(sector_set)\n",
    "        sec=sector_set[cc];\n",
    "        spin=(dim(sec)-1)/2;\n",
    "        n_eff=Int(round(n/dim(sec)))+1\n",
    "        println(\"spin \"*string(spin))\n",
    "\n",
    "\n",
    "        vr_init=permute(TensorMap(randn, space(A',2)'*space(A,2)',SU₂Space(spin=>1)), (1,2,3,),());# assume that the dominant eigenvector has total spin zero. If not, it will have three indeces and it's not Hermiitan.\n",
    "        try\n",
    "            GLR_svd_R(x)=HV_R_pow(x,A,pow,A_noise*0);\n",
    "            GLR_svd_R_conj(x)=HV_R_conj_pow(x,A,pow,A_noise*0);\n",
    "            s,u,v,info=svdsolve((GLR_svd_R,GLR_svd_R_conj), vr_init, minimum([n_eff,dim(full_space,sec)]),:LR, krylovdim=minimum([n_eff,dim(full_space,sec)])*2);\n",
    "            @assert info.converged >= minimum([n_eff,dim(full_space,sec)])    \n",
    "        catch e\n",
    "            GLR_svd_R(x)=HV_R_pow(x,A,pow,A_noise);\n",
    "            GLR_svd_R_conj(x)=HV_R_conj_pow(x,A,pow,A_noise);\n",
    "            println(\"Number of singular values obtained are not enough, add noise, increase Krylov subspace and use smaller tol\")\n",
    "            s,u,v,info=svdsolve((GLR_svd_R,GLR_svd_R_conj), vr_init, minimum([n_eff,dim(full_space,sec)]),:LR, krylovdim=minimum([n_eff,dim(full_space,sec)])*4, tol=1e-14);\n",
    "            @assert info.converged >= minimum([n_eff,dim(full_space,sec)])\n",
    "        end\n",
    "        @assert abs.(s)==sort(abs.(s), rev=true)\n",
    "    \n",
    "        s=s[1:minimum([length(s),n_eff,dim(full_space,sec)])];\n",
    "        u=u[1:minimum([length(u),n_eff,dim(full_space,sec)])];\n",
    "        v=v[1:minimum([length(v),n_eff,dim(full_space,sec)])];\n",
    "\n",
    "        uu=u;\n",
    "        u=Vector{Any}(undef, length(u));\n",
    "        for cs=1:length(u)\n",
    "            u[cs]=permute(uu[cs],(1,2,),(3,))\n",
    "        end\n",
    "\n",
    "        vh=Vector{Any}(undef, length(v));\n",
    "        for cs=1:length(vh)\n",
    "            vvr=v[cs];\n",
    "            vh[cs]=permute(vvr',(3,),(1,2,));\n",
    "        end\n",
    "        s_set[cc]=s;\n",
    "        u_set[cc]=u;\n",
    "        vh_set[cc]=vh;\n",
    "        spin_set[cc]=ones(length(s))*(dim(sec)-1)/2;\n",
    "        \n",
    "    end\n",
    "    return s_set,u_set,vh_set,spin_set     \n",
    "end\n",
    "\n",
    "function HV_R_pow(vr,A,pow,A_noise)\n",
    "    A_=A+A_noise;\n",
    "    for cc=1:pow\n",
    "        @tensor vr[:]:=A_'[-1,1,2]*A[-2,3,2]*vr[1,3,-3];\n",
    "    end\n",
    "    return vr\n",
    "end\n",
    "\n",
    "function HV_R_conj_pow(vr,A,pow,A_noise)\n",
    "    A_=A+A_noise;\n",
    "    for cc=1:pow\n",
    "        @tensor vr[:]:=A_[1,-1,2]*A'[3,-2,2]*vr[1,3,-3];\n",
    "    end\n",
    "    return vr\n",
    "end\n",
    "\n"
   ]
  },
  {
   "cell_type": "code",
   "execution_count": 989,
   "metadata": {},
   "outputs": [
    {
     "ename": "ErrorException",
     "evalue": "syntax: character literal contains multiple characters",
     "output_type": "error",
     "traceback": [
      "syntax: character literal contains multiple characters\n",
      "\n",
      "Stacktrace:\n",
      "  [1] top-level scope\n",
      "    @ d:\\My Documents\\Code\\Julia_codes\\Tensor network\\IPEPS_TensorKit\\kagome\\SU2_PG\\itebd.ipynb:13\n",
      "  [2] eval\n",
      "    @ .\\boot.jl:373 [inlined]\n",
      "  [3] include_string(mapexpr::typeof(REPL.softscope), mod::Module, code::String, filename::String)\n",
      "    @ Base .\\loading.jl:1196\n",
      "  [4] #invokelatest#2\n",
      "    @ .\\essentials.jl:716 [inlined]\n",
      "  [5] invokelatest\n",
      "    @ .\\essentials.jl:714 [inlined]\n",
      "  [6] (::VSCodeServer.var\"#164#165\"{VSCodeServer.NotebookRunCellArguments, String})()\n",
      "    @ VSCodeServer c:\\Users\\Lenovo\\.vscode\\extensions\\julialang.language-julia-1.6.17\\scripts\\packages\\VSCodeServer\\src\\serve_notebook.jl:19\n",
      "  [7] withpath(f::VSCodeServer.var\"#164#165\"{VSCodeServer.NotebookRunCellArguments, String}, path::String)\n",
      "    @ VSCodeServer c:\\Users\\Lenovo\\.vscode\\extensions\\julialang.language-julia-1.6.17\\scripts\\packages\\VSCodeServer\\src\\repl.jl:184\n",
      "  [8] notebook_runcell_request(conn::VSCodeServer.JSONRPC.JSONRPCEndpoint{Base.PipeEndpoint, Base.PipeEndpoint}, params::VSCodeServer.NotebookRunCellArguments)\n",
      "    @ VSCodeServer c:\\Users\\Lenovo\\.vscode\\extensions\\julialang.language-julia-1.6.17\\scripts\\packages\\VSCodeServer\\src\\serve_notebook.jl:13\n",
      "  [9] dispatch_msg(x::VSCodeServer.JSONRPC.JSONRPCEndpoint{Base.PipeEndpoint, Base.PipeEndpoint}, dispatcher::VSCodeServer.JSONRPC.MsgDispatcher, msg::Dict{String, Any})\n",
      "    @ VSCodeServer.JSONRPC c:\\Users\\Lenovo\\.vscode\\extensions\\julialang.language-julia-1.6.17\\scripts\\packages\\JSONRPC\\src\\typed.jl:67\n",
      " [10] serve_notebook(pipename::String, outputchannel_logger::Base.CoreLogging.SimpleLogger; crashreporting_pipename::String)\n",
      "    @ VSCodeServer c:\\Users\\Lenovo\\.vscode\\extensions\\julialang.language-julia-1.6.17\\scripts\\packages\\VSCodeServer\\src\\serve_notebook.jl:136\n",
      " [11] top-level scope\n",
      "    @ c:\\Users\\Lenovo\\.vscode\\extensions\\julialang.language-julia-1.6.17\\scripts\\notebook\\notebook.jl:32\n",
      " [12] include(mod::Module, _path::String)\n",
      "    @ Base .\\Base.jl:418\n",
      " [13] exec_options(opts::Base.JLOptions)\n",
      "    @ Base .\\client.jl:292\n",
      " [14] _start()\n",
      "    @ Base .\\client.jl:495"
     ]
    }
   ],
   "source": [
    "\n",
    "function TransfOp_decom(A,O,pow,Dtrun_init,Dtrun_max,trun_tol,method)\n",
    "    Dstep=50;\n",
    "    Dtrun=Dtrun_init;\n",
    "    if method==\"eigenvalue_FLR\"\n",
    "        for cs=1:round((Dtrun_max-Dtrun_init)/Dstep)+1\n",
    "            evL,lambdaL=F_L(A,O,Dtrun);\n",
    "            evR,lambdaR=F_R(A,O,Dtrun);\n",
    "    \n",
    "            eu=abs(lambdaL);\n",
    "            eu=eu/max(eu); \n",
    "            eu=eu.^pow;\n",
    "            disp(['method=',method,', Dtrun=',num2str(Dtrun),', minimal eigenvalue: ',num2str(min(eu))])\n",
    "            if min(eu)<trun_tol\n",
    "                break;\n",
    "            else\n",
    "                if Dtrun>(size(A,1)^2)*(size(O,1)^2)\n",
    "                    disp('Dtrun exceeds matrix size')\n",
    "                    break;\n",
    "                end\n",
    "                Dtrun=Dtrun+Dstep;\n",
    "            end\n",
    "        end\n",
    "        [eu_sorted,order]=sort(eu,'descend');\n",
    "        evL=evL(:,order);\n",
    "        lambdaL=lambdaL(order);\n",
    "        evR=evR(:,order);\n",
    "        lambdaR=lambdaR(order);\n",
    "        \n",
    "        posit=find(eu_sorted>trun_tol);\n",
    "        evL=evL(:,posit);\n",
    "        lambdaL=lambdaL(posit);\n",
    "        evR=evR(:,posit);\n",
    "        lambdaR=lambdaR(posit);\n",
    "        \n",
    "        return evL,lambdaL,evR,lambdaR\n",
    "\n",
    "    elseif method==\"eigenvalue_GLR\"\n",
    "        for cs=1:round((Dtrun_max-Dtrun_init)/Dstep)+1\n",
    "            evl,lambdal=G_L(A,A,Dtrun);\n",
    "            evr,lambdar=G_R(A,A,Dtrun);\n",
    "    \n",
    "            eu=abs(lambdal);\n",
    "            eu=eu/max(eu); \n",
    "            eu=eu.^pow;\n",
    "            disp(['method=',method,', Dtrun=',num2str(Dtrun),', minimal eigenvalue: ',num2str(min(eu))])\n",
    "            if min(eu)<trun_tol\n",
    "                break;\n",
    "            else\n",
    "                if Dtrun>size(A,1)^2\n",
    "                    disp('Dtrun exceeds matrix size')\n",
    "                    break;\n",
    "                end\n",
    "                Dtrun=Dtrun+Dstep;\n",
    "            end\n",
    "        end\n",
    "        [eu_sorted,order]=sort(eu,'descend');\n",
    "        evl=evl(:,order);\n",
    "        lambdal=lambdal(order);\n",
    "        evr=evr(:,order);\n",
    "        lambdar=lambdar(order);\n",
    "        \n",
    "        posit=find(eu_sorted>trun_tol);\n",
    "        evl=evl(:,posit);\n",
    "        lambdal=lambdal(posit);\n",
    "        evr=evr(:,posit);\n",
    "        lambdar=lambdar(posit);\n",
    "        \n",
    "        return evl,lambdal,evr,lambdar\n",
    "    elseif method==\"svd_GLR\"\n",
    "        for cs=1:round((Dtrun_max-Dtrun_init)/Dstep)+1\n",
    "            [u,s,v]=GLR_svd(A,pow,Dtrun);\n",
    "            vt=v';\n",
    "            eu=abs(diag(s));\n",
    "            eu=eu/max(eu); \n",
    "            disp(['method=',method,', Dtrun=',num2str(Dtrun),', minimal singularvalue: ',num2str(min(eu))])\n",
    "            if min(eu)<trun_tol\n",
    "                break;\n",
    "            else\n",
    "                if Dtrun>(size(A,1)^2)\n",
    "                    disp('Dtrun exceeds matrix size')\n",
    "                    break;\n",
    "                end\n",
    "                Dtrun=Dtrun+Dstep;\n",
    "            end\n",
    "        end\n",
    "        [eu_sorted,order]=sort(eu,'descend');\n",
    "        u=u(:,order);\n",
    "        s=s(order,order);\n",
    "        vt=vt(order,:);\n",
    "    \n",
    "        posit=find(eu_sorted>trun_tol);\n",
    "        u=u(:,posit);\n",
    "        s=s(posit,posit);\n",
    "        vt=vt(posit,:);\n",
    "        \n",
    "        s=diag(s);\n",
    "        return u,s,vt\n",
    "    elseif method==\"svd_FLR\"\n",
    "        for cs=1:round((Dtrun_max-Dtrun_init)/Dstep)+1\n",
    "            [U,S,V]=FLR_svd(A,O,pow,Dtrun);\n",
    "            Vt=V';   \n",
    "            eu=abs(diag(S));\n",
    "            eu=eu/max(eu); \n",
    "            disp(['method=',method,', Dtrun=',num2str(Dtrun),', minimal singularvalue: ',num2str(min(eu))])\n",
    "            if min(eu)<trun_tol\n",
    "                break;\n",
    "            else\n",
    "                if Dtrun>(size(A,1)^2)*(size(O,1)^2)\n",
    "                    disp('Dtrun exceeds matrix size')\n",
    "                    break;\n",
    "                end\n",
    "                Dtrun=Dtrun+Dstep;\n",
    "            end\n",
    "        end\n",
    "        [eu_sorted,order]=sort(eu,'descend');\n",
    "        U=U(:,order);\n",
    "        S=S(order,order);\n",
    "        Vt=Vt(order,:);\n",
    "        \n",
    "        posit=find(eu_sorted>trun_tol);\n",
    "        U=U(:,posit);\n",
    "        S=S(posit,posit);\n",
    "        Vt=Vt(posit,:);\n",
    "        \n",
    "        \n",
    "        S=diag(S);\n",
    "        \n",
    "        return U,S,Vt\n",
    "    end\n",
    "end\n",
    "    \n",
    "\n",
    "    \n",
    "    \n"
   ]
  },
  {
   "cell_type": "code",
   "execution_count": 990,
   "metadata": {},
   "outputs": [
    {
     "data": {
      "text/plain": [
       "HV_R_conj_pow (generic function with 2 methods)"
      ]
     },
     "metadata": {},
     "output_type": "display_data"
    }
   ],
   "source": [
    "\n",
    "    function GLR_svd_test(A,pow,n,full_space,sector_set)\n",
    "        spin_set=Vector{Any}(undef, length(sector_set));\n",
    "        s_set=Vector{Any}(undef, length(sector_set));\n",
    "        u_set=Vector{Any}(undef, length(sector_set));\n",
    "        vh_set=Vector{Any}(undef, length(sector_set));\n",
    "        A_noise=TensorMap(randn, codomain(A),domain(A));\n",
    "        A_noise=A_noise/norm(A_noise)*norm(A)*1e-9;\n",
    "        println(\"GLR_svd: \")\n",
    "        for cc=1:length(sector_set)\n",
    "            sec=sector_set[cc];\n",
    "            spin=(dim(sec)-1)/2;\n",
    "            n_eff=Int(round(n/dim(sec)))+1\n",
    "            println(\"spin \"*string(spin))\n",
    "    \n",
    "\n",
    "            vr_init=permute(TensorMap(randn, space(A',2)'*space(A,2)',SU₂Space(spin=>1)), (1,2,3,),());# assume that the dominant eigenvector has total spin zero. If not, it will have three indeces and it's not Hermiitan.\n",
    "            try\n",
    "                GLR_svd_R(x)=HV_R_pow(x,A,pow,A_noise*0);\n",
    "                GLR_svd_R_conj(x)=HV_R_conj_pow(x,A,pow,A_noise*0);\n",
    "                s,u,v,info=svdsolve((GLR_svd_R,GLR_svd_R_conj), vr_init, minimum([n_eff,dim(full_space,sec)]),:LR, krylovdim=minimum([n_eff,dim(full_space,sec)])*2);\n",
    "                @assert info.converged >= minimum([n_eff,dim(full_space,sec)])    \n",
    "            catch e\n",
    "                GLR_svd_R(x)=HV_R_pow(x,A,pow,A_noise);\n",
    "                GLR_svd_R_conj(x)=HV_R_conj_pow(x,A,pow,A_noise);\n",
    "                println(\"Number of singular values obtained are not enough, add noise, increase Krylov subspace and use smaller tol\")\n",
    "                s,u,v,info=svdsolve((GLR_svd_R,GLR_svd_R_conj), vr_init, minimum([n_eff,dim(full_space,sec)]),:LR, krylovdim=minimum([n_eff,dim(full_space,sec)])*4, tol=1e-14);\n",
    "                @assert info.converged >= minimum([n_eff,dim(full_space,sec)])\n",
    "            end\n",
    "            @assert abs.(s)==sort(abs.(s), rev=true)\n",
    "        \n",
    "            s=s[1:minimum([length(s),n_eff,dim(full_space,sec)])];\n",
    "            u=u[1:minimum([length(u),n_eff,dim(full_space,sec)])];\n",
    "            v=v[1:minimum([length(v),n_eff,dim(full_space,sec)])];\n",
    "    \n",
    "            uu=u;\n",
    "            u=Vector{Any}(undef, length(u));\n",
    "            for cs=1:length(u)\n",
    "                u[cs]=permute(uu[cs],(1,2,),(3,))\n",
    "            end\n",
    "    \n",
    "            vh=Vector{Any}(undef, length(v));\n",
    "            for cs=1:length(vh)\n",
    "                vvr=v[cs];\n",
    "                vh[cs]=permute(vvr',(3,),(1,2,));\n",
    "            end\n",
    "            s_set[cc]=s;\n",
    "            u_set[cc]=u;\n",
    "            vh_set[cc]=vh;\n",
    "            spin_set[cc]=ones(length(s))*(dim(sec)-1)/2;\n",
    "            \n",
    "        end\n",
    "        return s_set,u_set,vh_set,spin_set     \n",
    "    end\n",
    "    \n",
    "    function HV_R_pow(vr,A,pow,A_noise)\n",
    "        A_=A+A_noise;\n",
    "        for cc=1:pow\n",
    "            @tensor vr[:]:=A_'[-1,1,2]*A[-2,3,2]*vr[1,3,-3];\n",
    "        end\n",
    "        return vr\n",
    "    end\n",
    "    \n",
    "    function HV_R_conj_pow(vr,A,pow,A_noise)\n",
    "        A_=A+A_noise;\n",
    "        for cc=1:pow\n",
    "            @tensor vr[:]:=A_[1,-1,2]*A'[3,-2,2]*vr[1,3,-3];\n",
    "        end\n",
    "        return vr\n",
    "    end\n",
    "    \n",
    "    "
   ]
  },
  {
   "cell_type": "code",
   "execution_count": 991,
   "metadata": {},
   "outputs": [],
   "source": [
    "\n"
   ]
  },
  {
   "cell_type": "code",
   "execution_count": 992,
   "metadata": {},
   "outputs": [],
   "source": [
    "# A_dense=convert(Array,A);\n",
    "# @tensor AA[:]:=conj(A_dense)[-1,-3,1]*A_dense[-2,-4,1];\n",
    "# AA=reshape(AA,size(AA,1)*size(AA,2),size(AA,3)*size(AA,4));\n",
    "# eigvals(AA)\n"
   ]
  },
  {
   "cell_type": "code",
   "execution_count": 993,
   "metadata": {},
   "outputs": [],
   "source": []
  },
  {
   "cell_type": "code",
   "execution_count": 994,
   "metadata": {},
   "outputs": [
    {
     "data": {
      "text/plain": [
       "5-element Vector{Any}:\n",
       " [1.02913484292595, 0.5469852126628613]\n",
       " [0.7842068829258476, 0.784206882034862]\n",
       " [0.9853415326311906, 0.5863910375564354]\n",
       " [0.798305660510277, 0.7983056595789064]\n",
       " [0.7254514848509055]"
      ]
     },
     "metadata": {},
     "output_type": "display_data"
    },
    {
     "name": "stdout",
     "output_type": "stream",
     "text": [
      "GLR_svd: \n",
      "spin 0.0\n",
      "spin 0.5\n",
      "Number of singular values obtained are not enough, add noise, increase Krylov subspace and use smaller tol\n",
      "spin 1.0\n",
      "spin 1.5\n",
      "Number of singular values obtained are not enough, add noise, increase Krylov subspace and use smaller tol\n",
      "spin 2.0\n"
     ]
    },
    {
     "name": "stderr",
     "output_type": "stream",
     "text": [
      "┌ Warning: Invariant subspace of dimension 1 (up to requested tolerance `tol = 1.0e-12`), which is smaller than the number of requested singular values (i.e. `howmany == 2`); setting `howmany = 1`.\n",
      "└ @ KrylovKit C:\\Users\\Lenovo\\.julia\\packages\\KrylovKit\\YPiz7\\src\\eigsolve\\svdsolve.jl:142\n",
      "┌ Warning: Invariant subspace of dimension 1 (up to requested tolerance `tol = 1.0e-12`), which is smaller than the number of requested singular values (i.e. `howmany == 2`); setting `howmany = 1`.\n",
      "└ @ KrylovKit C:\\Users\\Lenovo\\.julia\\packages\\KrylovKit\\YPiz7\\src\\eigsolve\\svdsolve.jl:142\n"
     ]
    }
   ],
   "source": [
    "\n",
    "s_set,u_set,vh_set,spin_svd_set=GLR_svd_test(Ag,pow,Dtrun,space_AA,AA_sec);\n",
    "display(s_set)\n"
   ]
  },
  {
   "cell_type": "code",
   "execution_count": 995,
   "metadata": {},
   "outputs": [
    {
     "data": {
      "text/plain": [
       "3.07399168016545e-7"
      ]
     },
     "metadata": {},
     "output_type": "display_data"
    }
   ],
   "source": [
    "#check GLR_svd\n",
    "@tensor M[:]:=Ag'[-1,-3,1]*Ag[-2,-4,1];\n",
    "M=permute(M,(1,2,),(3,4,));\n",
    "M_temp=M*0;\n",
    "for cc=1:length(s_set)\n",
    "    s=s_set[cc];\n",
    "    u=u_set[cc];\n",
    "    vh=vh_set[cc];\n",
    "    spin=spin_svd_set[cc]\n",
    "    for cs=1:length(s)\n",
    "        M_temp=M_temp+s[cs]*u[cs]*vh[cs]*(spin[cs]*2+1);\n",
    "    end\n",
    "end\n",
    "display(norm(M-M_temp)/norm(M))"
   ]
  }
 ],
 "metadata": {
  "kernelspec": {
   "display_name": "Julia 1.7.2",
   "language": "julia",
   "name": "julia-1.7"
  },
  "language_info": {
   "file_extension": ".jl",
   "mimetype": "application/julia",
   "name": "julia",
   "version": "1.7.2"
  },
  "orig_nbformat": 4
 },
 "nbformat": 4,
 "nbformat_minor": 2
}
