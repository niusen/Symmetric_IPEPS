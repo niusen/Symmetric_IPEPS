{
 "cells": [
  {
   "cell_type": "code",
   "execution_count": 10,
   "metadata": {},
   "outputs": [
    {
     "data": {
      "text/plain": [
       "\"initialize CTM\""
      ]
     },
     "metadata": {},
     "output_type": "display_data"
    },
    {
     "data": {
      "text/plain": [
       "\"start CTM iterations:\""
      ]
     },
     "metadata": {},
     "output_type": "display_data"
    },
    {
     "name": "stdout",
     "output_type": "stream",
     "text": [
      "  1.221299 seconds (6.26 M allocations: 732.173 MiB, 17.32% gc time, 19.91% compilation time)\n",
      "CTMRG iteration: 1, CTMRG err: 4.629281439808446\n",
      "CTMRG iteration: 2, CTMRG err: 0.27354057170290225\n",
      "CTMRG iteration: 3, CTMRG err: 0.047370323523708194\n",
      "CTMRG iteration: 4, CTMRG err: 0.1048347766756141\n",
      "CTMRG iteration: 5, CTMRG err: 0.02450852047612217\n",
      "CTMRG iteration: 6, CTMRG err: 0.0991347000340367\n",
      "CTMRG iteration: 7, CTMRG err: 0.014063717708220173\n",
      "CTMRG iteration: 8, CTMRG err: 0.003197685223539068\n",
      "CTMRG iteration: 9, CTMRG err: 0.0009942565565275268\n",
      "CTMRG iteration: 10, CTMRG err: 0.00038485398554188833\n",
      "CTMRG iteration: 11, CTMRG err: 0.0001989630396095859\n",
      "CTMRG iteration: 12, CTMRG err: 0.00011800735276973614\n",
      "CTMRG iteration: 13, CTMRG err: 7.159031427000397e-5\n",
      "CTMRG iteration: 14, CTMRG err: 4.261226739771201e-5\n",
      "CTMRG iteration: 15, CTMRG err: 2.4948822519730957e-5\n",
      "CTMRG iteration: 16, CTMRG err: 1.4402037424699533e-5\n",
      "CTMRG iteration: 17, CTMRG err: 8.237803645471843e-6\n",
      "CTMRG iteration: 18, CTMRG err: 4.681045094472547e-6\n",
      "CTMRG iteration: 19, CTMRG err: 2.6486017487993123e-6\n",
      "CTMRG iteration: 20, CTMRG err: 1.4942048918562113e-6\n",
      "CTMRG iteration: 21, CTMRG err: 8.413164496023364e-7\n",
      " 23.692676 seconds (35.64 M allocations: 7.500 GiB, 9.46% gc time, 6.74% compilation time)\n",
      "  6.177111 seconds (19.11 M allocations: 3.356 GiB, 13.73% gc time, 20.77% compilation time)\n",
      "  3.637191 seconds (5.66 M allocations: 1.865 GiB, 7.08% gc time, 7.25% compilation time)\n"
     ]
    }
   ],
   "source": [
    "using LinearAlgebra\n",
    "using TensorKit\n",
    "using JSON\n",
    "cd(\"D:\\\\My Documents\\\\Code\\\\Julia_codes\\\\Tensor network\\\\IPEPS_TensorKit\\\\kagome\\\\SU2_PG\")\n",
    "#push!(LOAD_PATH, \"D:\\\\My Documents\\\\Code\\\\Julia_codes\\\\Tensor network\\\\IPEPS_TensorKit\\\\kagome\\\\SU2_PG\")\n",
    "include(\"kagome_load_tensor.jl\")\n",
    "include(\"kagome_CTMRG.jl\")\n",
    "include(\"kagome_model.jl\")\n",
    "include(\"kagome_IPESS.jl\")\n",
    "\n",
    "D=8\n",
    "chi=30\n",
    "tol=1e-6\n",
    "\n",
    "J1=1;\n",
    "J2=0;\n",
    "J3=0;\n",
    "Jchi=0;\n",
    "Jtrip=0;\n",
    "\n",
    "parameters=Dict([(\"J1\", J1), (\"J2\", J2), (\"J3\", J3), (\"Jchi\", Jchi), (\"Jtrip\", Jtrip)]);\n",
    "\n",
    "A_set,B_set,A1_set,A2_set, A_set_occu,B_set_occu,A1_set_occu,A2_set_occu, S_label, Sz_label, virtual_particle, Va, Vb=construct_tensor(D);\n",
    "\n",
    "filenm=\"LS_D_\"*string(D)*\"_chi_40.json\"\n",
    "json_dict=read_json_state(filenm);\n",
    "\n",
    "bond_tensor,triangle_tensor=construct_su2_PG_IPESS(json_dict,A_set,B_set,A1_set,A2_set, A_set_occu,B_set_occu,A1_set_occu,A2_set_occu, S_label, Sz_label, virtual_particle, Va, Vb);\n",
    "\n",
    "PEPS_tensor=bond_tensor;\n",
    "@tensor PEPS_tensor[:] := bond_tensor[-1,1,-5]*bond_tensor[4,3,-6]*bond_tensor[-4,2,-7]*triangle_tensor[1,3,2]*triangle_tensor[4,-2,-3];\n",
    "A_unfused=PEPS_tensor;\n",
    "\n",
    "U_phy=unitary(fuse(space(PEPS_tensor, 5) ⊗ space(PEPS_tensor, 6) ⊗ space(PEPS_tensor, 7)), space(PEPS_tensor, 5) ⊗ space(PEPS_tensor, 6) ⊗ space(PEPS_tensor, 7));\n",
    "@tensor A_fused[:] :=PEPS_tensor[-1,-2,-3,-4,1,2,3]*U_phy[-5,1,2,3];\n",
    "\n",
    "init=Dict([(\"CTM\", []), (\"init_type\", \"PBC\")]);\n",
    "conv_check=\"singular_value\";\n",
    "@time CTM, AA_fused, U_L,U_D,U_R,U_U=CTMRG(A_fused,chi,conv_check,tol,init);\n",
    "\n",
    "@time E_up, E_down=evaluate_ob(parameters, U_phy, A_unfused, A_fused, AA_fused, CTM, \"E_triangle\");\n",
    "@time E_up_12, E_up_31, E_up_23, E_down_12, E_down_31, E_down_23=evaluate_ob(parameters, U_phy, A_unfused, A_fused, AA_fused, CTM, \"E_bond\");\n"
   ]
  },
  {
   "cell_type": "code",
   "execution_count": 11,
   "metadata": {},
   "outputs": [
    {
     "data": {
      "text/plain": [
       "-0.43225342693319496 - 6.92451857959804e-17im"
      ]
     },
     "metadata": {},
     "output_type": "display_data"
    }
   ],
   "source": [
    "display((E_up+E_down)/3)"
   ]
  },
  {
   "cell_type": "code",
   "execution_count": 13,
   "metadata": {},
   "outputs": [],
   "source": [
    "Tleft=CTM[\"Tset\"][4];\n",
    "Tright=CTM[\"Tset\"][2];\n"
   ]
  },
  {
   "cell_type": "code",
   "execution_count": 14,
   "metadata": {},
   "outputs": [],
   "source": [
    "@tensor O1[:]:=Tleft[-3,1,-1]*U_L[1,-2,-4];\n",
    "@tensor O2[:]:=Tright[-1,1,-3]*U_R[-4,-2,1];\n"
   ]
  },
  {
   "cell_type": "code",
   "execution_count": 15,
   "metadata": {},
   "outputs": [],
   "source": [
    "@tensor OO[:]:=O1[-2,-3,-5,1]*O2[-1,1,-4,-6];\n"
   ]
  },
  {
   "cell_type": "code",
   "execution_count": 31,
   "metadata": {},
   "outputs": [
    {
     "data": {
      "text/plain": [
       "(Rep[SU₂](0=>89, 1/2=>112, 1=>97, 3/2=>48, 2=>9) ⊗ Rep[SU₂](0=>1, 1/2=>2, 1=>1) ⊗ Rep[SU₂](0=>89, 1/2=>112, 1=>97, 3/2=>48, 2=>9)' ⊗ Rep[SU₂](0=>1, 1/2=>2, 1=>1)') ← ProductSpace{GradedSpace{SU2Irrep, TensorKit.SortedVectorDict{SU2Irrep, Int64}}, 0}()"
      ]
     },
     "metadata": {},
     "output_type": "display_data"
    }
   ],
   "source": [
    "U_fuse_chichi=unitary(fuse(space(OO,1)⊗ space(OO,2)),space(OO,1)⊗ space(OO,2));\n",
    "\n",
    "@tensor OO_fused[:]:=U_fuse_chichi[-1,1,2]*OO[1,2,-2,3,4,-4]*U_fuse_chichi'[3,4,-3];\n",
    "display(space(OO_fused))"
   ]
  },
  {
   "cell_type": "code",
   "execution_count": 122,
   "metadata": {},
   "outputs": [
    {
     "data": {
      "text/plain": [
       "(Rep[SU₂](0=>1, 1/2=>1, 1=>1) ⊗ Rep[SU₂](0=>1, 1/2=>1, 1=>1)' ⊗ Rep[SU₂](0=>1, 1/2=>2, 1=>1)') ← ProductSpace{GradedSpace{SU2Irrep, TensorKit.SortedVectorDict{SU2Irrep, Int64}}, 0}()"
      ]
     },
     "metadata": {},
     "output_type": "display_data"
    }
   ],
   "source": [
    "mps_virtual=SU₂Space(0=>1,1/2=>1,1=>1);\n",
    "mps_phy=space(OO_fused,2);\n",
    "A = TensorMap(randn, mps_virtual*mps_virtual', mps_phy);\n",
    "A=permute(A,(1,2,3,),());\n",
    "display(space(A))\n"
   ]
  },
  {
   "cell_type": "code",
   "execution_count": 123,
   "metadata": {},
   "outputs": [],
   "source": [
    "@tensor AA[:]:=A[-1,1,-3]*A[1,-2,-4];\n",
    "\n",
    "@tensor OOA[:]:=OO_fused[-3,1,-4,-5]*A[-1,-2,1];\n"
   ]
  },
  {
   "cell_type": "code",
   "execution_count": 57,
   "metadata": {},
   "outputs": [],
   "source": [
    "\n"
   ]
  },
  {
   "cell_type": "code",
   "execution_count": 124,
   "metadata": {},
   "outputs": [
    {
     "data": {
      "text/plain": [
       "TensorMap(ProductSpace(Rep[SU₂](0=>1, 1/2=>1, 1=>1)) ← ProductSpace(Rep[SU₂](0=>1, 1/2=>1, 1=>1))):\n",
       "* Data for fusiontree FusionTree{Irrep[SU₂]}((0,), 0, (false,), ()) ← FusionTree{Irrep[SU₂]}((0,), 0, (false,), ()):\n",
       " 2.981277079645829\n",
       "* Data for fusiontree FusionTree{Irrep[SU₂]}((1/2,), 1/2, (false,), ()) ← FusionTree{Irrep[SU₂]}((1/2,), 1/2, (false,), ()):\n",
       " 2.47027135698068\n",
       "* Data for fusiontree FusionTree{Irrep[SU₂]}((1,), 1, (false,), ()) ← FusionTree{Irrep[SU₂]}((1,), 1, (false,), ()):\n",
       " 2.3116199636652874\n"
      ]
     },
     "metadata": {},
     "output_type": "display_data"
    }
   ],
   "source": [
    "u,s,v=tsvd(permute(A,(1,),(2,3,)));\n",
    "display(s)\n",
    "# for blocks in blocks(s)\n",
    "#     display(blocks)\n",
    "# end\n",
    "# sqrt(s)\n"
   ]
  },
  {
   "cell_type": "code",
   "execution_count": 77,
   "metadata": {},
   "outputs": [
    {
     "data": {
      "text/plain": [
       "HV_tensor (generic function with 1 method)"
      ]
     },
     "metadata": {},
     "output_type": "display_data"
    }
   ],
   "source": [
    "function HV_tensor(vl,A)\n",
    "    @tensor vl[:]:=vl[-1,3,1]*A'[3,-2,2]*A[1,-3,2];\n",
    "    return vl\n",
    "end\n",
    "\n"
   ]
  },
  {
   "cell_type": "code",
   "execution_count": 125,
   "metadata": {},
   "outputs": [
    {
     "data": {
      "text/plain": [
       "3-element Vector{ComplexF64}:\n",
       "  6.464445062836564 + 0.0im\n",
       " 3.7100158239340266 + 0.0im\n",
       " 1.6801732727415875 + 0.0im"
      ]
     },
     "metadata": {},
     "output_type": "display_data"
    }
   ],
   "source": [
    "using KrylovKit\n",
    "f(x)=HV_tensor(x,A);\n",
    "vl_init = permute(TensorMap(randn, SU₂Space(0=>1), space(A,1)'*space(A,1)), (1,2,3,),());\n",
    "eu,ev=eigsolve(f, vl_init, 1,:LM,Arnoldi());\n",
    "display(eu)\n"
   ]
  },
  {
   "cell_type": "code",
   "execution_count": 126,
   "metadata": {},
   "outputs": [
    {
     "data": {
      "text/plain": [
       "4-element Vector{ComplexF64}:\n",
       " 3.2851419742204984 + 0.23855927418772074im\n",
       " 3.2851419742204984 - 0.23855927418772074im\n",
       " -2.128290534870929 + 1.2273484179363396im\n",
       " -2.128290534870929 - 1.2273484179363396im"
      ]
     },
     "metadata": {},
     "output_type": "display_data"
    }
   ],
   "source": [
    "using KrylovKit\n",
    "f(x)=HV_tensor(x,A);\n",
    "vl_init = permute(TensorMap(randn, SU₂Space(1/2=>1), space(A,1)'*space(A,1)), (1,2,3,),());\n",
    "eu,ev=eigsolve(f, vl_init, 1,:LM,Arnoldi());\n",
    "display(eu)\n"
   ]
  },
  {
   "cell_type": "code",
   "execution_count": 127,
   "metadata": {},
   "outputs": [
    {
     "data": {
      "text/plain": [
       "4-element Vector{ComplexF64}:\n",
       "    2.629778348343484 + 0.0im\n",
       "  -0.5143269623953093 + 0.0im\n",
       " -0.19571779075763962 + 0.0im\n",
       "  0.15578935455369203 + 0.0im"
      ]
     },
     "metadata": {},
     "output_type": "display_data"
    }
   ],
   "source": [
    "using KrylovKit\n",
    "f(x)=HV_tensor(x,A);\n",
    "vl_init = permute(TensorMap(randn, SU₂Space(1=>1), space(A,1)'*space(A,1)), (1,2,3,),());\n",
    "eu,ev=eigsolve(f, vl_init, 1,:LM,Arnoldi());\n",
    "display(eu)\n"
   ]
  },
  {
   "cell_type": "code",
   "execution_count": 135,
   "metadata": {},
   "outputs": [
    {
     "data": {
      "text/plain": [
       "36-element Vector{ComplexF64}:\n",
       "  -2.128290534870936 - 1.2273484179363405im\n",
       "  -2.128290534870936 + 1.2273484179363405im\n",
       " -2.1282905348709305 - 1.2273484179363403im\n",
       " -2.1282905348709305 + 1.2273484179363403im\n",
       " -1.9533793370930312 + 0.0im\n",
       " -1.9533793370930235 + 0.0im\n",
       " -1.9533793370930232 + 0.0im\n",
       " -1.9533793370930232 + 0.0im\n",
       " -1.9533793370930224 + 0.0im\n",
       " -1.5657044759800969 - 0.4200241266222388im\n",
       "                     ⋮\n",
       "  2.6297783483434856 + 0.0im\n",
       "    2.62977834834349 + 0.0im\n",
       "  2.6297783483434953 + 0.0im\n",
       "  3.2851419742205015 - 0.23855927418772183im\n",
       "  3.2851419742205015 + 0.23855927418772183im\n",
       "  3.2851419742205037 - 0.23855927418772033im\n",
       "  3.2851419742205037 + 0.23855927418772033im\n",
       "   3.710015823934034 + 0.0im\n",
       "   6.464445062836562 + 0.0im"
      ]
     },
     "metadata": {},
     "output_type": "display_data"
    }
   ],
   "source": [
    "A_dense=convert(Array,A);\n",
    "@tensor AA[:]:=conj(A_dense)[-1,-3,1]*A_dense[-2,-4,1];\n",
    "AA=reshape(AA,size(AA,1)*size(AA,2),size(AA,3)*size(AA,4));\n",
    "eigvals(AA)"
   ]
  }
 ],
 "metadata": {
  "kernelspec": {
   "display_name": "Julia 1.7.2",
   "language": "julia",
   "name": "julia-1.7"
  },
  "language_info": {
   "file_extension": ".jl",
   "mimetype": "application/julia",
   "name": "julia",
   "version": "1.7.2"
  },
  "orig_nbformat": 4
 },
 "nbformat": 4,
 "nbformat_minor": 2
}
