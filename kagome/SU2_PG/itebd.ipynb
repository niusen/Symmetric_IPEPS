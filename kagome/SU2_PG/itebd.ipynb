{
 "cells": [
  {
   "cell_type": "code",
   "execution_count": 372,
   "metadata": {},
   "outputs": [
    {
     "name": "stdout",
     "output_type": "stream",
     "text": [
      "Number of singular values obtained are not enough, use smaller tol\n",
      "Number of singular values obtained are not enough, use smaller tol\n",
      "Number of eigenvalues obtained are not enough, use smaller tol\n",
      "Number of singular values obtained are not enough, use smaller tol\n"
     ]
    },
    {
     "name": "stderr",
     "output_type": "stream",
     "text": [
      "┌ Warning: Invariant subspace of dimension 1 (up to requested tolerance `tol = 1.0e-12`), which is smaller than the number of requested singular values (i.e. `howmany == 129`); setting `howmany = 1`.\n",
      "└ @ KrylovKit C:\\Users\\Lenovo\\.julia\\packages\\KrylovKit\\YPiz7\\src\\eigsolve\\svdsolve.jl:142\n",
      "┌ Warning: Invariant subspace of dimension 1 (up to requested tolerance `tol = 1.0e-12`), which is smaller than the number of requested singular values (i.e. `howmany == 101`); setting `howmany = 1`.\n",
      "└ @ KrylovKit C:\\Users\\Lenovo\\.julia\\packages\\KrylovKit\\YPiz7\\src\\eigsolve\\svdsolve.jl:142\n",
      "┌ Warning: Invariant subspace of dimension 1 (up to requested tolerance `tol = 1.0e-12`), which is smaller than the number of requested singular values (i.e. `howmany == 11`); setting `howmany = 1`.\n",
      "└ @ KrylovKit C:\\Users\\Lenovo\\.julia\\packages\\KrylovKit\\YPiz7\\src\\eigsolve\\svdsolve.jl:142\n"
     ]
    }
   ],
   "source": [
    "using LinearAlgebra\n",
    "using TensorKit\n",
    "using KrylovKit\n",
    "using JSON\n",
    "using HDF5, JLD\n",
    "cd(\"D:\\\\My Documents\\\\Code\\\\Julia_codes\\\\Tensor network\\\\IPEPS_TensorKit\\\\kagome\\\\SU2_PG\")\n",
    "#push!(LOAD_PATH, \"D:\\\\My Documents\\\\Code\\\\Julia_codes\\\\Tensor network\\\\IPEPS_TensorKit\\\\kagome\\\\SU2_PG\")\n",
    "include(\"kagome_load_tensor.jl\")\n",
    "include(\"kagome_CTMRG.jl\")\n",
    "include(\"kagome_model.jl\")\n",
    "include(\"kagome_IPESS.jl\")\n",
    "\n",
    "D=6;\n",
    "chi=5;\n",
    "W=10;\n",
    "N=20;\n",
    "tol=1e-6;\n",
    "\n",
    "Dtrun=W*W*chi*chi;\n",
    "\n",
    "pow=Int((N-2)/2);\n",
    "\n",
    "J1=1;\n",
    "J2=0;\n",
    "J3=0;\n",
    "Jchi=0;\n",
    "Jtrip=0;\n"
   ]
  },
  {
   "cell_type": "code",
   "execution_count": 167,
   "metadata": {},
   "outputs": [
    {
     "data": {
      "text/plain": [
       "\"initialize CTM\""
      ]
     },
     "metadata": {},
     "output_type": "display_data"
    },
    {
     "data": {
      "text/plain": [
       "\"start CTM iterations:\""
      ]
     },
     "metadata": {},
     "output_type": "display_data"
    },
    {
     "name": "stdout",
     "output_type": "stream",
     "text": [
      "  0.342428 seconds (678.42 k allocations: 69.262 MiB, 24.19% compilation time)\n",
      "CTMRG iteration: 1, CTMRG err: 1.1502521239562251\n",
      "CTMRG iteration: 2, CTMRG err: 0.010832246339709029\n",
      "CTMRG iteration: 3, CTMRG err: 0.0009922670013661206\n",
      "CTMRG iteration: 4, CTMRG err: 0.0006527577635839776\n",
      "CTMRG iteration: 5, CTMRG err: 0.00018734167219991438\n",
      "CTMRG iteration: 6, CTMRG err: 7.165737033032471e-5\n",
      "CTMRG iteration: 7, CTMRG err: 3.049804770288711e-5\n",
      "CTMRG iteration: 8, CTMRG err: 1.3703769502104723e-5\n",
      "CTMRG iteration: 9, CTMRG err: 6.16076268211696e-6\n",
      "CTMRG iteration: 10, CTMRG err: 2.786436377688606e-6\n",
      "CTMRG iteration: 11, CTMRG err: 1.2619026413807077e-6\n",
      "CTMRG iteration: 12, CTMRG err: 5.719815936999773e-7\n",
      "  2.851950 seconds (7.71 M allocations: 712.063 MiB, 5.43% gc time, 35.13% compilation time)\n",
      "  2.747652 seconds (5.36 M allocations: 561.303 MiB, 7.69% gc time, 55.08% compilation time)\n",
      "  1.061366 seconds (3.73 M allocations: 477.091 MiB, 10.34% gc time, 20.14% compilation time)\n"
     ]
    }
   ],
   "source": [
    "\n",
    "parameters=Dict([(\"J1\", J1), (\"J2\", J2), (\"J3\", J3), (\"Jchi\", Jchi), (\"Jtrip\", Jtrip)]);\n",
    "\n",
    "A_set,B_set,A1_set,A2_set, A_set_occu,B_set_occu,A1_set_occu,A2_set_occu, S_label, Sz_label, virtual_particle, Va, Vb=construct_tensor(D);\n",
    "\n",
    "filenm=\"LS_D_\"*string(D)*\"_chi_40.json\"\n",
    "json_dict=read_json_state(filenm);\n",
    "\n",
    "bond_tensor,triangle_tensor=construct_su2_PG_IPESS(json_dict,A_set,B_set,A1_set,A2_set, A_set_occu,B_set_occu,A1_set_occu,A2_set_occu, S_label, Sz_label, virtual_particle, Va, Vb);\n",
    "\n",
    "PEPS_tensor=bond_tensor;\n",
    "@tensor PEPS_tensor[:] := bond_tensor[-1,1,-5]*bond_tensor[4,3,-6]*bond_tensor[-4,2,-7]*triangle_tensor[1,3,2]*triangle_tensor[4,-2,-3];\n",
    "A_unfused=PEPS_tensor;\n",
    "\n",
    "U_phy=unitary(fuse(space(PEPS_tensor, 5) ⊗ space(PEPS_tensor, 6) ⊗ space(PEPS_tensor, 7)), space(PEPS_tensor, 5) ⊗ space(PEPS_tensor, 6) ⊗ space(PEPS_tensor, 7));\n",
    "@tensor A_fused[:] :=PEPS_tensor[-1,-2,-3,-4,1,2,3]*U_phy[-5,1,2,3];\n",
    "\n",
    "init=Dict([(\"CTM\", []), (\"init_type\", \"PBC\")]);\n",
    "conv_check=\"singular_value\";\n",
    "@time CTM, AA_fused, U_L,U_D,U_R,U_U=CTMRG(A_fused,chi,conv_check,tol,init);\n",
    "\n",
    "@time E_up, E_down=evaluate_ob(parameters, U_phy, A_unfused, A_fused, AA_fused, CTM, \"E_triangle\");\n",
    "@time E_up_12, E_up_31, E_up_23, E_down_12, E_down_31, E_down_23=evaluate_ob(parameters, U_phy, A_unfused, A_fused, AA_fused, CTM, \"E_bond\");\n"
   ]
  },
  {
   "cell_type": "code",
   "execution_count": 168,
   "metadata": {},
   "outputs": [
    {
     "data": {
      "text/plain": [
       "-0.4269686722695194 + 2.3536858397074248e-17im"
      ]
     },
     "metadata": {},
     "output_type": "display_data"
    }
   ],
   "source": [
    "display((E_up+E_down)/3)\n",
    "Tleft=CTM[\"Tset\"][4];\n",
    "Tright=CTM[\"Tset\"][2];\n",
    "\n",
    "@tensor O1[:]:=Tleft[-3,1,-1]*U_L[1,-2,-4];\n",
    "@tensor O2[:]:=Tright[-1,1,-3]*U_R[-4,-2,1];\n"
   ]
  },
  {
   "cell_type": "code",
   "execution_count": 169,
   "metadata": {},
   "outputs": [
    {
     "data": {
      "text/plain": [
       "left_eigenvalue (generic function with 1 method)"
      ]
     },
     "metadata": {},
     "output_type": "display_data"
    }
   ],
   "source": [
    "function HV_L_tensor(vl,A,mpo)\n",
    "    if mpo==[]\n",
    "        if numind(vl)==3\n",
    "            @tensor vl[:]:=vl[-1,3,1]*A'[3,-2,2]*A[1,-3,2];\n",
    "        elseif numind(vl)==2\n",
    "            @tensor vl[:]:=vl[3,1]*A'[3,-2,2]*A[1,-3,2];\n",
    "        end\n",
    "    else\n",
    "        if numind(vl)==5\n",
    "            @tensor vl[:]:=vl[-1,7,5,3,1]*A'[7,-2,6]*mpo'[5,6,-3,4]*mpo[3,2,-4,4]*A[1,-5,2];\n",
    "        elseif numind(vl)==4\n",
    "            @tensor vl[:]:=vl[7,5,3,1]*A'[7,-1,6]*mpo'[5,6,-2,4]*mpo[3,2,-3,4]*A[1,-4,2];\n",
    "        end\n",
    "    end\n",
    "    return vl\n",
    "end\n",
    "\n",
    "function HV_R_tensor(vr,A,mpo)\n",
    "    if mpo==[]\n",
    "        if numind(vr)==3\n",
    "            @tensor vr[:]:=A'[-1,1,2]*A[-2,3,2]*vr[1,3,-3];\n",
    "        elseif numind(vr)==2\n",
    "            @tensor vr[:]:=A'[-1,1,2]*A[-2,3,2]*vr[1,3];\n",
    "        end\n",
    "    else\n",
    "        if numind(vr)==5\n",
    "            @tensor vr[:]:=A'[-1,7,6]*mpo'[-2,6,5,4]*mpo[-3,2,3,4]*A[-4,1,2]*vr[7,5,3,1,-5];\n",
    "        elseif numind(vr)==4\n",
    "            @tensor vr[:]:=A'[-1,7,6]*mpo'[-2,6,5,4]*mpo[-3,2,3,4]*A[-4,1,2]*vr[7,5,3,1];\n",
    "        end\n",
    "    end\n",
    "    return vr\n",
    "end\n",
    "\n",
    "function left_eigenvector(A,mpo,type)\n",
    "\n",
    "    if type==\"A\"\n",
    "        HVfun1(x)=HV_L_tensor(x,A,[]);\n",
    "        vl_init = permute(TensorMap(randn, space(A,1), space(A,1)), (1,2,),());# assume that the dominant eigenvector has total spin zero. If not, it will have three indeces and it's not Hermiitan.\n",
    "        eu,ev=eigsolve(HVfun1, vl_init, 1,:LM,Arnoldi());\n",
    "        @assert maximum(abs.(eu)) == abs(eu[1])\n",
    "        eu=eu[1];\n",
    "        ev=ev[1];\n",
    "        return ev,eu\n",
    "    elseif type==\"mpo_A\"\n",
    "        HVfun2(x)=HV_L_tensor(x,A,mpo);\n",
    "        vl_init = permute(TensorMap(randn, space(A,1)*space(mpo,1),space(mpo,1)*space(A,1)), (1,2,3,4,),());# assume that the dominant eigenvector has total spin zero. If not, it will have three indeces and it's not Hermiitan.\n",
    "        eu,ev=eigsolve(HVfun2, vl_init, 1,:LM,Arnoldi());\n",
    "        @assert maximum(abs.(eu)) == abs(eu[1])\n",
    "        eu=eu[1];\n",
    "        ev=ev[1];\n",
    "        return ev,eu\n",
    "    end\n",
    "end\n",
    "\n",
    "function right_eigenvector(A,mpo,type)\n",
    "\n",
    "    if type==\"A\"\n",
    "        HVfun1(x)=HV_R_tensor(x,A,[]);\n",
    "        vr_init = permute(TensorMap(randn, space(A,2), space(A,2)), (1,2,),());# assume that the dominant eigenvector has total spin zero. If not, it will have three indeces and it's not Hermiitan.\n",
    "        eu,ev=eigsolve(HVfun1, vr_init, 1,:LM,Arnoldi());\n",
    "        @assert maximum(abs.(eu)) == abs(eu[1])\n",
    "        eu=eu[1];\n",
    "        ev=ev[1];\n",
    "        return ev,eu\n",
    "    elseif type==\"mpo_A\"\n",
    "        HVfun2(x)=HV_R_tensor(x,A,mpo);\n",
    "        vr_init = permute(TensorMap(randn, space(A,2)*space(mpo,3),space(mpo,3)*space(A,2)), (1,2,3,4,),());# assume that the dominant eigenvector has total spin zero. If not, it will have three indeces and it's not Hermiitan.\n",
    "        eu,ev=eigsolve(HVfun2, vr_init, 1,:LM,Arnoldi());\n",
    "        @assert maximum(abs.(eu)) == abs(eu[1])\n",
    "        eu=eu[1];\n",
    "        ev=ev[1];\n",
    "        return ev,eu\n",
    "    end\n",
    "end\n",
    "\n",
    "\n",
    "\n",
    "function left_eigenvalue(A1,A2,n)\n",
    "    function HV_L_A1A2(vl,A1,A2)\n",
    "        if numind(vl)==3\n",
    "            @tensor vl[:]:=vl[-1,3,1]*A1'[3,-2,2]*A2[1,-3,2];\n",
    "        elseif numind(vl)==2\n",
    "            @tensor vl[:]:=vl[3,1]*A1'[3,-2,2]*A2[1,-3,2];\n",
    "        end\n",
    "    return vl\n",
    "    end\n",
    "    HVA1A2fun(x)=HV_L_A1A2(x,A1,A2);\n",
    "    vl_init = permute(TensorMap(randn, space(A1,1), space(A2,1)), (1,2,),());# assume that the dominant eigenvector has total spin zero. If not, it will have three indeces and it's not Hermiitan.\n",
    "    eu,ev=eigsolve(HVA1A2fun, vl_init, 1,:LM,Arnoldi());\n",
    "    @assert maximum(abs.(eu)) == abs(eu[1])\n",
    "    eu=eu[1:n];\n",
    "    return eu\n",
    "end"
   ]
  },
  {
   "cell_type": "code",
   "execution_count": 170,
   "metadata": {},
   "outputs": [
    {
     "data": {
      "text/plain": [
       "impo_imps (generic function with 1 method)"
      ]
     },
     "metadata": {},
     "output_type": "display_data"
    }
   ],
   "source": [
    "function impo_imps(mpo,A)\n",
    "    unitary_mpo_A=unitary(fuse(space(mpo,1)⊗space(A,1)), space(mpo,1)⊗space(A,1));\n",
    "    @tensor mpo_A[:]:=unitary_mpo_A[-1,2,1]*mpo[2,3,4,-3]*A[1,5,3]*unitary_mpo_A'[4,5,-2];\n",
    "    return mpo_A\n",
    "end"
   ]
  },
  {
   "cell_type": "code",
   "execution_count": 171,
   "metadata": {},
   "outputs": [
    {
     "data": {
      "text/plain": [
       "itebd_ite (generic function with 1 method)"
      ]
     },
     "metadata": {},
     "output_type": "display_data"
    }
   ],
   "source": [
    "function itebd_ite(mpo,A,W,type)\n",
    "    if type==\"A\"\n",
    "        mpo_A=impo_imps(mpo,A);\n",
    "        vl,_=left_eigenvector(mpo_A,[],\"A\");\n",
    "        eu,ev=eig(permute(vl,(1,),(2,)));\n",
    "        unitary_L=sqrt(eu)*ev';\n",
    "        unitary_R=ev*pinv(sqrt(eu));\n",
    "        @tensor AL[:]:=unitary_L[-1,1]*mpo_A[1,2,-3]*unitary_R[2,-2];\n",
    "    elseif type==\"mpo_A\"\n",
    "        vl,_=left_eigenvector(A,mpo,\"mpo_A\");\n",
    "        eu,ev=eig(permute(vl,(2,1,),(3,4,)));\n",
    "        unitary_L=sqrt(eu)*ev';\n",
    "        unitary_R=ev*pinv(sqrt(eu));\n",
    "        @tensor AL[:]:=unitary_L[-1,2,1]*mpo[2,3,4,-3]*A[1,5,3]*unitary_R[4,5,-2];\n",
    "    end\n",
    "\n",
    "    vr,_=right_eigenvector(AL,[],\"A\");\n",
    "\n",
    "    U,S,_=tsvd(permute(vr,(1,),(2,)),trunc=truncdim(W));\n",
    "    #display(diag(convert(Array,S)))\n",
    "    @tensor A_trun[:]:=U[1,-1]*AL[1,2,-3]*U'[-2,2];\n",
    "\n",
    "    return A_trun\n",
    "end\n"
   ]
  },
  {
   "cell_type": "code",
   "execution_count": 172,
   "metadata": {},
   "outputs": [
    {
     "data": {
      "text/plain": [
       "left_right_normalize (generic function with 1 method)"
      ]
     },
     "metadata": {},
     "output_type": "display_data"
    }
   ],
   "source": [
    "function left_right_normalize(A)\n",
    "    #left normalize\n",
    "    vl,_=left_eigenvector(A,[],\"A\");\n",
    "    eu,ev=eig(permute(vl,(1,),(2,)));\n",
    "    unitary_L=sqrt(eu)*ev';\n",
    "    unitary_R=ev*pinv(sqrt(eu));\n",
    "    @tensor AL[:]:=unitary_L[-1,1]*A[1,2,-3]*unitary_R[2,-2];\n",
    "    #transform right fixed point to be diagonal\n",
    "    vr,eu=right_eigenvector(AL,[],\"A\");\n",
    "    U,S,_=tsvd(permute(vr,(1,),(2,)));\n",
    "    @tensor AL[:]:=U[1,-1]*AL[1,2,-3]*U'[-2,2];\n",
    "    AL=AL/sqrt(eu);\n",
    "    return AL\n",
    "end\n"
   ]
  },
  {
   "cell_type": "code",
   "execution_count": 173,
   "metadata": {},
   "outputs": [],
   "source": [
    "\n"
   ]
  },
  {
   "cell_type": "code",
   "execution_count": 174,
   "metadata": {},
   "outputs": [
    {
     "data": {
      "text/plain": [
       "ITEBD_boundary_groundstate (generic function with 1 method)"
      ]
     },
     "metadata": {},
     "output_type": "display_data"
    }
   ],
   "source": [
    "function ITEBD_boundary_groundstate(O1,O2,W,A_init,method)\n",
    "# ITEBD_boundary_groundstate(O1,O2,D,inv_tol):\n",
    "    #use power method to obtain dominant boundary imps of nonhermitian MPO\n",
    "    if method==\"OO\"\n",
    "        @tensor OO[:]:=O1[-2,-3,-5,1]*O2[-1,1,-4,-6];\n",
    "        U_fuse_chichi=unitary(fuse(space(OO,1)⊗ space(OO,2)),space(OO,1)⊗ space(OO,2));\n",
    "        @tensor OO[:]:=U_fuse_chichi[-1,1,2]*OO[1,2,-2,3,4,-4]*U_fuse_chichi'[3,4,-3];\n",
    "    end\n",
    "    #Initial state\n",
    "    if A_init==[]\n",
    "        mps_virtual=SU₂Space(0=>1,1/2=>1,1=>1);mps_phy=space(O1,2);\n",
    "        A_init=permute(TensorMap(randn, mps_virtual*mps_virtual', mps_phy),(1,2,3,),());\n",
    "    else \n",
    "    end\n",
    "    AL=left_right_normalize(A_init);\n",
    "    \n",
    "    for cp=1:30\n",
    "        AL_old=AL;\n",
    "        @time if method==\"O_O\"\n",
    "            A_trun_intermed=itebd_ite(O1,AL,3*W,\"mpo_A\");\n",
    "            A_trun=itebd_ite(O2,A_trun_intermed,W,\"mpo_A\");\n",
    "            AL=left_right_normalize(A_trun);\n",
    "        elseif method==\"OO\"\n",
    "            A_trun=itebd_ite(OO,AL,W,\"mpo_A\");#this \"mpo_A\" option is slightly faster when bond dimension is large\n",
    "        end\n",
    "        AL=left_right_normalize(A_trun);\n",
    "\n",
    "        # vv,ee=right_eigenvector(AL,[],\"A\");\n",
    "        # display(ee)\n",
    "        # u,s,v=tsvd(permute(vv,(1,),(2,)));\n",
    "        # display(sort(diag(convert(Array,s)),rev=true))\n",
    "        \n",
    "        #dominant eigenvalue of transfer matrix\n",
    "        E=left_eigenvalue(impo_imps(O2,impo_imps(O1,AL)),AL,1)[1]\n",
    "        ov=abs(left_eigenvalue(AL,AL_old,1)[1]);\n",
    "        println(\"E=\"*string(E)*\", \"*\"ov=\"*string(ov))\n",
    "        if abs(ov-1)<1e-8\n",
    "            break\n",
    "        end\n",
    "    \n",
    "    end\n",
    "    return AL,A_init\n",
    "end"
   ]
  },
  {
   "cell_type": "code",
   "execution_count": 175,
   "metadata": {},
   "outputs": [],
   "source": [
    "mps_virtual=SU₂Space(0=>1,1/2=>1,1=>1);mps_phy=space(O1,2);\n",
    "A_init=permute(TensorMap(randn, mps_virtual*mps_virtual', mps_phy),(1,2,3,),());\n",
    "\n"
   ]
  },
  {
   "cell_type": "code",
   "execution_count": 176,
   "metadata": {},
   "outputs": [],
   "source": [
    "#Ag,A_init=ITEBD_boundary_groundstate(O1,O2,W,A_init,\"OO\");\n"
   ]
  },
  {
   "cell_type": "code",
   "execution_count": 177,
   "metadata": {},
   "outputs": [
    {
     "name": "stdout",
     "output_type": "stream",
     "text": [
      "  1.204511 seconds (4.12 M allocations: 258.514 MiB, 8.85% gc time, 78.44% compilation time)\n",
      "E=0.1530650490409543 + 0.004715588332468271im, ov=0.4352098023230009\n",
      "  0.175798 seconds (923.34 k allocations: 83.464 MiB, 17.86% compilation time)\n",
      "E=0.15673978933839983 + 0.0017234241084421176im, ov=0.9924292631481638\n",
      "  0.142840 seconds (830.90 k allocations: 73.451 MiB)\n",
      "E=0.15739718107944875 + 0.000708861155094484im, ov=0.9989815693667304\n",
      "  0.146970 seconds (828.27 k allocations: 73.149 MiB)\n",
      "E=0.15760477918177818 + 0.00038155404704064144im, ov=0.9997594649302831\n",
      "  0.142131 seconds (828.27 k allocations: 73.149 MiB)\n",
      "E=0.15769072891364075 + 0.00026925442218274365im, ov=0.999880559732363\n",
      "  0.280092 seconds (829.83 k allocations: 73.322 MiB, 47.06% gc time)\n",
      "E=0.1577286483849104 + 0.0002166198810137493im, ov=0.9999145169113665\n",
      "  0.132558 seconds (828.27 k allocations: 73.149 MiB)\n",
      "E=0.15774405987788576 + 0.00017665608215103323im, ov=0.9999370236300039\n",
      "  0.141200 seconds (831.39 k allocations: 73.496 MiB)\n",
      "E=0.15774907899468676 + 0.00014135233722832596im, ov=0.9999592773872958\n",
      "  0.142164 seconds (828.27 k allocations: 73.149 MiB)\n",
      "E=0.15775080053399673 + 0.00011032418848086478im, ov=0.9999759814515455\n",
      "  0.144523 seconds (831.40 k allocations: 73.496 MiB)\n",
      "E=0.15775182734355028 + 8.4228417664034e-5im, ov=0.9999866264705953\n",
      "  0.141777 seconds (828.26 k allocations: 73.148 MiB)\n",
      "E=0.15775282094448664 + 6.319689939236761e-5im, ov=0.9999928341956523\n",
      "  0.143740 seconds (828.27 k allocations: 73.149 MiB)\n",
      "E=0.15775382165935972 + 4.6797123037886634e-5im, ov=0.9999962574925406\n",
      "  0.259557 seconds (828.26 k allocations: 73.149 MiB, 46.75% gc time)\n",
      "E=0.1577547486874198 + 3.430879807733711e-5im, ov=0.9999980763773766\n",
      "  0.147837 seconds (828.27 k allocations: 73.149 MiB)\n",
      "E=0.15775554250875234 + 2.4952637639061304e-5im, ov=0.9999990196754791\n",
      "  0.140758 seconds (828.26 k allocations: 73.148 MiB)\n",
      "E=0.15775618357826643 + 1.8017154868044116e-5im, ov=0.9999995018603535\n",
      "  0.141195 seconds (828.26 k allocations: 73.148 MiB)\n",
      "E=0.1577566796269681 + 1.2909088435875127e-5im, ov=0.9999997466402766\n",
      "  0.144381 seconds (828.26 k allocations: 73.148 MiB)\n",
      "E=0.15775705121864708 + 9.160326296261956e-6im, ov=0.9999998707658941\n",
      "  0.142538 seconds (828.26 k allocations: 73.148 MiB)\n",
      "E=0.15775732222525962 + 6.414568464091497e-6im, ov=0.9999999338949643\n",
      "  1.215435 seconds (828.26 k allocations: 73.148 MiB, 86.98% gc time)\n",
      "E=0.15775751499815865 + 4.407062135877715e-6im, ov=0.9999999661443896\n",
      "  0.148116 seconds (831.40 k allocations: 73.496 MiB)\n",
      "E=0.15775764864288144 + 2.943998296006667e-6im, ov=0.9999999826539935\n",
      "  0.140944 seconds (828.26 k allocations: 73.149 MiB)\n",
      "E=0.15775773889614333 + 1.8843654374933738e-6im, ov=0.9999999910760557\n"
     ]
    }
   ],
   "source": [
    "\n",
    "Ag,A_init=ITEBD_boundary_groundstate(O1,O2,W,A_init,\"O_O\");"
   ]
  },
  {
   "cell_type": "code",
   "execution_count": 247,
   "metadata": {},
   "outputs": [],
   "source": [
    "#save initial CTM to compare with other codes\n",
    "matwrite(\"itebd_matfile.mat\", Dict(\n",
    "    \"O1\" => convert(Array,O1),\n",
    "    \"O2\" => convert(Array,O2),\n",
    "    \"A_init\" => convert(Array,A_init),\n",
    "    \"Ag\" => convert(Array,Ag)\n",
    "); compress = false)\n",
    "\n"
   ]
  },
  {
   "cell_type": "code",
   "execution_count": 179,
   "metadata": {},
   "outputs": [],
   "source": [
    "#save data\n",
    "O1_dict=convert(Dict,O1);\n",
    "O2_dict=convert(Dict,O2);\n",
    "Ag_dict=convert(Dict,Ag);\n",
    "save(\"itebd_data.jld\", \"O1_dict\", O1_dict,\"O2_dict\", O2_dict,\"Ag_dict\", Ag_dict);\n",
    "\n",
    "\n"
   ]
  },
  {
   "cell_type": "code",
   "execution_count": 180,
   "metadata": {},
   "outputs": [],
   "source": [
    "#load data\n",
    "Ag_dict=load(\"itebd_data.jld\")[\"Ag_dict\"];\n",
    "O1_dict=load(\"itebd_data.jld\")[\"O1_dict\"];\n",
    "O2_dict=load(\"itebd_data.jld\")[\"O2_dict\"];\n",
    "Ag=convert(TensorMap,Ag_dict);\n",
    "O1=convert(TensorMap,O1_dict);\n",
    "O2=convert(TensorMap,O2_dict);\n"
   ]
  },
  {
   "cell_type": "code",
   "execution_count": 226,
   "metadata": {},
   "outputs": [
    {
     "data": {
      "text/plain": [
       "2025"
      ]
     },
     "metadata": {},
     "output_type": "display_data"
    },
    {
     "data": {
      "text/plain": [
       "(Rep[SU₂](0=>5, 1/2=>4, 1=>4) ⊗ Rep[SU₂](0=>1, 1/2=>1, 1=>1) ⊗ Rep[SU₂](0=>5, 1/2=>4, 1=>4)' ⊗ Rep[SU₂](0=>1, 1/2=>1, 1=>1)') ← ProductSpace{GradedSpace{SU2Irrep, TensorKit.SortedVectorDict{SU2Irrep, Int64}}, 0}()"
      ]
     },
     "metadata": {},
     "output_type": "display_data"
    }
   ],
   "source": [
    "\n",
    "space_AOA=fuse(space(Ag,1)'⊗space(O2,1)'⊗space(O1,1)⊗ space(Ag,1));\n",
    "space_AA=fuse(space(Ag,1)'⊗ space(Ag,1));\n",
    "\n",
    "AOA_sec=collect(sectors(space_AOA))\n",
    "AA_sec=collect(sectors(space_AA))\n",
    "\n",
    "@tensor OO[:]:=O1[-2,-3,-5,1]*O2[-1,1,-4,-6];\n",
    "U_fuse_chichi=unitary(fuse(space(OO,1)⊗ space(OO,2)),space(OO,1)⊗ space(OO,2));\n",
    "@tensor OO[:]:=U_fuse_chichi[-1,1,2]*OO[1,2,-2,3,4,-4]*U_fuse_chichi'[3,4,-3];\n",
    "display(space(OO))"
   ]
  },
  {
   "cell_type": "code",
   "execution_count": 182,
   "metadata": {},
   "outputs": [],
   "source": [
    "# W=20;chi=20;\n",
    "# (Rep[SU₂](0=>3, 1/2=>3, 1=>2, 3/2=>1)' ⊗ Rep[SU₂](0=>3, 1/2=>3, 1=>2, 3/2=>1) ⊗ Rep[SU₂](0=>1, 1/2=>2, 1=>1)') ← ProductSpace{GradedSpace{SU2Irrep, TensorKit.SortedVectorDict{SU2Irrep, Int64}}, 0}()\n",
    "# Rep[SU₂](0=>4999, 1/2=>8314, 1=>9146, 3/2=>7850, 2=>5503, 5/2=>3190, 3=>1521, 7/2=>584, 4=>173, 9/2=>36, 5=>4)"
   ]
  },
  {
   "cell_type": "code",
   "execution_count": 183,
   "metadata": {},
   "outputs": [
    {
     "data": {
      "text/plain": [
       "Irrep[SU₂](0)"
      ]
     },
     "metadata": {},
     "output_type": "display_data"
    },
    {
     "data": {
      "text/plain": [
       "Irrep[SU₂](1/2)"
      ]
     },
     "metadata": {},
     "output_type": "display_data"
    },
    {
     "data": {
      "text/plain": [
       "Irrep[SU₂](1)"
      ]
     },
     "metadata": {},
     "output_type": "display_data"
    },
    {
     "data": {
      "text/plain": [
       "Irrep[SU₂](3/2)"
      ]
     },
     "metadata": {},
     "output_type": "display_data"
    },
    {
     "data": {
      "text/plain": [
       "Irrep[SU₂](2)"
      ]
     },
     "metadata": {},
     "output_type": "display_data"
    },
    {
     "data": {
      "text/plain": [
       "Irrep[SU₂](5/2)"
      ]
     },
     "metadata": {},
     "output_type": "display_data"
    },
    {
     "data": {
      "text/plain": [
       "Irrep[SU₂](3)"
      ]
     },
     "metadata": {},
     "output_type": "display_data"
    },
    {
     "name": "stdout",
     "output_type": "stream",
     "text": [
      "(s, dim(space_AOA, s), dim(s)) = (Irrep[SU₂](0), 129, 1)\n",
      "(s, dim(space_AOA, s), dim(s)) = (Irrep[SU₂](1/2), 196, 2)\n",
      "(s, dim(space_AOA, s), dim(s)) = (Irrep[SU₂](1), 185, 3)\n",
      "(s, dim(space_AOA, s), dim(s)) = (Irrep[SU₂](3/2), 124, 4)\n",
      "(s, dim(space_AOA, s), dim(s)) = (Irrep[SU₂](2), 61, 5)\n",
      "(s, dim(space_AOA, s), dim(s)) = (Irrep[SU₂](5/2), 20, 6)\n",
      "(s, dim(space_AOA, s), dim(s)) = (Irrep[SU₂](3), 4, 7)\n"
     ]
    }
   ],
   "source": [
    "for s in sectors(space_AOA)\n",
    "  display(s)\n",
    "  @show s, dim(space_AOA, s), dim(s)\n",
    "end\n"
   ]
  },
  {
   "cell_type": "code",
   "execution_count": 184,
   "metadata": {},
   "outputs": [
    {
     "data": {
      "text/plain": [
       "Irrep[SU₂](0)"
      ]
     },
     "metadata": {},
     "output_type": "display_data"
    }
   ],
   "source": [
    "\n"
   ]
  },
  {
   "cell_type": "code",
   "execution_count": 296,
   "metadata": {},
   "outputs": [
    {
     "data": {
      "text/plain": [
       "group_numbers (generic function with 1 method)"
      ]
     },
     "metadata": {},
     "output_type": "display_data"
    }
   ],
   "source": [
    "\n",
    "function group_numbers(E_set)\n",
    "    Es=copy(E_set[1]);\n",
    "    for cc=2:length(E_set)\n",
    "        Es=vcat(Es,E_set[cc]);\n",
    "    end\n",
    "    return Es\n",
    "end"
   ]
  },
  {
   "cell_type": "code",
   "execution_count": 186,
   "metadata": {},
   "outputs": [
    {
     "data": {
      "text/plain": [
       "combine_singlespin_sector_bruteforce (generic function with 1 method)"
      ]
     },
     "metadata": {},
     "output_type": "display_data"
    }
   ],
   "source": [
    "# #attention: when the dimension is slightly large, converting dense matrix to tensormap is extremely difficult. It's better to define tensormap from Dict\n",
    "# using TensorKit\n",
    "# sp=Rep[SU₂](0=>129, 1/2=>196, 1=>185, 3/2=>124, 2=>61, 5/2=>20, 3=>4); #out of memory error for this dimension\n",
    "# sp=Rep[SU₂](0=>12, 1/2=>19, 1=>15, 3/2=>14, 2=>61, 5/2=>20, 3=>4); # it takes long time\n",
    "# tt=TensorMap(randn,sp←sp);\n",
    "# tt_dense=convert(Array,tt);\n",
    "# tt_new=TensorMap(tt_dense,sp,sp);\n",
    "function combine_singlespin_sector_bruteforce(E_set,vL_set,vR_set,spin_set)\n",
    "    E_set_new=copy(euL_set);\n",
    "    vL_set_new=copy(evL_set);\n",
    "    vR_set_new=copy(evR_set);\n",
    "    spin_set_new=copy(SPIN_eig_set);\n",
    "    for cc=1:length(E_set)\n",
    "        E=E_set[cc];\n",
    "        vL=vL_set[cc];\n",
    "        vR=vR_set[cc];\n",
    "        spin=spin_set[cc];\n",
    "        if length(vL)>0\n",
    "            single_size=size(convert(Array,vL[1]));\n",
    "            if length(single_size)==4\n",
    "                vL_grouped=zeros(Complex{Float64},single_size[1]*length(vL),single_size[2]*single_size[3]*single_size[4]);\n",
    "                vR_grouped=zeros(Complex{Float64},single_size[2]*single_size[3]*single_size[4],single_size[1]*length(vL));\n",
    "                E_grouped=zeros(Complex{Float64},single_size[1]*length(vL),single_size[1]*length(vL));\n",
    "                spin_dim=single_size[1];\n",
    "                Unitary=unitary(domain(vL[1]),fuse(domain(vL[1])));\n",
    "                for cs=1:length(E)\n",
    "                    vL_grouped[spin_dim*(cs-1)+1:spin_dim*cs,:]=convert(Array,vL[cs]*Unitary);\n",
    "                    vR_grouped[:,spin_dim*(cs-1)+1:spin_dim*cs]=convert(Array,Unitary'*vR[cs]);\n",
    "                    E_grouped[spin_dim*(cs-1)+1:spin_dim*cs,spin_dim*(cs-1)+1:spin_dim*cs]=E[cs]*Matrix(I, spin_dim,spin_dim);\n",
    "                end\n",
    "                space_single_spin=SU₂Space(spin[1]=>length(E));\n",
    "\n",
    "                vL_grouped=TensorMap(vL_grouped,space_single_spin←fuse(domain(vL[1])));\n",
    "                vR_grouped=TensorMap(vR_grouped,fuse(domain(vL[1])) ← space_single_spin);\n",
    "                E_grouped=TensorMap(E_grouped,space_single_spin ← space_single_spin);\n",
    "\n",
    "                vL_grouped=vL_grouped*Unitary';\n",
    "                vR_grouped=Unitary * vR_grouped;\n",
    "\n",
    "                vL_set_new[cc]=vL_grouped;\n",
    "                vR_set_new[cc]=vR_grouped;\n",
    "                E_set_new[cc]=E_grouped;\n",
    "                spin_set_new[cc]=spin_set[cc][1]\n",
    "                # display(Base.summarysize(vL_grouped))\n",
    "                # display(space(vL_grouped))\n",
    "                # display(Base.summarysize(vL))\n",
    "            elseif length(single_size)==3\n",
    "            end\n",
    "        end\n",
    "    end\n",
    "    return E_set_new,vL_set_new,vR_set_new,spin_set_new\n",
    "end\n"
   ]
  },
  {
   "cell_type": "code",
   "execution_count": 188,
   "metadata": {},
   "outputs": [
    {
     "data": {
      "text/plain": [
       "combine_singlespin_sector (generic function with 2 methods)"
      ]
     },
     "metadata": {},
     "output_type": "display_data"
    }
   ],
   "source": [
    "function combine_singlespin_sector(E_set,vL_set,vR_set,spin_set,is_eig)\n",
    "    E_set_new=copy(E_set);\n",
    "    vL_set_new=copy(vL_set);\n",
    "    vR_set_new=copy(vR_set);\n",
    "    spin_set_new=copy(spin_set);\n",
    "    for cc=1:length(E_set)\n",
    "        E=E_set[cc];\n",
    "        vL=vL_set[cc];\n",
    "        vR=vR_set[cc];\n",
    "        spin=spin_set[cc];\n",
    "        if length(vL)>0\n",
    "\n",
    "            sec=Irrep[SU₂](spin[1]);\n",
    "            space_single_spin=SU₂Space(spin[1]=>length(E));\n",
    "            dim_full=dim(fuse(domain(vL[1])),sec);\n",
    "            vL_grouped=zeros(Complex{Float64},length(vL),dim_full);\n",
    "            vR_grouped=zeros(Complex{Float64},dim_full,length(vL));\n",
    "            E_grouped=zeros(Complex{Float64},length(vL),length(vL));\n",
    "\n",
    "            Unitary=unitary(domain(vL[1]),fuse(domain(vL[1])));\n",
    "            for cs=1:length(E)\n",
    "                vL_grouped[cs,:]=convert(Dict,vL[cs]*Unitary)[:data][string(sec)];\n",
    "                vR_grouped[:,cs]=convert(Dict,Unitary'*vR[cs])[:data][string(sec)];\n",
    "                E_grouped[cs,cs]=E[cs];\n",
    "            end\n",
    "\n",
    "            if is_eig\n",
    "                Q=zeros(Complex{Float64},length(E),length(E))\n",
    "                for ca=1:length(E)\n",
    "                    for cb=1:length(E)\n",
    "                        Q[ca,cb]=tr(vL[ca]*vR[cb])\n",
    "                    end\n",
    "                end\n",
    "                #Q=vL_grouped*vR_grouped;#the normalization of this line is inccorect, due to the dimension of spin space\n",
    "                vL_grouped=pinv(Q)*vL_grouped;\n",
    "            end\n",
    "\n",
    "            vL_grouped_rand=TensorMap(randn,space_single_spin←fuse(domain(vL[1])));\n",
    "            vR_grouped_rand=TensorMap(randn,fuse(domain(vL[1])) ← space_single_spin);\n",
    "            E_grouped_rand=TensorMap(randn,space_single_spin ← space_single_spin);\n",
    "\n",
    "            vL_grouped_dict=convert(Dict,vL_grouped_rand);\n",
    "            vL_grouped_dict[:data][string(sec)]=vL_grouped;\n",
    "            vL_grouped=convert(TensorMap,vL_grouped_dict);\n",
    "            vL_grouped=vL_grouped*Unitary';\n",
    "\n",
    "            vR_grouped_dict=convert(Dict,vR_grouped_rand);\n",
    "            vR_grouped_dict[:data][string(sec)]=vR_grouped;\n",
    "            vR_grouped=convert(TensorMap,vR_grouped_dict);\n",
    "            vR_grouped=Unitary*vR_grouped;\n",
    "\n",
    "            E_grouped_dict=convert(Dict,E_grouped_rand);\n",
    "            E_grouped_dict[:data][string(sec)]=E_grouped;\n",
    "            E_grouped=convert(TensorMap,E_grouped_dict);\n",
    "\n",
    "            vL_set_new[cc]=vL_grouped;\n",
    "            vR_set_new[cc]=vR_grouped;\n",
    "            E_set_new[cc]=E_grouped;\n",
    "            spin_set_new[cc]=spin_set_new[cc][1]\n",
    "            # display(Base.summarysize(vL_grouped))\n",
    "            # display(space(vL_grouped))\n",
    "            # display(Base.summarysize(vL))\n",
    "\n",
    "        end\n",
    "    end\n",
    "    return E_set_new,vL_set_new,vR_set_new,spin_set_new\n",
    "end\n",
    "\n",
    "\n"
   ]
  },
  {
   "cell_type": "code",
   "execution_count": 189,
   "metadata": {},
   "outputs": [
    {
     "data": {
      "text/plain": [
       "truncate_sectors (generic function with 1 method)"
      ]
     },
     "metadata": {},
     "output_type": "display_data"
    }
   ],
   "source": [
    "\n",
    "function truncate_sectors(n,eu_set,ev_set,ev_set2,spin_set)\n",
    "    eu_full=eu_set[1]\n",
    "    dim_full=2*spin_set[1].+1\n",
    "    for cc=2:length(eu_set)\n",
    "        eu_full=vcat(eu_full, eu_set[cc])\n",
    "        dim_full=vcat(dim_full, 2*spin_set[cc].+1)\n",
    "    end\n",
    "    dim_full=Int.(round.(dim_full))\n",
    "\n",
    "    order=sortperm(abs.(eu_full),rev=true);\n",
    "    eu_full_sorted=eu_full[order];\n",
    "    dim_full_sorted=dim_full[order];\n",
    "\n",
    "    total_size=dim_full_sorted[1];\n",
    "    old_value=eu_full_sorted[1];\n",
    "    for cc=2:length(eu_full_sorted)\n",
    "        total_size=total_size+dim_full_sorted[cc];\n",
    "        new_value=eu_full_sorted[cc];\n",
    "        if total_size>n\n",
    "            break;\n",
    "        end\n",
    "        old_value=new_value;\n",
    "    end\n",
    "\n",
    "    for cc=1:length(eu_set)\n",
    "        spins=spin_set[cc];\n",
    "        eu=eu_set[cc];\n",
    "        ev=ev_set[cc];\n",
    "        inds=findall(x->abs(x)>=abs(old_value), abs.(eu));\n",
    "        eu=eu[inds];\n",
    "        ev=ev[inds];\n",
    "        spins=spins[inds];\n",
    "        eu_set[cc]=eu;\n",
    "        ev_set[cc]=ev;\n",
    "        spin_set[cc]=spins;\n",
    "        if ~(ev_set2==[])\n",
    "            ev2=ev_set2[cc];\n",
    "            ev2=ev2[inds];\n",
    "            ev_set2[cc]=ev2;\n",
    "        end\n",
    "    end\n",
    "return eu_set,ev_set,ev_set2,spin_set\n",
    "\n",
    "end\n"
   ]
  },
  {
   "cell_type": "code",
   "execution_count": 397,
   "metadata": {},
   "outputs": [
    {
     "data": {
      "text/plain": [
       "HV_FR (generic function with 1 method)"
      ]
     },
     "metadata": {},
     "output_type": "display_data"
    }
   ],
   "source": [
    "function FLR_eig(A,O,n,full_space,sector_set)\n",
    "    SPIN_set=Vector{Any}(undef, length(sector_set));\n",
    "    euL_set=Vector{Any}(undef, length(sector_set));\n",
    "    evL_set=Vector{Any}(undef, length(sector_set));\n",
    "    euR_set=Vector{Any}(undef, length(sector_set));\n",
    "    evR_set=Vector{Any}(undef, length(sector_set));\n",
    "    #println(\"FLR_eig: \")\n",
    "    for cc=1:length(sector_set)\n",
    "        sec=sector_set[cc];\n",
    "        spin=(dim(sec)-1)/2;\n",
    "        n_eff=Int(round(n/dim(sec)))+1\n",
    "        #println(\"spin \"*string(spin))\n",
    "\n",
    "        FLR_eig_L(x)=HV_FL(x,A,O);\n",
    "        vl_init=permute(TensorMap(randn, SU₂Space(spin=>1),space(A',1)*space(O,1)*space(A,1)), (1,2,3,4,),());# assume that the dominant eigenvector has total spin zero. If not, it will have three indeces and it's not Hermiitan.\n",
    "        try\n",
    "            euL,evL,info=eigsolve(FLR_eig_L, vl_init, minimum([n_eff,dim(full_space,sec)]),:LM, Arnoldi(krylovdim=minimum([n_eff,dim(full_space,sec)])*4));\n",
    "            @assert info.converged >= minimum([n_eff,dim(full_space,sec)])\n",
    "        catch e\n",
    "            println(\"Number of eigenvalues obtained are not enough, use smaller tol\")\n",
    "            euL,evL,info=eigsolve(FLR_eig_L, vl_init, minimum([n_eff,dim(full_space,sec)]),:LM, Arnoldi(krylovdim=minimum([n_eff,dim(full_space,sec)])*8, tol=1e-14));\n",
    "            if minimum(abs.(euL))/maximum(abs.(euL))<1e-7\n",
    "                display(\"minimal singular value in this sector is quite small, skip checking number of converged values\")\n",
    "            else\n",
    "                if  info.converged >= minimum([n_eff,dim(full_space,sec)])\n",
    "                    @warn \"number of values converged is not enough\"\n",
    "                end\n",
    "            end\n",
    "        end\n",
    "        @assert abs.(euL)==sort(abs.(euL), rev=true)\n",
    "        euL=euL[1:minimum([length(euL),n_eff,dim(full_space,sec)])];\n",
    "        evL=evL[1:minimum([length(evL),n_eff,dim(full_space,sec)])];\n",
    "        euL_set[cc]=euL;\n",
    "        evLL=evL;\n",
    "        evL=Vector{Any}(undef, length(evLL));\n",
    "        for cs=1:length(evL)\n",
    "            evL[cs]=permute(evLL[cs],(1,),(2,3,4,))\n",
    "        end\n",
    "        evL_set[cc]=evL;\n",
    "        SPIN_set[cc]=ones(length(euL))*(dim(sec)-1)/2;\n",
    "        \n",
    "        FLR_eig_R(x)=HV_FR(x,A,O);\n",
    "        vr_init=permute(TensorMap(randn, space(A',2)'*space(O,3)'*space(A,2)',SU₂Space(spin=>1)), (1,2,3,4,),());# assume that the dominant eigenvector has total spin zero. If not, it will have three indeces and it's not Hermiitan.\n",
    "        try\n",
    "            euR,evR,info=eigsolve(FLR_eig_R, vr_init, minimum([n_eff,dim(full_space,sec)]),:LM, Arnoldi(krylovdim=minimum([n_eff,dim(full_space,sec)])*4));\n",
    "            @assert info.converged >= minimum([n_eff,dim(full_space,sec)])\n",
    "        catch e\n",
    "            println(\"Number of eigenvalues obtained are not enough, use smaller tol\")\n",
    "            euR,evR,info=eigsolve(FLR_eig_R, vr_init, minimum([n_eff,dim(full_space,sec)]),:LM, Arnoldi(krylovdim=minimum([n_eff,dim(full_space,sec)])*4, tol=1e-14));\n",
    "            if minimum(abs.(euR))/maximum(abs.(euR))<1e-7\n",
    "                display(\"minimal singular value in this sector is quite small, skip checking number of converged values\")\n",
    "            else\n",
    "                if  info.converged >= minimum([n_eff,dim(full_space,sec)])\n",
    "                    @warn \"number of values converged is not enough\"\n",
    "                end\n",
    "            end\n",
    "        end\n",
    "        @assert abs.(euR)==sort(abs.(euR), rev=true)\n",
    "        euR=euR[1:minimum([length(euR),n_eff,dim(full_space,sec)])];\n",
    "        evR=evR[1:minimum([length(evR),n_eff,dim(full_space,sec)])];\n",
    "        euR_set[cc]=euR;\n",
    "        evRR=evR;\n",
    "        evR=Vector{Any}(undef, length(evRR));\n",
    "        for cs=1:length(evR)\n",
    "            evR[cs]=permute(evRR[cs],(1,2,3,),(4,))\n",
    "        end\n",
    "        evR_set[cc]=evR;\n",
    "\n",
    "        @assert (norm(abs.(euL)-abs.(euR))/norm(euL))<1e-8\n",
    "    end\n",
    "    return euL_set,evL_set,euR_set,evR_set,SPIN_set     \n",
    "end\n",
    "        \n",
    "function HV_FL(vl,A,mpo)\n",
    "    @tensor vl[:]:=vl[-1,1,3,5]*A'[1,-2,2]*mpo[3,4,-3,2]*A[5,-4,4];\n",
    "    return vl\n",
    "end\n",
    "\n",
    "function HV_FR(vr,A,mpo)\n",
    "    @tensor vr[:]:=A'[-1,1,2]*mpo[-2,4,3,2]*A[-3,5,4]*vr[1,3,5,-4];\n",
    "    return vr\n",
    "end\n",
    " \n",
    "        \n"
   ]
  },
  {
   "cell_type": "code",
   "execution_count": 396,
   "metadata": {},
   "outputs": [
    {
     "data": {
      "text/plain": [
       "GLR_eig (generic function with 1 method)"
      ]
     },
     "metadata": {},
     "output_type": "display_data"
    }
   ],
   "source": [
    "function GLR_eig(A,n,full_space,sector_set)\n",
    "    spin_set=Vector{Any}(undef, length(sector_set));\n",
    "    eul_set=Vector{Any}(undef, length(sector_set));\n",
    "    evl_set=Vector{Any}(undef, length(sector_set));\n",
    "    eur_set=Vector{Any}(undef, length(sector_set));\n",
    "    evr_set=Vector{Any}(undef, length(sector_set));\n",
    "    #println(\"GLR_eig: \")\n",
    "    for cc=1:length(sector_set)\n",
    "        sec=sector_set[cc];\n",
    "        spin=(dim(sec)-1)/2;\n",
    "        n_eff=Int(round(n/dim(sec)))+1\n",
    "        #println(\"spin \"*string(spin))\n",
    "        \n",
    "        GLR_eig_L(x)=HV_L_tensor(x,A,[]);\n",
    "        vl_init=permute(TensorMap(randn, SU₂Space(spin=>1),space(A',1)*space(A,1)), (1,2,3,),());# assume that the dominant eigenvector has total spin zero. If not, it will have three indeces and it's not Hermiitan.\n",
    "        try\n",
    "            eul,evl,info=eigsolve(GLR_eig_L, vl_init, minimum([n_eff,dim(full_space,sec)]),:LM,Arnoldi(krylovdim=minimum([n_eff,dim(full_space,sec)])*4));\n",
    "            @assert info.converged >= minimum([n_eff,dim(full_space,sec)])\n",
    "        catch e\n",
    "            println(\"Number of eigenvalues obtained are not enough, use smaller tol\")\n",
    "            eul,evl,info=eigsolve(GLR_eig_L, vl_init, minimum([n_eff,dim(full_space,sec)]),:LM,Arnoldi(krylovdim=minimum([n_eff,dim(full_space,sec)])*4, tol=1e-14));\n",
    "            if minimum(abs.(eul))/maximum(abs.eu(l))<1e-7\n",
    "                display(\"minimal singular value in this sector is quite small, skip checking number of converged values\")\n",
    "            else\n",
    "                if  info.converged >= minimum([n_eff,dim(full_space,sec)])\n",
    "                    @warn \"number of values converged is not enough\"\n",
    "                end\n",
    "            end\n",
    "        end\n",
    "        @assert abs.(eul)==sort(abs.(eul), rev=true)\n",
    "        \n",
    "        eul=eul[1:minimum([length(eul),n_eff,dim(full_space,sec)])];\n",
    "        evl=evl[1:minimum([length(evl),n_eff,dim(full_space,sec)])];\n",
    "        eul_set[cc]=eul;\n",
    "        evll=evl;\n",
    "        evl=Vector{Any}(undef, length(evll));\n",
    "        for cs=1:length(evl)\n",
    "            evl[cs]=permute(evll[cs],(1,),(2,3,))\n",
    "        end\n",
    "        evl_set[cc]=evl;\n",
    "        spin_set[cc]=ones(length(eul))*(dim(sec)-1)/2;\n",
    "\n",
    "        GLR_eig_R(x)=HV_R_tensor(x,A,[]);\n",
    "        vr_init=permute(TensorMap(randn, space(A',2)'*space(A,2)',SU₂Space(spin=>1)), (1,2,3,),());# assume that the dominant eigenvector has total spin zero. If not, it will have three indeces and it's not Hermiitan.\n",
    "        try\n",
    "            eur,evr,info=eigsolve(GLR_eig_R, vr_init, minimum([n_eff,dim(full_space,sec)]),:LM,Arnoldi(krylovdim=minimum([n_eff,dim(full_space,sec)])*4));\n",
    "            @assert info.converged >= minimum([n_eff,dim(full_space,sec)])\n",
    "        catch e\n",
    "            println(\"Number of eigenvalues obtained are not enough, use smaller tol\")\n",
    "            eur,evr,info=eigsolve(GLR_eig_R, vr_init, minimum([n_eff,dim(full_space,sec)]),:LM,Arnoldi(krylovdim=minimum([n_eff,dim(full_space,sec)])*8, tol=1e-14));\n",
    "            if minimum(abs.(eur))/maximum(abs.(eur))<1e-7\n",
    "                display(\"minimal singular value in this sector is quite small, skip checking number of converged values\")\n",
    "            else\n",
    "                if  info.converged >= minimum([n_eff,dim(full_space,sec)])\n",
    "                    @warn \"number of values converged is not enough\"\n",
    "                end\n",
    "            end\n",
    "        end\n",
    "        @assert abs.(eur)==sort(abs.(eur), rev=true)\n",
    "        eur=eur[1:minimum([length(eur),n_eff,dim(full_space,sec)])];\n",
    "        evr=evr[1:minimum([length(evl),n_eff,dim(full_space,sec)])];\n",
    "        eur_set[cc]=eur;\n",
    "        evrr=evr;\n",
    "        evr=Vector{Any}(undef, length(evrr));\n",
    "        for cs=1:length(evr)\n",
    "            evr[cs]=permute(evrr[cs],(1,2,),(3,))\n",
    "        end\n",
    "        evr_set[cc]=evr;\n",
    "\n",
    "        @assert (norm(abs.(eul)-abs.(eur))/norm(eul))<1e-8\n",
    "\n",
    "    end\n",
    "    return eul_set,evl_set,eur_set,evr_set,spin_set   \n",
    "end\n",
    "    \n",
    "    \n",
    "    "
   ]
  },
  {
   "cell_type": "code",
   "execution_count": 412,
   "metadata": {},
   "outputs": [
    {
     "data": {
      "text/plain": [
       "HV_FR_conj_pow (generic function with 1 method)"
      ]
     },
     "metadata": {},
     "output_type": "display_data"
    }
   ],
   "source": [
    "function FLR_svd(A,O,pow,n,full_space,sector_set)\n",
    "    SPIN_set=Vector{Any}(undef, length(sector_set));\n",
    "    S_set=Vector{Any}(undef, length(sector_set));\n",
    "    U_set=Vector{Any}(undef, length(sector_set));\n",
    "    Vh_set=Vector{Any}(undef, length(sector_set));\n",
    "    #display(\"FLR_svd: \")\n",
    "    for cc=1:length(sector_set)\n",
    "        sec=sector_set[cc];\n",
    "        spin=(dim(sec)-1)/2;\n",
    "        n_eff=Int(round(n/dim(sec)))+1\n",
    "        #display(\"spin \"*string(spin))\n",
    "\n",
    "        FLR_svd_R(x)=HV_FR_pow(x,A,O,pow);\n",
    "        FLR_svd_R_conj(x)=HV_FR_conj_pow(x,A,O,pow);\n",
    "        vl_init=permute(TensorMap(randn, SU₂Space(spin=>1),space(A',1)*space(O,1)*space(A,1)), (1,2,3,4,),());# assume that the dominant eigenvector has total spin zero. If not, it will have three indeces and it's not Hermiitan.\n",
    "        vr_init=permute(TensorMap(randn, space(A',2)'*space(O,3)'*space(A,2)',SU₂Space(spin=>1)), (1,2,3,4,),());# assume that the dominant eigenvector has total spin zero. If not, it will have three indeces and it's not Hermiitan.\n",
    "        try\n",
    "            S,U,V,info=svdsolve((FLR_svd_R,FLR_svd_R_conj), vr_init, minimum([n_eff,dim(full_space,sec)]),:LR, krylovdim=minimum([n_eff,dim(full_space,sec)])*4);\n",
    "            if minimum(S)/maximum(S)<1e-7\n",
    "                display(\"minimal singular value in this sector is quite small, skip checking number of converged values\")\n",
    "            else\n",
    "                @assert info.converged >= minimum([n_eff,dim(full_space,sec)])\n",
    "            end\n",
    "        catch e\n",
    "            println(\"Number of singular values obtained are not enough, use smaller tol\")\n",
    "            S,U,V,info=svdsolve((FLR_svd_R,FLR_svd_R_conj), vr_init, minimum([n_eff,dim(full_space,sec)]),:LR, krylovdim=minimum([n_eff,dim(full_space,sec)])*8, tol=(1e-14));\n",
    "            if minimum(S)/maximum(S)<1e-7\n",
    "                display(\"minimal singular value in this sector is quite small, skip checking number of converged values\")\n",
    "            else\n",
    "                if  info.converged >= minimum([n_eff,dim(full_space,sec)])\n",
    "                    @warn \"number of values converged is not enough\"\n",
    "                end\n",
    "            end\n",
    "        end\n",
    "        @assert abs.(S)==sort(abs.(S), rev=true)\n",
    "        S=S[1:minimum([length(S),n_eff,dim(full_space,sec)])];\n",
    "        U=U[1:minimum([length(U),n_eff,dim(full_space,sec)])];\n",
    "        V=V[1:minimum([length(V),n_eff,dim(full_space,sec)])];\n",
    "\n",
    "        UU=U;\n",
    "        U=Vector{Any}(undef, length(UU));\n",
    "        for cs=1:length(U)\n",
    "            U[cs]=permute(UU[cs],(1,2,3,),(4,))\n",
    "        end\n",
    "\n",
    "        Vh=Vector{Any}(undef, length(V));\n",
    "        for cs=1:length(Vh)\n",
    "            vvr=V[cs];\n",
    "            Vh[cs]=permute(vvr',(4,),(1,2,3,));\n",
    "        end\n",
    "        S_set[cc]=S;\n",
    "        U_set[cc]=U;\n",
    "        Vh_set[cc]=Vh;\n",
    "        SPIN_set[cc]=ones(length(S))*(dim(sec)-1)/2;\n",
    "        \n",
    "    end\n",
    "    return S_set,U_set,Vh_set,SPIN_set     \n",
    "end\n",
    "            \n",
    "\n",
    "function HV_FR_pow(vr,A,mpo,pow)\n",
    "    for cc=1:pow\n",
    "        vr=HV_FR(vr,A,mpo);\n",
    "    end\n",
    "    return vr\n",
    "end\n",
    "function HV_FR_conj(vr,A,mpo)\n",
    "    @tensor vr[:]:=A[1,-1,2]*mpo'[3,4,-2,2]*A'[5,-3,4]*vr[1,3,5,-4];\n",
    "    return vr\n",
    "end\n",
    "function HV_FR_conj_pow(vr,A,mpo,pow)\n",
    "    for cc=1:pow\n",
    "        vr=HV_FR_conj(vr,A,mpo);\n",
    "    end\n",
    "    return vr\n",
    "end\n",
    "    \n"
   ]
  },
  {
   "cell_type": "code",
   "execution_count": 394,
   "metadata": {},
   "outputs": [
    {
     "data": {
      "text/plain": [
       "HV_R_conj_pow (generic function with 1 method)"
      ]
     },
     "metadata": {},
     "output_type": "display_data"
    }
   ],
   "source": [
    "function GLR_svd(A,pow,n,full_space,sector_set)\n",
    "    spin_set=Vector{Any}(undef, length(sector_set));\n",
    "    s_set=Vector{Any}(undef, length(sector_set));\n",
    "    u_set=Vector{Any}(undef, length(sector_set));\n",
    "    vh_set=Vector{Any}(undef, length(sector_set));\n",
    "    A_noise=TensorMap(randn, codomain(A),domain(A));\n",
    "    A_noise=A_noise/norm(A_noise)*norm(A)*1e-9;\n",
    "    #println(\"GLR_svd: \")\n",
    "    for cc=1:length(sector_set)\n",
    "        sec=sector_set[cc];\n",
    "        spin=(dim(sec)-1)/2;\n",
    "        n_eff=Int(round(n/dim(sec)))+1\n",
    "        #println(\"spin \"*string(spin))\n",
    "\n",
    "\n",
    "        vr_init=permute(TensorMap(randn, space(A',2)'*space(A,2)',SU₂Space(spin=>1)), (1,2,3,),());# assume that the dominant eigenvector has total spin zero. If not, it will have three indeces and it's not Hermiitan.\n",
    "        try\n",
    "            GLR_svd_R(x)=HV_R_pow(x,A,pow,A_noise*0);\n",
    "            GLR_svd_R_conj(x)=HV_R_conj_pow(x,A,pow,A_noise*0);\n",
    "            s,u,v,info=svdsolve((GLR_svd_R,GLR_svd_R_conj), vr_init, minimum([n_eff,dim(full_space,sec)]),:LR, krylovdim=minimum([n_eff,dim(full_space,sec)])*4);\n",
    "            @assert info.converged >= minimum([n_eff,dim(full_space,sec)])    \n",
    "        catch e\n",
    "            GLR_svd_R(x)=HV_R_pow(x,A,pow,A_noise);\n",
    "            GLR_svd_R_conj(x)=HV_R_conj_pow(x,A,pow,A_noise);\n",
    "            println(\"Number of singular values obtained are not enough, add noise, increase Krylov subspace and use smaller tol\")\n",
    "            s,u,v,info=svdsolve((GLR_svd_R,GLR_svd_R_conj), vr_init, minimum([n_eff,dim(full_space,sec)]),:LR, krylovdim=minimum([n_eff,dim(full_space,sec)])*8, tol=1e-14);\n",
    "            if minimum(s)/maximum(s)<1e-7\n",
    "                display(\"minimal singular value in this sector is quite small, skip checking number of converged values\")\n",
    "            else\n",
    "                if  info.converged >= minimum([n_eff,dim(full_space,sec)])\n",
    "                    @warn \"number of values converged is not enough\"\n",
    "                end\n",
    "            end\n",
    "        end\n",
    "        @assert abs.(s)==sort(abs.(s), rev=true)\n",
    "    \n",
    "        s=s[1:minimum([length(s),n_eff,dim(full_space,sec)])];\n",
    "        u=u[1:minimum([length(u),n_eff,dim(full_space,sec)])];\n",
    "        v=v[1:minimum([length(v),n_eff,dim(full_space,sec)])];\n",
    "\n",
    "        uu=u;\n",
    "        u=Vector{Any}(undef, length(u));\n",
    "        for cs=1:length(u)\n",
    "            u[cs]=permute(uu[cs],(1,2,),(3,))\n",
    "        end\n",
    "\n",
    "        vh=Vector{Any}(undef, length(v));\n",
    "        for cs=1:length(vh)\n",
    "            vvr=v[cs];\n",
    "            vh[cs]=permute(vvr',(3,),(1,2,));\n",
    "        end\n",
    "        s_set[cc]=s;\n",
    "        u_set[cc]=u;\n",
    "        vh_set[cc]=vh;\n",
    "        spin_set[cc]=ones(length(s))*(dim(sec)-1)/2;\n",
    "        \n",
    "    end\n",
    "    return s_set,u_set,vh_set,spin_set     \n",
    "end\n",
    "\n",
    "function HV_R_pow(vr,A,pow,A_noise)\n",
    "    A_=A+A_noise;\n",
    "    for cc=1:pow\n",
    "        @tensor vr[:]:=A_'[-1,1,2]*A[-2,3,2]*vr[1,3,-3];\n",
    "    end\n",
    "    return vr\n",
    "end\n",
    "\n",
    "function HV_R_conj_pow(vr,A,pow,A_noise)\n",
    "    A_=A+A_noise;\n",
    "    for cc=1:pow\n",
    "        @tensor vr[:]:=A_[1,-1,2]*A'[3,-2,2]*vr[1,3,-3];\n",
    "    end\n",
    "    return vr\n",
    "end\n",
    "\n"
   ]
  },
  {
   "cell_type": "code",
   "execution_count": 291,
   "metadata": {},
   "outputs": [
    {
     "data": {
      "text/plain": [
       "TransfOp_decom (generic function with 1 method)"
      ]
     },
     "metadata": {},
     "output_type": "display_data"
    }
   ],
   "source": [
    "\n",
    "function TransfOp_decom(A,O,total_space,total_sec,pow,Dtrun_init,Dtrun_max,trun_tol,method)\n",
    "    # euL_set,evL_set,euR_set,evR_set,SPIN_eig_set=FLR_eig(Ag,OO,Dtrun,space_AOA,AOA_sec);\n",
    "\n",
    "    # eul_set,evl_set,eur_set,evr_set,spin_eig_set=GLR_eig(Ag,Dtrun,space_AA,AA_sec);\n",
    "\n",
    "    # S_set,U_set,Vh_set,SPIN_svd_set=FLR_svd(Ag,OO,pow,Dtrun,space_AOA,AOA_sec);\n",
    "\n",
    "    # s_set,u_set,vh_set,spin_svd_set=GLR_svd(Ag,pow,Dtrun,space_AA,AA_sec);\n",
    "\n",
    "\n",
    "    # euR_set,evL_set,evR_set,SPIN_eig_set=truncate_sectors(Dtrun,euR_set,evL_set,evR_set,SPIN_eig_set);\n",
    "\n",
    "    # eur_set,evl_set,evr_set,spin_eig_set=truncate_sectors(Dtrun,eur_set,evl_set,evr_set,spin_eig_set);\n",
    "\n",
    "    # S_set,U_set,Vh_set,SPIN_svd_set=truncate_sectors(Dtrun,S_set,U_set,Vh_set,SPIN_svd_set);\n",
    "\n",
    "    # s_set,u_set,vh_set,spin_svd_set=truncate_sectors(Dtrun,s_set,u_set,vh_set,spin_svd_set);\n",
    "\n",
    "\n",
    "    Dstep=50;\n",
    "    Dtrun=Dtrun_init;\n",
    "    if method==\"eigenvalue_FLR\"\n",
    "        evL_set=Vector{Any}(undef, length(total_sec));\n",
    "        euR_set=Vector{Any}(undef, length(total_sec));\n",
    "        evR_set=Vector{Any}(undef, length(total_sec));\n",
    "        SPIN_eig_set=Vector{Any}(undef, length(total_sec));\n",
    "        for cs=1:Int(round((Dtrun_max-Dtrun_init)/Dstep))+1\n",
    "            _,evL_set,euR_set,evR_set,SPIN_eig_set=FLR_eig(A,O,Dtrun,total_space,total_sec);\n",
    "            euR_set,evL_set,evR_set,SPIN_eig_set=truncate_sectors(Dtrun,euR_set,evL_set,evR_set,SPIN_eig_set);\n",
    "            eu=abs.(group_numbers(euR_set));\n",
    "            eu_normed=eu/maximum(eu); \n",
    "            eu_normed=eu_normed.^pow;\n",
    "            display(\"FLR_eig, Dtrun=\"*string(Dtrun)*\", minimal eigenvalue: \"*string(minimum(eu_normed)))\n",
    "            if minimum(eu_normed)<trun_tol\n",
    "                break;\n",
    "            else\n",
    "                if Dtrun>dim(total_space)\n",
    "                    display(\"Dtrun exceeds matrix size\")\n",
    "                    break;\n",
    "                end\n",
    "                Dtrun=Dtrun+Dstep;\n",
    "            end\n",
    "        end\n",
    "        \n",
    "        eu=abs.(group_numbers(euR_set));\n",
    "        \n",
    "        for cc=1:length(euR_set)\n",
    "            euR=euR_set[cc];\n",
    "            evL=evL_set[cc];\n",
    "            evR=evR_set[cc];\n",
    "            SPIN_eig=SPIN_eig_set[cc];\n",
    "            for cs=length(euR):-1:1\n",
    "                if ((abs(euR[cs]))/maximum(eu))^pow<trun_tol\n",
    "                    deleteat!(euR, cs);\n",
    "                    deleteat!(evR, cs);\n",
    "                    deleteat!(evL, cs);\n",
    "                    deleteat!(SPIN_eig, cs);\n",
    "                end\n",
    "            end\n",
    "            euR_set[cc]=euR;\n",
    "            evL_set[cc]=evL;\n",
    "            evR_set[cc]=evR;\n",
    "            SPIN_eig_set[cc]=SPIN_eig;\n",
    "        end\n",
    "        \n",
    "        return euR_set,evL_set,evR_set,SPIN_eig_set\n",
    "\n",
    "    elseif method==\"eigenvalue_GLR\"\n",
    "        evl_set=Vector{Any}(undef, length(total_sec));\n",
    "        eur_set=Vector{Any}(undef, length(total_sec));\n",
    "        evr_set=Vector{Any}(undef, length(total_sec));\n",
    "        spin_eig_set=Vector{Any}(undef, length(total_sec));\n",
    "        for cs=1:Int(round((Dtrun_max-Dtrun_init)/Dstep))+1\n",
    "            _,evl_set,eur_set,evr_set,spin_eig_set=GLR_eig(A,Dtrun,total_space,total_sec);\n",
    "            eur_set,evl_set,evr_set,spin_eig_set=truncate_sectors(Dtrun,eur_set,evl_set,evr_set,spin_eig_set);\n",
    "            eu=abs.(group_numbers(eur_set));\n",
    "            eu_normed=eu/maximum(eu); \n",
    "            eu_normed=eu_normed.^pow;\n",
    "            display(\"GLR_eig, Dtrun=\"*string(Dtrun)*\", minimal eigenvalue: \"*string(minimum(eu_normed)))\n",
    "            if minimum(eu_normed)<trun_tol\n",
    "                break;\n",
    "            else\n",
    "                if Dtrun>dim(total_space)\n",
    "                    display(\"Dtrun exceeds matrix size\")\n",
    "                    break;\n",
    "                end\n",
    "                Dtrun=Dtrun+Dstep;\n",
    "            end\n",
    "        end\n",
    "\n",
    "        eu=abs.(group_numbers(eur_set));\n",
    "        \n",
    "        for cc=1:length(eur_set)\n",
    "            eur=eur_set[cc];\n",
    "            evl=evl_set[cc];\n",
    "            evr=evr_set[cc];\n",
    "            spin_eig=spin_eig_set[cc];\n",
    "            for cs=length(eur):-1:1\n",
    "                if ((abs(eur[cs]))/maximum(eu))^pow<trun_tol\n",
    "                    deleteat!(eur, cs);\n",
    "                    deleteat!(evr, cs);\n",
    "                    deleteat!(evl, cs);\n",
    "                    deleteat!(spin_eig, cs);\n",
    "                end\n",
    "            end\n",
    "            eur_set[cc]=eur;\n",
    "            evl_set[cc]=evl;\n",
    "            evr_set[cc]=evr;\n",
    "            spin_eig_set[cc]=spin_eig;\n",
    "        end\n",
    "        \n",
    "        return eur_set,evl_set,evr_set,spin_eig_set\n",
    "\n",
    "    elseif method==\"svd_FLR\"\n",
    "        S_set=Vector{Any}(undef, length(total_sec));\n",
    "        U_set=Vector{Any}(undef, length(total_sec));\n",
    "        Vh_set=Vector{Any}(undef, length(total_sec));\n",
    "        SPIN_svd_set=Vector{Any}(undef, length(total_sec));\n",
    "        for cs=1:Int(round((Dtrun_max-Dtrun_init)/Dstep))+1\n",
    "            S_set,U_set,Vh_set,SPIN_svd_set=FLR_svd(A,O,pow,Dtrun,total_space,total_sec);\n",
    "            S_set,U_set,Vh_set,SPIN_svd_set=truncate_sectors(Dtrun,S_set,U_set,Vh_set,SPIN_svd_set);  \n",
    "            eu=abs.(group_numbers(S_set));\n",
    "            eu_normed=eu/maximum(eu); \n",
    "            display(\"FLR_svd, Dtrun=\"*string(Dtrun)*\", minimal eigenvalue: \"*string(minimum(eu_normed)))\n",
    "            if minimum(eu_normed)<trun_tol\n",
    "                break;\n",
    "            else\n",
    "                if Dtrun>dim(total_space)\n",
    "                    display(\"Dtrun exceeds matrix size\")\n",
    "                    break;\n",
    "                end\n",
    "                Dtrun=Dtrun+Dstep;\n",
    "            end\n",
    "        end\n",
    "        \n",
    "        eu=abs.(group_numbers(S_set));\n",
    "        \n",
    "        for cc=1:length(S_set)\n",
    "            S=S_set[cc];\n",
    "            U=U_set[cc];\n",
    "            Vh=Vh_set[cc];\n",
    "            SPIN_svd=SPIN_svd_set[cc];\n",
    "            for cs=length(S):-1:1\n",
    "                if ((abs(S[cs]))/maximum(eu))<trun_tol\n",
    "                    deleteat!(S, cs);\n",
    "                    deleteat!(U, cs);\n",
    "                    deleteat!(Vh, cs);\n",
    "                    deleteat!(SPIN_svd, cs);\n",
    "                end\n",
    "            end\n",
    "            S_set[cc]=S;\n",
    "            U_set[cc]=U;\n",
    "            Vh_set[cc]=Vh;\n",
    "            SPIN_svd_set[cc]=SPIN_svd;\n",
    "        end\n",
    "        \n",
    "        return S_set,U_set,Vh_set,SPIN_svd_set\n",
    "    elseif method==\"svd_GLR\"\n",
    "        s_set=Vector{Any}(undef, length(total_sec));\n",
    "        u_set=Vector{Any}(undef, length(total_sec));\n",
    "        vh_set=Vector{Any}(undef, length(total_sec));\n",
    "        spin_svd_set=Vector{Any}(undef, length(total_sec));\n",
    "        for cs=1:Int(round((Dtrun_max-Dtrun_init)/Dstep))+1\n",
    "            s_set,u_set,vh_set,spin_svd_set=GLR_svd(A,pow,Dtrun,total_space,total_sec);\n",
    "            s_set,u_set,vh_set,spin_svd_set=truncate_sectors(Dtrun,s_set,u_set,vh_set,spin_svd_set);\n",
    "            eu=abs.(group_numbers(s_set));\n",
    "            eu_normed=eu/maximum(eu); \n",
    "            display(\"GLR_svd, Dtrun=\"*string(Dtrun)*\", minimal eigenvalue: \"*string(minimum(eu_normed)))\n",
    "            if minimum(eu_normed)<trun_tol\n",
    "                break;\n",
    "            else\n",
    "                if Dtrun>dim(total_space)\n",
    "                    display(\"Dtrun exceeds matrix size\")\n",
    "                    break;\n",
    "                end\n",
    "                Dtrun=Dtrun+Dstep;\n",
    "            end\n",
    "        end\n",
    "    \n",
    "        eu=abs.(group_numbers(s_set));\n",
    "        \n",
    "        for cc=1:length(s_set)\n",
    "            s=s_set[cc];\n",
    "            u=u_set[cc];\n",
    "            vh=vh_set[cc];\n",
    "            spin_svd=spin_svd_set[cc];\n",
    "            for cs=length(s):-1:1\n",
    "                if ((abs(s[cs]))/maximum(eu))<trun_tol\n",
    "                    deleteat!(s, cs);\n",
    "                    deleteat!(u, cs);\n",
    "                    deleteat!(vh, cs);\n",
    "                    deleteat!(spin_svd, cs);\n",
    "                end\n",
    "            end\n",
    "            s_set[cc]=s;\n",
    "            u_set[cc]=u;\n",
    "            vh_set[cc]=vh;\n",
    "            spin_svd_set[cc]=spin_svd;\n",
    "        end\n",
    "        return s_set,u_set,vh_set,spin_svd_set\n",
    "    end\n",
    "end\n",
    "    \n"
   ]
  },
  {
   "cell_type": "code",
   "execution_count": 306,
   "metadata": {},
   "outputs": [
    {
     "data": {
      "text/plain": [
       "(7,)"
      ]
     },
     "metadata": {},
     "output_type": "display_data"
    },
    {
     "data": {
      "text/plain": [
       "(5,)"
      ]
     },
     "metadata": {},
     "output_type": "display_data"
    },
    {
     "data": {
      "text/plain": [
       "(7,)"
      ]
     },
     "metadata": {},
     "output_type": "display_data"
    },
    {
     "data": {
      "text/plain": [
       "(5,)"
      ]
     },
     "metadata": {},
     "output_type": "display_data"
    },
    {
     "data": {
      "text/plain": [
       "7-element Vector{Any}:\n",
       " ComplexF64[0.15775773889614386 - 1.8843654374787642e-6im, 0.053566468719953415 - 0.08724814121487787im, 0.0535625742875013 + 0.08724842357783105im, 0.09173162414628652 - 7.399530496214781e-6im, 0.0626462720610725 + 1.0343247447984768e-5im, 0.03202432567214689 + 0.0536051007275271im, 0.03201686969993862 - 0.053587468275319614im, 0.056173363498948206 + 1.088050553766556e-6im, 0.010932516726949526 - 0.042109796585366184im, 0.010928143017160122 + 0.04209629202921169im  …  0.00039200140708064936 - 0.0018115286083894735im, 0.0001805278160310403 + 0.0018263889204132347im, 0.00017693908504362393 - 0.001826110857855465im, 0.0017807522558686176 - 0.00022574997521938135im, 0.0017766210584272662 + 0.00022431472790487823im, 0.001537682670855735 + 1.3616820218453435e-5im, 0.0003985583960320263 - 0.0011763808561268936im, 0.00039709719140316796 + 0.0011732105297074641im, 0.0009891018475603674 - 9.949257965004823e-7im, 0.0003389402396850527 + 1.394749310251445e-6im]\n",
       " ComplexF64[0.11630559730989573 - 0.05894585603416165im, 0.11630980992278611 + 0.058934423233628845im, 0.07855786958903119 - 0.0492529848887765im, 0.07855526897228896 + 0.049239526216173106im, 0.0033685770442831997 + 0.05646511971048444im, 0.003386991531176845 - 0.05641470726211692im, 0.035256611962840446 + 0.041559895634207124im, 0.03521351428238519 - 0.04156395418967833im, 0.04337614733277692 + 0.029702043215391865im, 0.04330813836264621 - 0.029731910772577502im  …  0.002118712359274272 + 0.001019714663405251im, 0.002108052788120886 - 0.0010136189391533963im, 0.001725074386769155 + 0.0010006125349146845im, 0.001716442927101952 - 0.001011375339552364im, 0.0009743111623092519 - 0.001080908577198812im, 0.0009773577858996072 + 0.0010663441901744295im, 0.001110099129815653 + 0.0005791912791756251im, 0.0011131446910157383 - 0.0005636610301612243im, 0.0009989762814316524 + 0.0005459980988575489im, 0.0010007992006870533 - 0.0005371473931411355im]\n",
       " ComplexF64[0.08564187432777132 - 2.0916436171585992e-5im, 0.04953242067586451 - 0.0656971877129564im, 0.04954261374376841 + 0.06567432206783391im, 0.06809003802308759 + 0.0038983606134841016im, 0.06748961264490445 - 0.004315903725008452im, 0.04823399859190233 + 0.017679020938932883im, 0.04765818732708408 - 0.01748520253273338im, 0.0459015954428637 - 0.012688584491776062im, 0.04551087600098288 + 0.012953818168597968im, 0.017420258945534745 - 0.04345083172831671im  …  0.00043502984147162477 - 0.001746067317805252im, 0.0017834614848597796 - 0.0001966503488259692im, 0.001778320327369657 + 0.00019780153710923488im, 0.0014063755499110003 - 3.2756730198842244e-6im, 0.0012582864363779687 + 4.4672699631481215e-6im, 0.0009958416815787393 + 3.660001513841496e-5im, 0.0009947126698997652 - 3.7520117462643514e-5im, 7.671043346488093e-5 + 0.0009506601450583943im, 7.604983308292037e-5 - 0.000950098710007156im, 0.0006865550564750195 + 2.137276071261123e-6im]\n",
       " ComplexF64[0.039855237024584066 - 0.026248838394813307im, 0.03980512082384377 + 0.025867481679361624im, 0.03984893634798663 - 0.008434975142743908im, 0.03969656056062933 + 0.008588230456042975im, 0.029003012354169168 + 0.025204798154528328im, 0.028854954504424928 - 0.025014933307206926im, 0.03214864159537692 + 0.015252213595009327im, 0.03213290261814074 - 0.015163106440385685im, 0.029825224166338614 - 0.016353068460578664im, 0.029789859866167098 + 0.016340883231737397im  …  0.0023019445403625414 - 0.00203254296374081im, 0.0023112468294855006 + 0.00202195162176093im, -0.000650941549480449 - 0.0029746364900506725im, -0.0006180883179267406 + 0.002978392723061943im, 0.002730270257851211 - 0.0010124103701419458im, 0.002732902192128964 + 0.0009922065257905966im, 0.0017855390137805878 - 0.0020016991815809968im, 0.0017887236237231908 + 0.0019736714726786356im, 0.0021399701095471523 + 0.001062011917050765im, 0.002126453200693515 - 0.001055525576140177im]\n",
       " ComplexF64[0.021109465718742167 + 0.008320910200636973im, 0.021042931933184773 - 0.008355292475162791im, 0.0195020392678107 + 0.0011896346306705143im, 0.019469106797652753 - 0.0010465791478502242im, 0.019404519807250144 - 6.294811043425195e-5im, 0.011211128218233451 - 0.015774254988130374im, 0.011220437618363045 + 0.015727851078514567im, 0.008560166604825047 + 0.017286544155848176im, 0.008602953857317581 - 0.017248081391783316im, 0.012698739537583933 - 0.005464345601788549im  …  0.0030711619865641834 - 3.847749275382181e-6im, 0.0022385330708389476 + 1.8195016526889056e-6im, 0.0018908992392293322 + 0.0001971082721167618im, 0.00188982488406013 - 0.00020216086324244693im, 0.00017050350508623381 + 0.0018138026184822422im, 0.00016601563934525647 - 0.0018133219134064422im, 0.0004390626327505762 + 0.0017351246551949866im, 0.00044207163616757564 - 0.0017340184134833501im, 0.0017735088378480457 - 0.0002183681805467162im, 0.001772524145599269 + 0.00022132479208588146im]\n",
       " ComplexF64[0.009307904895995532 + 0.006431125092142182im, 0.0093049594781069 - 0.006419185195026361im, 0.0063257960631399315 - 0.003528265493795096im, 0.00631522276026983 + 0.003432932347620203im, 0.002945252287506453 + 0.005636981241911712im, 0.002907937539745907 - 0.005636229953066028im, 0.005597796985024768 - 0.0025340209906430772im, 0.005569289533494802 + 0.002581319483804007im, -0.0012477696820635165 - 0.005998525765921934im, 0.004132444270569007 + 0.004483814723332336im, -0.001254461009721991 + 0.005954379211356995im, 0.004171574252031599 - 0.004429127102213685im, 0.004969671494675958 + 0.002992260635305313im, 0.004982292903496468 - 0.002938341823461838im, 0.004442558781994605 - 0.0036988630360783423im, 0.004460750193218651 + 0.0036754036949740022im, -0.0011676723568485505 + 0.005528859640962398im, -0.0011807395003468172 - 0.005496776849005266im, 0.005054386987477293 - 0.002124919184398266im, 0.0050606450239619365 + 0.0020872257293553624im]\n",
       " ComplexF64[0.003376188972460262 + 0.0002387885159165535im, 0.003376188470226655 - 0.00023877908979476494im, 0.0008519770518244255 - 0.003275622909792936im, 0.0008519658894383221 + 0.0032756240160008313im]"
      ]
     },
     "metadata": {},
     "output_type": "display_data"
    },
    {
     "data": {
      "text/plain": [
       "5-element Vector{Any}:\n",
       " ComplexF64[1.0000000000000002 - 3.3306690738754696e-16im, 0.33799628084997285 + 0.49761129964981843im, 0.3379962808499728 - 0.4976112996498183im, 0.5330857954257675 + 4.977413454932159e-18im, 0.28108383407147053 + 1.228488863195886e-17im, 0.21516723753989908 + 1.02069009922044e-17im, 0.1701220508089868 + 1.3756021729332403e-17im, 0.1681988851459236 - 2.6284662521489814e-17im, 0.03640315070943884 - 4.40763364498048e-19im]\n",
       " ComplexF64[0.7317570730436 + 0.36850345956332275im, 0.7317570730435988 - 0.3685034595633218im, 0.4501933622096087 - 0.2841385768120295im, 0.4501933622096084 + 0.28413857681202886im, 0.2722731893782013 + 0.151937350194767im, 0.272273189378201 - 0.15193735019476717im, 0.23872266828941796 - 0.1416809168793072im, 0.2387226682894176 + 0.14168091687930706im, 0.1491250442462864 + 0.11262801983582717im, 0.14912504424628614 - 0.112628019835827im, 0.12490204321322258 - 0.0509745058168456im, 0.12490204321322237 + 0.050974505816845476im]\n",
       " ComplexF64[0.518424387061762 - 1.9540464149954977e-16im, 0.3007580465261748 - 0.4066855127764844im, 0.30075804652617455 + 0.4066855127764841im, 0.4433897756261627 + 0.08635000398824527im, 0.4433897756261627 - 0.08635000398824537im, 0.3678917324641042 + 8.850708554257808e-19im, 0.16633454806267034 + 5.1128943806929436e-18im, 0.08891286964991826 - 1.2610799512401632e-18im, 0.08176808176650914 + 2.1759058974282933e-18im]\n",
       " ComplexF64[0.2753105429656917 - 0.15023998770884164im, 0.27531054296569174 + 0.15023998770884145im, 0.24352460613339563 - 0.12374286691178606im, 0.24352460613339535 + 0.12374286691178585im]\n",
       " ComplexF64[0.16685299847297508 + 0.0im]"
      ]
     },
     "metadata": {},
     "output_type": "display_data"
    },
    {
     "data": {
      "text/plain": [
       "7-element Vector{Any}:\n",
       " [0.0446842126950008, 0.03378446826391752, 0.01835290902872917, 0.017264526437359158, 0.012847291278774148, 0.009518535121174149, 0.006918592030123913, 0.004466150065214439, 0.004119031537350696, 0.003535741537870379  …  2.4023480889881916e-6, 2.26629138947719e-6, 2.126420321925368e-6, 1.962933456830571e-6, 1.5710312367605675e-6, 1.3290031299073685e-6, 1.0555713883578728e-6, 7.665704634195067e-7, 4.99360187508066e-7, 7.703078671950678e-8]\n",
       " [0.03960355001905241, 0.037828596140619945, 0.019137415742411037, 0.016529945244106992, 0.014122508475273087, 0.013648224111284425, 0.010300717050496325, 0.008825526960303207, 0.005724106283320946, 0.0051357750631525825  …  2.333853572820633e-6, 2.0565618776832663e-6, 1.8332986900336056e-6, 1.7829060490700781e-6, 1.593961461664071e-6, 1.4626938543986537e-6, 1.210671959019677e-6, 7.921424063286238e-7, 6.158792059762546e-7, 4.427939049923842e-7]\n",
       " [0.03424081518935906, 0.017949134384433203, 0.015626722810191753, 0.01359577215543211, 0.011134888124572766, 0.00643754478516306, 0.004507505006173732, 0.00399059035566427, 0.0035382128566268777, 0.0033876279909641665  …  2.257448439004707e-6, 2.1869789556978776e-6, 2.1193677196460234e-6, 2.0472590120770125e-6, 9.65941763186919e-7, 7.863495859722295e-7, 6.916583750160831e-7, 5.799280638583167e-7, 4.671116976371198e-7, 3.375193982967163e-7]\n",
       " [0.013564681075287674, 0.010072293532929814, 0.004722224024979159, 0.0041296432480936295, 0.0035025465164713393, 0.0029784399050093668, 0.002591310278915561, 0.0021335174074155953, 0.001912817051709689, 0.0018038709642663286  …  5.2186922684701905e-6, 5.052966619039161e-6, 4.935867488561446e-6, 4.49235730686207e-6, 4.262855977969332e-6, 4.113777760215684e-6, 3.907557198026902e-6, 3.598965152431309e-6, 3.2709202507627386e-6, 2.1148050262348076e-6]\n",
       " [0.0029421091799559165, 0.0021306221729137558, 0.001217780071286315, 0.0008326610836522384, 0.0007709307551330576, 0.0006763271611146144, 0.0006244711220192942, 0.0005997191147752689, 0.00045632764237050685, 0.0003873858742523772  …  8.988167376951238e-6, 4.0391382483306535e-6, 3.114513377405767e-6, 3.0164813475307454e-6, 2.978616699451129e-6, 2.8406161131726802e-6, 2.77418466198078e-6, 2.411308281441481e-6, 2.3533692941550066e-6, 2.300441357412532e-6]\n",
       " [0.00039919576037723874, 0.00021461471522872376, 0.00013624300089263604, 0.00011629803530991401, 6.40548371888772e-5, 6.304858886533717e-5, 6.129752067441715e-5, 6.084150216758055e-5, 3.884448425509145e-5, 3.0243330009979804e-5, 2.4523529860704417e-5, 2.162182365634259e-5, 2.0710256476927915e-5, 2.022741456687312e-5, 1.986874721242065e-5, 1.9706487115280425e-5, 1.9575386677877422e-5, 1.9191148430547194e-5, 1.796853395571724e-5, 1.5913650817545138e-5]\n",
       " [1.1811783454364901e-5, 1.1544527531985985e-5, 1.1367391538086837e-5, 1.1110186872112975e-5]"
      ]
     },
     "metadata": {},
     "output_type": "display_data"
    },
    {
     "data": {
      "text/plain": [
       "5-element Vector{Any}:\n",
       " [1.8467347295006633, 0.9532069195679146, 0.3336931874392012, 0.28478839220851027, 0.05039510224212826, 0.037317722220118324, 0.02885726944358922, 0.01644059527618376, 0.0009894722466946317]\n",
       " [1.2619524918325167, 1.2619524918325162, 0.2962930193568064, 0.29629301935680596, 0.15175655606716548, 0.15175655606716523, 0.0411488537164276, 0.04114885371642759, 0.03574692444844144, 0.035746924448441436, 0.010852873424266775, 0.010852873424266768]\n",
       " [1.0943068124535762, 0.29765788137271104, 0.2847542328403961, 0.14794710323477717, 0.14543650226011715, 0.08390769273824611, 0.02487637254348843, 0.006942337463300901, 0.005013188526528344]\n",
       " [0.15150186059071635, 0.15150186051537315, 0.04844742559304236, 0.048447425543685085]\n",
       " [0.02783992309942267]"
      ]
     },
     "metadata": {},
     "output_type": "display_data"
    },
    {
     "name": "stdout",
     "output_type": "stream",
     "text": [
      "Number of singular values obtained are not enough, add noise, increase Krylov subspace and use smaller tol\n"
     ]
    },
    {
     "name": "stderr",
     "output_type": "stream",
     "text": [
      "┌ Warning: Invariant subspace of dimension 2 (up to requested tolerance `tol = 1.0e-12`), which is smaller than the number of requested singular values (i.e. `howmany == 4`); setting `howmany = 2`.\n",
      "└ @ KrylovKit C:\\Users\\Lenovo\\.julia\\packages\\KrylovKit\\YPiz7\\src\\eigsolve\\svdsolve.jl:142\n"
     ]
    }
   ],
   "source": [
    "\n",
    "euL_set,evL_set,euR_set,evR_set,SPIN_eig_set=FLR_eig(Ag,OO,Dtrun,space_AOA,AOA_sec);\n",
    "display(size(euL_set))\n",
    "eul_set,evl_set,eur_set,evr_set,spin_eig_set=GLR_eig(Ag,Dtrun,space_AA,AA_sec);\n",
    "display(size(eul_set))\n",
    "S_set,U_set,Vh_set,SPIN_svd_set=FLR_svd(Ag,OO,pow,Dtrun,space_AOA,AOA_sec);\n",
    "display(size(S_set))\n",
    "s_set,u_set,vh_set,spin_svd_set=GLR_svd(Ag,pow,Dtrun,space_AA,AA_sec);\n",
    "display(size(s_set))\n",
    "\n",
    "\n",
    "euR_set,evL_set,evR_set,SPIN_eig_set=truncate_sectors(Dtrun,euR_set,evL_set,evR_set,SPIN_eig_set);\n",
    "display(euR_set)\n",
    "eur_set,evl_set,evr_set,spin_eig_set=truncate_sectors(Dtrun,eur_set,evl_set,evr_set,spin_eig_set);\n",
    "display(eur_set)\n",
    "S_set,U_set,Vh_set,SPIN_svd_set=truncate_sectors(Dtrun,S_set,U_set,Vh_set,SPIN_svd_set);\n",
    "display(S_set)\n",
    "s_set,u_set,vh_set,spin_svd_set=truncate_sectors(Dtrun,s_set,u_set,vh_set,spin_svd_set);\n",
    "display(s_set)"
   ]
  },
  {
   "cell_type": "code",
   "execution_count": 307,
   "metadata": {},
   "outputs": [
    {
     "data": {
      "text/plain": [
       "\"check FLR_eig\""
      ]
     },
     "metadata": {},
     "output_type": "display_data"
    },
    {
     "data": {
      "text/plain": [
       "3.9315678075485487e-14"
      ]
     },
     "metadata": {},
     "output_type": "display_data"
    },
    {
     "data": {
      "text/plain": [
       "1.1029605488113833e-14"
      ]
     },
     "metadata": {},
     "output_type": "display_data"
    },
    {
     "data": {
      "text/plain": [
       "\"check GLR_eig\""
      ]
     },
     "metadata": {},
     "output_type": "display_data"
    },
    {
     "data": {
      "text/plain": [
       "4.2049030264733985e-15"
      ]
     },
     "metadata": {},
     "output_type": "display_data"
    },
    {
     "data": {
      "text/plain": [
       "\"check FLR_svd\""
      ]
     },
     "metadata": {},
     "output_type": "display_data"
    },
    {
     "data": {
      "text/plain": [
       "4.431379824801522e-15"
      ]
     },
     "metadata": {},
     "output_type": "display_data"
    },
    {
     "data": {
      "text/plain": [
       "4.508794060238854e-15"
      ]
     },
     "metadata": {},
     "output_type": "display_data"
    },
    {
     "data": {
      "text/plain": [
       "\"check GLR_svd\""
      ]
     },
     "metadata": {},
     "output_type": "display_data"
    },
    {
     "data": {
      "text/plain": [
       "1.0637333158900926e-10"
      ]
     },
     "metadata": {},
     "output_type": "display_data"
    },
    {
     "data": {
      "text/plain": [
       "1.0637333276795139e-10"
      ]
     },
     "metadata": {},
     "output_type": "display_data"
    }
   ],
   "source": [
    "\n",
    "display(\"check FLR_eig\")\n",
    "@tensor M[:]:=Ag'[-1,-4,1]*OO[-2,2,-5,1]*Ag[-3,-6,2];\n",
    "M=permute(M,(1,2,3,),(4,5,6,));\n",
    "for cc=1:pow-1\n",
    "    M=M*M;\n",
    "end\n",
    "M_temp=M*0;\n",
    "for cc=1:length(euR_set)\n",
    "    euR=euR_set[cc];\n",
    "    evR=evR_set[cc];\n",
    "    evL=evL_set[cc];\n",
    "    spin=SPIN_eig_set[cc]\n",
    "    for cs=1:length(euR)\n",
    "        @tensor coe=evR[cs][2,3,4,1]*evL[cs][1,2,3,4];\n",
    "        M_temp=M_temp+euR[cs]^(pow)*evR[cs]*evL[cs]*(spin[cs]*2+1)/coe;\n",
    "    end\n",
    "end\n",
    "display(norm(M-M_temp)/norm(M))\n",
    "\n",
    "euR_set_combined,evL_set_combined,evR_set_combined,SPIN_eig_set_combined=combine_singlespin_sector(euR_set,evL_set,evR_set,SPIN_eig_set,true)\n",
    "M_temp=M*0;\n",
    "for cc=1:length(euR_set)\n",
    "    euR=euR_set_combined[cc];\n",
    "    evR=evR_set_combined[cc];\n",
    "    evL=evL_set_combined[cc];\n",
    "    spin=SPIN_eig_set_combined[cc]\n",
    "    if euR==[]\n",
    "    else\n",
    "        for cc=1:pow-1\n",
    "            euR=euR*euR;\n",
    "        end\n",
    "        M_temp=M_temp+evR*euR*evL*(spin*2+1);\n",
    "    end\n",
    "end\n",
    "display(norm(M-M_temp)/norm(M))\n",
    "\n",
    "\n",
    "\n",
    "\n",
    "display(\"check GLR_eig\")\n",
    "@tensor M[:]:=Ag'[-1,-3,1]*Ag[-2,-4,1];\n",
    "M=permute(M,(1,2,),(3,4,));\n",
    "for cc=1:pow-1\n",
    "    M=M*M;\n",
    "end\n",
    "eur_set_combined,evl_set_combined,evr_set_combined,spin_eig_set_combined=combine_singlespin_sector(eur_set,evl_set,evr_set,spin_eig_set,true)\n",
    "\n",
    "M_temp=M*0;\n",
    "for cc=1:length(eul_set)\n",
    "    eur=eur_set_combined[cc];\n",
    "    evl=evl_set_combined[cc];\n",
    "    evr=evr_set_combined[cc];\n",
    "    spin=spin_eig_set_combined[cc]\n",
    "    if eur==[]\n",
    "    else\n",
    "        for cc=1:pow-1\n",
    "            eur=eur*eur;\n",
    "        end\n",
    "        M_temp=M_temp+evr*eur*evl*(spin*2+1);\n",
    "    end\n",
    "end\n",
    "display(norm(M-M_temp)/norm(M))\n",
    "\n",
    "\n",
    "\n",
    "\n",
    "\n",
    "display(\"check FLR_svd\")\n",
    "@tensor M[:]:=Ag'[-1,-4,1]*OO[-2,2,-5,1]*Ag[-3,-6,2];\n",
    "M=permute(M,(1,2,3,),(4,5,6,));\n",
    "for cc=1:pow-1\n",
    "    M=M*M;\n",
    "end\n",
    "M_temp=M*0;\n",
    "for cc=1:length(S_set)\n",
    "    S=S_set[cc];\n",
    "    U=U_set[cc];\n",
    "    Vh=Vh_set[cc];\n",
    "    spin=SPIN_svd_set[cc]\n",
    "    for cs=1:length(S)\n",
    "        M_temp=M_temp+S[cs]*U[cs]*Vh[cs]*(spin[cs]*2+1);\n",
    "    end\n",
    "end\n",
    "display(norm(M-M_temp)/norm(M))\n",
    "\n",
    "S_set_combined,Vh_set_combined,U_set_combined,SPIN_svd_set_combined=combine_singlespin_sector(S_set,Vh_set,U_set,SPIN_svd_set,false)\n",
    "M_temp=M*0;\n",
    "for cc=1:length(S_set)\n",
    "    S=S_set_combined[cc];\n",
    "    U=U_set_combined[cc];\n",
    "    Vh=Vh_set_combined[cc];\n",
    "    spin=SPIN_svd_set_combined[cc]\n",
    "    if S==[]\n",
    "    else\n",
    "        M_temp=M_temp+U*S*Vh*(spin*2+1);\n",
    "    end\n",
    "end\n",
    "display(norm(M-M_temp)/norm(M))\n",
    "\n",
    "\n",
    "\n",
    "display(\"check GLR_svd\")\n",
    "@tensor M[:]:=Ag'[-1,-3,1]*Ag[-2,-4,1];\n",
    "M=permute(M,(1,2,),(3,4,));\n",
    "for cc=1:pow-1\n",
    "    M=M*M;\n",
    "end\n",
    "M_temp=M*0;\n",
    "for cc=1:length(s_set)\n",
    "    s=s_set[cc];\n",
    "    u=u_set[cc];\n",
    "    vh=vh_set[cc];\n",
    "    spin=spin_svd_set[cc]\n",
    "    for cs=1:length(s)\n",
    "        M_temp=M_temp+s[cs]*u[cs]*vh[cs]*(spin[cs]*2+1);\n",
    "    end\n",
    "end\n",
    "display(norm(M-M_temp)/norm(M))\n",
    "\n",
    "s_set_combined,vh_set_combined,u_set_combined,spin_svd_set_combined=combine_singlespin_sector(s_set,vh_set,u_set,spin_svd_set,false)\n",
    "\n",
    "\n",
    "M_temp=M*0;\n",
    "for cc=1:length(s_set)\n",
    "    s=s_set_combined[cc];\n",
    "    vh=vh_set_combined[cc];\n",
    "    u=u_set_combined[cc];\n",
    "    spin=spin_svd_set_combined[cc]\n",
    "    if s==[]\n",
    "    else\n",
    "        M_temp=M_temp+u*s*vh*(spin*2+1);\n",
    "    end\n",
    "end\n",
    "display(norm(M-M_temp)/norm(M))\n"
   ]
  },
  {
   "cell_type": "code",
   "execution_count": 304,
   "metadata": {},
   "outputs": [],
   "source": [
    "\n"
   ]
  },
  {
   "cell_type": "code",
   "execution_count": 413,
   "metadata": {},
   "outputs": [
    {
     "data": {
      "text/plain": [
       "\"FLR_eig, Dtrun=100, minimal eigenvalue: 3.2249827306994403e-6\""
      ]
     },
     "metadata": {},
     "output_type": "display_data"
    },
    {
     "data": {
      "text/plain": [
       "33"
      ]
     },
     "metadata": {},
     "output_type": "display_data"
    },
    {
     "data": {
      "text/plain": [
       "\"GLR_eig, Dtrun=100, minimal eigenvalue: 1.1226664982743997e-13\""
      ]
     },
     "metadata": {},
     "output_type": "display_data"
    },
    {
     "data": {
      "text/plain": [
       "19"
      ]
     },
     "metadata": {},
     "output_type": "display_data"
    },
    {
     "data": {
      "text/plain": [
       "\"minimal singular value in this sector is quite small, skip checking number of converged values\""
      ]
     },
     "metadata": {},
     "output_type": "display_data"
    },
    {
     "data": {
      "text/plain": [
       "\"minimal singular value in this sector is quite small, skip checking number of converged values\""
      ]
     },
     "metadata": {},
     "output_type": "display_data"
    },
    {
     "data": {
      "text/plain": [
       "\"FLR_svd, Dtrun=100, minimal eigenvalue: 2.8444062432884627e-6\""
      ]
     },
     "metadata": {},
     "output_type": "display_data"
    },
    {
     "data": {
      "text/plain": [
       "33"
      ]
     },
     "metadata": {},
     "output_type": "display_data"
    },
    {
     "data": {
      "text/plain": [
       "\"GLR_svd, Dtrun=100, minimal eigenvalue: 3.7444294098724004e-14\""
      ]
     },
     "metadata": {},
     "output_type": "display_data"
    },
    {
     "data": {
      "text/plain": [
       "18"
      ]
     },
     "metadata": {},
     "output_type": "display_data"
    },
    {
     "name": "stdout",
     "output_type": "stream",
     "text": [
      "Number of singular values obtained are not enough, use smaller tol\n",
      "Number of singular values obtained are not enough, use smaller tol\n",
      "Number of singular values obtained are not enough, use smaller tol\n",
      "Number of singular values obtained are not enough, use smaller tol\n",
      "Number of singular values obtained are not enough, use smaller tol\n",
      "Number of singular values obtained are not enough, use smaller tol\n",
      "Number of singular values obtained are not enough, use smaller tol\n",
      "Number of singular values obtained are not enough, add noise, increase Krylov subspace and use smaller tol\n"
     ]
    },
    {
     "name": "stderr",
     "output_type": "stream",
     "text": [
      "┌ Warning: Invariant subspace of dimension 10 (up to requested tolerance `tol = 1.0e-12`), which is smaller than the number of requested singular values (i.e. `howmany == 101`); setting `howmany = 10`.\n",
      "└ @ KrylovKit C:\\Users\\Lenovo\\.julia\\packages\\KrylovKit\\YPiz7\\src\\eigsolve\\svdsolve.jl:142\n",
      "┌ Warning: Invariant subspace of dimension 20 (up to requested tolerance `tol = 1.0e-14`), which is smaller than the number of requested singular values (i.e. `howmany == 101`); setting `howmany = 20`.\n",
      "└ @ KrylovKit C:\\Users\\Lenovo\\.julia\\packages\\KrylovKit\\YPiz7\\src\\eigsolve\\svdsolve.jl:142\n",
      "┌ Warning: Invariant subspace of dimension 14 (up to requested tolerance `tol = 1.0e-12`), which is smaller than the number of requested singular values (i.e. `howmany == 51`); setting `howmany = 14`.\n",
      "└ @ KrylovKit C:\\Users\\Lenovo\\.julia\\packages\\KrylovKit\\YPiz7\\src\\eigsolve\\svdsolve.jl:142\n",
      "┌ Warning: Invariant subspace of dimension 31 (up to requested tolerance `tol = 1.0e-14`), which is smaller than the number of requested singular values (i.e. `howmany == 51`); setting `howmany = 31`.\n",
      "└ @ KrylovKit C:\\Users\\Lenovo\\.julia\\packages\\KrylovKit\\YPiz7\\src\\eigsolve\\svdsolve.jl:142\n",
      "┌ Warning: Invariant subspace of dimension 10 (up to requested tolerance `tol = 1.0e-12`), which is smaller than the number of requested singular values (i.e. `howmany == 34`); setting `howmany = 10`.\n",
      "└ @ KrylovKit C:\\Users\\Lenovo\\.julia\\packages\\KrylovKit\\YPiz7\\src\\eigsolve\\svdsolve.jl:142\n",
      "┌ Warning: Invariant subspace of dimension 24 (up to requested tolerance `tol = 1.0e-14`), which is smaller than the number of requested singular values (i.e. `howmany == 34`); setting `howmany = 24`.\n",
      "└ @ KrylovKit C:\\Users\\Lenovo\\.julia\\packages\\KrylovKit\\YPiz7\\src\\eigsolve\\svdsolve.jl:142\n",
      "┌ Warning: Invariant subspace of dimension 4 (up to requested tolerance `tol = 1.0e-12`), which is smaller than the number of requested singular values (i.e. `howmany == 26`); setting `howmany = 4`.\n",
      "└ @ KrylovKit C:\\Users\\Lenovo\\.julia\\packages\\KrylovKit\\YPiz7\\src\\eigsolve\\svdsolve.jl:142\n",
      "┌ Warning: Invariant subspace of dimension 16 (up to requested tolerance `tol = 1.0e-14`), which is smaller than the number of requested singular values (i.e. `howmany == 26`); setting `howmany = 16`.\n",
      "└ @ KrylovKit C:\\Users\\Lenovo\\.julia\\packages\\KrylovKit\\YPiz7\\src\\eigsolve\\svdsolve.jl:142\n",
      "┌ Warning: Invariant subspace of dimension 1 (up to requested tolerance `tol = 1.0e-12`), which is smaller than the number of requested singular values (i.e. `howmany == 21`); setting `howmany = 1`.\n",
      "└ @ KrylovKit C:\\Users\\Lenovo\\.julia\\packages\\KrylovKit\\YPiz7\\src\\eigsolve\\svdsolve.jl:142\n",
      "┌ Warning: Invariant subspace of dimension 1 (up to requested tolerance `tol = 1.0e-14`), which is smaller than the number of requested singular values (i.e. `howmany == 21`); setting `howmany = 1`.\n",
      "└ @ KrylovKit C:\\Users\\Lenovo\\.julia\\packages\\KrylovKit\\YPiz7\\src\\eigsolve\\svdsolve.jl:142\n",
      "┌ Warning: Invariant subspace of dimension 1 (up to requested tolerance `tol = 1.0e-12`), which is smaller than the number of requested singular values (i.e. `howmany == 18`); setting `howmany = 1`.\n",
      "└ @ KrylovKit C:\\Users\\Lenovo\\.julia\\packages\\KrylovKit\\YPiz7\\src\\eigsolve\\svdsolve.jl:142\n",
      "┌ Warning: Invariant subspace of dimension 1 (up to requested tolerance `tol = 1.0e-14`), which is smaller than the number of requested singular values (i.e. `howmany == 18`); setting `howmany = 1`.\n",
      "└ @ KrylovKit C:\\Users\\Lenovo\\.julia\\packages\\KrylovKit\\YPiz7\\src\\eigsolve\\svdsolve.jl:142\n",
      "┌ Warning: Invariant subspace of dimension 1 (up to requested tolerance `tol = 1.0e-12`), which is smaller than the number of requested singular values (i.e. `howmany == 4`); setting `howmany = 1`.\n",
      "└ @ KrylovKit C:\\Users\\Lenovo\\.julia\\packages\\KrylovKit\\YPiz7\\src\\eigsolve\\svdsolve.jl:142\n",
      "┌ Warning: Invariant subspace of dimension 1 (up to requested tolerance `tol = 1.0e-14`), which is smaller than the number of requested singular values (i.e. `howmany == 4`); setting `howmany = 1`.\n",
      "└ @ KrylovKit C:\\Users\\Lenovo\\.julia\\packages\\KrylovKit\\YPiz7\\src\\eigsolve\\svdsolve.jl:142\n",
      "┌ Warning: Invariant subspace of dimension 2 (up to requested tolerance `tol = 1.0e-12`), which is smaller than the number of requested singular values (i.e. `howmany == 4`); setting `howmany = 2`.\n",
      "└ @ KrylovKit C:\\Users\\Lenovo\\.julia\\packages\\KrylovKit\\YPiz7\\src\\eigsolve\\svdsolve.jl:142\n",
      "┌ Warning: number of values converged is not enough\n",
      "└ @ Main d:\\My Documents\\Code\\Julia_codes\\Tensor network\\IPEPS_TensorKit\\kagome\\SU2_PG\\itebd.ipynb:31\n"
     ]
    }
   ],
   "source": [
    "\n",
    "Dtrun_init=100;\n",
    "Dtrun_max=200;\n",
    "trun_tol=1e-5;\n",
    "\n",
    "euR_set,evL_set,evR_set,SPIN_eig_set=TransfOp_decom(Ag,OO,space_AOA,AOA_sec,pow,Dtrun_init,Dtrun_max,trun_tol,\"eigenvalue_FLR\");\n",
    "display(length(group_numbers(euR_set)))\n",
    "# display(euR_set)\n",
    "\n",
    "    \n",
    "eur_set,evl_set,evr_set,spin_eig_set=TransfOp_decom(Ag,OO,space_AA,AA_sec,pow,Dtrun_init,Dtrun_max,trun_tol,\"eigenvalue_GLR\");\n",
    "display(length(group_numbers(eur_set)))\n",
    "# display(eur_set)\n",
    "\n",
    "\n",
    "S_set,U_set,Vh_set,SPIN_svd_set=TransfOp_decom(Ag,OO,space_AOA,AOA_sec,pow,Dtrun_init,Dtrun_max,trun_tol,\"svd_FLR\");\n",
    "display(length(group_numbers(S_set)))\n",
    "# display(S_set)\n",
    "\n",
    "\n",
    "s_set,u_set,vh_set,spin_svd_set=TransfOp_decom(Ag,OO,space_AA,AA_sec,pow,Dtrun_init,Dtrun_max,trun_tol,\"svd_GLR\");\n",
    "display(length(group_numbers(s_set)))\n",
    "# display(s_set)\n"
   ]
  },
  {
   "cell_type": "code",
   "execution_count": 399,
   "metadata": {},
   "outputs": [],
   "source": []
  },
  {
   "cell_type": "code",
   "execution_count": 414,
   "metadata": {},
   "outputs": [
    {
     "data": {
      "text/plain": [
       "\"check FLR_eig\""
      ]
     },
     "metadata": {},
     "output_type": "display_data"
    },
    {
     "data": {
      "text/plain": [
       "9.156873872700478e-5"
      ]
     },
     "metadata": {},
     "output_type": "display_data"
    },
    {
     "data": {
      "text/plain": [
       "9.156873872705932e-5"
      ]
     },
     "metadata": {},
     "output_type": "display_data"
    },
    {
     "data": {
      "text/plain": [
       "\"check GLR_eig\""
      ]
     },
     "metadata": {},
     "output_type": "display_data"
    },
    {
     "data": {
      "text/plain": [
       "2.4212760000517544e-5"
      ]
     },
     "metadata": {},
     "output_type": "display_data"
    },
    {
     "data": {
      "text/plain": [
       "\"check FLR_svd\""
      ]
     },
     "metadata": {},
     "output_type": "display_data"
    },
    {
     "data": {
      "text/plain": [
       "3.47517229305006e-5"
      ]
     },
     "metadata": {},
     "output_type": "display_data"
    },
    {
     "data": {
      "text/plain": [
       "3.4751722930502476e-5"
      ]
     },
     "metadata": {},
     "output_type": "display_data"
    },
    {
     "data": {
      "text/plain": [
       "\"check GLR_svd\""
      ]
     },
     "metadata": {},
     "output_type": "display_data"
    },
    {
     "data": {
      "text/plain": [
       "1.2310871062451466e-5"
      ]
     },
     "metadata": {},
     "output_type": "display_data"
    },
    {
     "data": {
      "text/plain": [
       "1.2310871062454267e-5"
      ]
     },
     "metadata": {},
     "output_type": "display_data"
    }
   ],
   "source": [
    "\n",
    "display(\"check FLR_eig\")\n",
    "@tensor M[:]:=Ag'[-1,-4,1]*OO[-2,2,-5,1]*Ag[-3,-6,2];\n",
    "M=permute(M,(1,2,3,),(4,5,6,));\n",
    "M0=M;\n",
    "for cc=1:pow-1\n",
    "    M=M*M0;\n",
    "end\n",
    "M_temp=M*0;\n",
    "for cc=1:length(euR_set)\n",
    "    euR=euR_set[cc];\n",
    "    evR=evR_set[cc];\n",
    "    evL=evL_set[cc];\n",
    "    spin=SPIN_eig_set[cc]\n",
    "    for cs=1:length(euR)\n",
    "        @tensor coe=evR[cs][2,3,4,1]*evL[cs][1,2,3,4];\n",
    "        M_temp=M_temp+euR[cs]^(pow)*evR[cs]*evL[cs]*(spin[cs]*2+1)/coe;\n",
    "    end\n",
    "end\n",
    "display(norm(M-M_temp)/norm(M))\n",
    "\n",
    "euR_set_combined,evL_set_combined,evR_set_combined,SPIN_eig_set_combined=combine_singlespin_sector(euR_set,evL_set,evR_set,SPIN_eig_set,true)\n",
    "M_temp=M*0;\n",
    "for cc=1:length(euR_set)\n",
    "    euR=euR_set_combined[cc];\n",
    "    evR=evR_set_combined[cc];\n",
    "    evL=evL_set_combined[cc];\n",
    "    spin=SPIN_eig_set_combined[cc]\n",
    "    if euR==[]\n",
    "    else\n",
    "        euR0=euR\n",
    "        for cc=1:pow-1\n",
    "            euR=euR*euR0;\n",
    "        end\n",
    "        M_temp=M_temp+evR*euR*evL*(spin*2+1);\n",
    "    end\n",
    "end\n",
    "display(norm(M-M_temp)/norm(M))\n",
    "\n",
    "\n",
    "\n",
    "\n",
    "display(\"check GLR_eig\")\n",
    "@tensor M[:]:=Ag'[-1,-3,1]*Ag[-2,-4,1];\n",
    "M=permute(M,(1,2,),(3,4,));\n",
    "M0=M;\n",
    "for cc=1:pow-1\n",
    "    M=M*M0;\n",
    "end\n",
    "eur_set_combined,evl_set_combined,evr_set_combined,spin_eig_set_combined=combine_singlespin_sector(eur_set,evl_set,evr_set,spin_eig_set,true)\n",
    "\n",
    "M_temp=M*0;\n",
    "for cc=1:length(eul_set)\n",
    "    eur=eur_set_combined[cc];\n",
    "    evl=evl_set_combined[cc];\n",
    "    evr=evr_set_combined[cc];\n",
    "    spin=spin_eig_set_combined[cc]\n",
    "    if eur==[]\n",
    "    else\n",
    "        eur0=eur;\n",
    "        for cc=1:pow-1\n",
    "            eur=eur*eur0;\n",
    "        end\n",
    "        M_temp=M_temp+evr*eur*evl*(spin*2+1);\n",
    "    end\n",
    "end\n",
    "display(norm(M-M_temp)/norm(M))\n",
    "\n",
    "\n",
    "\n",
    "\n",
    "\n",
    "display(\"check FLR_svd\")\n",
    "@tensor M[:]:=Ag'[-1,-4,1]*OO[-2,2,-5,1]*Ag[-3,-6,2];\n",
    "M=permute(M,(1,2,3,),(4,5,6,));\n",
    "M0=M;\n",
    "for cc=1:pow-1\n",
    "    M=M*M0;\n",
    "end\n",
    "M_temp=M*0;\n",
    "for cc=1:length(S_set)\n",
    "    S=S_set[cc];\n",
    "    U=U_set[cc];\n",
    "    Vh=Vh_set[cc];\n",
    "    spin=SPIN_svd_set[cc]\n",
    "    for cs=1:length(S)\n",
    "        M_temp=M_temp+S[cs]*U[cs]*Vh[cs]*(spin[cs]*2+1);\n",
    "    end\n",
    "end\n",
    "display(norm(M-M_temp)/norm(M))\n",
    "\n",
    "S_set_combined,Vh_set_combined,U_set_combined,SPIN_svd_set_combined=combine_singlespin_sector(S_set,Vh_set,U_set,SPIN_svd_set,false)\n",
    "M_temp=M*0;\n",
    "for cc=1:length(S_set)\n",
    "    S=S_set_combined[cc];\n",
    "    U=U_set_combined[cc];\n",
    "    Vh=Vh_set_combined[cc];\n",
    "    spin=SPIN_svd_set_combined[cc]\n",
    "    if S==[]\n",
    "    else\n",
    "        M_temp=M_temp+U*S*Vh*(spin*2+1);\n",
    "    end\n",
    "end\n",
    "display(norm(M-M_temp)/norm(M))\n",
    "\n",
    "\n",
    "\n",
    "display(\"check GLR_svd\")\n",
    "@tensor M[:]:=Ag'[-1,-3,1]*Ag[-2,-4,1];\n",
    "M=permute(M,(1,2,),(3,4,));\n",
    "M0=M;\n",
    "for cc=1:pow-1\n",
    "    M=M*M0;\n",
    "end\n",
    "M_temp=M*0;\n",
    "for cc=1:length(s_set)\n",
    "    s=s_set[cc];\n",
    "    u=u_set[cc];\n",
    "    vh=vh_set[cc];\n",
    "    spin=spin_svd_set[cc]\n",
    "    for cs=1:length(s)\n",
    "        M_temp=M_temp+s[cs]*u[cs]*vh[cs]*(spin[cs]*2+1);\n",
    "    end\n",
    "end\n",
    "display(norm(M-M_temp)/norm(M))\n",
    "\n",
    "s_set_combined,vh_set_combined,u_set_combined,spin_svd_set_combined=combine_singlespin_sector(s_set,vh_set,u_set,spin_svd_set,false)\n",
    "\n",
    "\n",
    "M_temp=M*0;\n",
    "for cc=1:length(s_set)\n",
    "    s=s_set_combined[cc];\n",
    "    vh=vh_set_combined[cc];\n",
    "    u=u_set_combined[cc];\n",
    "    spin=spin_svd_set_combined[cc]\n",
    "    if s==[]\n",
    "    else\n",
    "        M_temp=M_temp+u*s*vh*(spin*2+1);\n",
    "    end\n",
    "end\n",
    "display(norm(M-M_temp)/norm(M))\n"
   ]
  },
  {
   "cell_type": "markdown",
   "metadata": {},
   "source": []
  }
 ],
 "metadata": {
  "kernelspec": {
   "display_name": "Julia 1.7.2",
   "language": "julia",
   "name": "julia-1.7"
  },
  "language_info": {
   "file_extension": ".jl",
   "mimetype": "application/julia",
   "name": "julia",
   "version": "1.7.2"
  },
  "orig_nbformat": 4
 },
 "nbformat": 4,
 "nbformat_minor": 2
}
