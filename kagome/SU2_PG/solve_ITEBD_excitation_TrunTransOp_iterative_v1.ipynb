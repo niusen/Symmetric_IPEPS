{
 "cells": [
  {
   "cell_type": "code",
   "execution_count": 1,
   "metadata": {},
   "outputs": [],
   "source": [
    "using LinearAlgebra\n",
    "using TensorKit\n",
    "using KrylovKit\n",
    "using JSON\n",
    "using HDF5, JLD\n",
    "cd(\"D:\\\\My Documents\\\\Code\\\\Julia_codes\\\\Tensor network\\\\IPEPS_TensorKit\\\\kagome\\\\SU2_PG\")\n",
    "#push!(LOAD_PATH, \"D:\\\\My Documents\\\\Code\\\\Julia_codes\\\\Tensor network\\\\IPEPS_TensorKit\\\\kagome\\\\SU2_PG\")\n",
    "include(\"kagome_load_tensor.jl\")\n",
    "include(\"kagome_CTMRG.jl\")\n",
    "include(\"kagome_model.jl\")\n",
    "include(\"kagome_IPESS.jl\")\n",
    "include(\"mps_algorithms\\\\ITEBD_algorithms.jl\")\n",
    "include(\"mps_algorithms\\\\TransfOp_decomposition.jl\")\n",
    "include(\"mps_algorithms\\\\PUMPS_algorithms.jl\")\n",
    "\n",
    "D=3;\n",
    "chi=5;\n",
    "W=5;\n",
    "N=6;\n",
    "tol=1e-6;\n",
    "EH_n=3;#number of entanglement spectrum per k point\n",
    "\n",
    "Dtrun_init=200;\n",
    "Dtrun_max=200;\n",
    "trun_tol=1e-8;\n",
    "group_size=Int(round((10^8)/(chi*chi*W*W*D)));\n",
    "\n",
    "mpo_type=\"OO\";#\"O_O\" or \"OO\"\n",
    "\n",
    "pow=Int((N-2)/2);\n",
    "\n",
    "J1=1;\n",
    "J2=0;\n",
    "J3=0;\n",
    "Jchi=0;\n",
    "Jtrip=0;\n"
   ]
  },
  {
   "cell_type": "code",
   "execution_count": 2,
   "metadata": {},
   "outputs": [],
   "source": [
    "\n",
    "parameters=Dict([(\"J1\", J1), (\"J2\", J2), (\"J3\", J3), (\"Jchi\", Jchi), (\"Jtrip\", Jtrip)]);\n",
    "\n",
    "A_set,B_set,A1_set,A2_set, A_set_occu,B_set_occu,A1_set_occu,A2_set_occu, S_label, Sz_label, virtual_particle, Va, Vb=construct_tensor(D);\n",
    "\n",
    "filenm=\"LS_D_\"*string(D)*\"_chi_40.json\"\n",
    "json_dict=read_json_state(filenm);\n",
    "\n",
    "bond_tensor,triangle_tensor=construct_su2_PG_IPESS(json_dict,A_set,B_set,A1_set,A2_set, A_set_occu,B_set_occu,A1_set_occu,A2_set_occu, S_label, Sz_label, virtual_particle, Va, Vb);\n",
    "\n",
    "PEPS_tensor=bond_tensor;\n",
    "@tensor PEPS_tensor[:] := bond_tensor[-1,1,-5]*bond_tensor[4,3,-6]*bond_tensor[-4,2,-7]*triangle_tensor[1,3,2]*triangle_tensor[4,-2,-3];\n",
    "A_unfused=PEPS_tensor;\n",
    "\n",
    "U_phy=unitary(fuse(space(PEPS_tensor, 5) ⊗ space(PEPS_tensor, 6) ⊗ space(PEPS_tensor, 7)), space(PEPS_tensor, 5) ⊗ space(PEPS_tensor, 6) ⊗ space(PEPS_tensor, 7));\n",
    "@tensor A_fused[:] :=PEPS_tensor[-1,-2,-3,-4,1,2,3]*U_phy[-5,1,2,3];\n"
   ]
  },
  {
   "cell_type": "code",
   "execution_count": 3,
   "metadata": {},
   "outputs": [
    {
     "data": {
      "text/plain": [
       "\"load CTM from saved data directly\""
      ]
     },
     "metadata": {},
     "output_type": "display_data"
    }
   ],
   "source": [
    "CTM=[];\n",
    "U_L=[];\n",
    "U_D=[];\n",
    "U_R=[];\n",
    "U_U=[];\n",
    "\n",
    "try\n",
    "    #load data\n",
    "    jld_filenm=\"CTM_D\"*string(D)*\"_chi\"*string(chi)*\".jld\";\n",
    "    CTM_dict=load(jld_filenm)[\"CTM_dict\"];\n",
    "    U_L_dict=load(jld_filenm)[\"U_L_dict\"];\n",
    "    U_D_dict=load(jld_filenm)[\"U_D_dict\"];\n",
    "    U_R_dict=load(jld_filenm)[\"U_R_dict\"];\n",
    "    U_U_dict=load(jld_filenm)[\"U_U_dict\"];\n",
    "    CTM=deepcopy(CTM_dict)\n",
    "    for cc=1:4\n",
    "        CTM[\"Tset\"][cc]=convert(TensorMap,CTM_dict[\"Tset\"][cc]);\n",
    "        CTM[\"Cset\"][cc]=convert(TensorMap,CTM_dict[\"Cset\"][cc]);\n",
    "    end\n",
    "    U_L=convert(TensorMap,U_L_dict);\n",
    "    U_D=convert(TensorMap,U_D_dict);\n",
    "    U_R=convert(TensorMap,U_R_dict);\n",
    "    U_U=convert(TensorMap,U_U_dict);\n",
    "\n",
    "    display(\"load CTM from saved data directly\")\n",
    "catch e\n",
    "\n",
    "    display(\"No CTM found from saved data, now do CTMRG\")\n",
    "\n",
    "\n",
    "    init=Dict([(\"CTM\", []), (\"init_type\", \"PBC\")]);\n",
    "    conv_check=\"singular_value\";\n",
    "    @time CTM, AA_fused, U_L,U_D,U_R,U_U=CTMRG(A_fused,chi,conv_check,tol,init);\n",
    "    \n",
    "    @time E_up, E_down=evaluate_ob(parameters, U_phy, A_unfused, A_fused, AA_fused, U_L,U_D,U_R,U_U, CTM, \"E_triangle\");\n",
    "    @time E_up_12, E_up_31, E_up_23, E_down_12, E_down_31, E_down_23=evaluate_ob(parameters, U_phy, A_unfused, A_fused, AA_fused, U_L,U_D,U_R,U_U, CTM, \"E_bond\");\n",
    "    display((E_up+E_down)/3)\n",
    "\n",
    "    \n",
    "    CTM_dict=deepcopy(CTM)\n",
    "    for cc=1:4\n",
    "        CTM_dict[\"Tset\"][cc]=convert(Dict,CTM_dict[\"Tset\"][cc]);\n",
    "        CTM_dict[\"Cset\"][cc]=convert(Dict,CTM_dict[\"Cset\"][cc]);\n",
    "    end\n",
    "    U_L_dict=convert(Dict,U_L);\n",
    "    U_D_dict=convert(Dict,U_D);\n",
    "    U_R_dict=convert(Dict,U_R);\n",
    "    U_U_dict=convert(Dict,U_U);\n",
    "\n",
    "    jld_filenm=\"CTM_D\"*string(D)*\"_chi\"*string(chi)*\".jld\";\n",
    "    save(jld_filenm, \"CTM_dict\",CTM_dict, \"U_L_dict\",U_L_dict,\"U_D_dict\",U_D_dict,\"U_R_dict\",U_R_dict,\"U_U_dict\",U_U_dict);\n",
    "\n",
    "\n",
    "\n",
    "end\n"
   ]
  },
  {
   "cell_type": "code",
   "execution_count": 4,
   "metadata": {},
   "outputs": [
    {
     "data": {
      "text/plain": [
       "\"load itebd ground state from saved data directly\""
      ]
     },
     "metadata": {},
     "output_type": "display_data"
    }
   ],
   "source": [
    "\n",
    "O1=[];\n",
    "O2=[];\n",
    "Ag=[];\n",
    "try\n",
    "    #load data\n",
    "    jld_filenm=\"itebd_ground_D\"*string(D)*\"_chi\"*string(chi)*\"_W\"*string(W)*\".jld\";\n",
    "    Ag_dict=load(jld_filenm)[\"Ag_dict\"];\n",
    "    O1_dict=load(jld_filenm)[\"O1_dict\"];\n",
    "    O2_dict=load(jld_filenm)[\"O2_dict\"];\n",
    "    Ag=convert(TensorMap,Ag_dict);\n",
    "    O1=convert(TensorMap,O1_dict);\n",
    "    O2=convert(TensorMap,O2_dict);\n",
    "    display(\"load itebd ground state from saved data directly\")\n",
    "catch e\n",
    "\n",
    "    display(\"No itebd ground state found from saved data, now do itebd\")\n",
    "    \n",
    "    Tleft=CTM[\"Tset\"][4];\n",
    "    Tright=CTM[\"Tset\"][2];\n",
    "    @tensor O1[:]:=Tleft[-3,1,-1]*U_L[1,-2,-4];\n",
    "    @tensor O2[:]:=Tright[-1,1,-3]*U_R[-4,-2,1];\n",
    "    \n",
    "    mps_virtual=SU₂Space(0=>1,1/2=>1,1=>1);mps_phy=space(O1,2);\n",
    "    A_init=permute(TensorMap(randn, mps_virtual*mps_virtual', mps_phy),(1,2,3,),());\n",
    "\n",
    "    #Ag,A_init=ITEBD_boundary_groundstate(O1,O2,W,A_init,\"OO\");\n",
    "    Ag,A_init=ITEBD_boundary_groundstate(O1,O2,W,A_init,\"O_O\");\n",
    "\n",
    "    #save itebd data\n",
    "    O1_dict=convert(Dict,O1);\n",
    "    O2_dict=convert(Dict,O2);\n",
    "    Ag_dict=convert(Dict,Ag);\n",
    "    jld_filenm=\"itebd_ground_D\"*string(D)*\"_chi\"*string(chi)*\"_W\"*string(W)*\".jld\";\n",
    "    save(jld_filenm, \"O1_dict\", O1_dict,\"O2_dict\", O2_dict,\"Ag_dict\", Ag_dict);\n",
    "\n",
    "    #save initial CTM to compare with other codes\n",
    "    matwrite(\"itebd_matfile.mat\", Dict(\n",
    "        \"O1\" => convert(Array,O1),\n",
    "        \"O2\" => convert(Array,O2),\n",
    "        \"A_init\" => convert(Array,A_init),\n",
    "        \"Ag\" => convert(Array,Ag)\n",
    "    ); compress = false)\n",
    "\n",
    "\n",
    "end"
   ]
  },
  {
   "cell_type": "code",
   "execution_count": 5,
   "metadata": {},
   "outputs": [
    {
     "data": {
      "text/plain": [
       "(Rep[SU₂](0=>5, 1/2=>4, 1=>4) ⊗ Rep[SU₂](0=>1, 1/2=>1) ⊗ Rep[SU₂](0=>5, 1/2=>4, 1=>4)' ⊗ Rep[SU₂](0=>1, 1/2=>1)') ← ProductSpace{GradedSpace{SU2Irrep, TensorKit.SortedVectorDict{SU2Irrep, Int64}}, 0}()"
      ]
     },
     "metadata": {},
     "output_type": "display_data"
    }
   ],
   "source": [
    "\n",
    "space_AOA=fuse(space(Ag,1)'⊗space(O2,1)'⊗space(O1,1)⊗ space(Ag,1));\n",
    "space_AA=fuse(space(Ag,1)'⊗ space(Ag,1));\n",
    "\n",
    "AOA_sec=collect(sectors(space_AOA))\n",
    "AA_sec=collect(sectors(space_AA))\n",
    "\n",
    "@tensor OO[:]:=O1[-2,-3,-5,1]*O2[-1,1,-4,-6];\n",
    "U_fuse_chichi=unitary(fuse(space(OO,1)⊗ space(OO,2)),space(OO,1)⊗ space(OO,2));\n",
    "@tensor OO[:]:=U_fuse_chichi[-1,1,2]*OO[1,2,-2,3,4,-4]*U_fuse_chichi'[3,4,-3];\n",
    "display(space(OO))"
   ]
  },
  {
   "cell_type": "code",
   "execution_count": 6,
   "metadata": {},
   "outputs": [],
   "source": [
    "# for s in sectors(space_AOA)\n",
    "#   display(s)\n",
    "#   @show s, dim(space_AOA, s), dim(s)\n",
    "# end\n"
   ]
  },
  {
   "cell_type": "code",
   "execution_count": 7,
   "metadata": {},
   "outputs": [],
   "source": [
    "#normalize the MPO\n",
    "euL_set,_,_,_,_=FLR_eig(Ag,OO,20,space_AOA,AOA_sec);\n",
    "norm_coe=maximum(abs.(group_numbers(euL_set)));\n",
    "OO=OO/norm_coe;\n",
    "O1=O1/norm_coe;\n"
   ]
  },
  {
   "cell_type": "code",
   "execution_count": 8,
   "metadata": {},
   "outputs": [],
   "source": [
    "\n",
    "check_complete_decomp=false;\n",
    "if check_complete_decomp\n",
    "    Dtrun=W*W*chi*chi;\n",
    "\n",
    "    euL_set,evL_set,euR_set,evR_set,SPIN_eig_set=FLR_eig(Ag,OO,Dtrun,space_AOA,AOA_sec);\n",
    "    display(size(euL_set))\n",
    "    eul_set,evl_set,eur_set,evr_set,spin_eig_set=GLR_eig(Ag,Dtrun,space_AA,AA_sec);\n",
    "    display(size(eul_set))\n",
    "    S_set,U_set,Vh_set,SPIN_svd_set=FLR_svd(Ag,OO,pow,Dtrun,space_AOA,AOA_sec);\n",
    "    display(size(S_set))\n",
    "    s_set,u_set,vh_set,spin_svd_set=GLR_svd(Ag,pow,Dtrun,space_AA,AA_sec);\n",
    "    display(size(s_set))\n",
    "\n",
    "\n",
    "    euR_set,evL_set,evR_set,SPIN_eig_set=truncate_sectors(Dtrun,euR_set,evL_set,evR_set,SPIN_eig_set);\n",
    "    display(euR_set)\n",
    "    eur_set,evl_set,evr_set,spin_eig_set=truncate_sectors(Dtrun,eur_set,evl_set,evr_set,spin_eig_set);\n",
    "    display(eur_set)\n",
    "    S_set,U_set,Vh_set,SPIN_svd_set=truncate_sectors(Dtrun,S_set,U_set,Vh_set,SPIN_svd_set);\n",
    "    display(S_set)\n",
    "    s_set,u_set,vh_set,spin_svd_set=truncate_sectors(Dtrun,s_set,u_set,vh_set,spin_svd_set);\n",
    "    display(s_set)\n",
    "\n",
    "\n",
    "\n",
    "\n",
    "    display(\"check FLR_eig\")\n",
    "    @tensor M[:]:=Ag'[-1,-4,1]*OO[-2,2,-5,1]*Ag[-3,-6,2];\n",
    "    M=permute(M,(1,2,3,),(4,5,6,));\n",
    "    M0=M;\n",
    "    for cc=1:pow-1\n",
    "        M=M*M0;\n",
    "    end\n",
    "    M_temp=M*0;\n",
    "    for cc=1:length(euR_set)\n",
    "        euR=euR_set[cc];\n",
    "        evR=evR_set[cc];\n",
    "        evL=evL_set[cc];\n",
    "        spin=SPIN_eig_set[cc]\n",
    "        for cs=1:length(euR)\n",
    "            @tensor coe=evR[cs][2,3,4,1]*evL[cs][1,2,3,4];\n",
    "            M_temp=M_temp+euR[cs]^(pow)*evR[cs]*evL[cs]*(spin[cs]*2+1)/coe;\n",
    "        end\n",
    "    end\n",
    "    display(norm(M-M_temp)/norm(M))\n",
    "\n",
    "    euR_set_combined,evL_set_combined,evR_set_combined,SPIN_eig_set_combined=combine_singlespin_sector(euR_set,evL_set,evR_set,SPIN_eig_set,true)\n",
    "    M_temp=M*0;\n",
    "    for cc=1:length(euR_set)\n",
    "        euR=euR_set_combined[cc];\n",
    "        evR=evR_set_combined[cc];\n",
    "        evL=evL_set_combined[cc];\n",
    "        spin=SPIN_eig_set_combined[cc]\n",
    "        if euR==[]\n",
    "        else\n",
    "            euR0=euR\n",
    "            for cc=1:pow-1\n",
    "                euR=euR*euR0;\n",
    "            end\n",
    "\n",
    "            M_temp=M_temp+evR*euR*evL*(spin*2+1);\n",
    "        end\n",
    "    end\n",
    "    display(norm(M-M_temp)/norm(M))\n",
    "\n",
    "\n",
    "\n",
    "\n",
    "    display(\"check GLR_eig\")\n",
    "    @tensor M[:]:=Ag'[-1,-3,1]*Ag[-2,-4,1];\n",
    "    M=permute(M,(1,2,),(3,4,));\n",
    "    M0=M;\n",
    "    for cc=1:pow-1\n",
    "        M=M*M0;\n",
    "    end\n",
    "    eur_set_combined,evl_set_combined,evr_set_combined,spin_eig_set_combined=combine_singlespin_sector(eur_set,evl_set,evr_set,spin_eig_set,true)\n",
    "\n",
    "    M_temp=M*0;\n",
    "    for cc=1:length(eul_set)\n",
    "        eur=eur_set_combined[cc];\n",
    "        evl=evl_set_combined[cc];\n",
    "        evr=evr_set_combined[cc];\n",
    "        spin=spin_eig_set_combined[cc]\n",
    "        if eur==[]\n",
    "        else\n",
    "            eur0=eur;\n",
    "            for cc=1:pow-1\n",
    "                eur=eur*eur0;\n",
    "            end\n",
    "            M_temp=M_temp+evr*eur*evl*(spin*2+1);\n",
    "        end\n",
    "    end\n",
    "    display(norm(M-M_temp)/norm(M))\n",
    "\n",
    "\n",
    "\n",
    "\n",
    "\n",
    "    display(\"check FLR_svd\")\n",
    "    @tensor M[:]:=Ag'[-1,-4,1]*OO[-2,2,-5,1]*Ag[-3,-6,2];\n",
    "    M=permute(M,(1,2,3,),(4,5,6,));\n",
    "    M0=M;\n",
    "    for cc=1:pow-1\n",
    "        M=M*M0;\n",
    "    end\n",
    "    M_temp=M*0;\n",
    "    for cc=1:length(S_set)\n",
    "        S=S_set[cc];\n",
    "        U=U_set[cc];\n",
    "        Vh=Vh_set[cc];\n",
    "        spin=SPIN_svd_set[cc]\n",
    "        for cs=1:length(S)\n",
    "            M_temp=M_temp+S[cs]*U[cs]*Vh[cs]*(spin[cs]*2+1);\n",
    "        end\n",
    "    end\n",
    "    display(norm(M-M_temp)/norm(M))\n",
    "\n",
    "    S_set_combined,Vh_set_combined,U_set_combined,SPIN_svd_set_combined=combine_singlespin_sector(S_set,Vh_set,U_set,SPIN_svd_set,false)\n",
    "    M_temp=M*0;\n",
    "    for cc=1:length(S_set)\n",
    "        S=S_set_combined[cc];\n",
    "        U=U_set_combined[cc];\n",
    "        Vh=Vh_set_combined[cc];\n",
    "        spin=SPIN_svd_set_combined[cc]\n",
    "        if S==[]\n",
    "        else\n",
    "            M_temp=M_temp+U*S*Vh*(spin*2+1);\n",
    "        end\n",
    "    end\n",
    "    display(norm(M-M_temp)/norm(M))\n",
    "\n",
    "\n",
    "\n",
    "    display(\"check GLR_svd\")\n",
    "    @tensor M[:]:=Ag'[-1,-3,1]*Ag[-2,-4,1];\n",
    "    M=permute(M,(1,2,),(3,4,));\n",
    "    M0=M;\n",
    "    for cc=1:pow-1\n",
    "        M=M*M0;\n",
    "    end\n",
    "    M_temp=M*0;\n",
    "    for cc=1:length(s_set)\n",
    "        s=s_set[cc];\n",
    "        u=u_set[cc];\n",
    "        vh=vh_set[cc];\n",
    "        spin=spin_svd_set[cc]\n",
    "        for cs=1:length(s)\n",
    "            M_temp=M_temp+s[cs]*u[cs]*vh[cs]*(spin[cs]*2+1);\n",
    "        end\n",
    "    end\n",
    "    display(norm(M-M_temp)/norm(M))\n",
    "\n",
    "    s_set_combined,vh_set_combined,u_set_combined,spin_svd_set_combined=combine_singlespin_sector(s_set,vh_set,u_set,spin_svd_set,false)\n",
    "\n",
    "\n",
    "    M_temp=M*0;\n",
    "    for cc=1:length(s_set)\n",
    "        s=s_set_combined[cc];\n",
    "        vh=vh_set_combined[cc];\n",
    "        u=u_set_combined[cc];\n",
    "        spin=spin_svd_set_combined[cc]\n",
    "        if s==[]\n",
    "        else\n",
    "            M_temp=M_temp+u*s*vh*(spin*2+1);\n",
    "        end\n",
    "    end\n",
    "    display(norm(M-M_temp)/norm(M))\n",
    "\n",
    "end\n"
   ]
  },
  {
   "cell_type": "code",
   "execution_count": 9,
   "metadata": {},
   "outputs": [
    {
     "data": {
      "text/plain": [
       "\"FLR_eig, DTrun=200, SU2 reduced to 94, minimal eigenvalue: 0.005102569466384027\""
      ]
     },
     "metadata": {},
     "output_type": "display_data"
    },
    {
     "data": {
      "text/plain": [
       "\"GLR_eig, Dtrun=200, SU2 reduced to 13, minimal eigenvalue: 0.0012072930639182953\""
      ]
     },
     "metadata": {},
     "output_type": "display_data"
    },
    {
     "data": {
      "text/plain": [
       "\"Dtrun exceeds matrix size\""
      ]
     },
     "metadata": {},
     "output_type": "display_data"
    },
    {
     "data": {
      "text/plain": [
       "(Any[ComplexF64[1.0000000000000062 + 0.0im, -0.1285411042588198 - 0.6403596952899754im, -0.12854110425881946 + 0.6403596952899755im, 0.06838125896513747 - 5.756357788026782e-18im, -0.06568417212048767 - 1.993476978253688e-17im], ComplexF64[0.5730937834312549 + 0.3831799476835856im, 0.573093783431255 - 0.38317994768358543im, -0.20630574949032854 + 0.38699355565278803im, -0.2063057494903283 - 0.3869935556527881im], ComplexF64[0.13457606824583213 - 3.7834420655007833e-17im, 0.06838125224346751 + 3.10240426989962e-5im, 0.0683812522434672 - 3.102404269893237e-5im, 0.034746123005571575 - 3.6089941275177256e-17im]], Any[Any[TensorMap(ProductSpace(Rep[SU₂](0=>1)) ← (Rep[SU₂](0=>1, 1/2=>2) ⊗ Rep[SU₂](0=>1, 1/2=>2)')):\n",
       "* Data for fusiontree FusionTree{Irrep[SU₂]}((0,), 0, (false,), ()) ← FusionTree{Irrep[SU₂]}((1/2, 1/2), 0, (false, true), ()):\n",
       "[:, :, 1] =\n",
       " -0.07261868893441695 - 0.628272652609874im  …  -4.5970172113385406e-17 - 8.465450562766823e-16im\n",
       "\n",
       "[:, :, 2] =\n",
       " 4.8572257327350623e-17 - 1.0477729794899919e-15im  …  -0.07261868893441686 - 0.6282726526098735im\n",
       "* Data for fusiontree FusionTree{Irrep[SU₂]}((0,), 0, (false,), ()) ← FusionTree{Irrep[SU₂]}((0, 0), 0, (false, true), ()):\n",
       "[:, :, 1] =\n",
       " -0.0513491673864023 - 0.44425585309450033im\n",
       ", TensorMap(ProductSpace(Rep[SU₂](0=>1)) ← (Rep[SU₂](0=>1, 1/2=>2) ⊗ Rep[SU₂](0=>1, 1/2=>2)')):\n",
       "* Data for fusiontree FusionTree{Irrep[SU₂]}((0,), 0, (false,), ()) ← FusionTree{Irrep[SU₂]}((1/2, 1/2), 0, (false, true), ()):\n",
       "[:, :, 1] =\n",
       " 0.050577461470898075 + 0.3894390951306861im  …  -0.4852207512415389 + 0.3076934729460275im\n",
       "\n",
       "[:, :, 2] =\n",
       " -0.48515442837711004 + 0.3077412184645635im  …  0.27804816261291754 + 0.10803083850695919im\n",
       "* Data for fusiontree FusionTree{Irrep[SU₂]}((0,), 0, (false,), ()) ← FusionTree{Irrep[SU₂]}((0, 0), 0, (false, true), ()):\n",
       "[:, :, 1] =\n",
       " -0.09920271660658676 - 0.29455485422400457im\n",
       ", TensorMap(ProductSpace(Rep[SU₂](0=>1)) ← (Rep[SU₂](0=>1, 1/2=>2) ⊗ Rep[SU₂](0=>1, 1/2=>2)')):\n",
       "* Data for fusiontree FusionTree{Irrep[SU₂]}((0,), 0, (false,), ()) ← FusionTree{Irrep[SU₂]}((1/2, 1/2), 0, (false, true), ()):\n",
       "[:, :, 1] =\n",
       " -0.3877058509675913 - 0.06249049168108489im  …  -0.32246721221332314 + 0.4754938211621067im\n",
       "\n",
       "[:, :, 2] =\n",
       " -0.3224215220070996 + 0.4755615763238406im  …  -0.09945755578376907 - 0.2812287990203967im\n",
       "* Data for fusiontree FusionTree{Irrep[SU₂]}((0,), 0, (false,), ()) ← FusionTree{Irrep[SU₂]}((0, 0), 0, (false, true), ()):\n",
       "[:, :, 1] =\n",
       " 0.29137576757646805 + 0.10818457929980375im\n",
       ", TensorMap(ProductSpace(Rep[SU₂](0=>1)) ← (Rep[SU₂](0=>1, 1/2=>2) ⊗ Rep[SU₂](0=>1, 1/2=>2)')):\n",
       "* Data for fusiontree FusionTree{Irrep[SU₂]}((0,), 0, (false,), ()) ← FusionTree{Irrep[SU₂]}((1/2, 1/2), 0, (false, true), ()):\n",
       "[:, :, 1] =\n",
       " -7.99586197493248e-5 + 1.2795421855393846e-7im  …  0.001127333954877607 + 0.7071058622850412im\n",
       "\n",
       "[:, :, 2] =\n",
       " -0.0011357660757577981 - 0.7071058487914939im  …  0.00022555760091993912 - 3.6094978517198244e-7im\n",
       "* Data for fusiontree FusionTree{Irrep[SU₂]}((0,), 0, (false,), ()) ← FusionTree{Irrep[SU₂]}((0, 0), 0, (false, true), ()):\n",
       "[:, :, 1] =\n",
       " 3.2872626931191538e-6 - 5.2604601924466365e-9im\n",
       ", TensorMap(ProductSpace(Rep[SU₂](0=>1)) ← (Rep[SU₂](0=>1, 1/2=>2) ⊗ Rep[SU₂](0=>1, 1/2=>2)')):\n",
       "* Data for fusiontree FusionTree{Irrep[SU₂]}((0,), 0, (false,), ()) ← FusionTree{Irrep[SU₂]}((1/2, 1/2), 0, (false, true), ()):\n",
       "[:, :, 1] =\n",
       " 0.26661364173859065 - 0.021599198792386417im  …  0.14279984342727448 - 0.011454460474211068im\n",
       "\n",
       "[:, :, 2] =\n",
       " 0.1427814609803167 - 0.011681367554185916im  …  -0.9383983800548759 + 0.07602256593131079im\n",
       "* Data for fusiontree FusionTree{Irrep[SU₂]}((0,), 0, (false,), ()) ← FusionTree{Irrep[SU₂]}((0, 0), 0, (false, true), ()):\n",
       "[:, :, 1] =\n",
       " 0.03204606890174893 - 0.0025961515255175766im\n",
       "], Any[TensorMap(ProductSpace(Rep[SU₂](1/2=>1)) ← (Rep[SU₂](0=>1, 1/2=>2) ⊗ Rep[SU₂](0=>1, 1/2=>2)')):\n",
       "* Data for fusiontree FusionTree{Irrep[SU₂]}((1/2,), 1/2, (false,), ()) ← FusionTree{Irrep[SU₂]}((0, 1/2), 1/2, (false, true), ()):\n",
       "[:, :, 1] =\n",
       " 0.01888000613872033 + 0.43904789919352005im\n",
       "\n",
       "[:, :, 2] =\n",
       " 0.2380551167038736 + 0.014716973138319453im\n",
       "* Data for fusiontree FusionTree{Irrep[SU₂]}((1/2,), 1/2, (false,), ()) ← FusionTree{Irrep[SU₂]}((1/2, 0), 1/2, (false, true), ()):\n",
       "[:, :, 1] =\n",
       " -0.020297824672716937 - 0.439020508837438im  …  -0.23800701803836546 - 0.013975342316665093im\n",
       ", TensorMap(ProductSpace(Rep[SU₂](1/2=>1)) ← (Rep[SU₂](0=>1, 1/2=>2) ⊗ Rep[SU₂](0=>1, 1/2=>2)')):\n",
       "* Data for fusiontree FusionTree{Irrep[SU₂]}((1/2,), 1/2, (false,), ()) ← FusionTree{Irrep[SU₂]}((0, 1/2), 1/2, (false, true), ()):\n",
       "[:, :, 1] =\n",
       " -0.07776971322410516 - 0.43255390481576816im\n",
       "\n",
       "[:, :, 2] =\n",
       " 0.22895028472675027 - 0.06651629839312057im\n",
       "* Data for fusiontree FusionTree{Irrep[SU₂]}((1/2,), 1/2, (false,), ()) ← FusionTree{Irrep[SU₂]}((1/2, 0), 1/2, (false, true), ()):\n",
       "[:, :, 1] =\n",
       " -0.07915816749770826 - 0.4322655398437921im  …  0.22883237405756549 - 0.06725007412953103im\n",
       ", TensorMap(ProductSpace(Rep[SU₂](1/2=>1)) ← (Rep[SU₂](0=>1, 1/2=>2) ⊗ Rep[SU₂](0=>1, 1/2=>2)')):\n",
       "* Data for fusiontree FusionTree{Irrep[SU₂]}((1/2,), 1/2, (false,), ()) ← FusionTree{Irrep[SU₂]}((0, 1/2), 1/2, (false, true), ()):\n",
       "[:, :, 1] =\n",
       " -0.12620878544096295 + 0.08018911278412995im\n",
       "\n",
       "[:, :, 2] =\n",
       " -0.2965883073080293 - 0.3737173678961218im\n",
       "* Data for fusiontree FusionTree{Irrep[SU₂]}((1/2,), 1/2, (false,), ()) ← FusionTree{Irrep[SU₂]}((1/2, 0), 1/2, (false, true), ()):\n",
       "[:, :, 1] =\n",
       " 0.12589052099494738 - 0.08057229926718665im  …  0.2978271546823149 + 0.3727873667623676im\n",
       ", TensorMap(ProductSpace(Rep[SU₂](1/2=>1)) ← (Rep[SU₂](0=>1, 1/2=>2) ⊗ Rep[SU₂](0=>1, 1/2=>2)')):\n",
       "* Data for fusiontree FusionTree{Irrep[SU₂]}((1/2,), 1/2, (false,), ()) ← FusionTree{Irrep[SU₂]}((0, 1/2), 1/2, (false, true), ()):\n",
       "[:, :, 1] =\n",
       " 0.14776326184896788 + 0.022501936212997644im\n",
       "\n",
       "[:, :, 2] =\n",
       " 0.12076404407161927 - 0.4616139951769789im\n",
       "* Data for fusiontree FusionTree{Irrep[SU₂]}((1/2,), 1/2, (false,), ()) ← FusionTree{Irrep[SU₂]}((1/2, 0), 1/2, (false, true), ()):\n",
       "[:, :, 1] =\n",
       " 0.1478984786088105 + 0.0220225193106544im  …  0.1192542688904284 - 0.46196072825561313im\n",
       "], Any[TensorMap(ProductSpace(Rep[SU₂](1=>1)) ← (Rep[SU₂](0=>1, 1/2=>2) ⊗ Rep[SU₂](0=>1, 1/2=>2)')):\n",
       "* Data for fusiontree FusionTree{Irrep[SU₂]}((1,), 1, (false,), ()) ← FusionTree{Irrep[SU₂]}((1/2, 1/2), 1, (false, true), ()):\n",
       "[:, :, 1] =\n",
       " 0.26819514251963705 - 0.00014327245885207166im  …  0.28794768963123213 - 0.0001812772915727356im\n",
       "\n",
       "[:, :, 2] =\n",
       " 0.2879477189623621 - 0.00012637164813448837im  …  0.309155044287882 - 0.00016515363755471437im\n",
       ", TensorMap(ProductSpace(Rep[SU₂](1=>1)) ← (Rep[SU₂](0=>1, 1/2=>2) ⊗ Rep[SU₂](0=>1, 1/2=>2)')):\n",
       "* Data for fusiontree FusionTree{Irrep[SU₂]}((1,), 1, (false,), ()) ← FusionTree{Irrep[SU₂]}((1/2, 1/2), 1, (false, true), ()):\n",
       "[:, :, 1] =\n",
       " 0.20734439284355868 + 0.0002357854824623269im  …  0.2226153234177804 + 0.00023192701916342043im\n",
       "\n",
       "[:, :, 2] =\n",
       " 0.33444086007177143 + 0.00034365615809154335im  …  0.35907245153773343 + 0.0003347325976321896im\n",
       ", TensorMap(ProductSpace(Rep[SU₂](1=>1)) ← (Rep[SU₂](0=>1, 1/2=>2) ⊗ Rep[SU₂](0=>1, 1/2=>2)')):\n",
       "* Data for fusiontree FusionTree{Irrep[SU₂]}((1,), 1, (false,), ()) ← FusionTree{Irrep[SU₂]}((1/2, 1/2), 1, (false, true), ()):\n",
       "[:, :, 1] =\n",
       " -0.20734451910862492 + 5.686884292948793e-5im  …  -0.3344410321008332 + 5.5068503640425854e-5im\n",
       "\n",
       "[:, :, 2] =\n",
       " -0.2226154406679285 + 3.983316327415019e-5im  …  -0.35907260669630475 + 2.489045617905597e-5im\n",
       ", TensorMap(ProductSpace(Rep[SU₂](1=>1)) ← (Rep[SU₂](0=>1, 1/2=>2) ⊗ Rep[SU₂](0=>1, 1/2=>2)')):\n",
       "* Data for fusiontree FusionTree{Irrep[SU₂]}((1,), 1, (false,), ()) ← FusionTree{Irrep[SU₂]}((1/2, 1/2), 1, (false, true), ()):\n",
       "[:, :, 1] =\n",
       " -0.012261081092449989 + 0.15983064167869374im  …  -0.019805046218262175 + 0.25780027320452786im\n",
       "\n",
       "[:, :, 2] =\n",
       " -0.019748528764824903 + 0.25780460882548534im  …  -0.03189941614739961 + 0.41582827106118814im\n",
       "]], Any[Any[TensorMap((Rep[SU₂](0=>1, 1/2=>2) ⊗ Rep[SU₂](0=>1, 1/2=>2)') ← ProductSpace(Rep[SU₂](0=>1))):\n",
       "* Data for fusiontree FusionTree{Irrep[SU₂]}((1/2, 1/2), 0, (false, true), ()) ← FusionTree{Irrep[SU₂]}((0,), 0, (false,), ()):\n",
       "[:, :, 1] =\n",
       "      0.073580252941684 + 0.5543706853565588im    …  -6.114900252818245e-17 - 1.5612511283791264e-16im\n",
       " 1.1449174941446927e-16 - 1.97758476261356e-16im       0.024534763596201235 + 0.1848505973561553im\n",
       "* Data for fusiontree FusionTree{Irrep[SU₂]}((0, 0), 0, (false, true), ()) ← FusionTree{Irrep[SU₂]}((0,), 0, (false,), ()):\n",
       "[:, :, 1] =\n",
       " 0.10628084297384086 + 0.8007445123405212im\n",
       ", TensorMap((Rep[SU₂](0=>1, 1/2=>2) ⊗ Rep[SU₂](0=>1, 1/2=>2)') ← ProductSpace(Rep[SU₂](0=>1))):\n",
       "* Data for fusiontree FusionTree{Irrep[SU₂]}((1/2, 1/2), 0, (false, true), ()) ← FusionTree{Irrep[SU₂]}((0,), 0, (false,), ()):\n",
       "[:, :, 1] =\n",
       " 0.43806480227008193 + 0.0630296756132436im   …  -0.1080604454896113 - 0.357926668604115im\n",
       "  -0.108029138025703 - 0.35795680844796524im     0.06717917958340819 - 0.0897344207117989im\n",
       "* Data for fusiontree FusionTree{Irrep[SU₂]}((0, 0), 0, (false, true), ()) ← FusionTree{Irrep[SU₂]}((0,), 0, (false,), ()):\n",
       "[:, :, 1] =\n",
       " -0.7145228914445927 + 0.03776621269809389im\n",
       ", TensorMap((Rep[SU₂](0=>1, 1/2=>2) ⊗ Rep[SU₂](0=>1, 1/2=>2)') ← ProductSpace(Rep[SU₂](0=>1))):\n",
       "* Data for fusiontree FusionTree{Irrep[SU₂]}((1/2, 1/2), 0, (false, true), ()) ← FusionTree{Irrep[SU₂]}((0,), 0, (false,), ()):\n",
       "[:, :, 1] =\n",
       " -0.4284445909961854 - 0.11094477654197113im  …   0.23782576081428453 - 0.2885173805335414im\n",
       "   0.237843008251938 - 0.28847749202168577im     -0.02733609724591827 - 0.10871083762598656im\n",
       "* Data for fusiontree FusionTree{Irrep[SU₂]}((0, 0), 0, (false, true), ()) ← FusionTree{Irrep[SU₂]}((0,), 0, (false,), ()):\n",
       "[:, :, 1] =\n",
       " 0.6445712307797276 + 0.31063994860771865im\n",
       ", TensorMap((Rep[SU₂](0=>1, 1/2=>2) ⊗ Rep[SU₂](0=>1, 1/2=>2)') ← ProductSpace(Rep[SU₂](0=>1))):\n",
       "* Data for fusiontree FusionTree{Irrep[SU₂]}((1/2, 1/2), 0, (false, true), ()) ← FusionTree{Irrep[SU₂]}((0,), 0, (false,), ()):\n",
       "[:, :, 1] =\n",
       " 9.671405024343216e-5 + 9.90975313192588e-5im  …     0.5060527673922744 - 0.4938730388246341im\n",
       "  -0.5060445573191854 + 0.49388145123185917im     -9.097087051326835e-5 - 9.32128131033716e-5im\n",
       "* Data for fusiontree FusionTree{Irrep[SU₂]}((0, 0), 0, (false, true), ()) ← FusionTree{Irrep[SU₂]}((0,), 0, (false,), ()):\n",
       "[:, :, 1] =\n",
       " -8.122082665595887e-6 - 8.322248311504014e-6im\n",
       ", TensorMap((Rep[SU₂](0=>1, 1/2=>2) ⊗ Rep[SU₂](0=>1, 1/2=>2)') ← ProductSpace(Rep[SU₂](0=>1))):\n",
       "* Data for fusiontree FusionTree{Irrep[SU₂]}((1/2, 1/2), 0, (false, true), ()) ← FusionTree{Irrep[SU₂]}((0,), 0, (false,), ()):\n",
       "[:, :, 1] =\n",
       "   0.6098631793178583 + 0.09191314777390631im  …  -0.18863018784422006 - 0.028278154312681797im\n",
       " -0.18858582897867235 - 0.02857248476952559im      -0.7157442983223067 - 0.10787060719686703im\n",
       "* Data for fusiontree FusionTree{Irrep[SU₂]}((0, 0), 0, (false, true), ()) ← FusionTree{Irrep[SU₂]}((0,), 0, (false,), ()):\n",
       "[:, :, 1] =\n",
       " 0.14973851449533068 + 0.02256725553696872im\n",
       "], Any[TensorMap((Rep[SU₂](0=>1, 1/2=>2) ⊗ Rep[SU₂](0=>1, 1/2=>2)') ← ProductSpace(Rep[SU₂](1/2=>1))):\n",
       "* Data for fusiontree FusionTree{Irrep[SU₂]}((0, 1/2), 1/2, (false, true), ()) ← FusionTree{Irrep[SU₂]}((1/2,), 1/2, (false,), ()):\n",
       "[:, :, 1] =\n",
       " 0.20507093719634592 + 0.4307873177422303im  …  -0.14098910840510287 + 0.049803491926184475im\n",
       "* Data for fusiontree FusionTree{Irrep[SU₂]}((1/2, 0), 1/2, (false, true), ()) ← FusionTree{Irrep[SU₂]}((1/2,), 1/2, (false,), ()):\n",
       "[:, :, 1] =\n",
       " -0.20367579010752826 - 0.4314917149804525im\n",
       "  0.14110179566728842 - 0.04930757324923595im\n",
       ", TensorMap((Rep[SU₂](0=>1, 1/2=>2) ⊗ Rep[SU₂](0=>1, 1/2=>2)') ← ProductSpace(Rep[SU₂](1/2=>1))):\n",
       "* Data for fusiontree FusionTree{Irrep[SU₂]}((0, 1/2), 1/2, (false, true), ()) ← FusionTree{Irrep[SU₂]}((1/2,), 1/2, (false,), ()):\n",
       "[:, :, 1] =\n",
       " 0.251587022835061 - 0.4054292756001821im  …  -0.13455299066006696 - 0.06508798832883032im\n",
       "* Data for fusiontree FusionTree{Irrep[SU₂]}((1/2, 0), 1/2, (false, true), ()) ← FusionTree{Irrep[SU₂]}((1/2,), 1/2, (false,), ()):\n",
       "[:, :, 1] =\n",
       "   0.2528926695392821 - 0.40457026596554013im\n",
       " -0.13438444532645122 - 0.0655678072777293im\n",
       ", TensorMap((Rep[SU₂](0=>1, 1/2=>2) ⊗ Rep[SU₂](0=>1, 1/2=>2)') ← ProductSpace(Rep[SU₂](1/2=>1))):\n",
       "* Data for fusiontree FusionTree{Irrep[SU₂]}((0, 1/2), 1/2, (false, true), ()) ← FusionTree{Irrep[SU₂]}((1/2,), 1/2, (false,), ()):\n",
       "[:, :, 1] =\n",
       " 0.22736173491180248 + 0.07174731423827499im  …  -0.17536450726138442 + 0.40298936167792254im\n",
       "* Data for fusiontree FusionTree{Irrep[SU₂]}((1/2, 0), 1/2, (false, true), ()) ← FusionTree{Irrep[SU₂]}((1/2,), 1/2, (false,), ()):\n",
       "[:, :, 1] =\n",
       "   0.2272260705138682 + 0.07250348951566286im\n",
       " -0.17664746932499548 + 0.40238421543698233im\n",
       ", TensorMap((Rep[SU₂](0=>1, 1/2=>2) ⊗ Rep[SU₂](0=>1, 1/2=>2)') ← ProductSpace(Rep[SU₂](1/2=>1))):\n",
       "* Data for fusiontree FusionTree{Irrep[SU₂]}((0, 1/2), 1/2, (false, true), ()) ← FusionTree{Irrep[SU₂]}((1/2,), 1/2, (false,), ()):\n",
       "[:, :, 1] =\n",
       " 0.22173049973208483 + 0.08788645289054016im  …  0.11830282846966333 - 0.42322786537258894im\n",
       "* Data for fusiontree FusionTree{Irrep[SU₂]}((1/2, 0), 1/2, (false, true), ()) ← FusionTree{Irrep[SU₂]}((1/2,), 1/2, (false,), ()):\n",
       "[:, :, 1] =\n",
       "  -0.2213563176980609 - 0.08855741763209722im\n",
       " -0.11967881240658657 + 0.4228831019248188im\n",
       "], Any[TensorMap((Rep[SU₂](0=>1, 1/2=>2) ⊗ Rep[SU₂](0=>1, 1/2=>2)') ← ProductSpace(Rep[SU₂](1=>1))):\n",
       "* Data for fusiontree FusionTree{Irrep[SU₂]}((1/2, 1/2), 1, (false, true), ()) ← FusionTree{Irrep[SU₂]}((1,), 1, (false,), ()):\n",
       "[:, :, 1] =\n",
       "  0.4170499621860843 - 0.00022979309747161108im  …  -0.25855987255524515 + 0.00011412384354252142im\n",
       " -0.2585598413228318 + 0.00017080734358136503im       0.1603002193625938 - 8.832487057332859e-5im\n",
       ", TensorMap((Rep[SU₂](0=>1, 1/2=>2) ⊗ Rep[SU₂](0=>1, 1/2=>2)') ← ProductSpace(Rep[SU₂](1=>1))):\n",
       "* Data for fusiontree FusionTree{Irrep[SU₂]}((1/2, 1/2), 1, (false, true), ()) ← FusionTree{Irrep[SU₂]}((1,), 1, (false,), ()):\n",
       "[:, :, 1] =\n",
       " -0.3590723553355481 - 0.00042559724229225863im  …   0.33444083798575186 + 0.00036451677574791665im\n",
       " 0.22261531544526456 + 0.00023945721524684im        -0.20734442727661978 - 0.0002032628559824256im\n",
       ", TensorMap((Rep[SU₂](0=>1, 1/2=>2) ⊗ Rep[SU₂](0=>1, 1/2=>2)') ← ProductSpace(Rep[SU₂](1=>1))):\n",
       "* Data for fusiontree FusionTree{Irrep[SU₂]}((1/2, 1/2), 1, (false, true), ()) ← FusionTree{Irrep[SU₂]}((1,), 1, (false,), ()):\n",
       "[:, :, 1] =\n",
       " -0.34149744962694917 - 0.11096228817714981im  …   0.2117117728348714 + 0.06881686750795978im\n",
       "  0.31806164004825555 + 0.10338084984648141im     -0.1971827109715968 - 0.06411498524016448im\n",
       ", TensorMap((Rep[SU₂](0=>1, 1/2=>2) ⊗ Rep[SU₂](0=>1, 1/2=>2)') ← ProductSpace(Rep[SU₂](1=>1))):\n",
       "* Data for fusiontree FusionTree{Irrep[SU₂]}((1/2, 1/2), 1, (false, true), ()) ← FusionTree{Irrep[SU₂]}((1,), 1, (false,), ()):\n",
       "[:, :, 1] =\n",
       " -0.19882750567748217 - 0.23673717847105702im  …   0.18520940858763993 + 0.22047988524134723im\n",
       "  0.18516736428867062 + 0.22051519681828552im     -0.17248488163867967 - 0.2053719080210735im\n",
       "]], Any[[0.0, 0.0, 0.0, 0.0, 0.0], [0.5, 0.5, 0.5, 0.5], [1.0, 1.0, 1.0, 1.0]])"
      ]
     },
     "metadata": {},
     "output_type": "display_data"
    }
   ],
   "source": [
    "euR_set,evL_set,evR_set,SPIN_eig_set=TransfOp_decom(Ag,OO,space_AOA,AOA_sec,pow,Dtrun_init,Dtrun_max,trun_tol,\"eigenvalue_FLR\");\n",
    "# display(euR_set)\n",
    "\n",
    "eur_set,evl_set,evr_set,spin_eig_set=TransfOp_decom(Ag,OO,space_AA,AA_sec,pow,Dtrun_init,Dtrun_max,trun_tol,\"eigenvalue_GLR\");\n",
    "# display(eur_set)"
   ]
  },
  {
   "cell_type": "code",
   "execution_count": 10,
   "metadata": {},
   "outputs": [
    {
     "data": {
      "text/plain": [
       "\"minimal singular value in this sector is quite small, skip checking number of converged values\""
      ]
     },
     "metadata": {},
     "output_type": "display_data"
    },
    {
     "data": {
      "text/plain": [
       "\"minimal singular value in this sector is quite small, skip checking number of converged values\""
      ]
     },
     "metadata": {},
     "output_type": "display_data"
    },
    {
     "data": {
      "text/plain": [
       "\"FLR_svd, DTrun=200, SU2 reduced to 91, minimal eigenvalue: 0.002240726462392007\""
      ]
     },
     "metadata": {},
     "output_type": "display_data"
    },
    {
     "data": {
      "text/plain": [
       "\"GLR_svd, Dtrun=200, SU2 reduced to 13, minimal eigenvalue: 6.0356911778564504e-5\""
      ]
     },
     "metadata": {},
     "output_type": "display_data"
    },
    {
     "data": {
      "text/plain": [
       "\"Dtrun exceeds matrix size\""
      ]
     },
     "metadata": {},
     "output_type": "display_data"
    },
    {
     "name": "stdout",
     "output_type": "stream",
     "text": [
      "Number of singular values obtained are not enough, use smaller tol\n",
      "Number of singular values obtained are not enough, add noise, increase Krylov subspace and use smaller tol\n",
      "Number of singular values obtained are not enough, add noise, increase Krylov subspace and use smaller tol\n"
     ]
    },
    {
     "name": "stderr",
     "output_type": "stream",
     "text": [
      "┌ Warning: Invariant subspace of dimension 11 (up to requested tolerance `tol = 1.0e-12`), which is smaller than the number of requested singular values (i.e. `howmany == 16`); setting `howmany = 11`.\n",
      "└ @ KrylovKit C:\\Users\\Lenovo\\.julia\\packages\\KrylovKit\\YPiz7\\src\\eigsolve\\svdsolve.jl:142\n",
      "┌ Warning: Invariant subspace of dimension 11 (up to requested tolerance `tol = 1.0e-14`), which is smaller than the number of requested singular values (i.e. `howmany == 16`); setting `howmany = 11`.\n",
      "└ @ KrylovKit C:\\Users\\Lenovo\\.julia\\packages\\KrylovKit\\YPiz7\\src\\eigsolve\\svdsolve.jl:142\n",
      "┌ Warning: Invariant subspace of dimension 2 (up to requested tolerance `tol = 1.0e-12`), which is smaller than the number of requested singular values (i.e. `howmany == 4`); setting `howmany = 2`.\n",
      "└ @ KrylovKit C:\\Users\\Lenovo\\.julia\\packages\\KrylovKit\\YPiz7\\src\\eigsolve\\svdsolve.jl:142\n",
      "┌ Warning: number of values converged is not enough\n",
      "└ @ Main d:\\My Documents\\Code\\Julia_codes\\Tensor network\\IPEPS_TensorKit\\kagome\\SU2_PG\\mps_algorithms\\TransfOp_decomposition.jl:487\n",
      "┌ Warning: Invariant subspace of dimension 3 (up to requested tolerance `tol = 1.0e-12`), which is smaller than the number of requested singular values (i.e. `howmany == 4`); setting `howmany = 3`.\n",
      "└ @ KrylovKit C:\\Users\\Lenovo\\.julia\\packages\\KrylovKit\\YPiz7\\src\\eigsolve\\svdsolve.jl:142\n",
      "┌ Warning: number of values converged is not enough\n",
      "└ @ Main d:\\My Documents\\Code\\Julia_codes\\Tensor network\\IPEPS_TensorKit\\kagome\\SU2_PG\\mps_algorithms\\TransfOp_decomposition.jl:487\n"
     ]
    },
    {
     "data": {
      "text/plain": [
       "(Any[[1.3176594821247485, 0.4826343774428261, 0.3598356098545592, 0.004675996562811555, 0.0034308654699885376], [0.4840766885277672, 0.48407668802794923, 0.1888244939731826, 0.18882449372694707], [0.2749274959160688, 0.004675996649053501, 0.00467599660750583, 7.952985711679243e-5]], Any[Any[TensorMap((Rep[SU₂](0=>1, 1/2=>2) ⊗ Rep[SU₂](0=>1, 1/2=>2)') ← ProductSpace(Rep[SU₂](0=>1))):\n",
       "* Data for fusiontree FusionTree{Irrep[SU₂]}((1/2, 1/2), 0, (false, true), ()) ← FusionTree{Irrep[SU₂]}((0,), 0, (false,), ()):\n",
       "[:, :, 1] =\n",
       " -0.36951777702333555 + 8.330587133061554e-7im  …   -0.0390151889908791 + 4.664195250352903e-6im\n",
       " -0.03901518901151293 - 4.488279799621472e-6im     -0.14936630569667203 + 3.3673860953658544e-7im\n",
       "* Data for fusiontree FusionTree{Irrep[SU₂]}((0, 0), 0, (false, true), ()) ← FusionTree{Irrep[SU₂]}((0,), 0, (false,), ()):\n",
       "[:, :, 1] =\n",
       " -0.9154790817892544 + 2.0639002325299193e-6im\n",
       ", TensorMap((Rep[SU₂](0=>1, 1/2=>2) ⊗ Rep[SU₂](0=>1, 1/2=>2)') ← ProductSpace(Rep[SU₂](0=>1))):\n",
       "* Data for fusiontree FusionTree{Irrep[SU₂]}((1/2, 1/2), 0, (false, true), ()) ← FusionTree{Irrep[SU₂]}((0,), 0, (false,), ()):\n",
       "[:, :, 1] =\n",
       " 0.5900384222027847 - 1.5829863775393558e-5im  …  0.4748224262720897 - 2.4409930383665298e-5im\n",
       "  0.474822426898329 - 1.0676454740739879e-6im     0.3051045353696498 - 8.185506316902818e-6im\n",
       "* Data for fusiontree FusionTree{Irrep[SU₂]}((0, 0), 0, (false, true), ()) ← FusionTree{Irrep[SU₂]}((0,), 0, (false,), ()):\n",
       "[:, :, 1] =\n",
       " -0.32841012203125497 + 8.810760958244937e-6im\n",
       ", TensorMap((Rep[SU₂](0=>1, 1/2=>2) ⊗ Rep[SU₂](0=>1, 1/2=>2)') ← ProductSpace(Rep[SU₂](0=>1))):\n",
       "* Data for fusiontree FusionTree{Irrep[SU₂]}((1/2, 1/2), 0, (false, true), ()) ← FusionTree{Irrep[SU₂]}((0,), 0, (false,), ()):\n",
       "[:, :, 1] =\n",
       "  0.6657347136854777 - 1.928962818635482e-5im   …  -0.5015670257852924 + 4.5233921734194747e-5im\n",
       " -0.5015670275644146 - 1.6168165491694203e-5im     0.02590931276121482 - 7.507209695912701e-7im\n",
       "* Data for fusiontree FusionTree{Irrep[SU₂]}((0, 0), 0, (false, true), ()) ← FusionTree{Irrep[SU₂]}((0,), 0, (false,), ()):\n",
       "[:, :, 1] =\n",
       " -0.23018912069599112 + 6.669717620976731e-6im\n",
       ", TensorMap((Rep[SU₂](0=>1, 1/2=>2) ⊗ Rep[SU₂](0=>1, 1/2=>2)') ← ProductSpace(Rep[SU₂](0=>1))):\n",
       "* Data for fusiontree FusionTree{Irrep[SU₂]}((1/2, 1/2), 0, (false, true), ()) ← FusionTree{Irrep[SU₂]}((0,), 0, (false,), ()):\n",
       "[:, :, 1] =\n",
       " -2.8162129545039605e-8 - 5.170853315963778e-5im   …   -0.7071066636640305 + 0.0003959254323740659im\n",
       "     0.7071066754416531 - 0.0003743005089388191im     6.927091777964023e-8 + 0.00012718844079995535im\n",
       "* Data for fusiontree FusionTree{Irrep[SU₂]}((0, 0), 0, (false, true), ()) ← FusionTree{Irrep[SU₂]}((0,), 0, (false,), ()):\n",
       "[:, :, 1] =\n",
       " 3.4134008831260276e-9 + 6.267352784577131e-6im\n",
       ", TensorMap((Rep[SU₂](0=>1, 1/2=>2) ⊗ Rep[SU₂](0=>1, 1/2=>2)') ← ProductSpace(Rep[SU₂](0=>1))):\n",
       "* Data for fusiontree FusionTree{Irrep[SU₂]}((1/2, 1/2), 0, (false, true), ()) ← FusionTree{Irrep[SU₂]}((0,), 0, (false,), ()):\n",
       "[:, :, 1] =\n",
       " 0.2685303714359628 - 1.0080538957442576e-5im  …  0.14646500087876674 + 8.649184205535734e-5im\n",
       " 0.1464649939722347 - 9.748833459031991e-5im      -0.9401753130354991 + 3.5293861991140585e-5im\n",
       "* Data for fusiontree FusionTree{Irrep[SU₂]}((0, 0), 0, (false, true), ()) ← FusionTree{Irrep[SU₂]}((0,), 0, (false,), ()):\n",
       "[:, :, 1] =\n",
       " 0.032524008052230956 - 1.2209402179635613e-6im\n",
       "], Any[TensorMap((Rep[SU₂](0=>1, 1/2=>2) ⊗ Rep[SU₂](0=>1, 1/2=>2)') ← ProductSpace(Rep[SU₂](1/2=>1))):\n",
       "* Data for fusiontree FusionTree{Irrep[SU₂]}((0, 1/2), 1/2, (false, true), ()) ← FusionTree{Irrep[SU₂]}((1/2,), 1/2, (false,), ()):\n",
       "[:, :, 1] =\n",
       " -0.22602166146381153 + 0.34163197192742983im  …  0.14681313371415752 - 0.178611140295594im\n",
       "* Data for fusiontree FusionTree{Irrep[SU₂]}((1/2, 0), 1/2, (false, true), ()) ← FusionTree{Irrep[SU₂]}((1/2,), 1/2, (false,), ()):\n",
       "[:, :, 1] =\n",
       " 0.39237052845638754 + 0.3422380692036941im\n",
       " 0.07679344790032436 + 0.04203578693939288im\n",
       ", TensorMap((Rep[SU₂](0=>1, 1/2=>2) ⊗ Rep[SU₂](0=>1, 1/2=>2)') ← ProductSpace(Rep[SU₂](1/2=>1))):\n",
       "* Data for fusiontree FusionTree{Irrep[SU₂]}((0, 1/2), 1/2, (false, true), ()) ← FusionTree{Irrep[SU₂]}((1/2,), 1/2, (false,), ()):\n",
       "[:, :, 1] =\n",
       " 0.34936036106956 + 0.3860425698706608im  …  0.04343391462743383 + 0.07601142096407269im\n",
       "* Data for fusiontree FusionTree{Irrep[SU₂]}((1/2, 0), 1/2, (false, true), ()) ← FusionTree{Irrep[SU₂]}((1/2,), 1/2, (false,), ()):\n",
       "[:, :, 1] =\n",
       " -0.33743903411000303 + 0.2322349971487445im\n",
       "  0.17589485231978905 - 0.15005677788688168im\n",
       ", TensorMap((Rep[SU₂](0=>1, 1/2=>2) ⊗ Rep[SU₂](0=>1, 1/2=>2)') ← ProductSpace(Rep[SU₂](1/2=>1))):\n",
       "* Data for fusiontree FusionTree{Irrep[SU₂]}((0, 1/2), 1/2, (false, true), ()) ← FusionTree{Irrep[SU₂]}((1/2,), 1/2, (false,), ()):\n",
       "[:, :, 1] =\n",
       " -0.10719750043032569 - 0.05347913160958573im  …  0.3587377222323052 + 0.2822830826774186im\n",
       "* Data for fusiontree FusionTree{Irrep[SU₂]}((1/2, 0), 1/2, (false, true), ()) ← FusionTree{Irrep[SU₂]}((1/2,), 1/2, (false,), ()):\n",
       "[:, :, 1] =\n",
       " 0.12816466645062552 - 0.17419177191803561im\n",
       " 0.24166530469273662 - 0.41485071006677526im\n",
       ", TensorMap((Rep[SU₂](0=>1, 1/2=>2) ⊗ Rep[SU₂](0=>1, 1/2=>2)') ← ProductSpace(Rep[SU₂](1/2=>1))):\n",
       "* Data for fusiontree FusionTree{Irrep[SU₂]}((0, 1/2), 1/2, (false, true), ()) ← FusionTree{Irrep[SU₂]}((1/2,), 1/2, (false,), ()):\n",
       "[:, :, 1] =\n",
       " -0.20916156964037047 - 0.05495810073563757im  …  -0.4486856516843942 - 0.17083447289337556im\n",
       "* Data for fusiontree FusionTree{Irrep[SU₂]}((1/2, 0), 1/2, (false, true), ()) ← FusionTree{Irrep[SU₂]}((1/2,), 1/2, (false,), ()):\n",
       "[:, :, 1] =\n",
       " -0.049778843069622415 + 0.10896507879646042im\n",
       "   0.10166060123479816 - 0.4450186674006064im\n",
       "], Any[TensorMap((Rep[SU₂](0=>1, 1/2=>2) ⊗ Rep[SU₂](0=>1, 1/2=>2)') ← ProductSpace(Rep[SU₂](1=>1))):\n",
       "* Data for fusiontree FusionTree{Irrep[SU₂]}((1/2, 1/2), 1, (false, true), ()) ← FusionTree{Irrep[SU₂]}((1,), 1, (false,), ()):\n",
       "[:, :, 1] =\n",
       "  0.44905333140874315 + 1.5210402529481274e-6im  …  -0.24002534699157274 - 1.8319863272666365e-6im\n",
       " -0.24002534748775034 + 2.0589242333187484e-7im      0.12829693777757062 + 4.346008237817406e-7im\n",
       ", TensorMap((Rep[SU₂](0=>1, 1/2=>2) ⊗ Rep[SU₂](0=>1, 1/2=>2)') ← ProductSpace(Rep[SU₂](1=>1))):\n",
       "* Data for fusiontree FusionTree{Irrep[SU₂]}((1/2, 1/2), 1, (false, true), ()) ← FusionTree{Irrep[SU₂]}((1,), 1, (false,), ()):\n",
       "[:, :, 1] =\n",
       " 0.2400253462865489 + 1.2236092028758697e-6im  …  -0.12829694001423042 - 1.2076634430097338e-6im\n",
       " 0.4490533320515873 + 3.919370837440358e-7im      -0.24002534579727378 - 1.2236681152404226e-6im\n",
       ", TensorMap((Rep[SU₂](0=>1, 1/2=>2) ⊗ Rep[SU₂](0=>1, 1/2=>2)') ← ProductSpace(Rep[SU₂](1=>1))):\n",
       "* Data for fusiontree FusionTree{Irrep[SU₂]}((1/2, 1/2), 1, (false, true), ()) ← FusionTree{Irrep[SU₂]}((1,), 1, (false,), ()):\n",
       "[:, :, 1] =\n",
       "  0.24002534819667193 - 1.737829489951627e-7im  …    0.4490533307680642 + 1.5901965274499554e-6im\n",
       " -0.12829693553515964 + 6.285373808019918e-7im     -0.24002534868594647 + 1.7372403447296847e-7im\n",
       ", TensorMap((Rep[SU₂](0=>1, 1/2=>2) ⊗ Rep[SU₂](0=>1, 1/2=>2)') ← ProductSpace(Rep[SU₂](1=>1))):\n",
       "* Data for fusiontree FusionTree{Irrep[SU₂]}((1/2, 1/2), 1, (false, true), ()) ← FusionTree{Irrep[SU₂]}((1,), 1, (false,), ()):\n",
       "[:, :, 1] =\n",
       " 0.12829693773489487 + 3.3375425155618886e-6im  …  0.24002534737795084 + 7.263036821528412e-6im\n",
       "  0.2400253469416901 + 5.225158057229076e-6im       0.4490533312593705 + 1.168187450422276e-5im\n",
       "]], Any[Any[AdjointTensorMap(ProductSpace(Rep[SU₂](0=>1)) ← (Rep[SU₂](0=>1, 1/2=>2) ⊗ Rep[SU₂](0=>1, 1/2=>2)')):\n",
       "* Data for fusiontree FusionTree{Irrep[SU₂]}((0,), 0, (false,), ()) ← FusionTree{Irrep[SU₂]}((1/2, 1/2), 0, (false, true), ()):\n",
       "[:, :, 1] =\n",
       " -0.7223959852002115 - 1.6286043793928855e-6im  …  -0.09241464257471763 - 1.2078450289300992e-5im\n",
       "\n",
       "[:, :, 2] =\n",
       " -0.09241464262823877 + 1.16617622269648e-5im  …  -0.6224756911504326 - 1.4033392452978876e-6im\n",
       "* Data for fusiontree FusionTree{Irrep[SU₂]}((0,), 0, (false,), ()) ← FusionTree{Irrep[SU₂]}((0, 0), 0, (false, true), ()):\n",
       "[:, :, 1] =\n",
       " -0.27126946358225995 - 6.115629730000364e-7im\n",
       ", AdjointTensorMap(ProductSpace(Rep[SU₂](0=>1)) ← (Rep[SU₂](0=>1, 1/2=>2) ⊗ Rep[SU₂](0=>1, 1/2=>2)')):\n",
       "* Data for fusiontree FusionTree{Irrep[SU₂]}((0,), 0, (false,), ()) ← FusionTree{Irrep[SU₂]}((1/2, 1/2), 0, (false, true), ()):\n",
       "[:, :, 1] =\n",
       " -0.19643597099649784 - 5.270088428918489e-6im  …  -0.612449417253675 - 6.642973187802865e-5im\n",
       "\n",
       "[:, :, 2] =\n",
       " -0.6124494199364535 + 3.356749612909098e-5im  …  0.23865447094020448 + 6.402748740123247e-6im\n",
       "* Data for fusiontree FusionTree{Irrep[SU₂]}((0,), 0, (false,), ()) ← FusionTree{Irrep[SU₂]}((0, 0), 0, (false, true), ()):\n",
       "[:, :, 1] =\n",
       " 0.39277011903218484 + 1.0537445097435064e-5im\n",
       ", AdjointTensorMap(ProductSpace(Rep[SU₂](0=>1)) ← (Rep[SU₂](0=>1, 1/2=>2) ⊗ Rep[SU₂](0=>1, 1/2=>2)')):\n",
       "* Data for fusiontree FusionTree{Irrep[SU₂]}((0,), 0, (false,), ()) ← FusionTree{Irrep[SU₂]}((1/2, 1/2), 0, (false, true), ()):\n",
       "[:, :, 1] =\n",
       " -0.24104786662934946 - 6.984349211168149e-6im  …  0.28117640879074496 - 3.925993462277631e-6im\n",
       "\n",
       "[:, :, 2] =\n",
       " 0.281176408091112 + 2.0220136645958166e-5im  …  -0.18137488109384012 - 5.2553276052892274e-6im\n",
       "* Data for fusiontree FusionTree{Irrep[SU₂]}((0,), 0, (false,), ()) ← FusionTree{Irrep[SU₂]}((0, 0), 0, (false, true), ()):\n",
       "[:, :, 1] =\n",
       " 0.8665325914488672 + 2.5107736094869447e-5im\n",
       ", AdjointTensorMap(ProductSpace(Rep[SU₂](0=>1)) ← (Rep[SU₂](0=>1, 1/2=>2) ⊗ Rep[SU₂](0=>1, 1/2=>2)')):\n",
       "* Data for fusiontree FusionTree{Irrep[SU₂]}((0,), 0, (false,), ()) ← FusionTree{Irrep[SU₂]}((1/2, 1/2), 0, (false, true), ()):\n",
       "[:, :, 1] =\n",
       " -6.135752450564524e-8 + 0.00011265866562972398im  …  0.7071066602713768 + 0.00039936088744671244im\n",
       "\n",
       "[:, :, 2] =\n",
       " -0.7071066757911193 - 0.00037086505220844406im  …  5.4425680073855176e-8 - 9.993106959554037e-5im\n",
       "* Data for fusiontree FusionTree{Irrep[SU₂]}((0,), 0, (false,), ()) ← FusionTree{Irrep[SU₂]}((0, 0), 0, (false, true), ()):\n",
       "[:, :, 1] =\n",
       " 1.0090928613537553e-8 - 1.8527982940043423e-5im\n",
       ", AdjointTensorMap(ProductSpace(Rep[SU₂](0=>1)) ← (Rep[SU₂](0=>1, 1/2=>2) ⊗ Rep[SU₂](0=>1, 1/2=>2)')):\n",
       "* Data for fusiontree FusionTree{Irrep[SU₂]}((0,), 0, (false,), ()) ← FusionTree{Irrep[SU₂]}((1/2, 1/2), 0, (false, true), ()):\n",
       "[:, :, 1] =\n",
       " 0.6176187032060904 + 2.318519639268782e-5im  …  -0.19314520861212273 + 8.723339733049111e-5im\n",
       "\n",
       "[:, :, 2] =\n",
       " -0.1931452015183467 - 0.00010173460815028672im  …  -0.722960025964009 - 2.7139673868149113e-5im\n",
       "* Data for fusiontree FusionTree{Irrep[SU₂]}((0,), 0, (false,), ()) ← FusionTree{Irrep[SU₂]}((0, 0), 0, (false, true), ()):\n",
       "[:, :, 1] =\n",
       " 0.14582790736030665 + 5.4743301233779854e-6im\n",
       "], Any[AdjointTensorMap(ProductSpace(Rep[SU₂](1/2=>1)) ← (Rep[SU₂](0=>1, 1/2=>2) ⊗ Rep[SU₂](0=>1, 1/2=>2)')):\n",
       "* Data for fusiontree FusionTree{Irrep[SU₂]}((1/2,), 1/2, (false,), ()) ← FusionTree{Irrep[SU₂]}((0, 1/2), 1/2, (false, true), ()):\n",
       "[:, :, 1] =\n",
       " -0.37536784582094157 - 0.46352410802070976im\n",
       "\n",
       "[:, :, 2] =\n",
       " -0.017793179399689926 - 0.057353237368987106im\n",
       "* Data for fusiontree FusionTree{Irrep[SU₂]}((1/2,), 1/2, (false,), ()) ← FusionTree{Irrep[SU₂]}((1/2, 0), 1/2, (false, true), ()):\n",
       "[:, :, 1] =\n",
       " -0.14261365476852084 + 0.06467774746232183im  …  0.2653532214630727 - 0.21378538970994615im\n",
       ", AdjointTensorMap(ProductSpace(Rep[SU₂](1/2=>1)) ← (Rep[SU₂](0=>1, 1/2=>2) ⊗ Rep[SU₂](0=>1, 1/2=>2)')):\n",
       "* Data for fusiontree FusionTree{Irrep[SU₂]}((1/2,), 1/2, (false,), ()) ← FusionTree{Irrep[SU₂]}((0, 1/2), 1/2, (false, true), ()):\n",
       "[:, :, 1] =\n",
       " -0.06727646180658818 + 0.14140630580619865im\n",
       "\n",
       "[:, :, 2] =\n",
       " 0.2186050271625662 - 0.2613969540561136im\n",
       "* Data for fusiontree FusionTree{Irrep[SU₂]}((1/2,), 1/2, (false,), ()) ← FusionTree{Irrep[SU₂]}((1/2, 0), 1/2, (false, true), ()):\n",
       "[:, :, 1] =\n",
       " -0.45657802817902543 - 0.38378655793793437im  …  -0.05701805543560021 - 0.01883964859331134im\n",
       ", AdjointTensorMap(ProductSpace(Rep[SU₂](1/2=>1)) ← (Rep[SU₂](0=>1, 1/2=>2) ⊗ Rep[SU₂](0=>1, 1/2=>2)')):\n",
       "* Data for fusiontree FusionTree{Irrep[SU₂]}((1/2,), 1/2, (false,), ()) ← FusionTree{Irrep[SU₂]}((0, 1/2), 1/2, (false, true), ()):\n",
       "[:, :, 1] =\n",
       " 0.28318796061333484 - 0.19369067520430666im\n",
       "\n",
       "[:, :, 2] =\n",
       " 0.12322412117574832 - 0.031066180609661247im\n",
       "* Data for fusiontree FusionTree{Irrep[SU₂]}((1/2,), 1/2, (false,), ()) ← FusionTree{Irrep[SU₂]}((1/2, 0), 1/2, (false, true), ()):\n",
       "[:, :, 1] =\n",
       " 0.0009249601882302644 + 0.04483482704842057im  …  -0.34531738266606343 - 0.4948576539230248im\n",
       ", AdjointTensorMap(ProductSpace(Rep[SU₂](1/2=>1)) ← (Rep[SU₂](0=>1, 1/2=>2) ⊗ Rep[SU₂](0=>1, 1/2=>2)')):\n",
       "* Data for fusiontree FusionTree{Irrep[SU₂]}((1/2,), 1/2, (false,), ()) ← FusionTree{Irrep[SU₂]}((0, 1/2), 1/2, (false, true), ()):\n",
       "[:, :, 1] =\n",
       " -0.028894596597555534 + 0.03429459960994471im\n",
       "\n",
       "[:, :, 2] =\n",
       " 0.5795918951021566 - 0.16793280487823087im\n",
       "* Data for fusiontree FusionTree{Irrep[SU₂]}((1/2,), 1/2, (false,), ()) ← FusionTree{Irrep[SU₂]}((1/2, 0), 1/2, (false, true), ()):\n",
       "[:, :, 1] =\n",
       " 0.0985656013118764 + 0.3286279378830843im  …  0.07633028313384288 + 0.10160206425130458im\n",
       "], Any[AdjointTensorMap(ProductSpace(Rep[SU₂](1=>1)) ← (Rep[SU₂](0=>1, 1/2=>2) ⊗ Rep[SU₂](0=>1, 1/2=>2)')):\n",
       "* Data for fusiontree FusionTree{Irrep[SU₂]}((1,), 1, (false,), ()) ← FusionTree{Irrep[SU₂]}((1/2, 1/2), 1, (false, true), ()):\n",
       "[:, :, 1] =\n",
       " 0.30517728319857407 - 1.033853969268604e-6im  …  0.2882030752703149 - 1.1360517635433772e-6im\n",
       "\n",
       "[:, :, 2] =\n",
       " 0.2882030746752115 - 8.165777357448872e-7im  …  0.2721729859877388 - 9.219778780408861e-7im\n",
       ", AdjointTensorMap(ProductSpace(Rep[SU₂](1=>1)) ← (Rep[SU₂](0=>1, 1/2=>2) ⊗ Rep[SU₂](0=>1, 1/2=>2)')):\n",
       "* Data for fusiontree FusionTree{Irrep[SU₂]}((1,), 1, (false,), ()) ← FusionTree{Irrep[SU₂]}((1/2, 1/2), 1, (false, true), ()):\n",
       "[:, :, 1] =\n",
       " -0.2882030311831467 + 0.0001567844533893772im  …  0.3051772393089871 - 0.0001661966188541669im\n",
       "\n",
       "[:, :, 2] =\n",
       " -0.27217294732106273 + 0.00014792206117308487im  …  0.28820303058699986 - 0.0001567843822194164im\n",
       ", AdjointTensorMap(ProductSpace(Rep[SU₂](1=>1)) ← (Rep[SU₂](0=>1, 1/2=>2) ⊗ Rep[SU₂](0=>1, 1/2=>2)')):\n",
       "* Data for fusiontree FusionTree{Irrep[SU₂]}((1,), 1, (false,), ()) ← FusionTree{Irrep[SU₂]}((1/2, 1/2), 1, (false, true), ()):\n",
       "[:, :, 1] =\n",
       " -0.2882030341569564 - 0.00015552386953860282im  …  -0.2721729449180771 - 0.00014671371474504232im\n",
       "\n",
       "[:, :, 2] =\n",
       " 0.30517723731624363 + 0.0001648439216549955im  …  0.28820303475310866 + 0.00015552394070495753im\n",
       ", AdjointTensorMap(ProductSpace(Rep[SU₂](1=>1)) ← (Rep[SU₂](0=>1, 1/2=>2) ⊗ Rep[SU₂](0=>1, 1/2=>2)')):\n",
       "* Data for fusiontree FusionTree{Irrep[SU₂]}((1,), 1, (false,), ()) ← FusionTree{Irrep[SU₂]}((1/2, 1/2), 1, (false, true), ()):\n",
       "[:, :, 1] =\n",
       " 0.27217298589722416 - 7.0802603501896805e-6im  …  -0.28820307457463945 + 7.656965869757436e-6im\n",
       "\n",
       "[:, :, 2] =\n",
       " -0.2882030751791325 + 7.33749186052979e-6im  …  0.3051772830970825 - 7.938753335858671e-6im\n",
       "]], Any[[0.0, 0.0, 0.0, 0.0, 0.0], [0.5, 0.5, 0.5, 0.5], [1.0, 1.0, 1.0, 1.0]])"
      ]
     },
     "metadata": {},
     "output_type": "display_data"
    }
   ],
   "source": [
    "\n",
    "S_set,U_set,Vh_set,SPIN_svd_set=TransfOp_decom(Ag,OO,space_AOA,AOA_sec,pow,Dtrun_init,Dtrun_max,trun_tol,\"svd_FLR\");\n",
    "# display(S_set)\n",
    "\n",
    "s_set,u_set,vh_set,spin_svd_set=TransfOp_decom(Ag,OO,space_AA,AA_sec,pow,Dtrun_init,Dtrun_max,trun_tol,\"svd_GLR\");\n",
    "# display(s_set)"
   ]
  },
  {
   "cell_type": "code",
   "execution_count": 11,
   "metadata": {},
   "outputs": [
    {
     "data": {
      "text/plain": [
       "\"group information:\""
      ]
     },
     "metadata": {},
     "output_type": "display_data"
    },
    {
     "data": {
      "text/plain": [
       "5-element Vector{Any}:\n",
       " UnitRange{Int64}[1:27]\n",
       " UnitRange{Int64}[1:36]\n",
       " UnitRange{Int64}[1:23]\n",
       " UnitRange{Int64}[1:8]\n",
       " ComplexF64[]"
      ]
     },
     "metadata": {},
     "output_type": "display_data"
    },
    {
     "data": {
      "text/plain": [
       "\"group information:\""
      ]
     },
     "metadata": {},
     "output_type": "display_data"
    },
    {
     "data": {
      "text/plain": [
       "3-element Vector{Any}:\n",
       " UnitRange{Int64}[1:5]\n",
       " UnitRange{Int64}[1:4]\n",
       " UnitRange{Int64}[1:4]"
      ]
     },
     "metadata": {},
     "output_type": "display_data"
    },
    {
     "data": {
      "text/plain": [
       "\"group information:\""
      ]
     },
     "metadata": {},
     "output_type": "display_data"
    },
    {
     "data": {
      "text/plain": [
       "5-element Vector{Any}:\n",
       " UnitRange{Int64}[1:25]\n",
       " UnitRange{Int64}[1:32]\n",
       " UnitRange{Int64}[1:25]\n",
       " UnitRange{Int64}[1:9]\n",
       " Float64[]"
      ]
     },
     "metadata": {},
     "output_type": "display_data"
    },
    {
     "data": {
      "text/plain": [
       "\"group information:\""
      ]
     },
     "metadata": {},
     "output_type": "display_data"
    },
    {
     "data": {
      "text/plain": [
       "3-element Vector{Any}:\n",
       " UnitRange{Int64}[1:5]\n",
       " UnitRange{Int64}[1:4]\n",
       " UnitRange{Int64}[1:4]"
      ]
     },
     "metadata": {},
     "output_type": "display_data"
    }
   ],
   "source": [
    "check_truncated_decomp_error=false;\n",
    "\n",
    "if mpo_type==\"O_O\"\n",
    "    OO_transform=true;\n",
    "elseif mpo_type==\"OO\"\n",
    "    OO_transform=false;\n",
    "end\n",
    "\n",
    "euR_set_combined,evL_set_combined,evR_set_combined,SPIN_eig_set_combined=combine_singlespin_sector(euR_set,evL_set,evR_set,SPIN_eig_set,true);\n",
    "euR_set_grouped,evL_set_grouped,evR_set_grouped,SPIN_eig_set_grouped,DTrun_FLR_eig=group_singlespin_sector(group_size,euR_set_combined,evL_set_combined,evR_set_combined,SPIN_eig_set_combined,OO_transform,U_fuse_chichi)\n",
    "display(\"group information:\")\n",
    "display(DTrun_FLR_eig)\n",
    "\n",
    "eur_set_combined,evl_set_combined,evr_set_combined,spin_eig_set_combined=combine_singlespin_sector(eur_set,evl_set,evr_set,spin_eig_set,true)\n",
    "eur_set_grouped,evl_set_grouped,evr_set_grouped,spin_eig_set_grouped,Dtrun_GLR_eig=group_singlespin_sector(group_size,eur_set_combined,evl_set_combined,evr_set_combined,spin_eig_set_combined,false,[])\n",
    "display(\"group information:\")\n",
    "display(Dtrun_GLR_eig)\n",
    "\n",
    "\n",
    "S_set_combined,Vh_set_combined,U_set_combined,SPIN_svd_set_combined=combine_singlespin_sector(S_set,Vh_set,U_set,SPIN_svd_set,false)\n",
    "S_set_grouped,Vh_set_grouped,U_set_grouped,SPIN_svd_set_grouped,DTrun_FLR_svd=group_singlespin_sector(group_size,S_set_combined,Vh_set_combined,U_set_combined,SPIN_svd_set_combined,OO_transform,U_fuse_chichi)\n",
    "display(\"group information:\")\n",
    "display(DTrun_FLR_svd)\n",
    "\n",
    "s_set_combined,vh_set_combined,u_set_combined,spin_svd_set_combined=combine_singlespin_sector(s_set,vh_set,u_set,spin_svd_set,false)\n",
    "s_set_grouped,vh_set_grouped,u_set_grouped,spin_svd_set_grouped,Dtrun_GLR_svd=group_singlespin_sector(group_size,s_set_combined,vh_set_combined,u_set_combined,spin_svd_set_combined,false,[])\n",
    "display(\"group information:\")\n",
    "display(Dtrun_GLR_svd)\n",
    "\n",
    "\n",
    "\n",
    "if check_truncated_decomp_error\n",
    "\n",
    "    display(\"%%%%%%%%%%%%%%%%%%%%%%\")\n",
    "    display(\"check FLR_eig\")\n",
    "    @tensor M[:]:=Ag'[-1,-4,1]*OO[-2,2,-5,1]*Ag[-3,-6,2];\n",
    "    M=permute(M,(1,2,3,),(4,5,6,));\n",
    "    M0=M;\n",
    "    for cc=1:pow-1\n",
    "        M=M*M0;\n",
    "    end\n",
    "\n",
    "    M_temp=M*0;\n",
    "    for cc=1:length(euR_set)\n",
    "        euR=euR_set_combined[cc];\n",
    "        evR=evR_set_combined[cc];\n",
    "        evL=evL_set_combined[cc];\n",
    "        spin=SPIN_eig_set_combined[cc]\n",
    "        if euR==[]\n",
    "        else\n",
    "            euR0=euR\n",
    "            for ccc=1:pow-1\n",
    "                euR=euR*euR0;\n",
    "            end\n",
    "            M_temp=M_temp+evR*euR*evL*(spin*2+1);\n",
    "        end\n",
    "    end\n",
    "    display(norm(M-M_temp)/norm(M))\n",
    "\n",
    "    M_temp1=M_temp*0;\n",
    "    for cc=1:length(euR_set)\n",
    "        euRs=euR_set_grouped[cc];\n",
    "        evRs=evR_set_grouped[cc];\n",
    "        evLs=evL_set_grouped[cc];\n",
    "        spin=SPIN_eig_set_grouped[cc]\n",
    "        if euRs==[]\n",
    "        else\n",
    "            for cs=1:length(euRs)\n",
    "                euR0=euRs[cs];\n",
    "                euR=euR0;\n",
    "                for ccc=1:pow-1\n",
    "                    euR=euR*euR0;\n",
    "                end\n",
    "                @tensor evR[:]:=U_fuse_chichi[-2,1,2]*evRs[cs][-1,1,2,-3,-4];\n",
    "                evR=permute(evR,(1,2,3,),(4,));\n",
    "                @tensor evL[:]:=evLs[cs][-1,-2,1,2,-4]*U_fuse_chichi'[1,2,-3];\n",
    "                evL=permute(evL,(1,),(2,3,4,));\n",
    "                M_temp1=M_temp1+evR*euR*evL*(spin*2+1);\n",
    "            end\n",
    "        end\n",
    "    end\n",
    "\n",
    "    display(norm(M-M_temp1)/norm(M))\n",
    "\n",
    "\n",
    "\n",
    "    display(\"%%%%%%%%%%%%%%%%%%%%%%\")\n",
    "    display(\"check GLR_eig\")\n",
    "    @tensor M[:]:=Ag'[-1,-3,1]*Ag[-2,-4,1];\n",
    "    M=permute(M,(1,2,),(3,4,));\n",
    "    M0=M;\n",
    "    for cc=1:pow-1\n",
    "        M=M*M0;\n",
    "    end\n",
    "\n",
    "    M_temp=M*0;\n",
    "    for cc=1:length(eur_set)\n",
    "        eur=eur_set_combined[cc];\n",
    "        evl=evl_set_combined[cc];\n",
    "        evr=evr_set_combined[cc];\n",
    "        spin=spin_eig_set_combined[cc]\n",
    "        if eur==[]\n",
    "        else\n",
    "            eur0=eur;\n",
    "            for ccc=1:pow-1\n",
    "                eur=eur*eur0;\n",
    "            end\n",
    "            M_temp=M_temp+evr*eur*evl*(spin*2+1);\n",
    "        end\n",
    "    end\n",
    "    display(norm(M-M_temp)/norm(M))\n",
    "\n",
    "    M_temp1=M_temp*0;\n",
    "    for cc=1:length(eur_set)\n",
    "        eurs=eur_set_grouped[cc];\n",
    "        evrs=evr_set_grouped[cc];\n",
    "        evls=evl_set_grouped[cc];\n",
    "        spin=spin_eig_set_grouped[cc]\n",
    "        if eurs==[]\n",
    "        else\n",
    "            for cs=1:length(eurs)\n",
    "                eur0=eurs[cs];\n",
    "                eur=eur0;\n",
    "                for ccc=1:pow-1\n",
    "                    eur=eur*eur0;\n",
    "                end\n",
    "\n",
    "                M_temp1=M_temp1+evrs[cs]*eur*evls[cs]*(spin*2+1);\n",
    "            end\n",
    "        end\n",
    "    end\n",
    "    display(norm(M-M_temp1)/norm(M))\n",
    "\n",
    "\n",
    "\n",
    "\n",
    "    display(\"%%%%%%%%%%%%%%%%%%%%%%\")\n",
    "    display(\"check FLR_svd\")\n",
    "    @tensor M[:]:=Ag'[-1,-4,1]*OO[-2,2,-5,1]*Ag[-3,-6,2];\n",
    "    M=permute(M,(1,2,3,),(4,5,6,));\n",
    "    M0=M;\n",
    "    for cc=1:pow-1\n",
    "        M=M*M0;\n",
    "    end\n",
    "    M_temp=M*0;\n",
    "    for cc=1:length(S_set)\n",
    "        S=S_set[cc];\n",
    "        U=U_set[cc];\n",
    "        Vh=Vh_set[cc];\n",
    "        spin=SPIN_svd_set[cc]\n",
    "        for cs=1:length(S)\n",
    "            M_temp=M_temp+S[cs]*U[cs]*Vh[cs]*(spin[cs]*2+1);\n",
    "        end\n",
    "    end\n",
    "    display(norm(M-M_temp)/norm(M))\n",
    "\n",
    "    M_temp=M*0;\n",
    "    for cc=1:length(S_set)\n",
    "        S=S_set_combined[cc];\n",
    "        U=U_set_combined[cc];\n",
    "        Vh=Vh_set_combined[cc];\n",
    "        spin=SPIN_svd_set_combined[cc]\n",
    "        if S==[]\n",
    "        else\n",
    "            M_temp=M_temp+U*S*Vh*(spin*2+1);\n",
    "        end\n",
    "    end\n",
    "    display(norm(M-M_temp)/norm(M))\n",
    "\n",
    "    M_temp1=M_temp*0;\n",
    "    for cc=1:length(S_set)\n",
    "        Ss=S_set_grouped[cc];\n",
    "        Us=U_set_grouped[cc];\n",
    "        Vhs=Vh_set_grouped[cc];\n",
    "        spin=SPIN_svd_set_grouped[cc]\n",
    "        if Ss==[]\n",
    "        else\n",
    "            for cs=1:length(Ss)\n",
    "                S=Ss[cs];\n",
    "                @tensor U[:]:=U_fuse_chichi[-2,1,2]*Us[cs][-1,1,2,-3,-4];\n",
    "                U=permute(U,(1,2,3,),(4,));\n",
    "                @tensor Vh[:]:=Vhs[cs][-1,-2,1,2,-4]*U_fuse_chichi'[1,2,-3];\n",
    "                Vh=permute(Vh,(1,),(2,3,4,));\n",
    "                M_temp1=M_temp1+U*S*Vh*(spin*2+1);\n",
    "            end\n",
    "        end\n",
    "    end\n",
    "    display(norm(M-M_temp1)/norm(M))\n",
    "\n",
    "\n",
    "\n",
    "    display(\"%%%%%%%%%%%%%%%%%%%%%%\")\n",
    "    display(\"check GLR_svd\")\n",
    "    @tensor M[:]:=Ag'[-1,-3,1]*Ag[-2,-4,1];\n",
    "    M=permute(M,(1,2,),(3,4,));\n",
    "    M0=M;\n",
    "    for cc=1:pow-1\n",
    "        M=M*M0;\n",
    "    end\n",
    "    M_temp=M*0;\n",
    "    for cc=1:length(s_set)\n",
    "        s=s_set[cc];\n",
    "        u=u_set[cc];\n",
    "        vh=vh_set[cc];\n",
    "        spin=spin_svd_set[cc]\n",
    "        for cs=1:length(s)\n",
    "            M_temp=M_temp+s[cs]*u[cs]*vh[cs]*(spin[cs]*2+1);\n",
    "        end\n",
    "    end\n",
    "    display(norm(M-M_temp)/norm(M))\n",
    "\n",
    "    M_temp=M*0;\n",
    "    for cc=1:length(s_set)\n",
    "        s=s_set_combined[cc];\n",
    "        vh=vh_set_combined[cc];\n",
    "        u=u_set_combined[cc];\n",
    "        spin=spin_svd_set_combined[cc]\n",
    "        if s==[]\n",
    "        else\n",
    "            M_temp=M_temp+u*s*vh*(spin*2+1);\n",
    "        end\n",
    "    end\n",
    "    display(norm(M-M_temp)/norm(M))\n",
    "\n",
    "    M_temp1=M_temp*0;\n",
    "    for cc=1:length(s_set)\n",
    "        ss=s_set_grouped[cc];\n",
    "        us=u_set_grouped[cc];\n",
    "        vhs=vh_set_grouped[cc];\n",
    "        spin=spin_svd_set_grouped[cc]\n",
    "        if ss==[]\n",
    "        else\n",
    "            for cs=1:length(ss)\n",
    "                s=ss[cs];\n",
    "                M_temp1=M_temp1+us[cs]*s*vhs[cs]*(spin*2+1);\n",
    "            end\n",
    "        end\n",
    "    end\n",
    "\n",
    "    display(norm(M-M_temp1)/norm(M))\n",
    "end"
   ]
  },
  {
   "cell_type": "code",
   "execution_count": 12,
   "metadata": {},
   "outputs": [
    {
     "data": {
      "text/plain": [
       "\"kset=0:5\""
      ]
     },
     "metadata": {},
     "output_type": "display_data"
    },
    {
     "data": {
      "text/plain": [
       "\"DTrun=91\""
      ]
     },
     "metadata": {},
     "output_type": "display_data"
    },
    {
     "data": {
      "text/plain": [
       "\"sector k=0, spin=0.0:\""
      ]
     },
     "metadata": {},
     "output_type": "display_data"
    },
    {
     "data": {
      "text/plain": [
       "5-element Vector{ComplexF64}:\n",
       "   0.9489266550466101 - 0.5505849050840901im\n",
       "   0.9447189847688621 + 0.5479755565400156im\n",
       "  0.17041675382312713 - 0.08412249496829916im\n",
       "   0.1704283754063375 + 0.08407879234172883im\n",
       " 0.050426655347805445 - 2.5998111770348472e-6im"
      ]
     },
     "metadata": {},
     "output_type": "display_data"
    },
    {
     "data": {
      "text/plain": [
       "\"sector k=0, spin=0.5:\""
      ]
     },
     "metadata": {},
     "output_type": "display_data"
    },
    {
     "data": {
      "text/plain": [
       "9-element Vector{ComplexF64}:\n",
       "   0.9231798529962456 + 0.0008780438217116167im\n",
       "  0.30087343235535224 - 0.00027279575306049097im\n",
       "  0.16318305066265792 - 7.970040196091969e-6im\n",
       "  -0.1606440649068781 + 9.744282407205843e-5im\n",
       "  0.11264379088420531 - 0.05281214663925637im\n",
       "  0.11253866592722718 + 0.05282280612377529im\n",
       "  0.05333803404458857 - 7.865362164013077e-6im\n",
       "  0.03779913340546272 - 3.7763267248616317e-6im\n",
       " 0.016347658161961934 - 2.5855050208614025e-6im"
      ]
     },
     "metadata": {},
     "output_type": "display_data"
    },
    {
     "data": {
      "text/plain": [
       "\"sector k=0, spin=1.0:\""
      ]
     },
     "metadata": {},
     "output_type": "display_data"
    },
    {
     "data": {
      "text/plain": [
       "4-element Vector{ComplexF64}:\n",
       "   0.7518767890221811 + 1.913610829387148e-5im\n",
       "  0.11777290172104526 - 1.1129535586172912e-6im\n",
       "  0.05851045421896031 - 7.865699912765969e-7im\n",
       " 0.029225965169354443 - 1.0972186035202492e-6im"
      ]
     },
     "metadata": {},
     "output_type": "display_data"
    },
    {
     "data": {
      "text/plain": [
       "\"sector k=0, spin=1.5:\""
      ]
     },
     "metadata": {},
     "output_type": "display_data"
    },
    {
     "data": {
      "text/plain": [
       "4-element Vector{ComplexF64}:\n",
       "     0.5391278168318663 + 5.892383223212052e-6im\n",
       "   0.049114236051178456 - 1.078591336655546e-6im\n",
       "   0.014955503267864741 - 3.4461150813168885e-6im\n",
       " -0.0036498709730063933 - 2.0051012259601485e-5im"
      ]
     },
     "metadata": {},
     "output_type": "display_data"
    },
    {
     "data": {
      "text/plain": [
       "\"sector k=0, spin=2.0:\""
      ]
     },
     "metadata": {},
     "output_type": "display_data"
    },
    {
     "data": {
      "text/plain": [
       "\"MPS decomposition does not have this sector, skip it\""
      ]
     },
     "metadata": {},
     "output_type": "display_data"
    },
    {
     "data": {
      "text/plain": [
       "\"sector k=0, spin=2.5:\""
      ]
     },
     "metadata": {},
     "output_type": "display_data"
    },
    {
     "data": {
      "text/plain": [
       "\"MPS decomposition does not have this sector, skip it\""
      ]
     },
     "metadata": {},
     "output_type": "display_data"
    },
    {
     "data": {
      "text/plain": [
       "\"sector k=1, spin=0.0:\""
      ]
     },
     "metadata": {},
     "output_type": "display_data"
    },
    {
     "data": {
      "text/plain": [
       "4-element Vector{ComplexF64}:\n",
       "   0.5383383633148375 + 0.0009400871893221884im\n",
       "  0.11905535568870389 + 0.00040390941302253147im\n",
       "  0.04788426227915507 - 0.004282853719460033im\n",
       " 0.016079798278762415 + 0.011661729668027974im"
      ]
     },
     "metadata": {},
     "output_type": "display_data"
    },
    {
     "data": {
      "text/plain": [
       "\"sector k=1, spin=0.5:\""
      ]
     },
     "metadata": {},
     "output_type": "display_data"
    },
    {
     "data": {
      "text/plain": [
       "9-element Vector{ComplexF64}:\n",
       "   0.6328105868649959 + 0.00668177243739707im\n",
       "  0.23686113967895503 - 0.0050333263860576636im\n",
       "  0.13223233761233183 + 0.0006154157096703626im\n",
       "  0.07412472097493586 + 8.80463589870814e-6im\n",
       "  0.04389536211148746 - 0.005816815514836241im\n",
       "  0.03972278420847304 + 0.011612288779759972im\n",
       " 1.939263338671651e-5 + 0.037366120118584034im\n",
       " 0.026596921089697953 + 0.0021855716713601im\n",
       "  0.01922382372543647 - 0.01381723596063117im"
      ]
     },
     "metadata": {},
     "output_type": "display_data"
    },
    {
     "data": {
      "text/plain": [
       "\"sector k=1, spin=1.0:\""
      ]
     },
     "metadata": {},
     "output_type": "display_data"
    },
    {
     "data": {
      "text/plain": [
       "4-element Vector{ComplexF64}:\n",
       "  0.2992274254196224 + 0.00039578682121593507im\n",
       " 0.10993427744841097 - 0.00401872989341846im\n",
       " 0.05076247203197984 - 0.007776555966143634im\n",
       " 0.02875284741868921 + 0.014692701399963518im"
      ]
     },
     "metadata": {},
     "output_type": "display_data"
    },
    {
     "data": {
      "text/plain": [
       "\"sector k=1, spin=1.5:\""
      ]
     },
     "metadata": {},
     "output_type": "display_data"
    },
    {
     "data": {
      "text/plain": [
       "4-element Vector{ComplexF64}:\n",
       "  0.16547375080957577 - 0.0009430164068513066im\n",
       " 0.039689766191226085 - 0.005009737564469899im\n",
       "  0.02730664895978353 + 0.004975068517152708im\n",
       " 0.023798369412126295 - 0.006869973934649045im"
      ]
     },
     "metadata": {},
     "output_type": "display_data"
    },
    {
     "data": {
      "text/plain": [
       "\"sector k=1, spin=2.0:\""
      ]
     },
     "metadata": {},
     "output_type": "display_data"
    },
    {
     "data": {
      "text/plain": [
       "\"MPS decomposition does not have this sector, skip it\""
      ]
     },
     "metadata": {},
     "output_type": "display_data"
    },
    {
     "data": {
      "text/plain": [
       "\"sector k=1, spin=2.5:\""
      ]
     },
     "metadata": {},
     "output_type": "display_data"
    },
    {
     "data": {
      "text/plain": [
       "\"MPS decomposition does not have this sector, skip it\""
      ]
     },
     "metadata": {},
     "output_type": "display_data"
    },
    {
     "data": {
      "text/plain": [
       "\"sector k=2, spin=0.0:\""
      ]
     },
     "metadata": {},
     "output_type": "display_data"
    },
    {
     "data": {
      "text/plain": [
       "4-element Vector{ComplexF64}:\n",
       "  0.20608126435113167 - 0.003322885378301471im\n",
       "  0.08295725211286674 - 0.0022391118144945597im\n",
       " 0.053477950563898105 - 0.006295604069235778im\n",
       " 0.019752830388017603 + 0.023269313293717547im"
      ]
     },
     "metadata": {},
     "output_type": "display_data"
    },
    {
     "data": {
      "text/plain": [
       "\"sector k=2, spin=0.5:\""
      ]
     },
     "metadata": {},
     "output_type": "display_data"
    },
    {
     "data": {
      "text/plain": [
       "9-element Vector{ComplexF64}:\n",
       "  -2.3601486522056208 + 0.7454981308422048im\n",
       "   0.3004525803827956 - 0.0021133426249459334im\n",
       "    0.220598104423917 + 0.002400152086848327im\n",
       "   0.0679987294425131 + 0.00027586471188260556im\n",
       " 0.057191896078260786 + 0.002922952419318743im\n",
       " 0.032007307125478286 + 0.04060138869323312im\n",
       "  0.04226753512964117 - 0.029380094564882588im\n",
       " 0.042869689579960735 + 0.0019093898002737135im\n",
       " 0.025301515905328448 - 0.0017538014543348474im"
      ]
     },
     "metadata": {},
     "output_type": "display_data"
    },
    {
     "data": {
      "text/plain": [
       "\"sector k=2, spin=1.0:\""
      ]
     },
     "metadata": {},
     "output_type": "display_data"
    },
    {
     "data": {
      "text/plain": [
       "4-element Vector{ComplexF64}:\n",
       "  0.2464067167602766 + 0.0012457232167939433im\n",
       " 0.14556981798583318 + 0.0012702034906205278im\n",
       " 0.08397289392906726 - 0.0006632290422367884im\n",
       " 0.04274504860442906 - 0.0032528034633113774im"
      ]
     },
     "metadata": {},
     "output_type": "display_data"
    },
    {
     "data": {
      "text/plain": [
       "\"sector k=2, spin=1.5:\""
      ]
     },
     "metadata": {},
     "output_type": "display_data"
    },
    {
     "data": {
      "text/plain": [
       "4-element Vector{ComplexF64}:\n",
       "  0.11272077510779296 - 0.0007777432440326542im\n",
       "  0.08109211340994425 - 0.00022682115466131543im\n",
       " 0.025632036482645483 - 0.0009625587760047072im\n",
       " 0.011454993650642611 + 0.007045178989402263im"
      ]
     },
     "metadata": {},
     "output_type": "display_data"
    },
    {
     "data": {
      "text/plain": [
       "\"sector k=2, spin=2.0:\""
      ]
     },
     "metadata": {},
     "output_type": "display_data"
    },
    {
     "data": {
      "text/plain": [
       "\"MPS decomposition does not have this sector, skip it\""
      ]
     },
     "metadata": {},
     "output_type": "display_data"
    },
    {
     "data": {
      "text/plain": [
       "\"sector k=2, spin=2.5:\""
      ]
     },
     "metadata": {},
     "output_type": "display_data"
    },
    {
     "data": {
      "text/plain": [
       "\"MPS decomposition does not have this sector, skip it\""
      ]
     },
     "metadata": {},
     "output_type": "display_data"
    },
    {
     "data": {
      "text/plain": [
       "\"sector k=3, spin=0.0:\""
      ]
     },
     "metadata": {},
     "output_type": "display_data"
    },
    {
     "data": {
      "text/plain": [
       "4-element Vector{ComplexF64}:\n",
       "  -21.02009045876285 - 0.0028471627803874646im\n",
       "  0.1737752418221884 - 3.5581405981959386e-6im\n",
       " 0.09605150988878979 + 2.1731752731587e-7im\n",
       "  0.0662921167032229 + 2.4007987424189156e-6im"
      ]
     },
     "metadata": {},
     "output_type": "display_data"
    },
    {
     "data": {
      "text/plain": [
       "\"sector k=3, spin=0.5:\""
      ]
     },
     "metadata": {},
     "output_type": "display_data"
    },
    {
     "data": {
      "text/plain": [
       "9-element Vector{ComplexF64}:\n",
       "   0.14462384926136043 + 4.161234888881067e-6im\n",
       "   0.12883638478672124 - 5.9743506862694395e-6im\n",
       "   0.06768498688507775 + 4.764767318952937e-6im\n",
       "   0.06091426166680652 + 1.672854453405207e-6im\n",
       "  -0.02984252074504708 - 6.295163211772671e-5im\n",
       "  0.022756675428796728 - 0.013332308022545898im\n",
       "   0.02276600298545523 + 0.013272396517593026im\n",
       "   0.02612021693426196 + 1.028116589037004e-5im\n",
       " -0.020356637646520907 + 8.11199826161866e-5im"
      ]
     },
     "metadata": {},
     "output_type": "display_data"
    },
    {
     "data": {
      "text/plain": [
       "\"sector k=3, spin=1.0:\""
      ]
     },
     "metadata": {},
     "output_type": "display_data"
    },
    {
     "data": {
      "text/plain": [
       "4-element Vector{ComplexF64}:\n",
       "  0.12668216535490878 - 1.3615585761561311e-6im\n",
       "  0.10694153184827297 + 6.335911317715731e-6im\n",
       " 0.040490636848035055 + 0.005498625604224755im\n",
       "  0.04047397324922713 - 0.0055072317217905575im"
      ]
     },
     "metadata": {},
     "output_type": "display_data"
    },
    {
     "data": {
      "text/plain": [
       "\"sector k=3, spin=1.5:\""
      ]
     },
     "metadata": {},
     "output_type": "display_data"
    },
    {
     "data": {
      "text/plain": [
       "4-element Vector{ComplexF64}:\n",
       " 0.12310319945257894 - 4.9135584257671824e-6im\n",
       " 0.11555774997501306 + 4.205466392576806e-6im\n",
       " 0.07104624409359195 + 7.233606739786287e-6im\n",
       " 0.01682030035169615 - 2.1718145829265946e-6im"
      ]
     },
     "metadata": {},
     "output_type": "display_data"
    },
    {
     "data": {
      "text/plain": [
       "\"sector k=3, spin=2.0:\""
      ]
     },
     "metadata": {},
     "output_type": "display_data"
    },
    {
     "data": {
      "text/plain": [
       "\"MPS decomposition does not have this sector, skip it\""
      ]
     },
     "metadata": {},
     "output_type": "display_data"
    },
    {
     "data": {
      "text/plain": [
       "\"sector k=3, spin=2.5:\""
      ]
     },
     "metadata": {},
     "output_type": "display_data"
    },
    {
     "data": {
      "text/plain": [
       "\"MPS decomposition does not have this sector, skip it\""
      ]
     },
     "metadata": {},
     "output_type": "display_data"
    },
    {
     "data": {
      "text/plain": [
       "\"sector k=4, spin=0.0:\""
      ]
     },
     "metadata": {},
     "output_type": "display_data"
    },
    {
     "data": {
      "text/plain": [
       "4-element Vector{ComplexF64}:\n",
       "   0.2060806754360931 + 0.003320781514092111im\n",
       "   0.0829569165811002 + 0.002242083843110393im\n",
       "  0.05348414617712363 + 0.00630349971701585im\n",
       " 0.019745839264384134 - 0.023255216940756232im"
      ]
     },
     "metadata": {},
     "output_type": "display_data"
    },
    {
     "data": {
      "text/plain": [
       "\"sector k=4, spin=0.5:\""
      ]
     },
     "metadata": {},
     "output_type": "display_data"
    },
    {
     "data": {
      "text/plain": [
       "9-element Vector{ComplexF64}:\n",
       "  -2.3612466691961274 - 0.7437042490978583im\n",
       "  0.30044758295801066 + 0.002261926082084245im\n",
       "   0.2205932183646295 - 0.0024759991149934384im\n",
       "  0.06799605130923453 - 0.00027770081386447053im\n",
       " 0.057200326369614266 - 0.0029215428882056454im\n",
       "  0.03200811709270809 - 0.04059971938999051im\n",
       "  0.04227684148575999 + 0.029370873003776662im\n",
       "  0.04286368102075983 - 0.0019011352562502575im\n",
       " 0.025300428079903958 + 0.0017622188756237023im"
      ]
     },
     "metadata": {},
     "output_type": "display_data"
    },
    {
     "data": {
      "text/plain": [
       "\"sector k=4, spin=1.0:\""
      ]
     },
     "metadata": {},
     "output_type": "display_data"
    },
    {
     "data": {
      "text/plain": [
       "4-element Vector{ComplexF64}:\n",
       " 0.24640527605241364 - 0.0012473138100108946im\n",
       " 0.14556946513416028 - 0.001260899167060131im\n",
       " 0.08397520117598474 + 0.0006498021077603395im\n",
       " 0.04274526909168987 + 0.003246222907759134im"
      ]
     },
     "metadata": {},
     "output_type": "display_data"
    },
    {
     "data": {
      "text/plain": [
       "\"sector k=4, spin=1.5:\""
      ]
     },
     "metadata": {},
     "output_type": "display_data"
    },
    {
     "data": {
      "text/plain": [
       "4-element Vector{ComplexF64}:\n",
       "  0.11272101845442892 + 0.0007978032199907292im\n",
       "  0.08109396386173791 + 0.00022721558093379173im\n",
       " 0.025633592792104812 + 0.0009593771122276247im\n",
       " 0.011455000328044421 - 0.007063270917705582im"
      ]
     },
     "metadata": {},
     "output_type": "display_data"
    },
    {
     "data": {
      "text/plain": [
       "\"sector k=4, spin=2.0:\""
      ]
     },
     "metadata": {},
     "output_type": "display_data"
    },
    {
     "data": {
      "text/plain": [
       "\"MPS decomposition does not have this sector, skip it\""
      ]
     },
     "metadata": {},
     "output_type": "display_data"
    },
    {
     "data": {
      "text/plain": [
       "\"sector k=4, spin=2.5:\""
      ]
     },
     "metadata": {},
     "output_type": "display_data"
    },
    {
     "data": {
      "text/plain": [
       "\"MPS decomposition does not have this sector, skip it\""
      ]
     },
     "metadata": {},
     "output_type": "display_data"
    },
    {
     "data": {
      "text/plain": [
       "\"sector k=5, spin=0.0:\""
      ]
     },
     "metadata": {},
     "output_type": "display_data"
    },
    {
     "data": {
      "text/plain": [
       "4-element Vector{ComplexF64}:\n",
       "   0.5383380654641069 - 0.0009206675563531545im\n",
       "  0.11905601920296827 - 0.000401790700011353im\n",
       "  0.04788974986110524 + 0.004288830696477035im\n",
       " 0.016074461597992733 - 0.0116859536757226im"
      ]
     },
     "metadata": {},
     "output_type": "display_data"
    },
    {
     "data": {
      "text/plain": [
       "\"sector k=5, spin=0.5:\""
      ]
     },
     "metadata": {},
     "output_type": "display_data"
    },
    {
     "data": {
      "text/plain": [
       "9-element Vector{ComplexF64}:\n",
       "    0.6328183795956579 - 0.006522193760023327im\n",
       "   0.23684260210172703 + 0.004935650453055106im\n",
       "    0.1322333588396917 - 0.0005996838126820493im\n",
       "   0.07412533954980226 - 8.61623639959943e-6im\n",
       "  0.043908435185946455 + 0.005810188946248651im\n",
       "   0.03971610999385383 - 0.011606438118784057im\n",
       " 1.4595663859846142e-5 - 0.03738261395523926im\n",
       "   0.02659636425711963 - 0.0021839750727209385im\n",
       "  0.019231529702618766 + 0.013815145431875332im"
      ]
     },
     "metadata": {},
     "output_type": "display_data"
    },
    {
     "data": {
      "text/plain": [
       "\"sector k=5, spin=1.0:\""
      ]
     },
     "metadata": {},
     "output_type": "display_data"
    },
    {
     "data": {
      "text/plain": [
       "4-element Vector{ComplexF64}:\n",
       "  0.29922954516394595 - 0.0003853805078453641im\n",
       "  0.10992912337019915 + 0.004017109801734534im\n",
       "  0.05077286831226565 + 0.007804376161299615im\n",
       " 0.028743419876949658 - 0.014678879091825636im"
      ]
     },
     "metadata": {},
     "output_type": "display_data"
    },
    {
     "data": {
      "text/plain": [
       "\"sector k=5, spin=1.5:\""
      ]
     },
     "metadata": {},
     "output_type": "display_data"
    },
    {
     "data": {
      "text/plain": [
       "4-element Vector{ComplexF64}:\n",
       "   0.1654752110632008 + 0.0009580126759927803im\n",
       "  0.03969769776599656 + 0.005010647836063073im\n",
       "  0.02730543192603164 - 0.004971808148457962im\n",
       " 0.023795863998233382 + 0.00686793666057416im"
      ]
     },
     "metadata": {},
     "output_type": "display_data"
    },
    {
     "data": {
      "text/plain": [
       "\"sector k=5, spin=2.0:\""
      ]
     },
     "metadata": {},
     "output_type": "display_data"
    },
    {
     "data": {
      "text/plain": [
       "\"MPS decomposition does not have this sector, skip it\""
      ]
     },
     "metadata": {},
     "output_type": "display_data"
    },
    {
     "data": {
      "text/plain": [
       "\"sector k=5, spin=2.5:\""
      ]
     },
     "metadata": {},
     "output_type": "display_data"
    },
    {
     "data": {
      "text/plain": [
       "\"MPS decomposition does not have this sector, skip it\""
      ]
     },
     "metadata": {},
     "output_type": "display_data"
    },
    {
     "name": "stdout",
     "output_type": "stream",
     "text": [
      "calculate ES for N=6 61.783766 seconds (155.30 M allocations: 8.454 GiB, 6.07% gc time, 99.25% compilation time)\n",
      "  1.442155 seconds (3.58 M allocations: 346.631 MiB, 4.02% gc time, 49.69% compilation time)\n",
      "  0.481193 seconds (1.61 M allocations: 182.269 MiB, 13.43% gc time, 14.02% compilation time)\n",
      "  0.458270 seconds (1.51 M allocations: 168.177 MiB, 13.24% gc time, 14.03% compilation time)\n",
      "  0.288776 seconds (906.93 k allocations: 94.315 MiB, 12.11% compilation time)\n",
      "  0.717075 seconds (2.22 M allocations: 238.130 MiB, 8.10% gc time)\n",
      "  0.369111 seconds (1.02 M allocations: 109.456 MiB, 15.02% gc time)\n",
      "  0.280276 seconds (980.05 k allocations: 104.823 MiB)\n",
      "  0.267547 seconds (875.44 k allocations: 92.635 MiB)\n",
      "  0.729260 seconds (2.22 M allocations: 238.130 MiB, 7.55% gc time)\n",
      "  0.350168 seconds (1.02 M allocations: 109.456 MiB, 14.81% gc time)\n",
      "  0.287103 seconds (980.05 k allocations: 104.823 MiB)\n",
      "  0.315091 seconds (875.44 k allocations: 92.635 MiB, 15.85% gc time)\n",
      "  0.654954 seconds (2.22 M allocations: 238.130 MiB)\n",
      "  0.352482 seconds (1.02 M allocations: 109.456 MiB, 16.43% gc time)\n",
      "  0.291173 seconds (980.05 k allocations: 104.823 MiB)\n",
      "  0.312384 seconds (875.44 k allocations: 92.635 MiB, 15.69% gc time)\n",
      "  0.733442 seconds (2.22 M allocations: 238.130 MiB, 6.86% gc time)\n",
      "  0.294199 seconds (1.02 M allocations: 109.456 MiB)\n",
      "  0.304515 seconds (980.05 k allocations: 104.823 MiB)\n",
      "  0.328226 seconds (875.44 k allocations: 92.635 MiB, 15.85% gc time)\n",
      "  0.720929 seconds (2.22 M allocations: 238.130 MiB, 6.72% gc time)\n",
      "  0.300971 seconds (1.02 M allocations: 109.456 MiB)\n",
      "  0.292574 seconds (980.05 k allocations: 104.823 MiB)\n"
     ]
    }
   ],
   "source": [
    "Dtrun_method=\"svds\";\n",
    "ES_sectors=[0,1/2,1,3/2,2,5/2];\n",
    "kset=0:N-1;\n",
    "#kset=0:0\n",
    "Eset=[];\n",
    "Trun_err=0;\n",
    "DTrun=0;\n",
    "print(\"calculate ES for N=\"*string(N));\n",
    "display(\"kset=\"*string(kset));\n",
    "pow=round((N-2)/2);\n",
    "\n",
    "\n",
    "\n",
    "if Dtrun_method==\"eigs\"\n",
    "    DTrun=length(group_numbers(SPIN_eig_set));\n",
    "    display(\"DTrun=\"*string(DTrun));\n",
    "\n",
    "    euRs=abs.(group_numbers(euR_set));\n",
    "    Trun_err=(minimum(euRs)/maximum(euRs))^pow;\n",
    "\n",
    "\n",
    "    euR_pow=deepcopy(euR_set_grouped);\n",
    "    for ca=1:length(euR_pow)\n",
    "        for cb=1:length(euR_pow[ca])\n",
    "            euR_pow[ca][cb]=euR_pow[ca][cb]^Int(pow);\n",
    "        end\n",
    "    end\n",
    "\n",
    "    kset,Eset=solve_ITEBD_excitation_TrunTransOp_iterative(Ag,O1,O2,OO,EH_n,N,kset,ES_sectors,pow,evR_set_grouped,euR_pow,evL_set_grouped,SPIN_eig_set_grouped,DTrun_FLR_eig,mpo_type)\n",
    "\n",
    "elseif Dtrun_method==\"svds\"\n",
    "    DTrun=length(group_numbers(SPIN_svd_set));\n",
    "    display(\"DTrun=\"*string(DTrun));\n",
    "\n",
    "    Ss=abs.(group_numbers(S_set));\n",
    "    Trun_err=(minimum(Ss)/maximum(Ss));\n",
    "\n",
    "    kset,Eset=solve_ITEBD_excitation_TrunTransOp_iterative(Ag,O1,O2,OO,EH_n,N,kset,ES_sectors,pow,U_set_grouped,S_set_grouped,Vh_set_grouped,SPIN_svd_set_grouped,DTrun_FLR_svd,mpo_type)\n",
    "end\n",
    "\n",
    "ES_filenm=\"ES_\"*Dtrun_method*\"_D\"*string(D)*\"_chi\"*string(chi)*\"_W\"*string(W)*\"_N\"*string(N)*\".mat\";\n",
    "matwrite(ES_filenm, Dict(\n",
    "    \"kset\" => convert(Vector,kset),\n",
    "    \"ES_sectors\" => ES_sectors,\n",
    "    \"Eset\" => Eset,\n",
    "    \"Trun_err\"=>Trun_err,\n",
    "    \"DTrun\"=>DTrun\n",
    "); compress = false)\n"
   ]
  }
 ],
 "metadata": {
  "kernelspec": {
   "display_name": "Julia 1.7.2",
   "language": "julia",
   "name": "julia-1.7"
  },
  "language_info": {
   "file_extension": ".jl",
   "mimetype": "application/julia",
   "name": "julia",
   "version": "1.7.2"
  },
  "orig_nbformat": 4
 },
 "nbformat": 4,
 "nbformat_minor": 2
}
