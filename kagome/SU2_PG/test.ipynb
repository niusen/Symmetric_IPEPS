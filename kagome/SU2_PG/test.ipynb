{
 "cells": [
  {
   "cell_type": "code",
   "execution_count": 33,
   "metadata": {},
   "outputs": [
    {
     "data": {
      "text/plain": [
       "Dict{String, Real} with 5 entries:\n",
       "  \"Jchi\"  => 0\n",
       "  \"J1\"    => 0.80902\n",
       "  \"Jtrip\" => 0.5878\n",
       "  \"J3\"    => 0\n",
       "  \"J2\"    => 0"
      ]
     },
     "metadata": {},
     "output_type": "display_data"
    }
   ],
   "source": [
    "using LinearAlgebra\n",
    "using TensorKit\n",
    "using KrylovKit\n",
    "using JSON\n",
    "using HDF5, JLD\n",
    "cd(\"D:\\\\My Documents\\\\Code\\\\Julia_codes\\\\Tensor network\\\\IPEPS_TensorKit\\\\kagome\\\\SU2_PG\")\n",
    "#push!(LOAD_PATH, \"D:\\\\My Documents\\\\Code\\\\Julia_codes\\\\Tensor network\\\\IPEPS_TensorKit\\\\kagome\\\\SU2_PG\")\n",
    "include(\"kagome_load_tensor.jl\")\n",
    "include(\"kagome_CTMRG.jl\")\n",
    "include(\"kagome_model.jl\")\n",
    "include(\"kagome_IPESS.jl\")\n",
    "include(\"mps_algorithms\\\\ITEBD_algorithms.jl\")\n",
    "include(\"mps_algorithms\\\\TransfOp_decomposition.jl\")\n",
    "include(\"mps_algorithms\\\\PUMPS_algorithms.jl\")\n",
    "\n",
    "\n",
    "\n",
    "D=8;\n",
    "chi=60;\n",
    "W=20;\n",
    "N=20;\n",
    "kset=0:4;\n",
    "EH_n=3;#number of entanglement spectrum per k point\n",
    "Dtrun_method=\"svds\";\n",
    "Dtrun_init=400;\n",
    "Dtrun_max=400;\n",
    "\n",
    "\n",
    "J1=0.80902;\n",
    "J2=0;\n",
    "J3=0;\n",
    "Jchi=0;\n",
    "Jtrip=0.5878;\n",
    "\n",
    "parameters=Dict([(\"J1\", J1), (\"J2\", J2), (\"J3\", J3), (\"Jchi\", Jchi), (\"Jtrip\", Jtrip)]);\n",
    "\n"
   ]
  },
  {
   "cell_type": "code",
   "execution_count": 34,
   "metadata": {},
   "outputs": [
    {
     "name": "stdout",
     "output_type": "stream",
     "text": [
      "number of threads: 1\n"
     ]
    }
   ],
   "source": [
    "\n",
    "    multi_threads=true;if Threads.nthreads()==1; multi_threads=false; end\n",
    "    println(\"number of threads: \"*string(Threads.nthreads()));flush(stdout);\n",
    "    \n",
    "    CTM_conv_tol=1e-6;\n",
    "    trun_tol=1e-8;\n",
    "    group_size=Int(round((10^8)/(chi*chi*W*W*D)));\n",
    "    \n",
    "    mpo_type=\"OO\";#\"O_O\" or \"OO\", in my test \"OO\" is faster for large bond dimension\n",
    "    \n",
    "    pow=Int((N-2)/2);\n",
    "    \n",
    "\n",
    "    \n",
    "    A_set,B_set,A1_set,A2_set, A_set_occu,B_set_occu,A1_set_occu,A2_set_occu, S_label, Sz_label, virtual_particle, Va, Vb=construct_tensor(D);\n",
    "    \n",
    "    filenm=\"LS_D_\"*string(D)*\"_chi_40.json\"\n",
    "    json_dict=read_json_state(filenm);\n",
    "    \n",
    "    bond_tensor,triangle_tensor=construct_su2_PG_IPESS(json_dict,A_set,B_set,A1_set,A2_set, A_set_occu,B_set_occu,A1_set_occu,A2_set_occu, S_label, Sz_label, virtual_particle, Va, Vb);\n",
    "    \n",
    "    PEPS_tensor=bond_tensor;\n",
    "    @tensor PEPS_tensor[:] := bond_tensor[-1,1,-5]*bond_tensor[4,3,-6]*bond_tensor[-4,2,-7]*triangle_tensor[1,3,2]*triangle_tensor[4,-2,-3];\n",
    "    A_unfused=PEPS_tensor;\n",
    "    \n",
    "    U_phy=unitary(fuse(space(PEPS_tensor, 5) ⊗ space(PEPS_tensor, 6) ⊗ space(PEPS_tensor, 7)), space(PEPS_tensor, 5) ⊗ space(PEPS_tensor, 6) ⊗ space(PEPS_tensor, 7));\n",
    "    @tensor A_fused[:] :=PEPS_tensor[-1,-2,-3,-4,1,2,3]*U_phy[-5,1,2,3];"
   ]
  },
  {
   "cell_type": "code",
   "execution_count": 35,
   "metadata": {},
   "outputs": [
    {
     "name": "stdout",
     "output_type": "stream",
     "text": [
      "No CTM found from saved data, now do CTMRG\n"
     ]
    },
    {
     "data": {
      "text/plain": [
       "\"initialize CTM\""
      ]
     },
     "metadata": {},
     "output_type": "display_data"
    },
    {
     "data": {
      "text/plain": [
       "\"start CTM iterations:\""
      ]
     },
     "metadata": {},
     "output_type": "display_data"
    },
    {
     "name": "stdout",
     "output_type": "stream",
     "text": [
      "  0.279436 seconds (783.65 k allocations: 77.595 MiB, 12.35% gc time, 53.41% compilation time)\n",
      "CTMRG iteration: 1, CTMRG err: 6.386909242189306\n",
      "CTMRG iteration: 2, CTMRG err: 0.5162630418442805\n",
      "CTMRG iteration: 3, CTMRG err: 0.42386112908678647\n",
      "CTMRG iteration: 4, CTMRG err: 0.2009231399861225\n",
      "CTMRG iteration: 5, CTMRG err: 0.1488093148145859\n",
      "CTMRG iteration: 6, CTMRG err: 0.08626209897556224\n",
      "CTMRG iteration: 7, CTMRG err: 0.07839382418077667\n",
      "CTMRG iteration: 8, CTMRG err: 0.04155417608905354\n",
      "CTMRG iteration: 9, CTMRG err: 0.0459018326933857\n",
      "CTMRG iteration: 10, CTMRG err: 0.021433388245652364\n",
      "CTMRG iteration: 11, CTMRG err: 0.028505354528318365\n",
      "CTMRG iteration: 12, CTMRG err: 0.01173182211588852\n",
      "CTMRG iteration: 13, CTMRG err: 0.01841340155206256\n",
      "CTMRG iteration: 14, CTMRG err: 0.0069133839020670594\n",
      "CTMRG iteration: 15, CTMRG err: 0.012254667375128155\n",
      "CTMRG iteration: 16, CTMRG err: 0.004436920839694985\n",
      "CTMRG iteration: 17, CTMRG err: 0.00835692651047851\n",
      "CTMRG iteration: 18, CTMRG err: 0.003066457618125085\n",
      "CTMRG iteration: 19, CTMRG err: 0.00581831568435818\n",
      "CTMRG iteration: 20, CTMRG err: 0.002218822606681268\n",
      "CTMRG iteration: 21, CTMRG err: 0.004124598921702669\n",
      "CTMRG iteration: 22, CTMRG err: 0.0016380234020325918\n",
      "CTMRG iteration: 23, CTMRG err: 0.0029706165183851535\n",
      "CTMRG iteration: 24, CTMRG err: 0.0012146581567822833\n",
      "CTMRG iteration: 25, CTMRG err: 0.0021696169649689672\n",
      "CTMRG iteration: 26, CTMRG err: 0.0008980920116866897\n",
      "CTMRG iteration: 27, CTMRG err: 0.0016043721320014358\n",
      "CTMRG iteration: 28, CTMRG err: 0.0006603874670313508\n",
      "CTMRG iteration: 29, CTMRG err: 0.0011996257360429308\n",
      "CTMRG iteration: 30, CTMRG err: 0.0004830214679778315\n",
      "CTMRG iteration: 31, CTMRG err: 0.0009060499723388111\n",
      "CTMRG iteration: 32, CTMRG err: 0.0003521978790314324\n",
      "CTMRG iteration: 33, CTMRG err: 0.0006906738835115307\n",
      "CTMRG iteration: 34, CTMRG err: 0.0002571243598492755\n",
      "CTMRG iteration: 35, CTMRG err: 0.0005310564777240021\n",
      "CTMRG iteration: 36, CTMRG err: 0.0001892400504670792\n",
      "CTMRG iteration: 37, CTMRG err: 0.0004116708045752306\n",
      "CTMRG iteration: 38, CTMRG err: 0.00014172517547128474\n",
      "CTMRG iteration: 39, CTMRG err: 0.0003216161485358774\n",
      "CTMRG iteration: 40, CTMRG err: 0.00010911027813999867\n",
      "CTMRG iteration: 41, CTMRG err: 0.0002531419263925707\n",
      "CTMRG iteration: 42, CTMRG err: 8.698903827410419e-5\n",
      "CTMRG iteration: 43, CTMRG err: 0.00020067673930614772\n",
      "CTMRG iteration: 44, CTMRG err: 7.18787869542654e-5\n",
      "CTMRG iteration: 45, CTMRG err: 0.00016017778945431698\n",
      "CTMRG iteration: 46, CTMRG err: 6.118755315450622e-5\n",
      "CTMRG iteration: 47, CTMRG err: 0.00012868741573470835\n",
      "CTMRG iteration: 48, CTMRG err: 5.3157566637040335e-5\n",
      "CTMRG iteration: 49, CTMRG err: 0.00010402611796973867\n",
      "CTMRG iteration: 50, CTMRG err: 4.671149432290637e-5\n",
      "166.796448 seconds (136.73 M allocations: 39.158 GiB, 18.90% gc time, 0.51% compilation time)\n"
     ]
    }
   ],
   "source": [
    "CTM=[];\n",
    "U_L=[];\n",
    "U_D=[];\n",
    "U_R=[];\n",
    "U_U=[];\n",
    "\n",
    "\n",
    "println(\"No CTM found from saved data, now do CTMRG\");flush(stdout);\n",
    "\n",
    "\n",
    "init=Dict([(\"CTM\", []), (\"init_type\", \"PBC\")]);\n",
    "conv_check=\"singular_value\";\n",
    "@time CTM, AA_fused, U_L,U_D,U_R,U_U=CTMRG(A_fused,chi,conv_check,CTM_conv_tol,init);\n"
   ]
  },
  {
   "cell_type": "code",
   "execution_count": 36,
   "metadata": {},
   "outputs": [
    {
     "name": "stdout",
     "output_type": "stream",
     "text": [
      "  8.154295 seconds (6.02 M allocations: 2.186 GiB, 52.09% gc time, 15.51% compilation time)\n",
      "  5.926864 seconds (4.18 M allocations: 1.984 GiB, 45.56% gc time, 1.04% compilation time)\n",
      "-0.40397758467142536 - 1.4395520461967011e-10im\n"
     ]
    }
   ],
   "source": [
    "\n",
    "\n",
    "@time E_up, E_down=evaluate_ob(parameters, U_phy, A_unfused, A_fused, AA_fused, U_L,U_D,U_R,U_U, CTM, \"E_triangle\");\n",
    "@time E_up_12, E_up_31, E_up_23, E_down_12, E_down_31, E_down_23=evaluate_ob(parameters, U_phy, A_unfused, A_fused, AA_fused, U_L,U_D,U_R,U_U, CTM, \"E_bond\");\n",
    "println((E_up+E_down)/3);flush(stdout);\n"
   ]
  },
  {
   "cell_type": "code",
   "execution_count": null,
   "metadata": {},
   "outputs": [],
   "source": [
    "O1O2\n"
   ]
  },
  {
   "cell_type": "code",
   "execution_count": 37,
   "metadata": {},
   "outputs": [
    {
     "data": {
      "text/plain": [
       "build_double_layer_extra_leg (generic function with 1 method)"
      ]
     },
     "metadata": {},
     "output_type": "display_data"
    }
   ],
   "source": [
    "function build_double_layer_extra_leg(A,operator)\n",
    "    #su2 operator has three legs, such as svd decomposition of Heisenberg interaction \n",
    "    #first two indices of operator are physical indices\n",
    "    A=permute(A,(1,2,),(3,4,5));\n",
    "    U_L=unitary(fuse(space(A, 1)' ⊗ space(A, 1)), space(A, 1)' ⊗ space(A, 1));\n",
    "    U_D=unitary(fuse(space(A, 2)' ⊗ space(A, 2)), space(A, 2)' ⊗ space(A, 2));\n",
    "    U_R=inv(U_L);\n",
    "    U_U=inv(U_D);\n",
    "    # display(space(U_L))\n",
    "    # display(space(U_D))\n",
    "    # display(space(U_R))\n",
    "    # display(space(U_D))\n",
    "\n",
    "    uM,sM,vM=tsvd(A);\n",
    "    uM=uM*sM\n",
    "\n",
    "    uM=permute(uM,(1,2,3,),())\n",
    "    V=space(vM,1);\n",
    "    U=unitary(fuse(V' ⊗ V), V' ⊗ V);\n",
    "    @tensor double_LD[:]:=uM'[-1,-2,1]*U'[1,-3,-4];\n",
    "    @tensor double_LD[:]:=double_LD[-1,-3,1,-5]*uM[-2,-4,1];\n",
    "    \n",
    "    vM=permute(vM,(1,2,3,4,),());\n",
    "\n",
    "        @tensor double_RU[:]:=U[-1,-2,1]*vM[1,-3,-4,-5];\n",
    "        @tensor double_RU[:]:=vM'[3,-2,-4,1]*operator[2,1,-6]*double_RU[-1,3,-3,-5,2];\n",
    " \n",
    "    #display(space(double_RU))\n",
    "\n",
    "    double_LD=permute(double_LD,(1,2,),(3,4,5,));\n",
    "    double_LD=U_L*double_LD;\n",
    "    double_LD=permute(double_LD,(2,3,),(1,4,));\n",
    "    double_LD=U_D*double_LD;\n",
    "    double_LD=permute(double_LD,(2,1,),(3,));\n",
    "    #display(space(double_LD))\n",
    "    double_RU=permute(double_RU,(1,4,5,6,),(2,3,));\n",
    "    double_RU=double_RU*U_R;\n",
    "    double_RU=permute(double_RU,(1,5,4,),(2,3,));\n",
    "    double_RU=double_RU*U_U;\n",
    "    double_LD=permute(double_LD,(1,2,),(3,));\n",
    "    double_RU=permute(double_RU,(1,),(2,4,3,));\n",
    "    AA_fused=double_LD*double_RU;\n",
    "    AA_fused=permute(AA_fused,(1,2,3,4,5,),());\n",
    "    \n",
    "    return AA_fused, U_L,U_D,U_R,U_U\n",
    "end\n",
    "\n"
   ]
  },
  {
   "cell_type": "code",
   "execution_count": null,
   "metadata": {},
   "outputs": [],
   "source": [
    "function single_spin_operator(U_phy,posit1,posit2)\n",
    "\n",
    "    # Heisenberg interaction\n",
    "    Id=TensorMap(I(2),space(U_phy,4),space(U_phy,4));\n",
    "    sx=[[0,1] [1,0]]/2; sy=[[0,1] [-1,0]]/2*im; sz=[[1,0] [0,-1]]/2;\n",
    "    @tensor HSS[:]:=sx[-1,-3]*sx[-2,-4]+sy[-1,-3]*sy[-2,-4]+sz[-1,-3]*sz[-2,-4];\n",
    "    HSS=TensorMap(HSS, space(U_phy,4)⊗space(U_phy,4) ← space(U_phy,4)⊗space(U_phy,4));\n",
    "    HSS=permute(HSS,(1,3,),(2,4,));\n",
    "    u,s,v=tsvd(HSS);\n",
    "    H1=u*s;\n",
    "    H2=permute(v,(2,3,),(1,));\n",
    "\n",
    "    if posit1==1\n",
    "        @tensor H1[:]:= U_phy'[4,5,6,-1]*H1[1,4,-3]*Id[2,5]*Id[3,6]*U_phy[-2,1,2,3];\n",
    "    elseif posit1==2\n",
    "        @tensor H1[:]:= U_phy'[4,5,6,-1]*Id[1,4]*H1[2,5,-3]*Id[3,6]*U_phy[-2,1,2,3];\n",
    "    elseif posit1==3\n",
    "        @tensor H1[:]:= U_phy'[4,5,6,-1]*Id[1,4]*Id[2,5]*H1[3,6,-3]*U_phy[-2,1,2,3];\n",
    "    end\n",
    "\n",
    "    if posit2==1\n",
    "        @tensor H2[:]:= U_phy'[4,5,6,-1]*H2[1,4,-3]*Id[2,5]*Id[3,6]*U_phy[-2,1,2,3];\n",
    "    elseif posit2==2\n",
    "        @tensor H2[:]:= U_phy'[4,5,6,-1]*Id[1,4]*H2[2,5,-3]*Id[3,6]*U_phy[-2,1,2,3];\n",
    "    elseif posit2==3\n",
    "        @tensor H2[:]:= U_phy'[4,5,6,-1]*Id[1,4]*Id[2,5]*H2[3,6,-3]*U_phy[-2,1,2,3];\n",
    "    end\n",
    "\n",
    "\n",
    "    return H1,H2 \n",
    "end\n"
   ]
  },
  {
   "cell_type": "code",
   "execution_count": 38,
   "metadata": {},
   "outputs": [
    {
     "data": {
      "text/plain": [
       "Rep[SU₂](1/2=>2, 3/2=>1) ← (Rep[SU₂](1/2=>1)' ⊗ Rep[SU₂](1/2=>1)' ⊗ Rep[SU₂](1/2=>1)')"
      ]
     },
     "metadata": {},
     "output_type": "display_data"
    }
   ],
   "source": [
    "display(space(U_phy))"
   ]
  }
 ],
 "metadata": {
  "kernelspec": {
   "display_name": "Julia 1.7.2",
   "language": "julia",
   "name": "julia-1.7"
  },
  "language_info": {
   "file_extension": ".jl",
   "mimetype": "application/julia",
   "name": "julia",
   "version": "1.7.2"
  },
  "orig_nbformat": 4
 },
 "nbformat": 4,
 "nbformat_minor": 2
}
