{
 "cells": [
  {
   "cell_type": "code",
   "execution_count": 1,
   "metadata": {},
   "outputs": [
    {
     "data": {
      "text/plain": [
       "\"initialize CTM\""
      ]
     },
     "metadata": {},
     "output_type": "display_data"
    },
    {
     "name": "stdout",
     "output_type": "stream",
     "text": [
      "  0.000001 seconds\n",
      " 30.680206 seconds (111.99 M allocations: 5.866 GiB, 7.83% gc time, 98.84% compilation time)\n",
      "  0.233022 seconds (348.64 k allocations: 18.456 MiB, 99.92% compilation time)\n",
      "  5.586457 seconds (21.33 M allocations: 1.429 GiB, 7.92% gc time, 85.14% compilation time)\n",
      " 30.039941 seconds (126.98 M allocations: 11.159 GiB, 11.89% gc time, 64.18% compilation time)\n"
     ]
    },
    {
     "data": {
      "text/plain": [
       "Dict{String, Vector{Any}} with 2 entries:\n",
       "  \"Cset\" => [TensorMap((Rep[SU₂](0=>7, 1/2=>10, 1=>12, 3/2=>8, 2=>6, 5/2=>2, 3=…\n",
       "  \"Tset\" => [TensorMap((Rep[SU₂](0=>7, 1/2=>10, 1=>12, 3/2=>8, 2=>6, 5/2=>2, 3=…"
      ]
     },
     "metadata": {},
     "output_type": "display_data"
    }
   ],
   "source": [
    "using LinearAlgebra\n",
    "using TensorKit\n",
    "using JSON\n",
    "cd(\"D:\\\\My Documents\\\\Code\\\\Julia_codes\\\\Tensor network\\\\IPEPS_TensorKit\\\\kagome\\\\SU2_PG\")\n",
    "#push!(LOAD_PATH, \"D:\\\\My Documents\\\\Code\\\\Julia_codes\\\\Tensor network\\\\IPEPS_TensorKit\\\\kagome\\\\SU2_PG\")\n",
    "include(\"load_tensor.jl\")\n",
    "include(\"CTM.jl\")\n",
    "#include(\"my_TensorKit_fun.jl\")\n",
    "\n",
    "#TensorKit.usebraidcache_nonabelian[] = false\n",
    "\n",
    "D=12\n",
    "chi=10\n",
    "tol=1e-6\n",
    "\n",
    "\n",
    "A_set,B_set,A1_set,A2_set, A_set_occu,B_set_occu,A1_set_occu,A2_set_occu, S_label, Sz_label, virtual_particle, Va, Vb=construct_tensor(D);\n",
    "\n",
    "#load elementary tensor coefficients from json file\n",
    "function read_string(string)\n",
    "    nums=ones(length(string))\n",
    "    for cn=1:length(string)\n",
    "        nums[cn]=parse.(Float64, split(string[cn])[2])\n",
    "    end\n",
    "    return nums\n",
    "end\n",
    "json_dict = Dict()\n",
    "open(\"LS_D_\"*string(D)*\"_chi_40.json\", \"r\") do f\n",
    "    global json_dict\n",
    "    dicttxt = read(f,String)  # file information to string\n",
    "    json_dict=JSON.parse(dicttxt)  # parse and transform data\n",
    "end\n",
    "\n",
    "Bond_irrep=json_dict[\"Bond_irrep\"]\n",
    "Triangle_A1_coe=read_string(json_dict[\"coes\"][\"Triangle_A1_coe\"][\"entries\"]);\n",
    "Triangle_A2_coe=read_string(json_dict[\"coes\"][\"Triangle_A2_coe\"][\"entries\"]);\n",
    "if Bond_irrep==\"A\"\n",
    "    Bond_A_coe=read_string(json_dict[\"coes\"][\"Bond_A_coe\"][\"entries\"]);\n",
    "elseif Bond_irrep==\"B\"\n",
    "    Bond_B_coe=read_string(json_dict[\"coes\"][\"Bond_B_coe\"][\"entries\"]);\n",
    "elseif Bond_irrep==\"A+iB\"\n",
    "    Bond_A_coe=read_string(json_dict[\"coes\"][\"Bond_A_coe\"][\"entries\"]);\n",
    "    Bond_B_coe=read_string(json_dict[\"coes\"][\"Bond_B_coe\"][\"entries\"]);\n",
    "end\n",
    "\n",
    "\n",
    "\n",
    "global triangle_tensor=A1_set[1]*0;\n",
    "global bond_tensor=A_set[1]*0;\n",
    "if Bond_irrep==\"A\"\n",
    "    global bond_tensor=A_set[1]*0;\n",
    "    for ct=1:length(Bond_A_coe)\n",
    "        global bond_tensor=bond_tensor+A_set[ct]*Bond_A_coe[ct]\n",
    "    end\n",
    "elseif Bond_irrep==\"B\"\n",
    "    global bond_tensor=B_set[1]*0;\n",
    "    for ct=1:length(Bond_B_coe)\n",
    "        global bond_tensor=bond_tensor+B_set[ct]*Bond_B_coe[ct]\n",
    "    end\n",
    "elseif Bond_irrep==\"A+iB\"\n",
    "    global bond_tensor=A_set[1]*0;\n",
    "    for ct=1:length(Bond_A_coe)\n",
    "        global bond_tensor=bond_tensor+A_set[ct]*Bond_A_coe[ct]\n",
    "    end\n",
    "    for ct=1:length(Bond_B_coe)\n",
    "        global bond_tensor=bond_tensor+B_set[ct]*Bond_B_coe[ct]\n",
    "    end\n",
    "end\n",
    "\n",
    "for ct=1:length(Triangle_A1_coe)\n",
    "    global triangle_tensor=triangle_tensor+A1_set[ct]*Triangle_A1_coe[ct]\n",
    "end\n",
    "for ct=1:length(Triangle_A2_coe)\n",
    "    global triangle_tensor=triangle_tensor+im*A2_set[ct]*Triangle_A2_coe[ct]\n",
    "end\n",
    "\n",
    "#TensorKit.usebraidcache_nonabelian[] = false\n",
    "A_set,B_set,A1_set,A2_set, A_set_occu,B_set_occu,A1_set_occu,A2_set_occu, S_label, Sz_label, virtual_particle, Va, Vb=construct_tensor(D);\n",
    "\n",
    "#load elementary tensor coefficients from json file\n",
    "function read_string(string)\n",
    "    nums=ones(length(string))\n",
    "    for cn=1:length(string)\n",
    "        nums[cn]=parse.(Float64, split(string[cn])[2])\n",
    "    end\n",
    "    return nums\n",
    "end\n",
    "json_dict = Dict()\n",
    "open(\"LS_D_\"*string(D)*\"_chi_40.json\", \"r\") do f\n",
    "    global json_dict\n",
    "    dicttxt = read(f,String)  # file information to string\n",
    "    json_dict=JSON.parse(dicttxt)  # parse and transform data\n",
    "end\n",
    "\n",
    "Bond_irrep=json_dict[\"Bond_irrep\"]\n",
    "Triangle_A1_coe=read_string(json_dict[\"coes\"][\"Triangle_A1_coe\"][\"entries\"]);\n",
    "Triangle_A2_coe=read_string(json_dict[\"coes\"][\"Triangle_A2_coe\"][\"entries\"]);\n",
    "if Bond_irrep==\"A\"\n",
    "    Bond_A_coe=read_string(json_dict[\"coes\"][\"Bond_A_coe\"][\"entries\"]);\n",
    "elseif Bond_irrep==\"B\"\n",
    "    Bond_B_coe=read_string(json_dict[\"coes\"][\"Bond_B_coe\"][\"entries\"]);\n",
    "elseif Bond_irrep==\"A+iB\"\n",
    "    Bond_A_coe=read_string(json_dict[\"coes\"][\"Bond_A_coe\"][\"entries\"]);\n",
    "    Bond_B_coe=read_string(json_dict[\"coes\"][\"Bond_B_coe\"][\"entries\"]);\n",
    "end\n",
    "\n",
    "\n",
    "\n",
    "global triangle_tensor=A1_set[1]*0;\n",
    "global bond_tensor=A_set[1]*0;\n",
    "if Bond_irrep==\"A\"\n",
    "    global bond_tensor=A_set[1]*0;\n",
    "    for ct=1:length(Bond_A_coe)\n",
    "        global bond_tensor=bond_tensor+A_set[ct]*Bond_A_coe[ct]\n",
    "    end\n",
    "elseif Bond_irrep==\"B\"\n",
    "    global bond_tensor=B_set[1]*0;\n",
    "    for ct=1:length(Bond_B_coe)\n",
    "        global bond_tensor=bond_tensor+B_set[ct]*Bond_B_coe[ct]\n",
    "    end\n",
    "elseif Bond_irrep==\"A+iB\"\n",
    "    global bond_tensor=A_set[1]*0;\n",
    "    for ct=1:length(Bond_A_coe)\n",
    "        global bond_tensor=bond_tensor+A_set[ct]*Bond_A_coe[ct]\n",
    "    end\n",
    "    for ct=1:length(Bond_B_coe)\n",
    "        global bond_tensor=bond_tensor+B_set[ct]*Bond_B_coe[ct]\n",
    "    end\n",
    "end\n",
    "\n",
    "for ct=1:length(Triangle_A1_coe)\n",
    "    global triangle_tensor=triangle_tensor+A1_set[ct]*Triangle_A1_coe[ct]\n",
    "end\n",
    "for ct=1:length(Triangle_A2_coe)\n",
    "    global triangle_tensor=triangle_tensor+im*A2_set[ct]*Triangle_A2_coe[ct]\n",
    "end\n",
    "\n",
    "@time PEPS_tensor=bond_tensor\n",
    "@time @tensor PEPS_tensor[:] := bond_tensor[-1,1,-5]*bond_tensor[4,3,-6]*bond_tensor[-4,2,-7]*triangle_tensor[1,3,2]*triangle_tensor[4,-2,-3];\n",
    "\n",
    "# display(codomain(PEPS_tensor))\n",
    "# @time PEPS_tensor1= ncon([bond_tensor,bond_tensor,bond_tensor,triangle_tensor,triangle_tensor],[[-1,1,-5],[4,3,-6],[-4,2,-7],[1,3,2],[4,-2,-3]]);\n",
    "\n",
    "# @time @tensoropt PEPS_tensor2[-1,-2,-3,-4,-5,-6,-7] := bond_tensor[-1,1,-5]*bond_tensor[4,3,-6]*bond_tensor[-4,2,-7]*triangle_tensor[1,3,2]*triangle_tensor[4,-2,-3];\n",
    "\n",
    "# @time @tensoropt PEPS_tensor3[:] := bond_tensor[-1,1,-5]*bond_tensor[4,3,-6]*bond_tensor[-4,2,-7]*triangle_tensor[1,3,2]*triangle_tensor[4,-2,-3];\n",
    "\n",
    "\n",
    "@time U_phy=unitary(fuse(space(PEPS_tensor, 5) ⊗ space(PEPS_tensor, 6) ⊗ space(PEPS_tensor, 7)), space(PEPS_tensor, 5) ⊗ space(PEPS_tensor, 6) ⊗ space(PEPS_tensor, 7));\n",
    "@time @tensor PEPS_tensor[:] :=PEPS_tensor[-1,-2,-3,-4,1,2,3]*U_phy[-5,1,2,3];\n",
    "\n",
    "\n",
    "# #PEPS_tensor_dense=convert(Array,PEPS_tensor)\n",
    "\n",
    "# #save initial CTM to compare with other codes\n",
    "# @time CTM=init_CTM(10,PEPS_tensor,\"PBC\");\n",
    "# matwrite(\"matfile.mat\", Dict(\n",
    "# \t\"C1\" => convert(Array,CTM[\"Cset\"][1]),\n",
    "# \t\"C2\" => convert(Array,CTM[\"Cset\"][2]),\n",
    "#     \"C3\" => convert(Array,CTM[\"Cset\"][3]),\n",
    "#     \"C4\" => convert(Array,CTM[\"Cset\"][4]),\n",
    "#     \"T1\" => convert(Array,CTM[\"Tset\"][1]),\n",
    "#     \"T2\" => convert(Array,CTM[\"Tset\"][2]),\n",
    "#     \"T3\" => convert(Array,CTM[\"Tset\"][3]),\n",
    "#     \"T4\" => convert(Array,CTM[\"Tset\"][4])\n",
    "# ); compress = false)\n",
    "\n",
    "type=\"PBC\"\n",
    "A=PEPS_tensor\n",
    "display(\"initialize CTM\")\n",
    "#numind(A)\n",
    "#numin(A)\n",
    "#numout(A)\n",
    "CTM=[]\n",
    "Cset=Vector(undef,4)\n",
    "Tset=Vector(undef,4)\n",
    "#space(A,1)\n",
    "@time if type==\"PBC\"\n",
    "    for direction=1:4    \n",
    "        inds=(mod1(2-direction,4),mod1(3-direction,4),mod1(4-direction,4),mod1(1-direction,4),5);\n",
    "        A_rotate=permute(A,inds)\n",
    "        Ap_rotate=A_rotate'\n",
    "\n",
    "        @tensor M[:]:=Ap_rotate[1,-1,-3,2,3]*A_rotate[1,-2,-4,2,3];\n",
    "        Cset[direction]=M;\n",
    "        @tensor M[:]:=Ap_rotate[-1,-3,-5,1,2]*A_rotate[-2,-4,-6,1,2];\n",
    "        Tset[direction]=M\n",
    "    end\n",
    "\n",
    "    #fuse legs\n",
    "    ul_set=Vector(undef,4)\n",
    "    ur_set=Vector(undef,4)\n",
    "    for direction=1:2\n",
    "        ul_set[direction]=unitary(fuse(space(Cset[direction], 3) ⊗ space(Cset[direction], 4)), space(Cset[direction], 3) ⊗ space(Cset[direction], 4))\n",
    "        ur_set[direction]=unitary(fuse(space(Tset[direction], 5) ⊗ space(Tset[direction], 6)), space(Tset[direction], 5) ⊗ space(Tset[direction], 6))\n",
    "    end\n",
    "    for direction=3:4\n",
    "        ul_set[direction]=unitary(fuse(space(Cset[direction], 3) ⊗ space(Cset[direction], 4))', space(Cset[direction], 3) ⊗ space(Cset[direction], 4))\n",
    "        ur_set[direction]=unitary(fuse(space(Tset[direction], 5) ⊗ space(Tset[direction], 6))', space(Tset[direction], 5) ⊗ space(Tset[direction], 6))\n",
    "    end\n",
    "    for direction=1:4\n",
    "        C=Cset[direction]\n",
    "        ul=ur_set[mod1(direction-1,4)]\n",
    "        ur=ul_set[direction]\n",
    "        ulp=permute(ul',(3,),(1,2,))\n",
    "        urp=permute(ur',(3,),(1,2,))\n",
    "        #@tensor Cnew[(-1);(-2)]:=ulp[-1,1,2]*C[1,2,3,4]*ur[-2,3,4]\n",
    "        @tensor Cnew[:]:=ulp[-1,1,2]*C[1,2,3,4]*ur[-2,3,4]#put all indices in tone side so that its adjoint has the same index order \n",
    "        Cset[direction]=Cnew\n",
    "\n",
    "        T=Tset[direction]\n",
    "        ul=ul_set[direction]\n",
    "        ur=ur_set[direction]\n",
    "        ulp=permute(ul',(3,),(1,2,))\n",
    "        urp=permute(ur',(3,),(1,2,))\n",
    "        #@tensor Tnew[(-1);(-2,-3,-4)]:=ulp[-1,1,2]*T[1,2,-2,-3,3,4]*ur[-4,3,4]\n",
    "        @tensor Tnew[:]:=ulp[-1,1,2]*T[1,2,-2,-3,3,4]*ur[-4,3,4]#put all indices in tone side so that its adjoint has the same index order \n",
    "        Tset[direction]=Tnew\n",
    "    end\n",
    "elseif type==\"random\"\n",
    "end\n",
    "CTM=Dict([(\"Cset\", Cset), (\"Tset\", Tset)])\n",
    "\n",
    "# matwrite(\"matfile.mat\", Dict(\n",
    "# \t\"C1\" => convert(Array,CTM[\"Cset\"][1]),\n",
    "# \t\"C2\" => convert(Array,CTM[\"Cset\"][2]),\n",
    "#     \"C3\" => convert(Array,CTM[\"Cset\"][3]),\n",
    "#     \"C4\" => convert(Array,CTM[\"Cset\"][4]),\n",
    "#     \"T1\" => convert(Array,CTM[\"Tset\"][1]),\n",
    "#     \"T2\" => convert(Array,CTM[\"Tset\"][2]),\n",
    "#     \"T3\" => convert(Array,CTM[\"Tset\"][3]),\n",
    "#     \"T4\" => convert(Array,CTM[\"Tset\"][4])\n",
    "# ); compress = false)\n"
   ]
  },
  {
   "cell_type": "code",
   "execution_count": 2,
   "metadata": {},
   "outputs": [
    {
     "data": {
      "text/plain": [
       "ProductSpace{GradedSpace{SU2Irrep, TensorKit.SortedVectorDict{SU2Irrep, Int64}}, 0}()"
      ]
     },
     "metadata": {},
     "output_type": "display_data"
    },
    {
     "data": {
      "text/plain": [
       "(Rep[SU₂](0=>1, 1/2=>2, 1=>1, 3/2=>1) ⊗ Rep[SU₂](0=>1, 1/2=>2, 1=>1, 3/2=>1)' ⊗ Rep[SU₂](0=>1, 1/2=>2, 1=>1, 3/2=>1)' ⊗ Rep[SU₂](0=>1, 1/2=>2, 1=>1, 3/2=>1) ⊗ Rep[SU₂](1/2=>2, 3/2=>1))"
      ]
     },
     "metadata": {},
     "output_type": "display_data"
    },
    {
     "name": "stdout",
     "output_type": "stream",
     "text": [
      "  1.126821 seconds (3.00 M allocations: 199.624 MiB, 4.28% gc time, 92.49% compilation time)\n"
     ]
    }
   ],
   "source": [
    "display(domain(A))\n",
    "display(codomain(A))\n",
    "@time A=permute(A,(5,),(1,2,3,4,));\n"
   ]
  },
  {
   "cell_type": "code",
   "execution_count": 3,
   "metadata": {},
   "outputs": [
    {
     "name": "stdout",
     "output_type": "stream",
     "text": [
      "  0.287854 seconds (353.27 k allocations: 68.352 MiB, 15.76% gc time, 77.11% compilation time)\n"
     ]
    }
   ],
   "source": [
    "\n",
    "@time double_layer=A'*A;\n"
   ]
  },
  {
   "cell_type": "code",
   "execution_count": 4,
   "metadata": {},
   "outputs": [
    {
     "name": "stdout",
     "output_type": "stream",
     "text": [
      "  0.007965 seconds (6.56 k allocations: 374.208 KiB, 98.50% compilation time)\n"
     ]
    }
   ],
   "source": [
    "@time U_L=unitary(fuse(space(double_layer, 1) ⊗ space(double_layer, 5)), space(double_layer, 1) ⊗ space(double_layer, 5));\n"
   ]
  },
  {
   "cell_type": "code",
   "execution_count": null,
   "metadata": {},
   "outputs": [],
   "source": [
    "\n",
    "@time @tensor double_layer[:] :=double_layer[1,-2,-3,-4,2,-5,-6,-7]*U_L[-1,1,2];\n"
   ]
  },
  {
   "cell_type": "code",
   "execution_count": null,
   "metadata": {},
   "outputs": [],
   "source": [
    "\n",
    "#@time double_layer=permute(double_layer,(1,5,2,6,3,7,4,8),())\n"
   ]
  },
  {
   "cell_type": "code",
   "execution_count": null,
   "metadata": {},
   "outputs": [],
   "source": [
    "@time double_layer=permute(double_layer,(1,5,2,3,4,),(6,7,8,));\n"
   ]
  },
  {
   "cell_type": "code",
   "execution_count": null,
   "metadata": {},
   "outputs": [],
   "source": [
    "@time U_L=unitary(fuse(space(double_layer, 1) ⊗ space(double_layer, 2)), space(double_layer, 1) ⊗ space(double_layer, 2));\n"
   ]
  },
  {
   "cell_type": "code",
   "execution_count": null,
   "metadata": {},
   "outputs": [],
   "source": [
    "\n",
    "@time @tensor double_layer[:] :=double_layer[1,2,-2,-3,-4,-5,-6,-7]*U_L[-1,1,2];\n",
    "\n"
   ]
  },
  {
   "cell_type": "code",
   "execution_count": null,
   "metadata": {},
   "outputs": [],
   "source": [
    "double_layer=permute(double_layer,(1,2,),(3,4,5,6,7,8));"
   ]
  },
  {
   "cell_type": "code",
   "execution_count": null,
   "metadata": {},
   "outputs": [],
   "source": [
    "\n",
    "@time double_layer=U_L*double_layer;\n",
    "\n"
   ]
  },
  {
   "cell_type": "code",
   "execution_count": null,
   "metadata": {},
   "outputs": [],
   "source": [
    "@time double_layer=permute(double_layer,(2,5,),(1,3,4,6,7));\n"
   ]
  },
  {
   "cell_type": "code",
   "execution_count": null,
   "metadata": {},
   "outputs": [],
   "source": [
    "@time U_d=unitary(fuse(space(double_layer, 1) ⊗ space(double_layer, 2)), space(double_layer, 1) ⊗ space(double_layer, 2));\n"
   ]
  },
  {
   "cell_type": "code",
   "execution_count": null,
   "metadata": {},
   "outputs": [],
   "source": [
    "@time double_layer=U_d*double_layer;\n",
    "\n"
   ]
  },
  {
   "cell_type": "code",
   "execution_count": null,
   "metadata": {},
   "outputs": [],
   "source": [
    "@time double_layer=permute(double_layer,(3,5,),(2,1,4,6,));\n"
   ]
  },
  {
   "cell_type": "code",
   "execution_count": 9,
   "metadata": {},
   "outputs": [
    {
     "data": {
      "text/plain": [
       "Rep[SU₂](0=>1, 1/2=>2, 1=>1, 3/2=>1)'"
      ]
     },
     "metadata": {},
     "output_type": "display_data"
    },
    {
     "data": {
      "text/plain": [
       "Rep[SU₂](0=>1, 1/2=>2, 1=>1, 3/2=>1)"
      ]
     },
     "metadata": {},
     "output_type": "display_data"
    },
    {
     "data": {
      "text/plain": [
       "Rep[SU₂](0=>7, 1/2=>10, 1=>12, 3/2=>8, 2=>6, 5/2=>2, 3=>1)'"
      ]
     },
     "metadata": {},
     "output_type": "display_data"
    },
    {
     "name": "stdout",
     "output_type": "stream",
     "text": [
      "  0.000010 seconds (1 allocation: 16 bytes)\n"
     ]
    }
   ],
   "source": [
    "@time U_R=U_L';\n",
    "display(space(UR,1))\n",
    "display(space(UR,2))\n",
    "display(space(UR,3))\n"
   ]
  },
  {
   "cell_type": "code",
   "execution_count": 10,
   "metadata": {},
   "outputs": [
    {
     "name": "stdout",
     "output_type": "stream",
     "text": [
      "  0.005533 seconds (18.43 k allocations: 1.443 MiB, 85.70% compilation time)\n"
     ]
    }
   ],
   "source": [
    "@time U_R=permute(U_R,(3,),(1,2,));\n"
   ]
  },
  {
   "cell_type": "code",
   "execution_count": null,
   "metadata": {},
   "outputs": [],
   "source": [
    "@time double_layer=U_R*double_layer;"
   ]
  },
  {
   "cell_type": "code",
   "execution_count": null,
   "metadata": {},
   "outputs": [],
   "source": [
    "\n",
    "\n",
    "    #Ref: PHYSICAL REVIEW B 98, 235148 (2018)\n",
    "\n",
    "    #initial corner transfer matrix\n",
    "\n",
    "    Cset=CTM[\"Cset\"];\n",
    "    Tset=CTM[\"Tset\"];\n",
    "    conv_check=\"singular_value\"\n",
    "\n",
    "    ss_old=ones(chi)*2;\n",
    "    d=2;\n",
    "    rho_old=Matrix(I,d^3,d^3);\n",
    "\n",
    "    #Iteration\n",
    "    CTM_ite_nums=50;\n",
    "    display(\"start CTM iterations:\")\n",
    "    @time for ci=1:1#CTM_ite_nums\n",
    "        #told=Tset{4};\n",
    "        #pold=Pset{4};\n",
    "        direction_order=[1,2,3,4];\n",
    "        for direction=1# in direction_order\n",
    "            #disp(['direction ', num2str(direction)])\n",
    "            \n",
    "            \n",
    "            #direction=1, 2, 3, 4:  left, up, right, down move\n",
    "\n",
    "            A=permute(A, (mod1(2-direction,4),mod1(3-direction,4),mod1(4-direction,4),mod1(1-direction,4),),(5,));\n",
    "            \n",
    "            M1=Cset[mod1(direction,4)];#mod1(direction,4)\n",
    "            M2=Tset[mod1(direction,4)];#mod1(direction,4)\n",
    "            M3=Tset[mod1(direction-1,4)];#mod1(direction-1,4)\n",
    "            M4=permute(A,(1,2,3,4,5,),());\n",
    "            M5=Tset[mod1(direction-1,4)];#mod1(direction-1,4)\n",
    "            M6=permute(A,(1,2,3,4,5,),());\n",
    "            M7=Cset[mod1(direction-1,4)];#mod1(direction-1,4)\n",
    "            M8=Tset[mod1(direction-2,4)];#mod1(direction-2,4)\n",
    "            \n",
    "            M1_reflect=Cset[mod1(direction+1,4)];\n",
    "            M2_reflect=Tset[mod1(direction,4)];\n",
    "            M3_reflect=Tset[mod1(direction+1,4)];\n",
    "            M4_reflect=permute(A,(1,2,3,4,5,),());\n",
    "            M5_reflect=Tset[mod1(direction+1,4)];\n",
    "            M6_reflect=permute(A,(1,2,3,4,5,),());\n",
    "            M7_reflect=Cset[mod1(direction-2,4)];\n",
    "            M8_reflect=Tset[mod1(direction-2,4)];\n",
    "            \n",
    "            @tensor M3M4[:]:=M3[-1,1,2,-6]* M4'[1,-2,-4,-7,3]* M4[2,-3,-5,-8,3];  \n",
    "            # #M3M4=reshape(M3M4,[chi*D^2,D,D,chi*D^2]);\n",
    "            # @tensor M5M6[:]:=M5[-1,1,2,-6]* M6'[1,-2,-4,-7,3]* M6[2,-3,-5,-8,3];  \n",
    "            # #M5M6=reshape(M5M6,[chi*D^2,D,D,chi*D^2]);\n",
    "            # @tensor M1M2[:]:=M1[-1,1]* M2[1,-2,-3,-4];  \n",
    "            # #M1M2=reshape(M1M2, [chi*D^2, chi]);\n",
    "            # @tensor M7M8[:]:=M7[1,-2]* M8[-1,-3,-4,1];  \n",
    "            # #M7M8=reshape(M7M8, [chi, chi*D^2]);\n",
    "            # @tensor M1M2[:]:=M1[-1,1]* M2[1,-2,-3,-4];  \n",
    "            # #M1M2=reshape(M1M2, [chi*D^2, chi]);\n",
    "            # @tensor M7M8[:]:=M7[1,-2]* M8[-1,-3,-4,1];  \n",
    "            # #M7M8=reshape(M7M8, [chi, chi*D^2]);\n",
    "\n",
    "            # @tensor MMup[:]:=M1M2[1,2,3,-4]* M3M4[-1,-2,-3,-5,-6,1,2,3]; \n",
    "            # MMup=permute(MMup,(1,2,3,),(4,5,6,))\n",
    "            # #MMup=reshape(MMup, [chi*D^2,chi*D^2]);\n",
    "            # @tensor MMlow[:]:=M7M8[-4,1,2,3]* M5M6[1,2,3,-5,-6,-1,-2,-3]; \n",
    "            # MMlow=permute(MMlow,(1,2,3,),(4,5,6,))\n",
    "            # #MMlow=reshape(MMlow, [chi*D^2,chi*D^2]);\n",
    "\n",
    "            # @tensor MMup_reflect[:]:=M2_reflect[-1,3,4,1]* M1_reflect[1,2]* M4_reflect'[-2,-5,5,3,7]* M4_reflect[-3,-6,6,4,7]* M3_reflect[2,5,6,-4]; \n",
    "            # MMup_reflect=permute(MMup_reflect,(1,2,3,),(4,5,6,))\n",
    "            # #MMup_reflect=reshape(MMup_reflect,[chi*D^2,chi*D^2]);\n",
    "            # @tensor MMlow_reflect[:]:=M8_reflect[1,3,4,-1]* M7_reflect[2,1]* M6_reflect'[-2,3,5,-5,7]* M6_reflect[-3,4,6,-6,7]* M5_reflect[-4,5,6,2]; \n",
    "            # MMlow_reflect=permute(MMlow_reflect,(1,2,3,),(4,5,6,))\n",
    "            # #MMlow_reflect=reshape(MMlow_reflect,[chi*D^2,chi*D^2]);\n",
    "            # _, RMup=leftorth(permute(MMup*MMup_reflect,(4,5,6,),(1,2,3,)));\n",
    "            # _, RMlow=leftorth(permute(MMlow*MMlow_reflect,(4,5,6,),(1,2,3,))); \n",
    "\n",
    "            # RMlow=permute(RMlow,(2,3,4,),(1,));\n",
    "            \n",
    "            # M=RMup*RMlow;\n",
    "            # uM,sM,vM = tsvd(M; trunc=truncdim(chi));\n",
    "            # #uM,sM,vM = tsvd(M; trunc=trunbelow(1e-34)); #this looks to truncate absolute value, not relative value\n",
    "            # #display(convert(Array,sM))\n",
    "            # #display(convert(Array,inv(sM)))\n",
    "            # sM=sM/norm(sM)\n",
    "            # sM_inv=inv(sM);\n",
    "            # sM_dense=convert(Array,sM)\n",
    "            # #display(sM_dense)\n",
    "            # trun_tol=1e-12\n",
    "            # for c1=1:size(sM_dense,1)\n",
    "            #     if sM_dense[c1,c1]<trun_tol\n",
    "            #         sM_dense[c1,c1]=0;\n",
    "            #     end\n",
    "            # end\n",
    "            # #display(sM_dense)\n",
    "            # #display(pinv.(sM_dense))\n",
    "\n",
    "            \n",
    "            #display(sM_inv)\n",
    "            #display(convert(Array,sM_inv))\n",
    "            #sM_inv_sqrt=sqrt.(convert(Array,sM_inv))\n",
    "            #display(space(sM_inv))\n",
    "            #display(sM_inv_sqrt)\n",
    "            # sM_inv_sqrt=TensorMap(pinv.(sqrt.(sM_dense)),codomain(sM_inv)←domain(sM_inv))\n",
    "\n",
    "            # PM_inv=RMlow*vM'*sM_inv_sqrt; \n",
    "            # PM=sM_inv_sqrt*uM'*RMup; \n",
    "            # PM=permute(PM,(2,3,4,),(1,));\n",
    "            \n",
    "            # @tensor M5tem[:]:=M3M4[1,2,3,-2,-3,4,5,6]* PM_inv[1,2,3,-1]* PM[4,5,6,-4];\n",
    "            # @tensor M1tem[:]:=M1M2[1,2,3,-2]* PM_inv[1,2,3,-1];\n",
    "            # @tensor M7tem[:]:=M7M8[-1,1,2,3]* PM[1,2,3,-2];\n",
    "            \n",
    "            # Cset[mod1(direction,4)]=M1tem/norm(M1tem);\n",
    "            # Tset[mod1(direction-1,4)]=M5tem/norm(M5tem);\n",
    "            # Cset[mod1(direction-1,4)]=M7tem/norm(M7tem);\n",
    "            \n",
    "\n",
    "\n",
    "\n",
    "\n",
    "        end\n",
    "\n",
    "        if conv_check==\"singular_value\" #check convergence of singular value\n",
    "            _,ss_new,_=svd(permute(Cset[1],(1,),(2,)));\n",
    "            ss_new=convert(Array,ss_new);\n",
    "            ss_new=sort(diag(ss_new), rev=true);\n",
    "            ss_old=ss_old/ss_old[1];\n",
    "            ss_new=ss_new/ss_new[1];\n",
    "            #display(ss_new)\n",
    "            if length(ss_old)>length(ss_new)\n",
    "                dss=copy(ss_old);\n",
    "                siz=length(ss_new)\n",
    "            elseif length(ss_old)<=length(ss_new)\n",
    "                dss=copy(ss_new);\n",
    "                siz=length(ss_old)\n",
    "            end\n",
    "            dss[1:siz]=ss_old[1:siz]-ss_new[1:siz]\n",
    "            er=norm(dss);\n",
    "            display(\"CTMRG iteration: \"*string(ci)*\", CTMRG err: \"*string(er));\n",
    "            if er<tol\n",
    "                break;\n",
    "            end\n",
    "            ss_old=ss_new;\n",
    "        elseif conv_check==\"density_matrix\" #check reduced density matrix\n",
    "            \n",
    "            # ob_opts.SiteNumber=1;\n",
    "            # CTM_tem.Cset=Cset;\n",
    "            # CTM_tem.Tset=Tset;\n",
    "            # rho_new=ob_CTMRG(CTM_tem,A,ob_opts).A;\n",
    "            # er=sum(sum((abs(rho_old-rho_new))));\n",
    "            # disp(['CTMRG iteration: ',num2str(ci),' CTMRG err: ',num2str(er)]);\n",
    "            # if er<tol\n",
    "            #     break;\n",
    "            # end\n",
    "            # rho_old=rho_new;\n",
    "        end\n",
    "        \n",
    "        # if ci==CTM_ite_nums\n",
    "        #     display(er)\n",
    "        #     warn(\"CTMRG does not converge: \" * string(er));\n",
    "        # end\n",
    "    end\n",
    "\n",
    "\n",
    "\n",
    "\n",
    "\n"
   ]
  }
 ],
 "metadata": {
  "kernelspec": {
   "display_name": "Julia 1.7.2",
   "language": "julia",
   "name": "julia-1.7"
  },
  "language_info": {
   "file_extension": ".jl",
   "mimetype": "application/julia",
   "name": "julia",
   "version": "1.7.2"
  },
  "orig_nbformat": 4
 },
 "nbformat": 4,
 "nbformat_minor": 2
}
