{
 "cells": [
  {
   "cell_type": "code",
   "execution_count": 31,
   "metadata": {},
   "outputs": [
    {
     "data": {
      "text/plain": [
       "\"initialize CTM\""
      ]
     },
     "metadata": {},
     "output_type": "display_data"
    },
    {
     "name": "stdout",
     "output_type": "stream",
     "text": [
      "  0.102881 seconds (167.52 k allocations: 11.415 MiB, 92.99% compilation time)\n"
     ]
    },
    {
     "data": {
      "text/plain": [
       "Dict{String, Vector{Any}} with 2 entries:\n",
       "  \"Cset\" => [TensorMap((Rep[SU₂](0=>2, 1/2=>2, 1=>1) ⊗ Rep[SU₂](0=>2, 1/2=>2, 1…\n",
       "  \"Tset\" => [TensorMap((Rep[SU₂](0=>2, 1/2=>2, 1=>1)' ⊗ Rep[SU₂](0=>1, 1/2=>1) …"
      ]
     },
     "metadata": {},
     "output_type": "display_data"
    }
   ],
   "source": [
    "using LinearAlgebra\n",
    "using TensorKit\n",
    "using JSON\n",
    "cd(\"D:\\\\My Documents\\\\Code\\\\Julia_codes\\\\Tensor network\\\\IPEPS_TensorKit\\\\kagome\\\\SU2_PG\")\n",
    "#push!(LOAD_PATH, \"D:\\\\My Documents\\\\Code\\\\Julia_codes\\\\Tensor network\\\\IPEPS_TensorKit\\\\kagome\\\\SU2_PG\")\n",
    "include(\"load_tensor.jl\")\n",
    "include(\"CTM.jl\")\n",
    "#include(\"my_TensorKit_fun.jl\")\n",
    "#TensorKit.usebraidcache_nonabelian[] = false\n",
    "\n",
    "D=3\n",
    "chi=10\n",
    "tol=1e-6\n",
    "\n",
    "A_set,B_set,A1_set,A2_set, A_set_occu,B_set_occu,A1_set_occu,A2_set_occu, S_label, Sz_label, virtual_particle, Va, Vb=construct_tensor(D);\n",
    "\n",
    "#load elementary tensor coefficients from json file\n",
    "function read_string(string)\n",
    "    nums=ones(length(string))\n",
    "    for cn=1:length(string)\n",
    "        nums[cn]=parse.(Float64, split(string[cn])[2])\n",
    "    end\n",
    "    return nums\n",
    "end\n",
    "json_dict = Dict()\n",
    "open(\"LS_D_\"*string(D)*\"_chi_40.json\", \"r\") do f\n",
    "    global json_dict\n",
    "    dicttxt = read(f,String)  # file information to string\n",
    "    json_dict=JSON.parse(dicttxt)  # parse and transform data\n",
    "end\n",
    "\n",
    "Bond_irrep=json_dict[\"Bond_irrep\"]\n",
    "Triangle_A1_coe=read_string(json_dict[\"coes\"][\"Triangle_A1_coe\"][\"entries\"]);\n",
    "Triangle_A2_coe=read_string(json_dict[\"coes\"][\"Triangle_A2_coe\"][\"entries\"]);\n",
    "if Bond_irrep==\"A\"\n",
    "    Bond_A_coe=read_string(json_dict[\"coes\"][\"Bond_A_coe\"][\"entries\"]);\n",
    "elseif Bond_irrep==\"B\"\n",
    "    Bond_B_coe=read_string(json_dict[\"coes\"][\"Bond_B_coe\"][\"entries\"]);\n",
    "elseif Bond_irrep==\"A+iB\"\n",
    "    Bond_A_coe=read_string(json_dict[\"coes\"][\"Bond_A_coe\"][\"entries\"]);\n",
    "    Bond_B_coe=read_string(json_dict[\"coes\"][\"Bond_B_coe\"][\"entries\"]);\n",
    "end\n",
    "\n",
    "global triangle_tensor=A1_set[1]*0;\n",
    "global bond_tensor=A_set[1]*0;\n",
    "if Bond_irrep==\"A\"\n",
    "    global bond_tensor=A_set[1]*0;\n",
    "    for ct=1:length(Bond_A_coe)\n",
    "        global bond_tensor=bond_tensor+A_set[ct]*Bond_A_coe[ct];\n",
    "    end\n",
    "elseif Bond_irrep==\"B\"\n",
    "    global bond_tensor=B_set[1]*0;\n",
    "    for ct=1:length(Bond_B_coe)\n",
    "        global bond_tensor=bond_tensor+B_set[ct]*Bond_B_coe[ct];\n",
    "    end\n",
    "elseif Bond_irrep==\"A+iB\"\n",
    "    global bond_tensor=A_set[1]*0;\n",
    "    for ct=1:length(Bond_A_coe)\n",
    "        global bond_tensor=bond_tensor+A_set[ct]*Bond_A_coe[ct];\n",
    "    end\n",
    "    for ct=1:length(Bond_B_coe)\n",
    "        global bond_tensor=bond_tensor+B_set[ct]*Bond_B_coe[ct];\n",
    "    end\n",
    "end\n",
    "\n",
    "for ct=1:length(Triangle_A1_coe)\n",
    "    global triangle_tensor=triangle_tensor+A1_set[ct]*Triangle_A1_coe[ct];\n",
    "end\n",
    "for ct=1:length(Triangle_A2_coe)\n",
    "    global triangle_tensor=triangle_tensor+im*A2_set[ct]*Triangle_A2_coe[ct];\n",
    "end\n",
    "\n",
    "#TensorKit.usebraidcache_nonabelian[] = false\n",
    "A_set,B_set,A1_set,A2_set, A_set_occu,B_set_occu,A1_set_occu,A2_set_occu, S_label, Sz_label, virtual_particle, Va, Vb=construct_tensor(D);\n",
    "\n",
    "#load elementary tensor coefficients from json file\n",
    "function read_string(string)\n",
    "    nums=ones(length(string))\n",
    "    for cn=1:length(string)\n",
    "        nums[cn]=parse.(Float64, split(string[cn])[2])\n",
    "    end\n",
    "    return nums\n",
    "end\n",
    "json_dict = Dict()\n",
    "open(\"LS_D_\"*string(D)*\"_chi_40.json\", \"r\") do f\n",
    "    global json_dict\n",
    "    dicttxt = read(f,String)  # file information to string\n",
    "    json_dict=JSON.parse(dicttxt)  # parse and transform data\n",
    "end\n",
    "\n",
    "Bond_irrep=json_dict[\"Bond_irrep\"]\n",
    "Triangle_A1_coe=read_string(json_dict[\"coes\"][\"Triangle_A1_coe\"][\"entries\"]);\n",
    "Triangle_A2_coe=read_string(json_dict[\"coes\"][\"Triangle_A2_coe\"][\"entries\"]);\n",
    "if Bond_irrep==\"A\"\n",
    "    Bond_A_coe=read_string(json_dict[\"coes\"][\"Bond_A_coe\"][\"entries\"]);\n",
    "elseif Bond_irrep==\"B\"\n",
    "    Bond_B_coe=read_string(json_dict[\"coes\"][\"Bond_B_coe\"][\"entries\"]);\n",
    "elseif Bond_irrep==\"A+iB\"\n",
    "    Bond_A_coe=read_string(json_dict[\"coes\"][\"Bond_A_coe\"][\"entries\"]);\n",
    "    Bond_B_coe=read_string(json_dict[\"coes\"][\"Bond_B_coe\"][\"entries\"]);\n",
    "end\n",
    "\n",
    "\n",
    "\n",
    "global triangle_tensor=A1_set[1]*0;\n",
    "global bond_tensor=A_set[1]*0;\n",
    "if Bond_irrep==\"A\"\n",
    "    global bond_tensor=A_set[1]*0;\n",
    "    for ct=1:length(Bond_A_coe)\n",
    "        global bond_tensor=bond_tensor+A_set[ct]*Bond_A_coe[ct];\n",
    "    end\n",
    "elseif Bond_irrep==\"B\"\n",
    "    global bond_tensor=B_set[1]*0;\n",
    "    for ct=1:length(Bond_B_coe)\n",
    "        global bond_tensor=bond_tensor+B_set[ct]*Bond_B_coe[ct];\n",
    "    end\n",
    "elseif Bond_irrep==\"A+iB\"\n",
    "    global bond_tensor=A_set[1]*0;\n",
    "    for ct=1:length(Bond_A_coe)\n",
    "        global bond_tensor=bond_tensor+A_set[ct]*Bond_A_coe[ct];\n",
    "    end\n",
    "    for ct=1:length(Bond_B_coe)\n",
    "        global bond_tensor=bond_tensor+B_set[ct]*Bond_B_coe[ct];\n",
    "    end\n",
    "end\n",
    "\n",
    "for ct=1:length(Triangle_A1_coe)\n",
    "    global triangle_tensor=triangle_tensor+A1_set[ct]*Triangle_A1_coe[ct];\n",
    "end\n",
    "for ct=1:length(Triangle_A2_coe)\n",
    "    global triangle_tensor=triangle_tensor+im*A2_set[ct]*Triangle_A2_coe[ct];\n",
    "end\n",
    "\n",
    "PEPS_tensor=bond_tensor;\n",
    "@tensor PEPS_tensor[:] := bond_tensor[-1,1,-5]*bond_tensor[4,3,-6]*bond_tensor[-4,2,-7]*triangle_tensor[1,3,2]*triangle_tensor[4,-2,-3];\n",
    "\n",
    "# display(codomain(PEPS_tensor))\n",
    "# @time PEPS_tensor1= ncon([bond_tensor,bond_tensor,bond_tensor,triangle_tensor,triangle_tensor],[[-1,1,-5],[4,3,-6],[-4,2,-7],[1,3,2],[4,-2,-3]]);\n",
    "\n",
    "# @time @tensoropt PEPS_tensor2[-1,-2,-3,-4,-5,-6,-7] := bond_tensor[-1,1,-5]*bond_tensor[4,3,-6]*bond_tensor[-4,2,-7]*triangle_tensor[1,3,2]*triangle_tensor[4,-2,-3];\n",
    "\n",
    "# @time @tensoropt PEPS_tensor3[:] := bond_tensor[-1,1,-5]*bond_tensor[4,3,-6]*bond_tensor[-4,2,-7]*triangle_tensor[1,3,2]*triangle_tensor[4,-2,-3];\n",
    "\n",
    "\n",
    "U_phy=unitary(fuse(space(PEPS_tensor, 5) ⊗ space(PEPS_tensor, 6) ⊗ space(PEPS_tensor, 7)), space(PEPS_tensor, 5) ⊗ space(PEPS_tensor, 6) ⊗ space(PEPS_tensor, 7));\n",
    "@tensor PEPS_tensor[:] :=PEPS_tensor[-1,-2,-3,-4,1,2,3]*U_phy[-5,1,2,3];\n",
    "\n",
    "\n",
    "# #PEPS_tensor_dense=convert(Array,PEPS_tensor)\n",
    "\n",
    "# #save initial CTM to compare with other codes\n",
    "# @time CTM=init_CTM(10,PEPS_tensor,\"PBC\");\n",
    "# matwrite(\"matfile.mat\", Dict(\n",
    "# \t\"C1\" => convert(Array,CTM[\"Cset\"][1]),\n",
    "# \t\"C2\" => convert(Array,CTM[\"Cset\"][2]),\n",
    "#     \"C3\" => convert(Array,CTM[\"Cset\"][3]),\n",
    "#     \"C4\" => convert(Array,CTM[\"Cset\"][4]),\n",
    "#     \"T1\" => convert(Array,CTM[\"Tset\"][1]),\n",
    "#     \"T2\" => convert(Array,CTM[\"Tset\"][2]),\n",
    "#     \"T3\" => convert(Array,CTM[\"Tset\"][3]),\n",
    "#     \"T4\" => convert(Array,CTM[\"Tset\"][4])\n",
    "# ); compress = false)\n",
    "\n",
    "type=\"PBC\"\n",
    "A=PEPS_tensor\n",
    "display(\"initialize CTM\")\n",
    "#numind(A)\n",
    "#numin(A)\n",
    "#numout(A)\n",
    "CTM=[]\n",
    "Cset=Vector(undef,4)\n",
    "Tset=Vector(undef,4)\n",
    "#space(A,1)\n",
    "@time if type==\"PBC\"\n",
    "    for direction=1:4    \n",
    "        inds=(mod1(2-direction,4),mod1(3-direction,4),mod1(4-direction,4),mod1(1-direction,4),5);\n",
    "        A_rotate=permute(A,inds)\n",
    "        Ap_rotate=A_rotate'\n",
    "\n",
    "        @tensor M[:]:=Ap_rotate[1,-1,-3,2,3]*A_rotate[1,-2,-4,2,3];\n",
    "        Cset[direction]=M;\n",
    "        @tensor M[:]:=Ap_rotate[-1,-3,-5,1,2]*A_rotate[-2,-4,-6,1,2];\n",
    "        Tset[direction]=M\n",
    "    end\n",
    "\n",
    "    #fuse legs\n",
    "    ul_set=Vector(undef,4)\n",
    "    ur_set=Vector(undef,4)\n",
    "    for direction=1:2\n",
    "        ul_set[direction]=unitary(fuse(space(Cset[direction], 3) ⊗ space(Cset[direction], 4)), space(Cset[direction], 3) ⊗ space(Cset[direction], 4))\n",
    "        ur_set[direction]=unitary(fuse(space(Tset[direction], 5) ⊗ space(Tset[direction], 6)), space(Tset[direction], 5) ⊗ space(Tset[direction], 6))\n",
    "    end\n",
    "    for direction=3:4\n",
    "        ul_set[direction]=unitary(fuse(space(Cset[direction], 3) ⊗ space(Cset[direction], 4))', space(Cset[direction], 3) ⊗ space(Cset[direction], 4))\n",
    "        ur_set[direction]=unitary(fuse(space(Tset[direction], 5) ⊗ space(Tset[direction], 6))', space(Tset[direction], 5) ⊗ space(Tset[direction], 6))\n",
    "    end\n",
    "    for direction=1:4\n",
    "        C=Cset[direction]\n",
    "        ul=ur_set[mod1(direction-1,4)]\n",
    "        ur=ul_set[direction]\n",
    "        ulp=permute(ul',(3,),(1,2,))\n",
    "        urp=permute(ur',(3,),(1,2,))\n",
    "        #@tensor Cnew[(-1);(-2)]:=ulp[-1,1,2]*C[1,2,3,4]*ur[-2,3,4]\n",
    "        @tensor Cnew[:]:=ulp[-1,1,2]*C[1,2,3,4]*ur[-2,3,4]#put all indices in tone side so that its adjoint has the same index order \n",
    "        Cset[direction]=Cnew\n",
    "\n",
    "        T=Tset[direction]\n",
    "        ul=ul_set[direction]\n",
    "        ur=ur_set[direction]\n",
    "        ulp=permute(ul',(3,),(1,2,))\n",
    "        urp=permute(ur',(3,),(1,2,))\n",
    "        #@tensor Tnew[(-1);(-2,-3,-4)]:=ulp[-1,1,2]*T[1,2,-2,-3,3,4]*ur[-4,3,4]\n",
    "        @tensor Tnew[:]:=ulp[-1,1,2]*T[1,2,-2,-3,3,4]*ur[-4,3,4]#put all indices in tone side so that its adjoint has the same index order \n",
    "        Tset[direction]=Tnew\n",
    "    end\n",
    "elseif type==\"random\"\n",
    "end\n",
    "CTM=Dict([(\"Cset\", Cset), (\"Tset\", Tset)])\n",
    "\n",
    "# matwrite(\"matfile.mat\", Dict(\n",
    "# \t\"C1\" => convert(Array,CTM[\"Cset\"][1]),\n",
    "# \t\"C2\" => convert(Array,CTM[\"Cset\"][2]),\n",
    "#     \"C3\" => convert(Array,CTM[\"Cset\"][3]),\n",
    "#     \"C4\" => convert(Array,CTM[\"Cset\"][4]),\n",
    "#     \"T1\" => convert(Array,CTM[\"Tset\"][1]),\n",
    "#     \"T2\" => convert(Array,CTM[\"Tset\"][2]),\n",
    "#     \"T3\" => convert(Array,CTM[\"Tset\"][3]),\n",
    "#     \"T4\" => convert(Array,CTM[\"Tset\"][4])\n",
    "# ); compress = false)\n"
   ]
  },
  {
   "cell_type": "code",
   "execution_count": 32,
   "metadata": {},
   "outputs": [
    {
     "data": {
      "text/plain": [
       "build_double_layer (generic function with 1 method)"
      ]
     },
     "metadata": {},
     "output_type": "display_data"
    }
   ],
   "source": [
    "function build_double_layer(A,operator)\n",
    "    #display(space(A))\n",
    "    A=permute(A,(1,2,),(3,4,5));\n",
    "    U_L=unitary(fuse(space(A, 1)' ⊗ space(A, 1)), space(A, 1)' ⊗ space(A, 1));\n",
    "    U_D=unitary(fuse(space(A, 2)' ⊗ space(A, 2)), space(A, 2)' ⊗ space(A, 2));\n",
    "    U_R=inv(U_L);\n",
    "    U_U=inv(U_D);\n",
    "    # display(space(U_L))\n",
    "    # display(space(U_D))\n",
    "    # display(space(U_R))\n",
    "    # display(space(U_D))\n",
    "\n",
    "    uM,sM,vM=tsvd(A);\n",
    "    uM=uM*sM\n",
    "    display(space(uM))\n",
    "    display(space(vM))\n",
    "    \n",
    "    uM=permute(uM,(1,2,3,),())\n",
    "    @tensor double_LD[:]:=uM'[-1,-3,-5]*uM[-2,-4,-6];\n",
    "    display(space(double_LD))\n",
    "    \n",
    "    vM=permute(vM,(1,2,3,4,),());\n",
    "    if isempty(operator)\n",
    "        @tensor double_RU[:]:=vM'[-1,-3,-5,1]*vM[-2,-4,-6,1];\n",
    "    else\n",
    "        @tensor double_RU[:]:=vM'[-1,-3,-5,1]*vM[-2,-4,-6,2]*operator[1,2];\n",
    "    end\n",
    "    display(space(double_RU))\n",
    "\n",
    "    double_LD=permute(double_LD,(1,2,),(3,4,5,6,));\n",
    "    double_LD=U_L*double_LD;\n",
    "    double_LD=permute(double_LD,(2,3,),(1,4,5,));\n",
    "    double_LD=U_D*double_LD;\n",
    "    double_LD=permute(double_LD,(2,1,),(3,4,));\n",
    "    #display(space(double_LD))\n",
    "    double_RU=permute(double_RU,(1,2,5,6,),(3,4,));\n",
    "    double_RU=double_RU*U_R;\n",
    "    double_RU=permute(double_RU,(1,2,5,),(3,4,));\n",
    "    double_RU=double_RU*U_U;\n",
    "    double_LD=permute(double_LD,(1,2,),(3,4,));\n",
    "    double_RU=permute(double_RU,(1,2,),(3,4,));\n",
    "    AA_fused=double_LD*double_RU;\n",
    "    \n",
    "    return AA_fused, U_L,U_D,U_R,U_U\n",
    "end\n"
   ]
  },
  {
   "cell_type": "code",
   "execution_count": 33,
   "metadata": {},
   "outputs": [
    {
     "data": {
      "text/plain": [
       "(Rep[SU₂](0=>1, 1/2=>1) ⊗ Rep[SU₂](0=>1, 1/2=>1)') ← Rep[SU₂](0=>2, 1/2=>2, 1=>1)"
      ]
     },
     "metadata": {},
     "output_type": "display_data"
    },
    {
     "data": {
      "text/plain": [
       "Rep[SU₂](0=>2, 1/2=>2, 1=>1) ← (Rep[SU₂](0=>1, 1/2=>1) ⊗ Rep[SU₂](0=>1, 1/2=>1)' ⊗ Rep[SU₂](1/2=>2, 3/2=>1)')"
      ]
     },
     "metadata": {},
     "output_type": "display_data"
    },
    {
     "data": {
      "text/plain": [
       "(Rep[SU₂](0=>1, 1/2=>1)' ⊗ Rep[SU₂](0=>1, 1/2=>1) ⊗ Rep[SU₂](0=>1, 1/2=>1) ⊗ Rep[SU₂](0=>1, 1/2=>1)' ⊗ Rep[SU₂](0=>2, 1/2=>2, 1=>1) ⊗ Rep[SU₂](0=>2, 1/2=>2, 1=>1)') ← ProductSpace{GradedSpace{SU2Irrep, TensorKit.SortedVectorDict{SU2Irrep, Int64}}, 0}()"
      ]
     },
     "metadata": {},
     "output_type": "display_data"
    },
    {
     "data": {
      "text/plain": [
       "(Rep[SU₂](0=>2, 1/2=>2, 1=>1)' ⊗ Rep[SU₂](0=>2, 1/2=>2, 1=>1) ⊗ Rep[SU₂](0=>1, 1/2=>1) ⊗ Rep[SU₂](0=>1, 1/2=>1)' ⊗ Rep[SU₂](0=>1, 1/2=>1)' ⊗ Rep[SU₂](0=>1, 1/2=>1)) ← ProductSpace{GradedSpace{SU2Irrep, TensorKit.SortedVectorDict{SU2Irrep, Int64}}, 0}()"
      ]
     },
     "metadata": {},
     "output_type": "display_data"
    }
   ],
   "source": [
    "AA_fused, U_L,U_D,U_R,U_U=build_double_layer(A,[]);"
   ]
  },
  {
   "cell_type": "code",
   "execution_count": 34,
   "metadata": {},
   "outputs": [
    {
     "data": {
      "text/plain": [
       "fuse_CTM_legs (generic function with 1 method)"
      ]
     },
     "metadata": {},
     "output_type": "display_data"
    }
   ],
   "source": [
    "function fuse_CTM_legs(CTM,U_L,U_D,U_R,U_U)\n",
    "    #fuse CTM legs\n",
    "    Tset=CTM[\"Tset\"];\n",
    "\n",
    "    #T4\n",
    "    T4=permute(Tset[4],(1,4,),(2,3,));\n",
    "    T4=T4*U_R;\n",
    "    T4=permute(T4,(1,3,2,),());\n",
    "    Tset[4]=T4\n",
    "    #display(space(T4))\n",
    "\n",
    "    #T3\n",
    "    T3=permute(Tset[3],(1,4,),(2,3,));\n",
    "    T3=T3*U_U;\n",
    "    T3=permute(T3,(1,3,2,),());\n",
    "    Tset[3]=T3\n",
    "    #display(space(T3))\n",
    "\n",
    "    #T2\n",
    "    T2=permute(Tset[2],(2,3,),(1,4,));\n",
    "    T2=U_L*T2;\n",
    "    T2=permute(T2,(2,1,3,),());\n",
    "    Tset[2]=T2\n",
    "    #display(space(T2))\n",
    "\n",
    "    #T1\n",
    "    T1=permute(Tset[1],(2,3,),(1,4,));\n",
    "    T1=U_D*T1;\n",
    "    T1=permute(T1,(2,1,3,),());\n",
    "    Tset[1]=T1\n",
    "    #display(space(T1))\n",
    "\n",
    "    CTM[\"Tset\"]=Tset;\n",
    "    return CTM\n",
    "end\n"
   ]
  },
  {
   "cell_type": "code",
   "execution_count": 35,
   "metadata": {},
   "outputs": [],
   "source": [
    "CTM=fuse_CTM_legs(CTM,U_L,U_D,U_R,U_U);"
   ]
  },
  {
   "cell_type": "code",
   "execution_count": 36,
   "metadata": {},
   "outputs": [
    {
     "data": {
      "text/plain": [
       "CTM_ite_test (generic function with 1 method)"
      ]
     },
     "metadata": {},
     "output_type": "display_data"
    }
   ],
   "source": [
    "function CTM_ite_test(Cset, Tset, AA_fused, chi, direction)\n",
    "    Tset=CTM[\"Tset\"];\n",
    "    Cset=CTM[\"Cset\"];\n",
    "\n",
    "    AA=permute(AA_fused, (mod1(2-direction,4),mod1(3-direction,4),mod1(4-direction,4),mod1(1-direction,4),),());\n",
    "                \n",
    "    @tensor MMup[:]:=Cset[mod1(direction,4)][1,2]*Tset[mod1(direction,4)][2,3,-3]*Tset[mod1(direction-1,4)][-1,4,1]*AA[4,-2,-4,3]; \n",
    "    @tensor MMlow[:]:=Tset[mod1(direction-1,4)][1,3,-1]*AA[3,4,-4,-2]*Cset[mod1(direction-1,4)][2,1]*Tset[mod1(direction-2,4)][-3,4,2]; \n",
    "\n",
    "    @tensor MMup_reflect[:]:=Tset[mod1(direction,4)][-1,3,1]* Cset[mod1(direction+1,4)][1,2]* AA[-2,-4,4,3]* Tset[mod1(direction+1,4)][2,4,-3];\n",
    "    #@tensor MMlow_reflect[:]:=AA[-2,4,3,-4]*Tset[mod1(direction+1,4)][-3,3,1]*Tset[mod1(direction-2,4)][2,4,-1]*Cset[mod1(direction-2,4)][1,2]; #this is slow compared to other coners, I don't know why            \n",
    "    @tensor MMlow_reflect[:]:=Tset[mod1(direction+1,4)][-4,-3,2]*Tset[mod1(direction-2,4)][1,-2,-1]*Cset[mod1(direction-2,4)][2,1]; \n",
    "    @tensor MMlow_reflect[:]:=MMlow_reflect[-1,1,2,-3]*AA[-2,1,2,-4]; \n",
    "\n",
    "    MMup=permute(MMup,(1,2,),(3,4,))\n",
    "\n",
    "    # _,ss,_=tsvd(MMup)\n",
    "    # display(convert(Array,ss))\n",
    "\n",
    "    MMlow=permute(MMlow,(1,2,),(3,4,))\n",
    "    MMup_reflect=permute(MMup_reflect,(1,2,),(3,4,))\n",
    "    MMlow_reflect=permute(MMlow_reflect,(1,2,),(3,4,))\n",
    "    _, RMup=leftorth(permute(MMup*MMup_reflect,(3,4,),(1,2,)));\n",
    "    _, RMlow=leftorth(permute(MMlow*MMlow_reflect,(3,4,),(1,2,))); \n",
    "\n",
    "\n",
    "    RMlow=permute(RMlow,(2,3,),(1,));\n",
    "    M=RMup*RMlow;\n",
    "\n",
    "\n",
    "\n",
    "    uM,sM,vM = tsvd(M; trunc=truncdim(chi));\n",
    "    #uM,sM,vM = tsvd(M; trunc=trunbelow(1e-34)); #this looks to truncate absolute value, not relative value\n",
    "    #display(convert(Array,sM))\n",
    "    #display(convert(Array,inv(sM)))\n",
    "    sM=sM/norm(sM)\n",
    "    sM_inv=inv(sM);\n",
    "    sM_dense=convert(Array,sM)\n",
    "    #display(sM_dense)\n",
    "    trun_tol=1e-12\n",
    "    for c1=1:size(sM_dense,1)\n",
    "        if sM_dense[c1,c1]<trun_tol\n",
    "            sM_dense[c1,c1]=0;\n",
    "        end\n",
    "    end\n",
    "    #display(sM_dense)\n",
    "    #display(pinv.(sM_dense))\n",
    "\n",
    "    #display(sM_inv)\n",
    "    #display(convert(Array,sM_inv))\n",
    "    sM_inv_sqrt=sqrt.(convert(Array,sM_inv))\n",
    "    #display(space(sM_inv))\n",
    "    #display(sM_inv_sqrt)\n",
    "    sM_inv_sqrt=TensorMap(pinv.(sqrt.(sM_dense)),codomain(sM_inv)←domain(sM_inv))\n",
    "\n",
    "    PM_inv=RMlow*vM'*sM_inv_sqrt; \n",
    "    PM=sM_inv_sqrt*uM'*RMup; \n",
    "    PM=permute(PM,(2,3,),(1,));\n",
    "\n",
    "    @tensor M5tem[:]:=Tset[mod1(direction-1,4)][4,3,1]*AA[3,5,-2,2]* PM_inv[4,5,-1]* PM[1,2,-3];\n",
    "    @tensor M1tem[:]:=Cset[mod1(direction,4)][1,2]*Tset[mod1(direction,4)][2,3,-2]*PM_inv[1,3,-1];\n",
    "    @tensor M7tem[:]:=Cset[mod1(direction-1,4)][1,2]*Tset[mod1(direction-2,4)][-1,3,1]* PM[2,3,-2];\n",
    "\n",
    "    Cset[mod1(direction,4)]=M1tem/norm(M1tem);\n",
    "    Tset[mod1(direction-1,4)]=M5tem/norm(M5tem);\n",
    "    Cset[mod1(direction-1,4)]=M7tem/norm(M7tem);\n",
    "    return Cset,Tset\n",
    "end"
   ]
  },
  {
   "cell_type": "code",
   "execution_count": 37,
   "metadata": {},
   "outputs": [
    {
     "data": {
      "text/plain": [
       "\"start CTM iterations:\""
      ]
     },
     "metadata": {},
     "output_type": "display_data"
    },
    {
     "data": {
      "text/plain": [
       "10-element Vector{Float64}:\n",
       " 1.0\n",
       " 0.37667701357582734\n",
       " 0.37667701357582734\n",
       " 0.37667701357581324\n",
       " 0.37667701357581324\n",
       " 0.3609652764438206\n",
       " 0.20514117994886827\n",
       " 0.20514117994886827\n",
       " 0.20514117994886136\n",
       " 0.20514117994886136"
      ]
     },
     "metadata": {},
     "output_type": "display_data"
    },
    {
     "data": {
      "text/plain": [
       "\"CTMRG iteration: 1, CTMRG err: 2.118889741062967\""
      ]
     },
     "metadata": {},
     "output_type": "display_data"
    },
    {
     "data": {
      "text/plain": [
       "10-element Vector{Float64}:\n",
       " 1.0\n",
       " 0.5169463664848383\n",
       " 0.3791198054039318\n",
       " 0.3791198054039318\n",
       " 0.3791198054039311\n",
       " 0.3791198054039311\n",
       " 0.2524616900975488\n",
       " 0.2524616900975488\n",
       " 0.2524616900975476\n",
       " 0.2524616900975476"
      ]
     },
     "metadata": {},
     "output_type": "display_data"
    },
    {
     "data": {
      "text/plain": [
       "\"CTMRG iteration: 2, CTMRG err: 0.170234845745368\""
      ]
     },
     "metadata": {},
     "output_type": "display_data"
    },
    {
     "data": {
      "text/plain": [
       "10-element Vector{Float64}:\n",
       " 1.0\n",
       " 0.4508062484790667\n",
       " 0.4023795157837479\n",
       " 0.4023795157837479\n",
       " 0.4023795157837479\n",
       " 0.4023795157837479\n",
       " 0.19345686321196015\n",
       " 0.19345686321196015\n",
       " 0.1934568632119595\n",
       " 0.1934568632119595"
      ]
     },
     "metadata": {},
     "output_type": "display_data"
    },
    {
     "data": {
      "text/plain": [
       "\"CTMRG iteration: 3, CTMRG err: 0.14305540919805224\""
      ]
     },
     "metadata": {},
     "output_type": "display_data"
    },
    {
     "data": {
      "text/plain": [
       "10-element Vector{Float64}:\n",
       " 1.0\n",
       " 0.40731023842372827\n",
       " 0.40731023842372827\n",
       " 0.4073102384237282\n",
       " 0.4073102384237282\n",
       " 0.37262365825804217\n",
       " 0.15454864912968472\n",
       " 0.15454864912968472\n",
       " 0.1545486491296844\n",
       " 0.1545486491296844"
      ]
     },
     "metadata": {},
     "output_type": "display_data"
    },
    {
     "data": {
      "text/plain": [
       "\"CTMRG iteration: 4, CTMRG err: 0.0943697330576393\""
      ]
     },
     "metadata": {},
     "output_type": "display_data"
    },
    {
     "data": {
      "text/plain": [
       "10-element Vector{Float64}:\n",
       " 1.0\n",
       " 0.4083848849811033\n",
       " 0.4083848849811033\n",
       " 0.4083848849811028\n",
       " 0.4083848849811028\n",
       " 0.3074300815223705\n",
       " 0.12621344487529151\n",
       " 0.12621344487529151\n",
       " 0.12621344487529068\n",
       " 0.12621344487529068"
      ]
     },
     "metadata": {},
     "output_type": "display_data"
    },
    {
     "data": {
      "text/plain": [
       "\"CTMRG iteration: 5, CTMRG err: 0.08640808474347647\""
      ]
     },
     "metadata": {},
     "output_type": "display_data"
    },
    {
     "data": {
      "text/plain": [
       "10-element Vector{Float64}:\n",
       " 1.0\n",
       " 0.40862102370625064\n",
       " 0.40862102370625064\n",
       " 0.40862102370624975\n",
       " 0.40862102370624975\n",
       " 0.2536149272892013\n",
       " 0.10379180863297553\n",
       " 0.10379180863297553\n",
       " 0.10379180863297498\n",
       " 0.10379180863297498"
      ]
     },
     "metadata": {},
     "output_type": "display_data"
    },
    {
     "data": {
      "text/plain": [
       "\"CTMRG iteration: 6, CTMRG err: 0.07005150218418424\""
      ]
     },
     "metadata": {},
     "output_type": "display_data"
    },
    {
     "data": {
      "text/plain": [
       "10-element Vector{Float64}:\n",
       " 1.0\n",
       " 0.4086673549715966\n",
       " 0.4086673549715966\n",
       " 0.4086673549715964\n",
       " 0.4086673549715964\n",
       " 0.20921411322003633\n",
       " 0.08553731750872201\n",
       " 0.08553731750872201\n",
       " 0.08553731750871815\n",
       " 0.08553731750871815"
      ]
     },
     "metadata": {},
     "output_type": "display_data"
    },
    {
     "data": {
      "text/plain": [
       "\"CTMRG iteration: 7, CTMRG err: 0.057483446844906555\""
      ]
     },
     "metadata": {},
     "output_type": "display_data"
    },
    {
     "data": {
      "text/plain": [
       "8-element Vector{Float64}:\n",
       " 1.0\n",
       " 0.40867271928246535\n",
       " 0.40867271928246535\n",
       " 0.40867271928246424\n",
       " 0.40867271928246424\n",
       " 0.17258456292603017\n",
       " 0.07054009599055473\n",
       " 0.07054009599055473"
      ]
     },
     "metadata": {},
     "output_type": "display_data"
    },
    {
     "data": {
      "text/plain": [
       "\"CTMRG iteration: 8, CTMRG err: 0.1281593646580262\""
      ]
     },
     "metadata": {},
     "output_type": "display_data"
    },
    {
     "data": {
      "text/plain": [
       "9-element Vector{Float64}:\n",
       " 1.0\n",
       " 0.40897277858445436\n",
       " 0.40897277858445436\n",
       " 0.4089727785844539\n",
       " 0.4089727785844539\n",
       " 0.15774499643161022\n",
       " 0.13904761640304175\n",
       " 0.05505996731837161\n",
       " 0.05505996731837161"
      ]
     },
     "metadata": {},
     "output_type": "display_data"
    },
    {
     "data": {
      "text/plain": [
       "\"CTMRG iteration: 9, CTMRG err: 0.0904714740343937\""
      ]
     },
     "metadata": {},
     "output_type": "display_data"
    },
    {
     "data": {
      "text/plain": [
       "9-element Vector{Float64}:\n",
       " 1.0\n",
       " 0.40938217016661704\n",
       " 0.40938217016661704\n",
       " 0.40932805886420404\n",
       " 0.40932805886420404\n",
       " 0.15909969755205097\n",
       " 0.11275665163288005\n",
       " 0.03910199668176669\n",
       " 0.03910199668176669"
      ]
     },
     "metadata": {},
     "output_type": "display_data"
    },
    {
     "data": {
      "text/plain": [
       "\"CTMRG iteration: 10, CTMRG err: 0.03468358903629419\""
      ]
     },
     "metadata": {},
     "output_type": "display_data"
    },
    {
     "data": {
      "text/plain": [
       "9-element Vector{Float64}:\n",
       " 1.0\n",
       " 0.4093168550271472\n",
       " 0.4093168550271472\n",
       " 0.40919217186059503\n",
       " 0.40919217186059503\n",
       " 0.15912944597575263\n",
       " 0.08581282939533302\n",
       " 0.04655506584769146\n",
       " 0.04655506584769146"
      ]
     },
     "metadata": {},
     "output_type": "display_data"
    },
    {
     "data": {
      "text/plain": [
       "\"CTMRG iteration: 11, CTMRG err: 0.02893289450455573\""
      ]
     },
     "metadata": {},
     "output_type": "display_data"
    },
    {
     "data": {
      "text/plain": [
       "9-element Vector{Float64}:\n",
       " 1.0\n",
       " 0.4093313981742756\n",
       " 0.4093313981742756\n",
       " 0.4091136970120322\n",
       " 0.4091136970120322\n",
       " 0.15906184684890845\n",
       " 0.06252499566144246\n",
       " 0.04725762397960212\n",
       " 0.04725762397960212"
      ]
     },
     "metadata": {},
     "output_type": "display_data"
    },
    {
     "data": {
      "text/plain": [
       "\"CTMRG iteration: 12, CTMRG err: 0.02330939049238911\""
      ]
     },
     "metadata": {},
     "output_type": "display_data"
    },
    {
     "data": {
      "text/plain": [
       "9-element Vector{Float64}:\n",
       " 1.0\n",
       " 0.40933241308456336\n",
       " 0.40933241308456336\n",
       " 0.4090825816899277\n",
       " 0.4090825816899277\n",
       " 0.15903443195302258\n",
       " 0.04733127416423308\n",
       " 0.04733127416423308\n",
       " 0.043340783703466036"
      ]
     },
     "metadata": {},
     "output_type": "display_data"
    },
    {
     "data": {
      "text/plain": [
       "\"CTMRG iteration: 13, CTMRG err: 0.015690727357148295\""
      ]
     },
     "metadata": {},
     "output_type": "display_data"
    },
    {
     "data": {
      "text/plain": [
       "10-element Vector{Float64}:\n",
       " 1.0\n",
       " 0.40939445491732573\n",
       " 0.40939445491732573\n",
       " 0.40907298459966923\n",
       " 0.40907298459966923\n",
       " 0.15901064352521097\n",
       " 0.04734010959796325\n",
       " 0.04734010959796325\n",
       " 0.04470941593450278\n",
       " 0.04470941593450278"
      ]
     },
     "metadata": {},
     "output_type": "display_data"
    },
    {
     "data": {
      "text/plain": [
       "\"CTMRG iteration: 14, CTMRG err: 0.04473045530724663\""
      ]
     },
     "metadata": {},
     "output_type": "display_data"
    },
    {
     "data": {
      "text/plain": [
       "10-element Vector{Float64}:\n",
       " 1.0\n",
       " 0.40916467636372944\n",
       " 0.40916467636372944\n",
       " 0.40907997293226184\n",
       " 0.40907997293226184\n",
       " 0.15914360396796035\n",
       " 0.04734775602846357\n",
       " 0.04734775602846357\n",
       " 0.047308122819284114\n",
       " 0.047308122819284114"
      ]
     },
     "metadata": {},
     "output_type": "display_data"
    },
    {
     "data": {
      "text/plain": [
       "\"CTMRG iteration: 15, CTMRG err: 0.0036918890018695226\""
      ]
     },
     "metadata": {},
     "output_type": "display_data"
    },
    {
     "data": {
      "text/plain": [
       "10-element Vector{Float64}:\n",
       " 1.0\n",
       " 0.40911521342210266\n",
       " 0.40911521342210266\n",
       " 0.40908704036256843\n",
       " 0.40908704036256843\n",
       " 0.15913074580081327\n",
       " 0.04734872380486337\n",
       " 0.04734872380486337\n",
       " 0.04734044151774779\n",
       " 0.04734044151774779"
      ]
     },
     "metadata": {},
     "output_type": "display_data"
    },
    {
     "data": {
      "text/plain": [
       "\"CTMRG iteration: 16, CTMRG err: 8.514261281226738e-5\""
      ]
     },
     "metadata": {},
     "output_type": "display_data"
    },
    {
     "data": {
      "text/plain": [
       "10-element Vector{Float64}:\n",
       " 1.0\n",
       " 0.409096983949414\n",
       " 0.409096983949414\n",
       " 0.40908945926458684\n",
       " 0.40908945926458684\n",
       " 0.15912593512887316\n",
       " 0.047349975712250095\n",
       " 0.047349975712250095\n",
       " 0.0473496936827597\n",
       " 0.0473496936827597"
      ]
     },
     "metadata": {},
     "output_type": "display_data"
    },
    {
     "data": {
      "text/plain": [
       "\"CTMRG iteration: 17, CTMRG err: 2.9560306941943564e-5\""
      ]
     },
     "metadata": {},
     "output_type": "display_data"
    },
    {
     "data": {
      "text/plain": [
       "10-element Vector{Float64}:\n",
       " 1.0\n",
       " 0.40909215058954157\n",
       " 0.40909215058954157\n",
       " 0.4090900907739297\n",
       " 0.4090900907739297\n",
       " 0.15912489243516106\n",
       " 0.0473496269241753\n",
       " 0.0473496269241753\n",
       " 0.047349546101346895\n",
       " 0.047349546101346895"
      ]
     },
     "metadata": {},
     "output_type": "display_data"
    },
    {
     "data": {
      "text/plain": [
       "\"CTMRG iteration: 18, CTMRG err: 6.992454531831569e-6\""
      ]
     },
     "metadata": {},
     "output_type": "display_data"
    },
    {
     "data": {
      "text/plain": [
       "10-element Vector{Float64}:\n",
       " 1.0\n",
       " 0.40909079133340787\n",
       " 0.40909079133340787\n",
       " 0.40909024060289034\n",
       " 0.40909024060289034\n",
       " 0.15912450771731068\n",
       " 0.047349476931181876\n",
       " 0.047349476931181876\n",
       " 0.04734943755122394\n",
       " 0.04734943755122394"
      ]
     },
     "metadata": {},
     "output_type": "display_data"
    },
    {
     "data": {
      "text/plain": [
       "\"CTMRG iteration: 19, CTMRG err: 1.989125885369942e-6\""
      ]
     },
     "metadata": {},
     "output_type": "display_data"
    },
    {
     "data": {
      "text/plain": [
       "10-element Vector{Float64}:\n",
       " 1.0\n",
       " 0.40909041797357615\n",
       " 0.40909041797357615\n",
       " 0.40909027163100137\n",
       " 0.40909027163100137\n",
       " 0.15912439497248132\n",
       " 0.04734940626709752\n",
       " 0.04734940626709752\n",
       " 0.04734939564922307\n",
       " 0.04734939564922307"
      ]
     },
     "metadata": {},
     "output_type": "display_data"
    },
    {
     "data": {
      "text/plain": [
       "\"CTMRG iteration: 20, CTMRG err: 5.540129897090912e-7\""
      ]
     },
     "metadata": {},
     "output_type": "display_data"
    },
    {
     "name": "stdout",
     "output_type": "stream",
     "text": [
      "  0.120845 seconds (298.02 k allocations: 22.031 MiB, 79.76% compilation time)\n",
      "  0.019235 seconds (133.19 k allocations: 11.379 MiB)\n",
      "  0.023393 seconds (128.26 k allocations: 10.217 MiB)\n",
      "  0.045900 seconds (128.26 k allocations: 10.217 MiB, 49.83% gc time)\n",
      "  0.019606 seconds (128.26 k allocations: 10.217 MiB)\n",
      "  0.019817 seconds (128.26 k allocations: 10.217 MiB)\n",
      "  0.021650 seconds (128.26 k allocations: 10.217 MiB)\n",
      "  0.038540 seconds (146.85 k allocations: 11.731 MiB, 46.19% compilation time)\n",
      "  0.022824 seconds (130.51 k allocations: 11.235 MiB)\n",
      "  0.049570 seconds (125.27 k allocations: 10.078 MiB, 45.84% gc time)\n",
      "  0.022908 seconds (124.53 k allocations: 9.907 MiB)\n",
      "  0.027956 seconds (124.53 k allocations: 9.907 MiB)\n",
      "  0.022822 seconds (124.53 k allocations: 9.907 MiB)\n",
      "  0.019609 seconds (131.58 k allocations: 10.845 MiB)\n",
      "  0.027414 seconds (128.26 k allocations: 10.217 MiB)\n",
      "  0.028871 seconds (128.26 k allocations: 10.217 MiB)\n",
      "  0.067992 seconds (128.26 k allocations: 10.217 MiB, 42.99% gc time)\n",
      "  0.019473 seconds (128.26 k allocations: 10.217 MiB)\n",
      "  0.026398 seconds (128.26 k allocations: 10.217 MiB)\n",
      "  0.020514 seconds (128.26 k allocations: 10.217 MiB)\n"
     ]
    }
   ],
   "source": [
    "\n",
    "    #Ref: PHYSICAL REVIEW B 98, 235148 (2018)\n",
    "    #initial corner transfer matrix\n",
    "\n",
    "    Cset=CTM[\"Cset\"];\n",
    "    Tset=CTM[\"Tset\"];\n",
    "    conv_check=\"singular_value\"\n",
    "\n",
    "    ss_old=ones(chi)*2;\n",
    "    d=2;\n",
    "    rho_old=Matrix(I,d^3,d^3);\n",
    "\n",
    "    #Iteration\n",
    "    CTM_ite_nums=50;\n",
    "    display(\"start CTM iterations:\")\n",
    "    for ci=1:CTM_ite_nums\n",
    "        direction_order=[1,2,3,4];\n",
    "        @time for direction in direction_order\n",
    "            Cset,Tset=CTM_ite_test(Cset, Tset, AA_fused, chi, direction);\n",
    "        end\n",
    "        if conv_check==\"singular_value\" #check convergence of singular value\n",
    "            _,ss_new,_=svd(permute(Cset[1],(1,),(2,)));\n",
    "            ss_new=convert(Array,ss_new);\n",
    "            ss_new=sort(diag(ss_new), rev=true);\n",
    "            ss_old=ss_old/ss_old[1];\n",
    "            ss_new=ss_new/ss_new[1];\n",
    "            display(ss_new)\n",
    "            if length(ss_old)>length(ss_new)\n",
    "                dss=copy(ss_old);\n",
    "                siz=length(ss_new)\n",
    "            elseif length(ss_old)<=length(ss_new)\n",
    "                dss=copy(ss_new);\n",
    "                siz=length(ss_old)\n",
    "            end\n",
    "            dss[1:siz]=ss_old[1:siz]-ss_new[1:siz]\n",
    "            er=norm(dss);\n",
    "            display(\"CTMRG iteration: \"*string(ci)*\", CTMRG err: \"*string(er));\n",
    "            if er<tol\n",
    "                break;\n",
    "            end\n",
    "            ss_old=ss_new;\n",
    "        elseif conv_check==\"density_matrix\" #check reduced density matrix\n",
    "            \n",
    "            # ob_opts.SiteNumber=1;\n",
    "            # CTM_tem.Cset=Cset;\n",
    "            # CTM_tem.Tset=Tset;\n",
    "            # rho_new=ob_CTMRG(CTM_tem,A,ob_opts).A;\n",
    "            # er=sum(sum((abs(rho_old-rho_new))));\n",
    "            # disp(['CTMRG iteration: ',num2str(ci),' CTMRG err: ',num2str(er)]);\n",
    "            # if er<tol\n",
    "            #     break;\n",
    "            # end\n",
    "            # rho_old=rho_new;\n",
    "        end\n",
    "        \n",
    "        # if ci==CTM_ite_nums\n",
    "        #     display(er)\n",
    "        #     warn(\"CTMRG does not converge: \" * string(er));\n",
    "        # end\n",
    "    end\n",
    "\n",
    "\n",
    "\n",
    "\n",
    "\n",
    "\n",
    "    "
   ]
  }
 ],
 "metadata": {
  "kernelspec": {
   "display_name": "Julia 1.7.2",
   "language": "julia",
   "name": "julia-1.7"
  },
  "language_info": {
   "file_extension": ".jl",
   "mimetype": "application/julia",
   "name": "julia",
   "version": "1.7.2"
  },
  "orig_nbformat": 4
 },
 "nbformat": 4,
 "nbformat_minor": 2
}
