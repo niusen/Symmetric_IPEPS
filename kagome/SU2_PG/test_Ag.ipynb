{
 "cells": [
  {
   "cell_type": "code",
   "execution_count": 1,
   "metadata": {},
   "outputs": [],
   "source": [
    "using LinearAlgebra\n",
    "using TensorKit\n",
    "using KrylovKit\n",
    "using JSON\n",
    "using HDF5, JLD\n",
    "cd(\"D:\\\\My Documents\\\\Code\\\\Julia_codes\\\\Tensor network\\\\IPEPS_TensorKit\\\\kagome\\\\SU2_PG\")\n",
    "#push!(LOAD_PATH, \"D:\\\\My Documents\\\\Code\\\\Julia_codes\\\\Tensor network\\\\IPEPS_TensorKit\\\\kagome\\\\SU2_PG\")\n",
    "include(\"kagome_load_tensor.jl\")\n",
    "include(\"kagome_CTMRG.jl\")\n",
    "include(\"kagome_model.jl\")\n",
    "include(\"kagome_IPESS.jl\")\n",
    "include(\"mps_algorithms\\\\ITEBD_algorithms.jl\")\n",
    "include(\"mps_algorithms\\\\TransfOp_decomposition.jl\")\n",
    "include(\"mps_algorithms\\\\PUMPS_algorithms.jl\")\n",
    "include(\"mps_algorithms\\\\ES_preliminary.jl\")\n",
    "\n",
    "\n",
    "\n",
    "\n",
    "D=8;\n",
    "chi=10;\n",
    "W=10;\n",
    "N=10;\n",
    "kset=0:N-1;\n",
    "EH_n=3;#number of entanglement spectrum per k point\n",
    "Dtrun_method=\"svds\";\n",
    "Dtrun_init=200;\n",
    "Dtrun_max=200;\n",
    "\n",
    "\n",
    "J1=0.80902;\n",
    "J2=0;\n",
    "J3=0;\n",
    "Jchi=0;\n",
    "Jtrip=0.5878;\n",
    "\n",
    "parameters=Dict([(\"J1\", J1), (\"J2\", J2), (\"J3\", J3), (\"Jchi\", Jchi), (\"Jtrip\", Jtrip)]);\n",
    "\n"
   ]
  },
  {
   "cell_type": "code",
   "execution_count": 2,
   "metadata": {},
   "outputs": [
    {
     "name": "stdout",
     "output_type": "stream",
     "text": [
      "number of threads: 1\n"
     ]
    }
   ],
   "source": [
    "\n",
    "    multi_threads=true;if Threads.nthreads()==1; multi_threads=false; end\n",
    "    println(\"number of threads: \"*string(Threads.nthreads()));flush(stdout);\n",
    "    \n",
    "    CTM_conv_tol=1e-6;\n",
    "    trun_tol=1e-8;\n",
    "    group_size=Int(round((10^8)/(chi*chi*W*W*D)));\n",
    "    \n",
    "    mpo_type=\"OO\";#\"O_O\" or \"OO\", in my test \"OO\" is faster for large bond dimension\n",
    "    \n",
    "    pow=Int((N-2)/2);\n",
    "    \n",
    "\n",
    "    \n",
    "    A_set,B_set,A1_set,A2_set, A_set_occu,B_set_occu,A1_set_occu,A2_set_occu, S_label, Sz_label, virtual_particle, Va, Vb=construct_tensor(D);\n",
    "    \n",
    "    filenm=\"LS_D_\"*string(D)*\"_chi_40.json\"\n",
    "    json_dict=read_json_state(filenm);\n",
    "    \n",
    "    bond_tensor,triangle_tensor=construct_su2_PG_IPESS(json_dict,A_set,B_set,A1_set,A2_set, A_set_occu,B_set_occu,A1_set_occu,A2_set_occu, S_label, Sz_label, virtual_particle, Va, Vb);\n",
    "    \n",
    "    PEPS_tensor=bond_tensor;\n",
    "    @tensor PEPS_tensor[:] := bond_tensor[-1,1,-5]*bond_tensor[4,3,-6]*bond_tensor[-4,2,-7]*triangle_tensor[1,3,2]*triangle_tensor[4,-2,-3];\n",
    "    A_unfused=PEPS_tensor;\n",
    "    \n",
    "    U_phy=unitary(fuse(space(PEPS_tensor, 5) ⊗ space(PEPS_tensor, 6) ⊗ space(PEPS_tensor, 7)), space(PEPS_tensor, 5) ⊗ space(PEPS_tensor, 6) ⊗ space(PEPS_tensor, 7));\n",
    "    @tensor A_fused[:] :=PEPS_tensor[-1,-2,-3,-4,1,2,3]*U_phy[-5,1,2,3];"
   ]
  },
  {
   "cell_type": "code",
   "execution_count": 3,
   "metadata": {},
   "outputs": [
    {
     "name": "stdout",
     "output_type": "stream",
     "text": [
      "load CTM from saved data directly\n"
     ]
    },
    {
     "name": "stdout",
     "output_type": "stream",
     "text": [
      "No itebd ground state found from saved data, now do itebd\n"
     ]
    }
   ],
   "source": [
    "W=10;\n",
    "CTM,U_L,U_D,U_R,U_U=try_CTM(D,chi,parameters, CTM_conv_tol, U_phy, A_unfused, A_fused);\n",
    "\n",
    "O1=[];\n",
    "O2=[];\n",
    "Ag=[];\n",
    "\n",
    "println(\"No itebd ground state found from saved data, now do itebd\");flush(stdout);\n",
    "\n",
    "Tleft=CTM[\"Tset\"][4];\n",
    "Tright=CTM[\"Tset\"][2];\n",
    "@tensor O1[:]:=Tleft[-3,1,-1]*U_L[1,-2,-4];\n",
    "@tensor O2[:]:=Tright[-1,1,-3]*U_R[-4,-2,1];\n",
    "\n"
   ]
  },
  {
   "cell_type": "code",
   "execution_count": 4,
   "metadata": {},
   "outputs": [],
   "source": [
    "unitcell_size=2;\n",
    "for cc=1:unitcell_size-1\n",
    "    U_unitcell=unitary(fuse(space(O1,4)⊗space(O1,4)),space(O1,4)⊗space(O1,4));\n",
    "    @tensor O1[:]:=O1[-1,1,2,4]*O1[2,3,-3,5]*U_unitcell[-4,4,5]*U_unitcell'[1,3,-2];\n",
    "    @tensor O2[:]:=O2[-1,1,2,4]*O2[2,3,-3,5]*U_unitcell[-4,4,5]*U_unitcell'[1,3,-2];\n",
    "end"
   ]
  },
  {
   "cell_type": "code",
   "execution_count": null,
   "metadata": {},
   "outputs": [],
   "source": [
    "# W=10;\n",
    "# conv_check=\"singular_value\"\n",
    "# conv_tol=1e-6;\n",
    "# CTM_init=[];\n",
    "# CTM, OO=CTMRG_boundary_ground(O1,O2,W,conv_check,conv_tol,CTM_init)"
   ]
  },
  {
   "cell_type": "code",
   "execution_count": 5,
   "metadata": {},
   "outputs": [
    {
     "data": {
      "text/plain": [
       "\"Warn: dominant transfer matrix eigenvalue close to degenerate: 0.9998166056514061\""
      ]
     },
     "metadata": {},
     "output_type": "display_data"
    },
    {
     "data": {
      "text/plain": [
       "\"Warn: dominant transfer matrix eigenvalue close to degenerate: 0.9998166056514103\""
      ]
     },
     "metadata": {},
     "output_type": "display_data"
    },
    {
     "data": {
      "text/plain": [
       "\"Warn: dominant transfer matrix eigenvalue close to degenerate: 0.9999982464447956\""
      ]
     },
     "metadata": {},
     "output_type": "display_data"
    },
    {
     "data": {
      "text/plain": [
       "\"Warn: dominant transfer matrix eigenvalue close to degenerate: 0.9999982464447954\""
      ]
     },
     "metadata": {},
     "output_type": "display_data"
    },
    {
     "data": {
      "text/plain": [
       "\"Warn: dominant transfer matrix eigenvalue close to degenerate: 0.9999999827365993\""
      ]
     },
     "metadata": {},
     "output_type": "display_data"
    },
    {
     "data": {
      "text/plain": [
       "\"Warn: dominant transfer matrix eigenvalue close to degenerate: 0.9999999827366042\""
      ]
     },
     "metadata": {},
     "output_type": "display_data"
    },
    {
     "data": {
      "text/plain": [
       "\"Warn: dominant transfer matrix eigenvalue close to degenerate: 0.9999999998230714\""
      ]
     },
     "metadata": {},
     "output_type": "display_data"
    },
    {
     "data": {
      "text/plain": [
       "\"Warn: dominant transfer matrix eigenvalue close to degenerate: 0.9999999998230691\""
      ]
     },
     "metadata": {},
     "output_type": "display_data"
    },
    {
     "data": {
      "text/plain": [
       "\"Warn: dominant transfer matrix eigenvalue close to degenerate: 0.9999999999982475\""
      ]
     },
     "metadata": {},
     "output_type": "display_data"
    },
    {
     "data": {
      "text/plain": [
       "\"Warn: dominant transfer matrix eigenvalue close to degenerate: 0.9999999999982446\""
      ]
     },
     "metadata": {},
     "output_type": "display_data"
    },
    {
     "data": {
      "text/plain": [
       "\"Warn: dominant transfer matrix eigenvalue close to degenerate: 0.9999999999999847\""
      ]
     },
     "metadata": {},
     "output_type": "display_data"
    },
    {
     "data": {
      "text/plain": [
       "\"Warn: dominant transfer matrix eigenvalue close to degenerate: 0.9999999999999795\""
      ]
     },
     "metadata": {},
     "output_type": "display_data"
    },
    {
     "data": {
      "text/plain": [
       "\"Warn: dominant transfer matrix eigenvalue close to degenerate: 0.9999999999999994\""
      ]
     },
     "metadata": {},
     "output_type": "display_data"
    },
    {
     "data": {
      "text/plain": [
       "\"Warn: dominant transfer matrix eigenvalue close to degenerate: 0.9999999999999976\""
      ]
     },
     "metadata": {},
     "output_type": "display_data"
    },
    {
     "data": {
      "text/plain": [
       "\"Warn: dominant transfer matrix eigenvalue close to degenerate: 0.999999999999997\""
      ]
     },
     "metadata": {},
     "output_type": "display_data"
    },
    {
     "data": {
      "text/plain": [
       "\"Warn: dominant transfer matrix eigenvalue close to degenerate: 0.9999999999999982\""
      ]
     },
     "metadata": {},
     "output_type": "display_data"
    },
    {
     "data": {
      "text/plain": [
       "\"Warn: dominant transfer matrix eigenvalue close to degenerate: 0.9999999999999986\""
      ]
     },
     "metadata": {},
     "output_type": "display_data"
    },
    {
     "data": {
      "text/plain": [
       "\"Warn: dominant transfer matrix eigenvalue close to degenerate: 0.9999999999999998\""
      ]
     },
     "metadata": {},
     "output_type": "display_data"
    },
    {
     "data": {
      "text/plain": [
       "\"Warn: dominant transfer matrix eigenvalue close to degenerate: 0.9999999999999974\""
      ]
     },
     "metadata": {},
     "output_type": "display_data"
    },
    {
     "data": {
      "text/plain": [
       "\"Warn: dominant transfer matrix eigenvalue close to degenerate: 0.999999999999994\""
      ]
     },
     "metadata": {},
     "output_type": "display_data"
    },
    {
     "data": {
      "text/plain": [
       "\"Warn: dominant transfer matrix eigenvalue close to degenerate: 0.999999999999997\""
      ]
     },
     "metadata": {},
     "output_type": "display_data"
    },
    {
     "data": {
      "text/plain": [
       "\"Warn: dominant transfer matrix eigenvalue close to degenerate: 0.9999999999999986\""
      ]
     },
     "metadata": {},
     "output_type": "display_data"
    },
    {
     "data": {
      "text/plain": [
       "\"Warn: dominant transfer matrix eigenvalue close to degenerate: 0.9999999999999943\""
      ]
     },
     "metadata": {},
     "output_type": "display_data"
    },
    {
     "data": {
      "text/plain": [
       "\"Warn: dominant transfer matrix eigenvalue close to degenerate: 0.9999999999999981\""
      ]
     },
     "metadata": {},
     "output_type": "display_data"
    },
    {
     "data": {
      "text/plain": [
       "\"Warn: dominant transfer matrix eigenvalue close to degenerate: 0.9999999999999925\""
      ]
     },
     "metadata": {},
     "output_type": "display_data"
    },
    {
     "data": {
      "text/plain": [
       "\"Warn: dominant transfer matrix eigenvalue close to degenerate: 0.9999999999999992\""
      ]
     },
     "metadata": {},
     "output_type": "display_data"
    },
    {
     "data": {
      "text/plain": [
       "\"Warn: dominant transfer matrix eigenvalue close to degenerate: 0.9999999999999992\""
      ]
     },
     "metadata": {},
     "output_type": "display_data"
    },
    {
     "data": {
      "text/plain": [
       "\"Warn: dominant transfer matrix eigenvalue close to degenerate: 0.9999999999999979\""
      ]
     },
     "metadata": {},
     "output_type": "display_data"
    },
    {
     "data": {
      "text/plain": [
       "\"Warn: dominant transfer matrix eigenvalue close to degenerate: 0.9999999999999974\""
      ]
     },
     "metadata": {},
     "output_type": "display_data"
    },
    {
     "data": {
      "text/plain": [
       "\"Warn: dominant transfer matrix eigenvalue close to degenerate: 0.9999999999999949\""
      ]
     },
     "metadata": {},
     "output_type": "display_data"
    },
    {
     "data": {
      "text/plain": [
       "\"Warn: dominant transfer matrix eigenvalue close to degenerate: 0.9999999999999986\""
      ]
     },
     "metadata": {},
     "output_type": "display_data"
    },
    {
     "data": {
      "text/plain": [
       "\"Warn: dominant transfer matrix eigenvalue close to degenerate: 0.9999999999999982\""
      ]
     },
     "metadata": {},
     "output_type": "display_data"
    },
    {
     "data": {
      "text/plain": [
       "\"Warn: dominant transfer matrix eigenvalue close to degenerate: 0.9999999999999969\""
      ]
     },
     "metadata": {},
     "output_type": "display_data"
    },
    {
     "data": {
      "text/plain": [
       "\"Warn: dominant transfer matrix eigenvalue close to degenerate: 0.999999999999999\""
      ]
     },
     "metadata": {},
     "output_type": "display_data"
    },
    {
     "data": {
      "text/plain": [
       "\"Warn: dominant transfer matrix eigenvalue close to degenerate: 0.9999999999999996\""
      ]
     },
     "metadata": {},
     "output_type": "display_data"
    },
    {
     "data": {
      "text/plain": [
       "\"Warn: dominant transfer matrix eigenvalue close to degenerate: 0.9999999999999976\""
      ]
     },
     "metadata": {},
     "output_type": "display_data"
    },
    {
     "data": {
      "text/plain": [
       "\"Warn: dominant transfer matrix eigenvalue close to degenerate: 0.9999999999999998\""
      ]
     },
     "metadata": {},
     "output_type": "display_data"
    },
    {
     "data": {
      "text/plain": [
       "\"Warn: dominant transfer matrix eigenvalue close to degenerate: 0.9999999999999989\""
      ]
     },
     "metadata": {},
     "output_type": "display_data"
    },
    {
     "data": {
      "text/plain": [
       "\"Warn: dominant transfer matrix eigenvalue close to degenerate: 0.9999999999999994\""
      ]
     },
     "metadata": {},
     "output_type": "display_data"
    },
    {
     "data": {
      "text/plain": [
       "\"Warn: dominant transfer matrix eigenvalue close to degenerate: 0.9999999999999983\""
      ]
     },
     "metadata": {},
     "output_type": "display_data"
    },
    {
     "data": {
      "text/plain": [
       "\"Warn: dominant transfer matrix eigenvalue close to degenerate: 0.9999999999999969\""
      ]
     },
     "metadata": {},
     "output_type": "display_data"
    },
    {
     "data": {
      "text/plain": [
       "\"Warn: dominant transfer matrix eigenvalue close to degenerate: 0.9999999999999987\""
      ]
     },
     "metadata": {},
     "output_type": "display_data"
    },
    {
     "data": {
      "text/plain": [
       "\"Warn: dominant transfer matrix eigenvalue close to degenerate: 0.9999999999999992\""
      ]
     },
     "metadata": {},
     "output_type": "display_data"
    },
    {
     "data": {
      "text/plain": [
       "\"Warn: dominant transfer matrix eigenvalue close to degenerate: 0.9999999999999993\""
      ]
     },
     "metadata": {},
     "output_type": "display_data"
    },
    {
     "data": {
      "text/plain": [
       "\"Warn: dominant transfer matrix eigenvalue close to degenerate: 0.9999999999999992\""
      ]
     },
     "metadata": {},
     "output_type": "display_data"
    },
    {
     "data": {
      "text/plain": [
       "\"Warn: dominant transfer matrix eigenvalue close to degenerate: 0.999999999999999\""
      ]
     },
     "metadata": {},
     "output_type": "display_data"
    },
    {
     "data": {
      "text/plain": [
       "\"Warn: dominant transfer matrix eigenvalue close to degenerate: 0.9999999999999994\""
      ]
     },
     "metadata": {},
     "output_type": "display_data"
    },
    {
     "data": {
      "text/plain": [
       "\"Warn: dominant transfer matrix eigenvalue close to degenerate: 0.999999999999997\""
      ]
     },
     "metadata": {},
     "output_type": "display_data"
    },
    {
     "data": {
      "text/plain": [
       "\"Warn: dominant transfer matrix eigenvalue close to degenerate: 0.9999999999999951\""
      ]
     },
     "metadata": {},
     "output_type": "display_data"
    },
    {
     "data": {
      "text/plain": [
       "\"Warn: dominant transfer matrix eigenvalue close to degenerate: 0.9999999999999994\""
      ]
     },
     "metadata": {},
     "output_type": "display_data"
    },
    {
     "data": {
      "text/plain": [
       "\"Warn: dominant transfer matrix eigenvalue close to degenerate: 0.9999999999999967\""
      ]
     },
     "metadata": {},
     "output_type": "display_data"
    },
    {
     "data": {
      "text/plain": [
       "\"Warn: dominant transfer matrix eigenvalue close to degenerate: 0.9999999999999998\""
      ]
     },
     "metadata": {},
     "output_type": "display_data"
    },
    {
     "data": {
      "text/plain": [
       "\"Warn: dominant transfer matrix eigenvalue close to degenerate: 0.9999999999999983\""
      ]
     },
     "metadata": {},
     "output_type": "display_data"
    },
    {
     "data": {
      "text/plain": [
       "\"Warn: dominant transfer matrix eigenvalue close to degenerate: 0.9999999999999994\""
      ]
     },
     "metadata": {},
     "output_type": "display_data"
    },
    {
     "data": {
      "text/plain": [
       "\"Warn: dominant transfer matrix eigenvalue close to degenerate: 0.999999999999999\""
      ]
     },
     "metadata": {},
     "output_type": "display_data"
    },
    {
     "data": {
      "text/plain": [
       "\"Warn: dominant transfer matrix eigenvalue close to degenerate: 0.9999999999999979\""
      ]
     },
     "metadata": {},
     "output_type": "display_data"
    },
    {
     "data": {
      "text/plain": [
       "\"Warn: dominant transfer matrix eigenvalue close to degenerate: 0.9999999999999992\""
      ]
     },
     "metadata": {},
     "output_type": "display_data"
    },
    {
     "data": {
      "text/plain": [
       "\"Warn: dominant transfer matrix eigenvalue close to degenerate: 0.999999999999998\""
      ]
     },
     "metadata": {},
     "output_type": "display_data"
    },
    {
     "data": {
      "text/plain": [
       "\"Warn: dominant transfer matrix eigenvalue close to degenerate: 0.999999999999999\""
      ]
     },
     "metadata": {},
     "output_type": "display_data"
    },
    {
     "data": {
      "text/plain": [
       "\"Warn: dominant transfer matrix eigenvalue close to degenerate: 0.9999999999999989\""
      ]
     },
     "metadata": {},
     "output_type": "display_data"
    },
    {
     "data": {
      "text/plain": [
       "\"Warn: dominant transfer matrix eigenvalue close to degenerate: 0.9999999999999989\""
      ]
     },
     "metadata": {},
     "output_type": "display_data"
    },
    {
     "data": {
      "text/plain": [
       "\"Warn: dominant transfer matrix eigenvalue close to degenerate: 0.9999999999999994\""
      ]
     },
     "metadata": {},
     "output_type": "display_data"
    },
    {
     "data": {
      "text/plain": [
       "\"Warn: dominant transfer matrix eigenvalue close to degenerate: 0.9999999999999983\""
      ]
     },
     "metadata": {},
     "output_type": "display_data"
    },
    {
     "data": {
      "text/plain": [
       "\"Warn: dominant transfer matrix eigenvalue close to degenerate: 0.9999999999999993\""
      ]
     },
     "metadata": {},
     "output_type": "display_data"
    },
    {
     "data": {
      "text/plain": [
       "\"Warn: dominant transfer matrix eigenvalue close to degenerate: 0.9999999999999948\""
      ]
     },
     "metadata": {},
     "output_type": "display_data"
    },
    {
     "data": {
      "text/plain": [
       "\"Warn: dominant transfer matrix eigenvalue close to degenerate: 0.9999999999999969\""
      ]
     },
     "metadata": {},
     "output_type": "display_data"
    },
    {
     "data": {
      "text/plain": [
       "\"Warn: dominant transfer matrix eigenvalue close to degenerate: 0.9999999999999957\""
      ]
     },
     "metadata": {},
     "output_type": "display_data"
    },
    {
     "data": {
      "text/plain": [
       "\"Warn: dominant transfer matrix eigenvalue close to degenerate: 0.9999999999999986\""
      ]
     },
     "metadata": {},
     "output_type": "display_data"
    },
    {
     "data": {
      "text/plain": [
       "\"Warn: dominant transfer matrix eigenvalue close to degenerate: 0.999999999999998\""
      ]
     },
     "metadata": {},
     "output_type": "display_data"
    },
    {
     "data": {
      "text/plain": [
       "\"Warn: dominant transfer matrix eigenvalue close to degenerate: 0.9999999999999974\""
      ]
     },
     "metadata": {},
     "output_type": "display_data"
    },
    {
     "data": {
      "text/plain": [
       "\"Warn: dominant transfer matrix eigenvalue close to degenerate: 0.9999999999999974\""
      ]
     },
     "metadata": {},
     "output_type": "display_data"
    },
    {
     "data": {
      "text/plain": [
       "\"Warn: dominant transfer matrix eigenvalue close to degenerate: 0.9999999999999998\""
      ]
     },
     "metadata": {},
     "output_type": "display_data"
    },
    {
     "data": {
      "text/plain": [
       "\"Warn: dominant transfer matrix eigenvalue close to degenerate: 0.9999999999999946\""
      ]
     },
     "metadata": {},
     "output_type": "display_data"
    },
    {
     "data": {
      "text/plain": [
       "\"Warn: dominant transfer matrix eigenvalue close to degenerate: 0.9999999999999987\""
      ]
     },
     "metadata": {},
     "output_type": "display_data"
    },
    {
     "data": {
      "text/plain": [
       "\"Warn: dominant transfer matrix eigenvalue close to degenerate: 0.9999999999999998\""
      ]
     },
     "metadata": {},
     "output_type": "display_data"
    },
    {
     "data": {
      "text/plain": [
       "\"Warn: dominant transfer matrix eigenvalue close to degenerate: 0.999999999999996\""
      ]
     },
     "metadata": {},
     "output_type": "display_data"
    },
    {
     "data": {
      "text/plain": [
       "\"Warn: dominant transfer matrix eigenvalue close to degenerate: 0.9999999999999951\""
      ]
     },
     "metadata": {},
     "output_type": "display_data"
    },
    {
     "data": {
      "text/plain": [
       "\"Warn: dominant transfer matrix eigenvalue close to degenerate: 0.9999999999999999\""
      ]
     },
     "metadata": {},
     "output_type": "display_data"
    },
    {
     "name": "stdout",
     "output_type": "stream",
     "text": [
      " 16.707490 seconds (33.74 M allocations: 1.761 GiB, 3.74% gc time, 97.00% compilation time)\n",
      "E=0.059438809662361355 - 0.0005345805866136211im, ov=0.25035856230108533\n",
      "  1.304328 seconds (3.28 M allocations: 222.611 MiB, 66.50% compilation time)\n",
      "E=0.060114874725802306 - 0.0005323061662811567im, ov=0.9889234156747395\n",
      "  0.694381 seconds (1.12 M allocations: 98.177 MiB, 21.18% gc time)\n",
      "E=0.060129981921004515 - 0.0005400987623794198im, ov=0.9995942721894905\n",
      "  0.459087 seconds (1.12 M allocations: 98.079 MiB)\n",
      "E=0.06015572933259057 - 0.0005422451224794081im, ov=0.9999152144489891\n",
      "  0.473765 seconds (1.12 M allocations: 98.079 MiB)\n",
      "E=0.0601839419447953 - 0.0005430484130951109im, ov=0.9999410566922141\n",
      "  0.490016 seconds (1.12 M allocations: 98.079 MiB)\n",
      "E=0.06020764288238094 - 0.0005434792240394154im, ov=0.9999586303487994\n",
      "  1.179700 seconds (1.46 M allocations: 123.100 MiB, 12.03% gc time, 40.00% compilation time)\n",
      "E=0.0005437603831509817 + 0.06022638261643251im, ov=0.999972116955751\n",
      "  0.498785 seconds (1.12 M allocations: 98.079 MiB)\n",
      "E=0.0005439607249941217 + 0.06024116996919241im, ov=0.9999811285719438\n",
      "  0.701474 seconds (1.28 M allocations: 107.542 MiB, 18.35% compilation time)\n",
      "E=0.060253009410160055 - 0.0005441088551862929im, ov=0.9999869385797867\n",
      "  0.473437 seconds (1.12 M allocations: 98.079 MiB)\n",
      "E=0.0005442196078869325 + 0.060262657527273555im, ov=0.9999907177227054\n",
      "  0.579199 seconds (1.31 M allocations: 115.736 MiB)\n",
      "E=0.0602706517947858 - 0.0005443019061964053im, ov=0.9999932333904523\n",
      "  0.562646 seconds (1.12 M allocations: 98.025 MiB)\n",
      "E=0.0005443616482210822 + 0.06027737303776663im, ov=0.999994951275657\n",
      "  0.464243 seconds (1.12 M allocations: 97.812 MiB)\n",
      "E=0.06028309513755406 - 0.0005444029980064371im, ov=0.9999961525925513\n",
      "  0.487202 seconds (1.12 M allocations: 98.079 MiB)\n",
      "E=0.06028801897171577 - 0.0005444290210348556im, ov=0.9999970103891184\n",
      "  0.457164 seconds (1.12 M allocations: 98.025 MiB)\n",
      "E=0.060292294814580365 - 0.0005444420476016217im, ov=0.9999976339361376\n",
      "  0.793973 seconds (1.12 M allocations: 98.079 MiB, 38.52% gc time)\n",
      "E=0.06029603718595471 - 0.0005444438980824089im, ov=0.9999980940922285\n",
      "  0.509434 seconds (1.12 M allocations: 98.025 MiB)\n",
      "E=0.0005444360204339585 + 0.060299334820739896im, ov=0.9999984379641882\n",
      "  0.587943 seconds (1.16 M allocations: 101.157 MiB)\n",
      "E=0.0005444195884383091 + 0.06030225751407493im, ov=0.9999986975864058\n",
      "  0.531511 seconds (1.16 M allocations: 101.157 MiB)\n",
      "E=0.0005443955662795627 + 0.06030486091208217im, ov=0.9999988951957559\n",
      "  1.189106 seconds (1.12 M allocations: 98.079 MiB, 49.00% gc time)\n",
      "E=0.060307189912520695 - 0.0005443647586415575im, ov=0.999999046516947\n",
      "  0.488664 seconds (1.16 M allocations: 101.157 MiB)\n",
      "E=0.060309281148850036 - 0.00054432784215245im, ov=0.9999991628546361\n",
      "  0.554970 seconds (1.31 M allocations: 115.736 MiB)\n",
      "E=0.0005442853980968152 + 0.06031116481594295im, ov=0.9999992524596083\n",
      "  0.574651 seconds (1.36 M allocations: 118.815 MiB)\n",
      "E=0.060312866022433874 - 0.0005442379251168179im, ov=0.9999993214473005\n",
      "  0.626585 seconds (1.16 M allocations: 101.157 MiB)\n",
      "E=0.060314405832393676 - 0.0005441858592711564im, ov=0.9999993743991876\n",
      "  0.548087 seconds (1.16 M allocations: 101.037 MiB)\n",
      "E=0.0005441295836060488 + 0.06031580205418412im, ov=0.999999414794086\n",
      "  0.545383 seconds (1.12 M allocations: 98.079 MiB, 4.76% gc time)\n",
      "E=0.060317069855414795 - 0.0005440694398985546im, ov=0.9999994453035084\n",
      "  0.568902 seconds (1.16 M allocations: 101.157 MiB, 4.82% gc time)\n",
      "E=0.060318222242546723 - 0.0005440057327928935im, ov=0.999999467997432\n",
      "  0.500682 seconds (1.12 M allocations: 98.079 MiB, 4.23% gc time)\n",
      "E=0.06031927044675772 - 0.0005439387400296121im, ov=0.9999994844978011\n",
      "  0.642248 seconds (1.12 M allocations: 98.079 MiB, 4.48% gc time)\n",
      "E=0.060320224220037987 - 0.0005438687126409861im, ov=0.9999994960877338\n",
      "  0.604694 seconds (1.12 M allocations: 98.079 MiB, 4.43% gc time)\n",
      "E=0.0005437958843616925 + 0.06032109208642504im, ov=0.9999995037912411\n",
      "  0.548572 seconds (1.12 M allocations: 98.079 MiB)\n",
      "E=0.0005437204681771733 + 0.060321881536049435im, ov=0.999999508425384\n",
      "  0.518505 seconds (1.12 M allocations: 98.079 MiB)\n",
      "E=0.000543642665765398 + 0.06032259919290408im, ov=0.9999995106643152\n",
      "  0.605773 seconds (1.12 M allocations: 98.079 MiB)\n",
      "E=0.0005435626652063708 + 0.06032325093901217im, ov=0.9999995110470377\n",
      "  0.633606 seconds (1.12 M allocations: 97.959 MiB, 3.75% gc time)\n",
      "E=0.06032384203002282 - 0.0005434806459013714im, ov=0.9999995100216521\n",
      "  0.553954 seconds (1.12 M allocations: 98.079 MiB, 4.87% gc time)\n",
      "E=0.0005433967741966608 + 0.06032437718367419im, ov=0.9999995079579029\n",
      "  0.607114 seconds (1.16 M allocations: 101.157 MiB, 3.87% gc time)\n",
      "E=0.0005433112143284869 + 0.06032486065581264im, ov=0.9999995051646031\n",
      "  0.642676 seconds (1.12 M allocations: 97.905 MiB, 3.56% gc time)\n",
      "E=0.0005432241179295811 + 0.06032529630804729im, ov=0.999999501894717\n",
      "  0.713090 seconds (1.16 M allocations: 100.678 MiB, 5.04% gc time)\n",
      "E=0.0005431356357249889 + 0.06032568765628229im, ov=0.9999994983676158\n",
      "  0.784651 seconds (1.36 M allocations: 118.815 MiB, 3.85% gc time)\n",
      "E=0.060326037918899615 - 0.0005430459128023854im, ov=0.9999994947561479\n",
      "  0.562985 seconds (1.12 M allocations: 98.025 MiB)\n",
      "E=0.000542955086360017 + 0.06032635005150803im, ov=0.9999994912171495\n"
     ]
    }
   ],
   "source": [
    "W=10;\n",
    "\n",
    "\n",
    "mps_virtual=SU₂Space(0=>1,1/2=>5);mps_phy=space(O1,2);\n",
    "A_init=permute(TensorMap(randn, mps_virtual*mps_virtual', mps_phy),(1,2,3,),());\n",
    "\n",
    "#Ag,A_init=ITEBD_boundary_groundstate(O1,O2,W,A_init,\"OO\");\n",
    "Ag,A_init=ITEBD_boundary_groundstate(O1,O2,W,A_init,\"O_O\",unitcell_size);\n",
    "\n",
    "\n",
    "#save itebd data\n",
    "O1_dict=convert(Dict,O1);\n",
    "O2_dict=convert(Dict,O2);\n",
    "Ag_dict=convert(Dict,Ag);\n",
    "jld_filenm=\"itebd_ground_D\"*string(D)*\"_chi\"*string(chi)*\"_W\"*string(W)*\".jld\";\n",
    "save(jld_filenm, \"O1_dict\", O1_dict,\"O2_dict\", O2_dict,\"Ag_dict\", Ag_dict);\n",
    "\n",
    "#save initial CTM to compare with other codes\n",
    "ES_filenm=\"Ag_mpo_tensors_D\"*string(D)*\"_chi\"*string(chi)*\"_W\"*string(W)*\".mat\";\n",
    "matwrite(ES_filenm, Dict(\n",
    "    \"Ag\" => convert(Array,Ag),\n",
    "    \"O1\" => convert(Array,O1),\n",
    "    \"O2\" => convert(Array,O2),\n",
    "    \"C1\" => convert(Array,CTM[\"Cset\"][1]),\n",
    "    \"C2\" => convert(Array,CTM[\"Cset\"][2]),\n",
    "    \"C3\" => convert(Array,CTM[\"Cset\"][3]),\n",
    "    \"C4\" => convert(Array,CTM[\"Cset\"][4]),\n",
    "    \"T1\" => convert(Array,CTM[\"Tset\"][1]),\n",
    "    \"T2\" => convert(Array,CTM[\"Tset\"][2]),\n",
    "    \"T3\" => convert(Array,CTM[\"Tset\"][3]),\n",
    "    \"T4\" => convert(Array,CTM[\"Tset\"][4])\n",
    "); compress = false)\n",
    "\n"
   ]
  },
  {
   "cell_type": "code",
   "execution_count": null,
   "metadata": {},
   "outputs": [],
   "source": [
    "# Ag_,A_init_=ITEBD_boundary_groundstate(O2,O1,W,A_init,\"OO\");\n",
    "\n",
    "# ES_filenm=\"Ag_mpo_tensors_D\"*string(D)*\"_chi\"*string(chi)*\"_W\"*string(W)*\".mat\";\n",
    "# matwrite(ES_filenm, Dict(\n",
    "#     \"Ag\" => convert(Array,Ag),\n",
    "#     \"Ag_\" => convert(Array,Ag_),\n",
    "#     \"O1\" => convert(Array,O1),\n",
    "#     \"O2\" => convert(Array,O2),\n",
    "#     \"C1\" => convert(Array,CTM[\"Cset\"][1]),\n",
    "#     \"C2\" => convert(Array,CTM[\"Cset\"][2]),\n",
    "#     \"C3\" => convert(Array,CTM[\"Cset\"][3]),\n",
    "#     \"C4\" => convert(Array,CTM[\"Cset\"][4]),\n",
    "#     \"T1\" => convert(Array,CTM[\"Tset\"][1]),\n",
    "#     \"T2\" => convert(Array,CTM[\"Tset\"][2]),\n",
    "#     \"T3\" => convert(Array,CTM[\"Tset\"][3]),\n",
    "#     \"T4\" => convert(Array,CTM[\"Tset\"][4])\n",
    "# ); compress = false)"
   ]
  },
  {
   "cell_type": "code",
   "execution_count": null,
   "metadata": {},
   "outputs": [],
   "source": [
    "\n",
    "    space_AOA=fuse(space(Ag,1)'⊗space(O2,1)'⊗space(O1,1)⊗ space(Ag,1));\n",
    "    space_AA=fuse(space(Ag,1)'⊗ space(Ag,1));\n",
    "    \n",
    "    AOA_sec=collect(sectors(space_AOA))\n",
    "    AA_sec=collect(sectors(space_AA))\n",
    "    \n",
    "    @tensor OO[:]:=O1[-2,-3,-5,1]*O2[-1,1,-4,-6];\n",
    "    U_fuse_chichi=unitary(fuse(space(OO,1)⊗ space(OO,2)),space(OO,1)⊗ space(OO,2));\n",
    "    @tensor OO[:]:=U_fuse_chichi[-1,1,2]*OO[1,2,-2,3,4,-4]*U_fuse_chichi'[3,4,-3];\n",
    "    \n",
    "    \n",
    "    \n",
    "    \n",
    "    #normalize the MPO\n",
    "    euL_set,_,_,_,_=FLR_eig(Ag,OO,20,space_AOA,AOA_sec);\n",
    "    norm_coe=maximum(abs.(group_numbers(euL_set)));\n",
    "    OO=OO/norm_coe;\n",
    "    O1=O1/norm_coe;\n",
    "    \n",
    "    \n",
    "    \n",
    "    \n",
    "    \n",
    "    euR_set,evL_set,evR_set,SPIN_eig_set=TransfOp_decom(Ag,OO,space_AOA,AOA_sec,pow,Dtrun_init,Dtrun_max,trun_tol,\"eigenvalue_FLR\");\n",
    "    # println(euR_set)\n",
    "    \n",
    "    eur_set,evl_set,evr_set,spin_eig_set=TransfOp_decom(Ag,OO,space_AA,AA_sec,pow,Dtrun_init,Dtrun_max,trun_tol,\"eigenvalue_GLR\");\n",
    "    # println(eur_set)\n",
    "    \n",
    "    S_set,U_set,Vh_set,SPIN_svd_set=TransfOp_decom(Ag,OO,space_AOA,AOA_sec,pow,Dtrun_init,Dtrun_max,trun_tol,\"svd_FLR\");\n",
    "    # println(S_set)\n",
    "    \n",
    "    s_set,u_set,vh_set,spin_svd_set=TransfOp_decom(Ag,OO,space_AA,AA_sec,pow,Dtrun_init,Dtrun_max,trun_tol,\"svd_GLR\");\n",
    "    # println(s_set)\n",
    "    \n",
    "    \n",
    "    check_truncated_decomp_error=false;\n",
    "    \n",
    "    if mpo_type==\"O_O\"\n",
    "        OO_transform=true;\n",
    "    elseif mpo_type==\"OO\"\n",
    "        OO_transform=false;\n",
    "    end\n",
    "    \n",
    "    euR_set_combined,evL_set_combined,evR_set_combined,SPIN_eig_set_combined=combine_singlespin_sector(euR_set,evL_set,evR_set,SPIN_eig_set,true);\n",
    "    euR_set_grouped,evL_set_grouped,evR_set_grouped,SPIN_eig_set_grouped,DTrun_FLR_eig=group_singlespin_sector(group_size,euR_set_combined,evL_set_combined,evR_set_combined,SPIN_eig_set_combined,OO_transform,U_fuse_chichi)\n",
    "    println(\"group information:\");flush(stdout);\n",
    "    println(DTrun_FLR_eig);flush(stdout);\n",
    "    \n",
    "    eur_set_combined,evl_set_combined,evr_set_combined,spin_eig_set_combined=combine_singlespin_sector(eur_set,evl_set,evr_set,spin_eig_set,true)\n",
    "    eur_set_grouped,evl_set_grouped,evr_set_grouped,spin_eig_set_grouped,Dtrun_GLR_eig=group_singlespin_sector(group_size,eur_set_combined,evl_set_combined,evr_set_combined,spin_eig_set_combined,false,[])\n",
    "    println(\"group information:\");flush(stdout);\n",
    "    println(Dtrun_GLR_eig);flush(stdout);\n",
    "    \n",
    "    \n",
    "    S_set_combined,Vh_set_combined,U_set_combined,SPIN_svd_set_combined=combine_singlespin_sector(S_set,Vh_set,U_set,SPIN_svd_set,false)\n",
    "    S_set_grouped,Vh_set_grouped,U_set_grouped,SPIN_svd_set_grouped,DTrun_FLR_svd=group_singlespin_sector(group_size,S_set_combined,Vh_set_combined,U_set_combined,SPIN_svd_set_combined,OO_transform,U_fuse_chichi)\n",
    "    println(\"group information:\");flush(stdout);\n",
    "    println(DTrun_FLR_svd);flush(stdout);\n",
    "    \n",
    "    s_set_combined,vh_set_combined,u_set_combined,spin_svd_set_combined=combine_singlespin_sector(s_set,vh_set,u_set,spin_svd_set,false)\n",
    "    s_set_grouped,vh_set_grouped,u_set_grouped,spin_svd_set_grouped,Dtrun_GLR_svd=group_singlespin_sector(group_size,s_set_combined,vh_set_combined,u_set_combined,spin_svd_set_combined,false,[])\n",
    "    println(\"group information:\");flush(stdout);\n",
    "    println(Dtrun_GLR_svd);flush(stdout);\n",
    "    \n",
    "    \n",
    "    \n",
    "    \n",
    "    ES_sectors=[0,1/2,1,3/2,2,5/2];\n",
    "    \n",
    "    #kset=0:0\n",
    "    Eset=[];\n",
    "    Trun_err=0;\n",
    "    DTrun=0;\n",
    "    println(\"calculate ES for N=\"*string(N));\n",
    "    println(\"kset=\"*string(kset));flush(stdout);\n",
    "    pow=round((N-2)/2);\n",
    "    \n",
    "    \n",
    "    \n",
    "    if Dtrun_method==\"eigs\"\n",
    "        DTrun=length(group_numbers(SPIN_eig_set));\n",
    "        println(\"DTrun=\"*string(DTrun));\n",
    "    \n",
    "        euRs=abs.(group_numbers(euR_set));\n",
    "        Trun_err=(minimum(euRs)/maximum(euRs))^pow;\n",
    "    \n",
    "    \n",
    "        euR_pow=deepcopy(euR_set_grouped);\n",
    "        for ca=1:length(euR_pow)\n",
    "            for cb=1:length(euR_pow[ca])\n",
    "                euR_pow[ca][cb]=euR_pow[ca][cb]^Int(pow);\n",
    "            end\n",
    "        end\n",
    "    \n",
    "        kset,Eset=solve_ITEBD_excitation_TrunTransOp_iterative(Ag,O1,O2,OO,EH_n,N,kset,ES_sectors,pow,evR_set_grouped,euR_pow,evL_set_grouped,SPIN_eig_set_grouped,DTrun_FLR_eig,mpo_type,multi_threads)\n",
    "    \n",
    "    elseif Dtrun_method==\"svds\"\n",
    "        DTrun=length(group_numbers(SPIN_svd_set));\n",
    "        println(\"DTrun=\"*string(DTrun));\n",
    "    \n",
    "        Ss=abs.(group_numbers(S_set));\n",
    "        Trun_err=(minimum(Ss)/maximum(Ss));\n",
    "    \n",
    "        kset,Eset=solve_ITEBD_excitation_TrunTransOp_iterative(Ag,O1,O2,OO,EH_n,N,kset,ES_sectors,pow,U_set_grouped,S_set_grouped,Vh_set_grouped,SPIN_svd_set_grouped,DTrun_FLR_svd,mpo_type,multi_threads)\n",
    "    end\n",
    "    \n",
    "    ES_filenm=\"ES_\"*Dtrun_method*\"_D\"*string(D)*\"_chi\"*string(chi)*\"_W\"*string(W)*\"_N\"*string(N)*\"_kset\"*string(kset[1])*\"to\"*string(kset[end])*\".mat\";\n",
    "    matwrite(ES_filenm, Dict(\n",
    "        \"kset\" => convert(Vector,kset),\n",
    "        \"ES_sectors\" => ES_sectors,\n",
    "        \"Eset\" => Eset,\n",
    "        \"Trun_err\"=>Trun_err,\n",
    "        \"DTrun\"=>DTrun\n",
    "    ); compress = false)\n",
    "    "
   ]
  },
  {
   "cell_type": "code",
   "execution_count": null,
   "metadata": {},
   "outputs": [],
   "source": []
  }
 ],
 "metadata": {
  "kernelspec": {
   "display_name": "Julia 1.7.2",
   "language": "julia",
   "name": "julia-1.7"
  },
  "language_info": {
   "file_extension": ".jl",
   "mimetype": "application/julia",
   "name": "julia",
   "version": "1.7.2"
  },
  "orig_nbformat": 4
 },
 "nbformat": 4,
 "nbformat_minor": 2
}
