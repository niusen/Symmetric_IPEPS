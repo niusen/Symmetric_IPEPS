{
 "cells": [
  {
   "cell_type": "code",
   "execution_count": 1,
   "metadata": {},
   "outputs": [],
   "source": [
    "using LinearAlgebra\n",
    "using TensorKit\n",
    "using KrylovKit\n",
    "using JSON\n",
    "using HDF5, JLD\n",
    "cd(\"D:\\\\My Documents\\\\Code\\\\Julia_codes\\\\Tensor network\\\\IPEPS_TensorKit\\\\kagome\\\\SU2_PG\")\n",
    "#push!(LOAD_PATH, \"D:\\\\My Documents\\\\Code\\\\Julia_codes\\\\Tensor network\\\\IPEPS_TensorKit\\\\kagome\\\\SU2_PG\")\n",
    "include(\"kagome_load_tensor.jl\")\n",
    "include(\"kagome_CTMRG.jl\")\n",
    "include(\"kagome_model.jl\")\n",
    "include(\"kagome_IPESS.jl\")\n",
    "\n",
    "\n",
    "\n",
    "D=8;\n",
    "chi=40;\n",
    "\n",
    "\n",
    "\n",
    "J1=0.80902;\n",
    "J2=0;\n",
    "J3=0;\n",
    "Jchi=0;\n",
    "Jtrip=0.5878;\n",
    "\n",
    "parameters=Dict([(\"J1\", J1), (\"J2\", J2), (\"J3\", J3), (\"Jchi\", Jchi), (\"Jtrip\", Jtrip)]);\n"
   ]
  },
  {
   "cell_type": "code",
   "execution_count": 2,
   "metadata": {},
   "outputs": [
    {
     "data": {
      "text/plain": [
       "read_json_state (generic function with 1 method)"
      ]
     },
     "metadata": {},
     "output_type": "display_data"
    }
   ],
   "source": [
    "function read_json_state(filenm)\n",
    "    json_dict = Dict()\n",
    "    open(filenm, \"r\") do f\n",
    "        json_dict\n",
    "        dicttxt = read(f,String)  # file information to string\n",
    "        json_dict=JSON.parse(dicttxt)  # parse and transform data\n",
    "    end\n",
    "    return json_dict\n",
    "end\n",
    "\n"
   ]
  },
  {
   "cell_type": "code",
   "execution_count": 3,
   "metadata": {},
   "outputs": [
    {
     "data": {
      "text/plain": [
       "create_coe_dict (generic function with 1 method)"
      ]
     },
     "metadata": {},
     "output_type": "display_data"
    }
   ],
   "source": [
    "function wrap_json_state(Bond_irrep,Bond_A_coe,Bond_B_coe,Triangle_A1_coe,Triangle_A2_coe)\n",
    "    if Bond_irrep==\"A\"\n",
    "        coes=Dict([(\"Bond_A_coe\", create_coe_dict(Bond_A_coe)), (\"Triangle_A1_coe\", create_coe_dict(Triangle_A1_coe)),(\"Triangle_A2_coe\", create_coe_dict(Triangle_A2_coe))]);\n",
    "    elseif Bond_irrep==\"B\"\n",
    "        coes=Dict([(\"Bond_B_coe\", create_coe_dict(Bond_B_coe)), (\"Triangle_A1_coe\", create_coe_dict(Triangle_A1_coe)),(\"Triangle_A2_coe\", create_coe_dict(Triangle_A2_coe))]);\n",
    "    elseif Bond_irrep==\"A+iB\"\n",
    "        coes=Dict([(\"Bond_A_coe\", create_coe_dict(Bond_A_coe)), (\"Bond_B_coe\", create_coe_dict(Bond_B_coe)), (\"Triangle_A1_coe\", create_coe_dict(Triangle_A1_coe)),(\"Triangle_A2_coe\", create_coe_dict(Triangle_A2_coe))]);\n",
    "    end\n",
    "    json_state=Dict([(\"coes\" , coes), (\"Bond_irrep\", Bond_irrep)]);\n",
    "    return json_state\n",
    "end\n",
    "function create_coe_dict(coe)\n",
    "    #print(coe)\n",
    "    entries=Vector(undef,length(coe));\n",
    "    for cc=1:length(coe)\n",
    "        entries[cc]=string(cc-1)*\" \"*string(coe[cc]);\n",
    "    end\n",
    "    dims=Vector(undef,1);\n",
    "    dims[1]=length(coe);\n",
    "\n",
    "    coe_dict=Dict([(\"dtype\", \"float64\"), (\"numEntries\", length(coe)),(\"entries\", entries), (\"dims\", dims)]);\n",
    "    return coe_dict\n",
    "end"
   ]
  },
  {
   "cell_type": "code",
   "execution_count": 4,
   "metadata": {},
   "outputs": [
    {
     "data": {
      "text/plain": [
       "initial_state (generic function with 2 methods)"
      ]
     },
     "metadata": {},
     "output_type": "display_data"
    }
   ],
   "source": [
    "function initial_state(Bond_irrep,D,init_statenm=nothing)\n",
    "    if init_statenm==nothing \n",
    "        println(\"Random initial state\");flush(stdout);\n",
    "        A_set,B_set,A1_set,A2_set, _,_,_,_, _, _, _, _, _=construct_tensor(D);\n",
    "        if Bond_irrep==\"A\"\n",
    "            Bond_A_coe=randn(Float64, length(A_set));\n",
    "            Bond_B_coe=[];\n",
    "        elseif Bond_irrep==\"B\"\n",
    "            Bond_A_coe=[];\n",
    "            Bond_B_coe=randn(Float64, length(B_set));\n",
    "        elseif Bond_irrep==\"A+iB\"\n",
    "            Bond_A_coe=randn(Float64, length(A_set));\n",
    "            Bond_B_coe=randn(Float64, length(B_set));\n",
    "        end\n",
    "        Triangle_A1_coe=randn(Float64, length(A1_set));\n",
    "        Triangle_A2_coe=randn(Float64, length(A2_set));\n",
    "        \n",
    "        json_state_dict=wrap_json_state(Bond_irrep, Bond_A_coe, Bond_B_coe, Triangle_A1_coe, Triangle_A2_coe)\n",
    "    else\n",
    "        println(\"load state: \"*init_statenm);flush(stdout);\n",
    "        json_state_dict=read_json_state(init_statenm);\n",
    "        Bond_irrep_, Bond_A_coe, Bond_B_coe, Triangle_A1_coe, Triangle_A2_coe=get_tensor_coes(json_dict)\n",
    "        @assert Bond_irrep_==Bond_irrep\n",
    "    end\n",
    "    return json_state_dict, Bond_A_coe, Bond_B_coe, Triangle_A1_coe, Triangle_A2_coe\n",
    "\n",
    "end\n"
   ]
  },
  {
   "cell_type": "code",
   "execution_count": 5,
   "metadata": {},
   "outputs": [
    {
     "data": {
      "text/plain": [
       "energy_CTM (generic function with 1 method)"
      ]
     },
     "metadata": {},
     "output_type": "display_data"
    }
   ],
   "source": [
    "function energy_CTM(D,chi,parameters, CTM_conv_tol,CTM_ite_nums,CTM_trun_tol,state_dict)\n",
    "\n",
    "    A_set,B_set,A1_set,A2_set, A_set_occu,B_set_occu,A1_set_occu,A2_set_occu, S_label, Sz_label, virtual_particle, Va, Vb=construct_tensor(D);\n",
    "    \n",
    "    bond_tensor,triangle_tensor=construct_su2_PG_IPESS(state_dict,A_set,B_set,A1_set,A2_set, A_set_occu,B_set_occu,A1_set_occu,A2_set_occu, S_label, Sz_label, virtual_particle, Va, Vb);\n",
    "    \n",
    "    PEPS_tensor=bond_tensor;\n",
    "    @tensor PEPS_tensor[:] := bond_tensor[-1,1,-5]*bond_tensor[4,3,-6]*bond_tensor[-4,2,-7]*triangle_tensor[1,3,2]*triangle_tensor[4,-2,-3];\n",
    "    A_unfused=PEPS_tensor;\n",
    "    \n",
    "    U_phy=unitary(fuse(space(PEPS_tensor, 5) ⊗ space(PEPS_tensor, 6) ⊗ space(PEPS_tensor, 7)), space(PEPS_tensor, 5) ⊗ space(PEPS_tensor, 6) ⊗ space(PEPS_tensor, 7));\n",
    "    @tensor A_fused[:] :=PEPS_tensor[-1,-2,-3,-4,1,2,3]*U_phy[-5,1,2,3];\n",
    "\n",
    "    CTM=[];\n",
    "    U_L=[];\n",
    "    U_D=[];\n",
    "    U_R=[];\n",
    "    U_U=[];\n",
    "\n",
    "    init=Dict([(\"CTM\", []), (\"init_type\", \"PBC\")]);\n",
    "    conv_check=\"singular_value\";\n",
    "    CTM_ite_info=false;\n",
    "    CTM, AA_fused, U_L,U_D,U_R,U_U=CTMRG(A_fused,chi,conv_check,CTM_conv_tol,init,CTM_ite_nums,CTM_trun_tol,CTM_ite_info);\n",
    "    \n",
    "    E_up, E_down=evaluate_ob(parameters, U_phy, A_unfused, A_fused, AA_fused, U_L,U_D,U_R,U_U, CTM, \"E_triangle\");\n",
    "    #E_up_12, E_up_31, E_up_23, E_down_12, E_down_31, E_down_23=evaluate_ob(parameters, U_phy, A_unfused, A_fused, AA_fused, U_L,U_D,U_R,U_U, CTM, \"E_bond\");\n",
    "    energy=(E_up+E_down)/3;\n",
    "\n",
    "    #return energy,CTM,U_L,U_D,U_R,U_U\n",
    "    return energy\n",
    "end\n",
    "\n"
   ]
  },
  {
   "cell_type": "code",
   "execution_count": 6,
   "metadata": {},
   "outputs": [
    {
     "data": {
      "text/plain": [
       "get_vector (generic function with 1 method)"
      ]
     },
     "metadata": {},
     "output_type": "display_data"
    }
   ],
   "source": [
    "function get_vector(json_dict)\n",
    "    Bond_irrep, Bond_A_coe, Bond_B_coe, Triangle_A1_coe, Triangle_A2_coe=get_tensor_coes(json_dict);\n",
    "    if Bond_irrep==\"A\"\n",
    "        vec=vcat(Bond_A_coe,Triangle_A1_coe,Triangle_A2_coe);\n",
    "    elseif Bond_irrep==\"B\"\n",
    "        vec=vcat(Bond_B_coe,Triangle_A1_coe,Triangle_A2_coe);\n",
    "    elseif Bond_irrep==\"A+iB\"\n",
    "        vec=vcat(Bond_A_coe,Bond_B_coe,Triangle_A1_coe,Triangle_A2_coe);\n",
    "    end\n",
    "    return vec\n",
    "end\n"
   ]
  },
  {
   "cell_type": "code",
   "execution_count": 7,
   "metadata": {},
   "outputs": [
    {
     "data": {
      "text/plain": [
       "set_vector (generic function with 1 method)"
      ]
     },
     "metadata": {},
     "output_type": "display_data"
    }
   ],
   "source": [
    "function set_vector(json_dict, vec)\n",
    "    Bond_irrep, Bond_A_coes0, Bond_B_coes0, Triangle_A1_coes0, Triangle_A2_coes0=get_tensor_coes(json_dict);\n",
    "    if Bond_irrep==\"A\"\n",
    "        siz=length(Bond_A_coes0)\n",
    "        Bond_A_coe=vec[1:siz]\n",
    "        vec=vec[siz+1:length(vec)]\n",
    "        siz=length(Triangle_A1_coes0)\n",
    "        Triangle_A1_coe=vec[1:siz]\n",
    "        vec=vec[siz+1:length(vec)]\n",
    "        siz=length(Triangle_A2_coes0)\n",
    "        Triangle_A2_coe=vec[1:siz]\n",
    "\n",
    "        Bond_B_coe=nothing;\n",
    "    elseif Bond_irrep==\"B\"\n",
    "        siz=length(Bond_B_coes0)\n",
    "        Bond_B_coe=vec[1:siz]\n",
    "        vec=vec[siz+1:length(vec)]\n",
    "        siz=length(Triangle_A1_coes0)\n",
    "        Triangle_A1_coe=vec[1:siz]\n",
    "        vec=vec[siz+1:length(vec)]\n",
    "        siz=length(Triangle_A2_coes0)\n",
    "        Triangle_A2_coe=vec[1:siz]\n",
    "\n",
    "        Bond_A_coe=nothing;\n",
    "    elseif Bond_irrep==\"A+iB\"\n",
    "        siz=length(Bond_A_coes0)\n",
    "        Bond_A_coe=vec[1:siz]\n",
    "        vec=vec[siz+1:length(vec)]\n",
    "        siz=length(Bond_B_coes0)\n",
    "        Bond_B_coe=vec[1:siz]\n",
    "        vec=vec[siz+1:length(vec)]\n",
    "        siz=length(Triangle_A1_coes0)\n",
    "        Triangle_A1_coe=vec[1:siz]\n",
    "        vec=vec[siz+1:length(vec)]\n",
    "        siz=length(Triangle_A2_coes0)\n",
    "        Triangle_A2_coe=vec[1:siz]\n",
    "\n",
    "    end\n",
    "    json_dict_new=wrap_json_state(Bond_irrep, Bond_A_coe, Bond_B_coe, Triangle_A1_coe, Triangle_A2_coe)\n",
    "    #return Bond_irrep, Bond_A_coe, Bond_B_coe, Triangle_A1_coe, Triangle_A2_coe\n",
    "    return json_dict_new\n",
    "end"
   ]
  },
  {
   "cell_type": "code",
   "execution_count": 8,
   "metadata": {},
   "outputs": [
    {
     "data": {
      "text/plain": [
       "normalize_IPESS_SU2_PG (generic function with 1 method)"
      ]
     },
     "metadata": {},
     "output_type": "display_data"
    }
   ],
   "source": [
    "\n",
    "\n",
    "function normalize_IPESS_SU2_PG(state_dict)\n",
    "    Bond_irrep, Bond_A_coe, Bond_B_coe, Triangle_A1_coe, Triangle_A2_coe=get_tensor_coes(state_dict)\n",
    "    if Bond_irrep==\"A\"\n",
    "        Bond_norm=norm(Bond_A_coe)\n",
    "        Bond_A_coe=Bond_A_coe/Bond_norm\n",
    "    elseif Bond_irrep==\"B\"\n",
    "        Bond_norm=norm(Bond_B_coe)\n",
    "        Bond_B_coe=Bond_B_coe/Bond_norm\n",
    "    elseif state.Bond_irrep==\"A+iB\"\n",
    "        Bond_norm=sqrt(norm(Bond_A_coe)^2+norm(Bond_B_coe)^2)\n",
    "        Bond_A_coe=Bond_A_coe/Bond_norm\n",
    "        Bond_B_coe=Bond_B_coe/Bond_norm\n",
    "    end\n",
    "    Triangle_norm=sqrt(norm(Triangle_A1_coe)^2+norm(Triangle_A2_coe)^2)\n",
    "    Triangle_A1_coe=Triangle_A1_coe/Triangle_norm\n",
    "    Triangle_A2_coe=Triangle_A2_coe/Triangle_norm\n",
    "\n",
    "    state_dict=wrap_json_state(Bond_irrep, Bond_A_coe, Bond_B_coe, Triangle_A1_coe, Triangle_A2_coe)\n",
    "    return state_dict\n",
    "end\n"
   ]
  },
  {
   "cell_type": "code",
   "execution_count": 9,
   "metadata": {},
   "outputs": [
    {
     "data": {
      "text/plain": [
       "Grad_FiniteDiff (generic function with 3 methods)"
      ]
     },
     "metadata": {},
     "output_type": "display_data"
    }
   ],
   "source": [
    "\n",
    "function Grad_FiniteDiff(state, D, chi, CTM_conv_tol,CTM_ite_nums,CTM_trun_tol, dt=0.001, E0=nothing)\n",
    "\n",
    "    state=normalize_IPESS_SU2_PG(state);\n",
    "    #print(E0);flush(stdout);\n",
    "\n",
    "    if E0==nothing\n",
    "        E0=real(energy_CTM(D,chi,parameters, CTM_conv_tol,CTM_ite_nums,CTM_trun_tol,state));\n",
    "    end\n",
    "    Bond_irrep, Bond_A_coe, Bond_B_coe, Triangle_A1_coe, Triangle_A2_coe=get_tensor_coes(state);\n",
    "\n",
    "    #println(\"energy E0 is \"*string(E0));flush(stdout);\n",
    "    \n",
    "    Bond_B_coe_tem=deepcopy(Bond_B_coe);\n",
    "    Triangle_A1_coe_tem=deepcopy(Triangle_A1_coe);\n",
    "    Triangle_A2_coe_tem=deepcopy(Triangle_A2_coe);\n",
    "\n",
    "    Grad_FD=Dict([(\"Bond_A_coe\", zeros(Float64, length(Bond_A_coe))), (\"Bond_B_coe\", zeros(Float64, length(Bond_B_coe))), (\"Triangle_A1_coe\", zeros(Float64, length(Triangle_A1_coe))),(\"Triangle_A2_coe\", zeros(Float64, length(Triangle_A2_coe)))]);\n",
    "    dE_data=[]\n",
    "    Grad_FD_data=[]\n",
    "\n",
    "    #Bond A tensor diff\n",
    "    if Bond_irrep in [\"A\",\"A+iB\"]\n",
    "        Bond_A_grad=zeros(Float64, length(Bond_A_coe))\n",
    "        for ct =1:length(Bond_A_coe)\n",
    "            Bond_A_coe_tem=deepcopy(Bond_A_coe);\n",
    "            Bond_A_coe_tem[ct]=Bond_A_coe_tem[ct]+dt;\n",
    "            state_tem=wrap_json_state(Bond_irrep, Bond_A_coe_tem, Bond_B_coe, Triangle_A1_coe, Triangle_A2_coe);\n",
    "            E=real(energy_CTM(D,chi,parameters, CTM_conv_tol,CTM_ite_nums,CTM_trun_tol,state_tem));\n",
    "            Bond_A_grad[ct]=(E-E0)/dt;\n",
    "            dE_data=vcat(dE_data, E-E0);\n",
    "            #print('energy is '+format(E));flush(stdout);\n",
    "        end\n",
    "        #print(Bond_A_grad);flush(stdout);\n",
    "        Grad_FD[\"Bond_A_grad\"]=Bond_A_grad;\n",
    "        Grad_FD_data=vcat(Grad_FD_data, Bond_A_grad);\n",
    "    end\n",
    "\n",
    "    #Bond B tensor diff\n",
    "    if Bond_irrep in [\"B\",\"A+iB\"]\n",
    "        Bond_B_grad=zeros(Float64, length(Bond_B_coe))\n",
    "        for ct=1:length(Bond_B_coe)\n",
    "            Bond_B_coe_tem=deepcopy(Bond_B_coe);\n",
    "            Bond_B_coe_tem[ct]=Bond_B_coe_tem[ct]+dt\n",
    "            state_tem=wrap_json_state(Bond_irrep, Bond_A_coe, Bond_B_coe_tem, Triangle_A1_coe, Triangle_A2_coe);\n",
    "            E=real(energy_CTM(D,chi,parameters, CTM_conv_tol,CTM_ite_nums,CTM_trun_tol,state_tem));\n",
    "            Bond_B_grad[ct]=(E-E0)/dt;\n",
    "            dE_data=vcat(dE_data, E-E0);\n",
    "            #print('energy is '+format(E));flush(stdout);\n",
    "        end\n",
    "        #print(Bond_B_grad);flush(stdout);\n",
    "        Grad_FD[\"Bond_B_grad\"]=Bond_B_grad;\n",
    "        Grad_FD_data=vcat(Grad_FD_data, Bond_B_grad);\n",
    "    end\n",
    "\n",
    "    #triangle A1 tensor diff\n",
    "    Triangle_A1_grad=zeros(Float64, length(Triangle_A1_coe))\n",
    "    for ct=1:length(Triangle_A1_coe)\n",
    "        Triangle_A1_coe_tem=deepcopy(Triangle_A1_coe);\n",
    "        Triangle_A1_coe_tem[ct]=Triangle_A1_coe_tem[ct]+dt\n",
    "        state_tem=wrap_json_state(Bond_irrep, Bond_A_coe, Bond_B_coe, Triangle_A1_coe_tem, Triangle_A2_coe);\n",
    "        E=real(energy_CTM(D,chi,parameters, CTM_conv_tol,CTM_ite_nums,CTM_trun_tol,state_tem));\n",
    "        Triangle_A1_grad[ct]=(E-E0)/dt;\n",
    "        dE_data=vcat(dE_data, E-E0);\n",
    "        #print('energy is '+format(E));flush(stdout);\n",
    "    end\n",
    "    #print(Triangle_A1_grad);flush(stdout);\n",
    "    Grad_FD[\"Triangle_A1_grad\"]=Triangle_A1_grad;\n",
    "    Grad_FD_data=vcat(Grad_FD_data, Triangle_A1_grad);\n",
    "\n",
    "    #triangle A2 tensor diff\n",
    "    Triangle_A2_grad=zeros(Float64, length(Triangle_A2_coe))\n",
    "    for ct=1:length(Triangle_A2_coe)\n",
    "        Triangle_A2_coe_tem=deepcopy(Triangle_A2_coe);\n",
    "        Triangle_A2_coe_tem[ct]=Triangle_A2_coe_tem[ct]+dt\n",
    "        state_tem=wrap_json_state(Bond_irrep, Bond_A_coe, Bond_B_coe, Triangle_A1_coe, Triangle_A2_coe_tem);\n",
    "        E=real(energy_CTM(D,chi,parameters, CTM_conv_tol,CTM_ite_nums,CTM_trun_tol,state_tem));\n",
    "        Triangle_A2_grad[ct]=(E-E0)/dt;\n",
    "        dE_data=vcat(dE_data, E-E0);\n",
    "        #print('energy is '+format(E))\n",
    "    end\n",
    "    #print(Triangle_A2_grad)\n",
    "    Grad_FD[\"Triangle_A2_grad\"]=Triangle_A2_grad;\n",
    "    Grad_FD_data=vcat(Grad_FD_data, Triangle_A2_grad);\n",
    "\n",
    "    # print(\"Energy difference is:\");flush(stdout);\n",
    "    # print(dE_data);flush(stdout);\n",
    "    # print(\"Grad is:\");flush(stdout);\n",
    "    # print(Grad_FD_data);flush(stdout);\n",
    "    # print(\"Normalized grad is:\");flush(stdout);\n",
    "    # print(Grad_FD_data/max(abs(Grad_FD_data)));flush(stdout);\n",
    "\n",
    "\n",
    "    return E0,Grad_FD,Grad_FD_data\n",
    "\n",
    "end\n"
   ]
  },
  {
   "cell_type": "code",
   "execution_count": 10,
   "metadata": {},
   "outputs": [
    {
     "data": {
      "text/plain": [
       "grad_line_search (generic function with 7 methods)"
      ]
     },
     "metadata": {},
     "output_type": "display_data"
    }
   ],
   "source": [
    "\n",
    "function grad_line_search(state, D, chi, CTM_conv_tol,CTM_ite_nums,CTM_trun_tol, dt, E0, grad0=None, direction0=None, alpha0=1, ls_ratio=1/3, ls_max=10,nonchiral=\"no\")\n",
    "    if nonchiral==\"no\"\n",
    "        filenm=\"julia_LS_D_\"*string(D)*\"_chi_\"*string(chi)*\".json\"\n",
    "    elseif nonchiral==\"A1_even\"\n",
    "        filenm=\"julia_LS_A1even_D_\"*string(D)*\"_chi_\"*string(chi)*\".json\"\n",
    "    elseif nonchiral==\"A1_odd\"\n",
    "        filenm=\"julia_LS_A1odd_D_\"*string(D)*\"_chi_\"*string(chi)*\".json\"\n",
    "    end\n",
    "\n",
    "    println(\"line search\");flush(stdout);\n",
    "    state=normalize_IPESS_SU2_PG(state)\n",
    "\n",
    "    _,_,grad=Grad_FiniteDiff(state, D, chi, CTM_conv_tol,CTM_ite_nums,CTM_trun_tol, dt, E0)\n",
    "    \n",
    "    println(\"state: \"*string(get_vector(state)));flush(stdout);\n",
    "    println(\"grad: \"*string(grad));flush(stdout);\n",
    "\n",
    "    E0=real(energy_CTM(D,chi,parameters, CTM_conv_tol,CTM_ite_nums,CTM_trun_tol,state));\n",
    "    Bond_irrep, Bond_A_coe, Bond_B_coe, Triangle_A1_coe, Triangle_A2_coe=get_tensor_coes(state)\n",
    "\n",
    "    println(\"E0= \"*string(E0));flush(stdout);\n",
    "\n",
    "    direction=-grad\n",
    "    #print(grad0);flush(stdout);\n",
    "    #print(grad);flush(stdout);\n",
    "    if grad0==nothing\n",
    "        direction=-grad;\n",
    "    else\n",
    "        norm_grad=norm(grad)\n",
    "        norm_grad0=norm(grad0)\n",
    "        beta=(norm_grad^2)/(norm_grad0^2)\n",
    "        direction=-grad+beta*direction0;\n",
    "    end\n",
    "    vec0=deepcopy(get_vector(state));\n",
    "    vec_tem=[];\n",
    "\n",
    "    #line search\n",
    "    improved=false\n",
    "    alpha=alpha0\n",
    "    println(\"conjugate gradient opt\");flush(stdout);\n",
    "    for ls_step=1:ls_max\n",
    "        vec_tem=vec0+direction*alpha*(ls_ratio^ls_step);\n",
    "        state_tem=set_vector(state, vec_tem)\n",
    "        println(vec_tem)\n",
    "        E=real(energy_CTM(D,chi,parameters, CTM_conv_tol,CTM_ite_nums,CTM_trun_tol,state_tem));\n",
    "        println(\"E= \"*string(E));flush(stdout);\n",
    "        if E<E0\n",
    "            improved=true\n",
    "            break\n",
    "        end\n",
    "    end\n",
    "    if improved\n",
    "        state=set_vector(state, vec_tem)\n",
    "        E=real(energy_CTM(D,chi,parameters, CTM_conv_tol,CTM_ite_nums,CTM_trun_tol,state));\n",
    "        open(\"filenm\",\"w\") do f\n",
    "            JSON.print(f, state)\n",
    "        end\n",
    "    else\n",
    "        println(\"gradient opt\");flush(stdout);\n",
    "        for ls_step = 1:ls_max\n",
    "            vec_tem=vec0-grad*alpha*(ls_ratio^ls_step)\n",
    "            state_tem=set_vector(state, vec_tem)\n",
    "            E=real(energy_CTM(D,chi,parameters, CTM_conv_tol,CTM_ite_nums,CTM_trun_tol,state_tem));\n",
    "            println(\"E= \"*string(E));;flush(stdout);\n",
    "            if E<E0\n",
    "                improved=true\n",
    "                break\n",
    "            end\n",
    "        end\n",
    "    \n",
    "            \n",
    "        if improved\n",
    "            state=set_vector(state, vec_tem)\n",
    "            E=real(energy_CTM(D,chi,parameters, CTM_conv_tol,CTM_ite_nums,CTM_trun_tol,state));\n",
    "            open(\"filenm\",\"w\") do f\n",
    "                JSON.print(f, state)\n",
    "            end\n",
    "        else\n",
    "            state=set_vector(state, vec0)\n",
    "            E=E0\n",
    "        end\n",
    "    end\n",
    "    improvement=E-E0\n",
    "    \n",
    "    open(\"filenm\",\"w\") do f\n",
    "        JSON.print(f, state)\n",
    "    end\n",
    "    return E,state,grad,direction,improvement\n",
    "end\n",
    "\n",
    "\n"
   ]
  },
  {
   "cell_type": "code",
   "execution_count": 11,
   "metadata": {},
   "outputs": [
    {
     "data": {
      "text/plain": [
       "run_FiniteDiff (generic function with 1 method)"
      ]
     },
     "metadata": {},
     "output_type": "display_data"
    }
   ],
   "source": [
    "function run_FiniteDiff(parameters,D,chi,CTM_conv_tol,CTM_ite_nums,CTM_trun_tol,Bond_irrep,init_statenm)\n",
    "    \n",
    "    multi_threads=true;if Threads.nthreads()==1; multi_threads=false; end\n",
    "    println(\"number of threads: \"*string(Threads.nthreads()));flush(stdout);\n",
    "    \n",
    "    # CTM_conv_tol=1e-6;\n",
    "    # CTM_ite_nums=50;\n",
    "    # CTM_trun_tol=1e-12;\n",
    "   \n",
    "    #init_statenm=\"LS_D_\"*string(D)*\"_chi_40.json\"\n",
    "    #init_statenm=nothing\n",
    "    state, Bond_A_coe, Bond_B_coe, Triangle_A1_coe, Triangle_A2_coe=initial_state(Bond_irrep,D,init_statenm)\n",
    "\n",
    "    println(\"optimization start\");flush(stdout);\n",
    "    #E0,_,_=Grad_FiniteDiff(state, cfg.ctm_args, args.chi)\n",
    "    dt=0.001;\n",
    "    grad0=nothing;\n",
    "    direction0=nothing;\n",
    "    alpha0=3;\n",
    "    ls_ratio=1/3;\n",
    "    ls_max=5;\n",
    "    E0=nothing;\n",
    "    for ite=1:100\n",
    "        @time E0,state,grad,direction,improvement=grad_line_search(state,  D, chi, CTM_conv_tol,CTM_ite_nums,CTM_trun_tol, dt, E0, grad0, direction0, alpha0, ls_max)\n",
    "        println(\"grad norm: \"*string(norm(grad)));flush(stdout)\n",
    "        if -improvement<1e-7\n",
    "            break\n",
    "        end\n",
    "    end\n",
    "\n",
    "end\n",
    "\n"
   ]
  },
  {
   "cell_type": "code",
   "execution_count": 12,
   "metadata": {},
   "outputs": [
    {
     "name": "stdout",
     "output_type": "stream",
     "text": [
      "number of threads: 1\n"
     ]
    },
    {
     "name": "stdout",
     "output_type": "stream",
     "text": [
      "Random initial state\n"
     ]
    },
    {
     "name": "stdout",
     "output_type": "stream",
     "text": [
      "optimization start\n"
     ]
    },
    {
     "name": "stdout",
     "output_type": "stream",
     "text": [
      "line search\n"
     ]
    },
    {
     "ename": "KeyError",
     "evalue": "KeyError: key \"Triangle_irrep\" not found",
     "output_type": "error",
     "traceback": [
      "KeyError: key \"Triangle_irrep\" not found\n",
      "\n",
      "Stacktrace:\n",
      "  [1] getindex\n",
      "    @ .\\dict.jl:481 [inlined]\n",
      "  [2] get_tensor_coes(json_dict::Dict{String, Any})\n",
      "    @ Main d:\\My Documents\\Code\\Julia_codes\\Tensor network\\IPEPS_TensorKit\\kagome\\SU2_PG\\kagome_IPESS.jl:114\n",
      "  [3] normalize_IPESS_SU2_PG(state_dict::Dict{String, Any})\n",
      "    @ Main d:\\My Documents\\Code\\Julia_codes\\Tensor network\\IPEPS_TensorKit\\kagome\\SU2_PG\\test_FiniteDiff.ipynb:4\n",
      "  [4] grad_line_search(state::Dict{String, Any}, D::Int64, chi::Int64, CTM_conv_tol::Float64, CTM_ite_nums::Int64, CTM_trun_tol::Float64, dt::Float64, E0::Nothing, grad0::Nothing, direction0::Nothing, alpha0::Int64, ls_ratio::Int64, ls_max::Int64, nonchiral::String)\n",
      "    @ Main d:\\My Documents\\Code\\Julia_codes\\Tensor network\\IPEPS_TensorKit\\kagome\\SU2_PG\\test_FiniteDiff.ipynb:12\n",
      "  [5] grad_line_search(state::Dict{String, Any}, D::Int64, chi::Int64, CTM_conv_tol::Float64, CTM_ite_nums::Int64, CTM_trun_tol::Float64, dt::Float64, E0::Nothing, grad0::Nothing, direction0::Nothing, alpha0::Int64, ls_ratio::Int64)\n",
      "    @ Main d:\\My Documents\\Code\\Julia_codes\\Tensor network\\IPEPS_TensorKit\\kagome\\SU2_PG\\test_FiniteDiff.ipynb:3\n",
      "  [6] macro expansion\n",
      "    @ .\\timing.jl:220 [inlined]\n",
      "  [7] run_FiniteDiff(parameters::Dict{String, Real}, D::Int64, chi::Int64, CTM_conv_tol::Float64, CTM_ite_nums::Int64, CTM_trun_tol::Float64, Bond_irrep::String, init_statenm::Nothing)\n",
      "    @ Main d:\\My Documents\\Code\\Julia_codes\\Tensor network\\IPEPS_TensorKit\\kagome\\SU2_PG\\test_FiniteDiff.ipynb:24\n",
      "  [8] top-level scope\n",
      "    @ d:\\My Documents\\Code\\Julia_codes\\Tensor network\\IPEPS_TensorKit\\kagome\\SU2_PG\\test_FiniteDiff.ipynb:7\n",
      "  [9] eval\n",
      "    @ .\\boot.jl:373 [inlined]\n",
      " [10] include_string(mapexpr::typeof(REPL.softscope), mod::Module, code::String, filename::String)\n",
      "    @ Base .\\loading.jl:1196\n",
      " [11] #invokelatest#2\n",
      "    @ .\\essentials.jl:716 [inlined]\n",
      " [12] invokelatest\n",
      "    @ .\\essentials.jl:714 [inlined]\n",
      " [13] (::VSCodeServer.var\"#164#165\"{VSCodeServer.NotebookRunCellArguments, String})()\n",
      "    @ VSCodeServer c:\\Users\\Lenovo\\.vscode\\extensions\\julialang.language-julia-1.6.24\\scripts\\packages\\VSCodeServer\\src\\serve_notebook.jl:19\n",
      " [14] withpath(f::VSCodeServer.var\"#164#165\"{VSCodeServer.NotebookRunCellArguments, String}, path::String)\n",
      "    @ VSCodeServer c:\\Users\\Lenovo\\.vscode\\extensions\\julialang.language-julia-1.6.24\\scripts\\packages\\VSCodeServer\\src\\repl.jl:184\n",
      " [15] notebook_runcell_request(conn::VSCodeServer.JSONRPC.JSONRPCEndpoint{Base.PipeEndpoint, Base.PipeEndpoint}, params::VSCodeServer.NotebookRunCellArguments)\n",
      "    @ VSCodeServer c:\\Users\\Lenovo\\.vscode\\extensions\\julialang.language-julia-1.6.24\\scripts\\packages\\VSCodeServer\\src\\serve_notebook.jl:13\n",
      " [16] dispatch_msg(x::VSCodeServer.JSONRPC.JSONRPCEndpoint{Base.PipeEndpoint, Base.PipeEndpoint}, dispatcher::VSCodeServer.JSONRPC.MsgDispatcher, msg::Dict{String, Any})\n",
      "    @ VSCodeServer.JSONRPC c:\\Users\\Lenovo\\.vscode\\extensions\\julialang.language-julia-1.6.24\\scripts\\packages\\JSONRPC\\src\\typed.jl:67\n",
      " [17] serve_notebook(pipename::String, outputchannel_logger::Base.CoreLogging.SimpleLogger; crashreporting_pipename::String)\n",
      "    @ VSCodeServer c:\\Users\\Lenovo\\.vscode\\extensions\\julialang.language-julia-1.6.24\\scripts\\packages\\VSCodeServer\\src\\serve_notebook.jl:136\n",
      " [18] top-level scope\n",
      "    @ c:\\Users\\Lenovo\\.vscode\\extensions\\julialang.language-julia-1.6.24\\scripts\\notebook\\notebook.jl:32\n",
      " [19] include(mod::Module, _path::String)\n",
      "    @ Base .\\Base.jl:418\n",
      " [20] exec_options(opts::Base.JLOptions)\n",
      "    @ Base .\\client.jl:292\n",
      " [21] _start()\n",
      "    @ Base .\\client.jl:495"
     ]
    }
   ],
   "source": [
    "#state_dict=read_json_state(\"LS_D_8_chi_40.json\")\n",
    "init_statenm=nothing;\n",
    "CTM_conv_tol=1e-6;\n",
    "CTM_ite_nums=100;\n",
    "CTM_trun_tol=1e-12;\n",
    "Bond_irrep=\"A\";\n",
    "run_FiniteDiff(parameters,D,chi,CTM_conv_tol,CTM_ite_nums,CTM_trun_tol,Bond_irrep,init_statenm)\n",
    "\n",
    "\n"
   ]
  }
 ],
 "metadata": {
  "kernelspec": {
   "display_name": "Julia 1.7.2",
   "language": "julia",
   "name": "julia-1.7"
  },
  "language_info": {
   "file_extension": ".jl",
   "mimetype": "application/julia",
   "name": "julia",
   "version": "1.7.2"
  },
  "orig_nbformat": 4
 },
 "nbformat": 4,
 "nbformat_minor": 2
}
