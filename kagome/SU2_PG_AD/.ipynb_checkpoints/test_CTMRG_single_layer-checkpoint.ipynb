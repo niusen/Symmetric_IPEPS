{
 "cells": [
  {
   "cell_type": "code",
   "execution_count": 45,
   "metadata": {},
   "outputs": [
    {
     "data": {
      "text/plain": [
       "\"No\""
      ]
     },
     "metadata": {},
     "output_type": "display_data"
    }
   ],
   "source": [
    "using LinearAlgebra\n",
    "using TensorKit\n",
    "using KrylovKit\n",
    "using JSON\n",
    "using HDF5, JLD\n",
    "using Random\n",
    "cd(\"D:\\\\My Documents\\\\Code\\\\Julia_codes\\\\Tensor network\\\\IPEPS_TensorKit\\\\kagome\\\\SU2_PG\")\n",
    "#push!(LOAD_PATH, \"D:\\\\My Documents\\\\Code\\\\Julia_codes\\\\Tensor network\\\\IPEPS_TensorKit\\\\kagome\\\\SU2_PG\")\n",
    "include(\"kagome_load_tensor.jl\")\n",
    "include(\"kagome_CTMRG.jl\")\n",
    "include(\"kagome_CTMRG_unitcell.jl\")\n",
    "include(\"kagome_model.jl\")\n",
    "include(\"kagome_model_cell.jl\")\n",
    "include(\"kagome_IPESS.jl\")\n",
    "include(\"kagome_FiniteDiff.jl\")\n",
    "\n",
    "\n",
    "\n",
    "Random.seed!(1234)\n",
    "\n",
    "\n",
    "D=6;\n",
    "\n",
    "\n",
    "\n",
    "theta=0.2*pi;\n",
    "J1=cos(theta);\n",
    "J2=0;\n",
    "J3=0;\n",
    "Jchi=0;\n",
    "Jtrip=sin(theta);\n",
    "\n",
    "parameters=Dict([(\"J1\", J1), (\"J2\", J2), (\"J3\", J3), (\"Jchi\", Jchi), (\"Jtrip\", Jtrip)]);\n",
    "\n",
    "\n",
    "\n",
    "#state_dict=read_json_state(\"LS_D_8_chi_40.json\")\n",
    "#init_statenm=nothing;\n",
    "init_statenm=\"julia_LS_D_6_chi_40.json\"\n",
    "#init_statenm=nothing\n",
    "init_noise=0;\n",
    "CTM_conv_tol=1e-6;\n",
    "CTM_ite_nums=100;\n",
    "CTM_trun_tol=1e-12;\n",
    "Bond_irrep=\"A\";\n",
    "Triangle_irrep=\"A1+iA2\";\n",
    "#nonchiral=\"A1_even\";\n",
    "nonchiral=\"No\"\n"
   ]
  },
  {
   "cell_type": "code",
   "execution_count": 3,
   "metadata": {},
   "outputs": [
    {
     "name": "stdout",
     "output_type": "stream",
     "text": [
      "load state: julia_LS_D_6_chi_40.json\n"
     ]
    },
    {
     "data": {
      "text/plain": [
       "(Dict{String, Any}(\"coes\" => Dict{String, Dict{String, Any}}(\"Triangle_A2_coe\" => Dict(\"dtype\" => \"float64\", \"numEntries\" => 2, \"entries\" => Any[\"0 0.7369944794910288\", \"1 -0.007354087925930567\"], \"dims\" => Any[2]), \"Bond_A_coe\" => Dict(\"dtype\" => \"float64\", \"numEntries\" => 2, \"entries\" => Any[\"0 0.9108232898667802\", \"1 -0.4130940700485079\"], \"dims\" => Any[2]), \"Triangle_A1_coe\" => Dict(\"dtype\" => \"float64\", \"numEntries\" => 3, \"entries\" => Any[\"0 0.13309520130616825\", \"1 0.6611270054395537\", \"2 0.03945748172585299\"], \"dims\" => Any[3])), \"nonchiral\" => \"No\", \"Bond_irrep\" => \"A\", \"Triangle_irrep\" => \"A1+iA2\"), [0.9108232898667802, -0.4130940700485079], Any[], [0.13309520130616825, 0.6611270054395537, 0.03945748172585299], [0.7369944794910288, -0.007354087925930567], [0.0, 0.0, 1.0], [1.0, 0.0])"
      ]
     },
     "metadata": {},
     "output_type": "display_data"
    }
   ],
   "source": [
    "state_dict, Bond_A_coe, Bond_B_coe, Triangle_A1_coe, Triangle_A2_coe, _, _=initial_state(Bond_irrep,Triangle_irrep,nonchiral,D,init_statenm,init_noise)"
   ]
  },
  {
   "cell_type": "code",
   "execution_count": 47,
   "metadata": {},
   "outputs": [
    {
     "data": {
      "text/plain": [
       "\"initialize CTM\""
      ]
     },
     "metadata": {},
     "output_type": "display_data"
    },
    {
     "name": "stdout",
     "output_type": "stream",
     "text": [
      "start CTM iterations:\n",
      "CTMRG iteration: 1, CTMRG err: 4.078634148980675\n",
      "CTMRG iteration: 2, CTMRG err: 0.4833906073454223\n",
      "CTMRG iteration: 3, CTMRG err: 0.692925505342094\n",
      "CTMRG iteration: 4, CTMRG err: 0.018284743957585867\n",
      "CTMRG iteration: 5, CTMRG err: 0.15957915036782708\n",
      "CTMRG iteration: 6, CTMRG err: 0.006055072000980396\n",
      "CTMRG iteration: 7, CTMRG err: 0.0012090391380573434\n",
      "CTMRG iteration: 8, CTMRG err: 0.0005305880447669692\n",
      "CTMRG iteration: 9, CTMRG err: 0.00024833188203049136\n",
      "CTMRG iteration: 10, CTMRG err: 0.00010846731204984953\n",
      "CTMRG iteration: 11, CTMRG err: 4.834511252332026e-5\n",
      "CTMRG iteration: 12, CTMRG err: 2.1163282505936962e-5\n",
      "CTMRG iteration: 13, CTMRG err: 9.276224659407755e-6\n",
      "CTMRG iteration: 14, CTMRG err: 4.052689370107061e-6\n",
      "CTMRG iteration: 15, CTMRG err: 1.7703019126929002e-6\n",
      "CTMRG iteration: 16, CTMRG err: 7.727957573239436e-7\n",
      "-0.34929794092622585 + 1.338259025297828e-17im\n"
     ]
    },
    {
     "data": {
      "text/plain": [
       "(-0.009481458090078752 + 3.664186277782389e-17im, -0.009485130205874319 - 3.2373194067383586e-17im)"
      ]
     },
     "metadata": {},
     "output_type": "display_data"
    }
   ],
   "source": [
    "\n",
    "    A_set,B_set,A1_set,A2_set, A_set_occu,B_set_occu,A1_set_occu,A2_set_occu, S_label, Sz_label, virtual_particle, Va, Vb=construct_tensor(D);\n",
    "    \n",
    "    bond_tensor,triangle_tensor=construct_su2_PG_IPESS(state_dict,A_set,B_set,A1_set,A2_set, A_set_occu,B_set_occu,A1_set_occu,A2_set_occu, S_label, Sz_label, virtual_particle, Va, Vb);\n",
    "\n",
    "\n",
    "    PEPS_tensor=bond_tensor;\n",
    "    @tensor PEPS_tensor[:] := bond_tensor[-1,1,-5]*bond_tensor[4,3,-6]*bond_tensor[-4,2,-7]*triangle_tensor[1,3,2]*triangle_tensor[4,-2,-3];\n",
    "    A_unfused=PEPS_tensor;\n",
    "    \n",
    "    U_phy=unitary(fuse(space(PEPS_tensor, 5) ⊗ space(PEPS_tensor, 6) ⊗ space(PEPS_tensor, 7)), space(PEPS_tensor, 5) ⊗ space(PEPS_tensor, 6) ⊗ space(PEPS_tensor, 7));\n",
    "    @tensor A_fused[:] :=PEPS_tensor[-1,-2,-3,-4,1,2,3]*U_phy[-5,1,2,3];\n",
    "\n",
    "    CTM=[];\n",
    "    U_L=[];\n",
    "    U_D=[];\n",
    "    U_R=[];\n",
    "    U_U=[];\n",
    "\n",
    "    init=Dict([(\"CTM\", []), (\"init_type\", \"PBC\")]);\n",
    "    conv_check=\"singular_value\";\n",
    "    CTM_ite_info=true;\n",
    "    CTM_conv_info=true;\n",
    "    chi=20;\n",
    "    CTM, AA_fused, U_L,U_D,U_R,U_U,ite_num,ite_err=CTMRG(A_fused,chi,conv_check,CTM_conv_tol,init,CTM_ite_nums,CTM_trun_tol,CTM_ite_info,CTM_conv_info);\n",
    "    \n",
    "    E_up, E_down=evaluate_ob(parameters, U_phy, A_unfused, A_fused, AA_fused, U_L,U_D,U_R,U_U, CTM, \"E_triangle\");\n",
    "    #E_up_12, E_up_31, E_up_23, E_down_12, E_down_31, E_down_23=evaluate_ob(parameters, U_phy, A_unfused, A_fused, AA_fused, U_L,U_D,U_R,U_U, CTM, \"E_bond\");\n",
    "    energy=(E_up*2)/3;\n",
    "    println(energy)\n",
    "\n",
    "    #return energy,CTM,U_L,U_D,U_R,U_U\n",
    "\n",
    "    chiral_order_parameters=Dict([(\"J1\", 0), (\"J2\", 0), (\"J3\", 0), (\"Jchi\", 0), (\"Jtrip\", 1)]);\n",
    "    chiral_order_up, chiral_order_down=evaluate_ob(chiral_order_parameters, U_phy, A_unfused, A_fused, AA_fused, U_L,U_D,U_R,U_U, CTM, \"E_triangle\");\n",
    "\n",
    "\n",
    "\n"
   ]
  },
  {
   "cell_type": "code",
   "execution_count": 31,
   "metadata": {},
   "outputs": [],
   "source": [
    "Lx=2;Ly=2;\n",
    "A_cell=Matrix(undef,Lx,Ly);\n",
    "A_cell[1,1]=A_fused;\n",
    "A_cell[1,2]=A_fused;\n",
    "A_cell[2,1]=A_fused;\n",
    "A_cell[2,2]=A_fused;"
   ]
  },
  {
   "cell_type": "code",
   "execution_count": 161,
   "metadata": {},
   "outputs": [
    {
     "data": {
      "text/plain": [
       "\"initialize CTM\""
      ]
     },
     "metadata": {},
     "output_type": "display_data"
    },
    {
     "name": "stdout",
     "output_type": "stream",
     "text": [
      "start CTM iterations:\n",
      "CTMRG iteration: 1, CTMRG err: 4.078634148980675\n",
      "CTMRG iteration: 2, CTMRG err: 0.4833906073454223\n",
      "CTMRG iteration: 3, CTMRG err: 0.692925505342094\n",
      "CTMRG iteration: 4, CTMRG err: 0.018284743957585867\n",
      "CTMRG iteration: 5, CTMRG err: 0.15957915036782708\n",
      "CTMRG iteration: 6, CTMRG err: 0.006055072000980396\n",
      "CTMRG iteration: 7, CTMRG err: 0.0012090391380573434\n",
      "CTMRG iteration: 8, CTMRG err: 0.0005305880447669692\n",
      "CTMRG iteration: 9, CTMRG err: 0.00024833188203049136\n",
      "CTMRG iteration: 10, CTMRG err: 0.00010846731204984953\n",
      "CTMRG iteration: 11, CTMRG err: 4.834511252332026e-5\n",
      "CTMRG iteration: 12, CTMRG err: 2.1163282505936962e-5\n",
      "CTMRG iteration: 13, CTMRG err: 9.276224659407755e-6\n",
      "CTMRG iteration: 14, CTMRG err: 4.052689370107061e-6\n",
      "CTMRG iteration: 15, CTMRG err: 1.7703019126929002e-6\n",
      "CTMRG iteration: 16, CTMRG err: 7.727957573239436e-7\n"
     ]
    }
   ],
   "source": [
    "init=Dict([(\"CTM\", []), (\"init_type\", \"PBC\")]);\n",
    "conv_check=\"singular_value\";\n",
    "CTM_ite_info=true\n",
    "CTM_conv_info=true;\n",
    "CTM, AA_fused, U_L,U_D,U_R,U_U,ite_num,ite_err=CTMRG_cell(A_cell,chi,conv_check,CTM_conv_tol,init,CTM_ite_nums,CTM_trun_tol,CTM_ite_info,CTM_conv_info);\n"
   ]
  },
  {
   "cell_type": "code",
   "execution_count": 166,
   "metadata": {},
   "outputs": [],
   "source": [
    "init=Dict([(\"CTM\", []), (\"init_type\", \"PBC\")]);\n",
    "conv_check=\"singular_value\";\n",
    "CTM_ite_info=true\n",
    "CTM_conv_info=true;\n",
    "CTM, AA_fused, U_L,U_D,U_R,U_U,ite_num,ite_err=CTMRG_cell(A_cell,chi,conv_check,CTM_conv_tol,init,CTM_ite_nums,CTM_trun_tol,CTM_ite_info,CTM_conv_info);\n"
   ]
  },
  {
   "cell_type": "code",
   "execution_count": 36,
   "metadata": {},
   "outputs": [],
   "source": [
    "id_L=unitary(space(A_fused,1),space(A_fused,1));\n",
    "id_D=unitary(space(A_fused,2),space(A_fused,2));\n",
    "id_phy=unitary(space(A_fused,5),space(A_fused,5));\n",
    "\n",
    "\n",
    "@tensor A_LD[:]:=id_L[-1,-3]*id_D[-4,-2];\n",
    "@tensor A_RU[:]:=id_L[-5,-1]*id_D[-3,-6]*id_phy[-2,-4];\n",
    "U_L_phy=unitary(fuse(space(A_RU,1)⊗ space(A_RU,2)), space(A_RU,1)⊗ space(A_RU,2));\n",
    "U_D_phy=unitary(fuse(space(A_fused,4)⊗ space(A_fused,5)), space(A_fused,4)⊗ space(A_fused,5));\n",
    "@tensor A_LU[:]:=A_fused'[-1,-2,1,-4,2]*U_L_phy'[1,2,-3];\n",
    "@tensor A_RD[:]:=A_fused[-1,-2,-3,1,2]*U_D_phy[-4,1,2];\n",
    "@tensor A_RU[:]:=A_RU[1,2,3,4,-3,-4]*U_D_phy'[3,4,-2]*U_L_phy[-1,1,2];\n",
    "\n",
    "# @tensor tt[:]:=A_RU[-1,1,-2,-3]*A_RD[-4,-5,-6,1];\n",
    "# @tensor tt[:]:=A_LU[-1,-2,1,-3]*A_RU[1,-4,-5,-6];\n",
    "\n",
    "Lx=2;Ly=2;\n",
    "A_cell=Matrix(undef,Lx,Ly);\n",
    "A_cell[1,1]=A_LU;\n",
    "A_cell[2,1]=A_RU;\n",
    "A_cell[1,2]=A_LD;\n",
    "A_cell[2,2]=A_RD;\n"
   ]
  },
  {
   "cell_type": "code",
   "execution_count": 53,
   "metadata": {},
   "outputs": [
    {
     "data": {
      "text/plain": [
       "\"initialize CTM\""
      ]
     },
     "metadata": {},
     "output_type": "display_data"
    },
    {
     "name": "stdout",
     "output_type": "stream",
     "text": [
      "start CTM iterations:\n",
      "CTMRG iteration: 1, CTMRG err: 4.181189052263995\n",
      "CTMRG iteration: 2, CTMRG err: 0.9959175811847487\n",
      "CTMRG iteration: 3, CTMRG err: 1.4555481565390038\n",
      "CTMRG iteration: 4, CTMRG err: 1.1506776529779141\n",
      "CTMRG iteration: 5, CTMRG err: 1.147220622400505\n",
      "CTMRG iteration: 6, CTMRG err: 0.6935176613990469\n",
      "CTMRG iteration: 7, CTMRG err: 1.1040074089680472\n",
      "CTMRG iteration: 8, CTMRG err: 1.1217061934104051\n",
      "CTMRG iteration: 9, CTMRG err: 1.080884975896148\n",
      "CTMRG iteration: 10, CTMRG err: 0.6772086690183001\n",
      "CTMRG iteration: 11, CTMRG err: 0.6006720266069699\n",
      "CTMRG iteration: 12, CTMRG err: 0.33204624204307204\n",
      "CTMRG iteration: 13, CTMRG err: 0.12825245495940601\n",
      "CTMRG iteration: 14, CTMRG err: 0.09397399265670642\n",
      "CTMRG iteration: 15, CTMRG err: 0.04532830480257125\n",
      "CTMRG iteration: 16, CTMRG err: 0.046121100105169247\n",
      "CTMRG iteration: 17, CTMRG err: 0.027482461660638374\n",
      "CTMRG iteration: 18, CTMRG err: 0.022833057756343464\n",
      "CTMRG iteration: 19, CTMRG err: 0.013000584405202107\n",
      "CTMRG iteration: 20, CTMRG err: 0.010196729940461557\n",
      "CTMRG iteration: 21, CTMRG err: 0.0053485497934408184\n",
      "CTMRG iteration: 22, CTMRG err: 0.00421621301204269\n",
      "CTMRG iteration: 23, CTMRG err: 0.0021754380377714522\n",
      "CTMRG iteration: 24, CTMRG err: 0.001759755152442643\n",
      "CTMRG iteration: 25, CTMRG err: 0.000884530725415827\n",
      "CTMRG iteration: 26, CTMRG err: 0.0007392394700927723\n",
      "CTMRG iteration: 27, CTMRG err: 0.00036261597770408034\n",
      "CTMRG iteration: 28, CTMRG err: 0.00031330860705336595\n",
      "CTMRG iteration: 29, CTMRG err: 0.00015095846751404197\n",
      "CTMRG iteration: 30, CTMRG err: 0.00013418206842497307\n",
      "CTMRG iteration: 31, CTMRG err: 6.423398043809782e-5\n",
      "CTMRG iteration: 32, CTMRG err: 5.8158456368412917e-5\n",
      "CTMRG iteration: 33, CTMRG err: 2.805708107588159e-5\n",
      "CTMRG iteration: 34, CTMRG err: 2.5533806229818235e-5\n",
      "CTMRG iteration: 35, CTMRG err: 1.2588810164491584e-5\n",
      "CTMRG iteration: 36, CTMRG err: 1.1356655285950503e-5\n",
      "CTMRG iteration: 37, CTMRG err: 5.8834080154795175e-6\n",
      "CTMRG iteration: 38, CTMRG err: 5.113560062203368e-6\n",
      "CTMRG iteration: 39, CTMRG err: 2.8016366714161453e-6\n",
      "CTMRG iteration: 40, CTMRG err: 2.327965068101871e-6\n",
      "CTMRG iteration: 41, CTMRG err: 1.3322840676643576e-6\n",
      "CTMRG iteration: 42, CTMRG err: 1.069804433168316e-6\n",
      "CTMRG iteration: 43, CTMRG err: 6.329521396481836e-7\n",
      "(Rep[SU₂](0=>1, 1/2=>1, 1=>1) ⊗ Rep[SU₂](0=>1, 1/2=>1, 1=>1)' ⊗ Rep[SU₂](0=>1, 1/2=>1, 1=>1)' ⊗ Rep[SU₂](0=>2, 1/2=>5, 1=>3, 3/2=>4, 2=>1, 5/2=>1)) ← ProductSpace{GradedSpace{SU2Irrep, TensorKit.SortedVectorDict{SU2Irrep, Int64}}, 0}()\n",
      "Rep[SU₂](0=>2, 1/2=>5, 1=>3, 3/2=>4, 2=>1, 5/2=>1) ← (Rep[SU₂](0=>1, 1/2=>1, 1=>1) ⊗ Rep[SU₂](1/2=>2, 3/2=>1))\n",
      "(Rep[SU₂](1/2=>2, 3/2=>1)' ⊗ Rep[SU₂](1/2=>2, 3/2=>1)) ← ProductSpace{GradedSpace{SU2Irrep, TensorKit.SortedVectorDict{SU2Irrep, Int64}}, 0}()\n",
      "TensorMap(ProductSpace{GradedSpace{SU2Irrep, TensorKit.SortedVectorDict{SU2Irrep, Int64}}, 0}() ← ProductSpace{GradedSpace{SU2Irrep, TensorKit.SortedVectorDict{SU2Irrep, Int64}}, 0}()):\n",
      "* Data for fusiontree FusionTree{Irrep[SU₂]}((), 0, (), ()) ← FusionTree{Irrep[SU₂]}((), 0, (), ()):\n",
      "-0.35201518696307177 + 3.964115719032328e-5im\n",
      "\n"
     ]
    }
   ],
   "source": [
    "init=Dict([(\"CTM\", []), (\"init_type\", \"single_layer_random\")]);\n",
    "conv_check=\"singular_value\";\n",
    "CTM_ite_info=true\n",
    "CTM_conv_info=true;\n",
    "chi=20;\n",
    "CTM, _, _,_,_,_=CTMRG_cell(A_cell,chi,conv_check,CTM_conv_tol,init,CTM_ite_nums,CTM_trun_tol,CTM_ite_info,CTM_conv_info);\n",
    "\n",
    "method=\"E_triangle\";\n",
    "E_up=evaluate_ob_UpTriangle_single_layer(parameters, U_phy, U_D_phy, A_cell, CTM, method);\n",
    "energy=(E_up*2)/3;\n",
    "println(energy)"
   ]
  },
  {
   "cell_type": "code",
   "execution_count": 9,
   "metadata": {},
   "outputs": [
    {
     "name": "stdout",
     "output_type": "stream",
     "text": [
      "(Rep[SU₂](0=>2, 1/2=>2, 1=>3, 3/2=>1)' ⊗ Rep[SU₂](0=>2, 1/2=>2, 1=>3, 3/2=>1)) ← ProductSpace{GradedSpace{SU2Irrep, TensorKit.SortedVectorDict{SU2Irrep, Int64}}, 0}()\n",
      "(Rep[SU₂](0=>3, 1/2=>4, 1=>3)' ⊗ Rep[SU₂](0=>3, 1/2=>4, 1=>3)) ← ProductSpace{GradedSpace{SU2Irrep, TensorKit.SortedVectorDict{SU2Irrep, Int64}}, 0}()\n",
      "(Rep[SU₂](0=>3, 1/2=>4, 1=>3)' ⊗ Rep[SU₂](0=>3, 1/2=>4, 1=>3)) ← ProductSpace{GradedSpace{SU2Irrep, TensorKit.SortedVectorDict{SU2Irrep, Int64}}, 0}()\n",
      "(Rep[SU₂](0=>3, 1/2=>5, 1=>2)' ⊗ Rep[SU₂](0=>3, 1/2=>5, 1=>2)) ← ProductSpace{GradedSpace{SU2Irrep, TensorKit.SortedVectorDict{SU2Irrep, Int64}}, 0}()\n"
     ]
    }
   ],
   "source": [
    "println(space(CTM[\"Cset\"][1][1,1]))\n",
    "println(space(CTM[\"Cset\"][1][2,1]))\n",
    "println(space(CTM[\"Cset\"][1][1,2]))\n",
    "println(space(CTM[\"Cset\"][1][2,2]))"
   ]
  },
  {
   "cell_type": "code",
   "execution_count": 54,
   "metadata": {},
   "outputs": [
    {
     "name": "stdout",
     "output_type": "stream",
     "text": [
      "start CTM iterations:\n",
      "CTMRG iteration: 1, CTMRG err: 7.47376533383815\n",
      "CTMRG iteration: 2, CTMRG err: 0.4051491971701481\n",
      "CTMRG iteration: 3, CTMRG err: 0.29036365495178545\n",
      "CTMRG iteration: 4, CTMRG err: 0.16086588601389168\n",
      "CTMRG iteration: 5, CTMRG err: 0.023480605599052382\n",
      "CTMRG iteration: 6, CTMRG err: 0.027991921763212708\n",
      "CTMRG iteration: 7, CTMRG err: 0.009211358004023548\n",
      "CTMRG iteration: 8, CTMRG err: 0.0035159113654519205\n",
      "CTMRG iteration: 9, CTMRG err: 0.07035722210185172\n",
      "CTMRG iteration: 10, CTMRG err: 0.0020830912867501952\n",
      "CTMRG iteration: 11, CTMRG err: 0.01932610745702265\n",
      "CTMRG iteration: 12, CTMRG err: 0.002158726321742349\n",
      "CTMRG iteration: 13, CTMRG err: 0.0003657963788479526\n",
      "CTMRG iteration: 14, CTMRG err: 0.0001499371267281293\n",
      "CTMRG iteration: 15, CTMRG err: 7.883017716224665e-5\n",
      "CTMRG iteration: 16, CTMRG err: 6.520622173928966e-5\n",
      "CTMRG iteration: 17, CTMRG err: 3.6059415099525535e-5\n",
      "CTMRG iteration: 18, CTMRG err: 2.913172621043141e-5\n",
      "CTMRG iteration: 19, CTMRG err: 1.6806775575656708e-5\n",
      "CTMRG iteration: 20, CTMRG err: 1.31235789822471e-5\n",
      "CTMRG iteration: 21, CTMRG err: 7.943247965706265e-6\n",
      "CTMRG iteration: 22, CTMRG err: 5.879547892333992e-6\n",
      "CTMRG iteration: 23, CTMRG err: 3.7882588491596013e-6\n",
      "CTMRG iteration: 24, CTMRG err: 2.6326034525833184e-6\n",
      "CTMRG iteration: 25, CTMRG err: 1.8180763851984958e-6\n",
      "CTMRG iteration: 26, CTMRG err: 1.2170127447265408e-6\n",
      "CTMRG iteration: 27, CTMRG err: 8.769273606296831e-7\n",
      "(Rep[SU₂](0=>1, 1/2=>1, 1=>1) ⊗ Rep[SU₂](0=>1, 1/2=>1, 1=>1)' ⊗ Rep[SU₂](0=>1, 1/2=>1, 1=>1)' ⊗ Rep[SU₂](0=>2, 1/2=>5, 1=>3, 3/2=>4, 2=>1, 5/2=>1)) ← ProductSpace{GradedSpace{SU2Irrep, TensorKit.SortedVectorDict{SU2Irrep, Int64}}, 0}()\n",
      "Rep[SU₂](0=>2, 1/2=>5, 1=>3, 3/2=>4, 2=>1, 5/2=>1) ← (Rep[SU₂](0=>1, 1/2=>1, 1=>1) ⊗ Rep[SU₂](1/2=>2, 3/2=>1))\n",
      "(Rep[SU₂](1/2=>2, 3/2=>1)' ⊗ Rep[SU₂](1/2=>2, 3/2=>1)) ← ProductSpace{GradedSpace{SU2Irrep, TensorKit.SortedVectorDict{SU2Irrep, Int64}}, 0}()\n",
      "TensorMap(ProductSpace{GradedSpace{SU2Irrep, TensorKit.SortedVectorDict{SU2Irrep, Int64}}, 0}() ← ProductSpace{GradedSpace{SU2Irrep, TensorKit.SortedVectorDict{SU2Irrep, Int64}}, 0}()):\n",
      "* Data for fusiontree FusionTree{Irrep[SU₂]}((), 0, (), ()) ← FusionTree{Irrep[SU₂]}((), 0, (), ()):\n",
      "-0.34929674065521216 + 1.2672681361549553e-6im\n",
      "\n"
     ]
    }
   ],
   "source": [
    "init=Dict([(\"CTM\", CTM), (\"init_type\", \"single_layer_random\")]);\n",
    "conv_check=\"singular_value\";\n",
    "CTM_ite_info=true\n",
    "CTM_conv_info=true;\n",
    "chi=60;\n",
    "CTM, _, _,_,_,_=CTMRG_cell(A_cell,chi,conv_check,CTM_conv_tol,init,CTM_ite_nums,CTM_trun_tol,CTM_ite_info,CTM_conv_info);\n",
    "\n",
    "method=\"E_triangle\";\n",
    "E_up=evaluate_ob_UpTriangle_single_layer(parameters, U_phy, U_D_phy, A_cell, CTM, method);\n",
    "energy=(E_up*2)/3;\n",
    "println(energy)"
   ]
  },
  {
   "cell_type": "code",
   "execution_count": 50,
   "metadata": {},
   "outputs": [],
   "source": []
  },
  {
   "cell_type": "code",
   "execution_count": 49,
   "metadata": {},
   "outputs": [],
   "source": []
  },
  {
   "cell_type": "code",
   "execution_count": 17,
   "metadata": {},
   "outputs": [],
   "source": []
  },
  {
   "cell_type": "code",
   "execution_count": 18,
   "metadata": {},
   "outputs": [],
   "source": []
  }
 ],
 "metadata": {
  "kernelspec": {
   "display_name": "Python 3",
   "language": "python",
   "name": "python3"
  },
  "language_info": {
   "codemirror_mode": {
    "name": "ipython",
    "version": 3
   },
   "file_extension": ".py",
   "mimetype": "text/x-python",
   "name": "python",
   "nbconvert_exporter": "python",
   "pygments_lexer": "ipython3",
   "version": "3.8.8"
  }
 },
 "nbformat": 4,
 "nbformat_minor": 2
}
