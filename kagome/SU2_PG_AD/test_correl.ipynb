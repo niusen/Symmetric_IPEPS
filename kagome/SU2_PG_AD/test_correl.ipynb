{
 "cells": [
  {
   "cell_type": "code",
   "execution_count": 1,
   "metadata": {},
   "outputs": [],
   "source": [
    "using LinearAlgebra\n",
    "using TensorKit\n",
    "using KrylovKit\n",
    "using JSON\n",
    "using HDF5, JLD\n",
    "cd(\"D:\\\\My Documents\\\\Code\\\\Julia_codes\\\\Tensor network\\\\IPEPS_TensorKit\\\\kagome\\\\SU2_PG\")\n",
    "#push!(LOAD_PATH, \"D:\\\\My Documents\\\\Code\\\\Julia_codes\\\\Tensor network\\\\IPEPS_TensorKit\\\\kagome\\\\SU2_PG\")\n",
    "include(\"kagome_load_tensor.jl\")\n",
    "include(\"kagome_CTMRG.jl\")\n",
    "include(\"kagome_model.jl\")\n",
    "include(\"kagome_IPESS.jl\")\n",
    "include(\"mps_algorithms\\\\ITEBD_algorithms.jl\")\n",
    "include(\"mps_algorithms\\\\TransfOp_decomposition.jl\")\n",
    "include(\"mps_algorithms\\\\PUMPS_algorithms.jl\")\n",
    "\n",
    "\n",
    "\n",
    "D=8;\n",
    "chi=60;\n",
    "\n",
    "\n",
    "\n",
    "J1=0.80902;\n",
    "J2=0;\n",
    "J3=0;\n",
    "Jchi=0;\n",
    "Jtrip=0.5878;\n",
    "\n",
    "parameters=Dict([(\"J1\", J1), (\"J2\", J2), (\"J3\", J3), (\"Jchi\", Jchi), (\"Jtrip\", Jtrip)]);\n",
    "\n"
   ]
  },
  {
   "cell_type": "code",
   "execution_count": 2,
   "metadata": {},
   "outputs": [
    {
     "ename": "KeyError",
     "evalue": "KeyError: key \"nonchiral\" not found",
     "output_type": "error",
     "traceback": [
      "KeyError: key \"nonchiral\" not found\n",
      "\n",
      "Stacktrace:\n",
      " [1] getindex\n",
      "   @ .\\dict.jl:481 [inlined]\n",
      " [2] construct_su2_PG_IPESS(json_dict::Dict{String, Any}, A_set::Vector{Any}, B_set::Vector{Any}, A1_set::Vector{Any}, A2_set::Vector{Any}, A_set_occu::Vector{Any}, B_set_occu::Vector{Any}, A1_set_occu::Vector{Any}, A2_set_occu::Vector{Any}, S_label::Vector{Float64}, Sz_label::Vector{Float64}, virtual_particle::Vector{Float64}, Va::GradedSpace{SU2Irrep, TensorKit.SortedVectorDict{SU2Irrep, Int64}}, Vb::GradedSpace{SU2Irrep, TensorKit.SortedVectorDict{SU2Irrep, Int64}})\n",
      "   @ Main d:\\My Documents\\Code\\Julia_codes\\Tensor network\\IPEPS_TensorKit\\kagome\\SU2_PG\\kagome_IPESS.jl:67\n",
      " [3] top-level scope\n",
      "   @ d:\\My Documents\\Code\\Julia_codes\\Tensor network\\IPEPS_TensorKit\\kagome\\SU2_PG\\test_correl.ipynb:10"
     ]
    }
   ],
   "source": [
    "\n",
    "CTM_conv_tol=1e-6;\n",
    "trun_tol=1e-8;\n",
    "\n",
    "A_set,B_set,A1_set,A2_set, A_set_occu,B_set_occu,A1_set_occu,A2_set_occu, S_label, Sz_label, virtual_particle, Va, Vb=construct_tensor(D);\n",
    "\n",
    "filenm=\"LS_D_\"*string(D)*\"_chi_40.json\"\n",
    "json_dict=read_json_state(filenm);\n",
    "\n",
    "bond_tensor,triangle_tensor=construct_su2_PG_IPESS(json_dict,A_set,B_set,A1_set,A2_set, A_set_occu,B_set_occu,A1_set_occu,A2_set_occu, S_label, Sz_label, virtual_particle, Va, Vb);\n",
    "\n",
    "PEPS_tensor=bond_tensor;\n",
    "@tensor PEPS_tensor[:] := bond_tensor[-1,1,-5]*bond_tensor[4,3,-6]*bond_tensor[-4,2,-7]*triangle_tensor[1,3,2]*triangle_tensor[4,-2,-3];\n",
    "A_unfused=PEPS_tensor;\n",
    "\n",
    "U_phy=unitary(fuse(space(PEPS_tensor, 5) ⊗ space(PEPS_tensor, 6) ⊗ space(PEPS_tensor, 7)), space(PEPS_tensor, 5) ⊗ space(PEPS_tensor, 6) ⊗ space(PEPS_tensor, 7));\n",
    "@tensor A_fused[:] :=PEPS_tensor[-1,-2,-3,-4,1,2,3]*U_phy[-5,1,2,3];\n"
   ]
  },
  {
   "cell_type": "code",
   "execution_count": 3,
   "metadata": {},
   "outputs": [
    {
     "ename": "UndefVarError",
     "evalue": "UndefVarError: A_fused not defined",
     "output_type": "error",
     "traceback": [
      "UndefVarError: A_fused not defined\n",
      "\n",
      "Stacktrace:\n",
      " [1] top-level scope\n",
      "   @ .\\timing.jl:220 [inlined]\n",
      " [2] top-level scope\n",
      "   @ d:\\My Documents\\Code\\Julia_codes\\Tensor network\\IPEPS_TensorKit\\kagome\\SU2_PG\\test_correl.ipynb:0"
     ]
    }
   ],
   "source": [
    "CTM=[];\n",
    "U_L=[];\n",
    "U_D=[];\n",
    "U_R=[];\n",
    "U_U=[];\n",
    "\n",
    "init=Dict([(\"CTM\", []), (\"init_type\", \"PBC\")]);\n",
    "conv_check=\"singular_value\";\n",
    "@time CTM, AA_fused, U_L,U_D,U_R,U_U=CTMRG(A_fused,chi,conv_check,CTM_conv_tol,init);\n"
   ]
  },
  {
   "cell_type": "code",
   "execution_count": 4,
   "metadata": {},
   "outputs": [
    {
     "ename": "ArgumentError",
     "evalue": "ArgumentError: invalid index: \"Cset\" of type String",
     "output_type": "error",
     "traceback": [
      "ArgumentError: invalid index: \"Cset\" of type String\n",
      "\n",
      "Stacktrace:\n",
      " [1] to_index(i::String)\n",
      "   @ Base .\\indices.jl:300\n",
      " [2] to_index(A::Vector{Any}, i::String)\n",
      "   @ Base .\\indices.jl:277\n",
      " [3] to_indices\n",
      "   @ .\\indices.jl:333 [inlined]\n",
      " [4] to_indices\n",
      "   @ .\\indices.jl:325 [inlined]\n",
      " [5] getindex(A::Vector{Any}, I::String)\n",
      "   @ Base .\\abstractarray.jl:1218\n",
      " [6] top-level scope\n",
      "   @ d:\\My Documents\\Code\\Julia_codes\\Tensor network\\IPEPS_TensorKit\\kagome\\SU2_PG\\test_correl.ipynb:2"
     ]
    }
   ],
   "source": [
    "\n",
    "println(\"spcae of C1: \"*string(space(CTM[\"Cset\"][1])))\n",
    "println(\"spcae of C2: \"*string(space(CTM[\"Cset\"][2])))\n",
    "println(\"spcae of C3: \"*string(space(CTM[\"Cset\"][3])))\n",
    "println(\"spcae of C4: \"*string(space(CTM[\"Cset\"][4])))\n",
    "flush(stdout);"
   ]
  },
  {
   "cell_type": "code",
   "execution_count": 5,
   "metadata": {},
   "outputs": [
    {
     "ename": "UndefVarError",
     "evalue": "UndefVarError: U_phy not defined",
     "output_type": "error",
     "traceback": [
      "UndefVarError: U_phy not defined\n",
      "\n",
      "Stacktrace:\n",
      " [1] top-level scope\n",
      "   @ .\\timing.jl:220 [inlined]\n",
      " [2] top-level scope\n",
      "   @ d:\\My Documents\\Code\\Julia_codes\\Tensor network\\IPEPS_TensorKit\\kagome\\SU2_PG\\test_correl.ipynb:0"
     ]
    }
   ],
   "source": [
    "\n",
    "\n",
    "@time E_up, E_down=evaluate_ob(parameters, U_phy, A_unfused, A_fused, AA_fused, U_L,U_D,U_R,U_U, CTM, \"E_triangle\");\n",
    "@time E_up_12, E_up_31, E_up_23, E_down_12, E_down_31, E_down_23=evaluate_ob(parameters, U_phy, A_unfused, A_fused, AA_fused, U_L,U_D,U_R,U_U, CTM, \"E_bond\");\n",
    "println((E_up+E_down)/3);flush(stdout);\n"
   ]
  },
  {
   "cell_type": "code",
   "execution_count": 6,
   "metadata": {},
   "outputs": [
    {
     "data": {
      "text/plain": [
       "build_double_layer_extra_leg (generic function with 1 method)"
      ]
     },
     "metadata": {},
     "output_type": "display_data"
    }
   ],
   "source": [
    "function build_double_layer_extra_leg(A,operator)\n",
    "    #su2 operator has three legs, such as svd decomposition of Heisenberg interaction \n",
    "    #first two indices of operator are physical indices\n",
    "    A=permute(A,(1,2,),(3,4,5));\n",
    "    U_L=unitary(fuse(space(A, 1)' ⊗ space(A, 1)), space(A, 1)' ⊗ space(A, 1));\n",
    "    U_D=unitary(fuse(space(A, 2)' ⊗ space(A, 2)), space(A, 2)' ⊗ space(A, 2));\n",
    "    U_R=inv(U_L);\n",
    "    U_U=inv(U_D);\n",
    "    # display(space(U_L))\n",
    "    # display(space(U_D))\n",
    "    # display(space(U_R))\n",
    "    # display(space(U_D))\n",
    "\n",
    "    uM,sM,vM=tsvd(A);\n",
    "    uM=uM*sM\n",
    "\n",
    "    uM=permute(uM,(1,2,3,),())\n",
    "    V=space(vM,1);\n",
    "    U=unitary(fuse(V' ⊗ V), V' ⊗ V);\n",
    "    @tensor double_LD[:]:=uM'[-1,-2,1]*U'[1,-3,-4];\n",
    "    @tensor double_LD[:]:=double_LD[-1,-3,1,-5]*uM[-2,-4,1];\n",
    "    \n",
    "    vM=permute(vM,(1,2,3,4,),());\n",
    "\n",
    "    @tensor double_RU[:]:=U[-1,-2,1]*vM[1,-3,-4,-5];\n",
    "    @tensor double_RU[:]:=vM'[3,-2,-4,1]*operator[2,1,-6]*double_RU[-1,3,-3,-5,2];\n",
    " \n",
    "    #display(space(double_RU))\n",
    "\n",
    "    double_LD=permute(double_LD,(1,2,),(3,4,5,));\n",
    "    double_LD=U_L*double_LD;\n",
    "    double_LD=permute(double_LD,(2,3,),(1,4,));\n",
    "    double_LD=U_D*double_LD;\n",
    "    double_LD=permute(double_LD,(2,1,),(3,));\n",
    "    #display(space(double_LD))\n",
    "    double_RU=permute(double_RU,(1,4,5,6,),(2,3,));\n",
    "    double_RU=double_RU*U_R;\n",
    "    double_RU=permute(double_RU,(1,5,4,),(2,3,));\n",
    "    double_RU=double_RU*U_U;\n",
    "    double_LD=permute(double_LD,(1,2,),(3,));\n",
    "    double_RU=permute(double_RU,(1,),(2,4,3,));\n",
    "    AA_fused=double_LD*double_RU;\n",
    "    AA_fused=permute(AA_fused,(1,2,3,4,5,),());\n",
    "    \n",
    "    return AA_fused, U_L,U_D,U_R,U_U\n",
    "end\n",
    "\n"
   ]
  },
  {
   "cell_type": "code",
   "execution_count": 7,
   "metadata": {},
   "outputs": [
    {
     "data": {
      "text/plain": [
       "single_spin_operator (generic function with 1 method)"
      ]
     },
     "metadata": {},
     "output_type": "display_data"
    }
   ],
   "source": [
    "function single_spin_operator(U_phy,posit1,posit2)\n",
    "\n",
    "    # Heisenberg interaction\n",
    "    Id=TensorMap(Matrix(I,2,2),space(U_phy,4),space(U_phy,4));\n",
    "    sx=[[0,1] [1,0]]/2; sy=[[0,1] [-1,0]]/2*im; sz=[[1,0] [0,-1]]/2;\n",
    "    @tensor HSS[:]:=sx[-1,-3]*sx[-2,-4]+sy[-1,-3]*sy[-2,-4]+sz[-1,-3]*sz[-2,-4];\n",
    "    HSS=TensorMap(HSS, space(U_phy,4)⊗space(U_phy,4) ← space(U_phy,4)⊗space(U_phy,4));\n",
    "    HSS=permute(HSS,(1,3,),(2,4,));\n",
    "    u,s,v=tsvd(HSS);\n",
    "    H1=u*s;\n",
    "    H2=permute(v,(2,3,),(1,));\n",
    "\n",
    "    if posit1==1\n",
    "        @tensor H1[:]:= U_phy'[1,2,3,-1]*H1[1,4,-3]*Id[2,5]*Id[3,6]*U_phy[-2,4,5,6];\n",
    "    elseif posit1==2\n",
    "        @tensor H1[:]:= U_phy'[1,2,3,-1]*Id[1,4]*H1[2,5,-3]*Id[3,6]*U_phy[-2,4,5,6];\n",
    "    elseif posit1==3\n",
    "        @tensor H1[:]:= U_phy'[1,2,3,-1]*Id[1,4]*Id[2,5]*H1[3,6,-3]*U_phy[-2,4,5,6];\n",
    "    end\n",
    "\n",
    "    if posit2==1\n",
    "        @tensor H2[:]:= U_phy'[1,2,3,-1]*H2[1,4,-3]*Id[2,5]*Id[3,6]*U_phy[-2,4,5,6];\n",
    "    elseif posit2==2\n",
    "        @tensor H2[:]:= U_phy'[1,2,3,-1]*Id[1,4]*H2[2,5,-3]*Id[3,6]*U_phy[-2,4,5,6];\n",
    "    elseif posit2==3\n",
    "        @tensor H2[:]:= U_phy'[1,2,3,-1]*Id[1,4]*Id[2,5]*H2[3,6,-3]*U_phy[-2,4,5,6];\n",
    "    end\n",
    "\n",
    "    return H1,H2 \n",
    "end\n"
   ]
  },
  {
   "cell_type": "code",
   "execution_count": 8,
   "metadata": {},
   "outputs": [
    {
     "data": {
      "text/plain": [
       "evaluate_correl_spinspin (generic function with 1 method)"
      ]
     },
     "metadata": {},
     "output_type": "display_data"
    }
   ],
   "source": [
    "function evaluate_correl_spinspin(direction, AA_fused, AA_op1, AA_op2, CTM, method, distance)\n",
    "    correl_funs=Vector(undef,distance);\n",
    "\n",
    "    C1=CTM[\"Cset\"][1];\n",
    "    C2=CTM[\"Cset\"][2];\n",
    "    C3=CTM[\"Cset\"][3];\n",
    "    C4=CTM[\"Cset\"][4];\n",
    "    T1=CTM[\"Tset\"][1];\n",
    "    T2=CTM[\"Tset\"][2];\n",
    "    T3=CTM[\"Tset\"][3];\n",
    "    T4=CTM[\"Tset\"][4];\n",
    "    if method==\"dimerdimer\"#operator on a single site conserves su2 symmetry\n",
    "        if direction==\"x\"\n",
    "            @tensor va[:]:=C1[1,3]*T4[2,5,1]*C4[7,2]*T1[3,4,-1]*AA_op1[5,6,-2,4]*T3[-3,6,7];\n",
    "            @tensor vb[:]:=T1[-1,4,3]*AA_op2[-2,6,5,4]*T3[7,6,-3]*C2[3,1]*T2[1,5,2]*C3[2,7];\n",
    "            @tensor ov[:]:=va[1,2,3]*vb[1,2,3]\n",
    "            correl_funs[1]=blocks(ov)[Irrep[SU₂](0)][1];\n",
    "            \n",
    "            for dis=2:distance\n",
    "                @tensor va[:]:=va[1,3,5]*T1[1,2,-1]*AA_fused[3,4,-2,2]*T3[-3,4,5];\n",
    "                @tensor ov[:]:=va[1,2,3]*vb[1,2,3]\n",
    "                correl_funs[dis]=blocks(ov)[Irrep[SU₂](0)][1];\n",
    "            end\n",
    "            return correl_funs\n",
    "        end\n",
    "    elseif method==\"spinspin\" #operator on a single site breaks su2 symmetry, so there is an extra index obtained from svd of two-site operator\n",
    "        if direction==\"x\"\n",
    "            @tensor va[:]:=C1[1,3]*T4[2,5,1]*C4[7,2]*T1[3,4,-1]*AA_op1[5,6,-2,4,-4]*T3[-3,6,7];\n",
    "            @tensor vb[:]:=T1[-1,4,3]*AA_op2[-2,6,5,4,-4]*T3[7,6,-3]*C2[3,1]*T2[1,5,2]*C3[2,7];\n",
    "            @tensor ov[:]:=va[1,2,3,4]*vb[1,2,3,4]\n",
    "            correl_funs[1]=blocks(ov)[Irrep[SU₂](0)][1];\n",
    "            \n",
    "            for dis=2:distance\n",
    "                @tensor va[:]:=va[1,3,5,-4]*T1[1,2,-1]*AA_fused[3,4,-2,2]*T3[-3,4,5];\n",
    "                @tensor ov[:]:=va[1,2,3,4]*vb[1,2,3,4]\n",
    "                correl_funs[dis]=blocks(ov)[Irrep[SU₂](0)][1];\n",
    "            end\n",
    "            return correl_funs\n",
    "        end\n",
    "    end\n",
    "end\n"
   ]
  },
  {
   "cell_type": "code",
   "execution_count": 9,
   "metadata": {},
   "outputs": [
    {
     "ename": "UndefVarError",
     "evalue": "UndefVarError: U_phy not defined",
     "output_type": "error",
     "traceback": [
      "UndefVarError: U_phy not defined\n",
      "\n",
      "Stacktrace:\n",
      " [1] top-level scope\n",
      "   @ d:\\My Documents\\Code\\Julia_codes\\Tensor network\\IPEPS_TensorKit\\kagome\\SU2_PG\\test_correl.ipynb:2"
     ]
    }
   ],
   "source": [
    "#(direction,parameters, U_phy, A_unfused, A_fused, AA_fused, U_L,U_D,U_R,U_U, CTM)\n",
    "_, _, SS12, SS31, SS23=Hamiltonians(U_phy,1,0,0,0,0);\n",
    "S1L,S1R=single_spin_operator(U_phy,1,1);\n",
    "S2L,S2R=single_spin_operator(U_phy,2,2);\n",
    "S3L,S3R=single_spin_operator(U_phy,3,3);\n",
    "AA_S1L,_,_,_,_=build_double_layer_extra_leg(A_fused,S1L);\n",
    "AA_S1R,_,_,_,_=build_double_layer_extra_leg(A_fused,S1R);\n",
    "AA_S2L,_,_,_,_=build_double_layer_extra_leg(A_fused,S2L);\n",
    "AA_S2R,_,_,_,_=build_double_layer_extra_leg(A_fused,S2R);\n",
    "AA_S3L,_,_,_,_=build_double_layer_extra_leg(A_fused,S3L);\n",
    "AA_S3R,_,_,_,_=build_double_layer_extra_leg(A_fused,S3R);\n",
    "\n",
    "AA_SS12, _,_,_,_=build_double_layer(A_fused,SS12);\n",
    "AA_SS31, _,_,_,_=build_double_layer(A_fused,SS31);\n",
    "AA_SS23, _,_,_,_=build_double_layer(A_fused,SS23);\n",
    "\n",
    "\n"
   ]
  },
  {
   "cell_type": "code",
   "execution_count": 10,
   "metadata": {},
   "outputs": [
    {
     "ename": "UndefVarError",
     "evalue": "UndefVarError: AA_fused not defined",
     "output_type": "error",
     "traceback": [
      "UndefVarError: AA_fused not defined\n",
      "\n",
      "Stacktrace:\n",
      " [1] top-level scope\n",
      "   @ d:\\My Documents\\Code\\Julia_codes\\Tensor network\\IPEPS_TensorKit\\kagome\\SU2_PG\\test_correl.ipynb:2"
     ]
    }
   ],
   "source": [
    "distance=100;\n",
    "norms=evaluate_correl_spinspin(\"x\", AA_fused, AA_fused, AA_fused, CTM, \"dimerdimer\", 10);\n",
    "norm_coe=norms[5]/norms[4] #get a rough normalization coefficient to avoid that the number becomes two small\n",
    "norms=evaluate_correl_spinspin(\"x\", AA_fused/norm_coe, AA_fused, AA_fused, CTM, \"dimerdimer\", distance);\n",
    "SS12_ob=evaluate_correl_spinspin(\"x\", AA_fused/norm_coe, AA_SS12, AA_SS12, CTM, \"dimerdimer\", distance);\n",
    "SS23_ob=evaluate_correl_spinspin(\"x\", AA_fused/norm_coe, AA_SS23, AA_SS23, CTM, \"dimerdimer\", distance);\n",
    "SS31_ob=evaluate_correl_spinspin(\"x\", AA_fused/norm_coe, AA_SS12, AA_SS31, CTM, \"dimerdimer\", distance);\n",
    "S1_ob=evaluate_correl_spinspin(\"x\", AA_fused/norm_coe, AA_S1L, AA_S1R, CTM, \"spinspin\", distance);\n",
    "S2_ob=evaluate_correl_spinspin(\"x\", AA_fused/norm_coe, AA_S2L, AA_S2R, CTM, \"spinspin\", distance);\n",
    "S3_ob=evaluate_correl_spinspin(\"x\", AA_fused/norm_coe, AA_S3L, AA_S3R, CTM, \"spinspin\", distance);"
   ]
  },
  {
   "cell_type": "code",
   "execution_count": 11,
   "metadata": {},
   "outputs": [
    {
     "ename": "UndefVarError",
     "evalue": "UndefVarError: SS12_ob not defined",
     "output_type": "error",
     "traceback": [
      "UndefVarError: SS12_ob not defined\n",
      "\n",
      "Stacktrace:\n",
      " [1] top-level scope\n",
      "   @ d:\\My Documents\\Code\\Julia_codes\\Tensor network\\IPEPS_TensorKit\\kagome\\SU2_PG\\test_correl.ipynb:1"
     ]
    }
   ],
   "source": [
    "SS12_ob=SS12_ob./norms;\n",
    "SS23_ob=SS23_ob./norms;\n",
    "SS31_ob=SS31_ob./norms;\n",
    "S1_ob=S1_ob./norms;\n",
    "S2_ob=S2_ob./norms;\n",
    "S3_ob=S3_ob./norms;\n"
   ]
  },
  {
   "cell_type": "code",
   "execution_count": 12,
   "metadata": {},
   "outputs": [
    {
     "data": {
      "text/plain": [
       "solve_correl_length (generic function with 1 method)"
      ]
     },
     "metadata": {},
     "output_type": "display_data"
    }
   ],
   "source": [
    "function correl_TrabsOp(vl,Tup,Tdown,AAfused,direction)\n",
    "    if AAfused==[]\n",
    "        if direction==\"x\"\n",
    "            @tensor vl[:]:=vl[-1,1,3]*Tup[1,2,-2]*Tdown[-3,2,3];\n",
    "        end\n",
    "    else\n",
    "        if direction==\"x\"\n",
    "            @tensor vl[:]:=vl[-1,1,3,5]*Tup[1,2,-2]*AAfused[3,4,-3,2]*Tdown[-4,4,5];\n",
    "        end\n",
    "    end\n",
    "    return vl\n",
    "end\n",
    "function solve_correl_length(n_values,AA_fused,CTM,direction)\n",
    "    T1=CTM[\"Tset\"][1];\n",
    "    T2=CTM[\"Tset\"][2];\n",
    "    T3=CTM[\"Tset\"][3];\n",
    "    T4=CTM[\"Tset\"][4];\n",
    "    if direction==\"x\"\n",
    "        correl_TrabsOp_f(x)=correl_TrabsOp(x,T1,T3,AA_fused,direction)\n",
    "        vl_init = permute(TensorMap(randn, SU₂Space(0=>1)⊗space(T1,1)'⊗space(AA_fused,1)', space(T3,3)), (1,2,3,4,),());# assume that the dominant eigenvector has total spin zero. If not, it will have three indeces and it's not Hermiitan.\n",
    "        eu,ev=eigsolve(correl_TrabsOp_f, vl_init, n_values,:LM,Arnoldi());\n",
    "        eu_S0=eu;\n",
    "\n",
    "        eu_allspin=eu_S0;\n",
    "        allspin=eu_S0*0;\n",
    "        vl_init = permute(TensorMap(randn, SU₂Space(1/2=>1)⊗space(T1,1)'⊗space(AA_fused,1)', space(T3,3)), (1,2,3,4,),());# assume that the dominant eigenvector has total spin zero. If not, it will have three indeces and it's not Hermiitan.\n",
    "        if norm(vl_init)>0\n",
    "            eu_S0d5,_=eigsolve(correl_TrabsOp_f, vl_init, n_values,:LM,Arnoldi());\n",
    "            eu_allspin=vcat(eu_allspin,eu_S0d5)\n",
    "            allspin=vcat(allspin,0*eu_S0d5.+0.5)\n",
    "        end\n",
    "\n",
    "        vl_init = permute(TensorMap(randn, SU₂Space(1=>1)⊗space(T1,1)'⊗space(AA_fused,1)', space(T3,3)), (1,2,3,4,),());# assume that the dominant eigenvector has total spin zero. If not, it will have three indeces and it's not Hermiitan.\n",
    "        if norm(vl_init)>0\n",
    "            eu_S1,_=eigsolve(correl_TrabsOp_f, vl_init, n_values,:LM,Arnoldi());\n",
    "            eu_allspin=vcat(eu_allspin,eu_S1)\n",
    "            allspin=vcat(allspin,0*eu_S1.+1)\n",
    "        end\n",
    "\n",
    "        vl_init = permute(TensorMap(randn, SU₂Space(3/2=>1)⊗space(T1,1)'⊗space(AA_fused,1)', space(T3,3)), (1,2,3,4,),());# assume that the dominant eigenvector has total spin zero. If not, it will have three indeces and it's not Hermiitan.\n",
    "        if norm(vl_init)>0\n",
    "            eu_S1d5,_=eigsolve(correl_TrabsOp_f, vl_init, n_values,:LM,Arnoldi());\n",
    "            eu_allspin=vcat(eu_allspin,eu_S1d5)\n",
    "            allspin=vcat(allspin,0*eu_S1d5.+1.5)\n",
    "        end\n",
    "\n",
    "        vl_init = permute(TensorMap(randn, SU₂Space(2=>1)⊗space(T1,1)'⊗space(AA_fused,1)', space(T3,3)), (1,2,3,4,),());# assume that the dominant eigenvector has total spin zero. If not, it will have three indeces and it's not Hermiitan.\n",
    "        if norm(vl_init)>0\n",
    "            eu_S2,_=eigsolve(correl_TrabsOp_f, vl_init, n_values,:LM,Arnoldi());\n",
    "            eu_allspin=vcat(eu_allspin,eu_S2)\n",
    "            allspin=vcat(allspin,0*eu_S2.+2)\n",
    "        end\n",
    "\n",
    "        eu_allspin_abs=abs.(eu_allspin);\n",
    "        @assert maximum(eu_allspin_abs)==eu_allspin_abs[1]\n",
    "\n",
    "        eu_allspin_abs_sorted=sort(eu_allspin_abs,rev=true);\n",
    "        eu_allspin_abs_sorted=eu_allspin_abs_sorted/eu_allspin_abs_sorted[1];\n",
    "        allspin=allspin[sortperm(eu_allspin_abs,rev=true)]\n",
    "\n",
    "        \n",
    "        return eu_allspin_abs_sorted,allspin\n",
    "    end\n",
    "end\n"
   ]
  },
  {
   "cell_type": "code",
   "execution_count": 13,
   "metadata": {},
   "outputs": [
    {
     "ename": "UndefVarError",
     "evalue": "UndefVarError: AA_fused not defined",
     "output_type": "error",
     "traceback": [
      "UndefVarError: AA_fused not defined\n",
      "\n",
      "Stacktrace:\n",
      " [1] top-level scope\n",
      "   @ d:\\My Documents\\Code\\Julia_codes\\Tensor network\\IPEPS_TensorKit\\kagome\\SU2_PG\\test_correl.ipynb:1"
     ]
    }
   ],
   "source": [
    "eu_allspin,allspin=solve_correl_length(5,AA_fused/norm_coe,CTM,\"x\");\n",
    "display(eu_allspin)\n",
    "display(allspin)"
   ]
  }
 ],
 "metadata": {
  "kernelspec": {
   "display_name": "Julia 1.7.2",
   "language": "julia",
   "name": "julia-1.7"
  },
  "language_info": {
   "file_extension": ".jl",
   "mimetype": "application/julia",
   "name": "julia",
   "version": "1.7.2"
  },
  "orig_nbformat": 4
 },
 "nbformat": 4,
 "nbformat_minor": 2
}
